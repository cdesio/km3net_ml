{
 "cells": [
  {
   "cell_type": "code",
   "execution_count": 1,
   "metadata": {
    "collapsed": true
   },
   "outputs": [],
   "source": [
    "import numpy as np"
   ]
  },
  {
   "cell_type": "code",
   "execution_count": 4,
   "metadata": {
    "collapsed": true
   },
   "outputs": [],
   "source": [
    "unique_numu_files_60 = np.array([ 0,  1,  2,  3,  4,  5,  6,  7,  8, 10, 11, 12, 13, 14, 15, 16, 17,\n",
    "       20, 21, 22, 23, 25, 26, 27, 28, 30, 33, 35, 36, 37, 38, 40, 41, 42,\n",
    "       43, 45, 47, 48, 51, 53, 54, 55, 56, 58, 61, 66, 67, 68, 70, 73, 75,\n",
    "       76, 77, 78, 80, 82, 84, 87, 92, 94])\n",
    "\n",
    "unique_nue_files_60 = np.array([ 0,  1,  2,  3,  4,  5,  6,  7,  8, 10, 11, 12, 13, 15, 16, 17, 18,\n",
    "       20, 21, 22, 24, 25, 26, 27, 28, 30, 31, 33, 34, 35, 36, 37, 38, 40,\n",
    "       41, 43, 44, 45, 46, 47, 51, 52, 54, 55, 56, 58, 60, 61, 64, 65, 67,\n",
    "       70, 71, 72, 75, 80, 82, 83, 84, 85])"
   ]
  },
  {
   "cell_type": "code",
   "execution_count": 2,
   "metadata": {
    "collapsed": true
   },
   "outputs": [],
   "source": [
    "fnames_numu =[]\n",
    "fnames_nue = []\n",
    "for i in range(1,101):\n",
    "    fnames_numu.append(\"aafiles/numu_files/Xy_numu_\"+str(i)+\"_sel5_doms.npz\")\n",
    "    fnames_nue.append(\"aafiles/nue_files/Xy_nue_\"+str(i)+\"_sel5_doms.npz\")"
   ]
  },
  {
   "cell_type": "code",
   "execution_count": 3,
   "metadata": {
    "collapsed": true
   },
   "outputs": [],
   "source": [
    "fnames_numu = np.asarray(fnames_numu)"
   ]
  },
  {
   "cell_type": "code",
   "execution_count": 5,
   "metadata": {
    "collapsed": true
   },
   "outputs": [],
   "source": [
    "good_fnames_numu = fnames_numu[unique_numu_files_60]"
   ]
  },
  {
   "cell_type": "code",
   "execution_count": 6,
   "metadata": {
    "collapsed": true
   },
   "outputs": [],
   "source": [
    "fnames_nue = np.asarray(fnames_nue)"
   ]
  },
  {
   "cell_type": "code",
   "execution_count": 7,
   "metadata": {
    "collapsed": true
   },
   "outputs": [],
   "source": [
    "good_fnames_nue = fnames_nue[unique_nue_files_60]"
   ]
  },
  {
   "cell_type": "code",
   "execution_count": 8,
   "metadata": {},
   "outputs": [
    {
     "name": "stdout",
     "output_type": "stream",
     "text": [
      "((60,), (60,))\n"
     ]
    }
   ],
   "source": [
    "print(good_fnames_numu.shape, good_fnames_nue.shape)"
   ]
  },
  {
   "cell_type": "code",
   "execution_count": 52,
   "metadata": {},
   "outputs": [
    {
     "data": {
      "text/plain": [
       "<module 'export_train_test' from 'export_train_test.py'>"
      ]
     },
     "execution_count": 52,
     "metadata": {},
     "output_type": "execute_result"
    }
   ],
   "source": [
    "import export_train_test\n",
    "reload(export_train_test)"
   ]
  },
  {
   "cell_type": "code",
   "execution_count": null,
   "metadata": {
    "collapsed": true
   },
   "outputs": [],
   "source": []
  },
  {
   "cell_type": "code",
   "execution_count": 44,
   "metadata": {
    "collapsed": true
   },
   "outputs": [],
   "source": [
    "for i in range(60):\n",
    "    export_train_test.export_train_test(i,fname_numu=good_fnames_numu[i], fname_nue = good_fnames_nue[i])"
   ]
  },
  {
   "cell_type": "code",
   "execution_count": 42,
   "metadata": {},
   "outputs": [],
   "source": [
    "fnames_train = [\"train_test_files/Xy_train\"+str(i+1)+\"_sel5_doms\"+\".npz\" for i in range(0,60)]\n",
    "fnames_test = [\"train_test_files/Xy_test\"+str(i+1)+\"_sel5_doms\"+\".npz\" for i in range(0,60)]"
   ]
  },
  {
   "cell_type": "code",
   "execution_count": 54,
   "metadata": {
    "scrolled": true
   },
   "outputs": [
    {
     "name": "stdout",
     "output_type": "stream",
     "text": [
      "(2044, 211680)\n",
      "train_test_files/Xy_train1_sel5_doms.npz\n",
      "(2109, 211680)\n",
      "train_test_files/Xy_train2_sel5_doms.npz\n",
      "(2124, 211680)\n",
      "train_test_files/Xy_train3_sel5_doms.npz\n",
      "(2068, 211680)\n",
      "train_test_files/Xy_train4_sel5_doms.npz\n",
      "(2081, 211680)\n",
      "train_test_files/Xy_train5_sel5_doms.npz\n",
      "(2096, 211680)\n",
      "train_test_files/Xy_train6_sel5_doms.npz\n",
      "(2053, 211680)\n",
      "train_test_files/Xy_train7_sel5_doms.npz\n",
      "(2093, 211680)\n",
      "train_test_files/Xy_train8_sel5_doms.npz\n",
      "(2138, 211680)\n",
      "train_test_files/Xy_train9_sel5_doms.npz\n",
      "(2097, 211680)\n",
      "train_test_files/Xy_train10_sel5_doms.npz\n",
      "(2132, 211680)\n",
      "train_test_files/Xy_train11_sel5_doms.npz\n",
      "(1980, 211680)\n",
      "train_test_files/Xy_train12_sel5_doms.npz\n",
      "(1998, 211680)\n",
      "train_test_files/Xy_train13_sel5_doms.npz\n",
      "(2085, 211680)\n",
      "train_test_files/Xy_train14_sel5_doms.npz\n",
      "(2089, 211680)\n",
      "train_test_files/Xy_train15_sel5_doms.npz\n",
      "(2084, 211680)\n",
      "train_test_files/Xy_train16_sel5_doms.npz\n",
      "(2056, 211680)\n",
      "train_test_files/Xy_train17_sel5_doms.npz\n",
      "(2104, 211680)\n",
      "train_test_files/Xy_train18_sel5_doms.npz\n",
      "(2080, 211680)\n",
      "train_test_files/Xy_train19_sel5_doms.npz\n",
      "(2085, 211680)\n",
      "train_test_files/Xy_train20_sel5_doms.npz\n",
      "(2032, 211680)\n",
      "train_test_files/Xy_train21_sel5_doms.npz\n",
      "(2095, 211680)\n",
      "train_test_files/Xy_train22_sel5_doms.npz\n",
      "(2073, 211680)\n",
      "train_test_files/Xy_train23_sel5_doms.npz\n",
      "(2068, 211680)\n",
      "train_test_files/Xy_train24_sel5_doms.npz\n",
      "(2074, 211680)\n",
      "train_test_files/Xy_train25_sel5_doms.npz\n",
      "(2117, 211680)\n",
      "train_test_files/Xy_train26_sel5_doms.npz\n",
      "(2080, 211680)\n",
      "train_test_files/Xy_train27_sel5_doms.npz\n",
      "(2069, 211680)\n",
      "train_test_files/Xy_train28_sel5_doms.npz\n",
      "(2114, 211680)\n",
      "train_test_files/Xy_train29_sel5_doms.npz\n",
      "(2063, 211680)\n",
      "train_test_files/Xy_train30_sel5_doms.npz\n",
      "(2146, 211680)\n",
      "train_test_files/Xy_train31_sel5_doms.npz\n",
      "(2174, 211680)\n",
      "train_test_files/Xy_train32_sel5_doms.npz\n",
      "(2051, 211680)\n",
      "train_test_files/Xy_train33_sel5_doms.npz\n",
      "(2152, 211680)\n",
      "train_test_files/Xy_train34_sel5_doms.npz\n",
      "(2068, 211680)\n",
      "train_test_files/Xy_train35_sel5_doms.npz\n",
      "(2080, 211680)\n",
      "train_test_files/Xy_train36_sel5_doms.npz\n",
      "(2173, 211680)\n",
      "train_test_files/Xy_train37_sel5_doms.npz\n",
      "(2088, 211680)\n",
      "train_test_files/Xy_train38_sel5_doms.npz\n",
      "(2055, 211680)\n",
      "train_test_files/Xy_train39_sel5_doms.npz\n",
      "(2084, 211680)\n",
      "train_test_files/Xy_train40_sel5_doms.npz\n",
      "(2046, 211680)\n",
      "train_test_files/Xy_train41_sel5_doms.npz\n",
      "(2064, 211680)\n",
      "train_test_files/Xy_train42_sel5_doms.npz\n",
      "(2056, 211680)\n",
      "train_test_files/Xy_train43_sel5_doms.npz\n",
      "(2066, 211680)\n",
      "train_test_files/Xy_train44_sel5_doms.npz\n",
      "(2131, 211680)\n",
      "train_test_files/Xy_train45_sel5_doms.npz\n",
      "(2108, 211680)\n",
      "train_test_files/Xy_train46_sel5_doms.npz\n",
      "(2102, 211680)\n",
      "train_test_files/Xy_train47_sel5_doms.npz\n",
      "(2106, 211680)\n",
      "train_test_files/Xy_train48_sel5_doms.npz\n",
      "(2131, 211680)\n",
      "train_test_files/Xy_train49_sel5_doms.npz\n",
      "(2056, 211680)\n",
      "train_test_files/Xy_train50_sel5_doms.npz\n",
      "(2056, 211680)\n",
      "train_test_files/Xy_train51_sel5_doms.npz\n",
      "(2170, 211680)\n",
      "train_test_files/Xy_train52_sel5_doms.npz\n",
      "(2076, 211680)\n",
      "train_test_files/Xy_train53_sel5_doms.npz\n",
      "(2054, 211680)\n",
      "train_test_files/Xy_train54_sel5_doms.npz\n",
      "(2127, 211680)\n",
      "train_test_files/Xy_train55_sel5_doms.npz\n",
      "(2074, 211680)\n",
      "train_test_files/Xy_train56_sel5_doms.npz\n",
      "(2060, 211680)\n",
      "train_test_files/Xy_train57_sel5_doms.npz\n",
      "(2039, 211680)\n",
      "train_test_files/Xy_train58_sel5_doms.npz\n",
      "(2088, 211680)\n",
      "train_test_files/Xy_train59_sel5_doms.npz\n",
      "(2091, 211680)\n",
      "train_test_files/Xy_train60_sel5_doms.npz\n",
      "Xy_train1_sel5_doms_norm.npz\n",
      "Xy_train2_sel5_doms_norm.npz\n",
      "Xy_train3_sel5_doms_norm.npz\n",
      "Xy_train4_sel5_doms_norm.npz\n",
      "Xy_train5_sel5_doms_norm.npz\n",
      "Xy_train6_sel5_doms_norm.npz\n",
      "Xy_train7_sel5_doms_norm.npz\n",
      "Xy_train8_sel5_doms_norm.npz\n",
      "Xy_train9_sel5_doms_norm.npz\n",
      "Xy_train10_sel5_doms_norm.npz\n",
      "Xy_train11_sel5_doms_norm.npz\n",
      "Xy_train12_sel5_doms_norm.npz\n",
      "Xy_train13_sel5_doms_norm.npz\n",
      "Xy_train14_sel5_doms_norm.npz\n",
      "Xy_train15_sel5_doms_norm.npz\n",
      "Xy_train16_sel5_doms_norm.npz\n",
      "Xy_train17_sel5_doms_norm.npz\n",
      "Xy_train18_sel5_doms_norm.npz\n",
      "Xy_train19_sel5_doms_norm.npz\n",
      "Xy_train20_sel5_doms_norm.npz\n",
      "Xy_train21_sel5_doms_norm.npz\n",
      "Xy_train22_sel5_doms_norm.npz\n",
      "Xy_train23_sel5_doms_norm.npz\n",
      "Xy_train24_sel5_doms_norm.npz\n",
      "Xy_train25_sel5_doms_norm.npz\n",
      "Xy_train26_sel5_doms_norm.npz\n",
      "Xy_train27_sel5_doms_norm.npz\n",
      "Xy_train28_sel5_doms_norm.npz\n",
      "Xy_train29_sel5_doms_norm.npz\n",
      "Xy_train30_sel5_doms_norm.npz\n",
      "Xy_train31_sel5_doms_norm.npz\n",
      "Xy_train32_sel5_doms_norm.npz\n",
      "Xy_train33_sel5_doms_norm.npz\n",
      "Xy_train34_sel5_doms_norm.npz\n",
      "Xy_train35_sel5_doms_norm.npz\n",
      "Xy_train36_sel5_doms_norm.npz\n",
      "Xy_train37_sel5_doms_norm.npz\n",
      "Xy_train38_sel5_doms_norm.npz\n",
      "Xy_train39_sel5_doms_norm.npz\n",
      "Xy_train40_sel5_doms_norm.npz\n",
      "Xy_train41_sel5_doms_norm.npz\n",
      "Xy_train42_sel5_doms_norm.npz\n",
      "Xy_train43_sel5_doms_norm.npz\n",
      "Xy_train44_sel5_doms_norm.npz\n",
      "Xy_train45_sel5_doms_norm.npz\n",
      "Xy_train46_sel5_doms_norm.npz\n",
      "Xy_train47_sel5_doms_norm.npz\n",
      "Xy_train48_sel5_doms_norm.npz\n",
      "Xy_train49_sel5_doms_norm.npz\n",
      "Xy_train50_sel5_doms_norm.npz\n",
      "Xy_train51_sel5_doms_norm.npz\n",
      "Xy_train52_sel5_doms_norm.npz\n",
      "Xy_train53_sel5_doms_norm.npz\n",
      "Xy_train54_sel5_doms_norm.npz\n",
      "Xy_train55_sel5_doms_norm.npz\n",
      "Xy_train56_sel5_doms_norm.npz\n",
      "Xy_train57_sel5_doms_norm.npz\n",
      "Xy_train58_sel5_doms_norm.npz\n",
      "Xy_train59_sel5_doms_norm.npz\n",
      "Xy_train60_sel5_doms_norm.npz\n"
     ]
    }
   ],
   "source": [
    "import export_train_test\n",
    "reload(export_train_test)\n",
    "export_train_test.normalize_train_test_data(fnames_train, fnames_test)"
   ]
  },
  {
   "cell_type": "code",
   "execution_count": 107,
   "metadata": {},
   "outputs": [],
   "source": [
    "def get_n_iterations(fnames_list, batch_size=64):\n",
    "    a=[]\n",
    "    for fil in fnames_list:\n",
    "        \n",
    "        yf = np.load(fil)[\"y\"]\n",
    "        if(yf.shape[0]%batch_size!=0):\n",
    "            #print(yf.shape[0], yf.shape[0]/batch_size +1)\n",
    "            a.append((yf.shape[0], yf.shape[0]/batch_size +1))\n",
    "        else:\n",
    "            #print(yf.shape[0], yf.shape[0]/batch_size)\n",
    "            a.append((yf.shape[0], yf.shape[0]/batch_size))\n",
    "    g= np.asarray(a)\n",
    "    #print(np.sum(g[:,0]))\n",
    "    iterations = np.sum(g[:,1])   \n",
    "    return iterations"
   ]
  },
  {
   "cell_type": "code",
   "execution_count": 108,
   "metadata": {},
   "outputs": [
    {
     "name": "stdout",
     "output_type": "stream",
     "text": [
      "534\n"
     ]
    }
   ],
   "source": [
    "it_test_64 = get_n_iterations(fnames_test, 64)\n",
    "print(it_test_64)"
   ]
  },
  {
   "cell_type": "code",
   "execution_count": 109,
   "metadata": {},
   "outputs": [
    {
     "name": "stdout",
     "output_type": "stream",
     "text": [
      "1986\n"
     ]
    }
   ],
   "source": [
    "it_train_64 = get_n_iterations(fnames_train, 64)\n",
    "print(it_train_64)"
   ]
  },
  {
   "cell_type": "code",
   "execution_count": null,
   "metadata": {
    "collapsed": true
   },
   "outputs": [],
   "source": []
  }
 ],
 "metadata": {
  "kernelspec": {
   "display_name": "Python 2",
   "language": "python",
   "name": "python2"
  },
  "language_info": {
   "codemirror_mode": {
    "name": "ipython",
    "version": 2
   },
   "file_extension": ".py",
   "mimetype": "text/x-python",
   "name": "python",
   "nbconvert_exporter": "python",
   "pygments_lexer": "ipython2",
   "version": "2.7.9"
  }
 },
 "nbformat": 4,
 "nbformat_minor": 2
}
