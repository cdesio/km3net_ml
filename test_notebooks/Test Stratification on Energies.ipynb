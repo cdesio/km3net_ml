{
 "cells": [
  {
   "cell_type": "code",
   "execution_count": 1,
   "metadata": {
    "collapsed": true
   },
   "outputs": [],
   "source": [
    "import numpy as np\n",
    "import os"
   ]
  },
  {
   "cell_type": "code",
   "execution_count": 2,
   "metadata": {
    "collapsed": true
   },
   "outputs": [],
   "source": [
    "train_test_folder = os.path.abspath('./cosz')\n",
    "index_files = [os.path.join(train_test_folder, \"Xy_indx{}_sel5_doms.npz\".format(i+1)) for i in range(100)]\n",
    "\n",
    "dir_xy = os.path.join(\"/\", \"data\", \"km3net\", \"Xy_multi_data_files\")\n",
    "xy_filelist = [(os.path.join(dir_xy, \"Xy_numu_{}_multi_data.npz\".format(i+1)), \n",
    "                os.path.join(dir_xy, \"Xy_nue_{}_multi_data.npz\".format(i+1))) for i in range(100)]\n",
    "metadata_keylist = [\"E\", \"dirx\", \"diry\", \"dirz\", \"posx\",\"posy\",\"posz\", \"dist\"]"
   ]
  },
  {
   "cell_type": "code",
   "execution_count": 3,
   "metadata": {},
   "outputs": [
    {
     "data": {
      "text/plain": [
       "(True, True)"
      ]
     },
     "execution_count": 3,
     "metadata": {},
     "output_type": "execute_result"
    }
   ],
   "source": [
    "os.path.exists(index_files[0]), os.path.exists(xy_filelist[0][0])"
   ]
  },
  {
   "cell_type": "code",
   "execution_count": 4,
   "metadata": {
    "collapsed": true
   },
   "outputs": [],
   "source": [
    "from generators import get_n_iterations, metadata_generator"
   ]
  },
  {
   "cell_type": "code",
   "execution_count": 5,
   "metadata": {
    "collapsed": true
   },
   "outputs": [],
   "source": [
    "from export_train_test import INDEX_TEST_KEY, INDEX_TRAINING_KEY, INDEX_VALIDATION_KEY"
   ]
  },
  {
   "cell_type": "code",
   "execution_count": 12,
   "metadata": {
    "collapsed": true
   },
   "outputs": [],
   "source": [
    "from tqdm import tqdm\n",
    "import pandas as pd"
   ]
  },
  {
   "cell_type": "code",
   "execution_count": 24,
   "metadata": {},
   "outputs": [
    {
     "name": "stderr",
     "output_type": "stream",
     "text": [
      "  9%|▊         | 56/648 [00:00<00:01, 559.82it/s]"
     ]
    },
    {
     "name": "stdout",
     "output_type": "stream",
     "text": [
      "(648, 41451)\n"
     ]
    },
    {
     "name": "stderr",
     "output_type": "stream",
     "text": [
      "100%|██████████| 648/648 [00:01<00:00, 537.16it/s]\n"
     ]
    }
   ],
   "source": [
    "metadata = None\n",
    "it_steps, n_events = get_n_iterations(index_files, batch_size=64, target_key=INDEX_VALIDATION_KEY)\n",
    "print(it_steps, n_events)\n",
    "\n",
    "metadata_gen  = metadata_generator(index_files, xy_filelist, metadata_keylist)\n",
    "for i in tqdm(range(it_steps)):\n",
    "    metadata_batch = next(metadata_gen)\n",
    "    if metadata is None:\n",
    "        metadata = metadata_batch\n",
    "    else:\n",
    "        metadata = pd.concat((metadata, metadata_batch))"
   ]
  },
  {
   "cell_type": "code",
   "execution_count": 25,
   "metadata": {},
   "outputs": [
    {
     "data": {
      "text/plain": [
       "(41472, 10)"
      ]
     },
     "execution_count": 25,
     "metadata": {},
     "output_type": "execute_result"
    }
   ],
   "source": [
    "metadata.shape"
   ]
  },
  {
   "cell_type": "code",
   "execution_count": 36,
   "metadata": {
    "collapsed": true
   },
   "outputs": [],
   "source": [
    "def stratify_on_energies(E):\n",
    "    logE = np.log10(E)\n",
    "    minE, maxE = np.min(logE), np.max(logE)\n",
    "    BIN_EDGES = sorted([minE, 1.0, 2.8, 3.5, 4.0, 7.0, maxE+0.1])\n",
    "    hist, _ = np.histogram(logE, bins=np.asarray(BIN_EDGES))\n",
    "    no_split_indx = (np.where(hist < 2)[0]) + 1  #\n",
    "    BIN_EDGES = sorted([edge for idx, edge in enumerate(BIN_EDGES) if idx not in no_split_indx])\n",
    "    assert np.all(np.histogram(logE, bins=np.asarray(BIN_EDGES))[0] > 1)\n",
    "    return np.digitize(logE, np.asarray(BIN_EDGES))"
   ]
  },
  {
   "cell_type": "code",
   "execution_count": 27,
   "metadata": {
    "collapsed": true
   },
   "outputs": [],
   "source": [
    "test_strat = stratify_on_energies(metadata['E'].as_matrix())"
   ]
  },
  {
   "cell_type": "code",
   "execution_count": 28,
   "metadata": {},
   "outputs": [
    {
     "data": {
      "text/plain": [
       "array([1, 2, 3, 4, 5, 6])"
      ]
     },
     "execution_count": 28,
     "metadata": {},
     "output_type": "execute_result"
    }
   ],
   "source": [
    "np.unique(test_strat)"
   ]
  },
  {
   "cell_type": "code",
   "execution_count": 29,
   "metadata": {
    "collapsed": true
   },
   "outputs": [],
   "source": [
    "from export_train_test import export_train_validation_test"
   ]
  },
  {
   "cell_type": "code",
   "execution_count": 38,
   "metadata": {},
   "outputs": [
    {
     "name": "stdout",
     "output_type": "stream",
     "text": [
      "('DIRZ: ', array([ 0.842471,  0.721094, -0.919277, ..., -0.018315, -0.248913,\n",
      "       -0.248913]))\n",
      "(2548,)\n",
      "('y: ', array([ 1.,  1.,  0., ...,  0.,  0.,  0.]))\n",
      "(2548,)\n",
      "('DIRZ: ', array([ 0.72128 ,  0.480404, -0.012188, ..., -0.567179,  0.755481,\n",
      "        0.210344]))\n",
      "(2038,)\n",
      "('y: ', array([ 1.,  1.,  0., ...,  0.,  1.,  1.]))\n",
      "(2038,)\n",
      "Export Complete 100\n"
     ]
    }
   ],
   "source": [
    "def process_cosz(dirz):\n",
    "    print('DIRZ: ', dirz)\n",
    "    print(dirz.shape)\n",
    "    y = np.copy(dirz)\n",
    "    y[y > 0] = 1\n",
    "    y[y <= 0] = 0\n",
    "    print('y: ', y)\n",
    "    print(y.shape)\n",
    "    return y\n",
    "    \n",
    "export_train_validation_test(i, xy_filelist[6][0], xy_filelist[6][1], out_dir=output_dir, target_key='dirz',\n",
    "                             stratify_key='dirz', fstratify=process_cosz)\n",
    "print('Export Complete {}'.format(i + 1))"
   ]
  },
  {
   "cell_type": "code",
   "execution_count": 35,
   "metadata": {},
   "outputs": [
    {
     "name": "stdout",
     "output_type": "stream",
     "text": [
      "(array([   3,  318,  676,  459, 1037,   55]), array([-0.37345229,  1.        ,  2.8       ,  3.5       ,  4.        ,\n",
      "        7.        ,  8.00893945]))\n",
      "(array([  2, 254, 541, 367, 830,  44]), array([-0.37345229,  1.        ,  2.8       ,  3.5       ,  4.        ,\n",
      "        7.        ,  8.00893945]))\n",
      "Export Complete 7\n"
     ]
    }
   ],
   "source": [
    "export_train_validation_test(i, xy_filelist[6][0], xy_filelist[6][1], out_dir=output_dir, target_key='dirx',\n",
    "                             stratify_key='E', fstratify=stratify_on_energies, ftarget=lambda E: np.log10(E))\n",
    "print('Export Complete {}'.format(i + 1))"
   ]
  },
  {
   "cell_type": "code",
   "execution_count": 37,
   "metadata": {},
   "outputs": [
    {
     "name": "stdout",
     "output_type": "stream",
     "text": [
      "Export Complete 8\n",
      "Export Complete 9\n",
      "Export Complete 10\n",
      "Export Complete 11\n",
      "Export Complete 12\n",
      "Export Complete 13\n",
      "Export Complete 14\n",
      "Export Complete 15\n",
      "Export Complete 16\n",
      "Export Complete 17\n",
      "Export Complete 18\n",
      "Export Complete 19\n",
      "Export Complete 20\n",
      "Export Complete 21\n",
      "Export Complete 22\n",
      "Export Complete 23\n",
      "Export Complete 24\n",
      "Export Complete 25\n",
      "Export Complete 26\n",
      "Export Complete 27\n",
      "Export Complete 28\n",
      "Export Complete 29\n",
      "Export Complete 30\n",
      "Export Complete 31\n",
      "Export Complete 32\n",
      "Export Complete 33\n",
      "Export Complete 34\n",
      "Export Complete 35\n",
      "Export Complete 36\n",
      "Export Complete 37\n",
      "Export Complete 38\n",
      "Export Complete 39\n",
      "Export Complete 40\n",
      "Export Complete 41\n",
      "Export Complete 42\n",
      "Export Complete 43\n",
      "Export Complete 44\n",
      "Export Complete 45\n",
      "Export Complete 46\n",
      "Export Complete 47\n",
      "Export Complete 48\n",
      "Export Complete 49\n",
      "Export Complete 50\n",
      "Export Complete 51\n",
      "Export Complete 52\n",
      "Export Complete 53\n",
      "Export Complete 54\n",
      "Export Complete 55\n",
      "Export Complete 56\n",
      "Export Complete 57\n",
      "Export Complete 58\n",
      "Export Complete 59\n",
      "Export Complete 60\n",
      "Export Complete 61\n",
      "Export Complete 62\n",
      "Export Complete 63\n",
      "Export Complete 64\n",
      "Export Complete 65\n",
      "Export Complete 66\n",
      "Export Complete 67\n",
      "Export Complete 68\n",
      "Export Complete 69\n",
      "Export Complete 70\n",
      "Export Complete 71\n",
      "Export Complete 72\n",
      "Export Complete 73\n",
      "Export Complete 74\n",
      "Export Complete 75\n",
      "Export Complete 76\n",
      "Export Complete 77\n",
      "Export Complete 78\n",
      "Export Complete 79\n",
      "Export Complete 80\n",
      "Export Complete 81\n",
      "Export Complete 82\n",
      "Export Complete 83\n",
      "Export Complete 84\n",
      "Export Complete 85\n",
      "Export Complete 86\n",
      "Export Complete 87\n",
      "Export Complete 88\n",
      "Export Complete 89\n",
      "Export Complete 90\n",
      "Export Complete 91\n",
      "Export Complete 92\n",
      "Export Complete 93\n",
      "Export Complete 94\n",
      "Export Complete 95\n",
      "Export Complete 96\n",
      "Export Complete 97\n",
      "Export Complete 98\n",
      "Export Complete 99\n",
      "Export Complete 100\n"
     ]
    }
   ],
   "source": [
    "output_dir = os.path.join('.', 'test_energy_strat')\n",
    "if not os.path.exists(output_dir):\n",
    "    os.makedirs(output_dir)\n",
    "    \n",
    "for i in range(7, 100):\n",
    "    export_train_validation_test(i, xy_filelist[i][0], xy_filelist[i][1], out_dir=output_dir, target_key='E',\n",
    "                                 stratify_key='E', fstratify=stratify_on_energies)\n",
    "    print('Export Complete {}'.format(i + 1))"
   ]
  },
  {
   "cell_type": "code",
   "execution_count": null,
   "metadata": {
    "collapsed": true
   },
   "outputs": [],
   "source": []
  }
 ],
 "metadata": {
  "kernelspec": {
   "display_name": "Python 2",
   "language": "python",
   "name": "python2"
  },
  "language_info": {
   "codemirror_mode": {
    "name": "ipython",
    "version": 2
   },
   "file_extension": ".py",
   "mimetype": "text/x-python",
   "name": "python",
   "nbconvert_exporter": "python",
   "pygments_lexer": "ipython2",
   "version": "2.7.6"
  }
 },
 "nbformat": 4,
 "nbformat_minor": 2
}
