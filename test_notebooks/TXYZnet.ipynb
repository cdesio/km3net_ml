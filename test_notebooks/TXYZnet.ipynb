{
 "cells": [
  {
   "cell_type": "code",
   "execution_count": 1,
   "metadata": {
    "collapsed": true
   },
   "outputs": [],
   "source": [
    "import numpy as np\n",
    "import os\n",
    "import pandas as pd"
   ]
  },
  {
   "cell_type": "code",
   "execution_count": 2,
   "metadata": {},
   "outputs": [
    {
     "name": "stderr",
     "output_type": "stream",
     "text": [
      "Using TensorFlow backend.\n"
     ]
    }
   ],
   "source": [
    "from network_models import train_neural_network, inference_step"
   ]
  },
  {
   "cell_type": "code",
   "execution_count": 3,
   "metadata": {
    "collapsed": true
   },
   "outputs": [],
   "source": [
    "from network_models import TXYZnet"
   ]
  },
  {
   "cell_type": "code",
   "execution_count": 4,
   "metadata": {},
   "outputs": [],
   "source": [
    "model = TXYZnet(num_classes=2)"
   ]
  },
  {
   "cell_type": "code",
   "execution_count": 5,
   "metadata": {},
   "outputs": [
    {
     "name": "stdout",
     "output_type": "stream",
     "text": [
      "_________________________________________________________________\n",
      "Layer (type)                 Output Shape              Param #   \n",
      "=================================================================\n",
      "txyz_input (InputLayer)      (None, 75, 1, 16, 15, 18) 0         \n",
      "_________________________________________________________________\n",
      "td_txyz_block1_conv1 (TimeDi (None, 75, 32, 16, 15, 18 55328     \n",
      "_________________________________________________________________\n",
      "td_txyz_block1_conv2 (TimeDi (None, 75, 32, 16, 15, 18 1769504   \n",
      "_________________________________________________________________\n",
      "td_txyz_block1_pool (TimeDis (None, 75, 32, 8, 8, 9)   0         \n",
      "_________________________________________________________________\n",
      "xy_squashing (Lambda)        (None, 75, 32, 9)         0         \n",
      "_________________________________________________________________\n",
      "permute_1 (Permute)          (None, 32, 75, 9)         0         \n",
      "_________________________________________________________________\n",
      "tz_block3_conv1 (Conv2D)     (None, 64, 75, 9)         294976    \n",
      "_________________________________________________________________\n",
      "tz_block3_conv2 (Conv2D)     (None, 64, 75, 9)         589888    \n",
      "_________________________________________________________________\n",
      "tz_block3_pool (AveragePooli (None, 64, 38, 5)         0         \n",
      "_________________________________________________________________\n",
      "tz_block4_conv2 (Conv2D)     (None, 128, 38, 5)        1179776   \n",
      "_________________________________________________________________\n",
      "tz_global_pool (GlobalAverag (None, 128)               0         \n",
      "_________________________________________________________________\n",
      "fc-1 (Dense)                 (None, 128)               16512     \n",
      "_________________________________________________________________\n",
      "prediction (Dense)           (None, 2)                 258       \n",
      "=================================================================\n",
      "Total params: 3,906,242\n",
      "Trainable params: 3,906,242\n",
      "Non-trainable params: 0\n",
      "_________________________________________________________________\n"
     ]
    }
   ],
   "source": [
    "model.summary()"
   ]
  },
  {
   "cell_type": "code",
   "execution_count": 6,
   "metadata": {},
   "outputs": [],
   "source": [
    "from multi_files_generator import data_generator, metadata_generator"
   ]
  },
  {
   "cell_type": "code",
   "execution_count": 7,
   "metadata": {
    "collapsed": true
   },
   "outputs": [],
   "source": [
    "from get_iterations import get_n_iterations, get_class_weights"
   ]
  },
  {
   "cell_type": "code",
   "execution_count": 8,
   "metadata": {
    "collapsed": true
   },
   "outputs": [],
   "source": [
    "train_test_dir = os.path.join(\"train_test_files\",\"cosz\")\n",
    "fnames_train =[os.path.join(train_test_dir, \"Xy_train{}_sel5_doms.npz\".format(i+1)) for i in range(100)]\n",
    "fnames_test =[os.path.join(train_test_dir, \"Xy_test{}_sel5_doms.npz\".format(i+1)) for i in range(100)]\n",
    "fnames_val =[os.path.join(train_test_dir, \"Xy_val{}_sel5_doms.npz\".format(i+1)) for i in range(100)]"
   ]
  },
  {
   "cell_type": "code",
   "execution_count": 9,
   "metadata": {},
   "outputs": [
    {
     "name": "stdout",
     "output_type": "stream",
     "text": [
      "(5176, 165610)\n",
      "(1296, 41451)\n",
      "(1620, 51818)\n"
     ]
    }
   ],
   "source": [
    "n_files=100\n",
    "batch_size = 32\n",
    "steps_per_epoch, n_events = get_n_iterations(fnames_train[:n_files], batch_size=batch_size)\n",
    "print(steps_per_epoch, n_events)\n",
    "validation_steps, n_evts_val = get_n_iterations(fnames_val[:n_files], batch_size=batch_size)\n",
    "print(validation_steps, n_evts_val)\n",
    "prediction_steps, n_evts_test = get_n_iterations(fnames_test[:n_files], batch_size=batch_size)\n",
    "print(prediction_steps, n_evts_test)"
   ]
  },
  {
   "cell_type": "code",
   "execution_count": 10,
   "metadata": {
    "collapsed": true
   },
   "outputs": [],
   "source": [
    "cls_weights = {i: v for i, v in enumerate(get_class_weights(fnames_train[:n_files]))}"
   ]
  },
  {
   "cell_type": "code",
   "execution_count": 11,
   "metadata": {
    "collapsed": true
   },
   "outputs": [],
   "source": [
    "from keras.utils import to_categorical\n",
    "def process_cosz(y):\n",
    "    y[y>0]=1\n",
    "    y[y<=0]=0\n",
    "    return to_categorical(y)\n",
    "\n",
    "def add_channel_dim(X):\n",
    "    return X[:,:, np.newaxis, ...]\n",
    "training_generator = data_generator(fnames_train[:n_files], batch_size=batch_size, \n",
    "                                    fdata=add_channel_dim, ftarget=process_cosz)"
   ]
  },
  {
   "cell_type": "code",
   "execution_count": 12,
   "metadata": {
    "collapsed": true
   },
   "outputs": [],
   "source": [
    "validation_generator = data_generator(fnames_val[:n_files], batch_size=batch_size,\n",
    "                                     fdata=add_channel_dim, ftarget=process_cosz)"
   ]
  },
  {
   "cell_type": "code",
   "execution_count": null,
   "metadata": {},
   "outputs": [
    {
     "name": "stdout",
     "output_type": "stream",
     "text": [
      "Epoch 1/100\n",
      "   2/5176 [..............................] - ETA: 459423s - loss: 4.8291 - acc: 0.4844"
     ]
    }
   ],
   "source": [
    "train_neural_network(model, training_generator, steps_per_epoch, validation_generator, validation_steps,\n",
    "                     batch_size=batch_size, class_weights=cls_weights, log_suffix=\"updown\")"
   ]
  },
  {
   "cell_type": "code",
   "execution_count": null,
   "metadata": {
    "collapsed": true
   },
   "outputs": [],
   "source": []
  }
 ],
 "metadata": {
  "kernelspec": {
   "display_name": "Python 2",
   "language": "python",
   "name": "python2"
  },
  "language_info": {
   "codemirror_mode": {
    "name": "ipython",
    "version": 2
   },
   "file_extension": ".py",
   "mimetype": "text/x-python",
   "name": "python",
   "nbconvert_exporter": "python",
   "pygments_lexer": "ipython2",
   "version": "2.7.9"
  }
 },
 "nbformat": 4,
 "nbformat_minor": 2
}
