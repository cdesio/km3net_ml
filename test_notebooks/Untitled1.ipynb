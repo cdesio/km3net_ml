{
 "cells": [
  {
   "cell_type": "code",
   "execution_count": 1,
   "metadata": {
    "collapsed": false
   },
   "outputs": [
    {
     "name": "stderr",
     "output_type": "stream",
     "text": [
      "/usr/local/lib/python2.7/dist-packages/root_numpy/__init__.py:35: RuntimeWarning: numpy 1.12.1 is currently installed but you installed root_numpy against numpy 1.11.1. Please consider reinstalling root_numpy for this numpy version.\n",
      "  RuntimeWarning)\n"
     ]
    }
   ],
   "source": [
    "import ROOT\n",
    "import root_numpy as rnp\n",
    "import numpy as np"
   ]
  },
  {
   "cell_type": "code",
   "execution_count": 2,
   "metadata": {
    "collapsed": true
   },
   "outputs": [],
   "source": [
    "jfile = \"../../ROOT_files/km3_v4_numucc_1.B.JTE.root\""
   ]
  },
  {
   "cell_type": "code",
   "execution_count": 3,
   "metadata": {
    "collapsed": false
   },
   "outputs": [],
   "source": [
    "infile = \"../../ROOT_files/km3_v4_numucc_1_B.evt.aa.root\""
   ]
  },
  {
   "cell_type": "code",
   "execution_count": 4,
   "metadata": {
    "collapsed": true
   },
   "outputs": [
    {
     "name": "stderr",
     "output_type": "stream",
     "text": [
      "TClass::TClass:0: RuntimeWarning: no dictionary for class Event is available\n",
      "TClass::TClass:0: RuntimeWarning: no dictionary for class KM3NETDAQ::JDAQTimeslice is available\n",
      "TClass::TClass:0: RuntimeWarning: no dictionary for class KM3NETDAQ::JDAQPreamble is available\n",
      "TClass::TClass:0: RuntimeWarning: no dictionary for class KM3NETDAQ::JDAQAbstractPreamble is available\n",
      "TClass::TClass:0: RuntimeWarning: no dictionary for class KM3NETDAQ::JDAQTimesliceHeader is available\n",
      "TClass::TClass:0: RuntimeWarning: no dictionary for class KM3NETDAQ::JDAQHeader is available\n",
      "TClass::TClass:0: RuntimeWarning: no dictionary for class KM3NETDAQ::JDAQChronometer is available\n",
      "TClass::TClass:0: RuntimeWarning: no dictionary for class KM3NETDAQ::JDAQEvent is available\n",
      "TClass::TClass:0: RuntimeWarning: no dictionary for class KM3NETDAQ::JDAQEventHeader is available\n",
      "TClass::TClass:0: RuntimeWarning: no dictionary for class KM3NETDAQ::JDAQTriggerCounter is available\n",
      "TClass::TClass:0: RuntimeWarning: no dictionary for class KM3NETDAQ::JDAQTriggerMask is available\n",
      "TClass::TClass:0: RuntimeWarning: no dictionary for class KM3NETDAQ::JDAQSummaryslice is available\n",
      "TClass::TClass:0: RuntimeWarning: no dictionary for class KM3NETDAQ::JDAQSummarysliceHeader is available\n",
      "TClass::TClass:0: RuntimeWarning: no dictionary for class Header is available\n",
      "TClass::TClass:0: RuntimeWarning: no dictionary for class MONTE_CARLO::XSecFile is available\n",
      "TClass::TClass:0: RuntimeWarning: no dictionary for class MONTE_CARLO::String is available\n",
      "TClass::TClass:0: RuntimeWarning: no dictionary for class MONTE_CARLO::AsciiIO is available\n",
      "TClass::TClass:0: RuntimeWarning: no dictionary for class MONTE_CARLO::detector is available\n",
      "TClass::TClass:0: RuntimeWarning: no dictionary for class MONTE_CARLO::muon_desc_file is available\n",
      "TClass::TClass:0: RuntimeWarning: no dictionary for class MONTE_CARLO::node is available\n",
      "TClass::TClass:0: RuntimeWarning: no dictionary for class MONTE_CARLO::target is available\n",
      "TClass::TClass:0: RuntimeWarning: no dictionary for class MONTE_CARLO::drawing is available\n",
      "TClass::TClass:0: RuntimeWarning: no dictionary for class MONTE_CARLO::physics is available\n",
      "TClass::TClass:0: RuntimeWarning: no dictionary for class MONTE_CARLO::generator is available\n",
      "TClass::TClass:0: RuntimeWarning: no dictionary for class MONTE_CARLO::simul is available\n",
      "TClass::TClass:0: RuntimeWarning: no dictionary for class MONTE_CARLO::cut_primary is available\n",
      "TClass::TClass:0: RuntimeWarning: no dictionary for class MONTE_CARLO::cut is available\n",
      "TClass::TClass:0: RuntimeWarning: no dictionary for class MONTE_CARLO::cut_seamuon is available\n",
      "TClass::TClass:0: RuntimeWarning: no dictionary for class MONTE_CARLO::cut_in is available\n",
      "TClass::TClass:0: RuntimeWarning: no dictionary for class MONTE_CARLO::cut_nu is available\n",
      "TClass::TClass:0: RuntimeWarning: no dictionary for class MONTE_CARLO::start_run is available\n",
      "TClass::TClass:0: RuntimeWarning: no dictionary for class MONTE_CARLO::spectrum is available\n",
      "TClass::TClass:0: RuntimeWarning: no dictionary for class MONTE_CARLO::PM1_type_area is available\n",
      "TClass::TClass:0: RuntimeWarning: no dictionary for class MONTE_CARLO::PDF is available\n",
      "TClass::TClass:0: RuntimeWarning: no dictionary for class MONTE_CARLO::model is available\n",
      "TClass::TClass:0: RuntimeWarning: no dictionary for class MONTE_CARLO::can is available\n",
      "TClass::TClass:0: RuntimeWarning: no dictionary for class MONTE_CARLO::genvol is available\n",
      "TClass::TClass:0: RuntimeWarning: no dictionary for class MONTE_CARLO::merge is available\n",
      "TClass::TClass:0: RuntimeWarning: no dictionary for class MONTE_CARLO::coord_origin is available\n",
      "TClass::TClass:0: RuntimeWarning: no dictionary for class MONTE_CARLO::genhencut is available\n",
      "TClass::TClass:0: RuntimeWarning: no dictionary for class MONTE_CARLO::k40 is available\n",
      "TClass::TClass:0: RuntimeWarning: no dictionary for class MONTE_CARLO::norma is available\n",
      "TClass::TClass:0: RuntimeWarning: no dictionary for class MONTE_CARLO::Vector<MONTE_CARLO::seed> is available\n",
      "TClass::TClass:0: RuntimeWarning: no dictionary for class MONTE_CARLO::seed is available\n",
      "TClass::TClass:0: RuntimeWarning: no dictionary for class MONTE_CARLO::livetime is available\n",
      "TClass::TClass:0: RuntimeWarning: no dictionary for class MONTE_CARLO::Vector<MONTE_CARLO::flux> is available\n",
      "TClass::TClass:0: RuntimeWarning: no dictionary for class JTRIGGER::JTriggerParameters is available\n",
      "TClass::TClass:0: RuntimeWarning: no dictionary for class JTRIGGER::JTrigger3DShower::JParameters is available\n",
      "TClass::TClass:0: RuntimeWarning: no dictionary for class JTRIGGER::JTrigger3DMuon::JParameters is available\n",
      "TClass::TClass:0: RuntimeWarning: no dictionary for class JTRIGGER::JPrescaler is available\n",
      "TClass::TClass:0: RuntimeWarning: no dictionary for class KM3NETDAQ::JDAQUTCExtended is available\n",
      "TClass::TClass:0: RuntimeWarning: no dictionary for class Neutrino is available\n",
      "TClass::TClass:0: RuntimeWarning: no dictionary for class BaseTrack is available\n",
      "TClass::TClass:0: RuntimeWarning: no dictionary for class Vec3D is available\n",
      "TClass::TClass:0: RuntimeWarning: no dictionary for class Primary is available\n",
      "TClass::TClass:0: RuntimeWarning: no dictionary for class McTrack is available\n",
      "TClass::TClass:0: RuntimeWarning: no dictionary for class McHit is available\n",
      "TClass::TClass:0: RuntimeWarning: no dictionary for class RawHit is available\n"
     ]
    }
   ],
   "source": [
    "tr_t = rnp.root2array(jfile, treename=\"MONTECARLO\", branches=\"TrackList_.t_\")"
   ]
  },
  {
   "cell_type": "code",
   "execution_count": 5,
   "metadata": {
    "collapsed": false
   },
   "outputs": [
    {
     "name": "stderr",
     "output_type": "stream",
     "text": [
      "TClass::TClass:0: RuntimeWarning: no dictionary for class Evt is available\n",
      "TClass::TClass:0: RuntimeWarning: no dictionary for class AAObject is available\n",
      "TClass::TClass:0: RuntimeWarning: no dictionary for class Hit is available\n",
      "TClass::TClass:0: RuntimeWarning: no dictionary for class Vec is available\n",
      "TClass::TClass:0: RuntimeWarning: no dictionary for class Trk is available\n"
     ]
    }
   ],
   "source": [
    "t = rnp.root2array(infile, treename=\"E\", branches=\"Evt.hits.t\")\n",
    "dom_id = rnp.root2array(infile, treename=\"E\", branches=\"Evt.hits.dom_id\")\n",
    "ch_id = rnp.root2array(infile, treename=\"E\", branches=\"Evt.hits.channel_id\")"
   ]
  },
  {
   "cell_type": "code",
   "execution_count": 142,
   "metadata": {
    "collapsed": true
   },
   "outputs": [],
   "source": [
    "trig = rnp.root2array(infile, treename=\"E\", branches=\"Evt.hits.trig\")"
   ]
  },
  {
   "cell_type": "code",
   "execution_count": 155,
   "metadata": {
    "collapsed": false
   },
   "outputs": [
    {
     "data": {
      "text/plain": [
       "1541"
      ]
     },
     "execution_count": 155,
     "metadata": {},
     "output_type": "execute_result"
    }
   ],
   "source": [
    "count_trig"
   ]
  },
  {
   "cell_type": "code",
   "execution_count": 139,
   "metadata": {
    "collapsed": false
   },
   "outputs": [],
   "source": [
    "t_df = pd.DataFrame(t)"
   ]
  },
  {
   "cell_type": "code",
   "execution_count": 141,
   "metadata": {
    "collapsed": false
   },
   "outputs": [
    {
     "data": {
      "text/plain": [
       "3721"
      ]
     },
     "execution_count": 141,
     "metadata": {},
     "output_type": "execute_result"
    }
   ],
   "source": [
    "t[0].size"
   ]
  },
  {
   "cell_type": "code",
   "execution_count": 140,
   "metadata": {
    "collapsed": false
   },
   "outputs": [
    {
     "data": {
      "text/html": [
       "<div>\n",
       "<table border=\"1\" class=\"dataframe\">\n",
       "  <thead>\n",
       "    <tr style=\"text-align: right;\">\n",
       "      <th></th>\n",
       "      <th>0</th>\n",
       "    </tr>\n",
       "  </thead>\n",
       "  <tbody>\n",
       "    <tr>\n",
       "      <th>0</th>\n",
       "      <td>[49996626.0, 50005195.0, 49996429.0, 50004396....</td>\n",
       "    </tr>\n",
       "    <tr>\n",
       "      <th>1</th>\n",
       "      <td>[49997579.0, 49998101.0, 49999722.0, 50001617....</td>\n",
       "    </tr>\n",
       "    <tr>\n",
       "      <th>2</th>\n",
       "      <td>[49994457.0, 50000128.0, 50004785.0, 50002713....</td>\n",
       "    </tr>\n",
       "    <tr>\n",
       "      <th>3</th>\n",
       "      <td>[49993928.0, 49999149.0, 50004856.0, 50005533....</td>\n",
       "    </tr>\n",
       "    <tr>\n",
       "      <th>4</th>\n",
       "      <td>[49996582.0, 49997612.0, 49999373.0, 50004342....</td>\n",
       "    </tr>\n",
       "  </tbody>\n",
       "</table>\n",
       "</div>"
      ],
      "text/plain": [
       "                                                   0\n",
       "0  [49996626.0, 50005195.0, 49996429.0, 50004396....\n",
       "1  [49997579.0, 49998101.0, 49999722.0, 50001617....\n",
       "2  [49994457.0, 50000128.0, 50004785.0, 50002713....\n",
       "3  [49993928.0, 49999149.0, 50004856.0, 50005533....\n",
       "4  [49996582.0, 49997612.0, 49999373.0, 50004342...."
      ]
     },
     "execution_count": 140,
     "metadata": {},
     "output_type": "execute_result"
    }
   ],
   "source": [
    "t_df.head()"
   ]
  },
  {
   "cell_type": "code",
   "execution_count": 134,
   "metadata": {
    "collapsed": false
   },
   "outputs": [
    {
     "data": {
      "text/plain": [
       "3721"
      ]
     },
     "execution_count": 134,
     "metadata": {},
     "output_type": "execute_result"
    }
   ],
   "source": [
    "dom_id[0].size"
   ]
  },
  {
   "cell_type": "code",
   "execution_count": 135,
   "metadata": {
    "collapsed": false
   },
   "outputs": [
    {
     "data": {
      "text/plain": [
       "3721"
      ]
     },
     "execution_count": 135,
     "metadata": {},
     "output_type": "execute_result"
    }
   ],
   "source": [
    "ch_id[0].size"
   ]
  },
  {
   "cell_type": "code",
   "execution_count": 136,
   "metadata": {
    "collapsed": true
   },
   "outputs": [],
   "source": [
    "ch_df = pd.DataFrame(ch_id)"
   ]
  },
  {
   "cell_type": "code",
   "execution_count": 127,
   "metadata": {
    "collapsed": false
   },
   "outputs": [],
   "source": [
    "dom_df = pd.DataFrame(dom_id)"
   ]
  },
  {
   "cell_type": "code",
   "execution_count": 128,
   "metadata": {
    "collapsed": false
   },
   "outputs": [
    {
     "data": {
      "text/html": [
       "<div>\n",
       "<table border=\"1\" class=\"dataframe\">\n",
       "  <thead>\n",
       "    <tr style=\"text-align: right;\">\n",
       "      <th></th>\n",
       "      <th>0</th>\n",
       "    </tr>\n",
       "  </thead>\n",
       "  <tbody>\n",
       "    <tr>\n",
       "      <th>0</th>\n",
       "      <td>[1, 1, 2, 2, 3, 4, 4, 5, 5, 5, 5, 6, 7, 7, 7, ...</td>\n",
       "    </tr>\n",
       "    <tr>\n",
       "      <th>1</th>\n",
       "      <td>[1, 1, 1, 1, 2, 2, 4, 5, 5, 5, 6, 6, 6, 6, 7, ...</td>\n",
       "    </tr>\n",
       "    <tr>\n",
       "      <th>2</th>\n",
       "      <td>[1, 1, 1, 2, 3, 4, 5, 5, 5, 6, 7, 7, 8, 9, 9, ...</td>\n",
       "    </tr>\n",
       "    <tr>\n",
       "      <th>3</th>\n",
       "      <td>[1, 1, 2, 3, 3, 4, 6, 6, 7, 7, 7, 8, 8, 8, 9, ...</td>\n",
       "    </tr>\n",
       "    <tr>\n",
       "      <th>4</th>\n",
       "      <td>[1, 1, 1, 1, 2, 2, 3, 3, 3, 4, 5, 5, 6, 7, 7, ...</td>\n",
       "    </tr>\n",
       "  </tbody>\n",
       "</table>\n",
       "</div>"
      ],
      "text/plain": [
       "                                                   0\n",
       "0  [1, 1, 2, 2, 3, 4, 4, 5, 5, 5, 5, 6, 7, 7, 7, ...\n",
       "1  [1, 1, 1, 1, 2, 2, 4, 5, 5, 5, 6, 6, 6, 6, 7, ...\n",
       "2  [1, 1, 1, 2, 3, 4, 5, 5, 5, 6, 7, 7, 8, 9, 9, ...\n",
       "3  [1, 1, 2, 3, 3, 4, 6, 6, 7, 7, 7, 8, 8, 8, 9, ...\n",
       "4  [1, 1, 1, 1, 2, 2, 3, 3, 3, 4, 5, 5, 6, 7, 7, ..."
      ]
     },
     "execution_count": 128,
     "metadata": {},
     "output_type": "execute_result"
    }
   ],
   "source": [
    "dom_df.head()"
   ]
  },
  {
   "cell_type": "code",
   "execution_count": 137,
   "metadata": {
    "collapsed": false
   },
   "outputs": [
    {
     "data": {
      "text/html": [
       "<div>\n",
       "<table border=\"1\" class=\"dataframe\">\n",
       "  <thead>\n",
       "    <tr style=\"text-align: right;\">\n",
       "      <th></th>\n",
       "      <th>0</th>\n",
       "    </tr>\n",
       "  </thead>\n",
       "  <tbody>\n",
       "    <tr>\n",
       "      <th>0</th>\n",
       "      <td>[6, 25, 6, 6, 24, 9, 27, 17, 11, 12, 0, 27, 21...</td>\n",
       "    </tr>\n",
       "    <tr>\n",
       "      <th>1</th>\n",
       "      <td>[0, 29, 28, 29, 23, 2, 20, 16, 12, 2, 25, 8, 2...</td>\n",
       "    </tr>\n",
       "    <tr>\n",
       "      <th>2</th>\n",
       "      <td>[30, 24, 27, 15, 18, 22, 7, 4, 17, 3, 11, 5, 2...</td>\n",
       "    </tr>\n",
       "    <tr>\n",
       "      <th>3</th>\n",
       "      <td>[8, 14, 19, 16, 28, 8, 18, 12, 2, 25, 9, 18, 2...</td>\n",
       "    </tr>\n",
       "    <tr>\n",
       "      <th>4</th>\n",
       "      <td>[29, 20, 29, 28, 20, 2, 1, 2, 15, 18, 29, 8, 1...</td>\n",
       "    </tr>\n",
       "  </tbody>\n",
       "</table>\n",
       "</div>"
      ],
      "text/plain": [
       "                                                   0\n",
       "0  [6, 25, 6, 6, 24, 9, 27, 17, 11, 12, 0, 27, 21...\n",
       "1  [0, 29, 28, 29, 23, 2, 20, 16, 12, 2, 25, 8, 2...\n",
       "2  [30, 24, 27, 15, 18, 22, 7, 4, 17, 3, 11, 5, 2...\n",
       "3  [8, 14, 19, 16, 28, 8, 18, 12, 2, 25, 9, 18, 2...\n",
       "4  [29, 20, 29, 28, 20, 2, 1, 2, 15, 18, 29, 8, 1..."
      ]
     },
     "execution_count": 137,
     "metadata": {},
     "output_type": "execute_result"
    }
   ],
   "source": [
    "ch_df.head()"
   ]
  },
  {
   "cell_type": "code",
   "execution_count": 46,
   "metadata": {
    "collapsed": false
   },
   "outputs": [],
   "source": [
    "x = rnp.root2array(jfile, treename=\"MONTECARLO\", branches=\"TrackList_.position_.x\")\n",
    "y = rnp.root2array(jfile, treename=\"MONTECARLO\", branches=\"TrackList_.position_.y\")\n",
    "z = rnp.root2array(jfile, treename=\"MONTECARLO\", branches=\"TrackList_.position_.z\")\n",
    "typ = rnp.root2array(jfile, treename=\"MONTECARLO\", branches=\"TrackList_.type_\")"
   ]
  },
  {
   "cell_type": "code",
   "execution_count": 15,
   "metadata": {
    "collapsed": false
   },
   "outputs": [
    {
     "data": {
      "text/plain": [
       "array([ array([-409.379, -409.379, -409.379, -409.379, -409.379, -409.379,\n",
       "       -409.379, -409.379, -409.379, -409.379, -409.379, -409.379,\n",
       "       -409.379, -409.379, -409.379, -409.379, -409.379, -409.144,\n",
       "       -408.919, -409.201, -409.53 , -408.939, -408.837, -409.18 ,\n",
       "       -409.185, -409.096, -409.256, -409.472, -409.379, -409.379,\n",
       "       -409.138, -409.179, -409.364]),\n",
       "       array([ 120.346,  120.346,  120.346,  120.346,  120.346,  120.346,\n",
       "        120.346,  120.346,  120.346,  120.346,  120.346,  120.346,\n",
       "        120.346,  120.346,  120.346,  120.346,  120.38 ,  120.594,\n",
       "        120.438,  120.653,  120.724,  120.348,  120.377,  120.395,\n",
       "        120.346,  120.54 ,  120.508,  120.328,  120.311,  120.31 ]),\n",
       "       array([ 390.302,  390.302,  390.302,  390.302,  390.302,  390.302,\n",
       "        390.302,  390.302,  390.302,  390.302,  390.302,  390.302,\n",
       "        390.296,  390.41 ,  391.09 ,  392.777,  390.979,  390.578,\n",
       "        390.302,  391.787,  391.811,  391.318,  391.395]),\n",
       "       ..., array([ 152.72]), array([ 618.63]), array([ 194.727])], dtype=object)"
      ]
     },
     "execution_count": 15,
     "metadata": {},
     "output_type": "execute_result"
    }
   ],
   "source": [
    "x"
   ]
  },
  {
   "cell_type": "code",
   "execution_count": 54,
   "metadata": {
    "collapsed": false
   },
   "outputs": [],
   "source": [
    "import numpy as np"
   ]
  },
  {
   "cell_type": "code",
   "execution_count": 75,
   "metadata": {
    "collapsed": false
   },
   "outputs": [],
   "source": [
    "vshape = np.vectorize(lambda v: v.shape[0])\n",
    "lengths_x = vshape(x)\n",
    "lengths_y = vshape(y)\n",
    "lengths_z = vshape(z)\n",
    "lengths_ty = vshape(typ)"
   ]
  },
  {
   "cell_type": "code",
   "execution_count": 78,
   "metadata": {
    "collapsed": false
   },
   "outputs": [
    {
     "name": "stdout",
     "output_type": "stream",
     "text": [
      "True\n",
      "True\n",
      "True\n"
     ]
    }
   ],
   "source": [
    "from numpy.testing import assert_array_equal\n",
    "\n",
    "print(np.all(lengths_x==lengths_y))\n",
    "print(np.all(lengths_y==lengths_z))\n",
    "print(np.all(lengths_x==lengths_ty))"
   ]
  },
  {
   "cell_type": "code",
   "execution_count": 80,
   "metadata": {
    "collapsed": false
   },
   "outputs": [
    {
     "name": "stderr",
     "output_type": "stream",
     "text": [
      "/usr/local/lib/python2.7/dist-packages/ipykernel/__main__.py:1: DeprecationWarning: elementwise == comparison failed; this will raise an error in the future.\n",
      "  if __name__ == '__main__':\n"
     ]
    },
    {
     "data": {
      "text/plain": [
       "False"
      ]
     },
     "execution_count": 80,
     "metadata": {},
     "output_type": "execute_result"
    }
   ],
   "source": []
  },
  {
   "cell_type": "code",
   "execution_count": 18,
   "metadata": {
    "collapsed": true
   },
   "outputs": [],
   "source": [
    "import pandas as pd"
   ]
  },
  {
   "cell_type": "code",
   "execution_count": 84,
   "metadata": {
    "collapsed": false
   },
   "outputs": [],
   "source": [
    "df_x = pd.DataFrame(x)\n",
    "df_xt = pd.DataFrame(x.T)"
   ]
  },
  {
   "cell_type": "code",
   "execution_count": 95,
   "metadata": {
    "collapsed": false
   },
   "outputs": [],
   "source": [
    "x_2 = x[np.newaxis]"
   ]
  },
  {
   "cell_type": "code",
   "execution_count": 99,
   "metadata": {
    "collapsed": false
   },
   "outputs": [
    {
     "data": {
      "text/plain": [
       "array([ array([-409.379, -409.379, -409.379, -409.379, -409.379, -409.379,\n",
       "       -409.379, -409.379, -409.379, -409.379, -409.379, -409.379,\n",
       "       -409.379, -409.379, -409.379, -409.379, -409.379, -409.144,\n",
       "       -408.919, -409.201, -409.53 , -408.939, -408.837, -409.18 ,\n",
       "       -409.185, -409.096, -409.256, -409.472, -409.379, -409.379,\n",
       "       -409.138, -409.179, -409.364]),\n",
       "       array([ 120.346,  120.346,  120.346,  120.346,  120.346,  120.346,\n",
       "        120.346,  120.346,  120.346,  120.346,  120.346,  120.346,\n",
       "        120.346,  120.346,  120.346,  120.346,  120.38 ,  120.594,\n",
       "        120.438,  120.653,  120.724,  120.348,  120.377,  120.395,\n",
       "        120.346,  120.54 ,  120.508,  120.328,  120.311,  120.31 ]),\n",
       "       array([ 390.302,  390.302,  390.302,  390.302,  390.302,  390.302,\n",
       "        390.302,  390.302,  390.302,  390.302,  390.302,  390.302,\n",
       "        390.296,  390.41 ,  391.09 ,  392.777,  390.979,  390.578,\n",
       "        390.302,  391.787,  391.811,  391.318,  391.395]),\n",
       "       ..., array([ 152.72]), array([ 618.63]), array([ 194.727])], dtype=object)"
      ]
     },
     "execution_count": 99,
     "metadata": {},
     "output_type": "execute_result"
    }
   ],
   "source": [
    "x_2[0]"
   ]
  },
  {
   "cell_type": "code",
   "execution_count": 81,
   "metadata": {
    "collapsed": true
   },
   "outputs": [],
   "source": [
    "df = pd.DataFrame(data = zip(x.T,y.T,z.T,typ.T), columns=['x','y','z','type'])"
   ]
  },
  {
   "cell_type": "code",
   "execution_count": 82,
   "metadata": {
    "collapsed": false
   },
   "outputs": [
    {
     "data": {
      "text/html": [
       "<div>\n",
       "<table border=\"1\" class=\"dataframe\">\n",
       "  <thead>\n",
       "    <tr style=\"text-align: right;\">\n",
       "      <th></th>\n",
       "      <th>x</th>\n",
       "      <th>y</th>\n",
       "      <th>z</th>\n",
       "      <th>type</th>\n",
       "    </tr>\n",
       "  </thead>\n",
       "  <tbody>\n",
       "    <tr>\n",
       "      <th>0</th>\n",
       "      <td>[-409.379, -409.379, -409.379, -409.379, -409....</td>\n",
       "      <td>[43.789, 43.789, 43.789, 43.789, 43.789, 43.78...</td>\n",
       "      <td>[114.216, 114.216, 114.216, 114.216, 114.216, ...</td>\n",
       "      <td>[5, 8, 13, 9, 8, 12, 8, 1, 1, 1, 1, 1, 1, 1, 1...</td>\n",
       "    </tr>\n",
       "    <tr>\n",
       "      <th>1</th>\n",
       "      <td>[120.346, 120.346, 120.346, 120.346, 120.346, ...</td>\n",
       "      <td>[695.844, 695.844, 695.844, 695.844, 695.844, ...</td>\n",
       "      <td>[17.738, 17.738, 17.738, 17.738, 17.738, 17.73...</td>\n",
       "      <td>[5, 8, 13, 9, 8, 25, 9, 14, 8, 9, 8, 1, 1, 1, ...</td>\n",
       "    </tr>\n",
       "    <tr>\n",
       "      <th>2</th>\n",
       "      <td>[390.302, 390.302, 390.302, 390.302, 390.302, ...</td>\n",
       "      <td>[386.065, 386.065, 386.065, 386.065, 386.065, ...</td>\n",
       "      <td>[-37.645, -37.645, -37.645, -37.645, -37.645, ...</td>\n",
       "      <td>[5, 8, 9, 14, 8, 9, 1, 1, 1, 1, 1, 1, 99, 99, ...</td>\n",
       "    </tr>\n",
       "    <tr>\n",
       "      <th>3</th>\n",
       "      <td>[405.877, 405.877, 405.877, 405.877, 405.877, ...</td>\n",
       "      <td>[35.679, 35.679, 35.679, 35.679, 35.679, 35.67...</td>\n",
       "      <td>[-154.91, -154.91, -154.91, -154.91, -154.91, ...</td>\n",
       "      <td>[5, 14, 15, 14, 8, 1, 1, 1, 1, 99, 99, 99, 99,...</td>\n",
       "    </tr>\n",
       "    <tr>\n",
       "      <th>4</th>\n",
       "      <td>[99.271, 99.271, 99.271, 99.271, 99.271, 99.27...</td>\n",
       "      <td>[-143.812, -143.812, -143.812, -143.812, -143....</td>\n",
       "      <td>[388.139, 388.139, 388.139, 388.139, 388.139, ...</td>\n",
       "      <td>[5, 14, 8, 1, 1, 14, 9, 8, 9, 15, 8, 1, 1, 1, ...</td>\n",
       "    </tr>\n",
       "  </tbody>\n",
       "</table>\n",
       "</div>"
      ],
      "text/plain": [
       "                                                   x  \\\n",
       "0  [-409.379, -409.379, -409.379, -409.379, -409....   \n",
       "1  [120.346, 120.346, 120.346, 120.346, 120.346, ...   \n",
       "2  [390.302, 390.302, 390.302, 390.302, 390.302, ...   \n",
       "3  [405.877, 405.877, 405.877, 405.877, 405.877, ...   \n",
       "4  [99.271, 99.271, 99.271, 99.271, 99.271, 99.27...   \n",
       "\n",
       "                                                   y  \\\n",
       "0  [43.789, 43.789, 43.789, 43.789, 43.789, 43.78...   \n",
       "1  [695.844, 695.844, 695.844, 695.844, 695.844, ...   \n",
       "2  [386.065, 386.065, 386.065, 386.065, 386.065, ...   \n",
       "3  [35.679, 35.679, 35.679, 35.679, 35.679, 35.67...   \n",
       "4  [-143.812, -143.812, -143.812, -143.812, -143....   \n",
       "\n",
       "                                                   z  \\\n",
       "0  [114.216, 114.216, 114.216, 114.216, 114.216, ...   \n",
       "1  [17.738, 17.738, 17.738, 17.738, 17.738, 17.73...   \n",
       "2  [-37.645, -37.645, -37.645, -37.645, -37.645, ...   \n",
       "3  [-154.91, -154.91, -154.91, -154.91, -154.91, ...   \n",
       "4  [388.139, 388.139, 388.139, 388.139, 388.139, ...   \n",
       "\n",
       "                                                type  \n",
       "0  [5, 8, 13, 9, 8, 12, 8, 1, 1, 1, 1, 1, 1, 1, 1...  \n",
       "1  [5, 8, 13, 9, 8, 25, 9, 14, 8, 9, 8, 1, 1, 1, ...  \n",
       "2  [5, 8, 9, 14, 8, 9, 1, 1, 1, 1, 1, 1, 99, 99, ...  \n",
       "3  [5, 14, 15, 14, 8, 1, 1, 1, 1, 99, 99, 99, 99,...  \n",
       "4  [5, 14, 8, 1, 1, 14, 9, 8, 9, 15, 8, 1, 1, 1, ...  "
      ]
     },
     "execution_count": 82,
     "metadata": {},
     "output_type": "execute_result"
    }
   ],
   "source": [
    "df.head()"
   ]
  },
  {
   "cell_type": "code",
   "execution_count": 121,
   "metadata": {
    "collapsed": false
   },
   "outputs": [],
   "source": [
    "evt0df = pd.DataFrame(x[0][np.newaxis].T, index=typ[0][np.newaxis].T)"
   ]
  },
  {
   "cell_type": "code",
   "execution_count": 122,
   "metadata": {
    "collapsed": true
   },
   "outputs": [],
   "source": [
    "evt1df = pd.DataFrame(x[1][np.newaxis].T, index=typ[1][np.newaxis].T)"
   ]
  },
  {
   "cell_type": "code",
   "execution_count": 106,
   "metadata": {
    "collapsed": false
   },
   "outputs": [
    {
     "data": {
      "text/plain": [
       "array([[-409.379, -409.379, -409.379, -409.379, -409.379, -409.379,\n",
       "        -409.379, -409.379, -409.379, -409.379, -409.379, -409.379,\n",
       "        -409.379, -409.379, -409.379, -409.379, -409.379, -409.144,\n",
       "        -408.919, -409.201, -409.53 , -408.939, -408.837, -409.18 ,\n",
       "        -409.185, -409.096, -409.256, -409.472, -409.379, -409.379,\n",
       "        -409.138, -409.179, -409.364]])"
      ]
     },
     "execution_count": 106,
     "metadata": {},
     "output_type": "execute_result"
    }
   ],
   "source": [
    "x[0][np.newaxis]"
   ]
  },
  {
   "cell_type": "code",
   "execution_count": 113,
   "metadata": {
    "collapsed": false
   },
   "outputs": [],
   "source": [
    "x_na = x[np.newaxis]"
   ]
  },
  {
   "cell_type": "code",
   "execution_count": 114,
   "metadata": {
    "collapsed": false
   },
   "outputs": [
    {
     "data": {
      "text/plain": [
       "1"
      ]
     },
     "execution_count": 114,
     "metadata": {},
     "output_type": "execute_result"
    }
   ],
   "source": [
    "x_na.ndim"
   ]
  },
  {
   "cell_type": "code",
   "execution_count": 45,
   "metadata": {
    "collapsed": false
   },
   "outputs": [
    {
     "ename": "ValueError",
     "evalue": "The truth value of an array with more than one element is ambiguous. Use a.any() or a.all()",
     "output_type": "error",
     "traceback": [
      "\u001b[0;31m---------------------------------------------------------------------------\u001b[0m",
      "\u001b[0;31mValueError\u001b[0m                                Traceback (most recent call last)",
      "\u001b[0;32m<ipython-input-45-0b3a1a0f2c49>\u001b[0m in \u001b[0;36m<module>\u001b[0;34m()\u001b[0m\n\u001b[0;32m----> 1\u001b[0;31m \u001b[0mdf\u001b[0m\u001b[0;34m.\u001b[0m\u001b[0mx\u001b[0m\u001b[0;34m[\u001b[0m\u001b[0mx\u001b[0m\u001b[0;34m>\u001b[0m\u001b[0;36m1\u001b[0m\u001b[0;34m]\u001b[0m\u001b[0;34m\u001b[0m\u001b[0m\n\u001b[0m",
      "\u001b[0;31mValueError\u001b[0m: The truth value of an array with more than one element is ambiguous. Use a.any() or a.all()"
     ]
    }
   ],
   "source": [
    "df_x = pd.DataFrame(data=, )"
   ]
  },
  {
   "cell_type": "code",
   "execution_count": null,
   "metadata": {
    "collapsed": true
   },
   "outputs": [],
   "source": [
    "pm_id = rnp.root2array(jfile, treename=\"MONTECARLO\", branches=\"HitList_.pm_id_\")"
   ]
  },
  {
   "cell_type": "code",
   "execution_count": null,
   "metadata": {
    "collapsed": false
   },
   "outputs": [],
   "source": [
    "x"
   ]
  },
  {
   "cell_type": "code",
   "execution_count": null,
   "metadata": {
    "collapsed": true
   },
   "outputs": [],
   "source": [
    "t[:10]"
   ]
  },
  {
   "cell_type": "code",
   "execution_count": null,
   "metadata": {
    "collapsed": true
   },
   "outputs": [],
   "source": [
    "tr_t[:10]"
   ]
  },
  {
   "cell_type": "code",
   "execution_count": null,
   "metadata": {
    "collapsed": true
   },
   "outputs": [],
   "source": [
    "mc_t = rnp.root2array(infile, treename=\"E\", branches=\"Evt.mc_hits.t\")"
   ]
  },
  {
   "cell_type": "code",
   "execution_count": null,
   "metadata": {
    "collapsed": true
   },
   "outputs": [],
   "source": [
    "mc_t[0]"
   ]
  },
  {
   "cell_type": "code",
   "execution_count": null,
   "metadata": {
    "collapsed": false
   },
   "outputs": [],
   "source": [
    "t[0]"
   ]
  },
  {
   "cell_type": "code",
   "execution_count": null,
   "metadata": {
    "collapsed": true
   },
   "outputs": [],
   "source": [
    "mc_dom_id = rnp.root2array(infile, treename=\"E\", branches=\"Evt.mc_hits.dom_id\")"
   ]
  },
  {
   "cell_type": "code",
   "execution_count": null,
   "metadata": {
    "collapsed": false
   },
   "outputs": [],
   "source": [
    "mc_dom_id.size"
   ]
  },
  {
   "cell_type": "code",
   "execution_count": null,
   "metadata": {
    "collapsed": true
   },
   "outputs": [],
   "source": [
    "tot = rnp.root2array(infile, treename=\"E\", branches=\"Evt.hits.tot\")"
   ]
  },
  {
   "cell_type": "code",
   "execution_count": null,
   "metadata": {
    "collapsed": true
   },
   "outputs": [],
   "source": [
    "tot"
   ]
  },
  {
   "cell_type": "code",
   "execution_count": null,
   "metadata": {
    "collapsed": true
   },
   "outputs": [],
   "source": [
    "import pandas as pd"
   ]
  },
  {
   "cell_type": "code",
   "execution_count": null,
   "metadata": {
    "collapsed": false
   },
   "outputs": [],
   "source": [
    "hits = [{'t':t[i], 'dom_id':dom_id[i], 'ch_id':ch_id[i]} for i in range(t.size)]"
   ]
  },
  {
   "cell_type": "code",
   "execution_count": null,
   "metadata": {
    "collapsed": false
   },
   "outputs": [],
   "source": [
    "hits[0]"
   ]
  },
  {
   "cell_type": "code",
   "execution_count": null,
   "metadata": {
    "collapsed": true
   },
   "outputs": [],
   "source": [
    "def properties(obj):\n",
    "    print(np.min(obj), np.max(obj), obj.size, np.max(obj)-np.min(obj))\n",
    "    return"
   ]
  },
  {
   "cell_type": "code",
   "execution_count": null,
   "metadata": {
    "collapsed": false
   },
   "outputs": [],
   "source": [
    "properties(hits[0]['t'])"
   ]
  },
  {
   "cell_type": "code",
   "execution_count": null,
   "metadata": {
    "collapsed": false
   },
   "outputs": [],
   "source": [
    "properties(hits[0]['ch_id'])"
   ]
  },
  {
   "cell_type": "code",
   "execution_count": null,
   "metadata": {
    "collapsed": false
   },
   "outputs": [],
   "source": [
    "properties(hits[0]['dom_id'])"
   ]
  },
  {
   "cell_type": "code",
   "execution_count": null,
   "metadata": {
    "collapsed": false
   },
   "outputs": [],
   "source": [
    "from bokeh.plotting import figure, output_notebook, show\n",
    "p = figure(plot_width=400, plot_height=400)\n",
    "# add a circle renderer with a size, color, and alpha\n",
    "p.circle(t[0], dom_id[0], size=2, color=\"navy\", alpha=0.5)\n",
    "\n",
    "# show the results\n",
    "show(p)\n"
   ]
  },
  {
   "cell_type": "code",
   "execution_count": null,
   "metadata": {
    "collapsed": true
   },
   "outputs": [],
   "source": [
    "for i in range(100):\n",
    "    print(np.max(t[i])-np.min(t[i]), t[i].size)"
   ]
  },
  {
   "cell_type": "code",
   "execution_count": null,
   "metadata": {
    "collapsed": true
   },
   "outputs": [],
   "source": [
    "t for i in "
   ]
  },
  {
   "cell_type": "code",
   "execution_count": null,
   "metadata": {
    "collapsed": true
   },
   "outputs": [],
   "source": [
    "from matplotlib import pyplot\n",
    "import pylab\n",
    "from mpl_toolkits.mplot3d import Axes3D\n",
    "fig = pylab.figure()\n",
    "ax = Axes3D(fig)\n",
    "ax.set_xlabel('x')\n",
    "ax.set_ylabel('y')\n",
    "ax.set_zlabel('z')\n",
    "\n",
    "ax.scatter(x,y,z)\n",
    "pyplot.show()"
   ]
  },
  {
   "cell_type": "code",
   "execution_count": null,
   "metadata": {
    "collapsed": true
   },
   "outputs": [],
   "source": [
    "can: -405.93    508.68    706.21"
   ]
  },
  {
   "cell_type": "code",
   "execution_count": 5,
   "metadata": {
    "collapsed": false
   },
   "outputs": [
    {
     "data": {
      "image/png": "[encoded data removed]",
      "text/plain": [
       "<matplotlib.figure.Figure at 0x7f32a38da9d0>"
      ]
     },
     "metadata": {},
     "output_type": "display_data"
    }
   ],
   "source": [
    "from mpl_toolkits.mplot3d import Axes3D\n",
    "import mpl_toolkits.mplot3d.art3d as art3d\n",
    "import matplotlib.pyplot as plt\n",
    "import numpy as np\n",
    "from matplotlib.patches import Circle\n",
    "\n",
    "def plot_3D_cylinder(radius, height, elevation=0, resolution=100, color='r', x_center = 0, y_center = 0):\n",
    "    fig=plt.figure()\n",
    "    ax = Axes3D(fig, azim=30, elev=30)\n",
    "\n",
    "    x = np.linspace(x_center-radius, x_center+radius, resolution)\n",
    "    z = np.linspace(elevation, elevation+height, resolution)\n",
    "    X, Z = np.meshgrid(x, z)\n",
    "\n",
    "    Y = np.sqrt(radius**2 - (X - x_center)**2) + y_center # Pythagorean theorem\n",
    "\n",
    "    ax.plot_surface(X, Y, Z, linewidth=0, color=color)\n",
    "    ax.plot_surface(X, (2*y_center-Y), Z, linewidth=0, color=color)\n",
    "\n",
    "    floor = Circle((x_center, y_center), radius, color=color)\n",
    "    ax.add_patch(floor)\n",
    "    art3d.pathpatch_2d_to_3d(floor, z=elevation, zdir=\"z\")\n",
    "\n",
    "    ceiling = Circle((x_center, y_center), radius, color=color)\n",
    "    ax.add_patch(ceiling)\n",
    "    art3d.pathpatch_2d_to_3d(ceiling, z=elevation+height, zdir=\"z\")\n",
    "\n",
    "    ax.set_xlabel('x-axis')\n",
    "    ax.set_ylabel('y-axis')\n",
    "    ax.set_zlabel('z-axis')\n",
    "\n",
    "    plt.show()\n",
    "\n",
    "# params\n",
    "radius = 508.68\n",
    "height = 706.21\n",
    "elevation = -405.93\n",
    "resolution = 100\n",
    "color = 'r'\n",
    "x_center =0\n",
    "y_center = 0\n",
    "\n",
    "plot_3D_cylinder(radius, height, elevation=elevation, resolution=resolution, color=color, x_center=x_center, y_center=y_center)"
   ]
  },
  {
   "cell_type": "code",
   "execution_count": null,
   "metadata": {
    "collapsed": true
   },
   "outputs": [],
   "source": [
    "values = []\n",
    "for i, times in enumerate(t[:10]):\n",
    "    print(i, times)\n",
    "        \n",
    "        "
   ]
  },
  {
   "cell_type": "code",
   "execution_count": null,
   "metadata": {
    "collapsed": false
   },
   "outputs": [],
   "source": [
    "t[0][0]"
   ]
  },
  {
   "cell_type": "code",
   "execution_count": null,
   "metadata": {
    "collapsed": true
   },
   "outputs": [],
   "source": []
  }
 ],
 "metadata": {
  "kernelspec": {
   "display_name": "Python 2",
   "language": "python",
   "name": "python2"
  },
  "language_info": {
   "codemirror_mode": {
    "name": "ipython",
    "version": 2
   },
   "file_extension": ".py",
   "mimetype": "text/x-python",
   "name": "python",
   "nbconvert_exporter": "python",
   "pygments_lexer": "ipython2",
   "version": "2.7.6"
  }
 },
 "nbformat": 4,
 "nbformat_minor": 1
}
