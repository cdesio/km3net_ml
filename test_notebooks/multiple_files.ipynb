{
 "cells": [
  {
   "cell_type": "code",
   "execution_count": 40,
   "metadata": {
    "collapsed": true
   },
   "outputs": [],
   "source": [
    "import numpy as np\n",
    "import root_numpy as rnp"
   ]
  },
  {
   "cell_type": "code",
   "execution_count": 1,
   "metadata": {
    "collapsed": true
   },
   "outputs": [],
   "source": [
    "fnames_numu =[]\n",
    "fnames_nue = []\n",
    "for i in range(1,101):\n",
    "    fnames_numu.append(\"aafiles/numu_files/Xy_numu_\"+str(i)+\"_sel5_doms.npz\")\n",
    "    fnames_nue.append(\"aafiles/nue_files/Xy_nue_\"+str(i)+\"_sel5_doms.npz\")"
   ]
  },
  {
   "cell_type": "code",
   "execution_count": 2,
   "metadata": {
    "collapsed": true
   },
   "outputs": [
    {
     "data": {
      "text/plain": [
       "['aafiles/numu_files/Xy_numu_1_sel5_doms.npz',\n",
       " 'aafiles/numu_files/Xy_numu_2_sel5_doms.npz',\n",
       " 'aafiles/numu_files/Xy_numu_3_sel5_doms.npz',\n",
       " 'aafiles/numu_files/Xy_numu_4_sel5_doms.npz',\n",
       " 'aafiles/numu_files/Xy_numu_5_sel5_doms.npz',\n",
       " 'aafiles/numu_files/Xy_numu_6_sel5_doms.npz',\n",
       " 'aafiles/numu_files/Xy_numu_7_sel5_doms.npz',\n",
       " 'aafiles/numu_files/Xy_numu_8_sel5_doms.npz',\n",
       " 'aafiles/numu_files/Xy_numu_9_sel5_doms.npz',\n",
       " 'aafiles/numu_files/Xy_numu_10_sel5_doms.npz',\n",
       " 'aafiles/numu_files/Xy_numu_11_sel5_doms.npz',\n",
       " 'aafiles/numu_files/Xy_numu_12_sel5_doms.npz',\n",
       " 'aafiles/numu_files/Xy_numu_13_sel5_doms.npz',\n",
       " 'aafiles/numu_files/Xy_numu_14_sel5_doms.npz',\n",
       " 'aafiles/numu_files/Xy_numu_15_sel5_doms.npz',\n",
       " 'aafiles/numu_files/Xy_numu_16_sel5_doms.npz',\n",
       " 'aafiles/numu_files/Xy_numu_17_sel5_doms.npz',\n",
       " 'aafiles/numu_files/Xy_numu_18_sel5_doms.npz',\n",
       " 'aafiles/numu_files/Xy_numu_19_sel5_doms.npz',\n",
       " 'aafiles/numu_files/Xy_numu_20_sel5_doms.npz',\n",
       " 'aafiles/numu_files/Xy_numu_21_sel5_doms.npz',\n",
       " 'aafiles/numu_files/Xy_numu_22_sel5_doms.npz',\n",
       " 'aafiles/numu_files/Xy_numu_23_sel5_doms.npz',\n",
       " 'aafiles/numu_files/Xy_numu_24_sel5_doms.npz',\n",
       " 'aafiles/numu_files/Xy_numu_25_sel5_doms.npz',\n",
       " 'aafiles/numu_files/Xy_numu_26_sel5_doms.npz',\n",
       " 'aafiles/numu_files/Xy_numu_27_sel5_doms.npz',\n",
       " 'aafiles/numu_files/Xy_numu_28_sel5_doms.npz',\n",
       " 'aafiles/numu_files/Xy_numu_29_sel5_doms.npz',\n",
       " 'aafiles/numu_files/Xy_numu_30_sel5_doms.npz',\n",
       " 'aafiles/numu_files/Xy_numu_31_sel5_doms.npz',\n",
       " 'aafiles/numu_files/Xy_numu_32_sel5_doms.npz',\n",
       " 'aafiles/numu_files/Xy_numu_33_sel5_doms.npz',\n",
       " 'aafiles/numu_files/Xy_numu_34_sel5_doms.npz',\n",
       " 'aafiles/numu_files/Xy_numu_35_sel5_doms.npz',\n",
       " 'aafiles/numu_files/Xy_numu_36_sel5_doms.npz',\n",
       " 'aafiles/numu_files/Xy_numu_37_sel5_doms.npz',\n",
       " 'aafiles/numu_files/Xy_numu_38_sel5_doms.npz',\n",
       " 'aafiles/numu_files/Xy_numu_39_sel5_doms.npz',\n",
       " 'aafiles/numu_files/Xy_numu_40_sel5_doms.npz',\n",
       " 'aafiles/numu_files/Xy_numu_41_sel5_doms.npz',\n",
       " 'aafiles/numu_files/Xy_numu_42_sel5_doms.npz',\n",
       " 'aafiles/numu_files/Xy_numu_43_sel5_doms.npz',\n",
       " 'aafiles/numu_files/Xy_numu_44_sel5_doms.npz',\n",
       " 'aafiles/numu_files/Xy_numu_45_sel5_doms.npz',\n",
       " 'aafiles/numu_files/Xy_numu_46_sel5_doms.npz',\n",
       " 'aafiles/numu_files/Xy_numu_47_sel5_doms.npz',\n",
       " 'aafiles/numu_files/Xy_numu_48_sel5_doms.npz',\n",
       " 'aafiles/numu_files/Xy_numu_49_sel5_doms.npz',\n",
       " 'aafiles/numu_files/Xy_numu_50_sel5_doms.npz',\n",
       " 'aafiles/numu_files/Xy_numu_51_sel5_doms.npz',\n",
       " 'aafiles/numu_files/Xy_numu_52_sel5_doms.npz',\n",
       " 'aafiles/numu_files/Xy_numu_53_sel5_doms.npz',\n",
       " 'aafiles/numu_files/Xy_numu_54_sel5_doms.npz',\n",
       " 'aafiles/numu_files/Xy_numu_55_sel5_doms.npz',\n",
       " 'aafiles/numu_files/Xy_numu_56_sel5_doms.npz',\n",
       " 'aafiles/numu_files/Xy_numu_57_sel5_doms.npz',\n",
       " 'aafiles/numu_files/Xy_numu_58_sel5_doms.npz',\n",
       " 'aafiles/numu_files/Xy_numu_59_sel5_doms.npz',\n",
       " 'aafiles/numu_files/Xy_numu_60_sel5_doms.npz',\n",
       " 'aafiles/numu_files/Xy_numu_61_sel5_doms.npz',\n",
       " 'aafiles/numu_files/Xy_numu_62_sel5_doms.npz',\n",
       " 'aafiles/numu_files/Xy_numu_63_sel5_doms.npz',\n",
       " 'aafiles/numu_files/Xy_numu_64_sel5_doms.npz',\n",
       " 'aafiles/numu_files/Xy_numu_65_sel5_doms.npz',\n",
       " 'aafiles/numu_files/Xy_numu_66_sel5_doms.npz',\n",
       " 'aafiles/numu_files/Xy_numu_67_sel5_doms.npz',\n",
       " 'aafiles/numu_files/Xy_numu_68_sel5_doms.npz',\n",
       " 'aafiles/numu_files/Xy_numu_69_sel5_doms.npz',\n",
       " 'aafiles/numu_files/Xy_numu_70_sel5_doms.npz',\n",
       " 'aafiles/numu_files/Xy_numu_71_sel5_doms.npz',\n",
       " 'aafiles/numu_files/Xy_numu_72_sel5_doms.npz',\n",
       " 'aafiles/numu_files/Xy_numu_73_sel5_doms.npz',\n",
       " 'aafiles/numu_files/Xy_numu_74_sel5_doms.npz',\n",
       " 'aafiles/numu_files/Xy_numu_75_sel5_doms.npz',\n",
       " 'aafiles/numu_files/Xy_numu_76_sel5_doms.npz',\n",
       " 'aafiles/numu_files/Xy_numu_77_sel5_doms.npz',\n",
       " 'aafiles/numu_files/Xy_numu_78_sel5_doms.npz',\n",
       " 'aafiles/numu_files/Xy_numu_79_sel5_doms.npz',\n",
       " 'aafiles/numu_files/Xy_numu_80_sel5_doms.npz',\n",
       " 'aafiles/numu_files/Xy_numu_81_sel5_doms.npz',\n",
       " 'aafiles/numu_files/Xy_numu_82_sel5_doms.npz',\n",
       " 'aafiles/numu_files/Xy_numu_83_sel5_doms.npz',\n",
       " 'aafiles/numu_files/Xy_numu_84_sel5_doms.npz',\n",
       " 'aafiles/numu_files/Xy_numu_85_sel5_doms.npz',\n",
       " 'aafiles/numu_files/Xy_numu_86_sel5_doms.npz',\n",
       " 'aafiles/numu_files/Xy_numu_87_sel5_doms.npz',\n",
       " 'aafiles/numu_files/Xy_numu_88_sel5_doms.npz',\n",
       " 'aafiles/numu_files/Xy_numu_89_sel5_doms.npz',\n",
       " 'aafiles/numu_files/Xy_numu_90_sel5_doms.npz',\n",
       " 'aafiles/numu_files/Xy_numu_91_sel5_doms.npz',\n",
       " 'aafiles/numu_files/Xy_numu_92_sel5_doms.npz',\n",
       " 'aafiles/numu_files/Xy_numu_93_sel5_doms.npz',\n",
       " 'aafiles/numu_files/Xy_numu_94_sel5_doms.npz',\n",
       " 'aafiles/numu_files/Xy_numu_95_sel5_doms.npz',\n",
       " 'aafiles/numu_files/Xy_numu_96_sel5_doms.npz',\n",
       " 'aafiles/numu_files/Xy_numu_97_sel5_doms.npz',\n",
       " 'aafiles/numu_files/Xy_numu_98_sel5_doms.npz',\n",
       " 'aafiles/numu_files/Xy_numu_99_sel5_doms.npz',\n",
       " 'aafiles/numu_files/Xy_numu_100_sel5_doms.npz']"
      ]
     },
     "execution_count": 2,
     "metadata": {},
     "output_type": "execute_result"
    }
   ],
   "source": [
    "fnames_numu"
   ]
  },
  {
   "cell_type": "code",
   "execution_count": 31,
   "metadata": {},
   "outputs": [],
   "source": [
    "shapes_numu = []\n",
    "for fname in fnames_numu:\n",
    "    shapes_numu.append(np.load(fname)[\"y\"].shape)\n",
    "shapes_numu = np.asarray(shapes_numu).ravel()"
   ]
  },
  {
   "cell_type": "code",
   "execution_count": 61,
   "metadata": {},
   "outputs": [
    {
     "data": {
      "text/plain": [
       "array([ 0,  1,  3,  4,  5,  6,  7,  8, 10, 11, 12, 13, 14, 15, 16, 17, 18,\n",
       "       20, 21, 22, 23, 25, 26, 27, 28, 32, 33, 34, 35, 36, 37, 38, 40, 41,\n",
       "       42, 43, 45, 46, 47, 48, 50, 51, 53, 54, 55, 56, 58, 61, 62, 63, 67,\n",
       "       73, 75, 76, 78, 80, 81, 84, 87, 90, 92, 95, 96, 97, 98])"
      ]
     },
     "execution_count": 61,
     "metadata": {},
     "output_type": "execute_result"
    }
   ],
   "source": [
    "np.sort(np.unique(shapes_numu,return_index=True)[1])"
   ]
  },
  {
   "cell_type": "code",
   "execution_count": 62,
   "metadata": {},
   "outputs": [
    {
     "data": {
      "text/plain": [
       "array([ 0,  1,  2,  3,  4,  5,  6,  7,  8, 10, 11, 12, 13, 14, 15, 16, 17,\n",
       "       18, 22, 23, 25, 26, 27, 28, 30, 31, 32, 33, 34, 35, 36, 40, 41, 42,\n",
       "       43, 44, 45, 46, 47, 48, 53, 54, 56, 57, 60, 61, 62, 64, 65, 66, 67,\n",
       "       71, 73, 74, 76, 82, 84, 86, 87, 88, 90, 92, 94])"
      ]
     },
     "execution_count": 62,
     "metadata": {},
     "output_type": "execute_result"
    }
   ],
   "source": [
    "shapes_nue = []\n",
    "for fname in fnames_nue:\n",
    "    shapes_nue.append(np.load(fname)[\"y\"].shape)\n",
    "shapes_nue = np.asarray(shapes_nue).ravel()\n",
    "np.sort(np.unique(shapes_nue, return_index=True)[1])\n"
   ]
  },
  {
   "cell_type": "code",
   "execution_count": 38,
   "metadata": {
    "collapsed": true
   },
   "outputs": [],
   "source": [
    "numu_aa = []\n",
    "for i in range(1,101):\n",
    "    numu_aa.append(\"aafiles/numu_files/numu_st_JTE_aa/km3_v4_numucc_\"+str(i)+\".evt.JTE.aa.root\")"
   ]
  },
  {
   "cell_type": "code",
   "execution_count": 77,
   "metadata": {
    "collapsed": true
   },
   "outputs": [
    {
     "data": {
      "text/plain": [
       "['aafiles/numu_files/numu_st_JTE_aa/km3_v4_numucc_1.evt.JTE.aa.root',\n",
       " 'aafiles/numu_files/numu_st_JTE_aa/km3_v4_numucc_2.evt.JTE.aa.root',\n",
       " 'aafiles/numu_files/numu_st_JTE_aa/km3_v4_numucc_3.evt.JTE.aa.root',\n",
       " 'aafiles/numu_files/numu_st_JTE_aa/km3_v4_numucc_4.evt.JTE.aa.root',\n",
       " 'aafiles/numu_files/numu_st_JTE_aa/km3_v4_numucc_5.evt.JTE.aa.root',\n",
       " 'aafiles/numu_files/numu_st_JTE_aa/km3_v4_numucc_6.evt.JTE.aa.root',\n",
       " 'aafiles/numu_files/numu_st_JTE_aa/km3_v4_numucc_7.evt.JTE.aa.root',\n",
       " 'aafiles/numu_files/numu_st_JTE_aa/km3_v4_numucc_8.evt.JTE.aa.root',\n",
       " 'aafiles/numu_files/numu_st_JTE_aa/km3_v4_numucc_9.evt.JTE.aa.root',\n",
       " 'aafiles/numu_files/numu_st_JTE_aa/km3_v4_numucc_10.evt.JTE.aa.root',\n",
       " 'aafiles/numu_files/numu_st_JTE_aa/km3_v4_numucc_11.evt.JTE.aa.root',\n",
       " 'aafiles/numu_files/numu_st_JTE_aa/km3_v4_numucc_12.evt.JTE.aa.root',\n",
       " 'aafiles/numu_files/numu_st_JTE_aa/km3_v4_numucc_13.evt.JTE.aa.root',\n",
       " 'aafiles/numu_files/numu_st_JTE_aa/km3_v4_numucc_14.evt.JTE.aa.root',\n",
       " 'aafiles/numu_files/numu_st_JTE_aa/km3_v4_numucc_15.evt.JTE.aa.root',\n",
       " 'aafiles/numu_files/numu_st_JTE_aa/km3_v4_numucc_16.evt.JTE.aa.root',\n",
       " 'aafiles/numu_files/numu_st_JTE_aa/km3_v4_numucc_17.evt.JTE.aa.root',\n",
       " 'aafiles/numu_files/numu_st_JTE_aa/km3_v4_numucc_18.evt.JTE.aa.root',\n",
       " 'aafiles/numu_files/numu_st_JTE_aa/km3_v4_numucc_19.evt.JTE.aa.root',\n",
       " 'aafiles/numu_files/numu_st_JTE_aa/km3_v4_numucc_20.evt.JTE.aa.root',\n",
       " 'aafiles/numu_files/numu_st_JTE_aa/km3_v4_numucc_21.evt.JTE.aa.root',\n",
       " 'aafiles/numu_files/numu_st_JTE_aa/km3_v4_numucc_22.evt.JTE.aa.root',\n",
       " 'aafiles/numu_files/numu_st_JTE_aa/km3_v4_numucc_23.evt.JTE.aa.root',\n",
       " 'aafiles/numu_files/numu_st_JTE_aa/km3_v4_numucc_24.evt.JTE.aa.root',\n",
       " 'aafiles/numu_files/numu_st_JTE_aa/km3_v4_numucc_25.evt.JTE.aa.root',\n",
       " 'aafiles/numu_files/numu_st_JTE_aa/km3_v4_numucc_26.evt.JTE.aa.root',\n",
       " 'aafiles/numu_files/numu_st_JTE_aa/km3_v4_numucc_27.evt.JTE.aa.root',\n",
       " 'aafiles/numu_files/numu_st_JTE_aa/km3_v4_numucc_28.evt.JTE.aa.root',\n",
       " 'aafiles/numu_files/numu_st_JTE_aa/km3_v4_numucc_29.evt.JTE.aa.root',\n",
       " 'aafiles/numu_files/numu_st_JTE_aa/km3_v4_numucc_30.evt.JTE.aa.root',\n",
       " 'aafiles/numu_files/numu_st_JTE_aa/km3_v4_numucc_31.evt.JTE.aa.root',\n",
       " 'aafiles/numu_files/numu_st_JTE_aa/km3_v4_numucc_32.evt.JTE.aa.root',\n",
       " 'aafiles/numu_files/numu_st_JTE_aa/km3_v4_numucc_33.evt.JTE.aa.root',\n",
       " 'aafiles/numu_files/numu_st_JTE_aa/km3_v4_numucc_34.evt.JTE.aa.root',\n",
       " 'aafiles/numu_files/numu_st_JTE_aa/km3_v4_numucc_35.evt.JTE.aa.root',\n",
       " 'aafiles/numu_files/numu_st_JTE_aa/km3_v4_numucc_36.evt.JTE.aa.root',\n",
       " 'aafiles/numu_files/numu_st_JTE_aa/km3_v4_numucc_37.evt.JTE.aa.root',\n",
       " 'aafiles/numu_files/numu_st_JTE_aa/km3_v4_numucc_38.evt.JTE.aa.root',\n",
       " 'aafiles/numu_files/numu_st_JTE_aa/km3_v4_numucc_39.evt.JTE.aa.root',\n",
       " 'aafiles/numu_files/numu_st_JTE_aa/km3_v4_numucc_40.evt.JTE.aa.root',\n",
       " 'aafiles/numu_files/numu_st_JTE_aa/km3_v4_numucc_41.evt.JTE.aa.root',\n",
       " 'aafiles/numu_files/numu_st_JTE_aa/km3_v4_numucc_42.evt.JTE.aa.root',\n",
       " 'aafiles/numu_files/numu_st_JTE_aa/km3_v4_numucc_43.evt.JTE.aa.root',\n",
       " 'aafiles/numu_files/numu_st_JTE_aa/km3_v4_numucc_44.evt.JTE.aa.root',\n",
       " 'aafiles/numu_files/numu_st_JTE_aa/km3_v4_numucc_45.evt.JTE.aa.root',\n",
       " 'aafiles/numu_files/numu_st_JTE_aa/km3_v4_numucc_46.evt.JTE.aa.root',\n",
       " 'aafiles/numu_files/numu_st_JTE_aa/km3_v4_numucc_47.evt.JTE.aa.root',\n",
       " 'aafiles/numu_files/numu_st_JTE_aa/km3_v4_numucc_48.evt.JTE.aa.root',\n",
       " 'aafiles/numu_files/numu_st_JTE_aa/km3_v4_numucc_49.evt.JTE.aa.root',\n",
       " 'aafiles/numu_files/numu_st_JTE_aa/km3_v4_numucc_50.evt.JTE.aa.root',\n",
       " 'aafiles/numu_files/numu_st_JTE_aa/km3_v4_numucc_51.evt.JTE.aa.root',\n",
       " 'aafiles/numu_files/numu_st_JTE_aa/km3_v4_numucc_52.evt.JTE.aa.root',\n",
       " 'aafiles/numu_files/numu_st_JTE_aa/km3_v4_numucc_53.evt.JTE.aa.root',\n",
       " 'aafiles/numu_files/numu_st_JTE_aa/km3_v4_numucc_54.evt.JTE.aa.root',\n",
       " 'aafiles/numu_files/numu_st_JTE_aa/km3_v4_numucc_55.evt.JTE.aa.root',\n",
       " 'aafiles/numu_files/numu_st_JTE_aa/km3_v4_numucc_56.evt.JTE.aa.root',\n",
       " 'aafiles/numu_files/numu_st_JTE_aa/km3_v4_numucc_57.evt.JTE.aa.root',\n",
       " 'aafiles/numu_files/numu_st_JTE_aa/km3_v4_numucc_58.evt.JTE.aa.root',\n",
       " 'aafiles/numu_files/numu_st_JTE_aa/km3_v4_numucc_59.evt.JTE.aa.root',\n",
       " 'aafiles/numu_files/numu_st_JTE_aa/km3_v4_numucc_60.evt.JTE.aa.root',\n",
       " 'aafiles/numu_files/numu_st_JTE_aa/km3_v4_numucc_61.evt.JTE.aa.root',\n",
       " 'aafiles/numu_files/numu_st_JTE_aa/km3_v4_numucc_62.evt.JTE.aa.root',\n",
       " 'aafiles/numu_files/numu_st_JTE_aa/km3_v4_numucc_63.evt.JTE.aa.root',\n",
       " 'aafiles/numu_files/numu_st_JTE_aa/km3_v4_numucc_64.evt.JTE.aa.root',\n",
       " 'aafiles/numu_files/numu_st_JTE_aa/km3_v4_numucc_65.evt.JTE.aa.root',\n",
       " 'aafiles/numu_files/numu_st_JTE_aa/km3_v4_numucc_66.evt.JTE.aa.root',\n",
       " 'aafiles/numu_files/numu_st_JTE_aa/km3_v4_numucc_67.evt.JTE.aa.root',\n",
       " 'aafiles/numu_files/numu_st_JTE_aa/km3_v4_numucc_68.evt.JTE.aa.root',\n",
       " 'aafiles/numu_files/numu_st_JTE_aa/km3_v4_numucc_69.evt.JTE.aa.root',\n",
       " 'aafiles/numu_files/numu_st_JTE_aa/km3_v4_numucc_70.evt.JTE.aa.root',\n",
       " 'aafiles/numu_files/numu_st_JTE_aa/km3_v4_numucc_71.evt.JTE.aa.root',\n",
       " 'aafiles/numu_files/numu_st_JTE_aa/km3_v4_numucc_72.evt.JTE.aa.root',\n",
       " 'aafiles/numu_files/numu_st_JTE_aa/km3_v4_numucc_73.evt.JTE.aa.root',\n",
       " 'aafiles/numu_files/numu_st_JTE_aa/km3_v4_numucc_74.evt.JTE.aa.root',\n",
       " 'aafiles/numu_files/numu_st_JTE_aa/km3_v4_numucc_75.evt.JTE.aa.root',\n",
       " 'aafiles/numu_files/numu_st_JTE_aa/km3_v4_numucc_76.evt.JTE.aa.root',\n",
       " 'aafiles/numu_files/numu_st_JTE_aa/km3_v4_numucc_77.evt.JTE.aa.root',\n",
       " 'aafiles/numu_files/numu_st_JTE_aa/km3_v4_numucc_78.evt.JTE.aa.root',\n",
       " 'aafiles/numu_files/numu_st_JTE_aa/km3_v4_numucc_79.evt.JTE.aa.root',\n",
       " 'aafiles/numu_files/numu_st_JTE_aa/km3_v4_numucc_80.evt.JTE.aa.root',\n",
       " 'aafiles/numu_files/numu_st_JTE_aa/km3_v4_numucc_81.evt.JTE.aa.root',\n",
       " 'aafiles/numu_files/numu_st_JTE_aa/km3_v4_numucc_82.evt.JTE.aa.root',\n",
       " 'aafiles/numu_files/numu_st_JTE_aa/km3_v4_numucc_83.evt.JTE.aa.root',\n",
       " 'aafiles/numu_files/numu_st_JTE_aa/km3_v4_numucc_84.evt.JTE.aa.root',\n",
       " 'aafiles/numu_files/numu_st_JTE_aa/km3_v4_numucc_85.evt.JTE.aa.root',\n",
       " 'aafiles/numu_files/numu_st_JTE_aa/km3_v4_numucc_86.evt.JTE.aa.root',\n",
       " 'aafiles/numu_files/numu_st_JTE_aa/km3_v4_numucc_87.evt.JTE.aa.root',\n",
       " 'aafiles/numu_files/numu_st_JTE_aa/km3_v4_numucc_88.evt.JTE.aa.root',\n",
       " 'aafiles/numu_files/numu_st_JTE_aa/km3_v4_numucc_89.evt.JTE.aa.root',\n",
       " 'aafiles/numu_files/numu_st_JTE_aa/km3_v4_numucc_90.evt.JTE.aa.root',\n",
       " 'aafiles/numu_files/numu_st_JTE_aa/km3_v4_numucc_91.evt.JTE.aa.root',\n",
       " 'aafiles/numu_files/numu_st_JTE_aa/km3_v4_numucc_92.evt.JTE.aa.root',\n",
       " 'aafiles/numu_files/numu_st_JTE_aa/km3_v4_numucc_93.evt.JTE.aa.root',\n",
       " 'aafiles/numu_files/numu_st_JTE_aa/km3_v4_numucc_94.evt.JTE.aa.root',\n",
       " 'aafiles/numu_files/numu_st_JTE_aa/km3_v4_numucc_95.evt.JTE.aa.root',\n",
       " 'aafiles/numu_files/numu_st_JTE_aa/km3_v4_numucc_96.evt.JTE.aa.root',\n",
       " 'aafiles/numu_files/numu_st_JTE_aa/km3_v4_numucc_97.evt.JTE.aa.root',\n",
       " 'aafiles/numu_files/numu_st_JTE_aa/km3_v4_numucc_98.evt.JTE.aa.root',\n",
       " 'aafiles/numu_files/numu_st_JTE_aa/km3_v4_numucc_99.evt.JTE.aa.root',\n",
       " 'aafiles/numu_files/numu_st_JTE_aa/km3_v4_numucc_100.evt.JTE.aa.root']"
      ]
     },
     "execution_count": 77,
     "metadata": {},
     "output_type": "execute_result"
    }
   ],
   "source": [
    "numu_aa"
   ]
  },
  {
   "cell_type": "code",
   "execution_count": 49,
   "metadata": {
    "collapsed": true
   },
   "outputs": [
    {
     "name": "stdout",
     "output_type": "stream",
     "text": [
      "File 1\n",
      "File 2\n",
      "File 3\n",
      "File 4\n",
      "File 5\n",
      "File 6\n",
      "File 7\n",
      "File 8\n",
      "File 9\n",
      "File 10\n",
      "File 11\n",
      "File 12\n",
      "File 13\n",
      "File 14\n",
      "File 15\n",
      "File 16\n",
      "File 17\n",
      "File 18\n",
      "File 19\n",
      "File 20\n",
      "File 21\n",
      "File 22\n",
      "File 23\n",
      "File 24\n",
      "File 25\n",
      "File 26\n",
      "File 27\n",
      "File 28\n",
      "File 29\n",
      "File 30\n",
      "File 31\n",
      "File 32\n",
      "File 33\n",
      "File 34\n",
      "File 35\n",
      "File 36\n",
      "File 37\n",
      "File 38\n",
      "File 39\n",
      "File 40\n",
      "File 41\n",
      "File 42\n",
      "File 43\n",
      "File 44\n",
      "File 45\n",
      "File 46\n",
      "File 47\n",
      "File 48\n",
      "File 49\n",
      "File 50\n",
      "File 51\n",
      "File 52\n",
      "File 53\n",
      "File 54\n",
      "File 55\n",
      "File 56\n",
      "File 57\n",
      "File 58\n",
      "File 59\n",
      "File 60\n",
      "File 61\n",
      "File 62\n",
      "File 63\n",
      "File 64\n",
      "File 65\n",
      "File 66\n",
      "File 67\n",
      "File 68\n",
      "File 69\n",
      "File 70\n",
      "File 71\n",
      "File 72\n",
      "File 73\n",
      "File 74\n",
      "File 75\n",
      "File 76\n",
      "File 77\n",
      "File 78\n",
      "File 79\n",
      "File 80\n",
      "File 81\n",
      "File 82\n",
      "File 83\n",
      "File 84\n",
      "File 85\n",
      "File 86\n",
      "File 87\n",
      "File 88\n",
      "File 89\n",
      "File 90\n",
      "File 91\n",
      "File 92\n",
      "File 93\n",
      "File 94\n",
      "File 95\n",
      "File 96\n",
      "File 97\n",
      "File 98\n",
      "File 99\n",
      "File 100\n"
     ]
    }
   ],
   "source": [
    "aa_numu = []\n",
    "for i,fil in enumerate(numu_aa):\n",
    "    print(\"File %d\"%(i+1))\n",
    "    aa_numu.append(rnp.root2array(fil, treename=\"E\", branches=\"Evt.hits.channel_id\"))\n",
    "aa_numu = np.asarray(aa_numu)"
   ]
  },
  {
   "cell_type": "code",
   "execution_count": 64,
   "metadata": {},
   "outputs": [],
   "source": [
    "nue_aa = []\n",
    "for i in range(1,101):\n",
    "    nue_aa.append(\"aafiles/nue_files/nue_st_JTE_aa/km3_v4_nuecc_\"+str(i)+\".evt.JTE.aa.root\")"
   ]
  },
  {
   "cell_type": "code",
   "execution_count": 65,
   "metadata": {
    "collapsed": true
   },
   "outputs": [
    {
     "data": {
      "text/plain": [
       "['aafiles/nue_files/nue_st_JTE_aa/km3_v4_nuecc_1.evt.JTE.aa.root',\n",
       " 'aafiles/nue_files/nue_st_JTE_aa/km3_v4_nuecc_2.evt.JTE.aa.root',\n",
       " 'aafiles/nue_files/nue_st_JTE_aa/km3_v4_nuecc_3.evt.JTE.aa.root',\n",
       " 'aafiles/nue_files/nue_st_JTE_aa/km3_v4_nuecc_4.evt.JTE.aa.root',\n",
       " 'aafiles/nue_files/nue_st_JTE_aa/km3_v4_nuecc_5.evt.JTE.aa.root',\n",
       " 'aafiles/nue_files/nue_st_JTE_aa/km3_v4_nuecc_6.evt.JTE.aa.root',\n",
       " 'aafiles/nue_files/nue_st_JTE_aa/km3_v4_nuecc_7.evt.JTE.aa.root',\n",
       " 'aafiles/nue_files/nue_st_JTE_aa/km3_v4_nuecc_8.evt.JTE.aa.root',\n",
       " 'aafiles/nue_files/nue_st_JTE_aa/km3_v4_nuecc_9.evt.JTE.aa.root',\n",
       " 'aafiles/nue_files/nue_st_JTE_aa/km3_v4_nuecc_10.evt.JTE.aa.root',\n",
       " 'aafiles/nue_files/nue_st_JTE_aa/km3_v4_nuecc_11.evt.JTE.aa.root',\n",
       " 'aafiles/nue_files/nue_st_JTE_aa/km3_v4_nuecc_12.evt.JTE.aa.root',\n",
       " 'aafiles/nue_files/nue_st_JTE_aa/km3_v4_nuecc_13.evt.JTE.aa.root',\n",
       " 'aafiles/nue_files/nue_st_JTE_aa/km3_v4_nuecc_14.evt.JTE.aa.root',\n",
       " 'aafiles/nue_files/nue_st_JTE_aa/km3_v4_nuecc_15.evt.JTE.aa.root',\n",
       " 'aafiles/nue_files/nue_st_JTE_aa/km3_v4_nuecc_16.evt.JTE.aa.root',\n",
       " 'aafiles/nue_files/nue_st_JTE_aa/km3_v4_nuecc_17.evt.JTE.aa.root',\n",
       " 'aafiles/nue_files/nue_st_JTE_aa/km3_v4_nuecc_18.evt.JTE.aa.root',\n",
       " 'aafiles/nue_files/nue_st_JTE_aa/km3_v4_nuecc_19.evt.JTE.aa.root',\n",
       " 'aafiles/nue_files/nue_st_JTE_aa/km3_v4_nuecc_20.evt.JTE.aa.root',\n",
       " 'aafiles/nue_files/nue_st_JTE_aa/km3_v4_nuecc_21.evt.JTE.aa.root',\n",
       " 'aafiles/nue_files/nue_st_JTE_aa/km3_v4_nuecc_22.evt.JTE.aa.root',\n",
       " 'aafiles/nue_files/nue_st_JTE_aa/km3_v4_nuecc_23.evt.JTE.aa.root',\n",
       " 'aafiles/nue_files/nue_st_JTE_aa/km3_v4_nuecc_24.evt.JTE.aa.root',\n",
       " 'aafiles/nue_files/nue_st_JTE_aa/km3_v4_nuecc_25.evt.JTE.aa.root',\n",
       " 'aafiles/nue_files/nue_st_JTE_aa/km3_v4_nuecc_26.evt.JTE.aa.root',\n",
       " 'aafiles/nue_files/nue_st_JTE_aa/km3_v4_nuecc_27.evt.JTE.aa.root',\n",
       " 'aafiles/nue_files/nue_st_JTE_aa/km3_v4_nuecc_28.evt.JTE.aa.root',\n",
       " 'aafiles/nue_files/nue_st_JTE_aa/km3_v4_nuecc_29.evt.JTE.aa.root',\n",
       " 'aafiles/nue_files/nue_st_JTE_aa/km3_v4_nuecc_30.evt.JTE.aa.root',\n",
       " 'aafiles/nue_files/nue_st_JTE_aa/km3_v4_nuecc_31.evt.JTE.aa.root',\n",
       " 'aafiles/nue_files/nue_st_JTE_aa/km3_v4_nuecc_32.evt.JTE.aa.root',\n",
       " 'aafiles/nue_files/nue_st_JTE_aa/km3_v4_nuecc_33.evt.JTE.aa.root',\n",
       " 'aafiles/nue_files/nue_st_JTE_aa/km3_v4_nuecc_34.evt.JTE.aa.root',\n",
       " 'aafiles/nue_files/nue_st_JTE_aa/km3_v4_nuecc_35.evt.JTE.aa.root',\n",
       " 'aafiles/nue_files/nue_st_JTE_aa/km3_v4_nuecc_36.evt.JTE.aa.root',\n",
       " 'aafiles/nue_files/nue_st_JTE_aa/km3_v4_nuecc_37.evt.JTE.aa.root',\n",
       " 'aafiles/nue_files/nue_st_JTE_aa/km3_v4_nuecc_38.evt.JTE.aa.root',\n",
       " 'aafiles/nue_files/nue_st_JTE_aa/km3_v4_nuecc_39.evt.JTE.aa.root',\n",
       " 'aafiles/nue_files/nue_st_JTE_aa/km3_v4_nuecc_40.evt.JTE.aa.root',\n",
       " 'aafiles/nue_files/nue_st_JTE_aa/km3_v4_nuecc_41.evt.JTE.aa.root',\n",
       " 'aafiles/nue_files/nue_st_JTE_aa/km3_v4_nuecc_42.evt.JTE.aa.root',\n",
       " 'aafiles/nue_files/nue_st_JTE_aa/km3_v4_nuecc_43.evt.JTE.aa.root',\n",
       " 'aafiles/nue_files/nue_st_JTE_aa/km3_v4_nuecc_44.evt.JTE.aa.root',\n",
       " 'aafiles/nue_files/nue_st_JTE_aa/km3_v4_nuecc_45.evt.JTE.aa.root',\n",
       " 'aafiles/nue_files/nue_st_JTE_aa/km3_v4_nuecc_46.evt.JTE.aa.root',\n",
       " 'aafiles/nue_files/nue_st_JTE_aa/km3_v4_nuecc_47.evt.JTE.aa.root',\n",
       " 'aafiles/nue_files/nue_st_JTE_aa/km3_v4_nuecc_48.evt.JTE.aa.root',\n",
       " 'aafiles/nue_files/nue_st_JTE_aa/km3_v4_nuecc_49.evt.JTE.aa.root',\n",
       " 'aafiles/nue_files/nue_st_JTE_aa/km3_v4_nuecc_50.evt.JTE.aa.root',\n",
       " 'aafiles/nue_files/nue_st_JTE_aa/km3_v4_nuecc_51.evt.JTE.aa.root',\n",
       " 'aafiles/nue_files/nue_st_JTE_aa/km3_v4_nuecc_52.evt.JTE.aa.root',\n",
       " 'aafiles/nue_files/nue_st_JTE_aa/km3_v4_nuecc_53.evt.JTE.aa.root',\n",
       " 'aafiles/nue_files/nue_st_JTE_aa/km3_v4_nuecc_54.evt.JTE.aa.root',\n",
       " 'aafiles/nue_files/nue_st_JTE_aa/km3_v4_nuecc_55.evt.JTE.aa.root',\n",
       " 'aafiles/nue_files/nue_st_JTE_aa/km3_v4_nuecc_56.evt.JTE.aa.root',\n",
       " 'aafiles/nue_files/nue_st_JTE_aa/km3_v4_nuecc_57.evt.JTE.aa.root',\n",
       " 'aafiles/nue_files/nue_st_JTE_aa/km3_v4_nuecc_58.evt.JTE.aa.root',\n",
       " 'aafiles/nue_files/nue_st_JTE_aa/km3_v4_nuecc_59.evt.JTE.aa.root',\n",
       " 'aafiles/nue_files/nue_st_JTE_aa/km3_v4_nuecc_60.evt.JTE.aa.root',\n",
       " 'aafiles/nue_files/nue_st_JTE_aa/km3_v4_nuecc_61.evt.JTE.aa.root',\n",
       " 'aafiles/nue_files/nue_st_JTE_aa/km3_v4_nuecc_62.evt.JTE.aa.root',\n",
       " 'aafiles/nue_files/nue_st_JTE_aa/km3_v4_nuecc_63.evt.JTE.aa.root',\n",
       " 'aafiles/nue_files/nue_st_JTE_aa/km3_v4_nuecc_64.evt.JTE.aa.root',\n",
       " 'aafiles/nue_files/nue_st_JTE_aa/km3_v4_nuecc_65.evt.JTE.aa.root',\n",
       " 'aafiles/nue_files/nue_st_JTE_aa/km3_v4_nuecc_66.evt.JTE.aa.root',\n",
       " 'aafiles/nue_files/nue_st_JTE_aa/km3_v4_nuecc_67.evt.JTE.aa.root',\n",
       " 'aafiles/nue_files/nue_st_JTE_aa/km3_v4_nuecc_68.evt.JTE.aa.root',\n",
       " 'aafiles/nue_files/nue_st_JTE_aa/km3_v4_nuecc_69.evt.JTE.aa.root',\n",
       " 'aafiles/nue_files/nue_st_JTE_aa/km3_v4_nuecc_70.evt.JTE.aa.root',\n",
       " 'aafiles/nue_files/nue_st_JTE_aa/km3_v4_nuecc_71.evt.JTE.aa.root',\n",
       " 'aafiles/nue_files/nue_st_JTE_aa/km3_v4_nuecc_72.evt.JTE.aa.root',\n",
       " 'aafiles/nue_files/nue_st_JTE_aa/km3_v4_nuecc_73.evt.JTE.aa.root',\n",
       " 'aafiles/nue_files/nue_st_JTE_aa/km3_v4_nuecc_74.evt.JTE.aa.root',\n",
       " 'aafiles/nue_files/nue_st_JTE_aa/km3_v4_nuecc_75.evt.JTE.aa.root',\n",
       " 'aafiles/nue_files/nue_st_JTE_aa/km3_v4_nuecc_76.evt.JTE.aa.root',\n",
       " 'aafiles/nue_files/nue_st_JTE_aa/km3_v4_nuecc_77.evt.JTE.aa.root',\n",
       " 'aafiles/nue_files/nue_st_JTE_aa/km3_v4_nuecc_78.evt.JTE.aa.root',\n",
       " 'aafiles/nue_files/nue_st_JTE_aa/km3_v4_nuecc_79.evt.JTE.aa.root',\n",
       " 'aafiles/nue_files/nue_st_JTE_aa/km3_v4_nuecc_80.evt.JTE.aa.root',\n",
       " 'aafiles/nue_files/nue_st_JTE_aa/km3_v4_nuecc_81.evt.JTE.aa.root',\n",
       " 'aafiles/nue_files/nue_st_JTE_aa/km3_v4_nuecc_82.evt.JTE.aa.root',\n",
       " 'aafiles/nue_files/nue_st_JTE_aa/km3_v4_nuecc_83.evt.JTE.aa.root',\n",
       " 'aafiles/nue_files/nue_st_JTE_aa/km3_v4_nuecc_84.evt.JTE.aa.root',\n",
       " 'aafiles/nue_files/nue_st_JTE_aa/km3_v4_nuecc_85.evt.JTE.aa.root',\n",
       " 'aafiles/nue_files/nue_st_JTE_aa/km3_v4_nuecc_86.evt.JTE.aa.root',\n",
       " 'aafiles/nue_files/nue_st_JTE_aa/km3_v4_nuecc_87.evt.JTE.aa.root',\n",
       " 'aafiles/nue_files/nue_st_JTE_aa/km3_v4_nuecc_88.evt.JTE.aa.root',\n",
       " 'aafiles/nue_files/nue_st_JTE_aa/km3_v4_nuecc_89.evt.JTE.aa.root',\n",
       " 'aafiles/nue_files/nue_st_JTE_aa/km3_v4_nuecc_90.evt.JTE.aa.root',\n",
       " 'aafiles/nue_files/nue_st_JTE_aa/km3_v4_nuecc_91.evt.JTE.aa.root',\n",
       " 'aafiles/nue_files/nue_st_JTE_aa/km3_v4_nuecc_92.evt.JTE.aa.root',\n",
       " 'aafiles/nue_files/nue_st_JTE_aa/km3_v4_nuecc_93.evt.JTE.aa.root',\n",
       " 'aafiles/nue_files/nue_st_JTE_aa/km3_v4_nuecc_94.evt.JTE.aa.root',\n",
       " 'aafiles/nue_files/nue_st_JTE_aa/km3_v4_nuecc_95.evt.JTE.aa.root',\n",
       " 'aafiles/nue_files/nue_st_JTE_aa/km3_v4_nuecc_96.evt.JTE.aa.root',\n",
       " 'aafiles/nue_files/nue_st_JTE_aa/km3_v4_nuecc_97.evt.JTE.aa.root',\n",
       " 'aafiles/nue_files/nue_st_JTE_aa/km3_v4_nuecc_98.evt.JTE.aa.root',\n",
       " 'aafiles/nue_files/nue_st_JTE_aa/km3_v4_nuecc_99.evt.JTE.aa.root',\n",
       " 'aafiles/nue_files/nue_st_JTE_aa/km3_v4_nuecc_100.evt.JTE.aa.root']"
      ]
     },
     "execution_count": 65,
     "metadata": {},
     "output_type": "execute_result"
    }
   ],
   "source": [
    "nue_aa"
   ]
  },
  {
   "cell_type": "code",
   "execution_count": 67,
   "metadata": {
    "scrolled": true
   },
   "outputs": [
    {
     "name": "stdout",
     "output_type": "stream",
     "text": [
      "File 1\n",
      "File 2\n",
      "File 3\n",
      "File 4\n",
      "File 5\n",
      "File 6\n",
      "File 7\n",
      "File 8\n",
      "File 9\n",
      "File 10\n",
      "File 11\n",
      "File 12\n",
      "File 13\n",
      "File 14\n",
      "File 15\n",
      "File 16\n",
      "File 17\n",
      "File 18\n",
      "File 19\n",
      "File 20\n",
      "File 21\n",
      "File 22\n",
      "File 23\n",
      "File 24\n",
      "File 25\n",
      "File 26\n",
      "File 27\n",
      "File 28\n",
      "File 29\n",
      "File 30\n",
      "File 31\n",
      "File 32\n",
      "File 33\n",
      "File 34\n",
      "File 35\n",
      "File 36\n",
      "File 37\n",
      "File 38\n",
      "File 39\n",
      "File 40\n",
      "File 41\n",
      "File 42\n",
      "File 43\n",
      "File 44\n",
      "File 45\n",
      "File 46\n",
      "File 47\n",
      "File 48\n",
      "File 49\n",
      "File 50\n",
      "File 51\n",
      "File 52\n",
      "File 53\n",
      "File 54\n",
      "File 55\n",
      "File 56\n",
      "File 57\n",
      "File 58\n",
      "File 59\n",
      "File 60\n",
      "File 61\n",
      "File 62\n",
      "File 63\n",
      "File 64\n",
      "File 65\n",
      "File 66\n",
      "File 67\n",
      "File 68\n",
      "File 69\n",
      "File 70\n",
      "File 71\n",
      "File 72\n",
      "File 73\n",
      "File 74\n",
      "File 75\n",
      "File 76\n",
      "File 77\n",
      "File 78\n",
      "File 79\n",
      "File 80\n",
      "File 81\n",
      "File 82\n",
      "File 83\n",
      "File 84\n",
      "File 85\n",
      "File 86\n",
      "File 87\n",
      "File 88\n",
      "File 89\n",
      "File 90\n",
      "File 91\n",
      "File 92\n",
      "File 93\n",
      "File 94\n",
      "File 95\n",
      "File 96\n",
      "File 97\n",
      "File 98\n",
      "File 99\n",
      "File 100\n"
     ]
    }
   ],
   "source": [
    "aa_nue = []\n",
    "for i,fil in enumerate(nue_aa):\n",
    "    print(\"File %d\"%(i+1))\n",
    "    aa_nue.append(rnp.root2array(fil, treename=\"E\", branches=\"Evt.hits.channel_id\").shape[0])\n",
    "aa_nue = np.asarray(aa_nue)"
   ]
  },
  {
   "cell_type": "code",
   "execution_count": 69,
   "metadata": {},
   "outputs": [],
   "source": [
    "unique_nue_files = np.sort(np.unique(aa_nue, return_index=True)[1])"
   ]
  },
  {
   "cell_type": "code",
   "execution_count": 72,
   "metadata": {},
   "outputs": [
    {
     "data": {
      "text/plain": [
       "array([ 0,  1,  2,  3,  4,  5,  6,  7,  8, 10, 11, 12, 13, 15, 16, 17, 18,\n",
       "       20, 21, 22, 24, 25, 26, 27, 28, 30, 31, 33, 34, 35, 36, 37, 38, 40,\n",
       "       41, 43, 44, 45, 46, 47, 51, 52, 54, 55, 56, 58, 60, 61, 64, 65, 67,\n",
       "       70, 71, 72, 75, 80, 82, 83, 84, 85, 86, 87, 91, 93, 98])"
      ]
     },
     "execution_count": 72,
     "metadata": {},
     "output_type": "execute_result"
    }
   ],
   "source": [
    "unique_nue_files"
   ]
  },
  {
   "cell_type": "code",
   "execution_count": 59,
   "metadata": {},
   "outputs": [],
   "source": [
    "unique_numu_files = np.sort(np.unique(shapes_aa_numu, return_index=True)[1])"
   ]
  },
  {
   "cell_type": "code",
   "execution_count": 84,
   "metadata": {},
   "outputs": [
    {
     "data": {
      "text/plain": [
       "array([ 1,  2,  3,  4,  5,  6,  7,  8,  9, 11, 12, 13, 14, 15, 16, 17, 18,\n",
       "       21, 22, 23, 24, 26, 27, 28, 29, 31, 34, 36, 37, 38, 39, 41, 42, 43,\n",
       "       44, 46, 48, 49, 52, 54, 55, 56, 57, 59, 62, 67, 68, 69, 71, 74, 76,\n",
       "       77, 78, 79, 81, 83, 85, 88, 93, 95, 98, 99])"
      ]
     },
     "execution_count": 84,
     "metadata": {},
     "output_type": "execute_result"
    }
   ],
   "source": [
    "unique_numu_files+1"
   ]
  },
  {
   "cell_type": "code",
   "execution_count": 76,
   "metadata": {},
   "outputs": [
    {
     "name": "stdout",
     "output_type": "stream",
     "text": [
      "(62, 65)\n"
     ]
    }
   ],
   "source": [
    "print(unique_numu_files.size, unique_nue_files.size)"
   ]
  },
  {
   "cell_type": "code",
   "execution_count": 85,
   "metadata": {},
   "outputs": [
    {
     "data": {
      "text/plain": [
       "array([ 0,  1,  2,  3,  4,  5,  6,  7,  8, 10, 11, 12, 13, 14, 15, 16, 17,\n",
       "       20, 21, 22, 23, 25, 26, 27, 28, 30, 33, 35, 36, 37, 38, 40, 41, 42,\n",
       "       43, 45, 47, 48, 51, 53, 54, 55, 56, 58, 61, 66, 67, 68, 70, 73, 75,\n",
       "       76, 77, 78, 80, 82, 84, 87, 92, 94])"
      ]
     },
     "execution_count": 85,
     "metadata": {},
     "output_type": "execute_result"
    }
   ],
   "source": [
    "unique_numu_files[:60]"
   ]
  },
  {
   "cell_type": "code",
   "execution_count": 86,
   "metadata": {},
   "outputs": [
    {
     "data": {
      "text/plain": [
       "array([ 0,  1,  2,  3,  4,  5,  6,  7,  8, 10, 11, 12, 13, 15, 16, 17, 18,\n",
       "       20, 21, 22, 24, 25, 26, 27, 28, 30, 31, 33, 34, 35, 36, 37, 38, 40,\n",
       "       41, 43, 44, 45, 46, 47, 51, 52, 54, 55, 56, 58, 60, 61, 64, 65, 67,\n",
       "       70, 71, 72, 75, 80, 82, 83, 84, 85])"
      ]
     },
     "execution_count": 86,
     "metadata": {},
     "output_type": "execute_result"
    }
   ],
   "source": [
    "unique_nue_files[:60]"
   ]
  },
  {
   "cell_type": "code",
   "execution_count": null,
   "metadata": {
    "collapsed": true
   },
   "outputs": [],
   "source": []
  }
 ],
 "metadata": {
  "kernelspec": {
   "display_name": "Python 2",
   "language": "python",
   "name": "python2"
  },
  "language_info": {
   "codemirror_mode": {
    "name": "ipython",
    "version": 2
   },
   "file_extension": ".py",
   "mimetype": "text/x-python",
   "name": "python",
   "nbconvert_exporter": "python",
   "pygments_lexer": "ipython2",
   "version": "2.7.9"
  }
 },
 "nbformat": 4,
 "nbformat_minor": 2
}
