{
 "cells": [
  {
   "cell_type": "code",
   "execution_count": 1,
   "metadata": {
    "collapsed": true
   },
   "outputs": [],
   "source": [
    "import numpy as np\n",
    "import matplotlib.pyplot as plt\n",
    "\n",
    "% matplotlib inline"
   ]
  },
  {
   "cell_type": "code",
   "execution_count": 2,
   "metadata": {
    "collapsed": true
   },
   "outputs": [],
   "source": [
    "Xy_numu = np.load(\"Xy_numu_sel5.npz\")\n",
    "Xy_nue = np.load(\"Xy_nue.sel5.npz\")\n",
    "\n",
    "X_numu = Xy_numu[\"x\"]\n",
    "X_nue = Xy_nue[\"x\"]\n",
    "\n",
    "#y_numu = Xy_numu[\"y\"]\n",
    "#y_nue = Xy_nue[\"y\"]\n"
   ]
  },
  {
   "cell_type": "code",
   "execution_count": 3,
   "metadata": {
    "collapsed": true
   },
   "outputs": [],
   "source": [
    "y_numu = np.load(\"numu_sel5_dir_z.npz\")\n",
    "y_nue = np.load(\"nue_sel5_dir_z.npz\")"
   ]
  },
  {
   "cell_type": "code",
   "execution_count": 4,
   "metadata": {
    "collapsed": true
   },
   "outputs": [],
   "source": [
    "y_numu=y_numu[\"z\"]\n",
    "y_nue=y_nue[\"z\"]"
   ]
  },
  {
   "cell_type": "code",
   "execution_count": null,
   "metadata": {
    "collapsed": true
   },
   "outputs": [],
   "source": []
  },
  {
   "cell_type": "code",
   "execution_count": null,
   "metadata": {
    "collapsed": true
   },
   "outputs": [],
   "source": [
    "updown_numu = np.load(\"updown_numu_sel5.npz\")\n",
    "updown_nue = np.load(\"updown_nue_sel5.npz\")\n",
    "\n",
    "upgoing_numu_indx = updown_numu[\"up\"]\n",
    "downgoing_numu_indx = updown_numu[ \"down\"]\n",
    "\n",
    "upgoing_nue_indx = updown_nue[\"up\"]\n",
    "downgoing_nue_indx = updown_nue[ \"down\"]"
   ]
  },
  {
   "cell_type": "code",
   "execution_count": 3,
   "metadata": {
    "collapsed": true
   },
   "outputs": [],
   "source": [
    "X_numu_up = X_numu[upgoing_numu_indx]\n",
    "y_numu_up = y_numu[upgoing_numu_indx]\n",
    "\n",
    "X_numu_down = X_numu[downgoing_numu_indx]\n",
    "y_numu_down = y_numu[downgoing_numu_indx]\n",
    "\n",
    "X_nue_up = X_nue[upgoing_nue_indx]\n",
    "y_nue_up = y_nue[upgoing_nue_indx]\n",
    "\n",
    "X_nue_down = X_nue[downgoing_nue_indx]\n",
    "y_nue_down = y_nue[downgoing_nue_indx]"
   ]
  },
  {
   "cell_type": "code",
   "execution_count": 4,
   "metadata": {
    "collapsed": true
   },
   "outputs": [],
   "source": [
    "y_nue_up = y_nue_up+1\n",
    "y_numu_down = 0*y_numu_down"
   ]
  },
  {
   "cell_type": "code",
   "execution_count": 5,
   "metadata": {
    "collapsed": true
   },
   "outputs": [],
   "source": [
    "X_up = np.vstack((X_numu_up, X_nue_up))\n",
    "\n",
    "y_up = np.hstack((y_numu_up, y_nue_up))\n",
    "\n",
    "X_down = np.vstack((X_numu_down, X_nue_down))\n",
    "\n",
    "y_down = np.hstack((y_numu_down, y_nue_down))\n",
    "\n",
    "X = np.vstack((X_up,X_down))\n",
    "\n",
    "y = np.hstack((y_up,y_down))"
   ]
  },
  {
   "cell_type": "code",
   "execution_count": 6,
   "metadata": {},
   "outputs": [
    {
     "data": {
      "text/plain": [
       "True"
      ]
     },
     "execution_count": 6,
     "metadata": {},
     "output_type": "execute_result"
    }
   ],
   "source": [
    "np.all(y_up==1)"
   ]
  },
  {
   "cell_type": "code",
   "execution_count": 7,
   "metadata": {},
   "outputs": [
    {
     "data": {
      "text/plain": [
       "True"
      ]
     },
     "execution_count": 7,
     "metadata": {},
     "output_type": "execute_result"
    }
   ],
   "source": [
    "np.all(y_down==0)"
   ]
  },
  {
   "cell_type": "code",
   "execution_count": null,
   "metadata": {
    "collapsed": true
   },
   "outputs": [],
   "source": []
  },
  {
   "cell_type": "code",
   "execution_count": 5,
   "metadata": {
    "collapsed": true
   },
   "outputs": [],
   "source": [
    "X = np.vstack((X_numu, X_nue))\n",
    "y = np.hstack((y_numu,y_nue))"
   ]
  },
  {
   "cell_type": "code",
   "execution_count": 6,
   "metadata": {},
   "outputs": [
    {
     "data": {
      "text/plain": [
       "((2565, 75, 16, 15, 18), (2565,))"
      ]
     },
     "execution_count": 6,
     "metadata": {},
     "output_type": "execute_result"
    }
   ],
   "source": [
    "X.shape, y.shape"
   ]
  },
  {
   "cell_type": "code",
   "execution_count": 7,
   "metadata": {},
   "outputs": [
    {
     "name": "stderr",
     "output_type": "stream",
     "text": [
      "Using TensorFlow backend.\n"
     ]
    }
   ],
   "source": [
    "import keras"
   ]
  },
  {
   "cell_type": "code",
   "execution_count": 8,
   "metadata": {
    "collapsed": true
   },
   "outputs": [],
   "source": [
    "from tensorflow.python.client import device_lib\n",
    "def get_available_gpus():\n",
    "    local_device_protos = device_lib.list_local_devices()\n",
    "    return [x.name for x in local_device_protos if x.device_type == 'GPU']\n"
   ]
  },
  {
   "cell_type": "code",
   "execution_count": 9,
   "metadata": {},
   "outputs": [
    {
     "data": {
      "text/plain": [
       "[u'/gpu:0', u'/gpu:1']"
      ]
     },
     "execution_count": 9,
     "metadata": {},
     "output_type": "execute_result"
    }
   ],
   "source": [
    "get_available_gpus()"
   ]
  },
  {
   "cell_type": "code",
   "execution_count": 10,
   "metadata": {},
   "outputs": [
    {
     "data": {
      "text/plain": [
       "'channels_first'"
      ]
     },
     "execution_count": 10,
     "metadata": {},
     "output_type": "execute_result"
    }
   ],
   "source": [
    "keras.backend.image_data_format()"
   ]
  },
  {
   "cell_type": "code",
   "execution_count": 11,
   "metadata": {
    "collapsed": true
   },
   "outputs": [],
   "source": [
    "from sklearn.model_selection import train_test_split\n",
    "from sklearn.model_selection import StratifiedKFold\n",
    "\n",
    "from keras.utils import to_categorical\n",
    "from keras.callbacks import EarlyStopping, ReduceLROnPlateau\n"
   ]
  },
  {
   "cell_type": "code",
   "execution_count": 12,
   "metadata": {
    "collapsed": true
   },
   "outputs": [],
   "source": [
    "indices = np.arange(X.shape[0])\n",
    "X_train, X_test, y_train, y_test, indx_train, indx_test = train_test_split(X, y, indices, test_size=0.20, \n",
    "                                                                           random_state=42)"
   ]
  },
  {
   "cell_type": "code",
   "execution_count": 13,
   "metadata": {
    "collapsed": true
   },
   "outputs": [],
   "source": [
    "from history_plot import history_plot, history_plot_cv"
   ]
  },
  {
   "cell_type": "code",
   "execution_count": 75,
   "metadata": {
    "collapsed": true
   },
   "outputs": [],
   "source": [
    "from keras.layers import Input\n",
    "from keras.layers import concatenate, add\n",
    "from keras.layers.convolutional import Conv2D, MaxPooling2D, AveragePooling2D\n",
    "from keras.layers.core import Flatten, Dense\n",
    "\n",
    "from keras.models import Model\n",
    "from keras.losses import categorical_crossentropy\n",
    "from keras.optimizers import Adadelta\n",
    "\n",
    "def vgg_separate_channels(num_classes, optimizer, include_dense=False):\n",
    "    \"\"\"VGG inspired Convolutional Networks with multiple inputs\n",
    "    \n",
    "    Parameters\n",
    "    ----------\n",
    "    num_classes : int\n",
    "        Number of classes to predict\n",
    "            \n",
    "    optimizer : keras.optimizers.Optimizer\n",
    "        Instance of Keras optimizer to attach to the resulting network\n",
    "        \n",
    "    include_dense : bool (default False)\n",
    "        Flag indicating wether to include a Dense Layer at the top \n",
    "        of each separate vgg-like sub-network.\n",
    "    \"\"\"\n",
    "    \n",
    "    def _conv_block(input_layer, include_dense=False):\n",
    "        \"\"\"VGG-inspired Convolutional Blocks\"\"\"\n",
    "        \n",
    "        prefix = input_layer.name.split('_')[0]\n",
    "\n",
    "        # Block 1\n",
    "        x = Conv2D(32, kernel_size=(3, 3), activation='relu', \n",
    "                   padding='same', name='{}_block1_conv1'.format(prefix))(input_layer)\n",
    "        \n",
    "        x = Conv2D(32, kernel_size=(3, 3), activation='relu', \n",
    "                   padding='same', name='{}_block1_conv2'.format(prefix))(x)\n",
    "        \n",
    "        x = MaxPooling2D(pool_size=(2, 2), strides=(2, 2), \n",
    "                         padding='same', name='{}_block1_pool'.format(prefix))(x)\n",
    "\n",
    "        # Block 2\n",
    "        x = Conv2D(64, kernel_size=(3, 3), activation='relu', \n",
    "                   padding='same', name='{}_block2_conv1'.format(prefix))(x)\n",
    "        \n",
    "        x = Conv2D(64, kernel_size=(3, 3), activation='relu', \n",
    "                   padding='same', name='{}_block2_conv2'.format(prefix))(x)\n",
    "        \n",
    "        x = MaxPooling2D(pool_size=(2, 2), strides=(2, 2), \n",
    "                         padding='same', name='{}_block2_pool'.format(prefix))(x)\n",
    "\n",
    "        # Block 3\n",
    "        x = Conv2D(128, kernel_size=(3, 3), activation='relu', \n",
    "                   padding='same', name='{}_block3_conv2'.format(prefix))(x)\n",
    "        \n",
    "        x = AveragePooling2D(pool_size=(2, 2), strides=(2, 2), \n",
    "                             padding='same', name='{}_block3_pool'.format(prefix))(x)\n",
    "        x = Flatten()(x)\n",
    "        if include_dense:\n",
    "            x = Dense(512)(x)\n",
    "        return x\n",
    "\n",
    "\n",
    "    ZT_SHAPE = (1, 75, 18)\n",
    "    XY_SHAPE = (1, 16, 15)\n",
    "    \n",
    "    zt_layer = Input(shape=ZT_SHAPE, name='zt_input')\n",
    "    xy_layer = Input(shape=XY_SHAPE, name='xy_input')\n",
    "    \n",
    "    zt_branch = _conv_block(zt_layer, include_dense)\n",
    "    xy_branch = _conv_block(xy_layer, include_dense)\n",
    "    \n",
    "    # top\n",
    "    if include_dense:\n",
    "        x = add([zt_branch, xy_branch], name='merge_add')\n",
    "    else:\n",
    "        x = concatenate([zt_branch, xy_branch], name='merge_concat')\n",
    "        \n",
    "    x = Dense(256,activation='relu')(x)\n",
    "    predictions = Dense(num_classes, activation='softmax')(x)\n",
    "\n",
    "    model = Model(inputs=[zt_layer, xy_layer], outputs=predictions, name='vgglike')\n",
    "    model.compile(loss=categorical_crossentropy, optimizer=optimizer, metrics=['accuracy'])\n",
    "    return model"
   ]
  },
  {
   "cell_type": "code",
   "execution_count": 16,
   "metadata": {
    "collapsed": true
   },
   "outputs": [],
   "source": [
    "ZT_train = np.sum(X_train, axis=(2, 3))\n",
    "XY_train = np.sum(X_train, axis=(1, 4))\n",
    "\n",
    "ZT_train = ZT_train[:, np.newaxis, ...]\n",
    "XY_train = XY_train[:, np.newaxis, ...]"
   ]
  },
  {
   "cell_type": "code",
   "execution_count": 17,
   "metadata": {},
   "outputs": [
    {
     "data": {
      "text/plain": [
       "((1480, 1, 75, 18), (1480, 1, 16, 15))"
      ]
     },
     "execution_count": 17,
     "metadata": {},
     "output_type": "execute_result"
    }
   ],
   "source": [
    "ZT_train.shape, XY_train.shape"
   ]
  },
  {
   "cell_type": "code",
   "execution_count": 18,
   "metadata": {
    "collapsed": true
   },
   "outputs": [],
   "source": [
    "ZT_test = np.sum(X_test, axis=(2, 3))\n",
    "XY_test = np.sum(X_test, axis=(1, 4))\n",
    "\n",
    "ZT_test = ZT_test[:, np.newaxis, ...]\n",
    "XY_test = XY_test[:, np.newaxis, ...]"
   ]
  },
  {
   "cell_type": "markdown",
   "metadata": {},
   "source": [
    "#### CrossValidation Score"
   ]
  },
  {
   "cell_type": "code",
   "execution_count": 32,
   "metadata": {
    "collapsed": true
   },
   "outputs": [],
   "source": [
    "from keras.backend import clear_session\n",
    "\n",
    "def cross_validation_score(K, N, X_train, y_train, f_model, f_args, fit_args):\n",
    "    \"\"\"\"\"\"\n",
    "    iteration_tr_score = list()\n",
    "    iteration_val_score = list()\n",
    "    histories_cnn = list()\n",
    "    \n",
    "    def iteration_metrics(scores):\n",
    "        mean_score = np.mean(scores)\n",
    "        min_score = np.min(scores)\n",
    "        max_score = np.max(scores)\n",
    "        return mean_score, min_score, max_score\n",
    "    \n",
    "    for iteration in range(N):\n",
    "        tr_accuracy_scores = list()\n",
    "        val_accuracy_scores=list()\n",
    "        \n",
    "        skf = StratifiedKFold(n_splits=K, random_state=iteration)\n",
    "        \n",
    "        for i, (train_index, validation_index) in enumerate(skf.split(X_train, y_train)):\n",
    "            print(\"[Iteration %d/%d] Test nr.: %d/%d\" % (iteration+1, N, i+1, K))\n",
    "            \n",
    "            Xtrain, Xvalidation = X_train[train_index], X_train[validation_index]\n",
    "            ytrain, yvalidation = y_train[train_index], y_train[validation_index]\n",
    "\n",
    "            model = f_model(**f_args)\n",
    "            \n",
    "            if iteration == 0 and i == 0:\n",
    "                model.summary()\n",
    "            \n",
    "            Ytrain = to_categorical(ytrain)\n",
    "            Yvalidation = to_categorical(yvalidation)\n",
    "            history = model.fit(Xtrain, Ytrain, validation_data = (Xvalidation, Yvalidation), \n",
    "                                shuffle=False, **fit_args) \n",
    "                        \n",
    "            histories_cnn.append(history)\n",
    "            training_acc = history.history['acc'][-1]\n",
    "            validation_acc = history.history['val_acc'][-1]\n",
    "            \n",
    "            print(\"\\nTraining acc: %f, Validation acc: %f\\n\" %(training_acc,validation_acc))\n",
    "            tr_accuracy_scores.append(training_acc)\n",
    "            val_accuracy_scores.append(validation_acc)\n",
    "            \n",
    "        iteration_tr_score.append(iteration_metrics(tr_accuracy_scores))\n",
    "        iteration_val_score.append(iteration_metrics(val_accuracy_scores))\n",
    "        \n",
    "    clear_session()\n",
    "        \n",
    "    print(\"Training metrics: \")\n",
    "    print(\"ITER \\t MEAN \\t MIN \\t MAX\")\n",
    "    for it, metric in enumerate(iteration_tr_score):\n",
    "        print(\"{0:d} \\t {1:.3f} \\t {2:.3f} \\t {3:.3f}\".format(it+1, *metric))\n",
    "    \n",
    "    print(\"Validation metrics: \")\n",
    "    print(\"ITER \\t MEAN \\t MIN \\t MAX\")\n",
    "    for it, metric in enumerate(iteration_val_score):\n",
    "        print(\"{0:d} \\t {1:.3f} \\t {2:.3f} \\t {3:.3f}\".format(it+1, *metric))\n",
    "\n",
    "    return histories_cnn"
   ]
  },
  {
   "cell_type": "code",
   "execution_count": 70,
   "metadata": {
    "collapsed": true
   },
   "outputs": [],
   "source": [
    "early_stop = EarlyStopping(monitor='loss', patience=5, verbose=1)"
   ]
  },
  {
   "cell_type": "code",
   "execution_count": 31,
   "metadata": {
    "collapsed": true
   },
   "outputs": [],
   "source": [
    "fargs = {'num_classes': 2, 'optimizer': Adadelta()}\n",
    "vgg_sep_model = vgg_separate_channels(**fargs)"
   ]
  },
  {
   "cell_type": "code",
   "execution_count": 32,
   "metadata": {},
   "outputs": [
    {
     "name": "stdout",
     "output_type": "stream",
     "text": [
      "____________________________________________________________________________________________________\n",
      "Layer (type)                     Output Shape          Param #     Connected to                     \n",
      "====================================================================================================\n",
      "zt_input (InputLayer)            (None, 1, 75, 18)     0                                            \n",
      "____________________________________________________________________________________________________\n",
      "xy_input (InputLayer)            (None, 1, 16, 15)     0                                            \n",
      "____________________________________________________________________________________________________\n",
      "zt_block1_conv1 (Conv2D)         (None, 32, 75, 18)    320         zt_input[0][0]                   \n",
      "____________________________________________________________________________________________________\n",
      "xy_block1_conv1 (Conv2D)         (None, 32, 16, 15)    320         xy_input[0][0]                   \n",
      "____________________________________________________________________________________________________\n",
      "zt_block1_conv2 (Conv2D)         (None, 32, 75, 18)    9248        zt_block1_conv1[0][0]            \n",
      "____________________________________________________________________________________________________\n",
      "xy_block1_conv2 (Conv2D)         (None, 32, 16, 15)    9248        xy_block1_conv1[0][0]            \n",
      "____________________________________________________________________________________________________\n",
      "zt_block1_pool (MaxPooling2D)    (None, 32, 38, 9)     0           zt_block1_conv2[0][0]            \n",
      "____________________________________________________________________________________________________\n",
      "xy_block1_pool (MaxPooling2D)    (None, 32, 8, 8)      0           xy_block1_conv2[0][0]            \n",
      "____________________________________________________________________________________________________\n",
      "zt_block2_conv1 (Conv2D)         (None, 64, 38, 9)     18496       zt_block1_pool[0][0]             \n",
      "____________________________________________________________________________________________________\n",
      "xy_block2_conv1 (Conv2D)         (None, 64, 8, 8)      18496       xy_block1_pool[0][0]             \n",
      "____________________________________________________________________________________________________\n",
      "zt_block2_conv2 (Conv2D)         (None, 64, 38, 9)     36928       zt_block2_conv1[0][0]            \n",
      "____________________________________________________________________________________________________\n",
      "xy_block2_conv2 (Conv2D)         (None, 64, 8, 8)      36928       xy_block2_conv1[0][0]            \n",
      "____________________________________________________________________________________________________\n",
      "zt_block2_pool (MaxPooling2D)    (None, 64, 19, 5)     0           zt_block2_conv2[0][0]            \n",
      "____________________________________________________________________________________________________\n",
      "xy_block2_pool (MaxPooling2D)    (None, 64, 4, 4)      0           xy_block2_conv2[0][0]            \n",
      "____________________________________________________________________________________________________\n",
      "zt_block3_conv2 (Conv2D)         (None, 128, 19, 5)    73856       zt_block2_pool[0][0]             \n",
      "____________________________________________________________________________________________________\n",
      "xy_block3_conv2 (Conv2D)         (None, 128, 4, 4)     73856       xy_block2_pool[0][0]             \n",
      "____________________________________________________________________________________________________\n",
      "zt_block3_pool (AveragePooling2D (None, 128, 10, 3)    0           zt_block3_conv2[0][0]            \n",
      "____________________________________________________________________________________________________\n",
      "xy_block3_pool (AveragePooling2D (None, 128, 2, 2)     0           xy_block3_conv2[0][0]            \n",
      "____________________________________________________________________________________________________\n",
      "flatten_9 (Flatten)              (None, 3840)          0           zt_block3_pool[0][0]             \n",
      "____________________________________________________________________________________________________\n",
      "flatten_10 (Flatten)             (None, 512)           0           xy_block3_pool[0][0]             \n",
      "____________________________________________________________________________________________________\n",
      "merge_concat (Concatenate)       (None, 4352)          0           flatten_9[0][0]                  \n",
      "                                                                   flatten_10[0][0]                 \n",
      "____________________________________________________________________________________________________\n",
      "dense_3 (Dense)                  (None, 256)           1114368     merge_concat[0][0]               \n",
      "____________________________________________________________________________________________________\n",
      "dense_4 (Dense)                  (None, 2)             514         dense_3[0][0]                    \n",
      "====================================================================================================\n",
      "Total params: 1,392,578\n",
      "Trainable params: 1,392,578\n",
      "Non-trainable params: 0\n",
      "____________________________________________________________________________________________________\n"
     ]
    }
   ],
   "source": [
    "vgg_sep_model.summary()"
   ]
  },
  {
   "cell_type": "code",
   "execution_count": 76,
   "metadata": {},
   "outputs": [
    {
     "name": "stdout",
     "output_type": "stream",
     "text": [
      "Fontconfig warning: ignoring UTF-8: not a valid region tag\n",
      "\n"
     ]
    }
   ],
   "source": [
    "from keras.utils import plot_model\n",
    "plot_model(vgg_sep_model, to_file='vgg_sep_model.png', show_shapes=True)"
   ]
  },
  {
   "cell_type": "code",
   "execution_count": 35,
   "metadata": {
    "scrolled": true
   },
   "outputs": [
    {
     "name": "stdout",
     "output_type": "stream",
     "text": [
      "Epoch 1/30\n",
      "1480/1480 [==============================] - 5s - loss: 0.5288 - acc: 0.7291     \n",
      "Epoch 2/30\n",
      "1480/1480 [==============================] - 5s - loss: 0.4537 - acc: 0.8108     \n",
      "Epoch 3/30\n",
      "1480/1480 [==============================] - 5s - loss: 0.3853 - acc: 0.8466     \n",
      "Epoch 4/30\n",
      "1480/1480 [==============================] - 5s - loss: 0.3089 - acc: 0.8628     \n",
      "Epoch 5/30\n",
      "1480/1480 [==============================] - 5s - loss: 0.2443 - acc: 0.9007     \n",
      "Epoch 6/30\n",
      "1480/1480 [==============================] - 5s - loss: 0.2036 - acc: 0.9095     \n",
      "Epoch 7/30\n",
      "1480/1480 [==============================] - 5s - loss: 0.1447 - acc: 0.9392     \n",
      "Epoch 8/30\n",
      "1480/1480 [==============================] - 5s - loss: 0.2029 - acc: 0.9182     \n",
      "Epoch 9/30\n",
      "1480/1480 [==============================] - 5s - loss: 0.1482 - acc: 0.9399     \n",
      "Epoch 10/30\n",
      "1480/1480 [==============================] - 5s - loss: 0.1215 - acc: 0.9473     \n",
      "Epoch 11/30\n",
      "1480/1480 [==============================] - 5s - loss: 0.1205 - acc: 0.9405     \n",
      "Epoch 12/30\n",
      "1480/1480 [==============================] - 5s - loss: 0.1264 - acc: 0.9432     \n",
      "Epoch 13/30\n",
      "1480/1480 [==============================] - 5s - loss: 0.1143 - acc: 0.9514     \n",
      "Epoch 14/30\n",
      "1480/1480 [==============================] - 5s - loss: 0.0945 - acc: 0.9595     \n",
      "Epoch 15/30\n",
      "1480/1480 [==============================] - 5s - loss: 0.0989 - acc: 0.9541     \n",
      "Epoch 16/30\n",
      "1480/1480 [==============================] - 5s - loss: 0.1020 - acc: 0.9622     \n",
      "Epoch 17/30\n",
      "1480/1480 [==============================] - 5s - loss: 0.0926 - acc: 0.9622     \n",
      "Epoch 18/30\n",
      "1480/1480 [==============================] - 5s - loss: 0.0954 - acc: 0.9568     \n",
      "Epoch 19/30\n",
      "1480/1480 [==============================] - 5s - loss: 0.1005 - acc: 0.9534     \n",
      "Epoch 20/30\n",
      "1480/1480 [==============================] - 5s - loss: 0.0841 - acc: 0.9628     \n",
      "Epoch 21/30\n",
      "1480/1480 [==============================] - 5s - loss: 0.0777 - acc: 0.9669     \n",
      "Epoch 22/30\n",
      "1480/1480 [==============================] - 5s - loss: 0.0814 - acc: 0.9662     \n",
      "Epoch 23/30\n",
      "1480/1480 [==============================] - 5s - loss: 0.0766 - acc: 0.9655     \n",
      "Epoch 24/30\n",
      "1480/1480 [==============================] - 5s - loss: 0.0712 - acc: 0.9730     \n",
      "Epoch 25/30\n",
      "1480/1480 [==============================] - 5s - loss: 0.0757 - acc: 0.9723     \n",
      "Epoch 26/30\n",
      "1480/1480 [==============================] - 5s - loss: 0.0690 - acc: 0.9730     \n",
      "Epoch 27/30\n",
      "1480/1480 [==============================] - 5s - loss: 0.0646 - acc: 0.9743     \n",
      "Epoch 28/30\n",
      "1480/1480 [==============================] - 5s - loss: 0.0585 - acc: 0.9777     \n",
      "Epoch 29/30\n",
      "1480/1480 [==============================] - 5s - loss: 0.0574 - acc: 0.9804     \n",
      "Epoch 30/30\n",
      "1480/1480 [==============================] - 5s - loss: 0.0622 - acc: 0.9736     \n"
     ]
    }
   ],
   "source": [
    "fitargs = {'batch_size': 64, 'epochs': 30, 'verbose': 1}\n",
    "history_vgg_sep = vgg_sep_model.fit([ZT_train, XY_train], to_categorical(y_train), **fitargs)"
   ]
  },
  {
   "cell_type": "code",
   "execution_count": 36,
   "metadata": {},
   "outputs": [
    {
     "name": "stdout",
     "output_type": "stream",
     "text": [
      "Use model to make prediction on test data\n",
      "('Accuracy score: ', 0.92452830188679247)\n"
     ]
    }
   ],
   "source": [
    "print(\"Use model to make prediction on test data\")\n",
    "predictions = vgg_sep_model.predict([ZT_test,XY_test])\n",
    "cls_predictions = np.argmax(predictions, axis=1)\n",
    "\n",
    "from sklearn.metrics import accuracy_score\n",
    "score = accuracy_score(y_test, cls_predictions)\n",
    "print(\"Accuracy score: \", score)"
   ]
  },
  {
   "cell_type": "markdown",
   "metadata": {},
   "source": [
    "---\n",
    "\n",
    "### VGG-separate with Dense & ADD"
   ]
  },
  {
   "cell_type": "code",
   "execution_count": 38,
   "metadata": {
    "collapsed": true
   },
   "outputs": [],
   "source": [
    "fargs = {'num_classes': 2, 'optimizer': Adadelta(), 'include_dense':True}\n",
    "vgg_sep_model = vgg_separate_channels(**fargs)"
   ]
  },
  {
   "cell_type": "code",
   "execution_count": 39,
   "metadata": {},
   "outputs": [
    {
     "name": "stdout",
     "output_type": "stream",
     "text": [
      "Epoch 1/30\n",
      "1480/1480 [==============================] - 5s - loss: 0.6598 - acc: 0.5993     \n",
      "Epoch 2/30\n",
      "1480/1480 [==============================] - 5s - loss: 0.5487 - acc: 0.7372     \n",
      "Epoch 3/30\n",
      "1480/1480 [==============================] - 5s - loss: 0.4542 - acc: 0.7912     \n",
      "Epoch 4/30\n",
      "1480/1480 [==============================] - 5s - loss: 0.3510 - acc: 0.8493     \n",
      "Epoch 5/30\n",
      "1480/1480 [==============================] - 5s - loss: 0.2712 - acc: 0.8824     \n",
      "Epoch 6/30\n",
      "1480/1480 [==============================] - 5s - loss: 0.2282 - acc: 0.8959     \n",
      "Epoch 7/30\n",
      "1480/1480 [==============================] - 5s - loss: 0.1924 - acc: 0.9209     \n",
      "Epoch 8/30\n",
      "1480/1480 [==============================] - 5s - loss: 0.1565 - acc: 0.9324     \n",
      "Epoch 9/30\n",
      "1480/1480 [==============================] - 5s - loss: 0.1447 - acc: 0.9419     \n",
      "Epoch 10/30\n",
      "1480/1480 [==============================] - 5s - loss: 0.1554 - acc: 0.9338     \n",
      "Epoch 11/30\n",
      "1480/1480 [==============================] - 5s - loss: 0.1275 - acc: 0.9507     \n",
      "Epoch 12/30\n",
      "1480/1480 [==============================] - 5s - loss: 0.1029 - acc: 0.9541     \n",
      "Epoch 13/30\n",
      "1480/1480 [==============================] - 5s - loss: 0.1168 - acc: 0.9507     \n",
      "Epoch 14/30\n",
      "1480/1480 [==============================] - 5s - loss: 0.0958 - acc: 0.9588     \n",
      "Epoch 15/30\n",
      "1480/1480 [==============================] - 5s - loss: 0.0937 - acc: 0.9622     \n",
      "Epoch 16/30\n",
      "1480/1480 [==============================] - 5s - loss: 0.0962 - acc: 0.9669     \n",
      "Epoch 17/30\n",
      "1480/1480 [==============================] - 5s - loss: 0.0700 - acc: 0.9709     \n",
      "Epoch 18/30\n",
      "1480/1480 [==============================] - 5s - loss: 0.0683 - acc: 0.9709     \n",
      "Epoch 19/30\n",
      "1480/1480 [==============================] - 5s - loss: 0.0661 - acc: 0.9757     \n",
      "Epoch 20/30\n",
      "1480/1480 [==============================] - 5s - loss: 0.0722 - acc: 0.9703     \n",
      "Epoch 21/30\n",
      "1480/1480 [==============================] - 5s - loss: 0.0591 - acc: 0.9784     \n",
      "Epoch 22/30\n",
      "1480/1480 [==============================] - 5s - loss: 0.0657 - acc: 0.9723     \n",
      "Epoch 23/30\n",
      "1480/1480 [==============================] - 5s - loss: 0.0560 - acc: 0.9797     \n",
      "Epoch 24/30\n",
      "1480/1480 [==============================] - 5s - loss: 0.0462 - acc: 0.9824     \n",
      "Epoch 25/30\n",
      "1480/1480 [==============================] - 5s - loss: 0.0550 - acc: 0.9743     \n",
      "Epoch 26/30\n",
      "1480/1480 [==============================] - 5s - loss: 0.0462 - acc: 0.9824     \n",
      "Epoch 27/30\n",
      "1480/1480 [==============================] - 5s - loss: 0.0463 - acc: 0.9818     \n",
      "Epoch 28/30\n",
      "1480/1480 [==============================] - 5s - loss: 0.0449 - acc: 0.9824     \n",
      "Epoch 29/30\n",
      "1480/1480 [==============================] - 5s - loss: 0.0565 - acc: 0.9791     \n",
      "Epoch 30/30\n",
      "1480/1480 [==============================] - 5s - loss: 0.0351 - acc: 0.9865     \n"
     ]
    }
   ],
   "source": [
    "fitargs = {'batch_size': 64, 'epochs': 30, 'verbose': 1}\n",
    "history_vgg_sep = vgg_sep_model.fit([ZT_train, XY_train], to_categorical(y_train), **fitargs)"
   ]
  },
  {
   "cell_type": "code",
   "execution_count": 40,
   "metadata": {},
   "outputs": [
    {
     "name": "stdout",
     "output_type": "stream",
     "text": [
      "Use model to make prediction on test data\n",
      "('Accuracy score: ', 0.90835579514824794)\n"
     ]
    }
   ],
   "source": [
    "print(\"Use model to make prediction on test data\")\n",
    "predictions = vgg_sep_model.predict([ZT_test,XY_test])\n",
    "cls_predictions = np.argmax(predictions, axis=1)\n",
    "\n",
    "from sklearn.metrics import accuracy_score\n",
    "score = accuracy_score(y_test, cls_predictions)\n",
    "print(\"Accuracy score: \", score)"
   ]
  },
  {
   "cell_type": "markdown",
   "metadata": {},
   "source": [
    "#### VGG-like with zt channel only"
   ]
  },
  {
   "cell_type": "code",
   "execution_count": 39,
   "metadata": {
    "collapsed": true
   },
   "outputs": [],
   "source": [
    "from keras.layers import Input\n",
    "from keras.layers import concatenate, add\n",
    "from keras.layers.convolutional import Conv2D, MaxPooling2D, AveragePooling2D\n",
    "from keras.layers.core import Flatten, Dense\n",
    "\n",
    "from keras.models import Model\n",
    "from keras.losses import categorical_crossentropy\n",
    "from keras.optimizers import Adadelta\n",
    "\n",
    "def vgg_like_zt(num_classes, optimizer, include_dense=False):\n",
    "    \"\"\"VGG inspired Convolutional Networks with multiple inputs\n",
    "    \n",
    "    Parameters\n",
    "    ----------\n",
    "    num_classes : int\n",
    "        Number of classes to predict\n",
    "            \n",
    "    optimizer : keras.optimizers.Optimizer\n",
    "        Instance of Keras optimizer to attach to the resulting network\n",
    "        \n",
    "    include_dense : bool (default False)\n",
    "        Flag indicating wether to include a Dense Layer at the top \n",
    "        of each separate vgg-like sub-network.\n",
    "    \"\"\"\n",
    "    \n",
    "    def _conv_block(input_layer, include_dense=False):\n",
    "        \"\"\"VGG-inspired Convolutional Blocks\"\"\"\n",
    "        \n",
    "        prefix = input_layer.name.split('_')[0]\n",
    "\n",
    "        # Block 1\n",
    "        x = Conv2D(32, kernel_size=(3, 3), activation='relu', \n",
    "                   padding='same', name='{}_block1_conv1'.format(prefix))(input_layer)\n",
    "        \n",
    "        x = Conv2D(32, kernel_size=(3, 3), activation='relu', \n",
    "                   padding='same', name='{}_block1_conv2'.format(prefix))(x)\n",
    "        \n",
    "        x = MaxPooling2D(pool_size=(2, 2), strides=(2, 2), \n",
    "                         padding='same', name='{}_block1_pool'.format(prefix))(x)\n",
    "\n",
    "        # Block 2\n",
    "        x = Conv2D(64, kernel_size=(3, 3), activation='relu', \n",
    "                   padding='same', name='{}_block2_conv1'.format(prefix))(x)\n",
    "        \n",
    "        x = Conv2D(64, kernel_size=(3, 3), activation='relu', \n",
    "                   padding='same', name='{}_block2_conv2'.format(prefix))(x)\n",
    "        \n",
    "        x = MaxPooling2D(pool_size=(2, 2), strides=(2, 2), \n",
    "                         padding='same', name='{}_block2_pool'.format(prefix))(x)\n",
    "\n",
    "        # Block 3\n",
    "        x = Conv2D(128, kernel_size=(3, 3), activation='relu', \n",
    "                   padding='same', name='{}_block3_conv2'.format(prefix))(x)\n",
    "        \n",
    "        x = AveragePooling2D(pool_size=(2, 2), strides=(2, 2), \n",
    "                             padding='same', name='{}_block3_pool'.format(prefix))(x)\n",
    "        x = Flatten()(x)\n",
    "        return x\n",
    "\n",
    "   \n",
    "    ZT_SHAPE = (1, 75, 18)\n",
    "    \n",
    "    zt_layer = Input(shape=ZT_SHAPE, name='zt_input')\n",
    "    \n",
    "    zt_branch = _conv_block(zt_layer, include_dense)\n",
    "    \n",
    "    x = Dense(256,activation='relu')(zt_branch)\n",
    "    predictions = Dense(num_classes, activation='softmax')(x)\n",
    "\n",
    "    model = Model(inputs=[zt_layer], outputs=predictions, name='vgglike')\n",
    "    model.compile(loss=categorical_crossentropy, optimizer=optimizer, metrics=['accuracy'])\n",
    "    return model"
   ]
  },
  {
   "cell_type": "code",
   "execution_count": 77,
   "metadata": {},
   "outputs": [
    {
     "name": "stdout",
     "output_type": "stream",
     "text": [
      "Fontconfig warning: ignoring UTF-8: not a valid region tag\n",
      "\n"
     ]
    },
    {
     "data": {
      "image/svg+xml": [
       "<svg height=\"860pt\" viewBox=\"0.00 0.00 218.00 860.00\" width=\"218pt\" xmlns=\"http://www.w3.org/2000/svg\" xmlns:xlink=\"http://www.w3.org/1999/xlink\">\n",
       "<g class=\"graph\" id=\"graph0\" transform=\"scale(1 1) rotate(0) translate(4 856)\">\n",
       "<title>G</title>\n",
       "<polygon fill=\"white\" points=\"-4,4 -4,-856 214,-856 214,4 -4,4\" stroke=\"none\"/>\n",
       "<!-- 140581153223760 -->\n",
       "<g class=\"node\" id=\"node1\"><title>140581153223760</title>\n",
       "<polygon fill=\"none\" points=\"41,-815 41,-851 169,-851 169,-815 41,-815\" stroke=\"black\"/>\n",
       "<text font-family=\"Times,serif\" font-size=\"14.00\" text-anchor=\"middle\" x=\"105\" y=\"-829.3\">zt_input: InputLayer</text>\n",
       "</g>\n",
       "<!-- 140581144719184 -->\n",
       "<g class=\"node\" id=\"node2\"><title>140581144719184</title>\n",
       "<polygon fill=\"none\" points=\"23.5,-741 23.5,-777 186.5,-777 186.5,-741 23.5,-741\" stroke=\"black\"/>\n",
       "<text font-family=\"Times,serif\" font-size=\"14.00\" text-anchor=\"middle\" x=\"105\" y=\"-755.3\">zt_block1_conv1: Conv2D</text>\n",
       "</g>\n",
       "<!-- 140581153223760&#45;&gt;140581144719184 -->\n",
       "<g class=\"edge\" id=\"edge1\"><title>140581153223760-&gt;140581144719184</title>\n",
       "<path d=\"M105,-814.937C105,-806.807 105,-796.876 105,-787.705\" fill=\"none\" stroke=\"black\"/>\n",
       "<polygon fill=\"black\" points=\"108.5,-787.441 105,-777.441 101.5,-787.441 108.5,-787.441\" stroke=\"black\"/>\n",
       "</g>\n",
       "<!-- 140581153223440 -->\n",
       "<g class=\"node\" id=\"node3\"><title>140581153223440</title>\n",
       "<polygon fill=\"none\" points=\"23.5,-667 23.5,-703 186.5,-703 186.5,-667 23.5,-667\" stroke=\"black\"/>\n",
       "<text font-family=\"Times,serif\" font-size=\"14.00\" text-anchor=\"middle\" x=\"105\" y=\"-681.3\">zt_block1_conv2: Conv2D</text>\n",
       "</g>\n",
       "<!-- 140581144719184&#45;&gt;140581153223440 -->\n",
       "<g class=\"edge\" id=\"edge2\"><title>140581144719184-&gt;140581153223440</title>\n",
       "<path d=\"M105,-740.937C105,-732.807 105,-722.876 105,-713.705\" fill=\"none\" stroke=\"black\"/>\n",
       "<polygon fill=\"black\" points=\"108.5,-713.441 105,-703.441 101.5,-713.441 108.5,-713.441\" stroke=\"black\"/>\n",
       "</g>\n",
       "<!-- 140581144719248 -->\n",
       "<g class=\"node\" id=\"node4\"><title>140581144719248</title>\n",
       "<polygon fill=\"none\" points=\"9,-593 9,-629 201,-629 201,-593 9,-593\" stroke=\"black\"/>\n",
       "<text font-family=\"Times,serif\" font-size=\"14.00\" text-anchor=\"middle\" x=\"105\" y=\"-607.3\">zt_block1_pool: MaxPooling2D</text>\n",
       "</g>\n",
       "<!-- 140581153223440&#45;&gt;140581144719248 -->\n",
       "<g class=\"edge\" id=\"edge3\"><title>140581153223440-&gt;140581144719248</title>\n",
       "<path d=\"M105,-666.937C105,-658.807 105,-648.876 105,-639.705\" fill=\"none\" stroke=\"black\"/>\n",
       "<polygon fill=\"black\" points=\"108.5,-639.441 105,-629.441 101.5,-639.441 108.5,-639.441\" stroke=\"black\"/>\n",
       "</g>\n",
       "<!-- 140581144583952 -->\n",
       "<g class=\"node\" id=\"node5\"><title>140581144583952</title>\n",
       "<polygon fill=\"none\" points=\"23.5,-519 23.5,-555 186.5,-555 186.5,-519 23.5,-519\" stroke=\"black\"/>\n",
       "<text font-family=\"Times,serif\" font-size=\"14.00\" text-anchor=\"middle\" x=\"105\" y=\"-533.3\">zt_block2_conv1: Conv2D</text>\n",
       "</g>\n",
       "<!-- 140581144719248&#45;&gt;140581144583952 -->\n",
       "<g class=\"edge\" id=\"edge4\"><title>140581144719248-&gt;140581144583952</title>\n",
       "<path d=\"M105,-592.937C105,-584.807 105,-574.876 105,-565.705\" fill=\"none\" stroke=\"black\"/>\n",
       "<polygon fill=\"black\" points=\"108.5,-565.441 105,-555.441 101.5,-565.441 108.5,-565.441\" stroke=\"black\"/>\n",
       "</g>\n",
       "<!-- 140581143874704 -->\n",
       "<g class=\"node\" id=\"node6\"><title>140581143874704</title>\n",
       "<polygon fill=\"none\" points=\"23.5,-445 23.5,-481 186.5,-481 186.5,-445 23.5,-445\" stroke=\"black\"/>\n",
       "<text font-family=\"Times,serif\" font-size=\"14.00\" text-anchor=\"middle\" x=\"105\" y=\"-459.3\">zt_block2_conv2: Conv2D</text>\n",
       "</g>\n",
       "<!-- 140581144583952&#45;&gt;140581143874704 -->\n",
       "<g class=\"edge\" id=\"edge5\"><title>140581144583952-&gt;140581143874704</title>\n",
       "<path d=\"M105,-518.937C105,-510.807 105,-500.876 105,-491.705\" fill=\"none\" stroke=\"black\"/>\n",
       "<polygon fill=\"black\" points=\"108.5,-491.441 105,-481.441 101.5,-491.441 108.5,-491.441\" stroke=\"black\"/>\n",
       "</g>\n",
       "<!-- 140581144098896 -->\n",
       "<g class=\"node\" id=\"node7\"><title>140581144098896</title>\n",
       "<polygon fill=\"none\" points=\"9,-371 9,-407 201,-407 201,-371 9,-371\" stroke=\"black\"/>\n",
       "<text font-family=\"Times,serif\" font-size=\"14.00\" text-anchor=\"middle\" x=\"105\" y=\"-385.3\">zt_block2_pool: MaxPooling2D</text>\n",
       "</g>\n",
       "<!-- 140581143874704&#45;&gt;140581144098896 -->\n",
       "<g class=\"edge\" id=\"edge6\"><title>140581143874704-&gt;140581144098896</title>\n",
       "<path d=\"M105,-444.937C105,-436.807 105,-426.876 105,-417.705\" fill=\"none\" stroke=\"black\"/>\n",
       "<polygon fill=\"black\" points=\"108.5,-417.441 105,-407.441 101.5,-417.441 108.5,-417.441\" stroke=\"black\"/>\n",
       "</g>\n",
       "<!-- 140581144243856 -->\n",
       "<g class=\"node\" id=\"node8\"><title>140581144243856</title>\n",
       "<polygon fill=\"none\" points=\"23.5,-297 23.5,-333 186.5,-333 186.5,-297 23.5,-297\" stroke=\"black\"/>\n",
       "<text font-family=\"Times,serif\" font-size=\"14.00\" text-anchor=\"middle\" x=\"105\" y=\"-311.3\">zt_block3_conv2: Conv2D</text>\n",
       "</g>\n",
       "<!-- 140581144098896&#45;&gt;140581144243856 -->\n",
       "<g class=\"edge\" id=\"edge7\"><title>140581144098896-&gt;140581144243856</title>\n",
       "<path d=\"M105,-370.937C105,-362.807 105,-352.876 105,-343.705\" fill=\"none\" stroke=\"black\"/>\n",
       "<polygon fill=\"black\" points=\"108.5,-343.441 105,-333.441 101.5,-343.441 108.5,-343.441\" stroke=\"black\"/>\n",
       "</g>\n",
       "<!-- 140581143645136 -->\n",
       "<g class=\"node\" id=\"node9\"><title>140581143645136</title>\n",
       "<polygon fill=\"none\" points=\"-1,-223 -1,-259 211,-259 211,-223 -1,-223\" stroke=\"black\"/>\n",
       "<text font-family=\"Times,serif\" font-size=\"14.00\" text-anchor=\"middle\" x=\"105\" y=\"-237.3\">zt_block3_pool: AveragePooling2D</text>\n",
       "</g>\n",
       "<!-- 140581144243856&#45;&gt;140581143645136 -->\n",
       "<g class=\"edge\" id=\"edge8\"><title>140581144243856-&gt;140581143645136</title>\n",
       "<path d=\"M105,-296.937C105,-288.807 105,-278.876 105,-269.705\" fill=\"none\" stroke=\"black\"/>\n",
       "<polygon fill=\"black\" points=\"108.5,-269.441 105,-259.441 101.5,-269.441 108.5,-269.441\" stroke=\"black\"/>\n",
       "</g>\n",
       "<!-- 140581143347024 -->\n",
       "<g class=\"node\" id=\"node10\"><title>140581143347024</title>\n",
       "<polygon fill=\"none\" points=\"50,-149 50,-185 160,-185 160,-149 50,-149\" stroke=\"black\"/>\n",
       "<text font-family=\"Times,serif\" font-size=\"14.00\" text-anchor=\"middle\" x=\"105\" y=\"-163.3\">flatten_7: Flatten</text>\n",
       "</g>\n",
       "<!-- 140581143645136&#45;&gt;140581143347024 -->\n",
       "<g class=\"edge\" id=\"edge9\"><title>140581143645136-&gt;140581143347024</title>\n",
       "<path d=\"M105,-222.937C105,-214.807 105,-204.876 105,-195.705\" fill=\"none\" stroke=\"black\"/>\n",
       "<polygon fill=\"black\" points=\"108.5,-195.441 105,-185.441 101.5,-195.441 108.5,-195.441\" stroke=\"black\"/>\n",
       "</g>\n",
       "<!-- 140581143345808 -->\n",
       "<g class=\"node\" id=\"node11\"><title>140581143345808</title>\n",
       "<polygon fill=\"none\" points=\"50.5,-75 50.5,-111 159.5,-111 159.5,-75 50.5,-75\" stroke=\"black\"/>\n",
       "<text font-family=\"Times,serif\" font-size=\"14.00\" text-anchor=\"middle\" x=\"105\" y=\"-89.3\">dense_13: Dense</text>\n",
       "</g>\n",
       "<!-- 140581143347024&#45;&gt;140581143345808 -->\n",
       "<g class=\"edge\" id=\"edge10\"><title>140581143347024-&gt;140581143345808</title>\n",
       "<path d=\"M105,-148.937C105,-140.807 105,-130.876 105,-121.705\" fill=\"none\" stroke=\"black\"/>\n",
       "<polygon fill=\"black\" points=\"108.5,-121.441 105,-111.441 101.5,-121.441 108.5,-121.441\" stroke=\"black\"/>\n",
       "</g>\n",
       "<!-- 140581143493392 -->\n",
       "<g class=\"node\" id=\"node12\"><title>140581143493392</title>\n",
       "<polygon fill=\"none\" points=\"50.5,-1 50.5,-37 159.5,-37 159.5,-1 50.5,-1\" stroke=\"black\"/>\n",
       "<text font-family=\"Times,serif\" font-size=\"14.00\" text-anchor=\"middle\" x=\"105\" y=\"-15.3\">dense_14: Dense</text>\n",
       "</g>\n",
       "<!-- 140581143345808&#45;&gt;140581143493392 -->\n",
       "<g class=\"edge\" id=\"edge11\"><title>140581143345808-&gt;140581143493392</title>\n",
       "<path d=\"M105,-74.937C105,-66.8072 105,-56.8761 105,-47.7047\" fill=\"none\" stroke=\"black\"/>\n",
       "<polygon fill=\"black\" points=\"108.5,-47.4406 105,-37.4407 101.5,-47.4407 108.5,-47.4406\" stroke=\"black\"/>\n",
       "</g>\n",
       "</g>\n",
       "</svg>"
      ],
      "text/plain": [
       "<IPython.core.display.SVG object>"
      ]
     },
     "execution_count": 77,
     "metadata": {},
     "output_type": "execute_result"
    }
   ],
   "source": [
    "from IPython.display import SVG\n",
    "from keras.utils.vis_utils import model_to_dot\n",
    "\n",
    "SVG(model_to_dot(vgg_sep_model).create(prog='dot', format='svg'))"
   ]
  },
  {
   "cell_type": "markdown",
   "metadata": {},
   "source": [
    "----"
   ]
  },
  {
   "cell_type": "code",
   "execution_count": 15,
   "metadata": {},
   "outputs": [
    {
     "data": {
      "text/plain": [
       "(1480, 75, 16, 15, 18)"
      ]
     },
     "execution_count": 15,
     "metadata": {},
     "output_type": "execute_result"
    }
   ],
   "source": [
    "X_train.shape"
   ]
  },
  {
   "cell_type": "code",
   "execution_count": 29,
   "metadata": {
    "collapsed": true
   },
   "outputs": [],
   "source": [
    "XT_train = np.sum(X_train, axis=(3, 4))\n",
    "YT_train = np.sum(X_train, axis =(2, 4))\n",
    "ZT_train = np.sum(X_train, axis=(2, 3))\n",
    "\n",
    "XT_test = np.sum(X_test, axis=(3, 4))\n",
    "YT_test = np.sum(X_test, axis =(2, 4))\n",
    "ZT_test = np.sum(X_test, axis=(2, 3))\n"
   ]
  },
  {
   "cell_type": "code",
   "execution_count": 25,
   "metadata": {},
   "outputs": [
    {
     "data": {
      "text/plain": [
       "((1480, 75, 18), (1480, 75, 16), (1480, 75, 15))"
      ]
     },
     "execution_count": 25,
     "metadata": {},
     "output_type": "execute_result"
    }
   ],
   "source": [
    "ZT_train.shape, XT_train.shape, YT_train.shape"
   ]
  },
  {
   "cell_type": "code",
   "execution_count": 30,
   "metadata": {
    "collapsed": true
   },
   "outputs": [],
   "source": [
    "ZT_train = ZT_train[:, np.newaxis, ...]\n",
    "XT_train = XT_train[:, np.newaxis, ...]\n",
    "YT_train = YT_train[:, np.newaxis, ...]\n",
    "\n",
    "ZT_test = ZT_test[:, np.newaxis, ...]\n",
    "XT_test = XT_test[:, np.newaxis, ...]\n",
    "YT_test = YT_test[:, np.newaxis, ...]"
   ]
  },
  {
   "cell_type": "code",
   "execution_count": 31,
   "metadata": {},
   "outputs": [
    {
     "data": {
      "text/plain": [
       "((1480, 1, 75, 18), (1480, 1, 75, 16), (1480, 1, 75, 15))"
      ]
     },
     "execution_count": 31,
     "metadata": {},
     "output_type": "execute_result"
    }
   ],
   "source": [
    "ZT_train.shape, XT_train.shape, YT_train.shape"
   ]
  },
  {
   "cell_type": "code",
   "execution_count": 41,
   "metadata": {},
   "outputs": [
    {
     "name": "stdout",
     "output_type": "stream",
     "text": [
      "Epoch 1/30\n",
      "1480/1480 [==============================] - 4s - loss: 0.6562 - acc: 0.6236     \n",
      "Epoch 2/30\n",
      "1480/1480 [==============================] - 4s - loss: 0.5169 - acc: 0.7412     \n",
      "Epoch 3/30\n",
      "1480/1480 [==============================] - 4s - loss: 0.4628 - acc: 0.8000     \n",
      "Epoch 4/30\n",
      "1480/1480 [==============================] - 4s - loss: 0.3434 - acc: 0.8412     \n",
      "Epoch 5/30\n",
      "1480/1480 [==============================] - 4s - loss: 0.3543 - acc: 0.8486     \n",
      "Epoch 6/30\n",
      "1480/1480 [==============================] - 4s - loss: 0.2765 - acc: 0.8784     \n",
      "Epoch 7/30\n",
      "1480/1480 [==============================] - 4s - loss: 0.2348 - acc: 0.8959     \n",
      "Epoch 8/30\n",
      "1480/1480 [==============================] - 4s - loss: 0.2085 - acc: 0.9054     \n",
      "Epoch 9/30\n",
      "1480/1480 [==============================] - 4s - loss: 0.1789 - acc: 0.9203     \n",
      "Epoch 10/30\n",
      "1480/1480 [==============================] - 4s - loss: 0.1663 - acc: 0.9318     \n",
      "Epoch 11/30\n",
      "1480/1480 [==============================] - 4s - loss: 0.1833 - acc: 0.9250     \n",
      "Epoch 12/30\n",
      "1480/1480 [==============================] - 4s - loss: 0.1399 - acc: 0.9432     \n",
      "Epoch 13/30\n",
      "1480/1480 [==============================] - 4s - loss: 0.1270 - acc: 0.9439     \n",
      "Epoch 14/30\n",
      "1480/1480 [==============================] - 4s - loss: 0.1240 - acc: 0.9473     \n",
      "Epoch 15/30\n",
      "1480/1480 [==============================] - 4s - loss: 0.1160 - acc: 0.9473     \n",
      "Epoch 16/30\n",
      "1480/1480 [==============================] - 4s - loss: 0.1347 - acc: 0.9432     \n",
      "Epoch 17/30\n",
      "1480/1480 [==============================] - 4s - loss: 0.1110 - acc: 0.9534     \n",
      "Epoch 18/30\n",
      "1480/1480 [==============================] - 4s - loss: 0.1149 - acc: 0.9514     \n",
      "Epoch 19/30\n",
      "1480/1480 [==============================] - 4s - loss: 0.0986 - acc: 0.9588     \n",
      "Epoch 20/30\n",
      "1480/1480 [==============================] - 4s - loss: 0.1043 - acc: 0.9581     \n",
      "Epoch 21/30\n",
      "1480/1480 [==============================] - 4s - loss: 0.1051 - acc: 0.9642     \n",
      "Epoch 22/30\n",
      "1480/1480 [==============================] - 4s - loss: 0.0867 - acc: 0.9581     \n",
      "Epoch 23/30\n",
      "1480/1480 [==============================] - 4s - loss: 0.0944 - acc: 0.9588     \n",
      "Epoch 24/30\n",
      "1480/1480 [==============================] - 4s - loss: 0.0959 - acc: 0.9615     \n",
      "Epoch 25/30\n",
      "1480/1480 [==============================] - 4s - loss: 0.0855 - acc: 0.9662     \n",
      "Epoch 26/30\n",
      "1480/1480 [==============================] - 4s - loss: 0.0739 - acc: 0.9703     \n",
      "Epoch 27/30\n",
      "1480/1480 [==============================] - 4s - loss: 0.0877 - acc: 0.9628     \n",
      "Epoch 28/30\n",
      "1480/1480 [==============================] - 4s - loss: 0.0856 - acc: 0.9635     \n",
      "Epoch 29/30\n",
      "1480/1480 [==============================] - 4s - loss: 0.0780 - acc: 0.9662     \n",
      "Epoch 30/30\n",
      "1480/1480 [==============================] - 4s - loss: 0.0918 - acc: 0.9635     \n"
     ]
    }
   ],
   "source": [
    "fargs = {'num_classes': 2, 'optimizer': Adadelta()}\n",
    "vgg_sep_model = vgg_like_zt(**fargs)\n",
    "\n",
    "fitargs = {'batch_size': 64, 'epochs': 30, 'verbose': 1}\n",
    "history_vgg_like_zt = vgg_sep_model.fit([ZT_train], to_categorical(y_train), **fitargs)"
   ]
  },
  {
   "cell_type": "code",
   "execution_count": 42,
   "metadata": {},
   "outputs": [
    {
     "name": "stdout",
     "output_type": "stream",
     "text": [
      "Use model to make prediction on test data\n",
      "('Accuracy score: ', 0.93530997304582209)\n"
     ]
    }
   ],
   "source": [
    "print(\"Use model to make prediction on test data\")\n",
    "predictions = vgg_sep_model.predict([ZT_test])\n",
    "cls_predictions = np.argmax(predictions, axis=1)\n",
    "\n",
    "from sklearn.metrics import accuracy_score\n",
    "score = accuracy_score(y_test, cls_predictions)\n",
    "print(\"Accuracy score: \", score)"
   ]
  },
  {
   "cell_type": "markdown",
   "metadata": {
    "collapsed": true
   },
   "source": [
    "### VGG-like with linear regression"
   ]
  },
  {
   "cell_type": "code",
   "execution_count": 67,
   "metadata": {
    "collapsed": true
   },
   "outputs": [],
   "source": [
    "from keras.layers import Input\n",
    "from keras.layers import concatenate, add\n",
    "from keras.layers.convolutional import Conv2D, MaxPooling2D, AveragePooling2D\n",
    "from keras.layers.core import Flatten, Dense\n",
    "\n",
    "from keras.models import Model\n",
    "from keras.losses import categorical_crossentropy\n",
    "from keras.optimizers import Adadelta\n",
    "\n",
    "def vgg_like_zt(num_classes, optimizer, include_dense=False):\n",
    "    \"\"\"VGG inspired Convolutional Networks with multiple inputs\n",
    "    \n",
    "    Parameters\n",
    "    ----------\n",
    "    num_classes : int\n",
    "        Number of classes to predict\n",
    "            \n",
    "    optimizer : keras.optimizers.Optimizer\n",
    "        Instance of Keras optimizer to attach to the resulting network\n",
    "        \n",
    "    include_dense : bool (default False)\n",
    "        Flag indicating wether to include a Dense Layer at the top \n",
    "        of each separate vgg-like sub-network.\n",
    "    \"\"\"\n",
    "    \n",
    "    def _conv_block(input_layer, include_dense=False):\n",
    "        \"\"\"VGG-inspired Convolutional Blocks\"\"\"\n",
    "        \n",
    "        prefix = input_layer.name.split('_')[0]\n",
    "\n",
    "        # Block 1\n",
    "        x = Conv2D(32, kernel_size=(3, 3), activation='relu', \n",
    "                   padding='same', name='{}_block1_conv1'.format(prefix))(input_layer)\n",
    "        \n",
    "        x = Conv2D(32, kernel_size=(3, 3), activation='relu', \n",
    "                   padding='same', name='{}_block1_conv2'.format(prefix))(x)\n",
    "        \n",
    "        x = MaxPooling2D(pool_size=(2, 2), strides=(2, 2), \n",
    "                         padding='same', name='{}_block1_pool'.format(prefix))(x)\n",
    "\n",
    "        # Block 2\n",
    "        x = Conv2D(64, kernel_size=(3, 3), activation='relu', \n",
    "                   padding='same', name='{}_block2_conv1'.format(prefix))(x)\n",
    "        \n",
    "        x = Conv2D(64, kernel_size=(3, 3), activation='relu', \n",
    "                   padding='same', name='{}_block2_conv2'.format(prefix))(x)\n",
    "        \n",
    "        x = MaxPooling2D(pool_size=(2, 2), strides=(2, 2), \n",
    "                         padding='same', name='{}_block2_pool'.format(prefix))(x)\n",
    "\n",
    "        # Block 3\n",
    "        x = Conv2D(128, kernel_size=(3, 3), activation='relu', \n",
    "                   padding='same', name='{}_block3_conv2'.format(prefix))(x)\n",
    "        \n",
    "        x = AveragePooling2D(pool_size=(2, 2), strides=(2, 2), \n",
    "                             padding='same', name='{}_block3_pool'.format(prefix))(x)\n",
    "        x = Flatten()(x)\n",
    "        return x\n",
    "\n",
    "   \n",
    "    ZT_SHAPE = (1, 75, 18)\n",
    "    \n",
    "    zt_layer = Input(shape=ZT_SHAPE, name='zt_input')\n",
    "    \n",
    "    zt_branch = _conv_block(zt_layer, include_dense)\n",
    "    \n",
    "    x = Dense(256,activation='relu')(zt_branch)\n",
    "    predictions = Dense(1)(x)\n",
    "\n",
    "    model = Model(inputs=[zt_layer], outputs=predictions, name='vgglike')\n",
    "    model.compile(loss='mse', optimizer='adam')\n",
    "    return model"
   ]
  },
  {
   "cell_type": "code",
   "execution_count": 15,
   "metadata": {},
   "outputs": [
    {
     "data": {
      "text/plain": [
       "(2052, 75, 16, 15, 18)"
      ]
     },
     "execution_count": 15,
     "metadata": {},
     "output_type": "execute_result"
    }
   ],
   "source": [
    "X_train.shape\n"
   ]
  },
  {
   "cell_type": "code",
   "execution_count": 16,
   "metadata": {
    "collapsed": true
   },
   "outputs": [],
   "source": [
    "ZT_train = np.sum(X_train, axis=(2, 3))\n",
    "\n",
    "ZT_test = np.sum(X_test, axis=(2, 3))"
   ]
  },
  {
   "cell_type": "code",
   "execution_count": 17,
   "metadata": {},
   "outputs": [
    {
     "data": {
      "text/plain": [
       "(2052, 75, 18)"
      ]
     },
     "execution_count": 17,
     "metadata": {},
     "output_type": "execute_result"
    }
   ],
   "source": [
    "ZT_train.shape"
   ]
  },
  {
   "cell_type": "code",
   "execution_count": 18,
   "metadata": {
    "collapsed": true
   },
   "outputs": [],
   "source": [
    "ZT_train = ZT_train[:, np.newaxis, ...]\n",
    "ZT_test = ZT_test[:, np.newaxis, ...]"
   ]
  },
  {
   "cell_type": "code",
   "execution_count": 19,
   "metadata": {},
   "outputs": [
    {
     "data": {
      "text/plain": [
       "((2052, 1, 75, 18), (513, 1, 75, 18))"
      ]
     },
     "execution_count": 19,
     "metadata": {},
     "output_type": "execute_result"
    }
   ],
   "source": [
    "ZT_train.shape, ZT_test.shape"
   ]
  },
  {
   "cell_type": "code",
   "execution_count": 71,
   "metadata": {},
   "outputs": [
    {
     "name": "stdout",
     "output_type": "stream",
     "text": [
      "Epoch 1/20\n",
      "2052/2052 [==============================] - 6s - loss: 0.1744     \n",
      "Epoch 2/20\n",
      "2052/2052 [==============================] - 6s - loss: 0.0846     \n",
      "Epoch 3/20\n",
      "2052/2052 [==============================] - 6s - loss: 0.0716     \n",
      "Epoch 4/20\n",
      "2052/2052 [==============================] - 6s - loss: 0.0577     \n",
      "Epoch 5/20\n",
      "2052/2052 [==============================] - 6s - loss: 0.0521     \n",
      "Epoch 6/20\n",
      "2052/2052 [==============================] - 6s - loss: 0.0484     \n",
      "Epoch 7/20\n",
      "2052/2052 [==============================] - 6s - loss: 0.0409     \n",
      "Epoch 8/20\n",
      "2052/2052 [==============================] - 6s - loss: 0.0364     \n",
      "Epoch 9/20\n",
      "2052/2052 [==============================] - 6s - loss: 0.0331     \n",
      "Epoch 10/20\n",
      "2052/2052 [==============================] - 6s - loss: 0.0270     \n",
      "Epoch 11/20\n",
      "2052/2052 [==============================] - 6s - loss: 0.0195     \n",
      "Epoch 12/20\n",
      "2052/2052 [==============================] - 6s - loss: 0.0180     \n",
      "Epoch 13/20\n",
      "2052/2052 [==============================] - 6s - loss: 0.0180     \n",
      "Epoch 14/20\n",
      "2052/2052 [==============================] - 6s - loss: 0.0145     \n",
      "Epoch 15/20\n",
      "2052/2052 [==============================] - 6s - loss: 0.0112     \n",
      "Epoch 16/20\n",
      "2052/2052 [==============================] - 6s - loss: 0.0085     \n",
      "Epoch 17/20\n",
      "2052/2052 [==============================] - 6s - loss: 0.0068     \n",
      "Epoch 18/20\n",
      "2052/2052 [==============================] - 6s - loss: 0.0054     \n",
      "Epoch 19/20\n",
      "2052/2052 [==============================] - 6s - loss: 0.0043     \n",
      "Epoch 20/20\n",
      "2052/2052 [==============================] - 6s - loss: 0.0044     \n"
     ]
    }
   ],
   "source": [
    "fargs = {'num_classes': \"\", 'optimizer': Adadelta()}\n",
    "vgg_sep_model = vgg_like_zt(**fargs)\n",
    "\n",
    "fitargs = {'batch_size': 16, 'epochs': 20, 'verbose': 1, 'callbacks': [early_stop]}\n",
    "history_vgg_like_zt_lr = vgg_sep_model.fit([ZT_train], y_train, **fitargs)"
   ]
  },
  {
   "cell_type": "code",
   "execution_count": 72,
   "metadata": {},
   "outputs": [
    {
     "name": "stdout",
     "output_type": "stream",
     "text": [
      "Use model to make prediction on test data\n"
     ]
    }
   ],
   "source": [
    "print(\"Use model to make prediction on test data\")\n",
    "predictions = vgg_sep_model.predict([ZT_test])\n",
    "#cls_predictions = np.argmax(predictions, axis=1)\n"
   ]
  },
  {
   "cell_type": "code",
   "execution_count": 44,
   "metadata": {
    "collapsed": true
   },
   "outputs": [
    {
     "data": {
      "text/plain": [
       "array([[  7.21691668e-01],\n",
       "       [  3.04925263e-01],\n",
       "       [ -2.89375365e-01],\n",
       "       [  7.46879458e-01],\n",
       "       [  7.00409114e-01],\n",
       "       [ -1.14623427e-01],\n",
       "       [  4.55944121e-01],\n",
       "       [  2.27400526e-01],\n",
       "       [ -4.72323716e-01],\n",
       "       [  9.83546853e-01],\n",
       "       [ -5.73165834e-01],\n",
       "       [  3.41261446e-01],\n",
       "       [  9.12612975e-01],\n",
       "       [  4.74913538e-01],\n",
       "       [  8.79318714e-01],\n",
       "       [ -1.08667314e+00],\n",
       "       [  6.56139292e-03],\n",
       "       [ -1.57588750e-01],\n",
       "       [ -1.80289447e-01],\n",
       "       [ -1.18713550e-01],\n",
       "       [  8.60799849e-01],\n",
       "       [  9.45341885e-01],\n",
       "       [ -6.16179407e-01],\n",
       "       [  5.96055925e-01],\n",
       "       [ -1.63305849e-01],\n",
       "       [ -5.76038241e-01],\n",
       "       [ -7.61951149e-01],\n",
       "       [ -5.81353843e-01],\n",
       "       [ -4.37501609e-01],\n",
       "       [  4.01372135e-01],\n",
       "       [  1.04360409e-01],\n",
       "       [  2.26442739e-01],\n",
       "       [  9.99102354e-01],\n",
       "       [ -2.49437466e-01],\n",
       "       [  2.19244465e-01],\n",
       "       [ -5.07919133e-01],\n",
       "       [  4.69307959e-01],\n",
       "       [  5.29668152e-01],\n",
       "       [  1.64715216e-01],\n",
       "       [ -7.10047841e-01],\n",
       "       [ -1.80521324e-01],\n",
       "       [ -5.98091006e-01],\n",
       "       [  9.97548044e-01],\n",
       "       [  1.34189129e-02],\n",
       "       [  2.96478271e-01],\n",
       "       [  9.91441131e-01],\n",
       "       [ -5.31578958e-02],\n",
       "       [ -2.53960252e-01],\n",
       "       [ -1.44294515e-01],\n",
       "       [  6.91841543e-01],\n",
       "       [  4.37313259e-01],\n",
       "       [ -1.35730788e-01],\n",
       "       [  9.92187262e-01],\n",
       "       [  6.05441928e-01],\n",
       "       [ -5.25628090e-01],\n",
       "       [ -1.41534016e-01],\n",
       "       [  2.92086244e-01],\n",
       "       [  7.86005110e-02],\n",
       "       [  1.59582272e-01],\n",
       "       [  2.02756643e-01],\n",
       "       [ -4.63805139e-01],\n",
       "       [ -6.15007460e-01],\n",
       "       [ -4.60800976e-02],\n",
       "       [  3.17176461e-01],\n",
       "       [  3.11724365e-01],\n",
       "       [  7.16208935e-01],\n",
       "       [  1.10751235e+00],\n",
       "       [ -1.90036818e-01],\n",
       "       [  4.60119784e-01],\n",
       "       [  5.57586372e-01],\n",
       "       [  4.16631103e-01],\n",
       "       [  6.46832347e-01],\n",
       "       [  4.96598959e-01],\n",
       "       [  6.78232908e-02],\n",
       "       [ -4.28341210e-01],\n",
       "       [  5.36788344e-01],\n",
       "       [  7.61872113e-01],\n",
       "       [  6.07775927e-01],\n",
       "       [  2.26415861e-02],\n",
       "       [ -5.06352127e-01],\n",
       "       [  8.54594052e-01],\n",
       "       [  1.98192298e-01],\n",
       "       [  3.49998534e-01],\n",
       "       [  6.15563750e-01],\n",
       "       [ -4.81162071e-01],\n",
       "       [  5.46673298e-01],\n",
       "       [ -7.53895879e-01],\n",
       "       [  3.62578392e-01],\n",
       "       [ -7.45282412e-01],\n",
       "       [ -2.87731811e-02],\n",
       "       [  1.47581965e-01],\n",
       "       [  3.31840813e-01],\n",
       "       [  2.23142296e-01],\n",
       "       [ -1.84906218e-02],\n",
       "       [ -1.93333358e-01],\n",
       "       [ -5.29090762e-02],\n",
       "       [  2.08478406e-01],\n",
       "       [ -6.51847899e-01],\n",
       "       [ -5.08444428e-01],\n",
       "       [  5.25146365e-01],\n",
       "       [  6.21349931e-01],\n",
       "       [  4.64492142e-02],\n",
       "       [  7.05506563e-01],\n",
       "       [  4.62296307e-01],\n",
       "       [ -4.41883028e-01],\n",
       "       [ -5.68200290e-01],\n",
       "       [  6.26991630e-01],\n",
       "       [  5.24079502e-01],\n",
       "       [ -7.07978606e-01],\n",
       "       [  5.54020666e-02],\n",
       "       [  5.60281157e-01],\n",
       "       [  6.14744760e-02],\n",
       "       [  5.30484676e-01],\n",
       "       [ -5.02627604e-02],\n",
       "       [  5.67989767e-01],\n",
       "       [ -4.03695703e-01],\n",
       "       [  6.68125808e-01],\n",
       "       [  5.79061210e-01],\n",
       "       [ -6.31657898e-01],\n",
       "       [  1.09482419e+00],\n",
       "       [  8.97861540e-01],\n",
       "       [ -6.85251415e-01],\n",
       "       [ -4.94925082e-01],\n",
       "       [ -2.32703730e-01],\n",
       "       [  7.17201173e-01],\n",
       "       [  6.73904479e-01],\n",
       "       [  1.05388784e+00],\n",
       "       [  5.76686263e-01],\n",
       "       [ -4.20321286e-01],\n",
       "       [ -6.10888839e-01],\n",
       "       [  6.07623011e-02],\n",
       "       [  7.58056760e-01],\n",
       "       [ -6.65404022e-01],\n",
       "       [  3.45742583e-01],\n",
       "       [  5.03231287e-01],\n",
       "       [  5.29454887e-01],\n",
       "       [ -1.12608664e-01],\n",
       "       [  7.09832907e-01],\n",
       "       [  3.48589838e-01],\n",
       "       [  4.33515310e-01],\n",
       "       [ -1.92337200e-01],\n",
       "       [  7.22263515e-01],\n",
       "       [  8.25153887e-01],\n",
       "       [  1.57306641e-01],\n",
       "       [  6.77079558e-01],\n",
       "       [ -4.62221861e-01],\n",
       "       [ -8.35030526e-03],\n",
       "       [ -6.61536992e-01],\n",
       "       [  3.21386158e-01],\n",
       "       [  7.03774512e-01],\n",
       "       [  6.24688566e-01],\n",
       "       [ -8.79601300e-01],\n",
       "       [  5.01275480e-01],\n",
       "       [  7.90037036e-01],\n",
       "       [  8.31961334e-01],\n",
       "       [  1.95610702e-01],\n",
       "       [ -1.53353378e-01],\n",
       "       [  6.41886175e-01],\n",
       "       [  1.05350161e+00],\n",
       "       [  2.72131979e-01],\n",
       "       [ -5.85720062e-01],\n",
       "       [  4.33270574e-01],\n",
       "       [ -5.43294400e-02],\n",
       "       [ -8.12395453e-01],\n",
       "       [  8.25682998e-01],\n",
       "       [ -1.20473206e-01],\n",
       "       [ -5.37481666e-01],\n",
       "       [ -2.52605796e-01],\n",
       "       [  4.40249629e-02],\n",
       "       [  2.77491331e-01],\n",
       "       [  5.04128158e-01],\n",
       "       [  6.10933542e-01],\n",
       "       [ -5.54311752e-01],\n",
       "       [  9.98103261e-01],\n",
       "       [ -5.96815646e-01],\n",
       "       [ -7.50394523e-01],\n",
       "       [  6.24496937e-01],\n",
       "       [ -2.43319109e-01],\n",
       "       [  8.72360349e-01],\n",
       "       [ -3.19297016e-01],\n",
       "       [  5.03149986e-01],\n",
       "       [ -9.86862600e-01],\n",
       "       [  3.34258199e-01],\n",
       "       [  8.15362513e-01],\n",
       "       [  2.81609237e-01],\n",
       "       [  4.87341464e-01],\n",
       "       [ -8.34892169e-02],\n",
       "       [  6.47168815e-01],\n",
       "       [ -4.85607907e-02],\n",
       "       [  9.19452608e-01],\n",
       "       [  6.14935100e-01],\n",
       "       [ -7.94440061e-02],\n",
       "       [  7.52714217e-01],\n",
       "       [ -2.69455791e-01],\n",
       "       [  4.38358605e-01],\n",
       "       [ -7.51509219e-02],\n",
       "       [  1.06617939e+00],\n",
       "       [  1.38465062e-01],\n",
       "       [ -3.86812329e-01],\n",
       "       [  5.41547127e-02],\n",
       "       [  2.96712697e-01],\n",
       "       [  7.54905045e-01],\n",
       "       [  6.12993300e-01],\n",
       "       [  6.06402159e-01],\n",
       "       [  7.60220826e-01],\n",
       "       [ -2.97908485e-01],\n",
       "       [ -1.88629687e-01],\n",
       "       [  2.11454883e-01],\n",
       "       [  6.52972698e-01],\n",
       "       [  6.58247232e-01],\n",
       "       [  4.32082832e-01],\n",
       "       [ -1.03775986e-01],\n",
       "       [ -4.90692854e-02],\n",
       "       [  6.60652697e-01],\n",
       "       [  4.95897591e-01],\n",
       "       [  1.97285250e-01],\n",
       "       [  7.63776660e-01],\n",
       "       [ -4.46603298e-01],\n",
       "       [  7.96411753e-01],\n",
       "       [ -7.12439656e-01],\n",
       "       [ -1.18535541e-01],\n",
       "       [ -3.35270703e-01],\n",
       "       [ -6.85667217e-01],\n",
       "       [  7.72893906e-01],\n",
       "       [ -4.04668674e-02],\n",
       "       [ -7.49404013e-01],\n",
       "       [  7.27034926e-01],\n",
       "       [  1.16242103e-01],\n",
       "       [  2.83478081e-01],\n",
       "       [  8.14388275e-01],\n",
       "       [  4.40608442e-01],\n",
       "       [ -9.39266205e-01],\n",
       "       [ -6.84325516e-01],\n",
       "       [  9.64310050e-01],\n",
       "       [  6.45946562e-01],\n",
       "       [  4.64293242e-01],\n",
       "       [  7.31475174e-01],\n",
       "       [  1.16575100e-01],\n",
       "       [  8.30415130e-01],\n",
       "       [  7.86697090e-01],\n",
       "       [  7.84293354e-01],\n",
       "       [  7.72468686e-01],\n",
       "       [ -1.72415152e-01],\n",
       "       [  7.64998436e-01],\n",
       "       [  2.26842165e-01],\n",
       "       [  6.18942022e-01],\n",
       "       [  1.93127394e-02],\n",
       "       [ -2.49680921e-01],\n",
       "       [  8.94107223e-01],\n",
       "       [ -6.58734977e-01],\n",
       "       [  9.05521870e-01],\n",
       "       [ -4.82154906e-01],\n",
       "       [  3.52998376e-01],\n",
       "       [  1.55268162e-01],\n",
       "       [ -1.54547170e-01],\n",
       "       [ -7.16344081e-03],\n",
       "       [  4.86770391e-01],\n",
       "       [  5.66157162e-01],\n",
       "       [ -5.93282521e-01],\n",
       "       [ -1.27974540e-01],\n",
       "       [  4.13793981e-01],\n",
       "       [  7.00427592e-01],\n",
       "       [  8.03253114e-01],\n",
       "       [  6.75540209e-01],\n",
       "       [  2.08071977e-01],\n",
       "       [  2.25635216e-01],\n",
       "       [  2.40000442e-01],\n",
       "       [ -7.18502343e-01],\n",
       "       [ -6.78651214e-01],\n",
       "       [  2.02501938e-01],\n",
       "       [ -3.17983210e-01],\n",
       "       [ -1.35760382e-01],\n",
       "       [  2.55102456e-01],\n",
       "       [ -3.22562099e-01],\n",
       "       [  1.00207353e+00],\n",
       "       [ -3.17755878e-01],\n",
       "       [ -2.01726794e-01],\n",
       "       [ -7.84439802e-01],\n",
       "       [  7.01817989e-01],\n",
       "       [  3.23346198e-01],\n",
       "       [  6.67297602e-01],\n",
       "       [  7.44971514e-01],\n",
       "       [  3.47612500e-02],\n",
       "       [ -1.73055112e-01],\n",
       "       [ -2.64313042e-01],\n",
       "       [  8.86365354e-01],\n",
       "       [  1.31681764e+00],\n",
       "       [ -6.24915004e-01],\n",
       "       [  6.37209296e-01],\n",
       "       [ -5.53036295e-02],\n",
       "       [  7.65655816e-01],\n",
       "       [ -2.03924283e-01],\n",
       "       [  3.99143517e-01],\n",
       "       [  7.37476051e-01],\n",
       "       [  8.78757332e-04],\n",
       "       [ -8.06097984e-01],\n",
       "       [ -5.00298023e-01],\n",
       "       [ -1.69049382e-01],\n",
       "       [ -5.87141253e-02],\n",
       "       [  3.23230922e-01],\n",
       "       [  3.92616689e-01],\n",
       "       [  1.01089406e+00],\n",
       "       [ -5.10553539e-01],\n",
       "       [ -2.68232286e-01],\n",
       "       [ -5.88643253e-01],\n",
       "       [  5.62059939e-01],\n",
       "       [ -8.59575033e-01],\n",
       "       [  9.25018668e-01],\n",
       "       [  1.02579916e+00],\n",
       "       [ -1.51340961e-01],\n",
       "       [  5.50551862e-02],\n",
       "       [ -7.82216489e-01],\n",
       "       [  5.85185625e-02],\n",
       "       [ -2.29101717e-01],\n",
       "       [ -6.65802062e-01],\n",
       "       [ -3.51962261e-03],\n",
       "       [ -4.10049856e-01],\n",
       "       [  2.81222403e-01],\n",
       "       [ -4.24324989e-01],\n",
       "       [ -8.02040577e-01],\n",
       "       [  5.14379680e-01],\n",
       "       [  2.40819603e-01],\n",
       "       [  5.46602726e-01],\n",
       "       [  1.30400443e+00],\n",
       "       [  1.01268768e-01],\n",
       "       [  5.24194598e-01],\n",
       "       [  6.53444409e-01],\n",
       "       [  9.58061755e-01],\n",
       "       [ -2.55907118e-01],\n",
       "       [  5.71058333e-01],\n",
       "       [ -6.74620986e-01],\n",
       "       [ -5.10045707e-01],\n",
       "       [  8.69172931e-01],\n",
       "       [  5.87013721e-01],\n",
       "       [  5.81407726e-01],\n",
       "       [ -1.54571235e-01],\n",
       "       [  2.04706624e-01],\n",
       "       [  1.25200748e-01],\n",
       "       [ -3.57636631e-01],\n",
       "       [ -1.28107771e-01],\n",
       "       [  2.20745340e-01],\n",
       "       [  3.58670354e-01],\n",
       "       [ -3.29179823e-01],\n",
       "       [ -4.96959269e-01],\n",
       "       [ -5.40467948e-02],\n",
       "       [  8.02373290e-01],\n",
       "       [ -1.85044169e-01],\n",
       "       [  3.26562822e-01],\n",
       "       [ -4.61757839e-01],\n",
       "       [ -2.02156842e-01],\n",
       "       [  1.09682947e-01],\n",
       "       [  2.53099680e-01],\n",
       "       [  3.03770781e-01],\n",
       "       [  4.49279904e-01],\n",
       "       [ -2.48229101e-01],\n",
       "       [ -1.66405857e-01],\n",
       "       [  6.65336967e-01],\n",
       "       [  7.86089957e-01],\n",
       "       [  1.82922363e-01],\n",
       "       [  1.12696603e-01],\n",
       "       [  9.45267260e-01],\n",
       "       [  9.10720110e-01],\n",
       "       [  3.61903489e-01],\n",
       "       [ -8.40554774e-01],\n",
       "       [  1.02596171e-02],\n",
       "       [  6.62433267e-01],\n",
       "       [  1.11305785e+00],\n",
       "       [ -2.86199629e-01],\n",
       "       [  7.11415350e-01],\n",
       "       [ -2.34074563e-01],\n",
       "       [ -3.07682991e-01],\n",
       "       [  2.43414380e-03],\n",
       "       [ -5.71037456e-03],\n",
       "       [  1.28941819e-01],\n",
       "       [  9.38536644e-01],\n",
       "       [  1.00188330e-01],\n",
       "       [  1.31505862e-01],\n",
       "       [ -3.02051127e-01],\n",
       "       [  7.91972935e-01],\n",
       "       [ -3.34626913e-01],\n",
       "       [  5.52323580e-01],\n",
       "       [  7.00006425e-01],\n",
       "       [  3.14799607e-01],\n",
       "       [  5.48776090e-01],\n",
       "       [ -3.76421154e-01],\n",
       "       [  5.74727535e-01],\n",
       "       [  8.08752358e-01],\n",
       "       [  7.11544156e-01],\n",
       "       [ -3.52529764e-01],\n",
       "       [  6.25849009e-01],\n",
       "       [  2.98011065e-01],\n",
       "       [  6.84292853e-01],\n",
       "       [  3.72938395e-01],\n",
       "       [  8.54058638e-02],\n",
       "       [ -5.08049130e-01],\n",
       "       [  2.44941503e-01],\n",
       "       [  1.89768195e-01],\n",
       "       [  5.63065648e-01],\n",
       "       [  7.31776834e-01],\n",
       "       [  1.22735955e-01],\n",
       "       [ -4.76930737e-01],\n",
       "       [  7.72003531e-01],\n",
       "       [  1.84499547e-01],\n",
       "       [  3.90144363e-02],\n",
       "       [  1.71591565e-01],\n",
       "       [  7.29906678e-01],\n",
       "       [  4.72275555e-01],\n",
       "       [  2.07238168e-01],\n",
       "       [  6.17646515e-01],\n",
       "       [ -6.63572431e-01],\n",
       "       [  1.67132393e-01],\n",
       "       [  3.06779016e-02],\n",
       "       [  7.01572180e-01],\n",
       "       [  4.83382940e-01],\n",
       "       [ -3.21001410e-01],\n",
       "       [  4.65677202e-01],\n",
       "       [  4.99594986e-01],\n",
       "       [ -6.41706884e-02],\n",
       "       [  9.24388412e-04],\n",
       "       [  1.80935618e-02],\n",
       "       [ -6.09964311e-01],\n",
       "       [ -7.09397912e-01],\n",
       "       [  8.24598730e-01],\n",
       "       [ -1.36441551e-02],\n",
       "       [ -4.42380548e-01],\n",
       "       [ -5.71916625e-02],\n",
       "       [ -5.38782239e-01],\n",
       "       [ -1.84982836e-01],\n",
       "       [ -1.84982836e-01],\n",
       "       [  3.18829715e-01],\n",
       "       [ -8.45354915e-01],\n",
       "       [  1.00931728e+00],\n",
       "       [ -2.90405035e-01],\n",
       "       [ -2.63021171e-01],\n",
       "       [ -5.09669244e-01],\n",
       "       [ -9.65144411e-02],\n",
       "       [ -6.97882175e-01],\n",
       "       [ -7.21416175e-01],\n",
       "       [ -2.24642083e-03],\n",
       "       [  6.63742840e-01],\n",
       "       [  6.89260542e-01],\n",
       "       [  5.45339644e-01],\n",
       "       [ -1.05279043e-01],\n",
       "       [  3.03866565e-01],\n",
       "       [  4.67574000e-01],\n",
       "       [  6.30063176e-01],\n",
       "       [  4.33684170e-01],\n",
       "       [  1.25109565e+00],\n",
       "       [ -2.43830368e-01],\n",
       "       [ -7.23752916e-01],\n",
       "       [  1.81601241e-01],\n",
       "       [ -6.40746713e-01],\n",
       "       [  6.58837140e-01],\n",
       "       [  4.96090651e-01],\n",
       "       [  3.87065530e-01],\n",
       "       [  5.30485034e-01],\n",
       "       [  6.09451175e-01],\n",
       "       [  5.22730947e-01],\n",
       "       [  2.32860714e-01],\n",
       "       [ -8.89433622e-01],\n",
       "       [ -2.83282548e-02],\n",
       "       [  7.70118833e-01],\n",
       "       [ -4.13673401e-01],\n",
       "       [  4.38122571e-01],\n",
       "       [  3.75511467e-01],\n",
       "       [  3.94979835e-01],\n",
       "       [ -6.19986132e-02],\n",
       "       [  4.54529583e-01],\n",
       "       [  1.18116811e-01],\n",
       "       [ -4.79368865e-01],\n",
       "       [ -2.59474099e-01],\n",
       "       [  2.34412611e-01],\n",
       "       [  7.12127149e-01],\n",
       "       [  2.37648293e-01],\n",
       "       [ -1.61137894e-01],\n",
       "       [  8.73911560e-01],\n",
       "       [ -6.52374268e-01],\n",
       "       [  1.02282655e+00],\n",
       "       [  7.97681808e-01],\n",
       "       [ -1.29378870e-01],\n",
       "       [  7.44097903e-02],\n",
       "       [  3.57896030e-01],\n",
       "       [  1.01917267e-01],\n",
       "       [  4.40171957e-01],\n",
       "       [ -9.13485467e-01],\n",
       "       [  5.40706158e-01],\n",
       "       [ -5.06722808e-01],\n",
       "       [  7.14320421e-01],\n",
       "       [  4.35445607e-01],\n",
       "       [ -2.74678290e-01],\n",
       "       [  2.63779342e-01],\n",
       "       [ -3.85701656e-01],\n",
       "       [  4.76747811e-01],\n",
       "       [  7.88247645e-01],\n",
       "       [  5.06075799e-01],\n",
       "       [  3.32388103e-01],\n",
       "       [  5.13193369e-01],\n",
       "       [ -2.83051312e-01],\n",
       "       [  5.51296890e-01],\n",
       "       [  9.03870240e-02],\n",
       "       [  5.93934655e-01],\n",
       "       [  1.37831748e-01],\n",
       "       [  5.92501797e-02],\n",
       "       [  7.44979084e-01],\n",
       "       [  4.46208477e-01],\n",
       "       [  5.98074138e-01],\n",
       "       [ -3.30578983e-01],\n",
       "       [  5.95652997e-01],\n",
       "       [ -4.90114450e-01],\n",
       "       [  4.96511817e-01],\n",
       "       [  7.90992975e-01],\n",
       "       [ -2.80094445e-01],\n",
       "       [  6.43480122e-01]], dtype=float32)"
      ]
     },
     "execution_count": 44,
     "metadata": {},
     "output_type": "execute_result"
    }
   ],
   "source": [
    "predictions"
   ]
  },
  {
   "cell_type": "code",
   "execution_count": 73,
   "metadata": {
    "collapsed": true
   },
   "outputs": [],
   "source": [
    "from sklearn.metrics import mean_squared_error"
   ]
  },
  {
   "cell_type": "code",
   "execution_count": 74,
   "metadata": {},
   "outputs": [
    {
     "data": {
      "text/plain": [
       "0.080566082071483636"
      ]
     },
     "execution_count": 74,
     "metadata": {},
     "output_type": "execute_result"
    }
   ],
   "source": [
    "mean_squared_error(y_test, predictions)"
   ]
  },
  {
   "cell_type": "code",
   "execution_count": 99,
   "metadata": {
    "collapsed": true
   },
   "outputs": [],
   "source": [
    "import root_numpy as rnp"
   ]
  },
  {
   "cell_type": "code",
   "execution_count": 83,
   "metadata": {
    "collapsed": true
   },
   "outputs": [],
   "source": [
    "numufile = \"utilities/km3_v4_numucc_1_B.evt.aa.root\"\n",
    "nuefile = \"utilities/km3_v4_nuecc_1.evt.JTE.aa.root\""
   ]
  },
  {
   "cell_type": "code",
   "execution_count": 84,
   "metadata": {
    "collapsed": true
   },
   "outputs": [],
   "source": [
    "E_numu = rnp.root2array(numufile, treename='E', branches='Evt.mc_trks.E')\n",
    "type_numu = rnp.root2array(numufile, treename='E', branches = 'Evt.mc_trks.type')\n",
    "E_nue = rnp.root2array(nuefile, treename='E', branches='Evt.mc_trks.E')\n",
    "type_nue = rnp.root2array(nuefile, treename='E', branches = 'Evt.mc_trks.type')\n",
    "\n",
    "\n",
    "E_numu_ = np.asarray([E_numu[evt][type_numu[evt]==5][0]for evt in range(E_numu.shape[0])])\n",
    "\n",
    "E_nue_ = np.asarray([E_nue[evt][type_nue[evt]==3][0]for evt in range(E_nue.shape[0])])"
   ]
  },
  {
   "cell_type": "code",
   "execution_count": 100,
   "metadata": {},
   "outputs": [
    {
     "data": {
      "text/plain": [
       "(1541,)"
      ]
     },
     "execution_count": 100,
     "metadata": {},
     "output_type": "execute_result"
    }
   ],
   "source": [
    "E_numu_.shape"
   ]
  },
  {
   "cell_type": "code",
   "execution_count": 107,
   "metadata": {
    "collapsed": true
   },
   "outputs": [],
   "source": [
    "numu_ids = np.load(\"numu_evt_sel_5_doms.npz\")\n",
    "nue_ids = np.load(\"nue_evt_sel_5_doms.npz\")"
   ]
  },
  {
   "cell_type": "code",
   "execution_count": 108,
   "metadata": {
    "collapsed": true
   },
   "outputs": [],
   "source": [
    "numu_map = numu_ids[\"id\"]\n",
    "nue_map = nue_ids[\"id\"]"
   ]
  },
  {
   "cell_type": "code",
   "execution_count": 111,
   "metadata": {
    "collapsed": true
   },
   "outputs": [],
   "source": [
    "E_numu_sel5 = E_numu_[numu_map]\n",
    "E_nue_sel5 = E_nue_[nue_map]"
   ]
  },
  {
   "cell_type": "code",
   "execution_count": 113,
   "metadata": {},
   "outputs": [
    {
     "data": {
      "text/plain": [
       "(513, 1, 75, 18)"
      ]
     },
     "execution_count": 113,
     "metadata": {},
     "output_type": "execute_result"
    }
   ],
   "source": [
    "ZT_test.shape"
   ]
  },
  {
   "cell_type": "code",
   "execution_count": 114,
   "metadata": {
    "collapsed": true
   },
   "outputs": [],
   "source": [
    "Energies = np.hstack((E_numu_sel5, E_nue_sel5))"
   ]
  },
  {
   "cell_type": "code",
   "execution_count": 115,
   "metadata": {
    "collapsed": true
   },
   "outputs": [],
   "source": [
    "E_train, E_test = Energies[indx_train], Energies[indx_test]"
   ]
  },
  {
   "cell_type": "code",
   "execution_count": 141,
   "metadata": {},
   "outputs": [
    {
     "data": {
      "image/png": "[encoded data removed]",
      "text/plain": [
       "<matplotlib.figure.Figure at 0x7fdb4addf310>"
      ]
     },
     "metadata": {},
     "output_type": "display_data"
    }
   ],
   "source": [
    "%matplotlib inline\n",
    "plt.hist(predictions, alpha=0.5)\n",
    "plt.hist(y_test, alpha=0.6)\n",
    "plt.grid()\n",
    "plt.show()"
   ]
  },
  {
   "cell_type": "code",
   "execution_count": null,
   "metadata": {
    "collapsed": true
   },
   "outputs": [],
   "source": []
  }
 ],
 "metadata": {
  "kernelspec": {
   "display_name": "Python 2",
   "language": "python",
   "name": "python2"
  },
  "language_info": {
   "codemirror_mode": {
    "name": "ipython",
    "version": 2
   },
   "file_extension": ".py",
   "mimetype": "text/x-python",
   "name": "python",
   "nbconvert_exporter": "python",
   "pygments_lexer": "ipython2",
   "version": "2.7.6"
  }
 },
 "nbformat": 4,
 "nbformat_minor": 2
}
