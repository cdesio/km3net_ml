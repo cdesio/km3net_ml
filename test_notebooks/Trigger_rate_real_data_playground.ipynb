{
 "cells": [
  {
   "cell_type": "code",
   "execution_count": 1,
   "metadata": {
    "collapsed": true
   },
   "outputs": [],
   "source": [
    "fname = \"/home/vagrant/notebooks/trigger_optimisation_files/L0_calib_runs/out_JTM/out_jtm_4145_st\""
   ]
  },
  {
   "cell_type": "code",
   "execution_count": 2,
   "metadata": {
    "collapsed": false
   },
   "outputs": [
    {
     "name": "stdout",
     "output_type": "stream",
     "text": [
      "/home/vagrant/notebooks/trigger_optimisation_files/L0_calib_runs/out_JTM/out_jtm_4145_st\n",
      "['Total', 'run', 'duration', '[s]', '573.0']\n",
      "573.0\n",
      "['Total', '138369', '241.48', '[Hz]']\n",
      "('138369', '241.48')\n"
     ]
    }
   ],
   "source": [
    "with open(fname) as f:\n",
    "    print(fname)\n",
    "    for line in f:\n",
    "        if \"Total run duration\" in line:\n",
    "            print(line.split())\n",
    "            run_duration = line.split()[-1]\n",
    "            print(run_duration)\n",
    "        elif \"Total \" in line:\n",
    "            print(line.split())\n",
    "            nEvents = line.split()[1]\n",
    "            trigger_rate = line.split()[2]\n",
    "            print(nEvents, trigger_rate)"
   ]
  },
  {
   "cell_type": "code",
   "execution_count": 1,
   "metadata": {
    "collapsed": true
   },
   "outputs": [],
   "source": [
    "time_windows = [20, 50, 100, 150, 370]"
   ]
  },
  {
   "cell_type": "code",
   "execution_count": null,
   "metadata": {
    "collapsed": true
   },
   "outputs": [],
   "source": [
    "L0_hits_4145 = [241.48, 1595.04, 2078.65, 2231.15, 2289.41, 4220.20  ]\n",
    "L0_hits_4147 = [201.43, 1700.31, 2312.21, 2416.48, 2474.95, 5564.55 \n",
    "L0_hits_4149 = [270.51, 574.99, 677.79, 698.20, 705.95, 864.37  ]\n",
    "L0_hits_4151 = [502.52, 1670.32, 2565.63, 2700.89, 2750.89, 3342.09 ]\n",
    "L0_hits_4182 = [0.10, 0.31, 0.41, 0.46, 0.52, 4.21 ]\n"
   ]
  },
  {
   "cell_type": "markdown",
   "metadata": {},
   "source": [
    "<p style=\"text-align: center;\"> L1 runs Trigger rate (Hz) (JTriggerProcessor) </p>\n",
    "--------------------------------------------------------------\n",
    "|          filename             | 'st' | 50ns | 100ns | 'opt'|\n",
    "|-------------------------------|:--------------------------:|\n",
    "| KM3NeT_00000014_00004030.root | 0.03 | 0.12 | 0.20  | 0.33 |\n",
    "| KM3NeT_00000014_00004031.root | 0.02 | 0.14 | 0.21  | 0.33 |\n",
    "| KM3NeT_00000014_00004032.root | 0.10 | 0.27 | 0.32  | 0.35 |\n",
    "| KM3NeT_00000014_00004033.root | 0.02 | 0.11 | 0.17  | 0.27 |\n",
    "| KM3NeT_00000014_00004034.root | 0.03 | 0.23 | 0.50  | 1.13 |\n",
    "| KM3NeT_00000014_00004035.root | 0.01 | 0.21 | 0.53  | 1.26 |\n",
    "| KM3NeT_00000014_00004036.root | 0.01 | 0.25 | 0.53  | 1.22 |\n",
    "| KM3NeT_00000014_00004037.root | 0.02 | 0.18 | 0.33  | 0.58 |\n",
    "| KM3NeT_00000014_00004038.root | 0.01 | 0.04 | 0.06  | 0.07 |\n",
    "| KM3NeT_00000014_00004039.root | 0.03 | 0.12 | 0.17  | 0.22 |\n",
    "| KM3NeT_00000014_00004040.root | 0.02 | 0.16 | 0.25  | 0.37 |\n",
    "--------------------------------------------------------------\n",
    "\n",
    "- 'st': standard trigger parameters; \n",
    "    e.g.:\n",
    "        TMaxExtra_ns = 20 \n",
    "- 'opt': 'optimised' parameters; \n",
    "    e.g.:\n",
    "        Trigger3DShower.MaxExtra_ns = 370; \n",
    "        Trigger3DMuon.TMaxExtra_ns = 150\n",
    "        \n",
    "#### Detector file: KM3NeT_00000014_20160802.detx"
   ]
  },
  {
   "cell_type": "code",
   "execution_count": null,
   "metadata": {
    "collapsed": true
   },
   "outputs": [],
   "source": [
    "L1_runs_4030 = [0.03, 0.12, 0.20, 0.33 ]\n",
    "L1_runs_4031 = [0.02, 0.14, 0.21, 0.33 ]\n",
    "L1_runs_4032 = [0.10, 0.27, 0.32, 0.35 ]\n",
    "L1_runs_4033 = [0.02, 0.11, 0.17, 0.27 ]\n",
    "L1_runs_4034 = [0.03, 0.23, 0.50, 1.13 ]\n",
    "L1_runs_4035 = [0.01, 0.21, 0.53, 1.26 ]\n",
    "L1_runs_4036 = [0.01, 0.25, 0.53, 1.22 ]\n",
    "L1_runs_4037 = [0.02, 0.18, 0.33, 0.58 ] \n",
    "L1_runs_4038 = [0.01, 0.04, 0.06, 0.07 ]\n",
    "L1_runs_4039 = [0.03, 0.12, 0.17, 0.22 ]\n",
    "L1_runs_4040 = [0.02, 0.16, 0.25, 0.37 ]"
   ]
  },
  {
   "cell_type": "markdown",
   "metadata": {},
   "source": [
    "<p style=\"text-align: center;\"> K40 background trigger rate (Hz) (JTriggerProcessor) </p>\n",
    "--------------------------------------------------------------\n",
    "|          filename        | 'st' | 50ns | 100ns | 150ns| 'opt'|\n",
    "|--------------------------|:---------------------------------:|\n",
    "| JRTSW_5khz_n1000.root    | 0.00 | 0.00 | 0.00  | 0.00 | 0.01 |\n",
    "| JRTSW_10khz_n1000.root   | 0.00 | 0.01 | 0.01  | 0.06 | 0.09 |\n",
    "| JRTSW_15khz_n1000.root   | 0.00 | 0.03 | 0.04  | 0.14 | 0.36 |\n",
    "| JRTSW_20khz_n1000.root   | 0.01 | 0.15 | 0.45  | 1.01 | 1.65 |\n",
    "| JRTSW_25khz_n1000.root   | 0.14 | 0.49 | 1.76  | 4.64 | 8.17 |\n",
    "| JRTSW_100khz_n1000.root  |26072.9 | 15974.4 | 38462.59\n",
    "| JRTSW_250khz_n1000.root  | 0.02 | 0.18 | 0.33  |      |\n",
    "| JRTSW_500khz_n1000.root  | 0.01 | 0.04 | 0.06  |      |\n",
    "| JRTSW_1000khz_n1000.root | 0.03 | 0.12 | 0.17  |      |\n",
    "---------------------------------------------------------\n",
    "\n",
    "- 'st': standard trigger parameters; \n",
    "    e.g.:\n",
    "        TMaxExtra_ns = 20 \n",
    "- 'opt': 'optimised' parameters; \n",
    "    e.g.:\n",
    "        Trigger3DShower.MaxExtra_ns = 370; \n",
    "        Trigger3DMuon.TMaxExtra_ns = 150\n",
    "        \n",
    "#### Detector file: KM3NeT_00000014_20160802.detx"
   ]
  },
  {
   "cell_type": "code",
   "execution_count": null,
   "metadata": {
    "collapsed": true
   },
   "outputs": [],
   "source": [
    "\n",
    "\n",
    "bkg_5khz = [0.00, 0.00, 0.00, 0.00, 0.01]\n",
    "bkg_10khz = [0.00, 0.01, 0.01, 0.06, 0.09]\n",
    "bkg_15khz = [0.00, 0.03, 0.04, 0.14, 0.36]\n",
    "bkg_20khz = [0.01, 0.15, 0.45, 1.01, 1.65]\n",
    "bkg_25khz = [0.14, 0.49, 1.76,  4.64, 8.17]\n",
    "bkg_100khz = [26072.9, 15974.4, 38462.59 ]\n",
    "#100-250-500-1000khz\n",
    "#-R in JTP retriggers for the L0 runs"
   ]
  }
 ],
 "metadata": {
  "anaconda-cloud": {},
  "kernelspec": {
   "display_name": "Python 2",
   "language": "python",
   "name": "python2"
  },
  "language_info": {
   "codemirror_mode": {
    "name": "ipython",
    "version": 2
   },
   "file_extension": ".py",
   "mimetype": "text/x-python",
   "name": "python",
   "nbconvert_exporter": "python",
   "pygments_lexer": "ipython2",
   "version": "2.7.6"
  }
 },
 "nbformat": 4,
 "nbformat_minor": 0
}
