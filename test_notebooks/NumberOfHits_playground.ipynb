{
 "cells": [
  {
   "cell_type": "markdown",
   "metadata": {},
   "source": [
    "## Preamble"
   ]
  },
  {
   "cell_type": "markdown",
   "metadata": {},
   "source": [
    "Import needed python and ROOT modules, load JPP/ROOT libraries"
   ]
  },
  {
   "cell_type": "code",
   "execution_count": 1,
   "metadata": {
    "collapsed": false
   },
   "outputs": [
    {
     "name": "stderr",
     "output_type": "stream",
     "text": [
      "DEBUG:rootpy.logger] Using rootpy's default log handler\n",
      "DEBUG:rootpy.logger.magic] called SetErrorHandler()\n",
      "DEBUG:rootpy.utils.quickroot] Loaded libHist (required by TH1)\n",
      "DEBUG:rootpy] Using ROOT 5.34/36\n",
      "DEBUG:rootpy.defaults] PyROOT's finalSetup() has been triggered\n",
      "DEBUG:rootpy.defaults] PyROOT's finalSetup() has been called (gROOT.IsBatch()==False)\n",
      "DEBUG:rootpy.defaults] configure_defaults()\n",
      "DEBUG:rootpy.logger.magic] called SetErrorHandler()\n",
      "/usr/local/lib/python2.7/dist-packages/root_numpy/__init__.py:35: RuntimeWarning: numpy 1.11.2 is currently installed but you installed root_numpy against numpy 1.11.1. Please consider reinstalling root_numpy for this numpy version.\n",
      "  RuntimeWarning)\n"
     ]
    }
   ],
   "source": [
    "import ROOT, rootpy\n",
    "from ROOT import gSystem\n",
    "import root_numpy as rnp\n",
    "import numpy as np\n",
    "from dependencies import root_dependencies\n",
    "root_dependencies()"
   ]
  },
  {
   "cell_type": "code",
   "execution_count": null,
   "metadata": {
    "collapsed": true
   },
   "outputs": [],
   "source": [
    "numuCC_files = !ls /home/cdesio/trigger_optimisation/neutrinos/numuCC/out_JTE/*.JTE.root"
   ]
  },
  {
   "cell_type": "code",
   "execution_count": null,
   "metadata": {
    "collapsed": true
   },
   "outputs": [],
   "source": [
    "fname = numuCC_files[30]"
   ]
  },
  {
   "cell_type": "code",
   "execution_count": null,
   "metadata": {
    "collapsed": false
   },
   "outputs": [],
   "source": [
    "fname"
   ]
  },
  {
   "cell_type": "markdown",
   "metadata": {},
   "source": [
    "Get Montecarlo energies"
   ]
  },
  {
   "cell_type": "code",
   "execution_count": null,
   "metadata": {
    "collapsed": false
   },
   "outputs": [],
   "source": [
    "montecarlo_energies = rnp.root2array(filename, treename=\"MONTECARLO\", branches=\"neutrino_.E_\")"
   ]
  },
  {
   "cell_type": "markdown",
   "metadata": {},
   "source": [
    "Get Montecarlo number of hits per event"
   ]
  },
  {
   "cell_type": "code",
   "execution_count": null,
   "metadata": {
    "collapsed": false
   },
   "outputs": [],
   "source": [
    "montecarlo_numberofhits = rnp.root2array(filename, treename=\"MONTECARLO\", branches=\"@HitList_.size()\")"
   ]
  },
  {
   "cell_type": "code",
   "execution_count": null,
   "metadata": {
    "collapsed": false
   },
   "outputs": [],
   "source": [
    "montecarlo_numberofhits = montecarlo_numberofhits.astype(np.int64)"
   ]
  },
  {
   "cell_type": "code",
   "execution_count": null,
   "metadata": {
    "collapsed": false
   },
   "outputs": [],
   "source": [
    "triggered_numberofhits = rnp.root2array(filename, treename=\"KM3NET_EVENT\", branches=\"@triggeredHits.size()\")"
   ]
  },
  {
   "cell_type": "code",
   "execution_count": null,
   "metadata": {
    "collapsed": true
   },
   "outputs": [],
   "source": [
    "triggered_numberofhits = triggered_numberofhits.astype(np.int64)"
   ]
  },
  {
   "cell_type": "code",
   "execution_count": null,
   "metadata": {
    "collapsed": true
   },
   "outputs": [],
   "source": [
    "sel_mc_hits = [i for i in montecarlo_numberofhits if i<5]"
   ]
  },
  {
   "cell_type": "code",
   "execution_count": null,
   "metadata": {
    "collapsed": false
   },
   "outputs": [],
   "source": [
    "from bokeh.plotting import figure, show, output_notebook\n",
    "from bokeh.models import Range1d\n",
    "x = sel_energies\n",
    "y = sel_mc_hits\n",
    "output_notebook()\n",
    "p = figure(title=\"Number of hits\", x_axis_type=\"log\",plot_height=400, plot_width=600)\n",
    "#p.x_range = Range1d(1e2, 1e8)\n",
    "#p.y_range = Range1d(1e-4, 1e4)\n",
    "p.xaxis.axis_label = \"Log Energy (GeV)\"\n",
    "p.yaxis.axis_label = \"nhits per event\"\n",
    "r = p.cross(x, y, color=\"navy\", line_width=1)\n",
    "show(p)"
   ]
  },
  {
   "cell_type": "code",
   "execution_count": null,
   "metadata": {
    "collapsed": false
   },
   "outputs": [],
   "source": [
    "sel_energies = []\n",
    "sel_hits = []\n",
    "for i, en in enumerate(montecarlo_energies):\n",
    "    if montecarlo_numberofhits[i] < 5:\n",
    "        sel_energies.append(en)\n",
    "        sel_hits.append(montecarlo_numberofhits[i])"
   ]
  },
  {
   "cell_type": "code",
   "execution_count": null,
   "metadata": {
    "collapsed": true
   },
   "outputs": [],
   "source": [
    "sel2 = np.array([en for i, en in enumerate(montecarlo_energies) if montecarlo_numberofhits[i]<5])"
   ]
  },
  {
   "cell_type": "markdown",
   "metadata": {
    "collapsed": true
   },
   "source": [
    "evaluate a possible efficiency as:\n",
    "in each energy bin, the number of events with nhits>4 / total number of evetns in that bin.(combinel1 and nocomb)"
   ]
  },
  {
   "cell_type": "code",
   "execution_count": null,
   "metadata": {
    "collapsed": true
   },
   "outputs": [],
   "source": [
    "montecarlo_pmt_idk = rnp.root2array(filename, treename=\"MONTECARLO\", branches=\"HitList_\")\n"
   ]
  },
  {
   "cell_type": "code",
   "execution_count": null,
   "metadata": {
    "collapsed": false
   },
   "outputs": [],
   "source": [
    "montecarlo_pmt_idk"
   ]
  },
  {
   "cell_type": "code",
   "execution_count": null,
   "metadata": {
    "collapsed": false
   },
   "outputs": [],
   "source": [
    "montecarlo_pmt_id0 = rnp.root2array(filename, treename=\"MONTECARLO\", branches=\"HitList_.pm_id_[1]\")"
   ]
  },
  {
   "cell_type": "code",
   "execution_count": null,
   "metadata": {
    "collapsed": false
   },
   "outputs": [],
   "source": [
    "montecarlo_pmt_id1 = rnp.root2array(filename, treename=\"MONTECARLO\", branches=\"HitList_.pm_id_[6000000]\")"
   ]
  },
  {
   "cell_type": "code",
   "execution_count": null,
   "metadata": {
    "collapsed": false
   },
   "outputs": [],
   "source": [
    "montecarlo_pmt_id0"
   ]
  },
  {
   "cell_type": "code",
   "execution_count": null,
   "metadata": {
    "collapsed": true
   },
   "outputs": [],
   "source": []
  },
  {
   "cell_type": "code",
   "execution_count": null,
   "metadata": {
    "collapsed": true
   },
   "outputs": [],
   "source": []
  },
  {
   "cell_type": "code",
   "execution_count": null,
   "metadata": {
    "collapsed": true
   },
   "outputs": [],
   "source": [
    "from rootpy.io import root_open\n",
    "tfile = root_open(filename)\n",
    "tree = tfile.MONTECARLO"
   ]
  },
  {
   "cell_type": "code",
   "execution_count": null,
   "metadata": {
    "collapsed": false
   },
   "outputs": [],
   "source": [
    "64164/31"
   ]
  },
  {
   "cell_type": "code",
   "execution_count": null,
   "metadata": {
    "collapsed": false
   },
   "outputs": [],
   "source": [
    "montecarlo_pmt_id = montecarlo_pmt_id.astype(np.int64)"
   ]
  },
  {
   "cell_type": "code",
   "execution_count": null,
   "metadata": {
    "collapsed": true
   },
   "outputs": [],
   "source": [
    "binned = np.histogram(montecarlo_pmt_id, bins=31,range=(min(montecarlo_pmt_id), max(montecarlo_pmt_id)) )"
   ]
  },
  {
   "cell_type": "markdown",
   "metadata": {},
   "source": [
    "```c++\n",
    "root [6] tt->Scan(\"HitList_.pm_id_\")\n",
    "***********************************\n",
    "*    Row   * Instance * HitList_. *\n",
    "***********************************\n",
    "*        0 *        0 *     45392 *\n",
    "*        0 *        1 *     45983 *\n",
    "*        0 *        2 *     45995 *\n",
    "*        0 *        3 *     45996 *\n",
    "*        0 *        4 *     46002 *\n",
    "*        0 *        5 *     29217 *\n",
    "*        0 *        6 *     29220 *\n",
    "*        0 *        7 *     46000 *\n",
    "*        0 *        8 *     47179 *\n",
    "*        0 *        9 *     61091 *\n",
    "*        0 *       10 *     44212 *\n",
    "*        0 *       11 *     45989 *\n",
    "*        0 *       12 *     46001 *\n",
    "*        0 *       13 *     46001 *\n",
    "*        0 *       14 *     60601 *\n",
    "*        1 *        0 *     39923 *\n",
    "*        2 *        0 *     53347 *\n",
    "*        3 *        0 *     34291 *\n",
    "*        3 *        1 *     34323 *\n",
    "*        3 *        2 *     34402 *\n",
    "*        3 *        3 *     35316 *\n",
    "*        3 *        4 *     35319 *\n",
    "*        3 *        5 *     35397 *\n",
    "*        3 *        6 *     34390 *\n",
    "*        3 *        7 *     36581 *\n",
    "```"
   ]
  },
  {
   "cell_type": "code",
   "execution_count": null,
   "metadata": {
    "collapsed": false
   },
   "outputs": [],
   "source": [
    "from ROOT import TFile \n",
    "from root_numpy import tree2array\n",
    "                     \n",
    "\n",
    "f1=TFile(filename)\n",
    "tree=f1.Get('MONTECARLO')"
   ]
  },
  {
   "cell_type": "code",
   "execution_count": null,
   "metadata": {
    "collapsed": true
   },
   "outputs": [],
   "source": [
    "eventnumber = rnp.root2array(filename, treename='MONTECARLO', branches='eventNumber_')\n",
    "numberOfEvents = len(eventnumber)\n",
    "max_evn = np.int(np.max(eventnumber))\n",
    "ndoms = 2070"
   ]
  },
  {
   "cell_type": "code",
   "execution_count": null,
   "metadata": {
    "collapsed": false
   },
   "outputs": [],
   "source": [
    "print(numberOfEvents, max_evn)"
   ]
  },
  {
   "cell_type": "markdown",
   "metadata": {},
   "source": [
    "```c++\n",
    " tt->Draw(\"HitList_.pm_id_/31:eventNumber_>> h(3853, 0, 6500,2070, 0, 2070)\")\n",
    "```"
   ]
  },
  {
   "cell_type": "code",
   "execution_count": null,
   "metadata": {
    "collapsed": true
   },
   "outputs": [],
   "source": [
    "del histo"
   ]
  },
  {
   "cell_type": "code",
   "execution_count": null,
   "metadata": {
    "collapsed": false,
    "scrolled": true
   },
   "outputs": [],
   "source": [
    "histo = ROOT.TH2F('dom hit per event','dom hit per event', numberOfEvents, 0, max_evn, ndoms, 0, ndoms)"
   ]
  },
  {
   "cell_type": "code",
   "execution_count": null,
   "metadata": {
    "collapsed": false
   },
   "outputs": [],
   "source": [
    "tree.Draw(\"HitList_.pm_id_/31:eventNumber_ >> histo\",\"\")"
   ]
  },
  {
   "cell_type": "code",
   "execution_count": null,
   "metadata": {
    "collapsed": true
   },
   "outputs": [],
   "source": [
    "tree.Draw(\"HitList_.pm_id_/31:eventNumber_>> h(numberOfEvents, 0, max_evn,ndoms, 0, ndoms)\",\"\")"
   ]
  },
  {
   "cell_type": "code",
   "execution_count": null,
   "metadata": {
    "collapsed": false
   },
   "outputs": [],
   "source": [
    "h.GetBinContent(20,34)"
   ]
  },
  {
   "cell_type": "code",
   "execution_count": null,
   "metadata": {
    "collapsed": false
   },
   "outputs": [],
   "source": [
    "histo.GetBin(100)"
   ]
  },
  {
   "cell_type": "code",
   "execution_count": null,
   "metadata": {
    "collapsed": false
   },
   "outputs": [],
   "source": [
    "bins = []\n",
    "for x in range(numberOfEvents):\n",
    "    for y in range(ndoms):\n",
    "        bins.append((x, y, int(histo.GetBin(x,y))))"
   ]
  },
  {
   "cell_type": "code",
   "execution_count": null,
   "metadata": {
    "collapsed": true
   },
   "outputs": [],
   "source": [
    "ev_countdoms = []\n",
    "for x in range(numberOfEvents):\n",
    "    count = 0\n",
    "    for y in range(ndoms):\n",
    "        if int(histo.GetBinContent(x,y))!=0:\n",
    "            count+=1\n",
    "    if count!=0:\n",
    "        ev_countdoms.append((x, count))\n",
    "            "
   ]
  },
  {
   "cell_type": "code",
   "execution_count": null,
   "metadata": {
    "collapsed": false
   },
   "outputs": [],
   "source": [
    "ev_5doms = [ ev_countdoms[i][0] for i in range(len(ev_countdoms)) if ev_countdoms[i][1]>5]"
   ]
  },
  {
   "cell_type": "code",
   "execution_count": null,
   "metadata": {
    "collapsed": false
   },
   "outputs": [],
   "source": [
    "ev_countdoms"
   ]
  },
  {
   "cell_type": "code",
   "execution_count": null,
   "metadata": {
    "collapsed": false
   },
   "outputs": [],
   "source": [
    "histo.GetBinContent(0,1)"
   ]
  },
  {
   "cell_type": "code",
   "execution_count": null,
   "metadata": {
    "collapsed": false
   },
   "outputs": [],
   "source": [
    "histo.GetEffs()"
   ]
  },
  {
   "cell_type": "markdown",
   "metadata": {},
   "source": [
    "https://root.cern.ch/root/roottalk/roottalk98/2318.html"
   ]
  },
  {
   "cell_type": "markdown",
   "metadata": {},
   "source": [
    "### Using `rootpy.plotting`"
   ]
  },
  {
   "cell_type": "code",
   "execution_count": null,
   "metadata": {
    "collapsed": false
   },
   "outputs": [],
   "source": [
    "import rootpy.plotting"
   ]
  },
  {
   "cell_type": "code",
   "execution_count": null,
   "metadata": {
    "collapsed": false
   },
   "outputs": [],
   "source": [
    "from rootpy.io import root_open"
   ]
  },
  {
   "cell_type": "code",
   "execution_count": null,
   "metadata": {
    "collapsed": true
   },
   "outputs": [],
   "source": [
    "root_file = root_open(filename)"
   ]
  },
  {
   "cell_type": "code",
   "execution_count": null,
   "metadata": {
    "collapsed": true
   },
   "outputs": [],
   "source": [
    "rpy_tree = root_file.MONTECARLO"
   ]
  },
  {
   "cell_type": "code",
   "execution_count": null,
   "metadata": {
    "collapsed": false
   },
   "outputs": [],
   "source": [
    "rpy_tree"
   ]
  },
  {
   "cell_type": "code",
   "execution_count": null,
   "metadata": {
    "collapsed": false
   },
   "outputs": [],
   "source": [
    "h2d = rootpy.plotting.Hist2D(numberOfEvents, 0, max_evn, ndoms, 0, ndoms, type=\"F\")"
   ]
  },
  {
   "cell_type": "code",
   "execution_count": null,
   "metadata": {
    "collapsed": true
   },
   "outputs": [],
   "source": [
    "ret = rpy_tree.Draw('eventNumber_:HitList_.pm_id_/31', hist=h2d, create_hist=False)"
   ]
  },
  {
   "cell_type": "code",
   "execution_count": null,
   "metadata": {
    "collapsed": false
   },
   "outputs": [],
   "source": [
    "bin_slice = h2d[0, :]\n",
    "points = bin_slice.points\n",
    "print(next(points))"
   ]
  },
  {
   "cell_type": "code",
   "execution_count": null,
   "metadata": {
    "collapsed": true
   },
   "outputs": [],
   "source": [
    "for i in range (2070):\n",
    "    print(next(points))"
   ]
  },
  {
   "cell_type": "code",
   "execution_count": null,
   "metadata": {
    "collapsed": false
   },
   "outputs": [],
   "source": [
    "type(ret)"
   ]
  },
  {
   "cell_type": "code",
   "execution_count": null,
   "metadata": {
    "collapsed": false
   },
   "outputs": [],
   "source": [
    "h2d[0:]"
   ]
  },
  {
   "cell_type": "code",
   "execution_count": null,
   "metadata": {
    "collapsed": false
   },
   "outputs": [],
   "source": [
    "len(list(h2d.xedges()))"
   ]
  },
  {
   "cell_type": "code",
   "execution_count": null,
   "metadata": {
    "collapsed": false
   },
   "outputs": [],
   "source": [
    "max_evn / float(numberOfEvents)"
   ]
  },
  {
   "cell_type": "code",
   "execution_count": null,
   "metadata": {
    "collapsed": false
   },
   "outputs": [],
   "source": [
    "list(h2d.xedges())[:3]"
   ]
  },
  {
   "cell_type": "code",
   "execution_count": null,
   "metadata": {
    "collapsed": false
   },
   "outputs": [],
   "source": [
    "list(h2d.yedges())[:3]"
   ]
  },
  {
   "cell_type": "code",
   "execution_count": null,
   "metadata": {
    "collapsed": false
   },
   "outputs": [],
   "source": [
    "from rootpy.plotting import Hist2D"
   ]
  },
  {
   "cell_type": "code",
   "execution_count": null,
   "metadata": {
    "collapsed": true
   },
   "outputs": [],
   "source": [
    "h2d[2, :].effective_entries"
   ]
  },
  {
   "cell_type": "code",
   "execution_count": null,
   "metadata": {
    "collapsed": true
   },
   "outputs": [],
   "source": [
    "b0 = Hist2D(h2d[0, :])"
   ]
  },
  {
   "cell_type": "code",
   "execution_count": null,
   "metadata": {
    "collapsed": false
   },
   "outputs": [],
   "source": [
    "ev_countdoms = []\n",
    "for x in range(numberOfEvents):\n",
    "    count = 0\n",
    "    for y in range(ndoms):\n",
    "        if h2d.GetBinContent(x,y) > 0:\n",
    "            count+=1\n",
    "    if count != 0:\n",
    "        ev_countdoms.append((x, count))"
   ]
  },
  {
   "cell_type": "code",
   "execution_count": null,
   "metadata": {
    "collapsed": true
   },
   "outputs": [],
   "source": [
    "ev_countdoms"
   ]
  },
  {
   "cell_type": "code",
   "execution_count": null,
   "metadata": {
    "collapsed": true
   },
   "outputs": [],
   "source": [
    "ev_countdoms = []\n",
    "for x in range(4):\n",
    "    count = 0\n",
    "    for y in range(ndoms):\n",
    "        if h2d.GetBinContent(x,y) > 0:\n",
    "            count+=1\n",
    "    if count != 0:\n",
    "        ev_countdoms.append((x, count))"
   ]
  },
  {
   "cell_type": "code",
   "execution_count": null,
   "metadata": {
    "collapsed": false
   },
   "outputs": [],
   "source": [
    "ndoms*3\n"
   ]
  },
  {
   "cell_type": "code",
   "execution_count": null,
   "metadata": {
    "collapsed": false
   },
   "outputs": [],
   "source": [
    "ev_countdoms"
   ]
  },
  {
   "cell_type": "code",
   "execution_count": null,
   "metadata": {
    "collapsed": false
   },
   "outputs": [],
   "source": [
    "2070*3853"
   ]
  },
  {
   "cell_type": "code",
   "execution_count": null,
   "metadata": {
    "collapsed": false
   },
   "outputs": [],
   "source": [
    "h2d.GetSize()"
   ]
  },
  {
   "cell_type": "code",
   "execution_count": null,
   "metadata": {
    "collapsed": false
   },
   "outputs": [],
   "source": [
    "ev_countdoms"
   ]
  },
  {
   "cell_type": "code",
   "execution_count": null,
   "metadata": {
    "collapsed": true
   },
   "outputs": [],
   "source": [
    "ev_countdoms = []\n",
    "for x in range(h2d.GetSize()/4):\n",
    "    count = 0\n",
    "    if h2d.GetBinContent(x,y) > 0:\n",
    "        count+=1\n",
    "    if count != 0:\n",
    "        ev_countdoms.append((x, count))"
   ]
  },
  {
   "cell_type": "code",
   "execution_count": null,
   "metadata": {
    "collapsed": false,
    "scrolled": true
   },
   "outputs": [],
   "source": [
    "count=0\n",
    "for x in range(3853*2, 3853*3):\n",
    "        if h2d.GetBinContent(x) > 0:\n",
    "            print(h2d.GetBinContent(x))\n",
    "            count+=1\n",
    "print(count)"
   ]
  },
  {
   "cell_type": "code",
   "execution_count": null,
   "metadata": {
    "collapsed": true
   },
   "outputs": [],
   "source": [
    "ev_countdoms"
   ]
  },
  {
   "cell_type": "code",
   "execution_count": null,
   "metadata": {
    "collapsed": true
   },
   "outputs": [],
   "source": [
    "for x in range(20):\n",
    "    for y in range(20):\n",
    "        print(x, y, h2d.GetBinContent(int(h2d.GetBin(x,y))))"
   ]
  },
  {
   "cell_type": "code",
   "execution_count": null,
   "metadata": {
    "collapsed": true
   },
   "outputs": [],
   "source": [
    "import pickle"
   ]
  },
  {
   "cell_type": "code",
   "execution_count": null,
   "metadata": {
    "collapsed": false
   },
   "outputs": [],
   "source": [
    "with open('/home/cdesio/notebooks/ev_arr.txt','rb') as f:\n",
    "    ev_arr = pickle.load(f)"
   ]
  },
  {
   "cell_type": "code",
   "execution_count": null,
   "metadata": {
    "collapsed": false
   },
   "outputs": [],
   "source": [
    "len(ev_arr)"
   ]
  },
  {
   "cell_type": "code",
   "execution_count": null,
   "metadata": {
    "collapsed": false,
    "scrolled": true
   },
   "outputs": [],
   "source": [
    "import km3pipe as kp\n",
    "\n",
    "pump = kp.GenericPump(fname)\n",
    "geo = kp.Geometry(filename=\"/home/cdesio/trigger_optimisation/km3net_jul13_90m_r1494_corrected.detx\")\n",
    "\n",
    "for blob in pump:\n",
    "    hits = blob['Hits']\n",
    "    hit_doms = set(geo.detector.doms[h.dom_id][:2] for h in hits)\n",
    "    hit_doms2 = set(geo.detector.doms[h.dom_id] for h in hits)\n",
    "    #print(hit_doms)\n",
    "    #break"
   ]
  },
  {
   "cell_type": "code",
   "execution_count": null,
   "metadata": {
    "collapsed": true
   },
   "outputs": [],
   "source": [
    "for f, d, p, in hit_doms2:\n",
    "    print(f, d, p)"
   ]
  },
  {
   "cell_type": "code",
   "execution_count": null,
   "metadata": {
    "collapsed": false
   },
   "outputs": [],
   "source": [
    "import km3pipe as kp\n",
    "\n",
    "pump = kp.GenericPump(fname)\n",
    "doms = []\n",
    "for blob in pump:\n",
    "    #print(blob['Hits'].dom_id)\n",
    "    #break\n",
    "    np.array(doms.append((blob['Hits'].id, blob['Hits'].dom_id)))"
   ]
  },
  {
   "cell_type": "code",
   "execution_count": null,
   "metadata": {
    "collapsed": false
   },
   "outputs": [],
   "source": [
    "len(doms)"
   ]
  },
  {
   "cell_type": "code",
   "execution_count": null,
   "metadata": {
    "collapsed": false
   },
   "outputs": [],
   "source": [
    "triggered_evt = rnp.root2array(fname, treename='KM3NET_EVENT', branches='getCounter()')"
   ]
  },
  {
   "cell_type": "code",
   "execution_count": null,
   "metadata": {
    "collapsed": false
   },
   "outputs": [],
   "source": [
    "len(triggered_evt)"
   ]
  },
  {
   "cell_type": "markdown",
   "metadata": {
    "collapsed": true
   },
   "source": [
    "### looking at the number of doms per triggered event"
   ]
  },
  {
   "cell_type": "code",
   "execution_count": 28,
   "metadata": {
    "collapsed": true
   },
   "outputs": [],
   "source": [
    "from bokeh.plotting import figure, show, output_notebook\n",
    "from bokeh.models import Range1d\n",
    "TOOLS=\"resize,crosshair,pan,wheel_zoom,box_zoom,reset,tap,previewsave,box_select,poly_select,lasso_select\""
   ]
  },
  {
   "cell_type": "code",
   "execution_count": 2,
   "metadata": {
    "collapsed": true
   },
   "outputs": [],
   "source": [
    "fname = \"../trigger_optimisation_files/km3_v4_numucc_1.evt_st_100ns_4hits.JTE.root\""
   ]
  },
  {
   "cell_type": "code",
   "execution_count": 3,
   "metadata": {
    "collapsed": false
   },
   "outputs": [],
   "source": [
    "ndoms = rnp.root2array(fname, treename=\"KM3NET_EVENT\",branches=\"triggeredHits.getModuleID()\")"
   ]
  },
  {
   "cell_type": "code",
   "execution_count": 4,
   "metadata": {
    "collapsed": false
   },
   "outputs": [
    {
     "data": {
      "text/plain": [
       "1858"
      ]
     },
     "execution_count": 4,
     "metadata": {},
     "output_type": "execute_result"
    }
   ],
   "source": [
    "ndoms.size"
   ]
  },
  {
   "cell_type": "code",
   "execution_count": 5,
   "metadata": {
    "collapsed": false
   },
   "outputs": [
    {
     "name": "stdout",
     "output_type": "stream",
     "text": [
      "[ array([1397, 1397, 1398, 1398, 1398, 1398, 1398, 1398, 1398, 1398, 1398,\n",
      "       1399, 1399, 1399, 1399, 1399, 1401, 1401, 1401, 1401, 1907, 1907,\n",
      "       1907], dtype=int32)\n",
      " array([1603, 1603, 1604, 1604, 1604, 1605, 1605, 1605, 1605, 1605, 1605,\n",
      "       1606, 1606, 1606, 1607, 1607, 1607], dtype=int32)\n",
      " array([170, 170, 170, 170, 170, 170, 170, 170, 170, 171, 171, 171, 332,\n",
      "       332, 332, 332], dtype=int32)\n",
      " ...,\n",
      " array([ 973,  973, 1495, 1495, 1513, 1513, 1513, 1513, 1513, 1513, 1514,\n",
      "       1514, 1963, 1963, 1963, 1963, 1963, 1963, 1981, 1981, 1981, 1981,\n",
      "       1981, 1981, 1981, 1981, 1981, 1981, 1981, 1981, 1981, 1981, 1981,\n",
      "       1981, 1981, 1981, 1981, 1981, 1981, 1981, 1981, 1981, 1981, 1981,\n",
      "       1981, 1981, 1981, 1982, 1982, 1982, 1982, 1982, 1982, 1983, 1983], dtype=int32)\n",
      " array([ 635,  635, 1027, ..., 2070, 2070, 2070], dtype=int32)\n",
      " array([1225, 1225, 1225, 1225, 1225, 1225, 1261, 1261, 1261, 1261, 1261,\n",
      "       1261, 1261, 1261, 1261, 1261, 1261, 1261, 1261, 1261, 1261, 1261,\n",
      "       1261, 1261, 1261, 1261, 1261, 1261, 1261, 1261, 1261, 1261, 1261,\n",
      "       1261, 1261, 1261, 1261, 1261, 1261, 1261, 1261, 1261, 1263, 1263,\n",
      "       1263, 1263, 1263, 1263, 1783, 1783, 1784, 1784, 1801, 1801, 1801,\n",
      "       1801, 1802, 1802, 1802, 1802, 1802, 1802, 1802, 1802, 1803, 1803,\n",
      "       1803, 1803, 1803, 1803, 1804, 1804], dtype=int32)]\n"
     ]
    }
   ],
   "source": [
    "print(ndoms)"
   ]
  },
  {
   "cell_type": "code",
   "execution_count": 6,
   "metadata": {
    "collapsed": true
   },
   "outputs": [],
   "source": [
    "fnamest = \"../trigger_optimisation_files/km3_v4_numucc_1.evt.JTE.root\""
   ]
  },
  {
   "cell_type": "code",
   "execution_count": 7,
   "metadata": {
    "collapsed": true
   },
   "outputs": [],
   "source": [
    "ndoms_st = rnp.root2array(fnamest, treename=\"KM3NET_EVENT\",branches=\"triggeredHits.getModuleID()\")"
   ]
  },
  {
   "cell_type": "code",
   "execution_count": 8,
   "metadata": {
    "collapsed": false
   },
   "outputs": [
    {
     "name": "stdout",
     "output_type": "stream",
     "text": [
      "[ array([1397, 1397, 1398, 1398, 1398, 1398, 1398, 1398, 1398, 1398, 1398,\n",
      "       1399, 1399, 1399, 1399, 1399, 1401, 1401, 1401, 1401, 1907, 1907,\n",
      "       1907], dtype=int32)\n",
      " array([1603, 1603, 1604, 1604, 1604, 1605, 1605, 1605, 1605, 1605, 1606,\n",
      "       1606, 1607, 1607], dtype=int32)\n",
      " array([ 392,  392,  393,  393,  393,  675,  675,  675,  675,  675,  675,\n",
      "        675,  676,  676,  676,  676,  676,  676,  676, 1123, 1123, 1642,\n",
      "       1642, 1642, 1643, 1643], dtype=int32)\n",
      " ...,\n",
      " array([ 973,  973, 1513, 1513, 1513, 1513, 1514, 1514, 1963, 1963, 1963,\n",
      "       1963, 1981, 1981, 1981, 1981, 1981, 1981, 1981, 1981, 1981, 1981,\n",
      "       1981, 1981, 1981, 1981, 1981, 1981, 1981, 1981, 1981, 1981, 1981,\n",
      "       1981, 1981, 1981, 1981, 1981, 1981, 1981, 1981, 1982, 1982, 1983,\n",
      "       1983], dtype=int32)\n",
      " array([1027, 1027, 1029, ..., 2070, 2070, 2070], dtype=int32)\n",
      " array([1225, 1225, 1225, 1225, 1225, 1225, 1261, 1261, 1261, 1261, 1261,\n",
      "       1261, 1261, 1263, 1263, 1263, 1263, 1263, 1783, 1783, 1801, 1801,\n",
      "       1801, 1801, 1802, 1802, 1802, 1802, 1802, 1802, 1802, 1803, 1803,\n",
      "       1803, 1803, 1803, 1803, 1804, 1804], dtype=int32)]\n"
     ]
    }
   ],
   "source": [
    "print(ndoms_st)"
   ]
  },
  {
   "cell_type": "code",
   "execution_count": 19,
   "metadata": {
    "collapsed": false
   },
   "outputs": [
    {
     "data": {
      "text/plain": [
       "array([0, 0, 0, 0, 0, 0, 0, 0, 0, 0, 0, 0, 0, 0, 0, 0, 0, 0, 0, 0, 0, 0, 0], dtype=int32)"
      ]
     },
     "execution_count": 19,
     "metadata": {},
     "output_type": "execute_result"
    }
   ],
   "source": [
    "ndoms[0]-ndoms_st[0]"
   ]
  },
  {
   "cell_type": "code",
   "execution_count": 33,
   "metadata": {
    "collapsed": false
   },
   "outputs": [
    {
     "name": "stdout",
     "output_type": "stream",
     "text": [
      "(array([1397, 1397, 1398, 1398, 1398, 1398, 1398, 1398, 1398, 1398, 1398,\n",
      "       1399, 1399, 1399, 1399, 1399, 1401, 1401, 1401, 1401, 1907, 1907,\n",
      "       1907], dtype=int32), array([1397, 1397, 1398, 1398, 1398, 1398, 1398, 1398, 1398, 1398, 1398,\n",
      "       1399, 1399, 1399, 1399, 1399, 1401, 1401, 1401, 1401, 1907, 1907,\n",
      "       1907], dtype=int32))\n",
      "(array([1603, 1603, 1604, 1604, 1604, 1605, 1605, 1605, 1605, 1605, 1606,\n",
      "       1606, 1607, 1607], dtype=int32), array([1603, 1603, 1604, 1604, 1604, 1605, 1605, 1605, 1605, 1605, 1605,\n",
      "       1606, 1606, 1606, 1607, 1607, 1607], dtype=int32))\n",
      "(array([ 392,  392,  393,  393,  393,  675,  675,  675,  675,  675,  675,\n",
      "        675,  676,  676,  676,  676,  676,  676,  676, 1123, 1123, 1642,\n",
      "       1642, 1642, 1643, 1643], dtype=int32), array([170, 170, 170, 170, 170, 170, 170, 170, 170, 171, 171, 171, 332,\n",
      "       332, 332, 332], dtype=int32))\n",
      "(array([ 818,  818,  818,  818,  818,  818,  818,  818,  818,  818,  818,\n",
      "        818,  818,  818,  818,  818,  818,  818,  818,  818,  818,  819,\n",
      "        819,  819,  819, 1263, 1263, 1265, 1265, 1266, 1266, 1285, 1285], dtype=int32), array([ 179,  179,  179,  179,  179,  179,  179,  432,  432,  537,  537,\n",
      "        537,  537,  933,  933, 1418, 1418, 1418, 1418, 1418, 1418, 1418,\n",
      "       1418, 1418], dtype=int32))\n",
      "(array([1114, 1114, 1115, 1115, 1115, 1115, 1115, 1115, 1152, 1152, 1152,\n",
      "       1152, 1152, 1654, 1654, 1654, 1654], dtype=int32), array([858, 858, 858, 858, 858, 859, 859, 859, 859, 859, 859, 859, 859, 859], dtype=int32))\n",
      "(array([ 749,  749,  785,  785,  785,  785,  785,  785,  785,  785,  786,\n",
      "        786, 1090, 1090, 1090, 1090, 1090, 1611, 1611, 2042, 2042], dtype=int32), array([310, 310, 327, 327, 327, 327, 327, 327, 327, 327, 327, 327, 327,\n",
      "       327, 327, 327, 328, 328, 328], dtype=int32))\n",
      "(array([ 349,  349,  350,  350,  350,  350,  350,  419,  419,  694,  694,\n",
      "       1199, 1199], dtype=int32), array([ 534,  534,  589,  589,  589,  589,  589, 1021, 1021, 1021, 1021,\n",
      "       1021, 1021, 1021, 1021, 1021, 1021, 1021, 1021, 1021, 1021, 1022,\n",
      "       1022], dtype=int32))\n",
      "(array([ 807,  807, 1794, 1794, 1795, 1795, 1795, 1795, 1795, 1795, 1795,\n",
      "       1795, 1795, 1795, 1795, 1795, 1796, 1796, 1796], dtype=int32), array([1968, 1968, 1968, 1968, 1968, 1968, 1969, 1969, 1969, 1969, 1969,\n",
      "       1969, 1969, 1969, 1969, 1969, 1969, 1969, 1969], dtype=int32))\n",
      "(array([  3,   3,  45,  45,  46,  46,  46,  46,  46,  46,  91,  91, 194,\n",
      "       194, 195, 195, 196, 196, 196, 196, 196, 196, 196, 196], dtype=int32), array([ 911,  911, 1399, 1399, 1400, 1400, 1400, 1400, 1400, 1400, 1400,\n",
      "       1907, 1907, 1908, 1908], dtype=int32))\n",
      "(array([ 362,  362,  362,  362,  398,  398,  398, 1298, 1298, 1837, 1837], dtype=int32), array([ 349,  349,  349,  385,  385,  386,  386, 1122, 1122, 1122], dtype=int32))\n"
     ]
    }
   ],
   "source": [
    "for i,j in zip(ndoms_st[:10], ndoms[:10]):\n",
    "    print(i,j)\n",
    "    "
   ]
  },
  {
   "cell_type": "code",
   "execution_count": 23,
   "metadata": {
    "collapsed": true
   },
   "outputs": [],
   "source": [
    "new_st = np.zeros(ndoms.size)"
   ]
  },
  {
   "cell_type": "code",
   "execution_count": 25,
   "metadata": {
    "collapsed": true
   },
   "outputs": [],
   "source": [
    "import pickle"
   ]
  },
  {
   "cell_type": "code",
   "execution_count": 26,
   "metadata": {
    "collapsed": false
   },
   "outputs": [],
   "source": [
    "with open(\"moduleID_st\", 'wb') as f:\n",
    "    pickle.dump(ndoms_st, f)\n",
    "with open(\"moduleID_100ns4h\", \"wb\") as f:\n",
    "    pickle.dump(ndoms, f)"
   ]
  },
  {
   "cell_type": "code",
   "execution_count": 29,
   "metadata": {
    "collapsed": true
   },
   "outputs": [
    {
     "ename": "ValueError",
     "evalue": "operands could not be broadcast together with shapes (23,) (17,) ",
     "output_type": "error",
     "traceback": [
      "\u001b[0;31m---------------------------------------------------------------------------\u001b[0m",
      "\u001b[0;31mValueError\u001b[0m                                Traceback (most recent call last)",
      "\u001b[0;32m<ipython-input-29-36f069db24dc>\u001b[0m in \u001b[0;36m<module>\u001b[0;34m()\u001b[0m\n\u001b[1;32m      4\u001b[0m \u001b[0;34m\u001b[0m\u001b[0m\n\u001b[1;32m      5\u001b[0m \u001b[0mp1\u001b[0m \u001b[0;34m=\u001b[0m \u001b[0mfigure\u001b[0m\u001b[0;34m(\u001b[0m\u001b[0mtitle\u001b[0m\u001b[0;34m=\u001b[0m\u001b[0;34m\"moduleID\"\u001b[0m\u001b[0;34m,\u001b[0m \u001b[0mtools\u001b[0m\u001b[0;34m=\u001b[0m\u001b[0mTOOLS\u001b[0m\u001b[0;34m)\u001b[0m\u001b[0;34m\u001b[0m\u001b[0m\n\u001b[0;32m----> 6\u001b[0;31m \u001b[0mhist\u001b[0m\u001b[0;34m,\u001b[0m \u001b[0medges\u001b[0m \u001b[0;34m=\u001b[0m \u001b[0mnp\u001b[0m\u001b[0;34m.\u001b[0m\u001b[0mhistogram\u001b[0m\u001b[0;34m(\u001b[0m\u001b[0mndoms\u001b[0m\u001b[0;34m,\u001b[0m \u001b[0mdensity\u001b[0m\u001b[0;34m=\u001b[0m\u001b[0mFalse\u001b[0m\u001b[0;34m,\u001b[0m \u001b[0mbins\u001b[0m\u001b[0;34m=\u001b[0m\u001b[0;36m100\u001b[0m\u001b[0;34m)\u001b[0m\u001b[0;34m\u001b[0m\u001b[0m\n\u001b[0m\u001b[1;32m      7\u001b[0m p1.quad(top=hist, bottom=0, left=edges[:-1], right=edges[1:],\n\u001b[1;32m      8\u001b[0m         fill_color=\"#036564\", line_color=\"#033649\")\n",
      "\u001b[0;32m/usr/local/lib/python2.7/dist-packages/numpy/lib/function_base.pyc\u001b[0m in \u001b[0;36mhistogram\u001b[0;34m(a, bins, range, normed, weights, density)\u001b[0m\n\u001b[1;32m    495\u001b[0m             \u001b[0mmn\u001b[0m\u001b[0;34m,\u001b[0m \u001b[0mmx\u001b[0m \u001b[0;34m=\u001b[0m \u001b[0;36m0.0\u001b[0m\u001b[0;34m,\u001b[0m \u001b[0;36m1.0\u001b[0m\u001b[0;34m\u001b[0m\u001b[0m\n\u001b[1;32m    496\u001b[0m         \u001b[0;32melse\u001b[0m\u001b[0;34m:\u001b[0m\u001b[0;34m\u001b[0m\u001b[0m\n\u001b[0;32m--> 497\u001b[0;31m             \u001b[0mmn\u001b[0m\u001b[0;34m,\u001b[0m \u001b[0mmx\u001b[0m \u001b[0;34m=\u001b[0m \u001b[0ma\u001b[0m\u001b[0;34m.\u001b[0m\u001b[0mmin\u001b[0m\u001b[0;34m(\u001b[0m\u001b[0;34m)\u001b[0m \u001b[0;34m+\u001b[0m \u001b[0;36m0.0\u001b[0m\u001b[0;34m,\u001b[0m \u001b[0ma\u001b[0m\u001b[0;34m.\u001b[0m\u001b[0mmax\u001b[0m\u001b[0;34m(\u001b[0m\u001b[0;34m)\u001b[0m \u001b[0;34m+\u001b[0m \u001b[0;36m0.0\u001b[0m\u001b[0;34m\u001b[0m\u001b[0m\n\u001b[0m\u001b[1;32m    498\u001b[0m     \u001b[0;32melse\u001b[0m\u001b[0;34m:\u001b[0m\u001b[0;34m\u001b[0m\u001b[0m\n\u001b[1;32m    499\u001b[0m         \u001b[0mmn\u001b[0m\u001b[0;34m,\u001b[0m \u001b[0mmx\u001b[0m \u001b[0;34m=\u001b[0m \u001b[0;34m[\u001b[0m\u001b[0mmi\u001b[0m \u001b[0;34m+\u001b[0m \u001b[0;36m0.0\u001b[0m \u001b[0;32mfor\u001b[0m \u001b[0mmi\u001b[0m \u001b[0;32min\u001b[0m \u001b[0mrange\u001b[0m\u001b[0;34m]\u001b[0m\u001b[0;34m\u001b[0m\u001b[0m\n",
      "\u001b[0;32m/usr/local/lib/python2.7/dist-packages/numpy/core/_methods.pyc\u001b[0m in \u001b[0;36m_amin\u001b[0;34m(a, axis, out, keepdims)\u001b[0m\n\u001b[1;32m     27\u001b[0m \u001b[0;34m\u001b[0m\u001b[0m\n\u001b[1;32m     28\u001b[0m \u001b[0;32mdef\u001b[0m \u001b[0m_amin\u001b[0m\u001b[0;34m(\u001b[0m\u001b[0ma\u001b[0m\u001b[0;34m,\u001b[0m \u001b[0maxis\u001b[0m\u001b[0;34m=\u001b[0m\u001b[0mNone\u001b[0m\u001b[0;34m,\u001b[0m \u001b[0mout\u001b[0m\u001b[0;34m=\u001b[0m\u001b[0mNone\u001b[0m\u001b[0;34m,\u001b[0m \u001b[0mkeepdims\u001b[0m\u001b[0;34m=\u001b[0m\u001b[0mFalse\u001b[0m\u001b[0;34m)\u001b[0m\u001b[0;34m:\u001b[0m\u001b[0;34m\u001b[0m\u001b[0m\n\u001b[0;32m---> 29\u001b[0;31m     \u001b[0;32mreturn\u001b[0m \u001b[0mumr_minimum\u001b[0m\u001b[0;34m(\u001b[0m\u001b[0ma\u001b[0m\u001b[0;34m,\u001b[0m \u001b[0maxis\u001b[0m\u001b[0;34m,\u001b[0m \u001b[0mNone\u001b[0m\u001b[0;34m,\u001b[0m \u001b[0mout\u001b[0m\u001b[0;34m,\u001b[0m \u001b[0mkeepdims\u001b[0m\u001b[0;34m)\u001b[0m\u001b[0;34m\u001b[0m\u001b[0m\n\u001b[0m\u001b[1;32m     30\u001b[0m \u001b[0;34m\u001b[0m\u001b[0m\n\u001b[1;32m     31\u001b[0m \u001b[0;32mdef\u001b[0m \u001b[0m_sum\u001b[0m\u001b[0;34m(\u001b[0m\u001b[0ma\u001b[0m\u001b[0;34m,\u001b[0m \u001b[0maxis\u001b[0m\u001b[0;34m=\u001b[0m\u001b[0mNone\u001b[0m\u001b[0;34m,\u001b[0m \u001b[0mdtype\u001b[0m\u001b[0;34m=\u001b[0m\u001b[0mNone\u001b[0m\u001b[0;34m,\u001b[0m \u001b[0mout\u001b[0m\u001b[0;34m=\u001b[0m\u001b[0mNone\u001b[0m\u001b[0;34m,\u001b[0m \u001b[0mkeepdims\u001b[0m\u001b[0;34m=\u001b[0m\u001b[0mFalse\u001b[0m\u001b[0;34m)\u001b[0m\u001b[0;34m:\u001b[0m\u001b[0;34m\u001b[0m\u001b[0m\n",
      "\u001b[0;31mValueError\u001b[0m: operands could not be broadcast together with shapes (23,) (17,) "
     ]
    }
   ],
   "source": [
    "import numpy as np\n",
    "from bokeh.layouts import gridplot\n",
    "from bokeh.plotting import figure, show, output_notebook\n",
    "\n",
    "p1 = figure(title=\"moduleID\", tools=TOOLS)\n",
    "hist, edges = np.histogram(ndoms, density=False, bins=100)\n",
    "p1.quad(top=hist, bottom=0, left=edges[:-1], right=edges[1:],\n",
    "        fill_color=\"#036564\", line_color=\"#033649\")\n",
    "\n",
    "p1.xaxis.axis_label=''\n",
    "\n",
    "show(p1)"
   ]
  },
  {
   "cell_type": "code",
   "execution_count": 47,
   "metadata": {
    "collapsed": false
   },
   "outputs": [
    {
     "ename": "IndexError",
     "evalue": "index 1907 is out of bounds for axis 0 with size 1858",
     "output_type": "error",
     "traceback": [
      "\u001b[0;31m---------------------------------------------------------------------------\u001b[0m",
      "\u001b[0;31mIndexError\u001b[0m                                Traceback (most recent call last)",
      "\u001b[0;32m<ipython-input-47-bd88ac1ad2b9>\u001b[0m in \u001b[0;36m<module>\u001b[0;34m()\u001b[0m\n\u001b[1;32m      1\u001b[0m \u001b[0mndoms_uniq\u001b[0m\u001b[0;34m=\u001b[0m\u001b[0mnp\u001b[0m\u001b[0;34m.\u001b[0m\u001b[0mzeros\u001b[0m\u001b[0;34m(\u001b[0m\u001b[0mndoms\u001b[0m\u001b[0;34m.\u001b[0m\u001b[0msize\u001b[0m\u001b[0;34m)\u001b[0m\u001b[0;34m\u001b[0m\u001b[0m\n\u001b[1;32m      2\u001b[0m \u001b[0;32mfor\u001b[0m \u001b[0mi\u001b[0m \u001b[0;32min\u001b[0m \u001b[0mndoms\u001b[0m\u001b[0;34m:\u001b[0m\u001b[0;34m\u001b[0m\u001b[0m\n\u001b[0;32m----> 3\u001b[0;31m     \u001b[0;32mfor\u001b[0m \u001b[0mj\u001b[0m \u001b[0;32min\u001b[0m \u001b[0mndoms\u001b[0m\u001b[0;34m[\u001b[0m\u001b[0mi\u001b[0m\u001b[0;34m]\u001b[0m\u001b[0;34m:\u001b[0m\u001b[0;34m\u001b[0m\u001b[0m\n\u001b[0m\u001b[1;32m      4\u001b[0m         \u001b[0;32mif\u001b[0m \u001b[0;34m(\u001b[0m\u001b[0mj\u001b[0m\u001b[0;34m+\u001b[0m\u001b[0;36m1\u001b[0m\u001b[0;34m)\u001b[0m\u001b[0;34m!=\u001b[0m\u001b[0mj\u001b[0m\u001b[0;34m:\u001b[0m\u001b[0;34m\u001b[0m\u001b[0m\n\u001b[1;32m      5\u001b[0m             \u001b[0mndoms_uniq\u001b[0m\u001b[0;34m[\u001b[0m\u001b[0mi\u001b[0m\u001b[0;34m]\u001b[0m\u001b[0;34m=\u001b[0m\u001b[0mj\u001b[0m\u001b[0;34m\u001b[0m\u001b[0m\n",
      "\u001b[0;31mIndexError\u001b[0m: index 1907 is out of bounds for axis 0 with size 1858"
     ]
    }
   ],
   "source": [
    "ndoms_uniq=np.zeros(ndoms.size)\n",
    "for i in ndoms:\n",
    "    for j in ndoms[i]:\n",
    "        if (j+1)!=j:\n",
    "            ndoms_uniq[i]=j"
   ]
  },
  {
   "cell_type": "code",
   "execution_count": 48,
   "metadata": {
    "collapsed": false
   },
   "outputs": [
    {
     "ename": "TypeError",
     "evalue": "unhashable type: 'numpy.ndarray'",
     "output_type": "error",
     "traceback": [
      "\u001b[0;31m---------------------------------------------------------------------------\u001b[0m",
      "\u001b[0;31mTypeError\u001b[0m                                 Traceback (most recent call last)",
      "\u001b[0;32m<ipython-input-48-6d8724606c96>\u001b[0m in \u001b[0;36m<module>\u001b[0;34m()\u001b[0m\n\u001b[1;32m      1\u001b[0m \u001b[0mmodule_counter\u001b[0m \u001b[0;34m=\u001b[0m \u001b[0;34m{\u001b[0m\u001b[0;34m}\u001b[0m\u001b[0;34m\u001b[0m\u001b[0m\n\u001b[1;32m      2\u001b[0m \u001b[0;32mfor\u001b[0m \u001b[0mdom\u001b[0m \u001b[0;32min\u001b[0m \u001b[0mndoms\u001b[0m\u001b[0;34m:\u001b[0m\u001b[0;34m\u001b[0m\u001b[0m\n\u001b[0;32m----> 3\u001b[0;31m     \u001b[0mmodule_counter\u001b[0m\u001b[0;34m.\u001b[0m\u001b[0msetdefault\u001b[0m\u001b[0;34m(\u001b[0m\u001b[0mdom\u001b[0m\u001b[0;34m,\u001b[0m\u001b[0;36m0\u001b[0m\u001b[0;34m)\u001b[0m\u001b[0;34m\u001b[0m\u001b[0m\n\u001b[0m\u001b[1;32m      4\u001b[0m     \u001b[0mmodule_counter\u001b[0m\u001b[0;34m[\u001b[0m\u001b[0mdom\u001b[0m\u001b[0;34m]\u001b[0m \u001b[0;34m+=\u001b[0m \u001b[0;36m1\u001b[0m\u001b[0;34m\u001b[0m\u001b[0m\n",
      "\u001b[0;31mTypeError\u001b[0m: unhashable type: 'numpy.ndarray'"
     ]
    }
   ],
   "source": [
    "module_counter = {}\n",
    "for dom in ndoms:\n",
    "    module_counter.setdefault(dom,0)\n",
    "    module_counter[dom] += 1\n"
   ]
  },
  {
   "cell_type": "code",
   "execution_count": 49,
   "metadata": {
    "collapsed": true
   },
   "outputs": [],
   "source": [
    "import sets"
   ]
  },
  {
   "cell_type": "code",
   "execution_count": 63,
   "metadata": {
    "collapsed": false
   },
   "outputs": [
    {
     "name": "stdout",
     "output_type": "stream",
     "text": [
      "(23, Set([1401, 1907, 1397, 1398, 1399]), 23, Set([1401, 1907, 1397, 1398, 1399]))\n",
      "(17, Set([1603, 1604, 1605, 1606, 1607]), 14, Set([1603, 1604, 1605, 1606, 1607]))\n",
      "(16, Set([170, 171, 332]), 26, Set([675, 676, 392, 393, 1642, 1643, 1123]))\n",
      "(24, Set([432, 537, 1418, 179, 933]), 33, Set([1285, 1266, 1263, 1265, 818, 819]))\n",
      "(14, Set([858, 859]), 17, Set([1152, 1114, 1115, 1654]))\n",
      "(19, Set([328, 310, 327]), 21, Set([1090, 1611, 749, 785, 786, 2042]))\n",
      "(23, Set([1022, 589, 534, 1021]), 13, Set([1199, 419, 349, 350, 694]))\n",
      "(19, Set([1968, 1969]), 19, Set([1794, 1795, 1796, 807]))\n",
      "(15, Set([1400, 1907, 1399, 1908, 911]), 24, Set([194, 3, 196, 45, 46, 195, 91]))\n",
      "(10, Set([385, 386, 1122, 349]), 11, Set([362, 1298, 398, 1837]))\n",
      "(27, Set([352, 369, 370, 388]), 10, Set([673, 1162, 1163, 1237]))\n",
      "(28, Set([2017, 2018]), 19, Set([784, 379, 380, 381, 783]))\n",
      "(28, Set([675, 676, 392, 393, 1642, 1643, 1123]), 33, Set([656, 1589, 1069, 422, 423]))\n",
      "(14, Set([290, 291, 292]), 19, Set([1536, 1537, 1985, 1518, 1967]))\n",
      "(21, Set([112, 328, 10, 111]), 26, Set([368, 370, 406, 407]))\n",
      "(38, Set([1285, 1265, 1266, 1263, 817, 818, 819]), 19, Set([209, 890, 699, 374, 495]))\n",
      "(19, Set([1152, 1114, 1115, 1654]), 16, Set([928, 929, 1936, 661]))\n",
      "(14, Set([1451, 1452, 933]), 15, Set([1672, 1698, 1699, 1149, 1671]))\n",
      "(18, Set([785, 786, 1611, 1090, 2042]), 14, Set([1132, 1165, 1805, 1266, 1199, 1116]))\n",
      "(13, Set([432, 756, 396, 717]), 20, Set([560, 559, 91, 271]))\n",
      "(29, Set([419, 1199, 694, 349, 350, 351]), 11, Set([1210, 1211, 1172, 1175]))\n",
      "(22, Set([1794, 1795, 1796, 807]), 26, Set([1121, 678, 679, 680, 681, 682, 683, 684]))\n",
      "(14, Set([456, 817, 1285, 1286]), 33, Set([539, 538, 251, 934, 71]))\n",
      "(9, Set([1059, 2012, 1581, 126]), 19, Set([561, 1461, 93, 94, 957]))\n",
      "(29, Set([633, 634]), 25, Set([495, 248, 247, 88, 890, 891]))\n",
      "(19, Set([746, 747]), 14, Set([1776, 1777, 1253, 1254]))\n",
      "(20, Set([194, 195, 196, 45, 46, 91]), 34, Set([1336, 1337, 1335, 1860, 1319]))\n",
      "(20, Set([593, 987, 988, 286, 287]), 10, Set([2055, 694, 693, 350, 351]))\n",
      "(18, Set([1915, 1397, 1398]), 36, Set([736, 1185, 1186, 1187, 716, 719, 1241, 700, 1149, 1150]))\n",
      "(15, Set([362, 1838, 1298, 398, 1837]), 30, Set([1970, 1971, 1972]))\n",
      "(8, Set([326, 166, 110, 631]), 15, Set([441, 763, 764, 765]))\n",
      "(10, Set([1968, 9, 979, 278, 7]), 14, Set([528, 257, 906, 582, 1031]))\n",
      "(11, Set([160, 161, 371, 159]), 24, Set([568, 585, 586, 2005, 2006]))\n",
      "(22, Set([1185, 1183, 1187, 750, 751]), 22, Set([572, 573, 534, 1007]))\n",
      "(12, Set([808, 1274, 1275]), 29, Set([217, 586, 587, 588, 982]))\n",
      "(11, Set([843, 826, 827, 828]), 33, Set([701, 140, 175, 700, 29, 30, 31]))\n",
      "(10, Set([281, 961, 103]), 13, Set([1065, 1010, 1513, 1028, 1047]))\n",
      "(17, Set([489, 490, 491, 1347]), 17, Set([795, 1155, 1838, 1678, 1191]))\n",
      "(9, Set([408, 731, 212, 407]), 16, Set([1254, 840, 426, 785, 786, 30]))\n",
      "(18, Set([2052, 1597, 1598]), 20, Set([1611, 1612, 781, 782, 783]))\n",
      "(13, Set([1112, 1113, 1114]), 52, Set([1474, 932, 1381, 969, 1995, 1996, 913, 914, 1491, 1492]))\n",
      "(17, Set([784, 379, 380, 783]), 20, Set([592, 1977, 987, 591]))\n",
      "(24, Set([497, 874, 875]), 18, Set([275, 1017, 75, 76]))\n",
      "(11, Set([802, 731, 766, 767]), 19, Set([289, 2, 1232, 147, 148, 149, 91]))\n",
      "(37, Set([421, 422, 423, 1069, 656, 1589]), 28, Set([1019, 604, 603, 1020, 605, 606]))\n",
      "(10, Set([2048, 2063, 2046, 2047]), 19, Set([632, 633, 634, 327]))\n",
      "(9, Set([114, 115, 636]), 48, Set([1120, 1121, 1122, 1156, 1157, 1158, 686, 687, 1681, 1679]))\n",
      "(20, Set([1536, 1537, 1985, 1518, 1967]), 28, Set([320, 258, 259, 644, 526, 527, 278, 318]))\n",
      "(23, Set([370, 406, 407]), 44, Set([1323, 818, 819, 820, 1324]))\n",
      "(9, Set([200, 201, 469, 217]), 31, Set([1734, 1735, 1736, 1737, 1707, 1708, 1709, 1710]))\n",
      "(20, Set([699, 495, 209, 374, 890, 891]), 14, Set([386, 387, 389, 424, 171, 172]))\n",
      "(11, Set([2056, 2055]), 15, Set([1920, 882, 1399, 1400, 1401, 1919]))\n",
      "(19, Set([928, 929, 1936, 661]), 30, Set([1556, 571, 572, 573, 1557]))\n",
      "(21, Set([1018, 2059, 2058, 1575]), 21, Set([896, 517, 518, 266, 1364, 895]))\n",
      "(12, Set([1698, 1699, 1149, 1671]), 18, Set([1827, 1828, 1829, 1847]))\n",
      "(12, Set([1002, 1003, 1500, 1498]), 41, Set([146, 147, 372, 697, 698, 699]))\n",
      "(9, Set([1154, 723]), 37, Set([608, 226, 1861, 1040, 1041, 83, 854, 855, 283, 1021, 1022, 1023]))\n",
      "(11, Set([1264, 353, 763]), 21, Set([1082, 1083, 1244, 1245, 1622]))\n",
      "(18, Set([928, 1937, 1938]), 18, Set([737, 738, 1203, 1204, 1205]))\n",
      "(13, Set([717, 1222, 1221]), 41, Set([1664, 1665, 1666, 1667, 1668, 1138, 1662, 1663]))\n",
      "(18, Set([168, 385, 291, 292]), 27, Set([352, 137, 13, 85, 86, 30]))\n",
      "(11, Set([1132, 1266, 1116, 1165, 1805]), 27, Set([1441, 1442, 1443, 1444, 1445, 1446, 1447, 1449, 1450]))\n",
      "(19, Set([559, 91, 271]), 12, Set([376, 610, 124, 1726, 375]))\n",
      "(10, Set([1210, 1211, 1172, 1175]), 21, Set([784, 1145, 2026, 1109, 1110]))\n",
      "(25, Set([1121, 678, 679, 680, 681, 682, 683, 684]), 14, Set([502, 244, 245, 246, 501]))\n",
      "(21, Set([544, 545, 565, 566, 567]), 18, Set([51, 540, 157, 70, 158]))\n",
      "(36, Set([539, 538, 251, 934, 71]), 66, Set([225, 261, 262, 243, 981, 566, 567, 1989, 477, 1503]))\n",
      "(9, Set([1393, 1394, 1395, 893]), 24, Set([1984, 1985, 1987, 1516, 1517, 1499]))\n",
      "(14, Set([584, 277, 278]), 20, Set([1412, 1320, 1321, 1842, 1430, 890]))\n",
      "(14, Set([236, 220, 253, 473]), 20, Set([1600, 1601, 1061, 1616, 1617, 1632]))\n",
      "(29, Set([1584, 2031, 2012, 1583]), 11, Set([392, 1755, 731, 372, 1198]))\n",
      "(19, Set([561, 1461, 93, 94, 957]), 18, Set([1350, 233, 302, 1040, 503, 88, 2011]))\n",
      "(34, Set([1625, 1626, 2062, 2063]), 16, Set([1464, 1461, 1462, 1949]))\n",
      "(10, Set([1900, 1380, 1381, 1382]), 24, Set([1140, 1175, 1176, 1177, 1178, 1662]))\n",
      "(23, Set([88, 248, 495, 891, 247]), 20, Set([676, 1126, 621, 693, 694, 388]))\n",
      "(12, Set([472, 201, 202, 220]), 84, Set([224, 1346, 877, 496, 497, 242, 243, 244, 858, 511]))\n",
      "(29, Set([283, 1564, 245, 246]), 11, Set([1891, 1387, 901, 1590, 255]))\n",
      "(17, Set([184, 185, 61, 62, 552]), 20, Set([1682, 1107, 1683, 1717, 1718, 1752, 1753]))\n",
      "(26, Set([1776, 1777, 1253, 1254, 1255]), 40, Set([648, 1080, 1061, 647]))\n",
      "(36, Set([1336, 1337, 1335, 1860, 1319]), 35, Set([1569, 2001, 2000, 113, 114, 1048]))\n",
      "(10, Set([2055, 694, 693, 350, 351]), 44, Set([332, 333, 622, 1713, 725, 366, 726, 348, 1053, 1054, 639]))\n",
      "(42, Set([736, 1185, 1186, 1187, 716, 719, 1241, 700, 1149, 1150, 1151]), 14, Set([635, 636, 1062, 638]))\n",
      "(13, Set([833, 851, 852, 1357]), 13, Set([1042, 1060, 1061, 1062]))\n",
      "(33, Set([1970, 1971, 1972]), 17, Set([1861, 391, 138, 459, 1843, 788, 155, 190]))\n",
      "(12, Set([764, 765]), 14, Set([648, 122, 123, 12]))\n",
      "(25, Set([288, 287]), 19, Set([1856, 1925, 1902, 1358, 1359]))\n",
      "(15, Set([528, 257, 906, 582, 1031]), 13, Set([1080, 665, 1114, 2016, 1113]))\n",
      "(21, Set([568, 585, 586, 2005, 2006]), 21, Set([291, 614, 615, 1516, 1012, 597, 598]))\n",
      "(25, Set([572, 573, 534, 1007]), 20, Set([1232, 1145, 1704, 1197]))\n",
      "(40, Set([586, 587, 588, 589, 982, 217]), 39, Set([1806, 1316, 1317, 1334, 1823]))\n",
      "(9, Set([970, 558]), 35, Set([57, 235, 236, 237, 55]))\n",
      "(31, Set([140, 29, 175, 700, 701, 30]), 18, Set([836, 774, 1334, 823, 446, 447]))\n",
      "(12, Set([1065, 1010, 1513, 1028, 1047]), 25, Set([1563, 1564, 1539, 1540, 1541]))\n",
      "(13, Set([1000, 1452, 981, 983]), 30, Set([1802, 1803, 1804, 1325, 1326, 1303, 857, 1820]))\n",
      "(17, Set([795, 1155, 1838, 1678, 1191]), 11, Set([1346, 1347, 1365, 1886, 1885]))\n",
      "(24, Set([849, 850, 830, 1855]), 18, Set([1104, 673, 66, 349, 47]))\n",
      "(13, Set([1254, 840, 426, 785, 786, 30]), 25, Set([545, 1318, 1840, 923, 924, 925]))\n",
      "(18, Set([1611, 1612, 781, 783]), 18, Set([1288, 204, 1810, 273, 818, 1305]))\n",
      "(58, Set([1474, 932, 1381, 969, 1995, 1996, 1997, 1491, 913, 914, 1363, 1492]), 24, Set([1894, 1354, 813, 1711, 1371, 1372, 1373]))\n",
      "(11, Set([1193, 1155, 1756, 1755]), 21, Set([133, 615, 1199, 369, 310, 730]))\n",
      "(39, Set([1065, 1003, 605, 1005]), 33, Set([297, 429, 1461, 337, 755, 565, 959]))\n",
      "(19, Set([592, 1977, 987, 591]), 41, Set([59, 236, 237, 238, 239]))\n",
      "(20, Set([275, 273, 75, 76, 1017]), 17, Set([1104, 1647, 668, 669, 1103]))\n",
      "(14, Set([1169, 724, 725, 726]), 16, Set([66, 67, 205, 206, 89, 829]))\n",
      "(39, Set([1650, 1107, 1124, 1125]), 49, Set([800, 801, 1381, 838, 839, 876, 1231, 818, 819, 820, 857, 858, 1382]))\n",
      "(8, Set([1168, 1688, 1687, 1167]), 23, Set([1507, 1508, 1509, 984, 985, 987]))\n",
      "(13, Set([2, 91, 147, 149]), 32, Set([326, 327, 328, 1034, 1035, 633, 1051]))\n",
      "(26, Set([1020, 603, 604, 605, 1019]), 25, Set([902, 903, 904, 905, 906, 1387, 908, 529, 530]))\n",
      "(20, Set([632, 633, 634, 327]), 17, Set([497, 459, 1381, 478, 1121]))\n",
      "(19, Set([1210, 1211]), 23, Set([355, 356, 1677, 1678, 693, 694]))\n",
      "(47, Set([1120, 1121, 1122, 1156, 1157, 1158, 686, 687, 1679]), 21, Set([1824, 1282, 1283, 1284, 1285, 398, 399, 344, 703]))\n",
      "(25, Set([320, 258, 259, 644, 526, 527, 318]), 40, Set([356, 1669, 1670, 521, 1926, 52, 918, 1944, 357]))\n",
      "(47, Set([1323, 818, 819, 820, 1324]), 36, Set([709, 1094, 1095, 747, 748, 750, 786]))\n",
      "(27, Set([1734, 1735, 1736, 1737, 1707, 1708, 1709, 1710]), 20, Set([352, 371, 408, 155, 444, 1311]))\n",
      "(13, Set([424, 171, 172, 387, 389]), 12, Set([868, 891, 540, 518, 892]))\n",
      "(10, Set([1841, 1820, 1821]), 30, Set([1859, 1860, 1829, 1841, 1844, 1814, 1861]))\n",
      "(14, Set([686, 687]), 22, Set([264, 1416, 244, 262, 263]))\n",
      "(15, Set([1920, 882, 1399, 1400, 1401, 1919]), 28, Set([256, 225, 841, 1835, 527, 1311, 956, 479]))\n",
      "(30, Set([1556, 571, 572, 573, 1557]), 28, Set([168, 841, 44, 45, 112, 113, 1853]))\n",
      "(16, Set([1450, 1451, 1996, 1997]), 69, Set([1378, 1416, 1417, 1455, 1359, 1397, 1880, 1435]))\n",
      "(42, Set([2040, 2022, 2039]), 23, Set([1179, 1702, 1703, 693, 440, 763, 764, 765]))\n",
      "(38, Set([449, 467, 468]), 53, Set([677, 678, 1738, 1202, 1238, 1239, 697, 1181]))\n",
      "(19, Set([896, 266, 1364, 518, 895]), 16, Set([1660, 123, 1140, 389, 1661]))\n",
      "(23, Set([1827, 1828, 1829, 1846, 1847]), 18, Set([534, 295, 294, 262, 279]))\n",
      "(41, Set([368, 146, 147, 372, 698, 699]), 25, Set([962, 547, 548, 549, 946, 963]))\n",
      "(35, Set([608, 226, 1861, 1040, 1041, 83, 855, 283, 1021, 1022, 1023]), 18, Set([323, 324, 648, 628, 341, 342]))\n",
      "(18, Set([1082, 1083, 1244, 1245, 1622]), 14, Set([1528, 1513, 1527, 1525, 1521]))\n",
      "(9, Set([1276, 1237, 1797, 1239]), 71, Set([1840, 1839, 1821, 1838, 1837]))\n",
      "(17, Set([737, 738, 1203, 1204, 1205]), 18, Set([1303, 1305, 1306, 1307, 1308, 1818]))\n",
      "(44, Set([1664, 1665, 1666, 1667, 1668, 1135, 1138, 1662, 1663]), 24, Set([1824, 1298, 1284, 1823]))\n",
      "(27, Set([352, 137, 13, 85, 86, 30]), 15, Set([1832, 1833, 1852]))\n",
      "(27, Set([1441, 1442, 1443, 1444, 1445, 1446, 1447, 1449, 1450]), 40, Set([97, 98, 99, 999, 80, 1521, 1520]))\n",
      "(8, Set([1146, 1109, 1126]), 23, Set([2016, 1006, 1007, 987, 988, 1565, 1566]))\n",
      "(10, Set([1747, 757, 1190]), 21, Set([896, 1386, 515, 895]))\n",
      "(16, Set([376, 610, 124, 1726, 375]), 21, Set([1968, 1969, 1970]))\n",
      "(23, Set([1090, 2026, 784, 1109, 1110, 1145]), 24, Set([1904, 554, 555, 1004, 1005]))\n",
      "(16, Set([502, 244, 245, 246, 501]), 28, Set([680, 386, 1115, 110, 167]))\n",
      "(21, Set([51, 540, 157, 70, 158]), 39, Set([1088, 330, 331, 656, 1628, 1629, 1630]))\n",
      "(67, Set([225, 261, 262, 243, 981, 566, 567, 1989, 477, 1503]), 15, Set([384, 1139, 114, 707, 1466]))\n",
      "(14, Set([498, 515, 844, 941, 942]), 31, Set([521, 522, 252, 538, 537]))\n",
      "(25, Set([1984, 1985, 1987, 1516, 1517, 1499]), 29, Set([352, 385, 1795, 1796, 1237, 1239, 731]))\n",
      "(20, Set([1412, 1320, 1321, 1842, 1430, 890]), 15, Set([1360, 538, 1358, 894, 558]))\n",
      "(18, Set([1600, 1601, 1632, 1061, 1617]), 15, Set([1328, 1329, 846]))\n",
      "(15, Set([1755, 392, 1198, 177, 372, 731]), 14, Set([1348, 1349, 502, 1350]))\n",
      "(20, Set([1350, 233, 302, 1040, 503, 88, 2011]), 11, Set([1432, 1433, 1955, 1900, 1919]))\n",
      "(17, Set([2059, 2060, 2061]), 45, Set([1131, 1132, 1133, 1653, 1654, 1655, 1725, 1726]))\n",
      "(18, Set([1464, 1461, 1462, 1949]), 31, Set([579, 289, 290, 291, 578]))\n",
      "(24, Set([1176, 1177, 1140, 1662, 1175]), 25, Set([705, 706, 707, 708, 1705, 1668, 1143, 1145, 1146, 1147]))\n",
      "(15, Set([1153, 1227, 1805, 1190]), 18, Set([400, 433, 434, 365, 690]))\n",
      "(18, Set([676, 1126, 621, 693, 694, 388]), 16, Set([504, 1417, 914, 1434, 1433]))\n",
      "(25, Set([386, 387]), 23, Set([1840, 1347, 1348, 1837, 1839]))\n",
      "(81, Set([224, 1346, 877, 496, 497, 242, 243, 244, 511]), 31, Set([2023, 2024, 1775, 2042, 2043, 1630]))\n",
      "(11, Set([1891, 1387, 901, 1590, 255]), 28, Set([587, 1004, 1003, 588, 589, 239, 1528, 218, 1548]))\n",
      "(13, Set([1385, 882]), 36, Set([416, 325, 326, 327, 380, 415]))\n",
      "(30, Set([1891, 1892]), 55, Set([1068, 1069, 637, 314, 635, 636, 634, 638, 639]))\n",
      "(13, Set([224, 240, 478, 273]), 63, Set([1826, 1829, 1845, 1846, 1303, 1304, 1305, 1306]))\n",
      "(19, Set([1107, 1683, 1717, 1718, 1752, 1753]), 29, Set([35, 36, 359, 681, 682, 143, 18]))\n",
      "(43, Set([648, 1080, 1061, 647]), 35, Set([423, 205, 852, 1338, 475, 474, 1630]))\n",
      "(14, Set([328, 326, 327]), 111, Set([1826, 1827, 1284, 1321, 1322, 1323, 1807, 1808, 1809, 1810, 1843, 1844, 1845, 1302]))\n",
      "(8, Set([1154, 1677, 687]), 125, Set([1664, 1665, 1666, 1701, 1702, 1703, 1704, 1676, 1677, 1678, 1105, 1107, 1141, 1142, 1143, 1144, 1146, 1179, 1181]))\n",
      "(10, Set([835, 187, 188, 837]), 58, Set([3, 1164, 1165, 368, 150, 23, 24, 91, 732, 1727]))\n",
      "(35, Set([2000, 113, 114, 2001, 1569]), 22, Set([2048, 2020, 2023, 2024, 2025, 2026]))\n",
      "(42, Set([332, 333, 622, 725, 366, 726, 348, 1053, 1054, 639]), 69, Set([982, 648, 589, 1487, 1488, 342, 983, 984, 665, 666]))\n",
      "(12, Set([224, 313, 314, 117, 638]), 15, Set([99, 836, 1034, 1035, 2007, 2008]))\n",
      "(13, Set([1387, 1892, 1406, 1531]), 22, Set([2000, 955, 1549, 1550, 991]))\n",
      "(20, Set([1512, 1962, 1563, 2013]), 20, Set([1068, 1594, 1595, 652, 1069]))\n",
      "(14, Set([1936, 245, 533]), 38, Set([768, 392, 1809, 1810, 1811, 788, 373, 1270, 1272, 1812, 1813]))\n",
      "(16, Set([1456, 1457, 1458]), 32, Set([1480, 1448, 1481, 1981, 1937, 1465, 1949, 1982]))\n",
      "(11, Set([1042, 1060, 1061]), 110, Set([481, 226, 227, 228, 229, 230, 497, 482, 483, 209, 498, 211, 859, 1853, 479]))\n",
      "(15, Set([1861, 391, 138, 459, 788, 155, 190]), 14, Set([2060, 596, 973, 1030, 991]))\n",
      "(12, Set([648, 122, 123, 12]), 14, Set([396, 140, 141, 847]))\n",
      "(22, Set([1856, 1925, 1901, 1902, 1359, 1358]), 62, Set([483, 69, 70, 231, 232, 1511, 1512, 250, 575]))\n",
      "(14, Set([1080, 665, 1114, 2016, 1113]), 40, Set([1019, 969, 1003, 988, 1491, 1492, 2005, 2006, 987, 1020]))\n",
      "(23, Set([614, 615, 1516, 1012, 597, 598]), 41, Set([1422, 1420, 1421, 918]))\n",
      "(18, Set([1232, 1145, 1704, 1197]), 44, Set([1984, 1985, 2, 579, 273, 1986, 975, 1968, 145, 1987, 1498, 1967, 92, 93]))\n",
      "(42, Set([1806, 1316, 1317, 1334]), 82, Set([1120, 1121, 1643, 1100, 1101, 1102, 1677, 1118, 1119]))\n",
      "(39, Set([57, 235, 236, 237, 55]), 20, Set([780, 781, 1246, 423]))\n",
      "(21, Set([836, 837, 774, 1334, 823, 446, 447]), 25, Set([1890, 1923, 1383, 1384, 1366, 1367]))\n",
      "(20, Set([1664, 1665, 1663]), 26, Set([71, 51, 52, 374, 697, 252, 159]))\n",
      "(25, Set([1563, 1564, 1539, 1540, 1541]), 22, Set([933, 936, 1419, 1420, 1942, 1438]))\n",
      "(30, Set([1804, 1802, 1803, 1324, 1325, 1326, 857, 1820]), 31, Set([421, 422, 423, 141, 142, 143, 1081, 1082]))\n",
      "(10, Set([1536, 1003, 1535, 1519]), 37, Set([1216, 1217, 1668, 1669, 2004, 2005, 1592]))\n",
      "(14, Set([1176, 1177, 1702, 1175]), 18, Set([1472, 1957, 1958, 1471]))\n",
      "(14, Set([1537, 1556, 2062]), 18, Set([1372, 1594, 276, 621, 1054]))\n",
      "(12, Set([882, 484, 213]), 27, Set([2063, 2065, 1592, 2041, 2042, 2043]))\n",
      "(16, Set([738, 1114, 1133]), 85, Set([320, 321, 323, 1219, 1703, 648, 752, 306, 339, 340, 341, 342]))\n",
      "(14, Set([1849, 58, 59, 476, 74]), 31, Set([1479, 1480, 1899, 1900, 941, 1982]))\n",
      "(18, Set([1346, 1347, 1365, 1886, 1885]), 29, Set([615, 136, 170, 1166, 1167, 616, 372]))\n",
      "(10, Set([1484, 1012, 1550]), 15, Set([953, 915, 1476, 934]))\n",
      "(18, Set([1104, 673, 66, 349, 47]), 18, Set([1344, 483, 501, 503, 1881, 1882]))\n",
      "(24, Set([1840, 545, 923, 924, 925]), 19, Set([1126, 1161, 817, 1108, 729, 764]))\n",
      "(11, Set([1849, 1850, 845, 862]), 22, Set([1346, 516, 517, 1991, 1506, 534, 535, 984]))\n",
      "(19, Set([1288, 204, 1810, 273, 818, 1305]), 84, Set([448, 449, 450, 771, 196, 737, 468, 1653, 828, 413]))\n",
      "(15, Set([721, 436, 1341, 1340]), 60, Set([864, 486, 844, 845, 846, 1331]))\n",
      "(27, Set([1894, 813, 1711, 1371, 1372, 1373]), 16, Set([272, 291, 989, 990]))\n",
      "(23, Set([133, 615, 1199, 369, 310, 730]), 18, Set([1825, 1842, 1268, 1269, 1757]))\n",
      "(33, Set([297, 429, 1461, 755, 565, 118, 959]), 26, Set([224, 496, 308, 94, 495]))\n",
      "(13, Set([1634, 155, 1094, 190]), 32, Set([776, 739, 740, 1623]))\n",
      "(41, Set([59, 236, 237, 238, 239]), 12, Set([1008, 1491, 1492, 1493, 1007]))\n",
      "(17, Set([1104, 1647, 668, 669, 1103]), 53, Set([1088, 1923, 264, 1418, 1627, 316]))\n",
      "(18, Set([65, 66, 67, 205, 206, 89]), 35, Set([1680, 1135, 1136, 1681, 1138, 1719]))\n",
      "(9, Set([426, 1741, 750, 335]), 25, Set([66, 68, 930, 51, 534, 1431, 1432, 377]))\n",
      "(9, Set([120, 34, 119]), 39, Set([1155, 1574, 1575, 1712, 1051, 1052]))\n",
      "(15, Set([521, 523, 524, 527]), 17, Set([1504, 1503, 1901, 1902, 1415]))\n",
      "(50, Set([800, 801, 1381, 838, 839, 876, 1231, 819, 820, 857, 858, 1382]), 30, Set([345, 1155, 1713, 381, 687]))\n",
      "(22, Set([1507, 1508, 1509, 984, 985, 987]), 28, Set([833, 1282, 869, 870, 814, 1393, 851, 1915, 796]))\n",
      "(40, Set([720, 139, 508, 61, 62]), 29, Set([1736, 1737, 1738, 1215, 127]))\n",
      "(34, Set([327, 328, 1034, 1035, 633, 1051, 1052]), 25, Set([641, 1058, 385, 1581, 334, 687, 688, 335, 1582, 347]))\n",
      "(10, Set([320, 621, 318, 319]), 57, Set([1600, 1584, 1602, 1061, 1601, 877, 1582, 303, 304, 1362, 628, 87, 249, 1583, 1044]))\n",
      "(26, Set([902, 903, 904, 905, 906, 1387, 908, 529, 530]), 38, Set([992, 577, 578, 579, 581, 994, 993, 524, 525, 561, 597]))\n",
      "(16, Set([536, 1915, 914, 931, 1914]), 61, Set([1152, 1188, 1096, 2030, 2031, 755, 756, 1078, 791, 2012, 2014, 1599]))\n",
      "(17, Set([497, 459, 1381, 478, 1121]), 20, Set([240, 323, 104, 265, 106, 238, 239, 80, 79]))\n",
      "(21, Set([1678, 356, 693, 694, 1677]), 26, Set([840, 1197, 878, 879, 1717, 463, 860, 766]))\n",
      "(21, Set([1956, 1973, 1974]), 41, Set([552, 265, 1130, 1131, 1452, 948, 374, 698, 699, 157, 158]))\n",
      "(25, Set([1824, 1282, 1283, 1285, 398, 399, 344, 703]), 37, Set([834, 1316, 1317, 458, 459, 141, 1855]))\n",
      "(14, Set([273, 541, 1089, 637]), 97, Set([1985, 995, 1516, 976, 1496, 1497, 1498, 1499, 1500, 1981, 1982, 1983]))\n",
      "(40, Set([356, 357, 1926, 681, 52, 918, 521, 1944, 1669]), 28, Set([8, 9, 42, 116, 117, 118, 185, 27, 28, 170]))\n",
      "(34, Set([709, 1094, 1095, 747, 748, 750, 786]), 34, Set([164, 166, 167, 112, 113, 23, 24, 1124]))\n",
      "(23, Set([352, 371, 408, 155, 444, 1311]), 26, Set([962, 1955, 1954, 78, 77, 721, 565]))\n",
      "(15, Set([868, 518, 892, 891, 540, 893]), 100, Set([1281, 1862, 1863, 1864, 1865, 1866, 1323, 1324, 1325, 1326, 1301, 1846, 1847, 1848, 1342, 1279]))\n",
      "(31, Set([1858, 1859, 1860, 1829, 1844, 1814, 1861]), 109, Set([128, 129, 361, 363, 397, 398, 399, 145, 146, 147, 182, 127]))\n",
      "(22, Set([264, 1416, 244, 262, 263]), 16, Set([1448, 1449, 1450, 1446, 1447]))\n",
      "(15, Set([1977, 1978]), 32, Set([625, 626, 627, 628, 629, 630, 599, 600]))\n",
      "(15, Set([913, 530, 914]), 20, Set([1225, 667, 1801, 1261, 1693]))\n",
      "(30, Set([256, 225, 841, 1835, 527, 1311, 956, 479]), 24, Set([1828, 1829, 331, 819, 1590, 1847, 1306, 189]))\n",
      "(23, Set([841, 44, 45, 112, 113, 1853]), 30, Set([161, 162, 1785, 409, 410, 411, 766]))\n",
      "(68, Set([1378, 1416, 1417, 1455, 1359, 1397, 1880, 1435, 1436]), 31, Set([1248, 1735, 1768, 1770, 1624, 1625, 1246, 1247]))\n",
      "(28, Set([1179, 1702, 1703, 693, 440, 763, 764, 765]), 13, Set([452, 200, 235, 1192, 759, 217]))\n",
      "(51, Set([677, 678, 1738, 1202, 1238, 1239, 697]), 15, Set([945, 1446, 966, 575]))\n",
      "(27, Set([2054, 2055]), 10, Set([2064, 2065, 2066, 781, 742]))\n",
      "(14, Set([1660, 123, 1140, 389]), 21, Set([1960, 1957, 1958, 1959]))\n",
      "(19, Set([534, 1924, 294, 262, 279]), 62, Set([1594, 616, 617, 2045, 1592, 1593, 1050, 1051, 1053, 2046]))\n",
      "(18, Set([547, 548, 549, 963]), 25, Set([131, 132, 165, 1158, 615, 1531, 1532]))\n",
      "(17, Set([323, 324, 648, 628, 341, 342]), 19, Set([1410, 1411, 1412, 1897, 1428, 1429]))\n",
      "(24, Set([1513, 1521, 1525, 1526, 1527, 1528]), 69, Set([384, 99, 708, 966, 169, 1138, 115, 116, 117, 569, 1659]))\n",
      "(69, Set([1839, 1821, 1838, 1837]), 64, Set([1387, 1388, 1389, 1426, 1909, 1910, 1464, 1465, 1407]))\n",
      "(20, Set([849, 1303, 1305, 1306, 1307, 1308, 1818]), 62, Set([1120, 251, 68, 69, 70, 369, 1640, 540, 367, 368, 49, 691, 154, 155, 252]))\n",
      "(21, Set([1824, 1298, 1823]), 55, Set([1669, 1131, 1132, 1133, 1134, 1167, 1653, 1655, 1656, 1689, 1690, 1691, 1692]))\n",
      "(20, Set([1832, 1833, 1852]), 22, Set([1538, 835, 78, 79, 1016, 602]))\n",
      "(42, Set([97, 98, 99, 999, 80, 1521, 1520]), 19, Set([897, 898, 500, 1908]))\n",
      "(16, Set([1400, 1907, 1398]), 11, Set([955, 1966, 1478, 1479]))\n",
      "(11, Set([1250, 1068, 1773, 654]), 30, Set([897, 898, 1636, 1383, 1096, 340, 664, 249]))\n",
      "(21, Set([2016, 1006, 1007, 987, 988, 1566]), 18, Set([496, 892, 514, 891, 516]))\n",
      "(18, Set([896, 1386, 515, 895]), 13, Set([1512, 985, 986, 1491, 1507]))\n",
      "(25, Set([1952, 1968, 1970, 1969]), 10, Set([1136, 1642, 1659, 1658, 1102]))\n",
      "(29, Set([1904, 554, 555, 1004, 1005]), 94, Set([1306, 710, 711, 367, 369, 370, 1700, 404, 405, 406, 441, 442, 1178, 350, 351]))\n",
      "(28, Set([386, 167, 168, 110, 680, 1115]), 24, Set([1408, 956, 973, 542, 1407]))\n",
      "(37, Set([1088, 330, 331, 656, 1628, 1629]), 70, Set([160, 51, 162, 196, 197, 161, 50, 83, 84, 567, 1947, 159]))\n",
      "(21, Set([384, 1139, 114, 707, 1484]), 16, Set([1066, 2040, 1588, 2039, 632, 633]))\n",
      "(12, Set([1673, 1674, 1115, 1151]), 36, Set([1512, 1452, 1454, 1455, 1493, 1494]))\n",
      "(29, Set([537, 522, 252, 538]), 24, Set([1256, 1778, 1779, 1093, 1094]))\n",
      "(22, Set([884, 885, 901]), 12, Set([2040, 2038, 2029, 2030, 2041]))\n",
      "(28, Set([352, 385, 1795, 1796, 1237, 1239, 731]), 28, Set([295, 296, 604, 1565, 1564, 605]))\n",
      "(26, Set([1839]), 44, Set([2049, 2050, 2051, 2065, 2066, 2067]))\n",
      "(13, Set([633, 114, 45]), 105, Set([1347, 1348, 1349, 1350, 1871, 1329, 1330, 1331, 1812, 1814, 1815, 1816, 1852]))\n",
      "(16, Set([1360, 538, 1358, 894, 558]), 35, Set([104, 1257, 428, 913, 85, 86, 122]))\n",
      "(21, Set([1328, 1329, 846]), 25, Set([1349, 588, 502, 249, 1019, 284, 862, 863]))\n",
      "(16, Set([1348, 1349, 502, 1350]), 54, Set([544, 545, 1443, 1164, 939, 940, 45, 46, 190, 152, 154, 731, 62]))\n",
      "(12, Set([1955, 1900, 1432, 1433, 1918, 1919]), 40, Set([784, 424, 425, 172, 208, 209, 856, 1881, 478, 479]))\n",
      "(42, Set([1131, 1132, 1653, 1654, 1655, 1725, 1726]), 20, Set([289, 290, 291, 293, 1040, 1043, 93, 1566]))\n",
      "(12, Set([1033, 603, 1589, 2054]), 13, Set([1736, 1217, 1218, 430, 1737]))\n",
      "(30, Set([289, 290, 579, 577, 578, 291]), 20, Set([1227, 812, 1749, 794, 829, 830]))\n",
      "(28, Set([705, 706, 707, 708, 1705, 1668, 1143, 1145, 1146, 1147]), 37, Set([69, 70, 555, 1455, 951, 249, 250, 412, 1690, 1726]))\n",
      "(14, Set([858, 1868, 478]), 30, Set([550, 102, 753, 174, 175, 176, 177, 121]))\n",
      "(14, Set([824, 825, 1308, 197, 198]), 26, Set([97, 98, 648, 73, 74, 75, 322, 119]))\n",
      "(18, Set([400, 433, 434, 365, 690]), 115, Set([1356, 1357, 1358, 1359, 1360, 1878, 1879, 1880, 1881]))\n",
      "(16, Set([1066, 1067, 1604, 1589]), 24, Set([179, 339, 340, 341, 342, 125]))\n",
      "(18, Set([899, 1417, 914, 504, 1433, 1434]), 37, Set([801, 674, 1699, 1700, 1826, 1827, 692, 1141, 1828, 1307, 1845]))\n",
      "(22, Set([1840, 1347, 1348, 1837, 1839]), 26, Set([1360, 1376, 1378, 1377, 1359]))\n",
      "(31, Set([2023, 2024, 1775, 2042, 2043, 1630]), 42, Set([928, 1379, 1380, 909, 1362, 1363, 1970, 927]))\n",
      "(13, Set([1272, 1812]), 33, Set([737, 283, 15, 1488, 1170, 86, 571, 572]))\n",
      "(15, Set([936, 1455, 1454, 935]), 128, Set([386, 387, 357, 679, 328, 329, 682, 683, 681, 1112, 680, 1131, 1130, 631, 632, 1113, 698, 1114, 613]))\n",
      "(30, Set([1003, 1004, 587, 588, 238, 239, 1528, 1529, 218, 1548]), 52, Set([680, 460, 461, 372, 407, 408, 1340, 1341]))\n",
      "(39, Set([416, 325, 326, 327, 380, 415]), 32, Set([841, 1228, 1229, 1747, 820, 1751, 1748, 798, 799]))\n",
      "(55, Set([1068, 1069, 637, 314, 635, 636, 634, 638, 639]), 31, Set([455, 41, 42, 204, 114, 24]))\n",
      "(66, Set([1826, 1829, 1845, 1846, 1303, 1304, 1305, 1306]), 45, Set([1794, 1284, 1285, 1286, 1287, 1807, 1808, 1809, 1268, 1270]))\n",
      "(9, Set([519, 1917, 518, 71]), 37, Set([1474, 972, 970, 971, 556, 1493, 951, 952, 953, 954]))\n",
      "(28, Set([35, 36, 359, 682, 143, 18, 1114]), 17, Set([1648, 810, 1165, 1647]))\n",
      "(37, Set([423, 205, 852, 1338, 475, 474, 1630]), 18, Set([313, 562, 275, 938, 543]))\n",
      "(112, Set([1826, 1827, 1284, 1321, 1322, 1323, 1807, 1808, 1809, 1810, 1843, 1844, 1845, 1302]), 48, Set([674, 675, 1604, 709, 710, 711, 1065, 1066, 1126]))\n",
      "(122, Set([1664, 1665, 1666, 1701, 1702, 1703, 1704, 1676, 1677, 1678, 1105, 1141, 1143, 1144, 1146, 1181]), 46, Set([1616, 1615, 1069, 1070, 1071, 1072, 1617, 631, 632, 633, 634, 635]))\n",
      "(16, Set([1911, 1895, 1373, 1862, 1879]), 20, Set([480, 197, 494, 495, 211, 212, 1372, 479]))\n",
      "(56, Set([3, 1164, 1165, 1166, 368, 150, 23, 24, 91, 732, 1727]), 37, Set([292, 293, 294, 999, 1000, 1993, 295]))\n",
      "(14, Set([608, 1057, 1491, 1004]), 136, Set([1760, 368, 132, 133, 134, 1201, 1724, 1725, 112, 369, 1203, 308, 151, 26, 1723, 732, 1722, 1759, 613]))\n",
      "(43, Set([2048, 2020, 2023, 2024, 2025, 2026]), 25, Set([1, 147, 148, 1686, 727, 1721]))\n",
      "(80, Set([982, 648, 589, 1487, 1488, 342, 983, 984, 665, 666]), 86, Set([1197, 1198, 1199, 1200, 1233, 1234, 1235, 729, 1756, 1757, 767]))\n",
      "(44, Set([906, 907, 1444, 1445]), 21, Set([769, 770, 771, 396, 144, 411, 412]))\n",
      "(16, Set([99, 836, 1034, 1035, 2007, 2008]), 76, Set([1120, 1155, 1156, 1641, 1676, 1677, 1678, 1679, 1712, 1713, 1711]))\n",
      "(13, Set([1889, 1890, 1367]), 37, Set([1633, 995, 580, 581, 582, 1073, 620, 977, 978, 996, 997]))\n",
      "(10, Set([817, 1666, 692, 693]), 10, Set([1873, 1874, 867, 1351]))\n",
      "(10, Set([825, 194, 158, 1311]), 73, Set([515, 1412, 908, 909, 910, 911, 467, 468, 891, 1411]))\n",
      "(13, Set([2059, 1625, 739]), 22, Set([432, 394, 1787, 1788, 373]))\n",
      "(24, Set([1549, 1550, 1999, 2000, 955, 991]), 82, Set([1346, 1869, 1868, 1852, 1834, 1867, 1836, 1325, 1326, 1327, 1865, 1848, 1849, 1850, 1308, 1866]))\n",
      "(19, Set([1068, 1594, 1595, 652, 1069]), 38, Set([258, 259, 260, 934, 935, 936, 538]))\n",
      "(32, Set([768, 392, 1809, 1810, 1811, 788, 373, 1272]), 35, Set([2058, 2059, 2060, 2061]))\n",
      "(30, Set([1480, 1448, 1481, 1981, 1937, 1465, 1949, 1982]), 29, Set([546, 547, 1798, 806, 1799, 209, 243, 1464]))\n",
      "(106, Set([481, 226, 227, 228, 229, 230, 497, 482, 483, 209, 211, 859, 1853, 479]), 30, Set([480, 140, 1745, 857, 157, 479]))\n",
      "(13, Set([2060, 1590, 1030, 991]), 49, Set([1312, 204, 203, 460, 55, 56]))\n",
      "(12, Set([396, 140, 141, 847]), 43, Set([1796, 1797, 807, 845, 846, 826, 1275, 1276]))\n",
      "(57, Set([483, 70, 231, 232, 1511, 1512, 250, 575]), 28, Set([1362, 1363, 1364, 1365, 1848, 1885]))\n",
      "(55, Set([1019, 969, 1003, 988, 1491, 1492, 2005, 2006, 987, 1020]), 32, Set([192, 1216, 389, 842, 749, 1774, 1773, 157]))\n",
      "(41, Set([1422, 1420, 1421, 918]), 20, Set([944, 397, 239, 240, 945, 58]))\n",
      "(42, Set([1984, 1985, 2, 579, 273, 1986, 975, 1968, 145, 1987, 1498, 92, 93]), 15, Set([1744, 1602, 1259, 1619, 1618]))\n",
      "(14, Set([1616, 1632, 2032, 2049]), 38, Set([1162, 367, 368, 690, 691, 728, 349, 350]))\n",
      "(83, Set([1120, 1121, 1643, 1100, 1101, 1102, 1677, 1118, 1119]), 35, Set([1456, 1476, 1455]))\n",
      "(19, Set([780, 781, 1246, 423]), 19, Set([971, 267, 460, 210, 1494, 248]))\n",
      "(32, Set([1890, 1923, 1383, 1384, 1366, 1367]), 30, Set([1443, 1930, 1963, 1964, 1965, 1946]))\n",
      "(26, Set([71, 51, 52, 374, 697, 252, 159]), 45, Set([1312, 1313, 484, 70, 1834, 1835, 1005, 591, 592, 1527, 88, 286]))\n",
      "(22, Set([933, 936, 1419, 1420, 1943, 1438]), 29, Set([992, 993, 994, 995, 1516, 976]))\n",
      "(29, Set([421, 422, 423, 141, 142, 143, 1081, 1082]), 18, Set([112, 1298, 1299, 453, 39]))\n",
      "(35, Set([1216, 1217, 1668, 1669, 2004, 2005, 1592]), 66, Set([416, 417, 418, 419, 420, 421, 422, 423, 424, 427, 430]))\n",
      "(26, Set([1712, 1711]), 18, Set([1795, 1798, 1799, 1800, 1225, 1227, 1272]))\n",
      "(20, Set([1472, 953, 1957, 1958, 1471]), 36, Set([1184, 1185, 1060, 717, 1582, 1581, 752, 753, 789, 662, 664, 1562, 1563, 1149]))\n",
      "(16, Set([1594, 1372, 621, 1054]), 55, Set([224, 832, 1820, 240, 241, 1299, 1300, 62, 474, 63, 60, 61, 222, 223]))\n",
      "(25, Set([546, 579, 1917, 560, 596, 925]), 52, Set([1441, 1443, 937, 938, 939, 1459, 1460, 1461, 957]))\n",
      "(31, Set([2025, 2063, 2065, 1592, 2041, 2042, 2043]), 18, Set([1635, 1256, 1104, 2068, 2069, 1179, 1180]))\n",
      "(97, Set([320, 321, 323, 645, 1219, 1703, 648, 752, 753, 306, 339, 340, 341, 342, 787]), 47, Set([1166, 1167, 1168, 1202, 1203, 1204, 1689, 1726]))\n",
      "(31, Set([1479, 1480, 1899, 1900, 941, 1982]), 41, Set([865, 100, 101, 488, 80, 625, 626, 1060, 220, 221]))\n",
      "(9, Set([1624, 1765, 1623]), 57, Set([67, 228, 1638, 874, 14, 497, 339, 340, 341, 665, 123]))\n",
      "(31, Set([615, 136, 170, 1166, 1167, 616, 372, 312]), 55, Set([1544, 1545, 1546, 1547, 1548, 1563, 1564, 1565, 1566]))\n",
      "(17, Set([896, 953, 915, 1476, 934]), 16, Set([705, 742, 1610, 2043, 668, 1086]))\n",
      "(17, Set([1344, 1881, 1882, 483, 501]), 52, Set([1601, 1602, 645, 813, 120, 186, 187]))\n",
      "(22, Set([1108, 729, 764, 1126, 817]), 12, Set([217, 314, 1076, 642, 1618]))\n",
      "(19, Set([1346, 1347, 1506, 534, 535, 984]), 76, Set([481, 482, 899, 1384, 1385, 1386, 1643, 1122, 879, 880, 882, 1123, 406]))\n",
      "(80, Set([448, 449, 450, 771, 196, 774, 737, 468, 1653, 412]), 42, Set([1248, 1091, 1092, 1093, 1094, 1095, 1245, 1246, 1247]))\n",
      "(68, Set([864, 486, 844, 845, 846, 1331]), 52, Set([1284, 1285, 1320, 1321, 1267, 1302, 1338, 1789]))\n",
      "(14, Set([272, 291, 989, 990]), 24, Set([1728, 358, 394, 1580, 1169, 701, 1727]))\n",
      "(17, Set([1825, 1842, 1269, 1757]), 23, Set([65, 2019, 481, 1871, 1872, 1050, 861]))\n",
      "(26, Set([224, 496, 308, 94, 495]), 36, Set([196, 197, 873, 1358, 1359, 1360, 857, 377, 858, 1340]))\n",
      "(33, Set([776, 739, 740, 1623]), 26, Set([1312, 1329, 1347, 1364, 1365]))\n",
      "(9, Set([1008, 1491, 1492, 1493]), 29, Set([512, 258, 1899, 1394, 78, 241, 242, 1395]))\n",
      "(65, Set([1088, 1923, 264, 1418, 1627, 316]), 14, Set([289, 272, 1426, 307, 560, 543]))\n",
      "(36, Set([1680, 1135, 1136, 1681, 1138, 1719]), 25, Set([1552, 1091, 1220, 1573, 1709, 1072, 2003, 1092]))\n",
      "(24, Set([66, 68, 1431, 930, 51, 534, 247, 1432]), 16, Set([16, 17, 786, 1253, 72]))\n",
      "(35, Set([1712, 1051, 1052, 1155, 1575]), 30, Set([1919, 1935, 1918, 1902, 1903]))\n",
      "(14, Set([1682, 1683, 1126, 1127]), 36, Set([1601, 2051, 105, 1363, 877, 1361, 1362, 499, 86, 248]))\n",
      "(17, Set([1504, 1503, 1901, 1902, 1415]), 59, Set([994, 995, 996, 997, 1510, 1511, 1512, 1506, 1518, 1517, 1014, 1508, 1499]))\n",
      "(14, Set([56, 1, 55]), 22, Set([1608, 1628, 1588, 1607]))\n",
      "(33, Set([1155, 686, 687, 1713, 345, 381]), 65, Set([386, 387, 166, 167, 168, 713, 1672, 24, 26, 1147, 1148]))\n",
      "(27, Set([833, 1282, 869, 870, 1393, 851, 1915, 796]), 34, Set([1472, 1955, 1956, 918, 951, 1470, 1471]))\n",
      "(19, Set([128, 1586, 325, 127]), 25, Set([1035, 776, 777, 619, 620, 1052, 1207, 1208, 604, 639]))\n",
      "(32, Set([1736, 1737, 1738, 1215, 127]), 43, Set([232, 233, 234, 1771, 1772, 882, 174, 50, 1215]))\n",
      "(26, Set([641, 1058, 385, 1581, 334, 687, 688, 335, 1582, 347]), 32, Set([418, 1605, 166, 651, 652, 1807, 148, 149, 438, 439]))\n",
      "(58, Set([1600, 1584, 1602, 1061, 1601, 877, 1582, 303, 304, 1362, 1044, 87, 628, 1583]), 27, Set([456, 202, 236, 253, 1269]))\n",
      "(35, Set([992, 577, 578, 579, 581, 993, 524, 994, 561, 597]), 31, Set([1539, 1540, 1068, 1069, 1556, 1210]))\n",
      "(62, Set([1152, 1188, 1096, 2030, 2031, 755, 756, 1078, 791, 2012, 2014, 1599]), 18, Set([971, 972, 573, 574, 575]))\n",
      "(23, Set([360, 1133, 1654, 359]), 39, Set([1632, 1633, 1094, 1614, 1615, 2064, 2066, 2063, 1631]))\n",
      "(19, Set([240, 323, 104, 106, 239, 80, 79]), 43, Set([1453, 1554, 1555, 2004, 1016, 2003, 1469, 1470]))\n",
      "(23, Set([1992, 1529, 1996, 1993]), 36, Set([896, 516, 1932, 912, 913, 504, 1412, 895]))\n",
      "(26, Set([840, 1197, 878, 463, 1717, 860, 766]), 43, Set([1152, 1927, 10, 718, 719, 1406, 921, 527, 30, 1407]))\n",
      "(42, Set([552, 265, 1130, 1131, 1452, 948, 85, 374, 698, 699, 157, 158]), 65, Set([869, 870, 220, 239, 1337, 57, 58, 59, 60, 221, 223]))\n",
      "(39, Set([834, 1316, 1317, 1318, 458, 459, 141, 1855]), 38, Set([745, 779, 428, 1208, 1209, 1210, 1211, 1212, 1213]))\n",
      "(95, Set([1985, 995, 1516, 1496, 1497, 1498, 1499, 1500, 1981, 1982, 1983]), 32, Set([806, 808, 809, 1290, 1291, 1292, 1295, 1811]))\n",
      "(23, Set([9, 42, 116, 117, 118, 185, 27, 28, 170]), 53, Set([1280, 421, 811, 813, 1297, 1298, 1299, 149, 150, 795]))\n",
      "(34, Set([1124, 166, 167, 112, 113, 22, 23, 24]), 33, Set([704, 163, 164, 109, 379, 380, 381, 703]))\n",
      "(24, Set([1265, 1684, 1805, 1821, 1231]), 23, Set([1568, 329, 1163, 1999, 2000, 694, 350, 351]))\n",
      "(11, Set([1795, 1105, 1123, 1124]), 51, Set([356, 357, 358, 359, 681, 1703, 698, 699, 700, 701]))\n",
      "(14, Set([2012, 1678, 423]), 15, Set([1157, 1644, 813, 814, 1874, 1334]))\n",
      "(21, Set([1048, 1611, 1612, 1047]), 40, Set([1165, 1166, 1167, 1168, 1169, 1686, 1687, 735]))\n",
      "(26, Set([962, 1955, 1954, 78, 77, 721, 565]), 40, Set([71, 72, 232, 250, 251, 252]))\n",
      "(95, Set([1281, 1863, 1864, 1865, 1866, 1323, 1324, 1325, 1326, 1301, 1846, 1847, 1848, 1279]), 79, Set([704, 1216, 706, 739, 740, 1179, 744, 1215, 1171, 1172, 1174, 1175, 1178, 379, 703]))\n",
      "(122, Set([128, 129, 361, 363, 397, 398, 399, 145, 146, 147, 182, 183, 127]), 29, Set([1675, 132, 299, 1676, 365, 116, 117]))\n",
      "(8, Set([378, 702]), 26, Set([1572, 1573, 621, 468, 52, 1052, 317]))\n",
      "(14, Set([1448, 1449, 1450, 1447]), 21, Set([1000, 945, 1018, 1558, 1559]))\n",
      "(35, Set([625, 626, 627, 628, 629, 630, 599, 600]), 48, Set([39, 363, 398, 399, 400, 57, 58, 59, 922]))\n",
      "(36, Set([1225, 667, 1801, 1261, 1693]), 14, Set([1176, 1705, 1740, 1741, 1742]))\n",
      "(22, Set([1828, 1829, 331, 819, 1590, 1847, 1306, 189]), 36, Set([1642, 1643, 1644, 1645, 1679, 1714, 1749]))\n",
      "(32, Set([161, 162, 1785, 409, 410, 411, 766]), 52, Set([4, 5, 326, 327, 1865, 205, 307, 632, 633]))\n",
      "(36, Set([1735, 1768, 1770, 1624, 1625, 1246, 1247]), 53, Set([997, 583, 584, 585, 567, 573, 574]))\n",
      "(15, Set([1387, 1388, 1893, 1894]), 28, Set([966, 902, 903, 552, 967, 527, 528, 904, 968, 1512, 990]))\n",
      "(16, Set([452, 200, 235, 1192, 759, 217]), 14, Set([224, 682, 683, 1390, 374, 156]))\n",
      "(13, Set([945, 1446, 575]), 125, Set([67, 68, 69, 70, 71, 232, 231, 484, 50, 52, 53, 214, 212, 122, 123, 213]))\n",
      "(10, Set([2064, 2065, 2066, 781, 742]), 100, Set([235, 73, 75, 236, 237, 55, 56, 91, 92]))\n",
      "(26, Set([1960, 1957, 1958, 1959]), 14, Set([1313, 1295, 978, 979, 245, 566]))\n",
      "(64, Set([1594, 616, 617, 2045, 1592, 1593, 1050, 1051, 1053, 2046]), 145, Set([834, 1808, 273, 274, 835, 1828, 816, 457, 58, 59, 577, 578, 75, 455, 456, 201, 202, 203, 76, 472, 473, 474, 222, 991, 992, 1809, 1513, 236, 1810, 238, 204]))\n",
      "(24, Set([131, 165, 1158, 615, 112, 1531, 1532]), 69, Set([1152, 1440, 35, 36, 681, 682, 683, 684, 143, 144, 1673, 540, 1151]))\n",
      "(21, Set([1410, 1411, 1412, 1897, 1428, 1429]), 25, Set([993, 996, 987, 988, 989, 990]))\n",
      "(11, Set([272, 57, 74, 75, 595]), 27, Set([1840, 1353, 1354, 1822, 1823]))\n",
      "(69, Set([384, 99, 708, 966, 169, 1138, 707, 116, 117, 280, 569, 1659]), 36, Set([804, 1381, 876, 877, 878, 1903, 822, 858, 1757]))\n",
      "(27, Set([492, 844, 846, 505, 217, 477]), 285, Set([1793, 799, 800, 801, 802, 803, 1199, 1200, 440, 441, 1231, 1232, 1233, 1234, 1235, 727, 1754, 1755, 1788, 1269, 762, 763, 764, 765, 766, 767]))\n",
      "(14, Set([144, 377, 162, 700, 143]), 24, Set([2059, 1561, 2043, 1998, 1527]))\n",
      "(65, Set([1387, 1388, 1389, 1426, 1910, 1464, 1465, 1407]), 18, Set([962, 998, 1933, 1934, 944, 980, 1430]))\n",
      "(61, Set([1120, 251, 69, 70, 369, 1640, 540, 367, 368, 49, 691, 154, 155, 252]), 17, Set([1372, 1204, 444, 1373, 870]))\n",
      "(54, Set([1668, 1669, 1131, 1132, 1133, 1167, 1653, 1655, 1656, 1689, 1690, 1691, 1692]), 53, Set([896, 1380, 1381, 518, 630, 87, 88, 249, 250, 895]))\n",
      "(21, Set([1538, 835, 78, 79, 1016, 602]), 16, Set([2057, 2059, 2060, 2061, 2043, 1630]))\n",
      "(19, Set([897, 898, 500, 1908]), 22, Set([1601, 2051, 1060, 1061, 589, 1431]))\n",
      "(11, Set([955, 956, 1966, 1478, 1479]), 72, Set([1568, 1569, 1187, 1222, 785, 1069, 1070, 752, 753, 786, 1567]))\n",
      "(29, Set([897, 898, 1636, 1383, 1096, 340, 664, 249]), 21, Set([936, 1944, 90, 540]))\n",
      "(19, Set([496, 892, 514, 891, 516]), 76, Set([996, 549, 1551, 1552, 2001, 1013, 1918, 1919]))\n",
      "(11, Set([504, 1368, 234]), 73, Set([1984, 997, 1483, 1967, 1968, 977, 978, 979, 1499, 1500, 1501, 1502, 1983]))\n",
      "(12, Set([1512, 985, 986, 1491, 983]), 18, Set([1954, 855, 549, 550, 495]))\n",
      "(10, Set([1136, 1642, 1659, 1658, 1102]), 23, Set([1823, 1803, 1805, 1822, 1821]))\n",
      "(99, Set([1306, 710, 711, 367, 369, 1700, 405, 406, 440, 441, 442, 1179, 1178, 350, 351]), 148, Set([2032, 2033, 1582, 303, 304, 1886, 629, 321, 323, 1348, 1349, 1869, 87, 88, 89, 862, 1887, 1888, 1889, 232, 105, 106, 107, 880, 881, 501, 502, 233, 234]))\n",
      "(39, Set([2000, 307, 613]), 20, Set([1344, 1379, 1900, 1849, 1850, 1918]))\n",
      "(24, Set([1408, 973, 1425, 956, 542, 1407]), 182, Set([1975, 1976, 1977, 1978, 1475, 1994, 1995, 1996, 1997, 1493, 987, 989, 1507, 1508, 1509, 1510, 1511, 1004, 1525, 1526, 1527, 1528, 1529, 1530]))\n",
      "(15, Set([784, 746, 347, 1189, 707]), 21, Set([945, 1900, 1413, 1414, 1485]))\n",
      "(66, Set([160, 51, 162, 196, 197, 161, 50, 83, 84, 566, 567, 1947, 159]), 63, Set([1984, 1985, 1515, 1516, 1517, 1966, 1965, 1946, 1947, 1948, 1949, 1983]))\n",
      "(17, Set([289, 3, 801, 1270, 186, 92]), 30, Set([1948, 1946, 1459, 1947]))\n",
      "(24, Set([1066, 2040, 1588, 2039, 632, 633]), 16, Set([485, 486, 814, 817, 793, 794]))\n",
      "(37, Set([1959, 1512, 1452, 1454, 1455, 1493, 1494]), 289, Set([896, 897, 516, 520, 265, 266, 267, 268, 269, 270, 914, 915, 535, 537, 538, 539, 540, 934, 554, 555, 521, 87, 88, 1401, 247, 248, 249, 250, 251, 252]))\n",
      "(24, Set([1256, 1778, 1779, 1093, 1094]), 42, Set([1923, 1905, 1906, 1365, 1942, 1401, 1886, 1941]))\n",
      "(10, Set([2040, 2041, 2038, 2030]), 68, Set([352, 528, 675, 677, 529, 1426, 240, 241, 242, 1427, 1109, 923]))\n",
      "(28, Set([1564, 604, 605, 1565, 295]), 43, Set([1378, 1379, 836, 873, 874, 1901, 1902, 818, 1919]))\n",
      "(45, Set([2049, 2050, 2051, 2065, 2066, 2067]), 28, Set([587, 1611, 2059, 2060, 2061, 948, 1435]))\n",
      "(115, Set([1347, 1348, 1349, 1350, 1834, 1871, 1329, 1330, 1331, 1332, 1814, 1815, 1816, 1852]), 16, Set([1030, 1031, 1995, 1046, 1016, 1017]))\n",
      "(35, Set([104, 1257, 428, 913, 85, 86, 121, 122]), 73, Set([1504, 4, 583, 584, 397, 398, 146, 1503, 1501, 1502, 95]))\n",
      "(21, Set([115, 555, 554, 99, 739]), 61, Set([1344, 1864, 1323, 1324, 1325, 1359, 855, 1335, 1341, 1342, 1343]))\n",
      "(15, Set([97, 314, 315, 1596]), 84, Set([1731, 1732, 1769, 1661, 1139, 2036, 1173, 1174, 1175, 1208, 1209, 1082, 1211, 1210, 1246]))\n",
      "(18, Set([1256, 1097, 1740, 1257]), 258, Set([918, 1158, 520, 521, 522, 1422, 1680, 1681, 404, 405, 406, 407, 152, 153, 1157, 44, 692, 191, 192, 67, 211, 212, 728, 729, 730, 1122, 1123, 1124, 230, 231, 232, 369, 370, 371, 917]))\n",
      "(27, Set([1349, 1350, 588, 502, 249, 1019, 284, 862, 863]), 79, Set([897, 482, 483, 918, 1404, 898, 1422, 463, 464, 899, 916, 501, 502, 1943, 1421, 1925, 1403, 444, 917]))\n",
      "(52, Set([544, 545, 940, 939, 44, 45, 1164, 190, 152, 731, 62]), 151, Set([385, 133, 25, 26, 419, 420, 421, 422, 167, 168, 169, 170, 171, 330, 331, 332, 109, 110, 111, 112, 113, 115, 116]))\n",
      "(41, Set([208, 424, 425, 172, 48, 209, 784, 856, 478, 479]), 119, Set([1408, 1931, 1896, 1899, 1932, 1933, 1934, 1913, 1914, 1915, 1916, 1917]))\n",
      "(26, Set([289, 290, 291, 292, 293, 1040, 1043, 93, 1566]), 13, Set([953, 954, 1475, 1476]))\n",
      "(13, Set([1736, 1217, 1218, 430, 1737]), 18, Set([1056, 1057, 1576, 1577, 1556, 1077, 1557]))\n",
      "(17, Set([794, 1227, 812, 829, 830]), 24, Set([867, 524, 525, 1981, 1336, 541, 542]))\n",
      "(38, Set([69, 70, 555, 1455, 951, 249, 250, 412, 1690, 1726]), 61, Set([579, 292, 291, 940, 562, 1426, 941, 274, 563, 633, 1082]))\n",
      "(29, Set([102, 550, 174, 175, 176, 753, 121]), 169, Set([1028, 1031, 1550, 1551, 1553, 1554, 1048, 1567, 1568, 1569, 1570, 1571, 1572, 2000, 2001, 2002, 2003, 2018, 2019, 2020, 2021, 1010]))\n",
      "(20, Set([322, 648, 73, 74, 75, 119]), 68, Set([1792, 1793, 1812, 1813, 1718, 1719, 1754, 1755, 1756, 1757]))\n",
      "(108, Set([1356, 1357, 1358, 1359, 1360, 1878, 1879, 1880, 1881]), 337, Set([2061, 2062, 2064, 1070, 1071, 1072, 1073, 1593, 1594, 1631, 1087, 1088, 1089, 1090, 1091, 1608, 1609, 1610, 1611, 1612, 1613, 1614, 1627, 1628, 1629, 1630, 1247, 1252]))\n",
      "(19, Set([340, 125, 342, 341]), 45, Set([1440, 674, 934, 935, 136, 1105, 247, 538, 1439, 351]))\n",
      "(29, Set([1826, 1827, 1828, 674, 692, 1141, 1307, 1845]), 25, Set([1056, 2048, 564, 920, 921, 1597, 1406]))\n",
      "(27, Set([1376, 1377, 1378, 1358, 1359, 1360]), 27, Set([36, 144, 377, 378, 700, 702]))\n",
      "(45, Set([928, 1971, 1379, 1380, 909, 1362, 1363, 1970, 927]), 400, Set([384, 22, 23, 1177, 39, 40, 1736, 182, 73, 184, 57, 58, 59, 60, 1213, 199, 200, 201, 202, 203, 76, 56, 469, 470, 471, 472, 217, 218, 219, 220, 744, 236, 237, 238, 204, 55]))\n",
      "(38, Set([737, 283, 572, 15, 1488, 1170, 86, 571, 284]), 19, Set([1025, 1026, 1546, 1561, 2008, 2009]))\n",
      "(126, Set([386, 387, 357, 679, 328, 329, 682, 683, 681, 1112, 680, 1131, 1130, 631, 632, 1113, 698, 1114, 613]), 13, Set([608, 968, 1940, 1941, 950]))\n",
      "(56, Set([1670, 680, 460, 461, 1880, 372, 407, 408, 1340, 1341]), 404, Set([646, 647, 663, 787, 788, 661, 662, 791, 664, 665, 666, 1075, 1076, 1077, 1078, 1079, 1080, 1601, 1093, 1094, 1095, 1096, 1097, 1098, 1614, 1616, 1617, 1618, 1619, 1620, 1629, 1635, 1636, 1637, 1256, 1257, 2068, 789]))\n",
      "(32, Set([800, 841, 1228, 1229, 1747, 1748, 1751, 798]), 29, Set([1742, 1777, 1778, 1779, 1690, 1149]))\n",
      "(31, Set([41, 42, 204, 114, 455]), 37, Set([386, 387, 168, 169, 170, 112, 310, 713, 1148, 714]))\n",
      "(39, Set([1794, 1286, 1287, 1807, 1808, 1809, 1268, 1270]), 235, Set([131, 132, 133, 134, 135, 691, 154, 667, 668, 669, 158, 671, 1136, 156, 685, 49, 50, 51, 52, 670, 692, 703, 704, 705, 706, 348, 349, 350, 351, 366, 367, 368, 369, 1138]))\n",
      "(30, Set([1474, 970, 971, 972, 1493, 952, 953, 954]), 42, Set([832, 487, 849, 471, 830, 831]))\n",
      "(43, Set([2000, 1999]), 17, Set([1914, 1948, 1445, 1463]))\n",
      "(18, Set([1648, 810, 772, 1165, 1647]), 33, Set([1388, 1930, 1387, 1932, 1933, 1934]))\n",
      "(17, Set([313, 562, 275, 938, 543]), 13, Set([64, 672, 930, 44, 26, 1435]))\n",
      "(66, Set([674, 675, 1604, 709, 710, 711, 1064, 1065, 1066, 1126]), 24, Set([1637, 360, 1260, 1259, 396, 756]))\n",
      "(22, Set([1827, 1826, 1307, 844]), 60, Set([160, 161, 35, 36, 1289, 1810, 195, 180, 1811, 410, 411, 412, 447]))\n",
      "(43, Set([1615, 1069, 1070, 1071, 1616, 1617, 631, 633, 634, 635]), 188, Set([142, 682, 1245, 1766, 1209, 698, 699, 700, 701, 702, 713, 714, 1210, 1211, 356, 357, 358, 359, 360, 1212, 746, 373, 374, 375, 376, 377, 378]))\n",
      "(22, Set([480, 197, 494, 495, 211, 212, 1372, 479]), 84, Set([1356, 807, 808, 809, 1292, 1293, 1294, 1295, 1357, 1373, 1358, 1325, 822, 824, 825, 1242, 1340, 1341]))\n",
      "(35, Set([1000, 1993, 292, 293, 999]), 79, Set([736, 865, 835, 836, 837, 1351, 867, 458, 460, 461, 819, 852, 851, 443, 444, 735]))\n",
      "(142, Set([1760, 368, 1722, 132, 133, 134, 1201, 1724, 1725, 112, 369, 1203, 308, 1686, 151, 26, 1723, 732, 730, 1759, 613]), 131, Set([1602, 1060, 1061, 1062, 1584, 1620, 1079]))\n",
      "(28, Set([1, 147, 148, 1686, 727, 1721, 1723]), 16, Set([1954, 1955, 1973, 1974]))\n",
      "(84, Set([1197, 1198, 1199, 1200, 1233, 1234, 1235, 729, 1759, 1756, 1757, 767]), 52, Set([1856, 1377, 1378, 1379, 1380, 1419, 1421, 1875, 1396, 1877, 1876, 892, 1855]))\n",
      "(21, Set([144, 412, 770, 771, 396]), 27, Set([834, 835, 1932, 492, 1410, 817, 887, 888, 889]))\n",
      "(71, Set([1155, 1156, 1641, 1676, 1677, 1678, 1679, 1713, 1711]), 60, Set([928, 258, 529, 910, 912, 273, 530, 531, 532]))\n",
      "(13, Set([376, 156, 157, 46]), 23, Set([752, 737, 1254, 358]))\n",
      "(41, Set([1633, 995, 580, 581, 582, 1073, 620, 977, 978, 996, 997]), 172, Set([389, 390, 785, 786, 787, 788, 789, 425, 426, 427, 704, 705, 1218, 1219, 713, 1254, 747, 748, 749, 750, 751, 752]))\n",
      "(73, Set([1410, 515, 1412, 908, 909, 910, 911, 467, 468, 891, 1411]), 14, Set([832, 1376, 869, 870, 1901, 831]))\n",
      "(22, Set([394, 1787, 1788, 373]), 37, Set([169, 815, 816, 658, 24, 186, 1822, 1823]))\n",
      "(9, Set([1545, 1946, 1967, 1543]), 173, Set([1920, 1921, 1414, 1415, 1416, 1417, 1418, 1419, 909, 911, 912, 913, 1939, 535, 536, 1433, 1434, 1435, 1937, 106, 1397, 1398, 1399, 1400, 1918, 1919]))\n",
      "(18, Set([145, 362, 363, 689]), 22, Set([1216, 1217, 755, 1212, 1214, 1215]))\n",
      "(75, Set([1869, 1868, 1852, 1866, 1867, 1836, 1325, 1326, 1327, 1865, 1848, 1849, 1850, 1308]), 37, Set([1893, 937, 938, 1423, 1424, 1910, 1911, 1477]))\n",
      "(40, Set([258, 259, 260, 934, 935, 936, 536, 538]), 84, Set([609, 612, 1008, 103, 10, 11, 44, 45, 592, 435, 436, 793, 186, 187, 794]))\n",
      "(35, Set([2058, 2059, 2060, 2061]), 58, Set([683, 1130, 1131, 1132, 1133, 1686, 1687]))\n",
      "(34, Set([546, 806, 1798, 1799, 209, 243, 1464]), 25, Set([1437, 624, 1073, 572, 573, 1438]))\n",
      "(35, Set([480, 140, 1745, 857, 157, 479]), 65, Set([1347, 1381, 1382, 1383, 878, 879, 880, 1330, 1939, 1940, 1400]))\n",
      "(51, Set([1312, 204, 203, 460, 55, 56]), 50, Set([577, 615, 616, 1609, 618, 1067, 1068, 559, 560, 1589, 1048, 1049, 1050, 635, 1066]))\n",
      "(45, Set([1796, 1797, 807, 845, 846, 826, 1275, 1276]), 148, Set([544, 1481, 1444, 1445, 1478, 1480, 1461, 1482, 939, 940, 941, 942, 1460, 958, 1462, 1463, 956, 957, 542, 959]))\n",
      "(12, Set([1969, 1514, 1515, 1516]), 105, Set([768, 620, 315, 636, 769, 1052, 316, 618, 619, 332, 333, 334, 637, 1051, 116, 117, 408, 314, 155, 28, 29]))\n",
      "(16, Set([1489, 989, 1973]), 37, Set([2056, 2057, 2058, 2059, 2021]))\n",
      "(31, Set([1362, 1363, 1364, 1365, 1848, 1885]), 16, Set([135, 1768, 460, 462, 154, 1212]))\n",
      "(36, Set([192, 1216, 389, 842, 749, 1774, 1773, 156, 157]), 18, Set([1912, 42, 1391, 222, 151]))\n",
      "(18, Set([944, 945, 58, 397, 239]), 207, Set([128, 129, 131, 397, 398, 399, 145, 146, 147, 20, 149, 689, 343, 344, 1122, 1123, 1124, 1125, 361, 362, 1647, 1648, 19, 148, 127, 21]))\n",
      "(12, Set([1898, 1899, 1900, 1902]), 49, Set([1787, 357, 358, 1788, 140, 395, 396, 1231, 1232, 1754, 731, 732, 1786]))\n",
      "(21, Set([1744, 1602, 1259, 1619, 1618]), 30, Set([1688, 1129, 1130, 1148, 1777]))\n",
      "(43, Set([1162, 367, 368, 690, 691, 693, 728, 348, 349, 350]), 28, Set([1568, 2018, 2019, 2020, 1999, 1567]))\n",
      "(37, Set([1456, 1476, 1455]), 11, Set([1872, 1833, 1852, 1853]))\n",
      "(19, Set([971, 267, 460, 210, 1494, 248]), 27, Set([1378, 1864, 1899, 1361, 1845, 1846, 1918]))\n",
      "(30, Set([1443, 1930, 1963, 1964, 1965, 1946]), 29, Set([1508, 1509, 1990, 1991, 1992, 1993, 1007]))\n",
      "(46, Set([1312, 1313, 484, 70, 1834, 1835, 1005, 591, 592, 1527, 88, 286]), 14, Set([1025, 1583, 1494, 1007]))\n",
      "(27, Set([992, 993, 994, 995, 1516, 976]), 175, Set([1410, 1411, 1412, 908, 925, 926, 547, 548, 566, 584, 585, 586, 601, 602, 603, 604, 605, 997, 998, 999, 1000, 1897, 1015, 1016, 1017, 1018]))\n",
      "(20, Set([452, 453, 39, 112, 1298, 1299]), 17, Set([416, 1, 163, 164, 165]))\n",
      "(61, Set([416, 417, 418, 419, 420, 421, 422, 423, 424, 427]), 54, Set([1807, 1789, 1267, 745, 1771, 1772, 1213, 1232, 691, 727, 1177, 1178, 1231, 764, 349]))\n",
      "(16, Set([1795, 1798, 1799, 1800, 1225, 1227]), 24, Set([1712, 1713, 1117, 1750]))\n",
      "(35, Set([1184, 1185, 1060, 717, 1582, 1581, 753, 789, 662, 664, 1562, 1563, 1149]), 73, Set([1003, 1577, 1576, 969, 1035, 1036, 1037, 1038, 2025, 1559, 986, 2042]))\n",
      "(53, Set([224, 832, 1820, 240, 241, 1300, 62, 474, 63, 60, 61, 222, 223]), 87, Set([1893, 870, 1356, 1389, 1390, 1842, 1843, 1844, 1910, 1911, 1912, 1337, 1370, 1371, 1372, 1373]))\n",
      "(54, Set([1441, 1443, 937, 938, 939, 1459, 1460, 1461, 920, 957]), 76, Set([33, 1859, 1860, 837, 1320, 1321, 1322, 460, 431, 176, 432, 791, 792, 1861]))\n",
      "(19, Set([1635, 1256, 1104, 2068, 2069, 1179, 1180]), 24, Set([1616, 1618, 1590, 1591, 1593, 1594]))\n",
      "(41, Set([1166, 1167, 1168, 1201, 1203, 1204, 1689, 1726]), 251, Set([1948, 1950, 1951, 1447, 1448, 940, 942, 943, 944, 1464, 1465, 1466, 1467, 1468, 960, 961, 962, 963, 1989, 1482, 1483, 1484, 1487, 978, 979, 1498]))\n",
      "(42, Set([865, 100, 101, 488, 80, 625, 626, 1060, 220, 221]), 213, Set([891, 525, 55, 73, 74, 1366, 219, 1378, 1379, 1380, 1381, 235, 236, 237, 238, 239, 889, 890, 507, 508, 509, 510]))\n",
      "(52, Set([67, 228, 1638, 874, 14, 497, 340, 341, 665, 123]), 31, Set([1546, 1070, 1086, 1245, 1246, 1087]))\n",
      "(60, Set([1544, 1546, 1547, 1548, 1563, 1564, 1565, 1566]), 13, Set([664, 1616, 395, 396, 431]))\n",
      "(15, Set([753, 788, 717, 1094]), 42, Set([769, 354, 807, 1772, 770, 1180, 1215]))\n",
      "(16, Set([705, 742, 1610, 2043, 668, 1086]), 89, Set([64, 1573, 1574, 1575, 296, 297, 2023, 620, 621, 1865, 1864, 1576, 2025, 1557, 1577, 856, 2024, 1052, 1053, 478, 2005]))\n",
      "(18, Set([1770, 1603, 1604, 1247]), 27, Set([225, 226, 1412, 1414, 513, 1415, 1649, 407, 1918]))\n",
      "(49, Set([1601, 1602, 645, 813, 120, 186, 187]), 99, Set([1120, 1121, 1122, 1156, 1157, 1158, 1159, 1314, 1313, 1678, 1312, 688, 1680, 1311, 1679, 670, 767]))\n",
      "(10, Set([217, 314, 1076, 1618]), 91, Set([930, 931, 516, 933, 554, 913, 534, 535, 536, 537, 932, 286, 575]))\n",
      "(76, Set([481, 482, 899, 1383, 1384, 1385, 1386, 1643, 1122, 879, 880, 882, 1123, 406]), 86, Set([224, 512, 514, 1435, 453, 454, 513, 930, 911, 912, 434, 436, 472, 793, 475, 1436, 222, 223]))\n",
      "(43, Set([1248, 1091, 1092, 1093, 1094, 1095, 1245, 1246, 1247]), 121, Set([1473, 1453, 1454, 1455, 1456, 1457, 1458, 1940, 1438]))\n",
      "(8, Set([1321, 1386, 1837, 878]), 42, Set([749, 423, 424, 620, 333, 621, 1520, 1015, 1016, 1145, 602, 603, 639]))\n",
      "(32, Set([1784, 1783]), 420, Set([640, 1152, 1707, 1671, 1672, 1673, 1151, 1036, 1149, 783, 656, 657, 658, 659, 660, 1051, 1052, 1053, 1054, 1185, 1186, 1187, 1709, 423, 1576, 425, 682, 427, 1708, 1069, 1070, 1071, 1072, 1553, 1593, 1090, 1091, 1706, 331, 334, 719, 1554, 1114, 1533, 785, 1148, 1575, 620, 621, 750, 751, 752, 1150, 1705, 1146, 1147, 636, 637, 638, 639]))\n",
      "(51, Set([1284, 1285, 1320, 1321, 1267, 1302, 1338, 1789]), 40, Set([1702, 1703, 1704, 1177, 1178, 1179, 381]))\n",
      "(20, Set([1728, 358, 394, 1169, 701, 1727]), 51, Set([896, 262, 581, 582, 583, 880, 1011, 1012, 279, 517]))\n",
      "(22, Set([65, 2019, 481, 1871, 1872, 1050, 861]), 26, Set([836, 837, 1327, 472, 1852, 1853, 1854]))\n",
      "(32, Set([196, 197, 1358, 1359, 1360, 857, 377, 858]), 186, Set([8, 265, 10, 11, 283, 936, 555, 556, 557, 558, 951, 952, 953, 954, 266, 64, 1475, 118, 970, 971, 972, 81, 82, 83, 84, 85, 99, 100, 101, 102, 103, 246]))\n",
      "(27, Set([1312, 1329, 1347, 1364, 1365]), 22, Set([98, 295, 8, 45, 296, 601]))\n",
      "(16, Set([1691, 1692]), 60, Set([865, 866, 867, 868, 1873, 488, 489, 491, 847, 849, 850, 851, 1333, 1334, 1335]))\n",
      "(25, Set([512, 1899, 1394, 78, 241, 242, 1395]), 55, Set([1125, 1126, 689, 362, 363, 364, 1650, 145, 690, 691, 1649]))\n",
      "(15, Set([289, 272, 1426, 307, 560, 543]), 25, Set([960, 1891, 1521, 1522, 979, 922]))\n",
      "(25, Set([1552, 1091, 1220, 1573, 1709, 1072, 2003, 1092]), 142, Set([896, 897, 913, 914, 915, 536, 930, 931, 932, 552, 553, 949, 950, 1470, 1471, 1347, 1348, 1974, 1487, 1488, 1489, 1956, 1382, 878, 879, 880, 1973]))\n",
      "(17, Set([2060, 1627, 1732]), 86, Set([35, 36, 486, 1332, 1097, 844, 845, 846, 1871, 1331, 468, 53, 342, 215, 664, 665, 666, 863, 2069, 341]))\n",
      "(15, Set([1184, 716, 717, 1183]), 16, Set([953, 971, 972, 1438, 1044]))\n",
      "(15, Set([16, 17, 786, 1253, 72]), 59, Set([1312, 1313, 1832, 1833, 845, 826, 1310, 1311]))\n",
      "(9, Set([1478, 1461, 1446, 1477]), 170, Set([1281, 1282, 1283, 1284, 1285, 1803, 1804, 1805, 1806, 410, 411, 796, 797, 798, 799, 800, 801, 162, 1262, 1263, 1264, 1265, 1266, 1267, 377]))\n",
      "(29, Set([1919, 1935, 1918, 1902, 1903]), 301, Set([1408, 1409, 1410, 904, 1929, 1551, 1552, 1553, 1554, 920, 921, 922, 543, 544, 560, 561, 562, 957, 958, 2001, 2002, 2003, 597, 598, 993, 994, 1892, 1893, 1894, 1387, 1388, 1389, 1391, 1010, 1011, 1012, 1013, 1910, 1911, 1912, 1913, 1405, 1406, 1407]))\n",
      "(37, Set([1601, 2051, 105, 1363, 877, 1361, 1362, 499, 86, 248]), 45, Set([1345, 1868, 1867, 876, 877, 1486, 1487, 1970, 947, 1972, 1971, 894]))\n",
      "(57, Set([994, 995, 996, 997, 1511, 1512, 1506, 1518, 1517, 1014, 1015, 1508, 1499]), 370, Set([642, 139, 140, 13, 15, 16, 1313, 659, 157, 158, 159, 32, 33, 34, 177, 1314, 2060, 2043, 48, 49, 50, 51, 52, 30, 826, 31, 828, 192, 160, 195, 196, 161, 12, 843, 845, 846, 141, 336, 337, 466, 467, 1295, 827, 1072, 2024, 1312, 2041, 2042, 1073, 2044]))\n",
      "(36, Set([1608, 1628, 1588, 1607]), 12, Set([194, 1915, 738, 1170]))\n",
      "(70, Set([386, 387, 166, 167, 168, 713, 1672, 1113, 26, 1147, 1148]), 35, Set([2048, 2029, 2065, 2066, 2011, 2047]))\n",
      "(34, Set([1472, 1955, 1956, 918, 951, 1470, 1471]), 51, Set([1314, 486, 845, 846, 467, 468, 827, 828]))\n",
      "(34, Set([1003, 776, 777, 619, 620, 1052, 1035, 1207, 604, 639]), 32, Set([1447, 43, 241, 242, 403, 727, 61]))\n",
      "(43, Set([232, 233, 1771, 1772, 882, 174, 50]), 38, Set([1568, 1570, 1027, 1028, 1585, 2019, 2037, 2038, 1567]))\n",
      "(31, Set([418, 1605, 166, 651, 652, 1807, 148, 149, 438, 439]), 12, Set([578, 292, 293, 423, 331, 312]))\n",
      "(31, Set([800, 456, 202, 203, 236, 1269, 253]), 44, Set([645, 646, 647, 432, 625, 341, 342, 1498, 604, 997]))\n",
      "(31, Set([1539, 1540, 1068, 1069, 1556, 1210]), 21, Set([736, 737, 1168, 1688, 1167]))\n",
      "(16, Set([971, 972, 574, 575]), 122, Set([1410, 1411, 965, 1894, 1895, 1002, 1003, 1004, 1005, 1913, 1546, 1022, 1526, 1527, 984, 1525, 1914, 1021, 926, 1023]))\n",
      "(46, Set([1632, 1633, 1094, 1613, 1614, 1615, 2064, 2066, 2063, 1631]), 36, Set([1537, 1538, 1539, 1520, 1521, 1971, 1556, 1972]))\n",
      "(39, Set([1453, 2003, 2004, 1016, 1469, 1470]), 16, Set([1639, 1640, 1641, 1642, 1643, 1103]))\n",
      "(42, Set([896, 516, 1932, 911, 912, 913, 504, 1412]), 18, Set([1304, 818, 1843, 692, 728, 1844]))\n",
      "(47, Set([1152, 1927, 1928, 10, 139, 718, 719, 1406, 527, 1405, 30, 1407]), 12, Set([1137, 1138, 1171, 1645, 1646]))\n",
      "(65, Set([869, 870, 509, 220, 239, 1337, 57, 58, 59, 60, 221, 223]), 129, Set([1632, 1072, 1090, 1091, 1092, 1093, 1089, 785, 786, 783, 784, 657, 658, 659, 660, 787, 1252, 1251, 1094]))\n",
      "(37, Set([744, 745, 779, 1208, 1209, 1211, 1212, 1213]), 24, Set([1385, 1420, 1454, 1368, 1403, 1437]))\n",
      "(32, Set([808, 809, 1290, 1291, 1292, 1295, 1811, 826]), 20, Set([1223, 429, 244, 1782, 121, 1914]))\n",
      "(51, Set([1280, 421, 811, 813, 1297, 1298, 1299, 149, 150]), 32, Set([811, 451, 452, 813]))\n",
      "(31, Set([704, 163, 164, 109, 379, 380, 381, 703]), 202, Set([1282, 1283, 1284, 1285, 1286, 1803, 1804, 1805, 1806, 1807, 1808, 1303, 1821, 1823, 1824, 1825, 1826, 1199, 1164, 1233, 1264, 1265, 1268]))\n",
      "(22, Set([1568, 329, 1163, 1999, 2000, 694, 351]), 28, Set([513, 710, 1394, 1395, 1177, 26, 1178, 62, 63]))\n",
      "(52, Set([356, 357, 358, 359, 681, 1703, 698, 699, 700, 701]), 33, Set([2016, 775, 776, 1070, 1595, 1597, 2014, 2015]))\n",
      "(15, Set([1157, 1644, 813, 814, 1874, 1334]), 42, Set([1824, 1825, 1826, 1840, 1297, 1811, 1300, 1812, 1821, 1822, 1823]))\n",
      "(47, Set([1165, 1166, 1167, 1168, 1169, 1686, 1687, 1690, 735]), 73, Set([128, 1510, 297, 298, 1003, 1004, 1998, 113, 114, 115, 20, 21, 278, 1528, 1002, 127]))\n",
      "(26, Set([618, 94, 1575]), 42, Set([32, 196, 1068, 468, 333, 334, 1069, 51, 52, 2037, 2038, 121, 638]))\n",
      "(21, Set([866, 1371, 1372]), 109, Set([1660, 1659, 1138, 1137, 1640, 1641, 1642, 1100, 1101, 1103, 817, 818, 725, 1303, 1304, 762, 763, 668, 1658]))\n",
      "(39, Set([71, 72, 232, 250, 251, 252]), 62, Set([1729, 1243, 1765, 1207, 1659, 1660, 1694, 1695]))\n",
      "(77, Set([704, 1216, 706, 739, 740, 741, 1179, 744, 747, 1215, 1171, 1172, 1174, 1175, 1178, 379, 703]), 62, Set([192, 384, 1350, 46, 47, 48, 49, 211, 862, 1208, 863, 190, 191]))\n",
      "(9, Set([769, 732, 677, 806]), 21, Set([1824, 67, 612, 208, 209, 1303]))\n",
      "(22, Set([507, 508, 871]), 52, Set([1640, 1675, 1117, 1118, 1639]))\n",
      "(22, Set([739, 1700, 1699, 1175]), 19, Set([1988, 1989, 1990, 1480, 1481, 1460, 1500]))\n",
      "(30, Set([1675, 132, 299, 1676, 365, 116, 117]), 60, Set([326, 327, 329, 1069, 654, 655, 2068, 2069, 2070, 1615, 1071]))\n",
      "(33, Set([1572, 1573, 621, 13, 468, 52, 1052, 317]), 23, Set([646, 1095, 1257, 1258, 647, 628, 629, 990]))\n",
      "(20, Set([1000, 945, 1018, 1934, 1558]), 159, Set([10, 1292, 1051, 1052, 1053, 46, 47, 823, 443, 444, 1290, 191, 192, 193, 333, 462, 463, 2003, 2019, 315, 2020, 2021, 445, 117, 118, 637, 638]))\n",
      "(46, Set([39, 363, 398, 399, 400, 401, 57, 58, 922]), 181, Set([7, 361, 42, 43, 44, 45, 46, 47, 205, 147, 148, 149, 150, 397, 152, 153, 154, 399, 188, 189, 190]))\n",
      "(13, Set([1176, 1705, 1740, 1741, 1742]), 10, Set([1164, 772, 733, 1646, 1647]))\n",
      "(18, Set([1304, 1305, 1306, 1851, 1303]), 20, Set([1369, 1370, 1894, 1351]))\n",
      "(9, Set([1034, 1554, 1534, 430]), 17, Set([904, 217, 506, 507, 469]))\n",
      "(36, Set([1642, 1643, 1644, 1645, 1679, 1714]), 79, Set([1872, 1329, 838, 39, 40, 41, 839, 204, 205, 206, 1331, 1328, 840, 1330, 19, 20, 478, 479]))\n",
      "(53, Set([4, 5, 326, 327, 205, 307, 632, 633, 60]), 71, Set([1090, 554, 1092, 1253, 264, 265, 266, 1091, 785, 659, 660, 282, 283, 1436, 426, 318, 319]))\n",
      "(53, Set([997, 583, 584, 585, 567, 572, 573, 574]), 53, Set([1568, 1027, 2021, 1045, 1046, 1567]))\n",
      "(14, Set([899, 1414, 1415]), 89, Set([1568, 1570, 1571, 1572, 1573, 2025, 1585, 1586, 1587, 2004, 1559, 2003]))\n",
      "(35, Set([550, 902, 903, 904, 967, 527, 528, 968, 966, 1512, 990]), 112, Set([1248, 1249, 1771, 1770, 779, 780, 1247, 1245, 1246, 1624, 1625, 1211, 1085, 1086, 1087]))\n",
      "(11, Set([1152, 1148, 684]), 53, Set([6, 424, 1777, 1778, 883, 1780, 1779, 505, 506]))\n",
      "(22, Set([1585, 1730, 1243, 1766, 1729]), 34, Set([1385, 269, 593, 594, 917, 539, 540, 2015]))\n",
      "(13, Set([224, 682, 683, 1390, 374, 156]), 11, Set([1290, 1308, 1866, 1758, 1759]))\n",
      "(30, Set([1643, 308, 309, 310]), 49, Set([1216, 1185, 1218, 1249, 1217, 1250]))\n",
      "(10, Set([1864, 1340, 1339, 868]), 43, Set([1705, 1036, 622, 785, 786, 659, 661, 1018, 1054]))\n",
      "(18, Set([353, 354, 378, 357]), 12, Set([1257, 138, 1826, 442, 391]))\n",
      "(132, Set([213, 67, 68, 69, 70, 71, 232, 231, 484, 50, 51, 52, 53, 214, 212, 122, 123, 211, 159]), 18, Set([1368, 1889, 1890, 1870]))\n",
      "(93, Set([235, 73, 75, 236, 237, 55, 56, 92]), 20, Set([194, 773, 938, 939, 528, 242, 243]))\n",
      "(16, Set([1313, 1295, 978, 979, 245, 566]), 94, Set([1056, 1057, 1595, 1971, 1970, 1037, 1038, 1597, 1522, 1074, 1075, 1504, 1018, 1019, 1596, 605, 1503]))\n",
      "(154, Set([834, 1808, 273, 274, 1303, 816, 457, 58, 59, 577, 578, 75, 455, 456, 201, 202, 203, 76, 472, 473, 474, 221, 222, 991, 992, 1809, 1513, 236, 1810, 204]), 27, Set([64, 65, 196, 197, 198, 240, 241]))\n",
      "(76, Set([1152, 720, 35, 36, 681, 682, 683, 684, 143, 144, 1440, 1673, 540, 1151]), 55, Set([1928, 1424, 1910, 1911, 1912, 1405, 1406, 1407]))\n",
      "(28, Set([993, 996, 1009, 987, 988, 989, 990]), 108, Set([1124, 1125, 1126, 1127, 1128, 1161, 1162, 1163, 1164, 1647, 1648, 1649, 1650, 1683, 1684, 695, 1681]))\n",
      "(28, Set([1840, 1353, 1354, 1822, 1823]), 25, Set([835, 1828, 236, 237, 238, 559, 1846, 220, 221]))\n",
      "(39, Set([1381, 876, 877, 878, 1903, 1904, 1902, 822, 858, 1757]), 14, Set([674, 707, 708, 710, 706, 1143]))\n",
      "(282, Set([1793, 799, 800, 801, 802, 803, 804, 1198, 1199, 1200, 440, 441, 1231, 1232, 1233, 1234, 1235, 1236, 727, 1754, 1755, 1269, 762, 763, 764, 765, 766, 767]), 95, Set([1472, 866, 867, 550, 849, 1960, 1961, 1959, 850, 909, 529, 530, 531, 1493, 1335, 1978, 1979, 510, 511]))\n",
      "(30, Set([2059, 1561, 2027, 2043, 1527]), 37, Set([356, 357, 358, 1644, 141, 142, 717, 695, 1126, 1125]))\n",
      "(16, Set([962, 998, 1933, 1934, 944, 1430]), 68, Set([1160, 1161, 42, 235, 237, 238, 1684, 693, 728, 729, 58, 1162, 1685]))\n",
      "(25, Set([1372, 1204, 444, 1373, 870]), 229, Set([1, 523, 1173, 1174, 1175, 1176, 1695, 416, 417, 1698, 1699, 164, 1696, 1732, 1733, 1734, 1697, 73, 1700, 91, 741, 380, 109, 381, 1138, 1139, 1659, 1660, 1661, 1662]))\n",
      "(56, Set([896, 1380, 1381, 518, 630, 87, 88, 249, 250, 895]), 18, Set([1295, 819, 821, 1294, 1293]))\n",
      "(13, Set([1344, 1865, 1866, 1871, 1343]), 78, Set([1475, 1476, 1509, 1510, 2024, 1980, 1962, 1005, 2026, 2025, 1493, 1494, 2009, 1508, 987, 988, 1021, 1022]))\n",
      "(14, Set([2057, 2059, 2060, 2061, 1630]), 85, Set([1600, 1217, 1218, 1093, 1094, 1616, 1701, 786, 1664, 1663, 1253]))\n",
      "(18, Set([1601, 1060, 589, 1431]), 98, Set([1, 1351, 37, 38, 487, 489, 1207, 19, 469, 55, 56, 217, 218, 865]))\n",
      "(71, Set([1568, 1569, 1186, 1187, 1222, 785, 1069, 1070, 752, 753, 786, 1567]), 72, Set([1092, 2044, 1613, 1614, 1147, 1148, 2045, 2046, 1183]))\n",
      "(20, Set([936, 1944, 90, 540]), 34, Set([1541, 621, 622, 623, 1523, 1524, 314, 1019, 316]))\n",
      "(10, Set([1040, 177, 179, 321]), 27, Set([1985, 1986, 1966, 1967, 1947, 1948, 1949, 1950]))\n",
      "(76, Set([996, 549, 1551, 1552, 2001, 1013, 1918, 1919]), 57, Set([899, 900, 522, 1403, 1404, 1386]))\n",
      "(72, Set([1984, 997, 1483, 1967, 1968, 977, 978, 979, 1499, 1500, 1501, 1502, 1983]), 23, Set([1152, 684, 1709, 1710, 1745, 1151]))\n",
      "(17, Set([1954, 855, 549, 550, 495]), 51, Set([1574, 1575, 617, 109, 110, 2009, 308, 309, 2007, 2008, 1049, 1051]))\n",
      "(24, Set([1823, 1803, 1805, 1822, 1821]), 40, Set([1609, 1067, 1046, 1047, 1627, 1628, 1630, 1087]))\n",
      "(141, Set([2033, 303, 304, 1886, 629, 321, 323, 1348, 1349, 1869, 87, 88, 89, 862, 1887, 1888, 1889, 232, 105, 106, 107, 880, 881, 501, 502, 233, 234]), 40, Set([1384, 1419, 1453, 1872, 1400, 1401]))\n",
      "(25, Set([1344, 1379, 1900, 1814, 1849, 1850, 1918]), 80, Set([1473, 994, 1027, 1474, 1458, 595, 980, 981, 596]))\n",
      "(188, Set([1507, 1508, 1509, 1510, 1511, 1994, 1995, 1996, 1997, 1978, 1976, 1977, 1525, 1526, 1527, 1528, 1529, 1530, 987, 989]), 424, Set([406, 6, 7, 8, 277, 278, 407, 408, 409, 154, 155, 156, 157, 158, 293, 294, 295, 168, 169, 298, 311, 312, 313, 314, 315, 373, 192, 193, 374, 331, 1762, 372, 80, 82, 83, 1763, 96, 97, 98, 99, 100, 101, 296, 114, 115, 116, 117, 118, 297, 638]))\n",
      "(25, Set([945, 1900, 1413, 1414]), 17, Set([1671, 1131, 1652, 1688, 1723, 1724]))\n",
      "(63, Set([1984, 1985, 1515, 1516, 1517, 1966, 1965, 1946, 1947, 1948, 1949, 1983]), 77, Set([160, 357, 359, 210, 479, 156, 157, 158, 159]))\n",
      "(33, Set([1948, 1946, 1459, 1947]), 53, Set([1683, 1681, 1641, 1642, 1643, 1201, 1682, 1203, 1204, 1205, 1684, 1242, 1685]))\n",
      "(15, Set([485, 486, 814, 817, 793, 794]), 115, Set([1692, 1691, 1700, 1733, 1690, 1116, 1133, 1134, 1734, 1656, 1731, 1732, 1654, 1655, 1112, 1113, 1114, 1115, 700, 1146]))\n",
      "(10, Set([656, 419, 380]), 32, Set([192, 1312, 421, 171, 463, 1624, 824, 155, 1084, 445]))\n",
      "(17, Set([641, 316, 1597, 2049]), 35, Set([1368, 483, 1366, 463, 1105, 1106, 694, 1367, 408]))\n",
      "(295, Set([896, 897, 516, 265, 266, 267, 268, 269, 270, 915, 535, 537, 538, 539, 540, 934, 554, 555, 521, 87, 88, 1401, 247, 248, 249, 250, 251, 252]), 108, Set([640, 641, 642, 135, 732, 172, 173, 334, 335, 371, 372, 1758, 2008, 1794, 731, 316, 1054, 1055]))\n",
      "(12, Set([289, 290, 307, 325, 1729]), 31, Set([768, 807, 1276, 366, 367, 346, 380, 1818, 767]))\n",
      "(46, Set([1923, 1904, 1905, 1906, 1365, 1942, 1401, 1886, 1941]), 18, Set([2045, 2043, 2044, 1045, 1589]))\n",
      "(71, Set([352, 528, 675, 677, 529, 1426, 240, 241, 242, 1427, 1109, 1110, 923]), 44, Set([1860, 1125, 1126, 439, 728, 818, 729, 440, 441, 764, 765, 1861]))\n",
      "(49, Set([1378, 1379, 836, 873, 874, 1901, 1902, 816, 818, 855, 1919]), 25, Set([1009, 1010, 595, 1532, 1533]))\n",
      "(11, Set([864, 881, 846, 486]), 23, Set([198, 648, 197, 126, 1296]))\n",
      "(15, Set([1536, 1534, 1535]), 78, Set([64, 224, 612, 832, 103, 104, 205, 206, 1837, 304, 1298, 84, 475, 833]))\n",
      "(26, Set([587, 1611, 2060, 2061, 622, 1435]), 48, Set([1226, 1227, 1261, 1262, 1263, 1715, 1750, 1751, 793, 794, 795]))\n",
      "(15, Set([1016, 1017, 1995, 1046, 1030]), 21, Set([2051, 2049, 2050, 1619, 1620]))\n",
      "(80, Set([1504, 4, 583, 584, 397, 398, 146, 1503, 1501, 1502, 95]), 137, Set([1025, 1026, 1510, 1511, 1512, 1546, 1996, 1997, 1998, 1007, 1008, 1526, 1527, 1528, 1529, 1530]))\n",
      "(63, Set([1344, 1864, 1323, 1324, 1325, 1327, 1873, 855, 1335, 1341, 1342, 1343]), 85, Set([1696, 1731, 708, 745, 746, 747, 1174, 1178, 1214]))\n",
      "(85, Set([1731, 1732, 1769, 1661, 1139, 2036, 1173, 1174, 1175, 1208, 1209, 1082, 1211, 1210, 1246]), 45, Set([101, 102, 297, 298, 299, 1554, 467, 468, 601, 602, 828]))\n",
      "(247, Set([918, 1158, 520, 521, 522, 1422, 1680, 1681, 404, 405, 406, 407, 152, 153, 1157, 44, 48, 692, 190, 191, 192, 67, 211, 728, 729, 730, 731, 1122, 1123, 1124, 230, 231, 232, 369, 370, 371, 917]), 220, Set([1789, 1193, 1195, 1228, 1229, 1230, 1231, 1265, 1266, 1790, 1750, 1751, 1752, 1753, 1754, 1787, 1788, 1786, 1785]))\n",
      "(87, Set([897, 482, 483, 900, 918, 1404, 898, 1422, 463, 464, 899, 916, 501, 502, 1943, 1421, 1925, 1403, 444, 917]), 25, Set([1986, 1987, 779, 780, 653, 654, 1519, 1517]))\n",
      "(150, Set([385, 133, 25, 26, 419, 420, 421, 422, 167, 168, 169, 170, 171, 330, 331, 332, 109, 110, 111, 112, 113, 115, 116]), 33, Set([1763, 1764, 1800, 1653, 1654, 1690, 1726, 1727]))\n",
      "(116, Set([1408, 1931, 1896, 1899, 1932, 1933, 1934, 1391, 1913, 1914, 1915, 1916, 1917]), 25, Set([625, 1067, 1070, 304, 305, 626, 1082, 1083, 637]))\n",
      "(22, Set([953, 954, 1475, 1476]), 61, Set([69, 6, 7, 8, 9, 10, 110, 111, 112, 216]))\n",
      "(18, Set([1056, 1057, 1576, 1577, 1556, 1557]), 12, Set([1088, 1984, 1251, 1985, 1737, 1014]))\n",
      "(27, Set([867, 524, 1981, 1336, 541, 542]), 154, Set([258, 259, 1986, 1304, 1988, 1826, 1499, 1966, 1983, 1984, 1985, 834, 835, 836, 837, 1479, 457, 458, 205, 978, 1495, 1498, 475, 1515, 1516, 1517, 1518, 240]))\n",
      "(56, Set([579, 292, 291, 562, 1426, 941, 274, 563, 633, 1082]), 21, Set([1232, 1786, 1788, 1789, 1231]))\n",
      "(161, Set([1028, 1030, 1031, 1550, 1551, 1553, 1554, 1048, 1567, 1568, 1569, 1570, 1571, 1572, 2000, 2001, 2002, 2003, 2019, 2020, 2021, 1010]), 79, Set([1976, 971, 1977, 267, 1978, 1815, 465, 1491, 1492, 213, 825, 824, 249, 826, 987, 988, 986]))\n",
      "(67, Set([1792, 1793, 1812, 1813, 1718, 1719, 1755, 1756, 1757]), 21, Set([130, 363, 1107, 365, 146, 691, 1108]))\n",
      "(338, Set([781, 2062, 2064, 1068, 1070, 1071, 1072, 1073, 1593, 1087, 1088, 1089, 1090, 1091, 1092, 1608, 1609, 1610, 1611, 1612, 1613, 1614, 2061, 1627, 1628, 1629, 1630, 1631, 1252]), 24, Set([1576, 1577, 1293, 1294, 464, 465, 825, 317]))\n",
      "(48, Set([1440, 674, 934, 935, 136, 1105, 247, 537, 538, 1439, 351]), 17, Set([1776, 1773, 1774, 1775]))\n",
      "(26, Set([1056, 2048, 564, 920, 921, 1597, 1406]), 17, Set([544, 545, 943]))\n",
      "(29, Set([36, 144, 377, 378, 1691, 700, 702]), 63, Set([1954, 1955, 1956, 1957, 198, 71, 968, 969, 554, 1975, 268, 1958, 1976, 89]))\n",
      "(408, Set([384, 22, 23, 1177, 39, 40, 1736, 182, 73, 184, 57, 58, 59, 60, 1213, 199, 200, 201, 202, 203, 76, 56, 469, 470, 471, 472, 217, 218, 219, 220, 744, 236, 237, 238, 204, 55]), 21, Set([1318, 1319, 212, 213, 214, 1855]))\n",
      "(25, Set([1025, 1026, 1546, 1561, 2008, 2009, 2010]), 197, Set([1063, 1960, 1977, 1978, 1979, 1980, 326, 631, 1490, 1081, 602, 603, 1506, 1507, 1508, 616, 617, 618, 1000, 1001, 632, 633, 634, 1002]))\n",
      "(18, Set([608, 968, 1940, 1941, 950]), 49, Set([1216, 385, 386, 131, 132, 40, 747, 1218, 1775, 148, 149, 182, 184]))\n",
      "(383, Set([646, 647, 663, 787, 788, 661, 662, 791, 664, 665, 666, 1075, 1076, 1077, 1078, 1079, 1080, 1601, 1093, 1094, 1095, 1096, 1097, 1098, 1614, 1616, 1617, 1618, 1619, 1620, 1629, 1635, 1636, 1637, 1256, 1257, 789]), 21, Set([864, 1636, 485, 339, 215, 124, 863]))\n",
      "(32, Set([1742, 1777, 1778, 1779, 1690, 1149]), 16, Set([1948, 1443, 1444, 1965, 1947]))\n",
      "(40, Set([386, 387, 168, 169, 170, 112, 1673, 310, 713, 1148, 714]), 22, Set([96, 329, 530, 1245, 1918]))\n",
      "(231, Set([131, 132, 133, 134, 135, 691, 154, 667, 156, 669, 158, 671, 1136, 685, 49, 50, 51, 52, 670, 692, 1119, 703, 704, 705, 706, 348, 349, 350, 351, 366, 367, 368, 369, 1138]), 193, Set([1440, 931, 932, 933, 934, 935, 936, 557, 1455, 953, 951, 952, 537, 1434, 1435, 1436, 1437, 1438, 1439]))\n",
      "(45, Set([832, 487, 849, 471, 830, 831]), 11, Set([1081, 1082, 1621, 1622]))\n",
      "(18, Set([1914, 1948, 1445, 1463]), 46, Set([2048, 1796, 1797, 426, 1615, 2064, 661, 374, 2045, 2046, 2047]))\n",
      "(52, Set([1388, 1930, 1387, 1932, 1933, 1934, 1912]), 25, Set([2055, 1532, 1621, 1550, 1567]))\n",
      "(11, Set([64, 26, 1435, 44, 930]), 24, Set([1548, 1546, 1547, 1044, 1566]))\n",
      "(21, Set([360, 756, 1259, 396, 1260]), 70, Set([1958, 1479, 1480, 1481, 1482, 1483, 1484, 1485, 1486, 976, 1489, 1959, 1961, 1498]))\n",
      "(75, Set([160, 161, 35, 36, 1289, 1291, 1810, 195, 180, 1811, 410, 411, 412, 447]), 19, Set([1153, 1226, 1190, 1118, 1135]))\n",
      "(200, Set([142, 682, 1245, 1766, 1209, 1210, 699, 700, 701, 702, 714, 698, 1211, 356, 357, 358, 359, 360, 1212, 746, 373, 374, 375, 376, 377, 378]), 71, Set([97, 1540, 998, 7, 43, 1522, 1264, 1265, 1266, 437, 438, 186, 797, 798]))\n",
      "(88, Set([1356, 839, 808, 809, 807, 1292, 1293, 1294, 1295, 1373, 1891, 1358, 1325, 1357, 1324, 824, 825, 1242, 1340, 1341]), 127, Set([1662, 706, 163, 164, 165, 109, 110, 1139, 707, 1140, 1141, 708, 91, 381, 382, 1663]))\n",
      "(73, Set([736, 865, 835, 836, 837, 1351, 867, 458, 460, 461, 819, 852, 851, 443, 444, 735]), 25, Set([832, 1858, 1860, 1861, 1319, 182, 831]))\n",
      "(136, Set([1602, 1060, 1061, 1062, 1584, 1620, 1079]), 16, Set([1284, 1829, 1831, 1801, 1804, 1833]))\n",
      "(18, Set([1954, 1955, 1973, 1974]), 17, Set([32, 136, 669, 668, 349, 350]))\n",
      "(54, Set([1856, 1377, 1378, 1379, 1380, 936, 1419, 1421, 1875, 1396, 1877, 1876, 892, 1855]), 96, Set([1056, 1057, 1058, 1059, 1060, 1541, 1097, 1098, 1579, 1580, 1581, 1040, 1041, 1078, 1079, 1560]))\n",
      "(24, Set([834, 835, 492, 1410, 817, 887, 888, 889]), 24, Set([865, 243, 244, 245]))\n",
      "(24, Set([256, 991, 492, 255]), 38, Set([1024, 1, 2, 1025, 295, 1548, 1023, 605, 606, 95]))\n",
      "(65, Set([928, 258, 529, 514, 910, 912, 273, 530, 531, 532]), 151, Set([1936, 1432, 1433, 1434, 928, 929, 291, 292, 1063, 1449, 1450, 1451, 1452, 1453, 1454, 948, 1081, 961, 962, 581, 582, 613, 614, 615]))\n",
      "(24, Set([752, 737, 1254, 358]), 54, Set([288, 71, 72, 107, 1360, 17, 1362, 500, 501, 88, 89, 90]))\n",
      "(172, Set([704, 705, 1218, 1219, 389, 390, 1254, 425, 426, 747, 748, 749, 750, 751, 752, 785, 786, 787, 788, 789, 713]), 74, Set([1725, 1167, 1205, 1687, 1688, 1689, 1242, 1723, 1724, 1690]))\n",
      "(15, Set([832, 1376, 1315, 870, 1901, 831]), 33, Set([1223, 717, 1199, 697, 1755, 1756, 1757]))\n",
      "(10, Set([56, 217, 114, 235, 55]), 26, Set([1698, 1733, 1734, 1769, 1770, 1662]))\n",
      "(20, Set([1638]), 58, Set([1409, 150, 905, 906, 1931, 1932, 1930, 509, 402, 726, 185, 221]))\n",
      "(38, Set([169, 815, 816, 658, 186, 1822, 1823]), 81, Set([37, 404, 436, 403, 402, 147, 148, 149, 183, 184, 185, 187, 188, 21]))\n",
      "(13, Set([1440, 1940, 1438, 1439]), 120, Set([1157, 1158, 1159, 1160, 1161, 1681, 673, 1196, 1717, 1104, 1233, 726, 728, 1755, 1122, 1123, 1105, 1269, 1270, 1271, 1661, 1662]))\n",
      "(171, Set([1920, 1921, 1414, 1415, 1416, 1417, 1418, 1419, 909, 911, 912, 913, 1939, 535, 536, 1434, 1435, 1937, 106, 1397, 1398, 1399, 1400, 1918, 1919]), 21, Set([1608, 1610, 1611, 1613, 1615, 1585, 1587]))\n",
      "(20, Set([1216, 1217, 755, 1214, 1215]), 194, Set([262, 263, 1308, 966, 1991, 1326, 1972, 568, 569, 1504, 838, 839, 840, 841, 842, 460, 461, 462, 463, 981, 982, 983, 984, 857, 858, 479, 480, 481, 227, 228, 245, 246, 1990]))\n",
      "(39, Set([1893, 937, 938, 1423, 1424, 1910, 1911, 1477]), 14, Set([720, 681, 682, 683, 1651]))\n",
      "(93, Set([609, 610, 612, 1008, 103, 10, 11, 44, 45, 592, 435, 436, 793, 186, 187, 794]), 16, Set([1828, 1829, 1288, 1716, 1269, 1753]))\n",
      "(57, Set([683, 1130, 1131, 1132, 1133, 1686, 1687]), 29, Set([608, 603, 590, 591, 304, 306, 595, 302, 599, 303, 605]))\n",
      "(24, Set([1612, 1437, 624, 1073, 572, 573]), 27, Set([1107, 1127, 1165, 1166, 1167, 1203, 1204, 1241]))\n",
      "(70, Set([1347, 1380, 1381, 1382, 1383, 878, 879, 880, 1330, 1939, 1940, 1400]), 41, Set([1551, 1552, 1590, 1591, 1532, 1533]))\n",
      "(50, Set([577, 615, 616, 1609, 1066, 1067, 1068, 559, 560, 1589, 1048, 1049, 1050, 635]), 66, Set([1664, 1698, 1699, 1125, 1647, 1648, 1106, 1107, 1108, 1109, 1686, 1662, 1663]))\n",
      "(150, Set([1424, 542, 544, 1444, 1445, 939, 940, 941, 942, 1460, 1461, 1462, 1463, 955, 956, 957, 958, 959, 1478, 1480, 1481, 1482]), 29, Set([293, 294, 327, 583, 582, 112, 980, 310, 379, 166]))\n",
      "(113, Set([768, 769, 1034, 408, 1051, 28, 29, 155, 1052, 313, 314, 315, 316, 332, 333, 334, 618, 619, 620, 116, 117, 636, 637]), 26, Set([289, 937, 938, 559, 560, 308, 631, 632]))\n",
      "(41, Set([2056, 2057, 2058, 2059, 2021]), 74, Set([1440, 935, 936, 972, 558, 1422, 952, 953, 954, 1439]))\n",
      "(16, Set([135, 1768, 460, 462, 154, 1212]), 734, Set([384, 129, 130, 131, 132, 133, 385, 386, 143, 1177, 388, 1179, 389, 419, 420, 421, 166, 167, 168, 169, 170, 743, 692, 671, 705, 706, 707, 708, 709, 710, 712, 345, 346, 347, 348, 349, 350, 741, 422, 742, 359, 744, 745, 746, 423, 364, 369, 378, 381, 382, 383]))\n",
      "(18, Set([1912, 42, 1391, 222, 151]), 35, Set([2, 3, 4, 5, 74, 98, 301, 56, 612, 37]))\n",
      "(207, Set([128, 129, 131, 397, 398, 399, 145, 146, 147, 20, 149, 689, 343, 344, 1122, 1123, 1124, 1125, 361, 362, 1647, 1648, 19, 148, 127, 21]), 84, Set([1152, 1186, 35, 36, 1708, 395, 396, 1709, 718, 719, 720, 18, 1187]))\n",
      "(56, Set([1787, 357, 358, 1788, 140, 395, 396, 1231, 1232, 1786, 374, 730, 731, 732, 1754]), 70, Set([430, 431, 432, 180, 342, 126]))\n",
      "(30, Set([1688, 1129, 1130, 1148, 1777]), 183, Set([989, 990, 980, 1494, 983, 984, 986, 987, 988, 1501, 1502, 1503, 1504, 1505, 1506, 1507, 1508, 997, 999, 1001, 1002, 1511, 1517, 1518, 1519, 1520, 1522, 1492]))\n",
      "(32, Set([1568, 2018, 2019, 2020, 2021, 1999, 1567]), 23, Set([1768, 1730, 1731, 1732, 1767]))\n",
      "(13, Set([1257, 1778, 2052, 1741]), 372, Set([768, 769, 1161, 1162, 1163, 1164, 1165, 1169, 1170, 405, 407, 408, 1197, 1198, 1199, 1200, 693, 694, 695, 696, 1723, 700, 728, 729, 730, 731, 732, 733, 735, 736, 738, 368, 369, 370, 372, 765]))\n",
      "(15, Set([1872, 1833, 1852, 1853, 1854]), 301, Set([768, 1159, 1160, 1162, 1676, 1165, 1678, 1679, 1680, 1681, 409, 410, 411, 412, 1712, 1199, 1200, 1713, 1714, 1715, 1716, 1717, 196, 197, 198, 1677, 215, 216, 730, 731, 732, 733, 1122, 1642, 1643, 765, 767]))\n",
      "(23, Set([1378, 1864, 1899, 1845, 1846, 1918]), 47, Set([840, 841, 463, 464, 1864, 1341, 1879, 1880, 1881, 378, 413, 1342]))\n",
      "(34, Set([1508, 1509, 1990, 1991, 1992, 1993, 1007]), 33, Set([865, 1390, 1391, 884, 1914, 1915, 1916, 1917]))\n",
      "(11, Set([1583, 1494, 1007]), 255, Set([1088, 779, 780, 781, 1171, 1172, 1173, 1174, 1069, 2043, 1210, 1086, 1087, 704, 1089, 1090, 1609, 1610, 1611, 1612, 1613, 1614, 1627, 1250, 1251, 740, 741, 742, 743, 2028, 2029, 2030, 1135, 703, 2044, 2045, 2046]))\n",
      "(174, Set([1410, 1411, 1412, 908, 924, 925, 926, 547, 548, 566, 584, 585, 586, 601, 602, 603, 604, 605, 997, 998, 999, 1000, 1897, 1015, 1016, 1017, 1018]), 26, Set([288, 324, 107, 108, 270, 306, 342, 1080, 89]))\n",
      "(18, Set([416, 1, 163, 164, 165]), 52, Set([1863, 1864, 1865, 1866, 1867, 1328, 1329]))\n",
      "(53, Set([1807, 1789, 745, 1771, 1772, 1213, 1232, 691, 727, 1177, 1178, 1231, 764, 349]), 168, Set([2048, 2066, 2067, 2068, 664, 34, 178, 54, 322, 1093, 1094, 846, 1616, 1617, 1618, 1619, 340, 341, 215, 1633, 1634, 1635, 1636, 1620, 124, 125, 126]))\n",
      "(17, Set([632, 633, 330, 635, 332]), 94, Set([1430, 1478, 1479, 1948, 1963, 1964, 1965, 1936, 1428, 1429, 1462, 1463, 1945, 1946, 1916, 1918, 1461]))\n",
      "(24, Set([1712, 1713, 1117, 1750]), 104, Set([832, 1826, 835, 1828, 1285, 1286, 1287, 1829, 816, 1830, 469, 1302, 1303, 1304, 1305, 1306, 1301]))\n",
      "(17, Set([1449, 1970, 1971, 1972, 1988]), 90, Set([1920, 1921, 1378, 1900, 1901, 1358, 1359, 1939, 1940, 1878, 1879, 1880]))\n",
      "(79, Set([1579, 1003, 1576, 1577, 1035, 1036, 1037, 1038, 2025, 1559, 986, 2042]), 43, Set([704, 705, 740, 741, 776, 777, 1135, 344, 379, 703]))\n",
      "(87, Set([1893, 870, 1356, 1389, 1390, 1842, 1843, 1844, 1910, 1911, 1912, 1337, 1370, 1371, 1372, 1373]), 258, Set([402, 278, 279, 280, 1993, 798, 585, 42, 43, 44, 45, 437, 438, 567, 440, 185, 186, 187, 587, 1990, 1991, 1992, 457, 586, 439, 1229, 1230, 79, 80, 81, 82, 1507, 1504, 1505, 1506, 99, 1508, 1000, 1001, 1786, 1787]))\n",
      "(81, Set([192, 33, 1859, 1860, 837, 1320, 1321, 1322, 460, 431, 176, 210, 432, 791, 792, 1861]), 272, Set([1287, 1288, 1289, 1291, 1812, 801, 803, 804, 809, 1271, 1233, 1234, 1261, 1264, 1266, 1267, 1268, 1269, 1270, 1783, 1272, 1785, 1274, 1791]))\n",
      "(24, Set([1616, 1618, 1590, 1591, 1593, 1594]), 38, Set([966, 967, 1451, 1452, 2066, 984, 985, 607]))\n",
      "(14, Set([626, 627, 628, 1037, 2005]), 155, Set([1288, 400, 1810, 147, 20, 149, 798, 799, 800, 801, 163, 815, 1813, 437, 438, 439, 440, 441, 1811, 1269, 1270, 1271, 1812, 763, 764, 127]))\n",
      "(255, Set([1950, 1951, 1447, 1448, 940, 942, 943, 944, 1463, 1464, 1465, 1466, 1467, 1468, 960, 961, 962, 963, 1989, 1481, 1482, 1483, 1484, 1487, 978, 979, 1498]), 612, Set([1153, 1154, 1155, 1156, 1157, 1675, 1676, 1677, 1678, 1679, 1680, 1711, 1191, 685, 687, 1712, 1713, 1714, 1099, 1100, 1101, 1102, 721, 722, 1117, 1118, 1119, 1120, 1121, 1639, 1640, 1641, 1642, 1643, 1644]))\n",
      "(11, Set([1736, 1699, 1771, 1663]), 23, Set([997, 998, 1611, 1484, 603, 1053]))\n",
      "(201, Set([525, 891, 1380, 1381, 73, 235, 236, 237, 238, 239, 1378, 1379, 1366, 55, 889, 890, 507, 508, 509, 510]), 126, Set([1225, 1783, 397, 399, 1747, 434, 435, 436, 437, 758, 759, 760, 761, 762, 795, 796, 797, 757]))\n",
      "(36, Set([1546, 1070, 1086, 1084, 1245, 1246, 1087]), 46, Set([672, 673, 674, 707, 676, 709, 710, 705, 1674, 1139, 1140, 1142, 708, 704, 671]))\n",
      "(13, Set([664, 1616, 395, 396, 431]), 52, Set([457, 202, 203, 204, 1815, 818, 820, 1814, 55, 1290]))\n",
      "(50, Set([769, 354, 807, 1772, 770, 409, 1180, 1214, 1215]), 85, Set([1826, 454, 455, 456, 41, 458, 1303, 111, 817, 309, 457, 632, 1585, 1304, 1845]))\n",
      "(94, Set([856, 1557, 1052, 1573, 1574, 1575, 1576, 297, 1593, 64, 1864, 1865, 2008, 478, 99, 2023, 2024, 2025, 620, 621, 622, 1577]), 25, Set([1873, 1333, 757, 830, 829]))\n",
      "(29, Set([225, 226, 1412, 1414, 513, 1415, 208, 1650, 407, 1918]), 82, Set([872, 1356, 1357, 1358, 885, 886, 887, 505, 506, 1372, 1373, 1374, 1375]))\n",
      "(96, Set([1120, 1121, 1122, 1156, 1157, 1158, 1159, 1314, 1313, 1678, 1312, 688, 689, 1680, 1311, 1679, 670, 767]), 19, Set([360, 105, 143, 986, 1490, 378, 987, 285]))\n",
      "(88, Set([930, 931, 932, 933, 554, 913, 915, 949, 534, 535, 536, 537, 575]), 159, Set([1794, 1795, 1796, 1167, 1168, 1169, 684, 1202, 1203, 1204, 1205, 1723, 1724, 1725, 1726, 1728, 1236, 1237, 1757, 1758, 1759, 1760, 1761, 1133, 1134]))\n",
      "(87, Set([224, 512, 514, 453, 454, 513, 930, 911, 912, 436, 472, 793, 1434, 1435, 1436, 222, 223]), 87, Set([993, 994, 1027, 580, 581, 582, 1415, 1416, 1417, 1922, 944, 1937, 1938, 597, 598, 1433, 1432, 548, 1434, 1028, 1567]))\n",
      "(117, Set([1473, 1453, 1454, 1455, 1456, 1457, 1458, 1940, 1435]), 227, Set([1316, 1317, 1318, 1319, 1321, 1322, 1323, 1324, 1326, 1327, 1328, 1329, 1330, 1331, 1332, 1337, 829, 832, 833, 847, 848, 849, 850, 852, 855, 856]))\n",
      "(46, Set([749, 423, 748, 620, 621, 333, 1520, 1015, 1016, 1145, 602, 639]), 105, Set([326, 261, 262, 553, 554, 109, 110, 934, 277, 278, 567, 952, 93, 94, 95]))\n",
      "(415, Set([640, 1152, 1707, 1671, 1032, 1673, 1151, 1036, 1149, 783, 656, 785, 658, 659, 660, 1710, 1051, 1052, 1053, 1054, 1185, 1186, 1187, 1188, 423, 1576, 425, 682, 427, 1708, 1069, 1070, 1071, 1072, 1672, 1709, 1090, 1091, 1706, 334, 719, 1554, 1114, 1533, 1553, 1148, 620, 621, 750, 751, 752, 1150, 1705, 1146, 1147, 636, 637, 638, 639]), 33, Set([328, 331, 302, 304, 316, 317, 318, 319]))\n",
      "(49, Set([163, 1702, 1703, 1704, 1177, 1178, 1179, 381]), 26, Set([1761, 806, 497, 1239, 892, 479]))\n",
      "(54, Set([896, 262, 516, 517, 582, 583, 880, 1011, 1012, 581]), 30, Set([656, 3, 1252, 1253, 330, 112]))\n",
      "(20, Set([384, 1741, 1742]), 195, Set([1963, 903, 1425, 920, 921, 1947, 1444, 938, 939, 1964, 1965, 1459, 1460, 1461, 1462, 955, 1477, 1478, 1479, 1480, 1893, 1894, 1387, 1388, 1389, 1390, 1406, 1407]))\n",
      "(24, Set([837, 1327, 473, 1852, 1853, 1854]), 145, Set([1540, 1541, 1542, 16, 301, 302, 303, 450, 197, 198, 71, 591, 468, 215, 216, 606, 607, 608, 609, 104, 105, 106, 1019, 1020, 1021]))\n",
      "(199, Set([8, 9, 10, 11, 1475, 283, 555, 556, 557, 558, 265, 952, 953, 954, 266, 64, 971, 118, 969, 970, 951, 972, 81, 82, 83, 84, 85, 99, 100, 101, 102, 103, 246]), 329, Set([256, 257, 258, 1290, 1291, 1292, 1981, 276, 1814, 1815, 1963, 1964, 561, 562, 563, 564, 821, 822, 823, 462, 820, 442, 443, 444, 61, 958, 580, 839, 974, 460, 461, 206, 207, 208, 977, 78, 1495, 1496, 1497, 463, 976, 975, 956, 957, 240, 1273, 1274, 1275]))\n",
      "(24, Set([8, 601, 98, 45, 295]), 54, Set([2067, 1602, 1635, 1636, 1062, 1617, 1618, 1619, 2069]))\n",
      "(63, Set([865, 867, 868, 1873, 489, 490, 491, 847, 849, 850, 851, 1333, 1334, 1335]), 19, Set([1988, 978, 1501, 237, 199]))\n",
      "(57, Set([1125, 689, 362, 363, 364, 1650, 145, 690, 691, 127]), 30, Set([768, 1233, 713, 749, 1198, 1199, 1200, 1197, 1235]))\n",
      "(10, Set([1712, 1713, 1714, 811, 1191]), 451, Set([650, 651, 653, 1172, 1173, 1049, 417, 418, 420, 167, 168, 169, 1066, 1067, 1068, 309, 310, 311, 312, 313, 314, 326, 327, 328, 329, 330, 331, 332, 1659, 741, 742, 616, 617, 618, 619, 112, 1137, 114, 632, 633, 634, 635, 636, 637]))\n",
      "(26, Set([960, 546, 1891, 1521, 1522, 979, 922]), 196, Set([1927, 1928, 1929, 1930, 1931, 1423, 1424, 1425, 1426, 1427, 1945, 1946, 1441, 1442, 1443, 1444, 1963, 1964, 1965, 1479, 1910, 1912, 1913]))\n",
      "(12, Set([1656, 1667, 1668, 1669]), 95, Set([1154, 163, 1713, 361, 362, 363, 685, 686, 687, 1712, 721, 722, 127]))\n",
      "(144, Set([896, 897, 913, 914, 915, 536, 1435, 930, 931, 932, 552, 553, 949, 950, 1470, 1471, 1347, 1348, 1487, 1488, 1956, 1887, 1381, 1382, 878, 879, 880, 1973]), 240, Set([775, 776, 777, 394, 779, 781, 782, 784, 785, 787, 788, 789, 790, 664, 1184, 1185, 1186, 429, 392, 1220, 1221, 1222, 1223, 718, 749, 750, 751, 752, 753, 754, 755, 756]))\n",
      "(90, Set([35, 36, 342, 486, 1332, 1097, 844, 845, 846, 1871, 1331, 468, 341, 54, 215, 664, 665, 666, 863, 2069, 53]), 50, Set([1760, 1792, 738, 1794, 1170, 1203, 1204, 1757, 1758, 1759]))\n",
      "(17, Set([953, 971, 972, 1438]), 16, Set([485, 70, 71, 845, 303, 304]))\n",
      "(63, Set([1312, 1313, 1832, 1833, 845, 826, 1310, 1311]), 181, Set([641, 642, 504, 70, 103, 104, 105, 1611, 1612, 15, 1072, 337, 86, 87, 88, 250, 1073, 318, 319]))\n",
      "(179, Set([1281, 1282, 1283, 1284, 1285, 1803, 1804, 1805, 1806, 1807, 411, 412, 797, 798, 799, 800, 801, 162, 796, 1262, 1263, 1264, 1265, 1266, 1267]), 125, Set([1248, 1249, 1771, 2020, 1606, 1607, 1736, 1737, 1735, 1772, 1999, 2000, 2001, 2002, 1587, 2037, 1625, 1626, 1085, 2019]))\n",
      "(304, Set([1408, 1409, 1410, 904, 1929, 1551, 1552, 1553, 920, 921, 543, 544, 560, 561, 562, 957, 2001, 2002, 2003, 598, 1533, 993, 994, 1892, 1893, 1894, 1387, 1388, 1389, 1391, 1010, 1011, 1012, 1013, 1910, 1911, 1912, 1913, 1405, 1406, 1407]), 166, Set([1155, 1156, 2053, 668, 1191, 1192, 686, 687, 689, 1714, 1208, 703, 704, 705, 706, 1748, 1749, 1750, 1751, 1243, 1244, 740, 741, 1786]))\n",
      "(47, Set([1345, 1868, 1867, 876, 877, 1486, 1487, 1970, 947, 1972, 1971, 894]), 23, Set([726, 1126, 727, 724, 1110, 759, 760, 1125]))\n",
      "(370, Set([642, 139, 140, 13, 15, 16, 1313, 659, 157, 158, 159, 32, 33, 34, 35, 177, 1314, 2060, 2043, 48, 49, 50, 51, 52, 826, 31, 828, 192, 160, 195, 196, 161, 12, 843, 845, 846, 141, 336, 337, 466, 467, 1295, 827, 1072, 2024, 1312, 2041, 2042, 1073, 2044]), 36, Set([1225, 1226, 1227, 1788, 1789, 1791]))\n",
      "(10, Set([194, 738, 1170]), 478, Set([896, 1921, 1154, 1155, 1156, 1157, 1418, 1922, 402, 1923, 1940, 1924, 668, 669, 670, 671, 686, 687, 688, 689, 690, 187, 188, 189, 190, 1119, 1122, 206, 207, 208, 1123, 724, 725, 1925, 1103, 1117, 1118, 479, 1120, 1121, 226, 227, 1642, 366, 367, 1399, 1400, 1401, 1402, 1404, 894, 895]))\n",
      "(36, Set([2048, 2029, 2065, 2066, 2011, 2047]), 15, Set([1898, 1899, 1916, 1917, 1935]))\n",
      "(53, Set([1314, 486, 845, 846, 466, 467, 468, 827, 828]), 396, Set([1417, 1418, 1419, 1420, 1421, 1422, 914, 915, 916, 1941, 1942, 1434, 1435, 1436, 1437, 1438, 1439, 1440, 931, 932, 933, 934, 935, 936, 554, 1453, 1454, 1455, 1456, 952, 953, 1958, 1940]))\n",
      "(31, Set([1447, 43, 241, 242, 403, 727, 61]), 14, Set([1949, 1950, 1447]))\n",
      "(38, Set([1568, 1570, 1027, 1028, 1585, 1009, 2019, 2037, 2038, 1567]), 209, Set([704, 705, 1693, 1659, 1171, 685, 1695, 1135, 1136, 1137, 703, 19, 1172, 344, 1657, 1658, 667, 668, 669, 1694, 127]))\n",
      "(15, Set([578, 292, 293, 423, 331, 312]), 25, Set([866, 867, 911, 914, 915, 888, 889, 890, 891]))\n",
      "(47, Set([645, 646, 647, 432, 625, 342, 1498, 603, 604, 997]), 36, Set([196, 1125, 1105, 372, 373, 374, 695, 216, 159]))\n",
      "(13, Set([358, 142, 54, 143]), 11, Set([1260, 882, 900, 1782]))\n",
      "(21, Set([736, 737, 1168, 1688, 1167]), 69, Set([2048, 2032, 2065, 2064, 2049, 2063, 1616, 1777, 2066, 2067, 2068, 2069, 2045, 2046, 2047]))\n",
      "(119, Set([1410, 1411, 965, 1894, 1895, 1002, 1003, 1004, 1005, 1913, 1022, 1526, 1527, 984, 1525, 1021, 926, 1023]), 38, Set([839, 840, 810, 887, 824, 825, 826]))\n",
      "(36, Set([1538, 1539, 1520, 1521, 1556, 1972]), 170, Set([386, 387, 388, 389, 390, 391, 136, 1044, 644, 30, 645, 646, 423, 424, 171, 172, 173, 321, 332, 337, 338, 339, 628, 629]))\n",
      "(15, Set([1640, 1641, 1642, 1639, 1103]), 36, Set([577, 613, 614, 1064, 595, 596, 1045, 1623, 1605]))\n",
      "(11, Set([24, 25, 20, 23]), 118, Set([1851, 854, 902, 1324, 492, 1325, 1326, 885, 886, 857, 1850, 1343, 901]))\n",
      "(25, Set([1304, 818, 1843, 692, 728, 1844]), 68, Set([1920, 1378, 1318, 871, 872, 1395, 1900, 1320, 1298, 851, 852, 1397, 1398, 1396, 1819, 1919]))\n",
      "(15, Set([1122, 1645, 1646, 1137, 1138, 1171]), 382, Set([1287, 1289, 1290, 1291, 1292, 1165, 1166, 1811, 1812, 1813, 1814, 1687, 1688, 1831, 1200, 1201, 1202, 1723, 1236, 1237, 1238, 1112, 1113, 1758, 1760, 1128, 1129, 1130, 1132, 1815, 1650, 1651, 1652, 1653, 1270, 1271, 1272, 1273, 1274]))\n",
      "(138, Set([783, 784, 785, 786, 1091, 660, 662, 1072, 1089, 1090, 1219, 1092, 1093, 1094, 1742, 787, 1632, 1251, 1252, 1254, 657, 658, 659]), 13, Set([1059, 1061, 1615, 1628, 1629, 1630]))\n",
      "(28, Set([1385, 1420, 1454, 1368, 1403, 1437]), 28, Set([1424, 1443, 1948, 1967, 1423]))\n",
      "(20, Set([244, 1223, 429, 84, 1782, 121]), 21, Set([1104, 665, 1102, 429, 710]))\n",
      "(32, Set([811, 451, 452, 813]), 44, Set([290, 1046, 614, 74, 75, 237, 1045, 886, 508, 1373]))\n",
      "(22, Set([1424, 1425, 1423]), 21, Set([1441, 1442, 1443, 1963, 1461, 1945, 1946]))\n",
      "(198, Set([1282, 1283, 1284, 1285, 1286, 1803, 1804, 1805, 1806, 1807, 1808, 1809, 1303, 1822, 1823, 1824, 1825, 1826, 1199, 1164, 1264, 1265, 1268]), 69, Set([772, 358, 359, 1259, 1260, 754, 755, 756, 1276]))\n",
      "(23, Set([710, 1394, 1395, 1177, 1178, 26, 62]), 121, Set([1732, 1733, 1767, 1768, 1769, 1770, 1771]))\n",
      "(37, Set([2016, 2015, 775, 776, 1069, 1070, 1595, 1597, 2014, 1087]), 49, Set([1222, 1129, 1130, 1742, 1743, 1744, 1780, 1687, 1688, 1147, 1148, 1149]))\n",
      "(50, Set([1824, 1825, 1826, 1840, 1809, 1811, 1300, 1812, 1821, 1822, 1823]), 242, Set([384, 273, 274, 276, 1176, 1177, 544, 545, 546, 1699, 1700, 939, 562, 1461, 1462, 311, 955, 956, 957, 958, 959, 960, 707, 1697, 1480, 1698, 974, 975, 976, 978, 95, 111, 113, 1139, 1140, 1141]))\n",
      "(62, Set([1510, 297, 298, 1003, 1004, 1998, 114, 115, 20, 21, 278, 1528, 1002, 127]), 166, Set([1728, 1762, 1763, 1764, 1799, 1169, 1170, 1203, 1204, 1206, 1690, 1691, 1725, 1726, 1727]))\n",
      "(45, Set([32, 196, 1068, 468, 333, 334, 1069, 51, 52, 2037, 2038, 121, 638]), 337, Set([1408, 1409, 1410, 904, 905, 397, 398, 811, 812, 813, 814, 433, 434, 435, 436, 181, 182, 184, 1226, 830, 437, 832, 451, 452, 453, 454, 455, 200, 201, 202, 203, 1748, 469, 470, 471, 472, 473, 218, 1391, 757, 831, 509, 1749]))\n",
      "(17, Set([300, 1197, 102, 1198]), 31, Set([2053, 2054, 2055, 2057, 1621, 2038, 2039, 2037]))\n",
      "(118, Set([1303, 1304, 668, 817, 818, 1099, 1100, 1101, 1102, 1103, 1104, 725, 1658, 1118, 1119, 1640, 1641, 1642, 1643, 1137, 1138, 762, 1659, 1660]), 98, Set([1473, 1474, 1507, 1508, 1958, 1959, 1960, 1993, 1991, 1456, 1457, 1490, 1491, 1492, 1974, 1975, 1976, 1977, 1992]))\n",
      "(66, Set([1729, 1243, 1765, 1207, 1658, 1659, 1660, 1694, 1695]), 51, Set([451, 1189, 200, 489, 887, 1391, 721, 434, 886, 471, 1914, 1915]))\n",
      "(58, Set([192, 384, 1350, 209, 46, 47, 48, 49, 211, 862, 1208, 863, 190, 191]), 38, Set([898, 196, 1925, 1132, 1906, 214, 1402, 700]))\n",
      "(9, Set([1563, 1564, 1043, 1044]), 29, Set([785, 786, 1091, 1092, 1090]))\n",
      "(20, Set([1824, 66, 67, 612, 208, 209, 1303]), 48, Set([1671, 1672, 1673, 1674, 1708, 1709, 1710]))\n",
      "(26, Set([1740, 1220, 790, 791]), 17, Set([168, 116, 1526, 315, 605, 606]))\n",
      "(47, Set([1640, 1675, 1117, 1118, 1639]), 26, Set([1445, 1970, 942, 1426, 1427, 1910, 1911, 1464, 1465, 1971]))\n",
      "(18, Set([1989, 1990, 1480, 1481, 1460, 1500]), 45, Set([1921, 1922, 2059, 1417, 298, 299, 621, 622, 1592, 280, 281, 638]))\n",
      "(63, Set([326, 327, 329, 1069, 654, 655, 2068, 1614, 2070, 1615, 1071, 2069]), 150, Set([1915, 837, 1393, 1933, 1756, 459, 1914, 494, 1916, 1917, 1233, 1394, 1913, 1720, 889, 890, 1755, 476, 765]))\n",
      "(25, Set([646, 1095, 1257, 1258, 647, 628, 629, 1494, 990]), 675, Set([1432, 1451, 261, 262, 263, 264, 265, 280, 530, 531, 532, 533, 534, 535, 536, 281, 283, 927, 928, 929, 930, 931, 548, 549, 550, 551, 552, 553, 554, 1433, 944, 945, 947, 948, 566, 567, 568, 569, 570, 571, 572, 1469, 1470, 961, 963, 964, 965, 966, 967, 968, 951, 83, 981, 982, 983, 984, 985, 1435, 1955, 933, 1491, 1956]))\n",
      "(159, Set([10, 1292, 1051, 1052, 1053, 46, 47, 823, 314, 443, 444, 445, 191, 192, 193, 333, 462, 463, 2002, 2003, 1290, 315, 2020, 2021, 2022, 117, 118, 637, 638]), 424, Set([1794, 1795, 1796, 1797, 1798, 1799, 395, 396, 143, 1169, 792, 666, 432, 1202, 1203, 1204, 1205, 1759, 1725, 1727, 1728, 1760, 1761, 1762, 1238, 1239, 1240, 1241, 1758, 735, 736, 737, 738, 1763, 1764, 358, 359, 360, 377, 378]))\n",
      "(180, Set([7, 397, 399, 146, 147, 148, 149, 150, 152, 153, 154, 42, 43, 44, 45, 46, 47, 188, 189, 190, 205, 361]), 101, Set([1668, 1704, 1705, 1706, 1740, 1741, 1742, 1647, 1648, 1649, 1650, 1743]))\n",
      "(11, Set([177, 178, 355]), 180, Set([1540, 1541, 1558, 1559, 1176, 1053, 1698, 1575, 1576, 1071, 1210, 1211, 1212, 1213, 1088, 1733, 1734, 1735, 1736, 1737, 1769, 1770, 1771, 1773]))\n",
      "(9, Set([1164, 772, 733, 1647]), 210, Set([130, 131, 777, 778, 651, 652, 1752, 417, 418, 1193, 1194, 688, 689, 690, 1587, 1082, 1083, 1084, 1603, 1604, 1605, 724, 725, 1751, 344, 345, 346, 347, 742, 364, 365, 366, 2035, 2036, 2037, 381, 382, 383]))\n",
      "(13, Set([1442, 1443, 1444]), 487, Set([909, 1392, 1896, 1356, 1357, 1358, 1359, 1360, 1361, 855, 1372, 1373, 1374, 1375, 1376, 1377, 1378, 868, 870, 871, 872, 873, 874, 875, 492, 493, 494, 495, 496, 1393, 1394, 1395, 887, 888, 889, 890, 891, 892, 511]))\n",
      "(20, Set([1369, 1370, 1894, 1351]), 525, Set([1024, 1025, 1542, 1543, 1544, 1545, 1546, 1037, 1038, 1039, 1040, 1041, 1042, 1558, 1559, 1560, 1561, 1562, 1563, 1564, 1565, 2011, 2012, 1578, 1579, 1580, 1581, 1582, 1965, 1945, 1478, 1479, 1480, 1946, 2010, 1499, 1500, 1501, 606, 607, 608, 1001, 1964, 1004, 1519, 1520, 1521, 1527, 1020, 1021, 1022, 1023]))\n",
      "(15, Set([904, 217, 507, 469]), 253, Set([684, 522, 269, 270, 143, 144, 17, 18, 539, 540, 287, 161, 34, 35, 36, 936, 556, 557, 558, 178, 179, 180, 54, 954, 700, 701, 702, 575, 576, 972, 1115, 990, 16, 358, 359, 360, 1131, 1132, 1133, 376, 377, 378, 252]))\n",
      "(75, Set([1872, 1329, 838, 39, 40, 41, 839, 205, 206, 1331, 1328, 840, 1330, 19, 20, 478]), 80, Set([1858, 1859, 1828, 1829, 1830, 1800, 1289, 1293, 1309, 1873, 1874, 1875, 1844, 1845, 1308, 1307, 1276, 1277, 1278]))\n",
      "(72, Set([1090, 554, 1092, 1253, 264, 265, 266, 1091, 336, 337, 659, 660, 282, 283, 1436, 426, 318, 319]), 250, Set([645, 646, 647, 1036, 1037, 1038, 1039, 1040, 1557, 1558, 1559, 1560, 1561, 1563, 1055, 1056, 1057, 1058, 1577, 1578, 1579, 1580, 1582, 432, 180, 340, 341, 342, 2008]))\n",
      "(48, Set([1568, 1027, 2021, 1046, 1567]), 15, Set([525, 1427, 1428, 922, 923, 255]))\n",
      "(15, Set([1809, 1306]), 15, Set([1637, 2063, 2065, 2066, 2067, 1620]))\n",
      "(101, Set([1568, 1570, 1571, 1572, 1573, 2025, 1585, 1586, 1587, 2004, 1559, 2003, 2019]), 862, Set([640, 385, 619, 641, 1032, 653, 654, 173, 656, 657, 658, 1070, 1829, 1305, 461, 27, 1052, 423, 420, 293, 422, 167, 1067, 44, 45, 46, 1071, 1069, 818, 820, 821, 311, 312, 313, 314, 315, 316, 318, 459, 329, 330, 331, 332, 333, 334, 335, 655, 421, 96, 104, 636, 618, 295, 620, 621, 622, 113, 114, 115, 116, 117, 635, 460, 637, 638, 639]))\n",
      "(116, Set([1248, 1249, 1771, 1770, 779, 780, 1247, 1245, 1246, 1624, 1625, 1211, 1085, 1086, 1087]), 60, Set([1696, 1697, 1124, 1125, 1104, 1105, 1140, 1758, 1662, 1759]))\n",
      "(53, Set([6, 424, 1778, 883, 1780, 1779, 505, 506]), 17, Set([1808, 1809, 1810, 1806]))\n",
      "(33, Set([1385, 270, 593, 594, 917, 539, 540, 2015]), 280, Set([1793, 1794, 1284, 1285, 1286, 1288, 1299, 1300, 1301, 1302, 1796, 1692, 798, 800, 801, 802, 1317, 1318, 1319, 1839, 1840, 1841, 820, 1333, 1724, 1725, 1726, 1727, 1728, 1856, 1825, 1234, 1235, 1236, 1237, 1757, 1758, 1759, 1760, 1266, 1267, 1268, 1269, 1270, 1272, 1855]))\n",
      "(25, Set([1290, 1847, 1308, 1866, 1758, 1759]), 24, Set([673, 322, 388, 709, 710, 173, 175, 122, 123]))\n",
      "(49, Set([1216, 1185, 1218, 1249, 1217, 1250]), 15, Set([234, 899, 900, 1402, 1923]))\n",
      "(45, Set([1705, 1036, 622, 785, 786, 659, 661, 1018, 1054]), 83, Set([896, 897, 1378, 519, 520, 521, 522, 1901, 910, 913, 914, 1395, 1396, 1397, 1398, 1399, 895]))\n",
      "(14, Set([1344, 1832, 1362, 1831]), 136, Set([1243, 1670, 1671, 680, 777, 1175, 1653, 776, 1651, 1652, 1210, 1174, 1111, 1112, 1113, 1176, 1208, 1209, 1181, 1144]))\n",
      "(12, Set([1257, 138, 1826, 442, 391]), 363, Set([128, 640, 2050, 2051, 2052, 641, 1602, 655, 656, 145, 658, 659, 660, 661, 1616, 164, 165, 166, 167, 425, 1070, 1071, 1072, 1073, 1074, 1075, 1076, 1077, 315, 1088, 1089, 1090, 1091, 1092, 1093, 334, 335, 336, 1617, 1618, 1619, 1620, 1601, 783, 784, 657, 127, 786, 2032, 2034, 787, 379, 382, 639]))\n",
      "(34, Set([1368, 1889, 1890, 1870]), 15, Set([560, 1976, 1977, 1975]))\n",
      "(25, Set([194, 773, 938, 939, 528, 242, 243]), 12, Set([1570, 1027, 1028, 2021, 2022]))\n",
      "(14, Set([104, 121, 283, 677, 174]), 26, Set([1092, 1093, 422, 658, 19, 659, 1636, 1094, 1637]))\n",
      "(89, Set([1056, 1057, 1595, 1971, 1037, 1038, 1522, 1074, 1075, 1504, 1018, 1019, 1596, 1597, 1503]), 19, Set([392, 393, 178, 1667, 1146]))\n",
      "(27, Set([64, 65, 196, 197, 198, 240, 241]), 81, Set([1952, 1819, 1966, 1820, 1297, 904, 489, 490, 942, 848, 849, 1298, 1950, 905, 1464, 922, 923, 508, 1821, 830, 1951]))\n",
      "(59, Set([1928, 1424, 1910, 1911, 1912, 1405, 1406, 1407]), 14, Set([554, 1955, 1954, 1470, 967]))\n",
      "(111, Set([1124, 1125, 1126, 1127, 1128, 1161, 1162, 1163, 1164, 1647, 1648, 1649, 1650, 1683, 1684, 1685, 694, 695, 1681]), 26, Set([902, 903, 1481, 1482, 1968, 1969, 883, 958]))\n",
      "(29, Set([835, 1828, 236, 237, 238, 559, 1827, 1846, 220, 221]), 61, Set([320, 1761, 103, 1203, 735, 375, 122, 607, 1021, 734, 319]))\n",
      "(18, Set([674, 707, 708, 710, 706, 1143]), 387, Set([1540, 1559, 1951, 1952, 1953, 1954, 1955, 1956, 1957, 1969, 1970, 1971, 1972, 1973, 1974, 1975, 1992, 1484, 1485, 1486, 1487, 1488, 980, 2007, 2008, 2009, 1502, 1503, 1504, 1505, 1508, 2025, 2026, 2027, 1522, 1523]))\n",
      "(97, Set([1472, 866, 867, 1958, 550, 849, 1960, 1961, 1959, 850, 909, 529, 530, 531, 532, 1493, 1978, 1979, 510, 511]), 60, Set([1520, 1411, 1897, 1898, 1915, 1519, 944, 1394, 1914, 943, 1916, 1917, 1502]))\n",
      "(40, Set([356, 357, 358, 1644, 141, 142, 695, 697, 1126, 1125]), 11, Set([761, 1122, 1303, 1841, 1121]))\n",
      "(63, Set([1160, 1161, 42, 235, 237, 238, 1684, 693, 728, 729, 58, 1162, 1685]), 190, Set([2048, 2049, 2050, 1927, 1928, 1425, 2068, 2069, 921, 922, 1055, 544, 545, 297, 563, 564, 565, 566, 1597, 1598, 1056, 1057, 586, 1615, 1616, 1617, 1618, 603, 625]))\n",
      "(12, Set([1440, 1944]), 222, Set([1360, 1375, 1349, 1350, 1353, 1870, 1359, 1872, 1361, 1362, 1363, 1364, 1365, 1367, 1368, 1871, 1372, 1373, 1886, 1887, 1888, 1889, 1890, 1891, 1892, 1894, 1895]))\n",
      "(220, Set([523, 1173, 1174, 1175, 1176, 1695, 416, 417, 1698, 1699, 164, 1696, 1732, 1733, 1734, 1697, 73, 1700, 91, 741, 380, 109, 381, 1139, 1659, 1660, 1661, 1662]), 82, Set([705, 743, 744, 745, 1175, 1773, 1774, 1776, 1176, 1173, 1174, 343, 344, 1177, 1210, 1211, 1212, 1213, 1214]))\n",
      "(18, Set([1293, 1294, 1295, 819, 820, 821]), 269, Set([1871, 516, 517, 518, 534, 535, 536, 537, 1831, 553, 554, 1326, 1328, 1847, 1848, 1849, 1850, 571, 1994, 967, 968, 1865, 1866, 1867, 1868, 1869, 1851, 1993, 985, 986, 859, 860, 1885, 1507, 1508, 877, 499, 247, 248]))\n",
      "(87, Set([1475, 1476, 1509, 1510, 1576, 1004, 1962, 1980, 972, 1005, 2024, 2026, 1493, 1494, 2025, 2008, 1508, 987, 988, 1021, 1022]), 114, Set([256, 544, 546, 547, 901, 582, 545, 1558, 583, 1388, 563, 903, 1557, 902, 2008, 2009, 602, 1891, 1406, 543]))\n",
      "(19, Set([2024, 2025, 2042, 2043]), 191, Set([2041, 2043, 1573, 2022, 2023, 2024, 2025, 2026, 2040, 2002, 1555, 2004, 1557, 2006, 2007, 2008, 2009, 2042, 2021, 2003, 2005]))\n",
      "(77, Set([1600, 1217, 1218, 1093, 1094, 1616, 1701, 786, 1253]), 71, Set([1728, 1684, 1685, 1687, 1688, 1722, 1724, 1725, 1726, 1727]))\n",
      "(91, Set([1, 1351, 37, 38, 487, 489, 1207, 19, 469, 55, 56, 217, 218, 865]), 161, Set([256, 526, 793, 794, 1948, 1949, 1950, 544, 545, 940, 433, 434, 1460, 181, 1462, 1463, 1464, 57, 958, 1481, 452, 453, 1479, 200, 1225, 976, 236, 237, 238, 757, 255]))\n",
      "(78, Set([1092, 2044, 1613, 1614, 1071, 1652, 1147, 1148, 2045, 2046, 1183]), 406, Set([649, 972, 970, 283, 987, 294, 295, 296, 297, 298, 299, 969, 308, 309, 310, 311, 312, 313, 572, 573, 574, 575, 971, 325, 326, 327, 328, 329, 586, 587, 588, 589, 590, 591, 592, 1492, 1494, 986, 603, 988, 989, 990, 614, 616, 617, 618, 620, 621, 112, 631, 632, 633, 634, 635]))\n",
      "(17, Set([1458, 1903, 1439]), 150, Set([1153, 1154, 1681, 1676, 1677, 1678, 1647, 1648, 1649, 1650, 1684, 1680, 1679, 1711]))\n",
      "(40, Set([640, 1541, 620, 621, 622, 623, 1523, 1524, 314, 1019, 316, 1018]), 17, Set([192, 1968, 82, 980, 1239]))\n",
      "(24, Set([1985, 1986, 1967, 1947, 1948, 1949, 1950]), 496, Set([385, 386, 387, 389, 274, 275, 601, 423, 292, 293, 294, 295, 168, 169, 170, 171, 1964, 1965, 1966, 1967, 565, 312, 313, 314, 579, 580, 581, 582, 583, 331, 332, 334, 976, 978, 980, 597, 598, 599, 600, 420, 1498, 1499, 421, 994, 995, 996, 422, 998, 167]))\n",
      "(67, Set([899, 900, 522, 1422, 1403, 1404, 1386]), 34, Set([1481, 1482, 1483, 1565, 1566, 1564, 1021, 1022]))\n",
      "(23, Set([1152, 684, 1709, 1710, 1745, 1151]), 705, Set([512, 192, 513, 1673, 10, 1151, 1150, 153, 154, 155, 156, 157, 30, 27, 682, 44, 45, 46, 47, 48, 49, 50, 138, 189, 190, 191, 64, 717, 206, 207, 208, 474, 221, 222, 223, 224, 225, 355, 356, 357, 1674, 892, 490, 491, 492, 493, 494, 495, 240, 497, 242, 62, 886, 887, 888, 889, 890, 63, 508, 509, 510, 511]))\n",
      "(12, Set([864, 1349, 1869]), 208, Set([1538, 1539, 1540, 1455, 1456, 1972, 1974, 1471, 1472, 1473, 1474, 1989, 1990, 1991, 1992, 1488, 1489, 1490, 1503, 1504, 1505, 1506, 1002, 1521, 1522, 1523, 1524, 1525]))\n",
      "(53, Set([1574, 1575, 617, 109, 110, 308, 309, 2009, 2008, 1049, 1051]), 295, Set([2016, 2032, 2012, 2013, 1581, 1582, 1583, 1584, 2033, 2034, 2014, 1562, 2031, 1564, 1565, 1566, 2015]))\n",
      "(42, Set([1609, 1067, 1630, 1046, 1047, 1626, 1627, 1628, 1086, 1087]), 159, Set([1921, 1505, 1506, 1922, 966, 1415, 1416, 1417, 1991, 1901, 1902, 1903, 1992, 1396, 1397, 1398, 1399, 1400, 948, 1918, 1919]))\n",
      "(48, Set([1384, 1419, 1453, 1871, 1872, 1400, 1401]), 285, Set([642, 658, 659, 660, 661, 662, 663, 425, 426, 427, 428, 429, 1071, 1072, 1073, 1588, 1589, 1590, 1591, 1592, 1088, 1607, 1608, 1609, 335, 336, 337, 338, 2019, 2020, 2021, 2022, 2036, 2037, 2038, 2039, 2040, 2041]))\n",
      "(84, Set([1473, 994, 1027, 1458, 595, 980, 981, 596]), 76, Set([1472, 963, 964, 37, 38, 1959, 1960, 76, 77, 1489, 565, 566, 1958, 1956, 1957, 1469, 1470, 1471]))\n",
      "(429, Set([406, 6, 7, 8, 277, 278, 407, 408, 409, 154, 155, 156, 157, 158, 293, 294, 295, 168, 169, 298, 311, 313, 314, 315, 296, 192, 193, 373, 331, 1762, 372, 80, 82, 83, 1763, 95, 96, 97, 98, 99, 100, 113, 114, 115, 116, 117, 374, 297, 638]), 42, Set([1687, 1133, 1134, 1653, 1654, 1655, 1688, 1689, 1690, 1691]))\n",
      "(19, Set([1671, 1131, 1688, 1689, 1723, 1724]), 88, Set([1216, 1250, 1251, 1252, 1253, 1771, 1772, 1773, 1774, 1775, 1776, 1630]))\n",
      "(78, Set([160, 357, 359, 210, 479, 156, 157, 158, 159]), 362, Set([129, 130, 132, 1238, 134, 1239, 1164, 1240, 729, 772, 1241, 730, 731, 1203, 732, 1201, 1202, 691, 692, 693, 694, 695, 1242, 1204, 1725, 1726, 1205, 1728, 1206, 726, 727, 344, 345, 346, 347, 348, 733, 350, 736, 1762, 1763, 1764, 365, 366, 367, 368, 369, 370, 1727, 380, 381, 127]))\n",
      "(17, Set([1408, 906, 535, 924, 1406, 1407]), 40, Set([64, 65, 66, 201, 202, 206, 15, 470, 62, 63]))\n",
      "(12, Set([1208, 777, 1211, 1209]), 330, Set([1879, 1323, 1324, 1325, 1843, 1844, 1845, 1339, 1340, 1341, 1342, 1343, 1344, 1345, 1862, 1863, 1864, 1865, 1866, 1867, 1359, 1360, 1361, 1362, 855, 856, 1881, 1882, 1883, 1884, 874, 875, 876]))\n",
      "(10, Set([1979, 1980, 1998]), 27, Set([1024, 1709, 1710, 1042, 791, 665, 1023]))\n",
      "(76, Set([1683, 1681, 1641, 1642, 1643, 1201, 1682, 1203, 1204, 1685, 1684, 1242]), 64, Set([610, 1539, 612, 611, 1540, 1021, 1022]))\n",
      "(113, Set([1692, 1691, 1700, 1733, 1690, 1116, 1133, 1134, 1734, 1656, 1731, 1732, 1655, 1112, 1113, 1114, 1115, 700, 1146]), 24, Set([2033, 2034, 2050, 1062, 630]))\n",
      "(45, Set([192, 1312, 421, 171, 463, 1624, 824, 155, 1084, 445]), 37, Set([1344, 839, 691, 692, 405, 1884, 1885, 1662, 1663]))\n",
      "(21, Set([1852, 1853, 1854]), 333, Set([1024, 1025, 1026, 1546, 1547, 1548, 2030, 2031, 1564, 1565, 1566, 2032, 1062, 1581, 1582, 1583, 1584, 593, 990, 609, 610, 611, 612, 1512, 1006, 1007, 1008, 630, 1528, 1529, 1530, 1023]))\n",
      "(48, Set([1368, 483, 1366, 463, 464, 1105, 1106, 694, 1367, 408]), 41, Set([1281, 1839, 1297, 1298, 1299, 793, 1819, 1820]))\n",
      "(110, Set([640, 641, 642, 135, 1055, 732, 172, 173, 334, 335, 371, 372, 1758, 2008, 1794, 731, 316, 1054, 639]), 145, Set([160, 161, 162, 475, 474, 193, 476, 865, 206, 143, 208, 209, 52, 376, 378, 207, 412, 413, 158, 159]))\n",
      "(32, Set([130, 807, 1276, 366, 367, 405, 346, 380, 1818, 767]), 247, Set([854, 855, 218, 838, 1323, 1324, 1325, 1848, 1849, 834, 835, 836, 837, 454, 456, 202, 203, 204, 849, 850, 851, 852, 853, 470, 471, 472, 473, 474, 219, 220, 221, 489, 490, 491, 492, 493]))\n",
      "(22, Set([2045, 2044, 1045, 1589]), 13, Set([192, 485, 845, 846, 466, 467]))\n",
      "(45, Set([1860, 1125, 1126, 439, 728, 818, 1108, 729, 440, 441, 764, 765, 1861]), 142, Set([1298, 1299, 1300, 1301, 663, 664, 1819, 28, 29, 30, 1820, 428, 429, 174, 175, 187, 188, 189, 455, 456, 457, 337, 338, 339, 1620, 1619]))\n",
      "(22, Set([1009, 1010, 1532, 1533]), 160, Set([1441, 1442, 1443, 1444, 1927, 937, 938, 939, 940, 1423, 1424, 1425, 919, 920, 541, 1406]))\n",
      "(15, Set([1644, 1661, 1662, 1663]), 17, Set([787, 1068, 1046, 1223]))\n",
      "(25, Set([198, 648, 197, 126, 1296]), 39, Set([73, 1931, 1932, 1426, 922, 254]))\n",
      "(13, Set([1872, 1890, 1349, 1871]), 85, Set([1349, 1835, 1836, 1871, 1872, 1331, 1332, 1816, 1854]))\n",
      "(78, Set([64, 224, 612, 832, 103, 104, 205, 206, 1837, 304, 1298, 1299, 84, 475, 833]), 608, Set([393, 394, 271, 273, 274, 275, 790, 431, 289, 290, 291, 292, 293, 294, 295, 296, 297, 427, 428, 429, 430, 175, 563, 312, 313, 314, 315, 577, 578, 579, 580, 581, 993, 335, 336, 337, 595, 596, 597, 598, 599, 1188, 93, 991, 992, 976, 994, 996, 618, 619, 620, 1517, 753, 754, 755, 756, 1223]))\n",
      "(49, Set([1226, 1227, 1261, 1262, 1715, 1750, 1751, 793, 794, 795]), 43, Set([1829, 1847, 1848, 1849, 1850, 1851, 1852]))\n",
      "(11, Set([121, 396, 119]), 191, Set([899, 1325, 1326, 1327, 1328, 1329, 1343, 1344, 1345, 1346, 1866, 1867, 1868, 858, 859, 860, 861, 880, 501, 502, 503, 504]))\n",
      "(20, Set([2051, 2049, 2050, 1619, 1620]), 24, Set([1927, 1928, 1426, 1909, 1910, 1405]))\n",
      "(141, Set([1025, 1026, 1510, 1511, 1512, 1546, 1995, 1996, 1997, 1998, 1007, 1526, 1527, 1528, 1529, 1530]), 75, Set([1217, 1740, 167, 169, 746, 747, 748, 24, 505, 58, 219, 506]))\n",
      "(91, Set([1696, 1731, 708, 745, 746, 747, 1174, 1177, 1178, 1179, 1214]), 54, Set([865, 866, 487, 1388, 847, 848, 1910, 1911, 1369]))\n",
      "(45, Set([101, 102, 297, 298, 299, 1554, 467, 468, 601, 602, 828]), 53, Set([1312, 1313, 1314, 1835, 1836, 1295, 1296, 1818, 1854, 1311]))\n",
      "(211, Set([1789, 1195, 1228, 1229, 1230, 1231, 1265, 1266, 1790, 1750, 1751, 1752, 1753, 1754, 1787, 1788, 1786, 1785]), 163, Set([1155, 1156, 150, 264, 265, 266, 151, 1676, 152, 402, 533, 534, 535, 536, 537, 538, 931, 552, 554, 45, 1457, 188, 64, 65, 1675, 725, 244, 246]))\n",
      "(46, Set([1986, 1987, 779, 780, 653, 654, 1519, 1517]), 21, Set([522, 18, 90, 251, 252, 666]))\n",
      "(31, Set([1763, 1764, 1800, 1653, 1654, 1690, 1726, 1727]), 41, Set([2070, 2067, 2068, 2069, 1638]))\n",
      "(24, Set([625, 1067, 1070, 304, 305, 626, 1083, 637]), 74, Set([960, 961, 962, 1927, 585, 941, 1423, 1424, 1425, 981, 982, 1001, 1562, 1022, 607]))\n",
      "(66, Set([68, 69, 6, 7, 8, 9, 10, 110, 111, 112, 216]), 123, Set([1153, 418, 1189, 1154, 2023, 1068, 1066, 1067, 652, 653, 685, 1589, 1590, 344, 345, 1711, 2022, 381, 2021]))\n",
      "(12, Set([1088, 1984, 1251, 1985, 1737, 1014]), 181, Set([18, 2070, 791, 792, 665, 666, 180, 54, 71, 72, 1097, 1098, 341, 342, 215, 216, 1637, 1638, 233, 234, 503, 252, 126]))\n",
      "(155, Set([258, 259, 1986, 1304, 1826, 1499, 1966, 1983, 1984, 1985, 834, 835, 1988, 837, 457, 458, 205, 978, 1495, 1498, 475, 992, 1515, 1516, 1517, 1518, 1519, 240]), 190, Set([1410, 1443, 1477, 1478, 1479, 937, 1932, 939, 940, 1459, 1933, 1426, 1427, 1460, 1461, 1945, 955, 957, 1931]))\n",
      "(18, Set([832, 833, 434, 1320]), 17, Set([1920, 1921, 1956, 1452, 1453]))\n",
      "(22, Set([1232, 1786, 1788, 1789, 1231]), 37, Set([1984, 1574, 1612, 1515, 1516, 1517, 1593, 1497, 1983]))\n",
      "(78, Set([1976, 971, 1977, 230, 267, 1978, 1815, 465, 1491, 1492, 213, 825, 824, 249, 826, 987, 988, 986]), 209, Set([1931, 1932, 1933, 1934, 1338, 1339, 1859, 1860, 1861, 1356, 1357, 1358, 1877, 1878, 1879, 1880, 1375, 1896, 1897, 1392, 1913, 1914, 1915]))\n",
      "(22, Set([130, 363, 1107, 690, 146, 691, 1108]), 142, Set([1998, 1475, 1494, 936, 970, 971, 972, 1997, 558, 1962, 1512, 1386, 1492, 1493, 918, 988, 989, 990]))\n",
      "(29, Set([1576, 1577, 1293, 1294, 465, 825, 317, 318]), 119, Set([289, 290, 579, 996, 1014, 1537, 1015, 1538, 1539, 291, 598, 599, 600, 91]))\n",
      "(22, Set([1776, 1773, 1774, 1775]), 80, Set([1923, 1924, 1925, 1926, 1421, 1906, 1907, 1908, 1402, 1404]))\n",
      "(17, Set([544, 545, 943]), 109, Set([1947, 1478, 1479, 957, 1964, 973, 974, 559, 560, 1965, 1966, 955, 956, 253, 254]))\n",
      "(26, Set([744, 777, 786, 784, 743]), 414, Set([640, 641, 1026, 1025, 1545, 1546, 1035, 1036, 1037, 1038, 1039, 1040, 1041, 1042, 667, 1548, 1008, 1058, 419, 420, 421, 1024, 1135, 1566, 703, 704, 705, 1547, 1057, 1136, 333, 335, 605, 606, 607, 608, 609, 623, 624, 625, 626, 627, 1527, 1528, 1529, 1530, 639]))\n",
      "(63, Set([1954, 1955, 1956, 1957, 198, 71, 968, 969, 1975, 268, 1487, 1958, 1976]), 16, Set([802, 803, 452, 453, 1799, 1239]))\n",
      "(21, Set([1318, 1319, 212, 213, 214, 1855]), 15, Set([1568, 290, 1027, 1028, 2000, 2001]))\n",
      "(210, Set([1063, 1960, 1961, 1977, 1978, 1979, 1980, 631, 1490, 1081, 602, 603, 1506, 1507, 1508, 613, 616, 617, 618, 1000, 1001, 632, 633, 634, 1002]), 243, Set([1888, 1889, 1347, 1350, 1867, 1868, 1869, 1870, 1871, 1872, 1329, 1330, 1331, 1332, 1850, 1853, 1887]))\n",
      "(46, Set([1216, 385, 386, 131, 132, 40, 747, 1218, 1775, 148, 149, 182, 184]), 464, Set([1607, 1045, 1046, 1047, 1048, 1049, 1055, 1056, 1057, 1058, 1059, 1060, 1061, 1062, 1063, 1064, 1065, 1066, 1067, 1068, 1585, 1586, 1587, 1588, 1589, 1590, 1568, 1603, 1604, 1605, 1606, 1569, 1608, 1570, 1571, 2018, 2019, 2020, 2021, 2035, 628, 2037, 2038, 2041]))\n",
      "(20, Set([864, 1636, 485, 215, 124, 863]), 22, Set([2057, 1082, 1083, 1084, 415]))\n",
      "(22, Set([1416, 1456, 1961, 1415]), 60, Set([865, 867, 694, 1127, 1129, 368, 403, 404, 691, 470, 471, 472, 1110]))\n",
      "(28, Set([1513, 1514, 1531]), 40, Set([4, 1797, 75, 76, 559, 272, 1796, 442, 188]))\n",
      "(20, Set([1948, 1443, 1444, 1965, 1947]), 49, Set([1793, 1829, 1830, 1831, 1289, 1811, 1812, 1813, 1791]))\n",
      "(20, Set([96, 329, 530, 1245]), 325, Set([128, 129, 130, 131, 132, 133, 134, 449, 24, 384, 19, 20, 21, 22, 23, 152, 25, 154, 155, 410, 150, 164, 165, 166, 167, 168, 447, 192, 193, 450, 408, 448, 743, 111, 153, 381, 382, 149]))\n",
      "(186, Set([1440, 931, 932, 933, 934, 935, 936, 557, 1455, 953, 950, 951, 952, 537, 1435, 1436, 1437, 1438, 1439]), 310, Set([513, 515, 1415, 909, 910, 911, 912, 913, 1938, 403, 796, 797, 798, 799, 800, 1193, 1194, 1195, 817, 818, 436, 438, 439, 440, 441, 187, 893, 458, 1228, 1229, 1230, 1231, 1232, 1233, 1752, 475, 476, 477, 891, 1937, 892, 495, 496, 1396, 1398, 760, 761, 762, 763, 764, 765]))\n",
      "(11, Set([1952, 1946, 1950, 1951]), 14, Set([2068, 1602, 1620, 1637]))\n",
      "(45, Set([1081, 1082, 1621, 1622]), 54, Set([1317, 1318, 1319, 847, 848, 849, 1842, 1843, 1844, 1841]))\n",
      "(14, Set([1664, 1669, 1654, 1656, 1115, 1116]), 69, Set([416, 1249, 779, 164, 325, 326, 776, 649, 650, 651, 777, 1247, 778, 1246, 415]))\n",
      "(50, Set([2048, 1796, 1797, 426, 1615, 2064, 661, 374, 2045, 2046, 2047]), 40, Set([643, 1092, 971, 1458, 1774, 591, 1457, 626, 1476, 954]))\n",
      "(25, Set([2055, 1532, 1621, 1550, 1567]), 44, Set([1635, 1222, 1224, 1258, 1259, 1256, 1779, 1780, 1781, 1782, 792]))\n",
      "(16, Set([1281, 1282, 1806]), 22, Set([870, 871, 1358, 1359, 848, 849]))\n",
      "(22, Set([1548, 1547, 1044, 1566]), 35, Set([1805, 1803, 1804, 1261, 1262, 1263, 1279]))\n",
      "(72, Set([1958, 1479, 1480, 1481, 1482, 1483, 1484, 1485, 1486, 976, 1489, 1959, 1961, 1498]), 91, Set([2, 3, 37, 1575, 1576, 1033, 618, 619, 620, 112, 1035, 311, 2008, 2009, 2010, 1051, 1034]))\n",
      "(18, Set([1153, 1226, 1190, 1118, 1135]), 29, Set([1444, 1445, 1930, 1911, 1912, 1913, 1949]))\n",
      "(15, Set([2000, 2001, 1999]), 20, Set([993, 994, 995, 105, 106, 298]))\n",
      "(67, Set([97, 1540, 998, 7, 43, 1522, 1264, 1265, 1266, 437, 438, 186, 797, 798]), 42, Set([329, 330, 653, 78, 240, 241, 242, 1898, 511]))\n",
      "(122, Set([1662, 706, 163, 164, 165, 109, 1139, 707, 1140, 1141, 708, 91, 381, 382, 1663]), 165, Set([1415, 1416, 1417, 908, 911, 912, 1434, 929, 930, 931, 932, 933, 950, 952, 953, 1476, 1353, 1354, 1355, 1372, 1373, 1374, 1375, 1376, 1392, 1393, 1394, 1395]))\n",
      "(27, Set([832, 1858, 1860, 1861, 1319, 182, 831]), 50, Set([1419, 1420, 1421, 1298, 1300, 853, 854, 855, 1820, 894, 895]))\n",
      "(15, Set([1284, 1829, 1831, 1801, 1804, 1833]), 36, Set([1835, 1836, 1719, 1720, 1274, 1275, 1757]))\n",
      "(16, Set([32, 136, 669, 668, 349, 350]), 37, Set([1158, 1159, 398, 399, 1681, 1682, 1683, 724, 725, 181]))\n",
      "(85, Set([1056, 1057, 1058, 1059, 1060, 1541, 1098, 1580, 1581, 1040, 1041, 1078, 1079]), 167, Set([2065, 1179, 1180, 1181, 1776, 1217, 1218, 1106, 1107, 1108, 1109, 1632, 1633, 1126, 1254, 1646, 1647, 1648, 1649, 1143, 1144, 1145]))\n",
      "(23, Set([865, 243, 244, 245]), 206, Set([1945, 1946, 1949, 1950, 1951, 1953, 1963, 1964, 1965, 1966, 950, 951, 952, 953, 954, 1439, 1468, 1469, 1470, 1471, 1472, 1473, 1474, 1477, 1483, 1983]))\n",
      "(38, Set([1024, 1, 2, 1025, 295, 1548, 1023, 605, 606, 95]), 228, Set([1984, 1441, 1442, 1968, 1988, 1986, 1517, 1966, 1967, 1520, 1987, 1945, 1946, 1947, 1948, 1949]))\n",
      "(147, Set([1432, 1433, 1434, 928, 929, 291, 292, 1063, 1449, 1450, 1451, 1452, 1453, 1454, 948, 1081, 961, 962, 581, 582, 613, 614, 615]), 151, Set([1409, 1410, 1955, 1953, 1446, 1447, 1448, 1468, 1954, 1956, 943, 944, 1427, 1428, 1429, 1430, 1465, 1466, 1467, 924, 926]))\n",
      "(51, Set([288, 71, 72, 107, 1360, 17, 1362, 500, 501, 89, 90]), 24, Set([1977, 1978, 1979, 1997, 1998]))\n",
      "(69, Set([1725, 1167, 1205, 1687, 1688, 1689, 1242, 1724, 1690]), 22, Set([1024, 1025, 611, 1995, 1043, 628, 630, 1527]))\n",
      "(34, Set([1223, 717, 1199, 697, 1755, 1756, 1757]), 28, Set([1186, 1187, 1188, 1148, 1149, 1150]))\n",
      "(25, Set([1698, 1733, 1734, 1769, 1770, 1662]), 21, Set([1042, 611, 612, 1597, 2061]))\n",
      "(75, Set([1409, 726, 905, 906, 1931, 1932, 1930, 221, 401, 402, 150, 185, 509]), 26, Set([1633, 1634, 1257, 430, 431, 790, 791]))\n",
      "(82, Set([37, 404, 403, 402, 147, 148, 149, 183, 184, 185, 187, 188]), 70, Set([361, 362, 685, 686, 343, 344, 667]))\n",
      "(8, Set([460, 1261, 1262]), 53, Set([2061, 2062, 2063, 2043, 2044, 2045]))\n",
      "(112, Set([1157, 1158, 1159, 1160, 1161, 1681, 673, 1196, 1717, 1103, 1104, 1233, 728, 1755, 1122, 1123, 1105, 1643, 1269, 1270, 1271, 1661, 1662]), 107, Set([224, 288, 473, 833, 489, 202, 847, 848, 472, 470, 471, 88, 89, 474, 849, 831]))\n",
      "(22, Set([1608, 1610, 1611, 1612, 1615, 1616, 1585, 1587]), 232, Set([896, 897, 517, 518, 519, 264, 265, 1038, 913, 914, 915, 282, 283, 1055, 1056, 1905, 300, 301, 302, 1594, 1595, 1596, 85, 86, 1382, 1383, 1384, 1385, 2027, 624, 625, 1906, 1398, 1399, 248, 2044, 2045, 895]))\n",
      "(190, Set([262, 263, 857, 1308, 966, 1326, 1972, 568, 569, 1504, 838, 839, 840, 841, 460, 461, 462, 463, 464, 210, 981, 982, 983, 984, 484, 858, 479, 480, 481, 227, 228, 244, 245, 246, 1990]), 79, Set([1350, 1831, 1832, 1833, 1834, 1293, 1329, 1811, 1332, 1813, 1814, 1272, 1812, 1852]))\n",
      "(16, Set([720, 681, 682, 683, 1651]), 33, Set([1154, 807, 808, 809, 810, 1191, 1234, 1193, 827, 765]))\n",
      "(14, Set([1602, 1619, 1620]), 105, Set([160, 161, 162, 35, 36, 197, 198, 143, 144, 17, 18, 53, 54, 196, 414]))\n",
      "(17, Set([1828, 1829, 1288, 1716, 1269, 1753]), 557, Set([1288, 1289, 1290, 1291, 1292, 1293, 1294, 1846, 1812, 1813, 1814, 1815, 1353, 1306, 1307, 1308, 1309, 1310, 1311, 1312, 804, 806, 807, 1832, 1833, 1322, 1323, 1324, 1325, 1326, 822, 823, 824, 825, 1338, 1339, 1340, 1354, 1342, 837, 1352, 841, 842, 1355, 1356, 1876, 853, 856, 1828, 1850, 1817, 1830, 870, 1831, 1274]))\n",
      "(29, Set([608, 603, 590, 591, 304, 306, 595, 302, 599, 303, 605]), 396, Set([861, 759, 836, 837, 838, 839, 815, 434, 435, 436, 437, 438, 183, 440, 185, 186, 757, 451, 452, 453, 454, 455, 456, 457, 458, 459, 460, 461, 207, 184, 723, 857, 860, 477, 478, 479, 480, 481, 880, 881, 882, 500, 501, 502, 503, 504]))\n",
      "(25, Set([1329, 1851, 948, 1955]), 33, Set([1202, 1652, 1238, 1688, 1274, 1275, 1724]))\n",
      "(27, Set([1107, 1127, 1165, 1166, 1167, 1203, 1204, 1241]), 18, Set([1186, 684, 1742, 1743]))\n",
      "(48, Set([2022, 1551, 1552, 1590, 1591, 1532, 1533]), 76, Set([292, 293, 294, 1031, 616, 617, 1322, 1323, 1029, 2001, 94, 854, 1321, 1030, 475, 60, 222, 95]))\n",
      "(62, Set([1664, 1698, 1699, 1125, 1686, 1647, 1648, 1106, 1107, 1108, 1109, 1142, 1662, 1663]), 62, Set([1889, 1349, 1834, 1835, 1870, 1871, 1872, 1367, 1816, 1817, 1852, 1853]))\n",
      "(31, Set([293, 294, 327, 1484, 583, 582, 980, 310, 379, 166]), 30, Set([1313, 485, 486, 1294, 1816, 846, 504, 1817]))\n",
      "(24, Set([289, 938, 559, 560, 308, 631, 632]), 73, Set([230, 228, 37, 38, 39, 232, 233, 42, 231, 208, 214, 234]))\n",
      "(14, Set([1708, 1707, 1116, 1709, 1742]), 19, Set([740, 1605, 777, 1677, 1083, 669, 741]))\n",
      "(79, Set([1440, 935, 936, 972, 558, 1422, 952, 953, 954]), 23, Set([1281, 1282, 1283, 811, 812, 1826]))\n",
      "(721, Set([384, 129, 130, 131, 132, 133, 385, 386, 143, 151, 1177, 388, 1179, 671, 419, 420, 421, 166, 167, 168, 169, 170, 692, 705, 706, 707, 708, 709, 710, 712, 345, 346, 347, 348, 349, 350, 741, 422, 742, 359, 744, 745, 746, 743, 369, 378, 381, 382, 383]), 12, Set([1544, 2048, 2047, 2030, 1615]))\n",
      "(37, Set([2, 3, 4, 5, 74, 299, 98, 301, 56, 612, 37]), 259, Set([640, 641, 1290, 11, 1292, 1812, 1813, 154, 155, 156, 29, 30, 803, 804, 1574, 1575, 1576, 28, 1053, 48, 1054, 822, 1592, 1593, 1594, 443, 444, 445, 191, 192, 1291, 1595, 2023, 2024, 2025, 1052, 27, 116, 117, 118, 1271, 1273, 639]))\n",
      "(84, Set([1186, 35, 36, 1708, 395, 396, 1709, 718, 719, 720, 18, 1187]), 321, Set([514, 515, 1028, 1549, 1027, 1045, 1046, 1047, 1567, 496, 290, 291, 292, 241, 242, 1888, 1346, 1347, 1868, 78, 79, 80, 595, 477, 1886, 1887, 224, 1889, 227, 228, 613, 614, 875, 876, 877, 495, 240, 497, 498, 891]))\n",
      "(74, Set([430, 431, 432, 180, 342, 126]), 76, Set([1424, 290, 291, 327, 777, 650, 651, 652, 1423, 272, 273, 309, 92, 93, 542]))\n",
      "(184, Set([988, 989, 990, 980, 1494, 983, 984, 1508, 986, 987, 1500, 1501, 1502, 1509, 1504, 1505, 1506, 1507, 996, 997, 1511, 1000, 1001, 1002, 1517, 1518, 1519, 1520]), 27, Set([1671, 1672, 1708, 1133, 1709, 1169, 1115]))\n",
      "(24, Set([1730, 1731, 1732, 1733, 1767, 1768, 1695]), 40, Set([1846, 807, 1292, 1861, 1845, 1206, 1307, 1205]))\n",
      "(379, Set([768, 769, 1161, 1162, 1163, 1164, 1165, 1169, 1170, 405, 407, 408, 1197, 1198, 1199, 1200, 693, 694, 695, 696, 697, 700, 727, 728, 729, 730, 731, 732, 733, 735, 736, 738, 368, 369, 370, 372]), 95, Set([1509, 1510, 1511, 1512, 297, 586, 587, 588, 109, 110, 111, 1008, 990, 1001, 988, 989, 589]))\n",
      "(297, Set([768, 1157, 1159, 1160, 1676, 1165, 1678, 1679, 1680, 1681, 409, 410, 411, 412, 1712, 1199, 1200, 1713, 1714, 1715, 1716, 1717, 196, 197, 198, 1677, 215, 216, 730, 731, 732, 733, 1120, 1122, 1639, 1642, 1643, 765, 767]), 22, Set([290, 291, 292, 109, 1518, 1519, 599]))\n",
      "(46, Set([840, 841, 463, 464, 1864, 1341, 1879, 1880, 378, 413, 1342]), 424, Set([769, 770, 771, 772, 773, 774, 1239, 1167, 1240, 411, 412, 802, 807, 808, 1202, 1203, 1204, 1205, 1759, 1723, 1724, 1725, 447, 448, 449, 1238, 196, 197, 198, 71, 72, 467, 468, 1237, 214, 215, 216, 1241, 734, 735, 736, 737, 485, 486, 233, 234, 1760]))\n",
      "(36, Set([865, 1390, 1391, 884, 1914, 1915, 1916, 1917]), 34, Set([1664, 1666, 1698, 1140, 1141, 1174, 1662, 1173]))\n",
      "(266, Set([1088, 779, 780, 781, 1171, 1172, 1173, 1174, 1069, 2043, 1209, 1210, 1086, 1087, 704, 1089, 1090, 1609, 1610, 1611, 1612, 1613, 1614, 1627, 1251, 740, 741, 742, 743, 2028, 2029, 2030, 1135, 703, 2044, 2045, 2046]), 107, Set([704, 1729, 1730, 739, 1765, 1171, 1172, 1173, 1207, 1208, 379, 1693, 1694, 127]))\n",
      "(23, Set([288, 324, 107, 108, 306, 342, 1080, 89]), 19, Set([504, 1760, 466, 900, 503]))\n",
      "(52, Set([1863, 1864, 1865, 1866, 1867, 1328, 1329]), 513, Set([257, 258, 131, 132, 133, 727, 23, 399, 401, 402, 147, 148, 149, 150, 151, 152, 25, 154, 1948, 406, 39, 40, 41, 42, 43, 44, 563, 436, 438, 183, 184, 57, 186, 59, 60, 958, 959, 439, 204, 77, 78, 440, 1716, 726, 185, 348, 187, 188, 364, 366, 1192, 405]))\n",
      "(174, Set([2048, 18, 2067, 2068, 664, 34, 54, 322, 1093, 1094, 846, 1616, 1617, 1618, 1619, 340, 341, 215, 1633, 1634, 1635, 1636, 2066, 1620, 124, 125, 126]), 151, Set([1408, 1409, 1410, 901, 902, 1930, 1931, 1932, 1934, 1935, 1936, 1937, 1369, 1370, 1387, 1388, 1389, 1390, 1391, 1392, 883, 884, 885, 1912, 1913, 1914, 1916]))\n",
      "(89, Set([1430, 1478, 1479, 1963, 1964, 1901, 1965, 1936, 1429, 1462, 1463, 1945, 1946, 1916, 1918, 1461]), 25, Set([44, 1036, 622, 1558, 316, 188]))\n",
      "(96, Set([832, 1826, 835, 1828, 1285, 1286, 1287, 1829, 816, 1830, 469, 1302, 1303, 1304, 1305, 1306, 1301]), 361, Set([128, 129, 130, 131, 132, 145, 146, 147, 20, 21, 22, 23, 163, 164, 165, 38, 39, 40, 41, 1322, 1323, 1324, 1864, 183, 184, 185, 186, 187, 834, 835, 836, 454, 455, 456, 457, 202, 203, 204, 205, 853, 1863, 19, 1862, 1321, 148, 127, 149]))\n",
      "(98, Set([1920, 1921, 1378, 1900, 1901, 1358, 1359, 1939, 1940, 1878, 1879, 1880]), 18, Set([1258, 2011, 2012, 1746]))\n",
      "(45, Set([704, 705, 667, 740, 741, 776, 777, 1135, 739, 344, 379, 703]), 34, Set([1286, 1809, 1810, 1811, 1812, 1789, 1790]))\n",
      "(265, Set([402, 278, 279, 280, 1993, 797, 798, 457, 42, 43, 44, 45, 438, 567, 440, 185, 186, 187, 587, 1990, 1991, 1992, 585, 586, 439, 1229, 1230, 79, 80, 81, 82, 1507, 983, 1504, 1505, 1506, 99, 1508, 1000, 1001, 1786, 1787]), 141, Set([1958, 1959, 1960, 1961, 1962, 1452, 1453, 1454, 1997, 1492, 1998, 1979, 1980]))\n",
      "(41, Set([1762, 1763, 1764]), 81, Set([739, 740, 741, 775, 776, 2057, 1623, 1624, 415, 1245, 703]))\n",
      "(273, Set([1288, 1289, 1291, 1812, 801, 803, 804, 809, 1272, 1271, 1233, 1234, 1264, 1266, 1267, 1268, 1269, 1270, 1783, 1784, 1785, 1274, 1791]), 18, Set([1891, 1927, 1909, 1910, 1911]))\n",
      "(69, Set([965, 966, 968, 1451, 1452, 2066, 984, 985, 607]), 95, Set([1984, 1537, 1538, 1638, 1985, 1578, 1579, 1964, 1519, 1520, 1618, 1619, 1620, 1558, 1983, 1598, 1599]))\n",
      "(148, Set([1288, 400, 1810, 147, 20, 149, 798, 799, 800, 801, 815, 1813, 437, 438, 439, 440, 441, 1811, 1269, 1270, 1271, 1812, 763, 764, 127]), 318, Set([1414, 1415, 1416, 1417, 1418, 910, 911, 912, 913, 914, 532, 928, 931, 549, 550, 962, 963, 1482, 977, 978, 1363, 980, 1365, 1366, 1380, 1498, 1499, 1500, 1501, 1502, 995, 996, 997, 998, 1383, 1384, 1386, 1516, 1517, 1518, 1904, 1905, 1906, 979, 1398, 1399, 1400, 1364, 1402, 1534, 895]))\n",
      "(584, Set([1153, 1154, 1155, 1156, 1157, 1675, 1676, 1677, 1678, 1679, 1680, 1711, 669, 1191, 687, 1712, 1713, 1714, 1100, 1101, 1102, 1117, 1118, 1119, 1120, 1121, 1639, 1640, 1641, 1642, 1643, 1644]), 21, Set([643, 663, 622, 623, 792, 791, 664]))\n",
      "(27, Set([1611, 603, 1484, 1053, 998]), 127, Set([387, 673, 674, 1955, 298, 1971, 1972, 1973, 1974, 1975, 1469, 585, 586, 1954, 1103, 1105, 1106, 982, 983, 99, 116, 117]))\n",
      "(148, Set([1225, 1783, 1228, 397, 399, 1747, 434, 435, 436, 437, 758, 759, 760, 761, 762, 795, 796, 797, 757]), 17, Set([130, 168, 620, 1154, 722, 313]))\n",
      "(46, Set([672, 673, 674, 707, 676, 709, 710, 705, 1674, 1139, 1140, 1142, 708, 704]), 49, Set([1475, 1476, 1957, 1959, 1960, 1961, 971, 1492, 1493, 1494, 1977, 954, 1978]))\n",
      "(53, Set([457, 202, 203, 204, 1815, 818, 820, 1814, 55, 1290]), 169, Set([1668, 1669, 1777, 1704, 1705, 1778, 1217, 1218, 1219, 1220, 1221, 1739, 1741, 1742, 1110, 1633, 1634, 1635, 1255, 1256, 1257, 1776, 1649, 1650, 1779, 1146, 1147]))\n",
      "(81, Set([1826, 454, 1585, 456, 41, 458, 1303, 111, 816, 817, 309, 457, 632, 1304, 1845]), 251, Set([640, 641, 642, 643, 644, 1288, 1289, 1290, 1810, 1811, 29, 30, 31, 801, 802, 803, 804, 805, 1074, 819, 820, 821, 822, 441, 442, 443, 444, 190, 191, 336, 337, 2028, 623, 624, 120, 765]))\n",
      "(30, Set([1873, 1333, 1334, 829, 830, 757]), 46, Set([1686, 1127, 1128, 1129, 1707, 1685, 1110, 1111, 1721]))\n",
      "(83, Set([872, 1356, 1357, 1358, 885, 886, 887, 505, 506, 1373, 1374, 1375]), 146, Set([896, 1414, 519, 520, 910, 911, 912, 518, 1415, 1416, 54, 70, 71, 72, 231, 232, 1903, 1397, 1398, 1399, 248, 250, 892, 1918, 895]))\n",
      "(19, Set([360, 105, 106, 143, 1490, 986, 987, 285]), 56, Set([1345, 546, 1495, 1479, 1981, 875, 876, 514, 974, 975, 529, 530, 531, 1346, 1496, 892, 893, 958, 959]))\n",
      "(149, Set([1794, 1795, 1796, 1167, 1168, 1169, 684, 1203, 1204, 1205, 1723, 1724, 1725, 1726, 1236, 1237, 1757, 1758, 1759, 1760, 1761, 1134]), 214, Set([577, 578, 579, 580, 581, 582, 583, 596, 598, 599, 600, 601, 602, 993, 994, 995, 996, 997, 1516, 1012, 1013, 1014, 1015]))\n",
      "(93, Set([1922, 1027, 1028, 1415, 1416, 1417, 1937, 1938, 1432, 1433, 1434, 1567, 1568, 548, 549, 944, 962, 580, 581, 582, 597, 598, 993]), 87, Set([1121, 1700, 1189, 1702, 1153, 1737, 1101, 1102, 1103, 1141, 1662, 1140, 1118, 1142, 1119, 669, 670, 671]))\n",
      "(222, Set([1316, 1318, 1319, 1322, 1323, 1324, 1326, 1327, 1328, 1329, 1330, 1331, 1332, 1337, 831, 833, 838, 847, 848, 849, 850, 852, 855, 856]), 43, Set([2048, 2049, 2058, 2060, 2062, 2032, 2033, 2034, 2046, 2047]))\n",
      "(107, Set([163, 326, 261, 262, 553, 554, 109, 110, 934, 277, 278, 567, 952, 93, 94, 95]), 276, Set([44, 45, 46, 47, 48, 61, 190, 63, 64, 65, 66, 245, 204, 205, 206, 207, 208, 209, 210, 478, 224, 225, 226, 227, 228, 1896, 1897, 494, 495, 496, 62, 890]))\n",
      "(31, Set([328, 331, 333, 316, 317, 318, 319]), 78, Set([1376, 1895, 73, 74, 237, 238, 1392, 1393, 888, 508, 1374, 1375]))\n",
      "(27, Set([1761, 806, 497, 1239, 892, 479]), 30, Set([65, 226, 227, 228, 103, 2050, 496, 2051, 644, 1340, 1341, 1599]))\n",
      "(17, Set([1856, 1337, 874, 1338, 1855]), 255, Set([1664, 1160, 1161, 1812, 672, 673, 674, 803, 804, 1830, 1831, 1197, 1198, 1662, 1697, 802, 1103, 1104, 1105, 1106, 1107, 728, 729, 1121, 1122, 1123, 1124, 1125, 1646, 1661, 1235, 1141, 1270, 1272, 764, 765, 766, 1663]))\n",
      "(33, Set([656, 3, 1252, 1253, 330, 112]), 37, Set([741, 742, 743, 1772, 1773, 1774, 1212, 1213, 1214]))\n",
      "(188, Set([1963, 1424, 1425, 920, 921, 1947, 1444, 937, 938, 939, 1964, 1965, 1459, 1460, 1461, 1462, 1477, 1478, 1479, 1480, 1893, 1387, 1388, 1389, 1390, 1391, 1406, 1407]), 167, Set([1891, 1892, 1927, 1928, 1929, 1930, 1387, 1909, 1910, 1911, 1405, 1406]))\n",
      "(138, Set([1540, 1541, 1542, 16, 17, 284, 301, 302, 303, 450, 197, 198, 71, 468, 215, 216, 606, 607, 608, 104, 105, 106, 1020, 1021]), 35, Set([260, 261, 262, 551, 552, 949, 950]))\n",
      "(327, Set([256, 257, 258, 1290, 1291, 1292, 1981, 276, 1814, 1815, 819, 1963, 1964, 561, 562, 563, 564, 821, 822, 823, 462, 820, 442, 443, 444, 61, 958, 580, 1477, 974, 459, 460, 461, 206, 207, 208, 977, 78, 1495, 1496, 1497, 1498, 463, 976, 975, 956, 957, 240, 1273, 1274, 1275]), 464, Set([1282, 1539, 1032, 1033, 1034, 1035, 1804, 1538, 1556, 1554, 276, 277, 1302, 1822, 1824, 295, 1840, 456, 585, 61, 834, 1805, 582, 583, 584, 457, 204, 205, 78, 79, 81, 1806, 600, 601, 602, 603, 604, 96, 97, 98, 996, 997, 998, 999, 1000, 1518, 1520, 1521, 1522, 1013, 1014, 1015, 1016, 1017, 1018, 1019]))\n",
      "(58, Set([2067, 1602, 1635, 1636, 1062, 1617, 1618, 1619, 2069]), 209, Set([1282, 1283, 1803, 1804, 1805, 1302, 1823, 1824, 1840, 1841, 1842, 1843, 1859, 1860, 1861, 1227, 1750, 1751, 1264, 1265, 1266, 1785, 1786, 1787]))\n",
      "(16, Set([978, 1988, 1501, 199]), 381, Set([1, 19, 581, 1952, 289, 290, 291, 292, 1969, 1500, 1970, 1967, 1968, 561, 562, 563, 308, 1951, 578, 579, 580, 325, 582, 1481, 1482, 1483, 1484, 975, 976, 977, 978, 979, 598, 1499, 91, 92, 1501, 94, 994, 995, 109, 110]))\n",
      "(40, Set([1233, 713, 749, 1198, 1199, 1200, 1197, 1235, 731]), 2518, Set([1024, 1025, 1026, 1543, 1544, 1545, 1546, 1547, 1548, 1038, 1039, 1040, 1041, 1042, 1043, 1044, 1561, 1562, 1563, 1564, 1565, 1566, 1058, 1059, 1060, 1061, 1062, 1579, 1580, 1581, 1582, 1583, 1584, 573, 589, 590, 591, 592, 593, 594, 604, 606, 607, 608, 609, 610, 611, 612, 626, 627, 628, 629, 630, 285, 287, 301, 302, 303, 304, 305, 322, 1958, 1959, 1960, 1961, 1976, 1977, 1978, 1997, 1490, 1491, 1492, 983, 988, 2015, 1507, 1508, 1509, 1510, 1511, 1001, 1002, 1003, 1004, 1005, 1006, 1007, 1008, 1523, 1524, 1525, 1526, 1527, 1528, 1529, 1530, 1019, 1020, 1021, 1022, 1023]))\n",
      "(462, Set([650, 651, 653, 1173, 1049, 1136, 418, 420, 167, 168, 169, 1066, 1067, 309, 310, 311, 312, 313, 326, 327, 328, 329, 330, 331, 332, 1659, 741, 742, 616, 617, 618, 619, 112, 1137, 114, 632, 633, 634, 635, 636, 637]), 22, Set([74, 1845, 472, 473, 219, 220]))\n",
      "(192, Set([1927, 1928, 1929, 1930, 1931, 1423, 1424, 1425, 1426, 1427, 1945, 1946, 1441, 1442, 1443, 1444, 1963, 1964, 1965, 1479, 1910, 1913]), 72, Set([1536, 961, 962, 1937, 1450, 1484, 1938, 1518, 1519, 945, 946, 1432, 1433, 1501, 1534, 1535]))\n",
      "(95, Set([1154, 163, 1713, 361, 362, 363, 685, 686, 687, 1712, 721, 722, 723, 127]), 100, Set([1316, 1317, 1820, 1895, 1353, 1354, 1838, 1839, 1875, 1894, 1334, 1335, 1336, 1337, 1819, 1372, 1821]))\n",
      "(243, Set([775, 776, 394, 779, 780, 781, 784, 785, 787, 788, 789, 790, 664, 1184, 1185, 1186, 429, 430, 1220, 1221, 1222, 1223, 749, 750, 751, 752, 753, 754, 755, 756]), 20, Set([1905, 1437, 1959]))\n",
      "(53, Set([1760, 1792, 738, 1794, 1170, 1203, 1204, 1757, 1758, 1759]), 67, Set([1312, 1314, 1831, 1832, 1833, 1834, 1835, 1292, 1293, 1294, 1295, 1815, 1311]))\n",
      "(16, Set([485, 70, 71, 845, 303, 304]), 110, Set([256, 1035, 275, 276, 1557, 1558, 1559, 293, 294, 1575, 2009, 2007, 2008, 601, 602, 865, 867, 1574, 487, 488, 237, 238, 239, 883, 884, 506, 507, 255]))\n",
      "(192, Set([641, 642, 15, 1072, 1073, 318, 319, 320, 70, 1611, 1612, 336, 86, 87, 88, 103, 104, 105, 233, 504, 250, 1385]), 174, Set([1542, 1546, 1547, 1548, 1991, 1945, 1946, 1948, 1989, 1990, 1963, 1964, 1968, 1459, 1460, 1461, 956, 1988, 1477, 1478, 1479, 1495, 1496, 1499, 1500, 1501, 1521, 1522, 1523, 1524, 1525]))\n",
      "(134, Set([1248, 1249, 1771, 2020, 1606, 1607, 1736, 1737, 1735, 1772, 1999, 2000, 2001, 2002, 1587, 1588, 2037, 1625, 1626, 1085, 2019]), 72, Set([937, 938, 1483, 1486, 1487, 1488, 1489, 1977, 1463, 1465, 1466]))\n",
      "(170, Set([1155, 1156, 2053, 668, 1191, 1192, 686, 687, 689, 1714, 1208, 703, 704, 705, 706, 1748, 1749, 1750, 1751, 1752, 1243, 1244, 740, 741, 1786]), 33, Set([1249, 1768, 1770, 1771, 1772, 1773]))\n",
      "(19, Set([1125, 727, 726, 1110, 759, 760]), 512, Set([1473, 266, 139, 140, 141, 14, 15, 537, 1688, 409, 410, 411, 157, 158, 159, 32, 538, 1960, 554, 555, 556, 1458, 1454, 1455, 1456, 1457, 50, 51, 951, 696, 697, 698, 699, 1653, 160, 1474, 67, 68, 69, 70, 71, 268, 1166, 1165, 952, 142, 86, 953, 267, 1652, 1687, 1650, 1651, 372, 373, 374, 375, 248, 249]))\n",
      "(42, Set([1225, 1226, 1227, 1788, 1789, 1791]), 203, Set([515, 516, 517, 909, 910, 911, 913, 532, 533, 534, 86, 1898, 302, 322, 323, 324, 85, 342, 87, 88, 105, 106, 107, 108, 1897, 248, 125, 126, 341]))\n",
      "(491, Set([896, 1921, 1154, 1155, 1156, 1157, 1418, 1922, 402, 1923, 1940, 1924, 668, 669, 670, 671, 673, 44, 686, 687, 688, 689, 690, 187, 188, 189, 190, 1119, 1122, 206, 207, 208, 722, 1123, 724, 725, 1925, 1103, 1117, 1118, 479, 1120, 1121, 226, 227, 1642, 366, 367, 1398, 1399, 1400, 1401, 1402, 1404, 894, 895]), 66, Set([1632, 1633, 1221, 1255, 1256, 681, 716, 717, 750, 787, 788]))\n",
      "(13, Set([1899, 1916, 1917, 1935]), 55, Set([1312, 449, 450, 1835, 1313, 1832, 1291, 1292, 1293, 1294, 826, 827, 1310, 1311]))\n",
      "(397, Set([1924, 1417, 1418, 1419, 1420, 1421, 1422, 914, 915, 916, 1941, 1942, 1434, 1435, 1436, 1437, 1438, 1439, 1440, 932, 933, 934, 935, 936, 554, 1453, 1454, 1455, 1456, 952, 953, 1957, 1958, 1940]), 394, Set([1792, 1794, 1795, 1289, 1290, 1291, 1902, 1307, 1308, 1309, 1904, 1326, 1344, 1888, 1903, 1358, 1359, 1360, 1361, 1362, 1363, 1364, 1365, 1366, 1367, 1880, 1881, 1883, 1884, 1887, 1376, 1377, 1378, 1379, 1380, 1381, 1382, 1383, 873, 1901, 878, 879, 880, 1879, 1396, 1271, 1272, 893]))\n",
      "(17, Set([1950, 1949, 1934, 1447]), 323, Set([269, 1303, 1304, 1305, 1306, 1307, 286, 287, 288, 1825, 1826, 1827, 838, 1322, 1323, 1843, 1844, 1845, 837, 67, 68, 69, 70, 839, 209, 210, 211, 87, 479, 480, 481, 482, 227, 228, 229, 230, 231, 594, 248, 249, 250]))\n",
      "(218, Set([704, 705, 1693, 1659, 1171, 685, 1135, 1136, 1137, 703, 19, 1172, 55, 344, 1657, 1658, 667, 668, 669, 1694, 127]), 302, Set([1420, 1940, 1941, 1942, 1943, 1944, 1437, 1438, 1439, 1440, 935, 936, 558, 1455, 1456, 1457, 1458, 952, 953, 954, 1474, 1475, 1476, 971, 972]))\n",
      "(30, Set([866, 867, 911, 914, 915, 888, 889, 890, 891]), 25, Set([1860, 1861, 1357, 1877, 1878, 1879]))\n",
      "(46, Set([1105, 1106, 372, 373, 374, 695, 216, 159]), 442, Set([1664, 1665, 1666, 1795, 1796, 1238, 1798, 1162, 1163, 1164, 1165, 1166, 1685, 1686, 1687, 1688, 1797, 1699, 1700, 677, 1702, 1200, 1201, 1202, 1203, 1204, 1721, 1722, 1723, 1724, 1725, 1733, 1106, 1107, 1108, 1109, 1110, 1239, 1759, 1701, 1760, 1761, 1762, 1126, 1127, 1128, 1130, 1648, 1143, 1144, 1663]))\n",
      "(10, Set([1260, 882, 900, 1782]), 49, Set([418, 1416, 778, 242, 80, 81, 114, 532, 1208]))\n",
      "(63, Set([2048, 2032, 2065, 2064, 2049, 2063, 1616, 1777, 2066, 2067, 2068, 2069, 2046, 2047]), 127, Set([288, 576, 516, 534, 1393, 264, 266, 267, 268, 889, 536, 531, 533, 246, 535, 248, 249, 890, 1372, 1373, 287]))\n",
      "(34, Set([839, 840, 810, 887, 825, 826]), 117, Set([260, 261, 262, 526, 527, 528, 529, 281, 282, 283, 284, 302, 303, 304, 612, 240, 241, 883, 884, 506, 507, 508]))\n",
      "(190, Set([386, 387, 388, 389, 390, 135, 136, 643, 1044, 644, 30, 645, 646, 423, 424, 171, 172, 173, 392, 320, 321, 332, 337, 338, 339, 391, 628, 629, 118]), 43, Set([2027, 2028, 2065, 2066, 2006, 2007, 2008, 2046, 2047]))\n",
      "(38, Set([577, 613, 614, 1064, 595, 1045, 1046, 1623, 1605]), 294, Set([1281, 1282, 1283, 1803, 1804, 1299, 1300, 1301, 795, 1820, 1821, 1822, 1823, 1824, 1316, 1317, 1318, 1319, 1320, 1321, 1839, 1841, 1335, 1336, 1337, 831, 832, 834, 1354, 850, 851, 852, 1372, 1373, 1893, 1894, 1895, 1896, 1897, 1263, 1264, 1788]))\n",
      "(120, Set([1851, 854, 902, 1324, 492, 1325, 1326, 885, 886, 857, 1850, 1343, 901]), 904, Set([871, 51, 14, 15, 16, 856, 835, 857, 157, 158, 159, 32, 33, 34, 35, 36, 1318, 1320, 1322, 477, 49, 50, 179, 52, 478, 1338, 850, 458, 832, 833, 834, 67, 836, 837, 70, 455, 456, 457, 202, 203, 204, 205, 208, 209, 210, 211, 852, 213, 854, 855, 472, 473, 474, 475, 476, 221, 222, 223, 224, 869, 870, 849, 872, 490, 491, 492, 493, 494, 495, 496, 497, 242, 851, 122, 853]))\n",
      "(68, Set([1920, 1378, 1318, 871, 872, 1395, 1900, 1320, 1298, 851, 852, 1397, 1398, 1396, 1819, 1919]), 35, Set([1897, 1901, 1902, 1903, 1904, 1905, 1401]))\n",
      "(25, Set([1152, 1147, 675, 1148, 1149]), 119, Set([1120, 1121, 1122, 1123, 1679, 1696, 1643, 1101, 1102, 1103, 1104, 1681, 1717, 1680, 1659, 1660, 1694, 1695]))\n",
      "(390, Set([1287, 1289, 1290, 1291, 1292, 1165, 1166, 1167, 1811, 1812, 1813, 1814, 1687, 1688, 1831, 1200, 1201, 1202, 1235, 1236, 1237, 1238, 1112, 1113, 1758, 1760, 1128, 1129, 1130, 1132, 1815, 1650, 1651, 1652, 1653, 1270, 1271, 1272, 1273, 1274]), 47, Set([1120, 400, 689, 1933, 42, 365, 366, 528, 240, 529, 402, 1429, 150]))\n",
      "(13, Set([1059, 1061, 1615, 1628, 1629, 1630]), 18, Set([1081, 2039, 1589, 2038, 1605]))\n",
      "(25, Set([1424, 1443, 1948, 1967]), 21, Set([1476, 1322, 952, 498, 1843, 536, 857]))\n",
      "(24, Set([710, 1639, 429, 1102, 1104, 665]), 256, Set([2053, 2054, 2055, 1673, 1674, 1603, 1185, 1706, 1707, 1708, 1709, 1710, 1212, 1215, 1216, 1217, 1218, 1219, 1605, 1741, 1742, 1621, 1623, 1624, 1625, 1248, 1249, 1250, 1251, 1252, 1772, 1773, 1774, 1776]))\n",
      "(48, Set([290, 1046, 614, 74, 75, 237, 1045, 886, 508, 1373]), 33, Set([1188, 1225, 1194, 1227, 1228, 717, 692, 726, 727, 728, 1226]))\n",
      "(25, Set([1441, 1442, 1443, 1963, 1461, 1945, 1946]), 321, Set([512, 513, 514, 649, 650, 112, 1063, 307, 308, 309, 310, 311, 61, 1603, 325, 326, 327, 328, 77, 78, 79, 1362, 1364, 94, 95, 96, 1379, 1380, 1381, 874, 109, 1902, 111, 240, 241, 242, 631, 632, 633, 890, 891, 892, 893, 894, 511]))\n",
      "(73, Set([772, 358, 359, 1259, 1260, 754, 755, 756, 377, 1276]), 21, Set([411, 464, 1363, 1114, 859, 700]))\n",
      "(126, Set([1732, 1733, 1767, 1768, 1769, 1770, 1771, 1211]), 179, Set([128, 1643, 902, 1644, 523, 524, 271, 272, 273, 146, 19, 20, 920, 541, 289, 37, 559, 56, 1642, 73, 74, 217, 91, 362, 235, 236, 237, 505, 506, 253, 254, 255]))\n",
      "(53, Set([1222, 1129, 1130, 1742, 1743, 1744, 1688, 1780, 1687, 1112, 1147, 1148, 1149]), 31, Set([1927, 937, 938, 974, 956, 1533]))\n",
      "(235, Set([384, 273, 274, 275, 276, 1176, 1177, 543, 544, 545, 546, 1699, 1700, 939, 1480, 562, 1461, 1462, 311, 312, 955, 956, 957, 958, 959, 960, 1697, 328, 329, 1698, 974, 975, 978, 95, 111, 113, 1139, 1140, 1141]), 95, Set([1955, 1956, 1957, 1990, 1991, 1970, 1987, 1972, 1973, 1974, 1988, 1989, 1503]))\n",
      "(166, Set([1728, 1762, 1763, 1764, 1799, 1169, 1170, 1203, 1204, 1206, 1690, 1691, 1725, 1726, 1727]), 13, Set([1736, 1737, 1666, 2054, 1735]))\n",
      "(338, Set([1408, 1409, 904, 905, 1931, 397, 398, 811, 812, 813, 814, 433, 434, 435, 436, 181, 182, 184, 1226, 830, 437, 832, 451, 452, 453, 454, 455, 200, 201, 202, 203, 1748, 469, 470, 471, 472, 473, 757, 831, 509, 1749]), 61, Set([1640, 1676, 1675, 1100, 1101, 1102, 1711, 1712, 1747, 1658, 1117, 1695]))\n",
      "(35, Set([2053, 2055, 2057, 1621, 2038, 2039, 2037]), 521, Set([1963, 1964, 1965, 1966, 1967, 1968, 1981, 1982, 1983, 1984, 1985, 1986, 1495, 1496, 1497, 1498, 1513, 1514, 1515, 1518, 1009, 1531, 1532]))\n",
      "(116, Set([1473, 1474, 1507, 1508, 1958, 1959, 1960, 1993, 1991, 1538, 1456, 1457, 1490, 1491, 1492, 1974, 1975, 1976, 1977, 1539, 1992]), 1049, Set([1792, 1793, 1794, 1795, 1796, 1797, 1814, 1198, 1199, 1200, 1201, 1721, 1722, 1723, 1724, 1232, 1233, 1234, 1235, 1236, 1237, 1238, 1754, 1755, 1756, 1757, 1758, 1759, 1760, 1762, 1269, 1270, 1271, 1272, 1273, 1274, 1791, 765, 1790, 767]))\n",
      "(53, Set([1189, 200, 489, 887, 1391, 721, 434, 886, 471, 1914, 1915]), 18, Set([1351, 1352, 1354, 1355, 1874, 1333, 1339]))\n",
      "(41, Set([898, 196, 1925, 1132, 1906, 214, 1402, 700]), 465, Set([1451, 265, 266, 267, 268, 269, 270, 913, 18, 535, 536, 537, 538, 539, 540, 1434, 286, 1433, 930, 931, 932, 933, 934, 553, 554, 555, 556, 557, 558, 1437, 948, 949, 950, 951, 953, 572, 573, 574, 87, 88, 89, 90, 1452, 1435, 1436, 107, 108, 249, 250]))\n",
      "(33, Set([785, 786, 1091, 1092, 1090]), 297, Set([900, 522, 1330, 1331, 1332, 1887, 1888, 1347, 1348, 1349, 1350, 1869, 1870, 1871, 1872, 1367, 1368, 861, 862, 863, 864, 485, 234, 879, 880, 881, 882, 503, 504]))\n",
      "(50, Set([1671, 1672, 1673, 1674, 1708, 1709, 1710]), 76, Set([736, 737, 738, 1167, 1688, 1686, 1687, 376, 378, 413]))\n",
      "(18, Set([168, 115, 116, 1526, 315, 605, 606]), 585, Set([1027, 1028, 1029, 902, 1031, 1047, 1549, 1550, 271, 1045, 1046, 919, 541, 901, 1568, 1569, 1570, 1571, 1030, 1585, 1065, 559, 561, 1586, 1587, 1567, 577, 578, 595, 1551, 2019, 2017, 2018, 1891, 1892, 613, 614, 1009, 2035, 2036, 2037, 2038, 2039, 1532, 1405]))\n",
      "(25, Set([1970, 942, 1426, 1427, 1909, 1910, 1911, 1464, 1465, 1971]), 3785, Set([512, 513, 514, 515, 516, 6, 7, 8, 9, 10, 11, 12, 528, 529, 530, 531, 532, 533, 547, 548, 550, 552, 43, 44, 45, 46, 47, 563, 564, 565, 566, 567, 568, 569, 58, 59, 60, 61, 62, 63, 64, 65, 66, 67, 580, 581, 582, 583, 584, 585, 586, 587, 588, 77, 78, 79, 80, 81, 82, 83, 84, 85, 598, 599, 600, 601, 602, 603, 604, 605, 96, 98, 99, 100, 102, 153, 187, 1482, 1483, 1484, 203, 204, 205, 206, 207, 208, 209, 210, 222, 223, 224, 225, 226, 227, 228, 229, 239, 240, 241, 242, 243, 244, 245, 246, 247, 257, 258, 259, 260, 261, 262, 263, 264, 265, 275, 276, 277, 278, 279, 280, 281, 282, 293, 294, 295, 296, 297, 298, 299, 1501, 1502, 1988, 570, 892, 907, 579, 1519, 1520, 1521, 958, 959, 960, 961, 962, 963, 964, 965, 1480, 1481, 458, 459, 460, 1485, 1486, 976, 977, 978, 979, 980, 981, 982, 983, 984, 475, 476, 477, 478, 479, 995, 996, 997, 998, 999, 1000, 1001, 492, 494, 495, 496, 497, 500, 1019, 509, 510, 511]))\n",
      "(22, Set([1960, 1976, 1975]), 446, Set([1539, 1540, 1541, 1542, 1031, 1032, 1034, 1037, 1556, 1557, 1558, 1559, 1521, 1543, 1544, 1980, 1527, 631, 1996, 1997, 1998, 1016, 600, 601, 602, 603, 604, 1530, 614, 615, 1000, 1001, 1002, 999, 1520, 1512, 1522, 1523, 1524, 1525, 1526, 1015, 632, 1017, 1018, 1019, 1020, 1021, 1022]))\n",
      "(43, Set([1921, 1922, 2059, 1417, 298, 299, 621, 622, 280, 281, 638]), 777, Set([1281, 1282, 1283, 1284, 1285, 1286, 1842, 397, 398, 1807, 145, 1299, 1300, 1301, 1302, 1303, 1304, 793, 794, 1839, 1822, 1823, 1824, 1825, 1826, 1827, 38, 1841, 811, 812, 813, 814, 815, 816, 433, 434, 435, 436, 181, 182, 183, 184, 1843, 829, 451, 452, 453, 454, 199, 1297, 757, 758]))\n",
      "(151, Set([1915, 837, 1393, 1933, 1756, 458, 459, 1914, 494, 1916, 1917, 1233, 1394, 1913, 1720, 889, 890, 1755, 476, 765]), 475, Set([1152, 1664, 1666, 1667, 1668, 1669, 1670, 1665, 1672, 1663, 1179, 1693, 1694, 1696, 1697, 1699, 1700, 1701, 1702, 1703, 1704, 1671, 684, 1655, 1111, 1112, 1113, 1114, 1115, 1116, 1659, 1133, 1134, 1142, 1143, 1144, 1145, 1146, 1147, 1149, 1662, 1151]))\n",
      "(11, Set([376, 824, 1309, 1310]), 38, Set([738, 197, 231, 232, 233, 1170, 914, 214, 215]))\n",
      "(683, Set([514, 1451, 261, 262, 263, 264, 265, 266, 280, 530, 531, 532, 533, 534, 535, 536, 281, 1435, 1433, 927, 928, 929, 930, 931, 548, 549, 550, 551, 552, 553, 554, 555, 944, 945, 947, 948, 949, 566, 567, 568, 569, 570, 571, 572, 1469, 1470, 963, 964, 950, 966, 967, 951, 83, 981, 983, 984, 985, 933, 965, 1956]), 45, Set([2054, 1774, 1775, 1776, 1777, 2035, 2036, 1627, 1628, 1629, 1743]))\n",
      "(432, Set([1794, 1795, 1796, 1797, 1798, 1799, 395, 396, 142, 143, 1169, 792, 666, 432, 1202, 1203, 1204, 1205, 1759, 1725, 1726, 1728, 1760, 1761, 1762, 1237, 1238, 1239, 1240, 1241, 1758, 735, 736, 737, 738, 1763, 1764, 358, 359, 360, 377, 378]), 50, Set([1440, 1961, 1458, 1476, 1962]))\n",
      "(111, Set([1668, 1704, 1705, 1706, 1740, 1741, 1742, 1647, 1648, 1649, 1650, 1743]), 600, Set([640, 641, 642, 1027, 644, 1030, 1601, 1039, 660, 1045, 1046, 1048, 1049, 1050, 1051, 1052, 1053, 1054, 1055, 1056, 1057, 1058, 1571, 1572, 1575, 1577, 1578, 1579, 1069, 1071, 1072, 1073, 1074, 1075, 1076, 1077, 1079, 1080, 1588, 1594, 1567, 1596, 1597, 1598, 1589, 1600, 1568, 1602, 1569, 1612, 1570, 1614, 1613, 1616, 1619, 1593, 1615, 1595, 2026, 2027, 2028, 2029, 1585, 1599, 2044, 2045, 2046, 2047]))\n",
      "(182, Set([1540, 1541, 1558, 1559, 1176, 1177, 1053, 1698, 1575, 1576, 1210, 1211, 1212, 1213, 1088, 1733, 1734, 1735, 1736, 1737, 1769, 1770, 1771, 1773]), 148, Set([1152, 1185, 1186, 1187, 1188, 1710, 1648, 1649, 1650, 1651, 1110, 1111, 1112, 1113, 1149, 1150]))\n",
      "(217, Set([130, 131, 777, 778, 651, 652, 653, 400, 1752, 1626, 417, 418, 1193, 1194, 688, 689, 690, 1082, 1083, 1084, 1603, 1604, 1605, 724, 725, 726, 1751, 344, 345, 346, 347, 742, 363, 364, 365, 366, 2035, 2036, 2037, 381, 382, 383]), 1087, Set([643, 644, 1004, 1039, 1036, 1037, 1038, 1005, 1040, 1042, 1043, 1044, 279, 280, 281, 282, 283, 1055, 1056, 1057, 296, 297, 298, 299, 300, 301, 302, 303, 315, 316, 317, 318, 319, 320, 321, 322, 585, 586, 587, 588, 589, 590, 591, 592, 982, 603, 604, 605, 606, 607, 608, 609, 610, 100, 101, 102, 103, 104, 105, 1003, 988, 621, 622, 623, 624, 625, 626, 627, 1001, 1019, 1020, 1021]))\n",
      "(17, Set([1843, 1844, 1334]), 27, Set([1856, 1858, 1859, 1860, 1333, 1855]))\n",
      "(484, Set([513, 909, 1896, 1356, 1357, 1359, 1360, 1361, 855, 1372, 1373, 1374, 1375, 1376, 1377, 1378, 868, 870, 871, 872, 873, 874, 493, 494, 495, 1392, 1393, 1394, 1395, 887, 888, 889, 890, 891, 892, 511]), 31, Set([4, 294, 999, 1000, 1995, 111, 112, 113, 19, 92]))\n",
      "(19, Set([1651, 1652, 1654]), 335, Set([1796, 1797, 1798, 1292, 1293, 1812, 1813, 1814, 1815, 1830, 1831, 1832, 1847, 1848, 1725, 1726, 1727, 1864, 1865, 1866, 1238, 1239, 1240, 1759, 1760, 1761, 1762, 1763, 1272, 1273, 1274, 1275, 1276]))\n",
      "(527, Set([1024, 1025, 1542, 1543, 1544, 1545, 1546, 1037, 1038, 1039, 1040, 1041, 1042, 1558, 1559, 1560, 1561, 1562, 1563, 1564, 1565, 2011, 2012, 1578, 1579, 1580, 1581, 1582, 1965, 1945, 1478, 1479, 1480, 1946, 1499, 1500, 1501, 607, 608, 1001, 1964, 1004, 1519, 1520, 1521, 1527, 1019, 1020, 1021, 1022, 1023]), 358, Set([1152, 516, 517, 518, 1415, 1416, 393, 394, 395, 13, 14, 15, 912, 913, 533, 534, 535, 537, 31, 32, 33, 930, 1187, 1188, 1186, 1708, 1709, 1710, 177, 178, 1224, 716, 717, 718, 719, 720, 84, 911, 1936, 754, 755, 246, 247, 248, 1150, 1151]))\n",
      "(10, Set([88, 89, 896, 519]), 49, Set([1, 166, 167, 746, 748, 1741, 1742, 385, 20, 21, 22]))\n",
      "(259, Set([684, 522, 269, 270, 143, 144, 17, 18, 540, 287, 161, 34, 35, 36, 683, 556, 557, 558, 178, 179, 180, 54, 954, 700, 701, 702, 575, 576, 972, 1115, 990, 358, 359, 360, 1131, 1132, 1133, 375, 376, 377, 378, 252]), 1095, Set([515, 517, 9, 10, 11, 12, 14, 28, 29, 46, 47, 48, 49, 1086, 63, 1088, 1089, 66, 67, 68, 69, 79, 80, 82, 83, 84, 85, 86, 1624, 1625, 1626, 1627, 1628, 99, 115, 116, 117, 118, 119, 120, 226, 655, 656, 657, 171, 172, 173, 207, 208, 209, 210, 211, 212, 213, 1247, 1248, 1249, 1250, 227, 228, 229, 230, 243, 244, 245, 246, 247, 248, 263, 781, 782, 224, 225, 331, 332, 333, 62, 1087, 64, 65, 422, 423, 478, 479, 480, 481, 482, 496, 498, 499]))\n",
      "(85, Set([1858, 1859, 1828, 1829, 1830, 1800, 1289, 1292, 1873, 1874, 1875, 1844, 1845, 1308, 1816, 1860, 1307, 1276, 1277, 1278]), 57, Set([1126, 1646, 1647, 1648, 1649, 1650, 1686, 1724, 1661]))\n",
      "(248, Set([645, 646, 647, 1036, 1037, 1038, 1039, 1040, 1557, 1558, 1559, 1560, 1561, 1563, 1055, 1056, 1057, 1058, 1577, 1578, 1579, 1580, 1582, 432, 180, 341, 342, 2008]), 1861, Set([1724, 1720, 1108, 1109, 1110, 1111, 1113, 1114, 1722, 1723, 1124, 1126, 1127, 1128, 1129, 1130, 1131, 1132, 1725, 1649, 1650, 1651, 1652, 1653, 1654, 1161, 1162, 1163, 1164, 1165, 1166, 1167, 1680, 1169, 1682, 1683, 1684, 1685, 1686, 1687, 1688, 1689, 1690, 675, 676, 677, 678, 679, 680, 681, 1197, 1198, 1199, 1200, 1201, 1202, 1203, 1204, 693, 694, 695, 696, 697, 698, 699, 700, 701, 1726, 1234, 729, 730, 731, 732, 733, 734, 735, 736, 737, 767, 768, 771, 1757, 1758, 1759, 1760, 1761, 1168, 355, 356, 357, 1681, 368, 369, 370, 371, 372, 373, 374, 375, 376, 378, 406, 408, 409, 410, 1721]))\n",
      "(17, Set([525, 1427, 1428, 922, 923, 255]), 38, Set([672, 1687, 1688, 1689, 1690, 671, 669, 670, 703]))\n",
      "(17, Set([1637, 2063, 2064, 2065, 2066, 2067, 1620]), 90, Set([1186, 1221, 1222, 1738, 1739, 1740, 1741, 719, 753, 754, 755, 756]))\n",
      "(875, Set([640, 385, 641, 653, 654, 173, 656, 657, 658, 1070, 1829, 1305, 461, 27, 1052, 1069, 293, 422, 423, 296, 1067, 44, 45, 46, 1071, 818, 820, 821, 311, 312, 313, 314, 315, 316, 318, 459, 328, 329, 330, 331, 332, 333, 334, 335, 782, 655, 421, 96, 97, 104, 636, 618, 619, 620, 621, 622, 113, 114, 115, 116, 117, 635, 460, 637, 638, 639]), 159, Set([386, 262, 280, 281, 1452, 946, 947, 948, 949, 950, 568, 569, 1468, 1469, 1470, 1471, 1472, 709, 968, 99, 100, 116, 117, 1662, 1663]))\n",
      "(58, Set([1696, 1697, 1124, 1125, 1104, 1105, 1140, 1758, 1662, 1759]), 110, Set([739, 740, 741, 1736, 1212, 1738, 1771, 1772, 1773, 1774, 1775, 1776, 1780, 1177, 1209, 1210, 1211, 380, 1213, 1214, 1215]))\n",
      "(29, Set([1808, 1809, 1810, 1806]), 53, Set([1132, 683, 684, 1654, 1655, 1688, 1114, 1115, 1116]))\n",
      "(292, Set([1793, 1794, 1284, 1285, 1286, 1288, 1299, 1300, 1301, 1302, 1692, 798, 800, 801, 802, 1317, 1318, 1319, 1839, 1840, 1841, 1333, 1724, 1725, 1726, 1727, 1728, 1856, 1825, 1234, 1235, 1236, 1237, 1238, 1757, 1758, 1759, 1760, 1266, 1267, 1268, 1269, 1270, 1272, 1855]), 30, Set([392, 393, 306, 716, 1148]))\n",
      "(22, Set([673, 322, 388, 709, 710, 122, 123, 125]), 15, Set([1890, 1357, 1359, 1362, 1363, 1366, 1367]))\n",
      "(22, Set([898, 899, 900, 234, 1923, 216, 1402]), 270, Set([1664, 1665, 1681, 1682, 1683, 1685, 1718, 1719, 1105, 1106, 1107, 1108, 1109, 1110, 1111, 1124, 1125, 1126, 1645, 1646, 1647, 1648, 1649, 1650, 1145]))\n",
      "(80, Set([897, 1378, 900, 519, 520, 521, 522, 910, 913, 914, 1395, 1396, 1397, 1398, 1399, 895]), 63, Set([192, 193, 451, 452, 433, 434, 435, 182, 187, 188, 189, 191]))\n",
      "(144, Set([1670, 1671, 776, 777, 1174, 1175, 1176, 1181, 680, 1208, 1209, 1210, 1111, 1112, 1113, 1243, 1766, 1128, 1651, 1652, 1653, 1144]), 25, Set([1440, 1457, 1458, 1476]))\n",
      "(350, Set([128, 640, 2050, 2051, 2052, 641, 1602, 655, 784, 657, 786, 659, 660, 661, 2070, 1616, 164, 166, 425, 1070, 1071, 1072, 1073, 1074, 1075, 1076, 1077, 1088, 1089, 1090, 1091, 1092, 1093, 334, 335, 336, 1617, 1618, 1619, 1620, 1601, 656, 127, 658, 2032, 2034, 787, 379, 382, 639]), 594, Set([640, 641, 642, 643, 1925, 2058, 2059, 1053, 1037, 1038, 557, 283, 284, 285, 1054, 1055, 1056, 1057, 934, 935, 936, 1071, 555, 556, 301, 302, 303, 1072, 1073, 1438, 1421, 953, 1594, 1439, 572, 573, 574, 319, 1440, 1609, 1610, 1611, 1612, 590, 591, 1422, 1593, 1039, 1628, 1597, 1595, 2060, 621, 622, 623, 624, 625, 626, 2041, 2061, 639]))\n",
      "(31, Set([1484, 1486, 560, 1975, 1976, 1977]), 34, Set([360, 1836, 1296, 1224, 1782, 378, 414]))\n",
      "(12, Set([1570, 1027, 1028, 2021, 2022]), 223, Set([512, 513, 6, 7, 8, 9, 780, 781, 1377, 26, 420, 421, 167, 169, 170, 114, 61, 62, 63, 1248, 1249, 1247, 224, 225, 1378, 1768, 1769, 1770, 1900, 494, 242, 115, 116, 890, 891, 892, 511]))\n",
      "(35, Set([1092, 1093, 1094, 658, 19, 659, 1636, 1637]), 51, Set([832, 833, 579, 76, 74, 75, 236, 238, 273]))\n",
      "(36, Set([1667, 392, 393, 178, 1146, 124]), 13, Set([1673, 1674, 1709, 1710]))\n",
      "(87, Set([1952, 1819, 1966, 1820, 1297, 904, 489, 490, 942, 848, 849, 1298, 1950, 1463, 1464, 922, 923, 508, 1821, 830, 1951]), 1559, Set([1282, 1283, 1284, 1285, 1286, 1287, 1288, 1289, 1290, 1805, 1806, 1807, 1808, 1809, 1810, 1299, 1300, 1301, 1302, 1303, 1304, 1305, 1306, 1307, 1308, 1825, 798, 799, 800, 801, 1826, 1827, 1828, 1829, 1318, 1831, 1320, 1321, 1322, 839, 1324, 1325, 1842, 815, 816, 817, 818, 819, 820, 821, 438, 1847, 1323, 1823, 1845, 1824, 834, 835, 836, 837, 838, 455, 459, 1822, 1844, 1843, 1811, 1846, 1830, 1266, 1267, 1268, 1269, 1270, 1272, 1812, 1841, 1813]))\n",
      "(21, Set([1954, 1955, 967, 555, 1469, 1470]), 252, Set([2059, 2060, 2061, 2062, 2063, 2064, 1610, 1612, 2001, 2002, 2003, 2004, 1628, 1629, 1630, 1631, 1632, 2020, 2021, 2022, 2023, 2040, 2041, 2042, 2043]))\n",
      "(25, Set([902, 1481, 1482, 1968, 1969, 883, 958]), 45, Set([1838, 1807, 1808, 1821, 1822, 1823]))\n",
      "(56, Set([320, 1761, 1203, 735, 375, 122, 319, 1021, 734, 607]), 11, Set([1360, 1346, 1348, 1349, 1887]))\n",
      "(391, Set([1540, 1559, 1952, 1953, 1954, 1955, 1956, 1957, 1969, 1970, 1971, 1972, 1973, 1974, 1975, 1468, 1992, 1484, 1485, 1486, 1487, 1488, 980, 2007, 2008, 2009, 1502, 1503, 1504, 1505, 1508, 2025, 2026, 2027, 1522, 1523]), 23, Set([577, 1963, 1964, 973, 559, 271]))\n",
      "(54, Set([1520, 1411, 1898, 1915, 1519, 944, 1394, 1914, 943, 1916, 1917, 1502]), 354, Set([1026, 900, 268, 269, 270, 1042, 1044, 918, 540, 1565, 1566, 287, 288, 557, 558, 304, 305, 306, 574, 575, 576, 593, 594, 1368, 2014, 2015, 2016, 610, 611, 612, 1385, 1386, 1007, 1008, 2033, 882, 1908, 629, 1529, 1404]))\n",
      "(11, Set([761, 1122, 1303, 1841, 1121]), 306, Set([1947, 1949, 286, 287, 288, 1953, 1955, 306, 1971, 1950, 1464, 569, 1951, 574, 1952, 964, 966, 1505, 968, 1485, 1486, 591, 592, 593, 1490, 982, 983, 984, 985, 986, 1487, 1488, 1506, 1489, 108, 126]))\n",
      "(186, Set([2048, 2049, 2050, 1927, 1928, 1425, 2068, 2069, 921, 922, 1055, 544, 545, 297, 563, 564, 565, 566, 1597, 1598, 1056, 1057, 584, 586, 1615, 1616, 1617, 1618, 603, 625]), 68, Set([1729, 1730, 1731, 1732, 1733, 1734, 1767, 1768, 1769, 1770, 1771, 1766]))\n",
      "(215, Set([1375, 863, 1349, 1350, 1889, 1353, 1870, 1871, 1872, 1361, 1362, 1363, 1364, 1365, 1366, 1367, 1368, 1359, 1372, 1373, 1886, 1887, 1888, 1360, 1890, 1891, 1892, 1895]), 26, Set([1584, 611, 612, 1007, 1008, 1457, 594, 2052, 989]))\n",
      "(91, Set([705, 707, 743, 744, 745, 1175, 1773, 1774, 1776, 1176, 1212, 1173, 1174, 343, 344, 1177, 1210, 1211, 668, 1213, 1214]), 1062, Set([1728, 770, 771, 772, 773, 774, 1799, 1800, 1367, 1346, 1166, 1167, 1168, 1169, 1170, 1889, 1797, 1312, 1313, 1888, 1798, 806, 807, 808, 809, 810, 1330, 1366, 1202, 1203, 1204, 1205, 1206, 825, 826, 827, 828, 1890, 1726, 448, 449, 450, 1347, 1348, 1349, 1761, 1296, 844, 845, 1331, 466, 1294, 1238, 1239, 1240, 1241, 1242, 1295, 735, 1760, 737, 1762, 1763, 1764, 1275, 1276, 1277, 1278, 1365]))\n",
      "(268, Set([1871, 516, 517, 518, 534, 535, 536, 537, 1831, 553, 554, 1326, 1328, 1847, 1848, 1849, 1850, 571, 1994, 967, 968, 1865, 1866, 1867, 1868, 1869, 1851, 1993, 985, 986, 859, 860, 1507, 1508, 877, 499, 247, 248]), 36, Set([1187, 1188, 718, 719, 158, 157, 478, 479]))\n",
      "(119, Set([256, 901, 902, 903, 1557, 1558, 922, 543, 544, 545, 546, 547, 563, 582, 583, 584, 975, 2008, 2009, 602, 1891, 1388, 1406]), 102, Set([1824, 1282, 1189, 1225, 1226, 1227, 1262, 1263, 1264, 1748, 1784, 793, 794, 795, 1711, 1823]))\n",
      "(194, Set([2043, 1573, 2022, 2023, 2024, 2025, 2026, 2040, 2002, 1555, 2004, 1557, 2006, 2007, 2008, 2009, 2042, 2021, 2003, 2005]), 60, Set([1472, 353, 139, 967, 137, 138, 11, 12, 1648, 1649, 695, 570, 571, 30, 1471]))\n",
      "(71, Set([1728, 1684, 1685, 1686, 1687, 1688, 1722, 1723, 1724, 1725, 1726, 1727]), 22, Set([1558, 1578, 1079, 2006, 2007, 1599]))\n",
      "(158, Set([256, 526, 793, 794, 1948, 1949, 1950, 544, 940, 433, 434, 1460, 181, 1462, 1225, 56, 57, 958, 1481, 452, 453, 1479, 200, 201, 1463, 1464, 236, 237, 238, 757, 255]), 104, Set([361, 362, 685, 722, 343, 344, 127]))\n",
      "(413, Set([649, 972, 970, 283, 987, 295, 296, 297, 298, 299, 969, 308, 309, 310, 311, 312, 313, 314, 315, 572, 573, 574, 575, 576, 971, 325, 326, 327, 328, 329, 586, 587, 588, 589, 590, 591, 592, 1492, 1494, 986, 603, 988, 989, 990, 614, 615, 616, 617, 618, 620, 621, 112, 631, 632, 633, 634, 635]), 135, Set([1857, 1858, 1859, 1380, 1381, 1907, 877, 1360, 1361, 1362, 1363, 1908, 1877, 1878, 1880, 1881, 1875, 1883, 1884, 1906]))\n",
      "(152, Set([1153, 1154, 1681, 1676, 1677, 1678, 1647, 1648, 1649, 1650, 1684, 1680, 1679, 1711]), 239, Set([1, 2, 398, 145, 146, 289, 290, 291, 39, 434, 435, 183, 577, 578, 1225, 1226, 1227, 595, 596, 597, 91, 92, 1513, 1514, 1515, 1009, 1010, 1011, 758, 1783, 1784, 1532, 1533, 1534]))\n",
      "(27, Set([192, 1968, 82, 980, 1238, 1239]), 406, Set([8, 9, 10, 11, 12, 14, 1325, 1309, 2002, 1050, 1051, 1034, 1053, 1311, 1572, 1573, 1574, 296, 297, 298, 45, 1326, 47, 48, 1327, 1033, 1849, 314, 315, 317, 63, 64, 65, 839, 840, 841, 1847, 81, 82, 227, 2004, 2005, 2020, 1850, 479, 480, 97, 98, 99, 100, 101, 209, 619, 620, 621, 1052, 117, 1308]))\n",
      "(513, Set([385, 386, 387, 388, 422, 274, 275, 601, 291, 292, 293, 166, 295, 168, 169, 170, 171, 1964, 1965, 1966, 1967, 565, 312, 313, 423, 579, 580, 581, 582, 583, 331, 332, 334, 976, 978, 980, 597, 598, 599, 600, 420, 1498, 1499, 421, 994, 995, 996, 294, 998, 167, 1013]), 31, Set([1513, 1514, 1515, 1009, 595, 1531, 1532, 1533]))\n",
      "(32, Set([1481, 1482, 1483, 1565, 1564, 1021, 1022]), 880, Set([1536, 1031, 1032, 1033, 1034, 1554, 1555, 1556, 22, 23, 24, 25, 1050, 1571, 1572, 1573, 616, 618, 619, 620, 621, 112, 113, 114, 115, 116, 634, 635, 636, 637, 638, 129, 130, 131, 132, 133, 148, 149, 150, 151, 1190, 167, 168, 169, 1194, 1225, 1227, 1228, 1229, 1230, 724, 725, 1750, 1751, 1752, 1753, 1783, 760, 1748, 762, 763, 1788, 1749, 726, 1157, 311, 312, 313, 314, 329, 330, 331, 345, 1785, 364, 365, 366, 367, 399, 400, 401, 402, 437, 759, 2003, 2004, 761, 1786, 1787, 1191, 1192, 1193]))\n",
      "(700, Set([512, 192, 1674, 513, 1673, 10, 1151, 140, 25, 153, 154, 155, 156, 157, 30, 31, 27, 681, 682, 44, 45, 46, 47, 48, 49, 138, 189, 62, 63, 64, 717, 206, 207, 208, 474, 221, 222, 223, 224, 225, 355, 356, 357, 870, 892, 490, 491, 492, 493, 494, 495, 240, 1150, 242, 190, 886, 887, 888, 889, 890, 191, 508, 509, 510, 511]), 259, Set([1669, 1670, 1671, 1685, 1686, 1687, 1688, 1689, 1184, 1705, 1706, 1707, 1708, 1778, 1780, 1723, 1724, 1742, 1743, 1744, 1111, 1112, 1113, 1128, 1129, 1130, 1131, 1650, 1651, 1652, 1653, 1654, 1148, 1149, 1150]))\n",
      "(207, Set([1538, 1539, 1540, 1455, 1456, 1974, 1471, 1472, 1473, 1474, 1989, 1990, 1991, 1992, 1488, 1489, 1490, 1503, 1504, 1505, 1506, 1001, 1002, 1521, 1522, 1523, 1524]), 67, Set([1027, 1028, 1009, 1010, 595, 596, 597, 1012, 1011]))\n",
      "(296, Set([2016, 2032, 2013, 1581, 1582, 1583, 1584, 2033, 2034, 2014, 1562, 2031, 1564, 1565, 1566, 2015]), 406, Set([1152, 1673, 138, 139, 140, 141, 1710, 156, 30, 1186, 1187, 1188, 1707, 1708, 1709, 46, 47, 1674, 1376, 1356, 717, 1742, 1744, 1745, 1746, 1372, 1373, 1374, 1375, 224, 225, 357, 870, 1895, 492, 494, 495, 373, 888, 889, 890, 1149, 1150, 1151]))\n",
      "(154, Set([1921, 1922, 1416, 1417, 930, 948, 966, 1991, 1992, 1505, 1506, 1900, 1901, 1902, 1903, 1396, 1397, 1398, 1399, 1400, 1918, 1919]), 216, Set([1028, 1029, 1549, 1550, 1945, 1946, 1963, 1964, 1965, 1585, 1981, 1983, 1984, 1603, 1477, 1478, 1479, 976, 595, 992, 1513, 1009, 1010, 1531]))\n",
      "(293, Set([642, 656, 658, 659, 660, 661, 662, 663, 425, 426, 427, 428, 429, 1071, 1072, 1073, 1588, 1589, 1590, 1591, 1592, 1088, 1607, 1608, 1609, 1610, 335, 336, 337, 338, 2019, 2020, 2021, 2022, 2037, 2038, 2039, 2040, 2041]), 100, Set([1677, 1675, 1713, 1641, 1642, 1643, 1676, 1101, 1102, 1103, 1104, 1105, 1714, 1140, 1678, 1658, 1659, 1660, 1662, 1663]))\n",
      "(78, Set([1472, 963, 964, 37, 966, 1959, 1960, 75, 76, 77, 1489, 565, 566, 1958, 1956, 1957, 1469, 1470, 1471]), 294, Set([772, 773, 774, 1799, 1800, 267, 16, 1241, 284, 413, 286, 809, 810, 285, 51, 52, 53, 1974, 1975, 1242, 572, 573, 1973, 448, 449, 450, 196, 197, 70, 86, 87, 88, 985, 986, 1508]))\n",
      "(39, Set([1655, 1133, 1134, 1687, 1688, 1689, 1690, 1691]), 273, Set([1792, 1793, 1794, 1795, 1796, 1288, 1289, 1290, 1809, 1810, 1811, 1812, 1828, 1829, 1846, 1847, 1863, 1864, 1865, 1233, 1234, 1235, 1236, 1237, 1238, 1882, 1756, 1757, 1758, 1759, 1270, 1271, 1791]))\n",
      "(94, Set([1216, 1249, 1250, 1251, 1252, 1253, 1771, 1772, 1773, 1774, 1775, 1776, 1215]), 257, Set([649, 271, 272, 273, 274, 1427, 1428, 1429, 543, 544, 289, 290, 291, 292, 1445, 1446, 939, 940, 941, 560, 561, 562, 307, 308, 309, 1462, 957, 326, 1444, 92, 93, 613, 1426, 631, 632]))\n",
      "(363, Set([129, 130, 132, 1238, 134, 1239, 1164, 1240, 1727, 729, 772, 1241, 730, 731, 1203, 732, 1201, 1202, 691, 692, 693, 694, 1242, 1204, 1725, 1726, 1205, 1206, 726, 727, 344, 345, 346, 347, 348, 733, 350, 735, 736, 1762, 1763, 1764, 365, 366, 367, 368, 369, 370, 371, 379, 380, 381, 127]), 41, Set([69, 231, 1096, 1257, 1258, 1383, 429, 430, 16, 663, 664]))\n",
      "(38, Set([64, 65, 66, 201, 202, 206, 15, 470, 62, 63]), 30, Set([2016, 1566, 2012, 2013, 2014, 2015]))\n",
      "(297, Set([1879, 1323, 1324, 1844, 1845, 1339, 1340, 1341, 1342, 1343, 1344, 1345, 1862, 1863, 1864, 1865, 1866, 1359, 1360, 1361, 1362, 855, 856, 1881, 1882, 1883, 1884, 874, 875]), 152, Set([896, 1902, 1903, 1206, 827, 449, 502, 844, 845, 466, 467, 1764, 1242, 862, 482, 483, 484, 485, 878, 879, 1904, 500, 501, 1398, 1399, 1400, 1919, 895]))\n",
      "(26, Set([1024, 1709, 1710, 1042, 791, 665, 1023]), 300, Set([1536, 1537, 1538, 2055, 2056, 2057, 2058, 2059, 1552, 1553, 1554, 1555, 1556, 1557, 1951, 1571, 1968, 1969, 1970, 1971, 1986, 1987, 1988, 2003, 2004, 2005, 1502, 2021, 2022, 2023, 1518, 1519, 1520, 1014, 1015, 1016, 1535]))\n",
      "(79, Set([610, 611, 612, 1539, 1540, 1020, 1021, 1022]), 19, Set([1284, 1230, 691, 1143, 798, 799]))\n",
      "(25, Set([2033, 2034, 2050, 1062, 630]), 140, Set([2020, 2021, 2022, 1608, 1609, 1610, 2059, 2060, 2061, 2000, 2001, 2002, 2003, 2040, 2041, 2042, 1627, 1628, 2058]))\n",
      "(48, Set([1344, 839, 690, 691, 692, 405, 1884, 1662, 1663]), 17, Set([1921, 835, 873, 1902, 853, 854]))\n",
      "(322, Set([1024, 1025, 1026, 1546, 1547, 1548, 2030, 2031, 1564, 1565, 1566, 2032, 1582, 1583, 1584, 593, 990, 609, 610, 611, 612, 1512, 1006, 1007, 1008, 630, 1528, 1529, 1530, 1023]), 450, Set([1029, 1549, 1552, 1948, 1949, 1950, 1951, 1965, 1461, 1462, 1463, 1464, 1465, 1981, 1982, 1479, 1480, 1481, 1482, 595, 596, 597, 1495, 1496, 1497, 1498, 991, 992, 993, 994, 1513, 1514, 1515, 1516, 1009, 1010, 1011, 1012, 1531, 1532, 1533, 1534]))\n",
      "(32, Set([1281, 1839, 1297, 1298, 1299, 793, 1819, 1820]), 441, Set([1195, 1159, 1160, 1161, 1162, 1163, 1164, 1165, 1166, 1684, 1685, 1686, 1687, 1688, 793, 794, 1690, 1192, 1193, 1194, 811, 1196, 1197, 1198, 695, 1722, 1655, 1225, 1226, 1227, 1228, 1229, 1230, 727, 1113, 1754, 1719, 1126, 1127, 1128, 1129, 1130, 1132, 1261, 1262, 1650, 1651, 1652, 1653, 1654, 759, 1279]))\n",
      "(144, Set([160, 161, 162, 475, 193, 412, 865, 476, 206, 143, 208, 209, 52, 376, 378, 207, 188, 474, 158, 159]), 87, Set([640, 418, 419, 420, 743, 1039, 1545, 1055, 1563, 1038, 623, 1561, 1562, 383, 1546, 1022, 639]))\n",
      "(238, Set([855, 856, 1306, 218, 1323, 1324, 1325, 1848, 1849, 832, 834, 835, 836, 837, 454, 456, 202, 203, 849, 850, 851, 852, 853, 854, 471, 472, 473, 474, 219, 220, 221, 489, 490, 491]), 28, Set([1856, 865, 1315, 937, 847, 883, 1423, 559, 541, 542]))\n",
      "(16, Set([192, 484, 485, 845, 846, 466, 467]), 137, Set([1216, 1217, 1218, 388, 389, 423, 712, 1801, 746, 747, 748, 749, 367, 784, 786, 761, 708, 762, 349, 350, 351]))\n",
      "(139, Set([1298, 1299, 1300, 663, 664, 1819, 1820, 29, 30, 428, 429, 174, 175, 187, 188, 189, 455, 456, 337, 338, 1619, 1620, 339]), 1321, Set([1536, 1537, 1538, 1539, 1540, 1541, 1542, 1543, 1032, 1033, 1034, 1035, 1036, 1552, 1553, 1554, 1555, 1556, 1557, 1558, 1559, 1560, 1561, 1571, 1573, 1575, 1960, 1500, 1962, 1976, 1987, 1992, 587, 2000, 2001, 1490, 979, 2004, 2005, 2006, 1961, 600, 601, 602, 603, 604, 605, 2021, 2002, 1507, 1508, 997, 998, 999, 1000, 1001, 1517, 1518, 1519, 1520, 1521, 1522, 1523, 1013, 1014, 1015, 1016, 1017, 1018, 1019, 1020, 2003, 1535]))\n",
      "(29, Set([1680, 1716, 1717]), 444, Set([128, 129, 2, 3, 133, 130, 271, 272, 273, 384, 131, 22, 1175, 1663, 541, 416, 417, 418, 419, 164, 165, 166, 167, 168, 937, 559, 561, 381, 1662, 705, 706, 707, 708, 328, 1105, 92, 741, 1660, 109, 110, 111, 1139, 1140, 382, 634, 379, 380, 253, 254, 383]))\n",
      "(164, Set([1441, 1442, 1443, 1444, 1927, 937, 938, 939, 940, 1423, 1424, 1425, 919, 920, 921, 541, 1406]), 204, Set([1028, 1029, 1030, 1047, 1048, 1605, 1606, 1066, 1459, 1587, 1589, 577, 578, 1477, 1478, 1607, 973, 974, 595, 596, 598, 1625, 1626, 1627, 991, 992, 993, 614, 615]))\n",
      "(17, Set([787, 1068, 1046, 1223]), 43, Set([771, 11, 12, 48, 49, 1763, 280, 1501, 1502]))\n",
      "(48, Set([73, 922, 1931, 1426, 254]), 18, Set([327, 328, 1068, 1610, 652, 20, 1609]))\n",
      "(89, Set([1835, 1836, 1871, 1872, 1331, 1332, 1816, 1817, 1854]), 832, Set([1152, 1672, 1673, 1674, 1169, 1170, 2067, 1691, 1692, 1185, 1186, 1187, 1188, 679, 681, 683, 684, 1709, 1710, 1779, 1708, 1780, 1727, 1221, 1222, 1223, 1224, 716, 717, 718, 719, 720, 1745, 1746, 2066, 1114, 1115, 1116, 1744, 1634, 1635, 1636, 1257, 1258, 1259, 1260, 1133, 1134, 753, 754, 755, 756, 1781, 1655, 1656, 1149, 1150, 1151]))\n",
      "(616, Set([393, 394, 271, 273, 274, 275, 790, 431, 289, 290, 291, 292, 293, 294, 295, 296, 297, 427, 428, 429, 430, 175, 563, 312, 313, 314, 315, 577, 578, 579, 580, 581, 993, 1224, 334, 335, 336, 337, 595, 596, 597, 598, 599, 1188, 93, 991, 992, 976, 994, 618, 619, 620, 621, 753, 754, 755, 756, 1517, 1223]), 217, Set([898, 899, 1421, 1422, 916, 917, 918, 936, 1344, 1345, 1346, 1347, 1348, 1866, 1867, 1868, 1363, 878, 879, 880, 1403, 1404]))\n",
      "(47, Set([1313, 1829, 1847, 1848, 1849, 1851, 1852]), 167, Set([1440, 1888, 1890, 1475, 1926, 1889, 1385, 1386, 1943, 1458, 1456, 1457, 882, 1907, 1908, 1367, 1368, 1944, 1404, 1906, 1439]))\n",
      "(206, Set([899, 1325, 1326, 1327, 1328, 1329, 1343, 1344, 1345, 1346, 1866, 1867, 1868, 1362, 858, 859, 860, 861, 484, 233, 880, 881, 500, 501, 502, 503, 504]), 34, Set([1600, 2064, 1059, 2063, 1582, 1583, 1616, 1043, 1615, 1599]))\n",
      "(29, Set([1927, 1928, 1426, 1909, 1910, 1405]), 42, Set([1568, 1569, 1570, 2005, 2006, 2007, 2008, 1567]))\n",
      "(72, Set([1217, 1740, 167, 169, 746, 747, 748, 505, 24, 25, 58, 219, 506]), 3248, Set([1111, 12, 13, 1126, 30, 31, 32, 1723, 551, 552, 553, 554, 555, 568, 569, 570, 571, 572, 573, 574, 575, 1974, 586, 587, 588, 589, 590, 591, 592, 593, 1107, 1108, 85, 1110, 87, 1112, 1113, 1722, 1125, 1123, 1124, 101, 102, 103, 104, 105, 1130, 1127, 1646, 1647, 1648, 1128, 1650, 1651, 1652, 1146, 1129, 1144, 1145, 122, 1147, 1131, 137, 138, 139, 140, 1165, 1166, 1167, 1682, 1683, 1684, 1685, 1686, 1687, 1689, 155, 156, 157, 672, 673, 674, 675, 676, 677, 678, 679, 680, 681, 1199, 692, 693, 694, 695, 696, 697, 698, 699, 701, 1653, 711, 712, 713, 714, 718, 729, 730, 731, 732, 733, 734, 735, 736, 752, 263, 264, 265, 266, 267, 281, 282, 283, 284, 285, 286, 301, 303, 1161, 1162, 1163, 1164, 1649, 349, 350, 352, 353, 354, 355, 356, 357, 368, 369, 370, 372, 373, 375, 405, 408, 1956, 1957, 1958, 1959, 948, 949, 950, 1470, 1471, 1472, 1474, 963, 964, 965, 966, 967, 968, 969, 970, 971, 1487, 1488, 1489, 1490, 1491, 982, 983, 984, 985, 986, 987, 988, 990, 1505, 1506, 1507, 1508, 1509, 1001, 1003, 1004, 1007, 1109]))\n",
      "(52, Set([865, 866, 487, 1388, 847, 848, 1910, 1911, 1369]), 538, Set([1156, 1157, 1158, 1159, 1160, 1161, 1751, 1752, 1750, 1753, 1191, 1192, 1193, 1194, 1195, 1196, 1197, 1198, 1714, 1715, 1716, 1717, 1719, 1228, 1229, 1230, 1231, 1232, 1233, 1234, 723, 724, 725, 726, 727, 728, 729, 1754, 1755, 760, 761, 762, 763, 1789]))\n",
      "(54, Set([1312, 1313, 1314, 1835, 1836, 1294, 1295, 1296, 1818, 1854]), 61, Set([481, 1508, 1829, 230, 266, 267, 1812, 1813, 1815, 248, 986, 987, 572]))\n",
      "(166, Set([1155, 1156, 150, 264, 265, 266, 151, 1676, 401, 402, 533, 534, 535, 536, 537, 538, 931, 552, 554, 45, 1457, 64, 65, 1675, 725, 152, 244, 246]), 34, Set([1920, 1921, 1922, 934, 971, 558, 953]))\n",
      "(21, Set([522, 18, 1908, 90, 251, 252]), 204, Set([901, 902, 903, 904, 905, 906, 523, 524, 525, 920, 921, 922, 1366, 1367, 1368, 1379, 1380, 1381, 1382, 1383, 1395, 1406]))\n",
      "(56, Set([2067, 2068, 2069, 2070]), 741, Set([1537, 1538, 1027, 1028, 1029, 1552, 1553, 1567, 1568, 1958, 1521, 1960, 1510, 1962, 1991, 1522, 1523, 1968, 1011, 1972, 1973, 1974, 1975, 1976, 1524, 1978, 1979, 1980, 1971, 1504, 1986, 1988, 1989, 1990, 1505, 1992, 1506, 978, 595, 596, 597, 598, 1977, 600, 1499, 1500, 1501, 1502, 1503, 992, 993, 994, 995, 996, 997, 998, 999, 1000, 1959, 1516, 1517, 1518, 1519, 1520, 1009, 1010, 979, 1012, 1013, 1014, 1016]))\n",
      "(75, Set([960, 961, 962, 1927, 585, 941, 1423, 1424, 1425, 981, 982, 1001, 1562, 2015, 1022, 607]), 22, Set([288, 576, 970, 971, 1474]))\n",
      "(10, Set([1980]), 253, Set([1936, 1959, 1960, 1961, 1962, 1452, 1453, 1454, 1455, 1456, 1457, 951, 952, 1979, 1980, 1473, 1474, 1475, 1476, 971, 1492, 1493, 1494, 990, 1511, 1512]))\n",
      "(124, Set([1153, 418, 419, 1189, 1154, 2023, 1068, 1066, 1067, 652, 685, 1711, 1588, 1589, 1590, 344, 345, 2022, 381, 2021]), 20, Set([1801, 1874, 1819, 1873]))\n",
      "(190, Set([18, 2070, 792, 665, 666, 180, 54, 71, 72, 1097, 1098, 341, 342, 215, 216, 1637, 1638, 486, 233, 234, 503, 252, 126]), 265, Set([1549, 1550, 1567, 1568, 1569, 1585, 1586, 1587, 1207, 1081, 1082, 1603, 1604, 1999, 2000, 2002, 1621, 1622, 2017, 2018, 2019, 1765, 1766, 2037]))\n",
      "(202, Set([1410, 1443, 1477, 1478, 1479, 1932, 939, 940, 1459, 1933, 1963, 1426, 1427, 1428, 1461, 1945, 1460, 955, 957, 1931]), 40, Set([1819, 1820, 1837, 1838]))\n",
      "(18, Set([1920, 1921, 1956, 1452, 1453, 1470]), 878, Set([768, 448, 770, 771, 772, 773, 1293, 449, 1801, 1802, 1803, 1292, 1282, 1806, 1283, 1275, 1284, 411, 796, 1309, 798, 1285, 801, 802, 803, 804, 805, 806, 807, 808, 809, 1287, 769, 1263, 1201, 818, 819, 820, 821, 822, 823, 824, 825, 826, 443, 444, 445, 446, 447, 192, 193, 194, 195, 196, 197, 1804, 460, 461, 462, 463, 464, 465, 466, 467, 1238, 480, 1823, 827, 828, 1805, 189, 1265, 1266, 1267, 190, 1273, 1274, 191, 1310]))\n",
      "(38, Set([1984, 1574, 1516, 1515, 1612, 1593, 1497, 1983]), 249, Set([1024, 1025, 1026, 1546, 1547, 1548, 1042, 1043, 1044, 1563, 1564, 1565, 1566, 594, 2012, 2013, 2014, 2015, 611, 612, 1007, 1008, 1530, 1023]))\n",
      "(213, Set([1931, 1932, 1933, 1934, 1429, 1338, 1339, 1859, 1860, 1861, 1356, 1357, 1358, 1877, 1878, 1879, 1880, 1375, 1896, 1897, 1392, 1394, 1913, 1914, 1915]), 130, Set([1895, 1896, 1897, 1354, 1932, 1934, 1935, 1936, 1937, 1938, 1914, 1915, 1916, 1917]))\n",
      "(159, Set([1998, 1475, 1494, 936, 1404, 970, 971, 972, 1997, 558, 1512, 1386, 1492, 1493, 918, 988, 989, 990]), 177, Set([647, 648, 665, 1436, 1437, 1438, 287, 288, 1062, 556, 557, 432, 305, 306, 951, 1080, 953, 1439, 575, 576, 323, 324, 594, 341, 342, 107, 108, 630]))\n",
      "(135, Set([289, 290, 291, 996, 1014, 1537, 1015, 578, 1539, 1016, 1538, 579, 1556, 1013, 598, 599, 600, 91, 92]), 106, Set([1537, 1538, 1539, 1950, 1949, 1968, 1519, 1520, 1521, 1556, 1557, 1558, 2007, 2008, 1948, 1501, 1502, 1951]))\n",
      "(77, Set([1923, 1924, 1925, 1926, 1421, 1906, 1907, 1908, 1402, 1404]), 31, Set([1858, 1316, 1861, 1862, 1837, 1838, 1839, 1860, 1819, 1820]))\n",
      "(108, Set([1947, 1478, 975, 1479, 957, 1964, 973, 974, 559, 560, 1965, 1966, 955, 956, 253, 254]), 137, Set([2, 163, 1875, 37, 199, 200, 201, 775, 847, 848, 1334, 1874, 19, 469, 470, 1335, 217, 218, 1333, 415]))\n",
      "(429, Set([640, 641, 1026, 1025, 1544, 1545, 1546, 1035, 1036, 1037, 1038, 1039, 1040, 1041, 1042, 667, 1548, 1008, 1058, 419, 420, 421, 1024, 1007, 1135, 1566, 703, 704, 705, 1547, 1057, 1136, 333, 335, 1059, 606, 607, 608, 609, 623, 624, 625, 626, 627, 628, 1527, 1528, 1529, 1530, 639]), 131, Set([896, 1921, 770, 1165, 1166, 913, 914, 1201, 446, 733, 734, 481, 878, 499, 500, 1397, 1398, 1399, 1400, 893, 1922, 895]))\n",
      "(13, Set([802, 803, 452, 453, 1239]), 617, Set([130, 1963, 705, 1495, 706, 1965, 20, 1945, 1946, 1947, 1948, 669, 289, 290, 163, 164, 165, 166, 1479, 1964, 1459, 1966, 1967, 1968, 307, 308, 1461, 1462, 1460, 1983, 1981, 1982, 703, 704, 577, 578, 1477, 1478, 327, 1100, 973, 974, 1101, 291, 1102, 343, 344, 345, 346, 91, 92, 991, 1641, 109, 110, 111, 379, 380, 381, 382]))\n",
      "(22, Set([1568, 290, 1027, 1028, 2000, 2001]), 86, Set([738, 1189, 1190, 1191, 1192, 1193, 1195, 1197, 1198, 1199, 1200, 1201, 1202, 1204, 1206, 1711, 732, 733]))\n",
      "(244, Set([1888, 1889, 1890, 1347, 1348, 1349, 1350, 1868, 1869, 1870, 1871, 1872, 1329, 1330, 1331, 1332, 1850, 1853, 1887]), 324, Set([1410, 1411, 1412, 1413, 906, 907, 908, 909, 529, 530, 531, 1556, 1557, 925, 926, 547, 548, 566, 583, 584, 585, 979, 980, 2006, 1017, 1376, 998, 999, 1000, 1897, 1898, 1899, 1900, 1392, 1393, 1394, 1395, 2007, 1015, 1016, 889, 890]))\n",
      "(476, Set([1607, 1046, 1047, 1048, 1049, 1055, 1056, 1057, 1058, 1059, 1060, 1061, 1062, 1063, 1064, 1065, 1066, 1067, 1585, 1586, 1587, 1588, 1589, 1590, 2036, 1084, 1568, 1603, 1604, 1605, 1606, 1569, 1608, 1570, 1571, 2018, 2019, 2020, 2021, 2035, 628, 2037, 2038, 2041]), 43, Set([2016, 1026, 1545, 1546, 1547, 1548, 1565, 1566]))\n",
      "(22, Set([2057, 1082, 1083, 1084, 415]), 146, Set([485, 486, 1511, 1512, 1980, 1998, 972, 845, 270, 467, 468, 846, 1494, 1979, 252, 1493]))\n",
      "(70, Set([865, 867, 694, 487, 1129, 1127, 368, 403, 404, 691, 470, 471, 472, 1110]), 108, Set([2018, 2020, 2021, 1286, 1287, 818, 1809, 114, 819, 1588, 1589, 1590, 439, 440, 25, 635, 636, 2037]))\n",
      "(48, Set([1795, 4, 1797, 75, 76, 559, 272, 1796, 442, 188]), 15, Set([736, 2, 3, 372, 152, 153, 154]))\n",
      "(49, Set([1793, 1829, 1830, 1831, 1832, 1289, 1811, 1812, 1813, 1791]), 153, Set([2053, 2054, 2055, 2056, 2057, 2058, 2059, 2060, 1622, 1625, 1626, 1627]))\n",
      "(36, Set([1395, 1917, 1918]), 273, Set([2053, 12, 13, 15, 29, 30, 31, 1067, 172, 173, 174, 175, 176, 53, 54, 318, 319, 1604, 1605, 1606, 333, 334, 335, 336, 337, 117, 118, 119, 120, 121, 122]))\n",
      "(330, Set([128, 129, 130, 131, 132, 133, 134, 449, 24, 384, 19, 20, 21, 22, 23, 152, 25, 154, 155, 410, 150, 163, 164, 165, 166, 167, 168, 192, 193, 450, 408, 448, 111, 153, 381, 382, 149]), 65, Set([832, 452, 1319, 811, 850, 849, 434, 1337, 1316, 1338, 1339, 1879, 830, 831]))\n",
      "(312, Set([513, 515, 909, 910, 911, 912, 913, 1938, 403, 796, 797, 798, 799, 800, 1193, 1194, 1195, 817, 818, 436, 438, 439, 440, 441, 187, 893, 458, 1228, 1229, 1230, 1231, 1232, 1233, 1752, 475, 476, 477, 891, 1937, 892, 495, 496, 1396, 1398, 760, 761, 762, 763, 764, 765, 1918]), 14, Set([1993, 1994, 1980, 1997, 1998]))\n",
      "(14, Set([2068, 1602, 1620]), 1048, Set([769, 770, 771, 772, 773, 774, 1722, 1163, 1164, 1165, 1166, 1167, 1168, 1169, 1170, 1236, 1687, 1688, 1689, 410, 411, 412, 413, 1691, 1203, 1200, 1201, 1202, 1131, 1204, 1205, 698, 699, 700, 445, 1726, 1727, 448, 449, 450, 1654, 197, 198, 845, 1686, 1724, 467, 468, 1239, 1112, 733, 734, 735, 736, 737, 738, 1723, 486, 1127, 1128, 1129, 1130, 826, 1132, 1133, 1134, 701, 1650, 1651, 1652, 1653, 374, 375, 376, 377, 1690, 864]))\n",
      "(62, Set([1316, 1317, 1318, 1319, 1842, 847, 848, 849, 850, 1843, 1844, 1841]), 1198, Set([1882, 1883, 1884, 1107, 1108, 1109, 1110, 1127, 1128, 1665, 1666, 1667, 1668, 1904, 677, 694, 695, 696, 698, 191, 192, 193, 211, 212, 731, 732, 734, 1324, 1341, 1342, 1343, 1344, 1345, 1346, 1347, 1348, 839, 840, 1865, 1867, 1870, 1359, 1360, 1361, 1362, 1363, 1364, 1365, 1366, 858, 859, 860, 1885, 1886, 1887, 353, 1378, 1379, 1380, 1381, 1382, 1383, 1384, 873, 874, 875, 876, 877, 878, 879, 880, 369, 370, 371, 372, 1399, 892, 893, 894, 895, 896, 897, 407, 408, 409, 444, 461, 462, 463, 478, 479, 480, 481, 494, 498, 500]))\n",
      "(70, Set([416, 1249, 779, 164, 325, 326, 776, 777, 650, 651, 1247, 778, 415]), 36, Set([1579, 1069, 1070, 1596, 1597, 1598, 1599]))\n",
      "(41, Set([643, 1092, 971, 1458, 1774, 591, 1457, 626, 1476, 954, 303]), 200, Set([776, 19, 1172, 1173, 38, 1207, 1208, 1209, 1210, 704, 1729, 1730, 1731, 1732, 1765, 739, 740, 741, 1766, 1767, 1171, 127]))\n",
      "(42, Set([1635, 1224, 1258, 1259, 1256, 1779, 1780, 1781, 792]), 942, Set([640, 641, 642, 643, 644, 645, 646, 1218, 1038, 1039, 1040, 785, 787, 660, 661, 662, 663, 1775, 285, 1054, 1055, 1056, 1057, 1058, 1059, 1041, 1776, 1777, 1491, 297, 298, 299, 300, 301, 302, 303, 1074, 1075, 1076, 317, 318, 319, 320, 321, 322, 323, 324, 587, 589, 590, 336, 337, 338, 339, 986, 987, 604, 605, 607, 608, 1254, 103, 104, 1003, 1490, 622, 623, 624, 625, 626, 627, 628, 629, 425, 1255, 1489]))\n",
      "(24, Set([870, 871, 1358, 1359, 848, 849]), 61, Set([1648, 680, 681, 682, 1647, 720, 1128, 1109, 1110, 1111]))\n",
      "(33, Set([1805, 1803, 1804, 1261, 1262, 1263, 1279]), 31, Set([1888, 1889, 1926, 1869, 1870, 1907, 1908, 1366, 1367, 1404]))\n",
      "(89, Set([2, 3, 37, 1575, 1576, 1033, 618, 619, 620, 112, 1035, 311, 2009, 2010, 1051, 1034]), 1203, Set([1736, 2054, 2055, 2056, 2057, 2058, 2059, 781, 654, 1567, 1568, 1569, 1570, 2017, 1065, 1066, 1067, 1068, 1585, 1586, 1587, 1588, 1589, 1590, 1737, 1083, 1084, 1085, 1086, 1215, 1090, 1604, 1605, 1606, 1607, 1608, 1609, 1610, 1739, 2018, 1999, 2000, 2001, 2002, 2003, 1550, 1622, 1623, 1624, 1625, 1626, 1627, 2019, 1246, 1247, 1248, 1249, 1250, 1251, 2020, 2021, 1738, 1735, 1770, 1771, 1772, 1773, 1774, 1775, 2035, 2036, 2037, 2038, 2039, 2040, 2041, 2042, 1087]))\n",
      "(29, Set([1444, 1445, 1930, 1427, 1911, 1912, 1913, 1949]), 164, Set([1696, 1697, 1732, 1733, 1734, 1769, 1770, 1644, 1102, 1104, 1139, 1660, 1661, 1662]))\n",
      "(18, Set([105, 106, 995, 994, 993]), 217, Set([17, 18, 1341, 69, 1358, 854, 855, 856, 857, 1379, 228, 229, 230, 872, 873, 874, 875, 108, 494, 495, 496, 497, 498, 891, 892, 893, 126]))\n",
      "(18, Set([1000, 1022, 542, 543]), 254, Set([1152, 1668, 1669, 1670, 1671, 1672, 1673, 1188, 1706, 1707, 1708, 1709, 719, 720, 1111, 1114, 1146, 1147, 1148, 1149, 1150, 1151]))\n",
      "(40, Set([329, 330, 653, 78, 240, 241, 242, 1897, 1898, 511]), 236, Set([777, 778, 779, 780, 2062, 1171, 1172, 1173, 1174, 667, 668, 2043, 1207, 1208, 1209, 1085, 1086, 1087, 1732, 1609, 1610, 1611, 1627, 1245, 1246, 739, 740, 742, 2023, 2025, 1135, 2042, 703, 2044, 2045]))\n",
      "(192, Set([1415, 1416, 1417, 908, 912, 929, 930, 931, 932, 933, 950, 952, 953, 1474, 1476, 1353, 1354, 1355, 1372, 1373, 1374, 1376, 1393, 1394, 1395]), 42, Set([672, 289, 164, 165, 673, 109, 110, 1105, 381]))\n",
      "(58, Set([1419, 1420, 1421, 1422, 1298, 1300, 853, 854, 855, 1820, 894, 895]), 268, Set([517, 519, 520, 521, 522, 1419, 1453, 1432, 914, 915, 916, 917, 1433, 536, 537, 538, 539, 1436, 1434, 930, 931, 932, 933, 934, 557, 1416, 1417, 1418, 1435, 1938, 1940, 251, 252]))\n",
      "(35, Set([1835, 1836, 1719, 1720, 1274, 1275, 1757]), 1648, Set([1033, 1048, 1049, 1050, 1051, 1052, 1053, 1054, 1055, 1066, 1067, 1068, 1069, 1070, 1071, 1072, 1073, 1074, 1588, 1589, 1590, 1591, 1592, 1593, 1594, 1086, 1087, 1088, 1089, 1090, 1607, 1608, 1609, 1610, 1611, 1612, 616, 617, 618, 619, 620, 621, 116, 117, 118, 634, 635, 636, 637, 638, 639, 640, 641, 642, 643, 652, 653, 654, 655, 656, 657, 658, 659, 1186, 1187, 170, 171, 717, 718, 1250, 1255, 749, 750, 751, 752, 753, 754, 1151, 1152, 780, 781, 783, 786, 787, 312, 313, 314, 315, 317, 328, 329, 330, 331, 332, 333, 334, 386, 420, 421, 422, 423, 424, 425, 426, 427, 428, 2038]))\n",
      "(35, Set([1158, 1159, 398, 399, 1681, 1682, 1683, 724, 725, 181]), 19, Set([1379, 1828, 1845, 1324, 1325, 1397, 1847, 1343]))\n",
      "(174, Set([2065, 1179, 1180, 1181, 1648, 1216, 1217, 1218, 1106, 1107, 1108, 1109, 1632, 1633, 1126, 1254, 1646, 1647, 1776, 1649, 1143, 1144, 1145]), 289, Set([1024, 1544, 1545, 1546, 1547, 2061, 1558, 1560, 1561, 1562, 1563, 1578, 1579, 1980, 1995, 1998, 2009, 2010, 2011, 1511, 1512, 2026, 2027, 2028, 2029, 2030, 2046, 1526, 1527, 1528, 1529, 2044, 2045, 1022, 1023]))\n",
      "(203, Set([1945, 1946, 1949, 1950, 1951, 1963, 1964, 1965, 950, 951, 952, 953, 954, 1439, 1468, 1470, 1471, 1472, 1473, 1474, 1477, 1478, 1483, 1983]), 352, Set([1287, 1808, 1782, 1810, 1183, 1184, 1185, 1186, 1187, 1779, 697, 698, 443, 1781, 1741, 1219, 1220, 1221, 1222, 1223, 1224, 716, 802, 1742, 717, 1744, 1745, 1234, 441, 731, 732, 733, 354, 1809, 1257, 1258, 1746, 752, 1777, 1778, 755, 1780, 1269, 1270, 1271, 1743, 767]))\n",
      "(223, Set([1984, 1441, 1442, 1968, 1988, 1986, 1966, 1967, 1520, 1987, 1945, 1946, 1947, 1948, 1949]), 41, Set([1830, 1866, 1867, 1868, 1845, 1883, 1884]))\n",
      "(170, Set([1410, 1426, 1427, 1428, 1429, 1430, 924, 925, 926, 1953, 1954, 1955, 1956, 1446, 1447, 1448, 1449, 943, 944, 1465, 1466, 1467, 1468]), 47, Set([1440, 1476, 1925, 1926, 1494, 1943, 954]))\n",
      "(25, Set([1977, 1978, 1979, 1997, 1998]), 650, Set([770, 771, 772, 773, 774, 1799, 1800, 1292, 1293, 1294, 1295, 1813, 1814, 1815, 1816, 1796, 1818, 413, 414, 1797, 1798, 806, 807, 808, 809, 810, 1817, 1205, 1206, 447, 448, 449, 450, 198, 1762, 1239, 1240, 1241, 1242, 738, 1273, 1274, 1275, 1276, 1277, 1278]))\n",
      "(22, Set([1024, 1025, 611, 1995, 1007, 1043, 630, 1527]), 225, Set([1411, 1412, 906, 922, 923, 924, 925, 543, 544, 545, 546, 559, 560, 561, 1461, 955, 956, 957, 958, 579, 973, 974, 975, 976, 991, 1898, 1899, 1394, 1395, 1915]))\n",
      "(29, Set([1188, 1186, 1148, 1149, 1150]), 21, Set([598, 1558, 1559, 1556, 1013, 1014, 1015, 1016]))\n",
      "(25, Set([1058, 611, 612, 2061, 1042, 1597]), 631, Set([384, 130, 131, 132, 133, 2005, 1751, 652, 653, 654, 402, 150, 1047, 1048, 1049, 1050, 2004, 1568, 1569, 418, 419, 420, 1573, 166, 167, 168, 1193, 1066, 1067, 1068, 1586, 1587, 1588, 1195, 1590, 1046, 1589, 2037, 1605, 1607, 328, 329, 330, 761, 1570, 1999, 2000, 2001, 2002, 1571, 1753, 725, 726, 727, 1752, 1572, 1754, 347, 348, 1786, 2019, 2018, 1789, 2020, 2021, 2022, 2023, 1788, 364, 365, 366, 367, 2003, 2036, 1194, 2038, 633, 634, 635, 636, 637, 383]))\n",
      "(32, Set([1633, 1634, 1257, 431, 790, 791]), 38, Set([260, 617, 618, 493, 240, 241, 311, 889, 1050, 906]))\n",
      "(76, Set([361, 362, 685, 686, 343, 344, 667]), 73, Set([1282, 1269, 1284, 1206, 1819, 1235, 1236, 1205, 1238, 1239, 1268, 1759, 1237]))\n",
      "(55, Set([2043, 2044, 2045, 2062, 2063]), 202, Set([864, 1313, 863, 1350, 197, 486, 1331, 1314, 844, 845, 846, 467, 468, 824, 1332, 827, 828, 862, 485]))\n",
      "(116, Set([224, 288, 473, 470, 833, 489, 202, 471, 269, 847, 848, 472, 850, 849, 86, 87, 88, 89, 474, 830, 831]), 25, Set([584, 138, 139, 1967]))\n",
      "(21, Set([1993, 1994, 1979, 1540]), 165, Set([1110, 394, 395, 679, 680, 681, 682, 431, 432, 716, 717, 718, 719, 342, 1111, 1112, 1113, 1128, 1129, 1130, 1650, 1651, 630]))\n",
      "(234, Set([896, 897, 2027, 517, 518, 519, 264, 265, 912, 913, 914, 915, 282, 283, 1054, 1055, 1056, 1057, 1905, 300, 301, 302, 1594, 1595, 1596, 85, 86, 1382, 103, 1384, 1383, 624, 625, 1906, 1398, 1399, 248, 2044, 2045]), 56, Set([1056, 1057, 1411, 549, 2048, 586, 1597, 566, 567, 1915, 1596, 925, 926]))\n",
      "(12, Set([1360, 1881, 1362, 1882, 1862]), 721, Set([2048, 2049, 2050, 2051, 2052, 2055, 2056, 2057, 2058, 2059, 2060, 2061, 2062, 2065, 2066, 2067, 2068, 2069, 2070, 1571, 1586, 1588, 1589, 1590, 1592, 1605, 1606, 1607, 1608, 1609, 1610, 1611, 1618, 2019, 2020, 2021, 2022, 2023, 2024, 2025, 2026, 2035, 2036, 2037, 2038, 2039, 2040, 2041, 2042, 2043, 2044, 2045, 2046, 2047]))\n",
      "(82, Set([1350, 1831, 1832, 1833, 1834, 1293, 1329, 1811, 1332, 1813, 1814, 1272, 1812, 1852]), 30, Set([872, 105, 495, 496, 1877, 86, 87, 1337, 1339]))\n",
      "(16, Set([1956, 1957, 1958]), 535, Set([512, 513, 514, 515, 132, 133, 134, 1104, 907, 149, 150, 151, 152, 153, 495, 672, 496, 497, 476, 42, 477, 1395, 1396, 479, 188, 61, 62, 63, 205, 206, 207, 208, 1105, 1661, 1103, 348, 349, 223, 224, 225, 226, 1659, 228, 491, 493, 494, 367, 368, 369, 243, 244, 889, 890, 891, 892, 893, 1918, 511]))\n",
      "(36, Set([1154, 807, 808, 809, 810, 1191, 1234, 1193, 827, 765]), 223, Set([512, 1412, 906, 907, 908, 909, 926, 927, 928, 929, 549, 550, 945, 946, 947, 948, 1334, 1335, 1336, 1337, 1469, 1470, 1856, 1857, 1957, 869, 870, 871, 888, 889, 890, 891]))\n",
      "(104, Set([160, 161, 162, 35, 36, 197, 198, 143, 144, 18, 53, 54, 196, 414]), 187, Set([384, 292, 1965, 1966, 1967, 310, 311, 707, 580, 581, 329, 976, 598, 599, 1497, 1498, 1499, 992, 994, 995, 744, 1139, 1140, 635, 1661, 1662]))\n",
      "(572, Set([1288, 1289, 1290, 1291, 1292, 1293, 1294, 1846, 1812, 1813, 1814, 1815, 1307, 1308, 1309, 1310, 1311, 1312, 804, 1829, 806, 807, 1832, 1833, 1322, 1323, 1324, 1325, 1326, 822, 823, 824, 825, 1338, 1339, 1340, 1341, 1353, 837, 1352, 841, 842, 1355, 1356, 1876, 856, 1828, 1371, 1354, 1850, 866, 1830, 870, 1831, 1274, 1275]), 95, Set([864, 1348, 1349, 1350, 1420, 1871, 1872, 881, 1330, 1331, 1332, 1942, 1401, 1402, 1403, 1853, 1854]))\n",
      "(394, Set([861, 759, 836, 837, 838, 839, 814, 815, 434, 435, 436, 437, 438, 183, 440, 185, 186, 757, 451, 452, 453, 454, 455, 456, 457, 458, 459, 460, 461, 207, 184, 723, 857, 860, 477, 478, 479, 480, 481, 483, 881, 882, 500, 501, 502, 503, 504]), 223, Set([1794, 1814, 1291, 1292, 1293, 1294, 1683, 1684, 1685, 1686, 1687, 1309, 1311, 806, 1831, 1832, 1833, 1834, 1720, 1721, 1722, 1851, 1852, 1163, 1757, 1758, 1759, 1648, 1272, 1273, 1274]))\n",
      "(33, Set([1203, 1652, 1238, 1239, 1688, 1274, 1724]), 366, Set([1027, 1028, 649, 650, 651, 1045, 1046, 1063, 1064, 1065, 1066, 1067, 1585, 1586, 1587, 1081, 1082, 1083, 1084, 577, 1603, 1604, 1605, 1606, 595, 1622, 1623, 1624, 991, 613, 614, 1009, 632, 633, 634]))\n",
      "(15, Set([684, 1742, 1743]), 323, Set([384, 385, 668, 669, 670, 671, 296, 297, 313, 314, 315, 316, 705, 1099, 330, 331, 1100, 1101, 346, 603, 604, 1117, 1119, 1019, 1639, 1640, 1641, 618, 620, 621, 1522, 1523, 1524, 1017, 1018, 383, 382, 639]))\n",
      "(13, Set([202, 851, 850, 1243, 39]), 35, Set([1931, 1930, 1387, 1932, 1934, 1406, 1407]))\n",
      "(67, Set([475, 292, 293, 294, 1031, 617, 1322, 1029, 2001, 854, 1030, 95, 60, 61, 94, 223]), 252, Set([1153, 1676, 1643, 1675, 1639, 1640, 1641, 1642, 1099, 1100, 1677, 1678, 1711, 1712, 1713, 1714, 1191, 1715, 1117]))\n",
      "(61, Set([1889, 1349, 1834, 1870, 1871, 1872, 1367, 1816, 1817, 1852, 1853]), 233, Set([386, 1682, 1683, 1684, 1647, 1055, 297, 171, 690, 692, 693, 694, 695, 313, 314, 315, 316, 333, 603, 351, 1124, 1125, 1126, 619, 620, 621, 622, 623, 114, 117, 1015, 1016, 1017, 1018, 638, 639]))\n",
      "(33, Set([1313, 485, 486, 1294, 1816, 846, 1814, 504, 1817]), 855, Set([1, 2, 4, 21, 22, 23, 24, 38, 39, 40, 55, 56, 73, 74, 1720, 1108, 1112, 1122, 1123, 1124, 1125, 1126, 1127, 1128, 1129, 1131, 1132, 1648, 1649, 1650, 1651, 1652, 1653, 1654, 130, 131, 132, 134, 1160, 1161, 1162, 1163, 1164, 1167, 1680, 1682, 147, 148, 1685, 150, 151, 1688, 1689, 673, 675, 676, 677, 1196, 690, 691, 692, 693, 694, 695, 696, 697, 1723, 727, 728, 729, 350, 351, 352, 365, 366, 367, 368, 369, 370, 1683, 1684, 149, 1686, 1687, 402, 403, 405, 371]))\n",
      "(77, Set([230, 228, 37, 38, 39, 232, 233, 42, 231, 208, 214, 234, 229]), 189, Set([268, 269, 285, 286, 287, 288, 1313, 1314, 1835, 1312, 72, 845, 846, 594, 88, 89, 484, 485, 486, 233, 234, 1008, 1530, 251, 252]))\n",
      "(20, Set([740, 1605, 777, 1677, 1083, 669, 741]), 1141, Set([1409, 1410, 1411, 1412, 1413, 1414, 906, 907, 908, 1934, 1430, 1431, 1432, 1433, 1434, 1435, 1436, 928, 929, 930, 931, 932, 549, 550, 551, 552, 553, 1450, 1351, 1452, 1453, 944, 945, 946, 947, 948, 949, 950, 1465, 1467, 1468, 1451, 1470, 1471, 1472, 963, 964, 965, 966, 967, 968, 1353, 1354, 1355, 1486, 1487, 1488, 1489, 1352, 1469, 1370, 1371, 1372, 1373, 1374, 867, 1893, 1894, 1873, 1896, 1956, 1389, 1390, 1391, 1392, 1393, 1449, 1915]))\n",
      "(21, Set([1283, 1281, 1826, 811, 812]), 17, Set([2051, 2052, 2032, 2033, 2070, 2012]))\n",
      "(9, Set([2048, 2047, 2030, 1615]), 36, Set([424, 425, 171, 25, 26, 830, 831]))\n",
      "(272, Set([640, 641, 1290, 11, 1292, 1812, 1813, 1814, 154, 155, 156, 29, 30, 803, 804, 1574, 1575, 1576, 28, 173, 1053, 48, 1054, 822, 1592, 1593, 1594, 443, 444, 445, 191, 192, 1291, 1595, 2024, 2025, 1052, 27, 116, 117, 118, 1271, 1272, 1273, 639]), 24, Set([1192, 433, 1715, 1716, 758]))\n",
      "(315, Set([514, 515, 1028, 1549, 1027, 1045, 1046, 1047, 1567, 240, 290, 291, 292, 241, 242, 1345, 1346, 1868, 78, 79, 595, 477, 1886, 1887, 1888, 1889, 1890, 227, 228, 613, 614, 875, 876, 877, 495, 496, 497, 498, 891]), 178, Set([128, 129, 130, 400, 401, 402, 147, 148, 149, 150, 151, 40, 42, 820, 184, 1849, 186, 1851, 459, 1850, 187, 379]))\n",
      "(84, Set([1424, 290, 291, 777, 650, 651, 652, 271, 272, 273, 309, 1423, 92, 93, 542]), 35, Set([1088, 1603, 1604, 786, 754, 787, 788, 1086, 1087]))\n",
      "(26, Set([1169, 1709, 1708, 1133, 1671]), 184, Set([1161, 1167, 1168, 1681, 1170, 1683, 1684, 1685, 1686, 1687, 696, 697, 698, 699, 700, 701, 702, 1682, 734, 735, 736, 738, 1125, 1126, 1128, 1129, 1130, 1131, 1644, 1645, 1647, 1649, 375, 377, 378, 1642]))\n",
      "(43, Set([1206, 807, 1845, 1846, 1307, 1205]), 302, Set([1670, 1671, 1672, 393, 394, 395, 681, 682, 429, 1962, 304, 305, 178, 179, 1673, 1980, 323, 716, 717, 718, 719, 592, 593, 594, 340, 1493, 1494, 1112, 1114, 1115, 988, 989, 990, 612, 1961, 124, 1149, 1150, 1151]))\n",
      "(94, Set([1509, 1510, 1511, 1512, 297, 587, 588, 109, 110, 111, 1008, 1001, 986, 988, 989, 589]), 29, Set([1352, 1369, 1370, 1891, 1351]))\n",
      "(24, Set([290, 291, 292, 109, 1518, 1519, 598, 599]), 205, Set([1672, 1689, 1690, 1691, 1182, 1183, 1184, 1185, 681, 1707, 1218, 1219, 1220, 715, 1741, 1742, 1113, 1130, 1131, 1132, 1133, 1134, 752, 1653, 1654, 1655, 1147, 1148, 1149, 1150]))\n",
      "(416, Set([769, 770, 771, 772, 773, 774, 1239, 1167, 1240, 411, 802, 807, 808, 1201, 1202, 1203, 1204, 1205, 1759, 1723, 1724, 447, 448, 449, 1238, 196, 197, 198, 71, 72, 467, 468, 1237, 214, 215, 216, 1241, 1242, 734, 735, 736, 737, 485, 486, 233, 234, 1760]), 44, Set([866, 488, 74, 236, 1352, 1586, 1587, 884, 1046, 2036]))\n",
      "(57, Set([1173, 1664, 1666, 1698, 1140, 1141, 1174, 1662, 1663]), 422, Set([386, 387, 388, 2058, 779, 780, 2061, 782, 655, 656, 657, 658, 659, 660, 420, 421, 422, 423, 424, 425, 170, 171, 172, 1070, 1087, 1088, 1089, 1090, 2059, 2060, 331, 332, 333, 334, 783, 1628, 784, 1250, 785, 745, 746, 747, 748, 638]))\n",
      "(105, Set([1729, 1730, 739, 1765, 1766, 1171, 1173, 1207, 1208, 1209, 379, 1693, 1694, 127]), 64, Set([960, 1536, 1933, 1932, 941, 942, 943, 977, 978, 979, 1428, 1518, 1463, 1465, 1914, 1517, 1535]))\n",
      "(10, Set([1266, 1231, 1698, 1159]), 47, Set([1219, 1671, 1672, 1741, 1775, 1776, 1777, 1655, 1114, 1149]))\n",
      "(17, Set([504, 1760, 466, 900, 503]), 55, Set([1441, 1442, 1443, 1857, 1858, 1424, 1425, 1334, 1335, 1336, 1406, 1407]))\n",
      "(531, Set([257, 258, 131, 132, 133, 727, 23, 399, 400, 24, 402, 147, 148, 149, 150, 151, 152, 260, 1948, 406, 39, 40, 41, 42, 43, 44, 563, 1716, 438, 183, 184, 57, 186, 59, 60, 958, 959, 439, 204, 77, 78, 440, 726, 185, 348, 187, 401, 188, 363, 366, 367, 1192, 403, 405]), 2742, Set([537, 538, 539, 540, 990, 554, 555, 556, 557, 46, 47, 48, 1289, 572, 573, 574, 575, 64, 66, 67, 68, 69, 70, 71, 588, 590, 591, 592, 593, 594, 85, 86, 87, 88, 89, 90, 612, 1307, 969, 186, 970, 190, 191, 192, 193, 194, 971, 196, 972, 206, 207, 208, 209, 210, 211, 212, 213, 214, 225, 226, 227, 228, 229, 230, 231, 1805, 246, 247, 248, 249, 250, 251, 1284, 1285, 1286, 1287, 1288, 265, 266, 267, 268, 269, 270, 1807, 1808, 1810, 558, 1304, 1305, 1306, 283, 284, 285, 286, 287, 288, 1825, 1826, 1827, 1828, 1325, 989, 305, 818, 819, 820, 821, 822, 823, 837, 838, 839, 840, 841, 842, 855, 856, 857, 858, 859, 1806, 879, 576, 952, 442, 443, 1476, 968, 457, 458, 459, 460, 461, 462, 463, 464, 465, 466, 1492, 1493, 1494, 987, 988, 477, 478, 479, 480, 481, 482, 483, 484, 1509, 1510, 1511, 1003, 1006, 1007, 1008, 497, 498, 499, 500]))\n",
      "(144, Set([1408, 1409, 1410, 901, 902, 1931, 1932, 1934, 1935, 1936, 1937, 1369, 1370, 1387, 1388, 1389, 1390, 1391, 883, 884, 885, 1912, 1913, 1914, 1916]), 13, Set([1256, 2025, 1614, 2024, 2003, 2006]))\n",
      "(26, Set([9, 1036, 622, 44, 1558, 316, 188]), 126, Set([1632, 1669, 1670, 1671, 1704, 1705, 1706, 1739, 1740, 1741, 1742, 1775, 1776, 1777, 2062, 2063, 1631]))\n",
      "(354, Set([128, 129, 130, 131, 145, 146, 147, 20, 21, 22, 23, 163, 164, 165, 38, 39, 40, 41, 1322, 1323, 1324, 1864, 437, 183, 184, 185, 186, 187, 834, 835, 836, 454, 455, 456, 457, 202, 203, 204, 205, 853, 1863, 166, 19, 1321, 148, 127, 149]), 1213, Set([1177, 1210, 1139, 1140, 1141, 1142, 1143, 1145, 139, 141, 1166, 1731, 1173, 1174, 1175, 1176, 196, 1178, 1179, 156, 157, 158, 159, 160, 1697, 674, 675, 676, 677, 1735, 1200, 693, 695, 696, 1209, 698, 1211, 1730, 195, 708, 709, 710, 711, 712, 714, 732, 733, 734, 735, 736, 737, 744, 745, 748, 1696, 768, 769, 770, 771, 772, 773, 774, 197, 806, 808, 809, 810, 1732, 826, 827, 828, 1733, 350, 351, 352, 353, 354, 355, 358, 1734, 371, 372, 373, 374, 375, 376, 389, 406, 407, 408, 409, 410, 411, 412, 413, 414, 1694, 1695, 447, 448, 449, 450, 1698, 1699]))\n",
      "(20, Set([1258, 1259, 2012, 1746, 2011]), 25, Set([1384, 881, 882, 1386, 1385]))\n",
      "(56, Set([1286, 1809, 1810, 1811, 1812, 1789, 1790]), 2330, Set([1, 3, 4, 5, 6, 1879, 19, 20, 21, 22, 23, 24, 25, 1882, 517, 1883, 38, 39, 40, 41, 42, 1885, 1896, 59, 60, 1878, 1382, 1383, 110, 111, 112, 113, 1897, 1898, 345, 127, 128, 129, 130, 131, 132, 1900, 891, 1901, 146, 147, 148, 149, 163, 164, 165, 166, 167, 168, 1881, 1395, 1207, 1208, 1905, 1899, 204, 205, 221, 222, 223, 224, 225, 739, 740, 892, 893, 1918, 895, 775, 310, 1337, 1338, 1339, 1340, 1341, 1342, 1343, 1344, 327, 1864, 1356, 1357, 1358, 1359, 1360, 1361, 1362, 1363, 1364, 1877, 854, 855, 1880, 857, 858, 859, 1884, 1373, 1374, 1375, 1376, 1377, 1378, 1379, 1380, 1381, 870, 871, 872, 873, 874, 875, 876, 877, 1902, 1903, 1904, 1393, 1394, 1171, 1396, 1397, 1398, 1399, 889, 890, 379, 380, 381, 894, 383, 908, 416, 472, 473, 474, 475, 476, 478, 491, 492, 493, 494, 495, 496, 499]))\n",
      "(139, Set([1958, 1959, 1960, 1961, 1962, 1452, 1453, 1454, 1997, 1936, 1492, 1998, 1978, 1979, 1980]), 52, Set([932, 933, 678, 392, 138, 139, 140, 13, 14, 934, 86, 537, 249, 1438, 31]))\n",
      "(83, Set([705, 739, 740, 741, 775, 776, 2057, 2058, 1247, 1623, 1624, 415, 1245, 703]), 31, Set([2064, 2065, 1586, 1587, 2041, 2042, 2043, 2046, 2047]))\n",
      "(20, Set([1528, 611, 324]), 1042, Set([1152, 1673, 1674, 1188, 679, 680, 681, 682, 683, 684, 698, 699, 700, 701, 702, 716, 717, 718, 719, 720, 1112, 1113, 1114, 1115, 1116, 355, 357, 358, 359, 360, 1130, 1131, 1132, 1133, 1134, 1656, 377, 1149, 1150, 1151]))\n",
      "(19, Set([1891, 1927, 1909, 1910, 1911]), 1844, Set([528, 529, 530, 531, 532, 533, 546, 547, 548, 549, 550, 551, 567, 568, 1978, 1473, 1990, 1991, 1993, 1997, 1998, 1855, 1351, 1352, 1353, 1354, 1355, 1873, 1874, 1875, 1878, 1371, 1372, 1373, 865, 866, 867, 868, 1390, 1391, 1392, 1393, 1394, 886, 887, 888, 1409, 1410, 1411, 1412, 1413, 1415, 905, 906, 907, 908, 909, 910, 1429, 1430, 1431, 1432, 923, 924, 925, 926, 927, 928, 929, 1955, 1956, 1957, 1958, 1959, 943, 944, 945, 946, 947, 948, 1973, 1974, 1975, 1976, 1977, 1466, 1468, 1469, 1470, 1471, 1472, 961, 962, 963, 964, 965, 966, 967, 968, 969, 1994, 1995, 1996, 1485, 1486, 1487, 1488, 1489, 1490, 1491, 1492, 981, 982, 983, 984, 985, 986, 987, 1503, 1504, 1505, 1506, 1507, 1508, 1509, 1510, 1003, 1525]))\n",
      "(92, Set([1984, 1985, 1538, 1014, 1638, 1578, 1579, 1964, 1518, 1519, 1520, 1618, 1619, 1620, 1558, 1983, 1599]), 842, Set([1152, 1923, 1924, 1925, 520, 1673, 394, 395, 396, 269, 270, 1709, 144, 17, 18, 915, 916, 917, 918, 663, 1944, 537, 538, 539, 540, 1437, 288, 1186, 35, 36, 933, 934, 935, 936, 1708, 557, 1710, 431, 432, 1224, 178, 179, 180, 1941, 522, 1440, 1419, 1943, 1223, 72, 1420, 1421, 720, 1745, 1746, 1187, 1422, 1942, 87, 88, 89, 90, 1188, 106, 107, 755, 756, 1782, 250, 251, 252, 125, 126, 1151]))\n",
      "(19, Set([1817, 1818]), 1440, Set([1029, 1030, 1031, 1032, 1033, 1034, 11, 12, 13, 14, 15, 1552, 1553, 1554, 1555, 31, 32, 33, 34, 1572, 49, 50, 51, 52, 53, 54, 67, 586, 1550, 599, 600, 601, 602, 603, 98, 99, 100, 101, 102, 103, 104, 618, 619, 620, 621, 622, 623, 624, 625, 118, 119, 120, 121, 122, 638, 639, 640, 159, 160, 161, 162, 194, 195, 196, 197, 198, 1570, 211, 213, 214, 215, 216, 2002, 2003, 810, 1296, 280, 295, 296, 297, 298, 299, 300, 313, 314, 315, 316, 317, 318, 319, 335, 828, 1035, 413, 414, 448, 449, 450, 2000, 2001, 466, 467, 468, 1011, 1012, 1013, 1014, 1551, 1533]))\n",
      "(329, Set([1414, 1415, 1416, 1417, 1418, 908, 910, 911, 912, 913, 914, 928, 931, 549, 550, 962, 963, 582, 1482, 977, 978, 979, 980, 1365, 1366, 1498, 1499, 1500, 1501, 1502, 995, 996, 997, 998, 1383, 1384, 1386, 1516, 1517, 1518, 1904, 1905, 1906, 1363, 1398, 1399, 1400, 1364, 1534, 895]), 23, Set([1762, 356, 2027, 2028, 1075, 1204, 1595, 1596]))\n",
      "(20, Set([643, 663, 622, 623, 792, 791, 664]), 664, Set([384, 385, 386, 131, 132, 133, 1281, 1803, 1802, 1628, 780, 781, 782, 655, 656, 401, 402, 149, 1629, 794, 795, 785, 797, 798, 1248, 796, 1216, 1263, 436, 1213, 1214, 1087, 1088, 1089, 1090, 1091, 708, 709, 1249, 1804, 1228, 1229, 1215, 725, 1626, 347, 348, 349, 1630, 352, 783, 1250, 1251, 1252, 1253, 657, 744, 745, 746, 747, 1627, 365, 366, 367, 1264, 1265, 759, 760, 761, 762, 763, 784, 383]))\n",
      "(135, Set([387, 134, 673, 674, 1955, 298, 1971, 1972, 1973, 1974, 1975, 1469, 585, 586, 1954, 1103, 1105, 1106, 982, 983, 99, 999, 116, 117]), 729, Set([1920, 1333, 1334, 1335, 1336, 1855, 1856, 1351, 1352, 1353, 1354, 1355, 1356, 1873, 1874, 1875, 1876, 1877, 1369, 1370, 1371, 1372, 1373, 866, 868, 869, 1894, 1895, 1896, 1897, 1898, 1899, 1390, 1393, 1394, 1912, 1914, 1915, 1916, 1917, 1918]))\n",
      "(13, Set([1536, 2002, 2003, 2019]), 46, Set([1666, 1667, 719, 1145, 1146, 1147, 1148]))\n",
      "(18, Set([130, 168, 363, 620, 1154, 722, 313]), 50, Set([131, 132, 1286, 777, 778, 779, 365, 402, 439, 1246, 383]))\n",
      "(45, Set([1475, 1476, 1957, 1959, 1960, 1961, 971, 1492, 1493, 1494, 1977, 1978]), 1201, Set([1884, 1867, 1894, 1881, 1883, 1318, 1319, 1321, 1886, 1865, 1336, 1337, 1338, 1339, 1340, 1341, 1342, 1343, 1859, 1860, 1861, 1862, 1352, 1353, 1354, 1355, 1356, 1357, 1358, 1359, 1360, 1361, 1362, 1363, 1876, 1877, 1878, 1879, 1880, 1369, 1882, 1371, 1372, 1885, 1374, 1375, 1376, 1377, 1887, 868, 869, 870, 871, 872, 873, 874, 1899, 1866, 1875, 1869]))\n",
      "(169, Set([1668, 1669, 1777, 1704, 1705, 1706, 1778, 1217, 1218, 1219, 1220, 1221, 1739, 1741, 1742, 1110, 1633, 1634, 1635, 1255, 1256, 1257, 1776, 1649, 1650, 1779, 1146, 1147]), 97, Set([896, 1889, 514, 547, 516, 991, 973, 562, 878, 877, 1872, 561, 530, 531, 974, 563, 879, 1890, 894, 895]))\n",
      "(250, Set([640, 641, 642, 643, 644, 1288, 1289, 1039, 1810, 29, 30, 31, 801, 802, 803, 804, 805, 1074, 819, 820, 821, 822, 441, 442, 443, 444, 190, 191, 336, 337, 2028, 623, 624, 120, 765]), 31, Set([742, 1801, 758, 793, 345, 1246]))\n",
      "(42, Set([1110, 1128, 1129, 1707, 1685, 1686, 1111, 1721]), 45, Set([1368, 1890, 1366, 1367]))\n",
      "(8, Set([1722, 1723, 1758]), 19, Set([1912, 1913, 1891, 1894, 1911]))\n",
      "(155, Set([896, 1918, 1414, 1415, 520, 910, 911, 912, 518, 519, 1416, 54, 71, 72, 231, 232, 1903, 1397, 1398, 1399, 248, 250, 892, 894, 895]), 4195, Set([512, 513, 514, 515, 516, 517, 1031, 1032, 1033, 1034, 1035, 1036, 1554, 1550, 527, 529, 530, 531, 532, 533, 534, 535, 537, 538, 1051, 1052, 1029, 1569, 1570, 547, 548, 549, 550, 551, 552, 553, 564, 565, 566, 567, 568, 569, 570, 571, 572, 64, 65, 66, 580, 581, 582, 583, 584, 585, 586, 587, 588, 80, 81, 82, 83, 84, 597, 599, 600, 601, 602, 603, 604, 99, 101, 1553, 617, 618, 619, 620, 621, 622, 1555, 1049, 2022, 1050, 1571, 1572, 1573, 228, 1574, 231, 1575, 240, 241, 242, 243, 244, 245, 246, 247, 248, 1920, 258, 259, 260, 261, 262, 263, 264, 265, 266, 276, 277, 278, 279, 280, 281, 282, 283, 284, 2038, 293, 294, 295, 296, 297, 298, 299, 312, 1588, 315, 1589, 2019, 2023, 2020, 2021, 1380, 1381, 1382, 1383, 1899, 1901, 1902, 1903, 1904, 1905, 1906, 1396, 1397, 1398, 1399, 1400, 1401, 892, 893, 894, 895, 896, 1921, 1413, 1414, 1415, 1416, 1417, 1418, 907, 908, 909, 910, 911, 912, 913, 914, 1430, 1432, 924, 925, 926, 927, 928, 929, 930, 931, 932, 943, 945, 946, 949, 1470, 962, 963, 964, 965, 966, 967, 2039, 2000, 2001, 2002, 2003, 2004, 2005, 2041, 2017, 2018, 995, 996, 997, 998, 999, 495, 496, 2037, 1014, 1015, 1016, 1017, 510, 511]))\n",
      "(50, Set([513, 546, 908, 875, 876, 514, 974, 975, 529, 530, 531, 1346, 1496, 1981, 892, 893, 958]), 374, Set([514, 1413, 262, 1415, 1416, 1417, 907, 1420, 909, 910, 911, 528, 913, 530, 531, 532, 533, 534, 1943, 1432, 1433, 1434, 1435, 1436, 1437, 926, 927, 928, 929, 930, 931, 932, 549, 1457, 1438, 55, 56, 57, 1439, 914, 1440, 1419, 199, 1944, 1942, 217, 218, 220, 221, 1938, 912, 1414, 235, 236, 237, 238, 239, 509, 510, 1941]))\n",
      "(208, Set([290, 577, 578, 579, 580, 581, 582, 583, 974, 596, 597, 598, 599, 600, 601, 993, 994, 995, 996, 997, 1516, 1012, 1013, 1015]), 274, Set([1152, 1671, 1672, 1673, 1674, 395, 144, 681, 682, 683, 684, 718, 719, 720, 1113, 1114, 1115, 1116, 359, 360, 1133, 1653, 1656, 378, 1149, 1150, 1151]))\n",
      "(91, Set([1662, 1121, 1700, 1189, 1702, 1153, 1663, 1101, 1102, 1103, 688, 1141, 1139, 1140, 1118, 1142, 1737, 1119, 669, 670, 671]), 452, Set([2053, 2054, 2055, 2056, 649, 19, 416, 1063, 1585, 2057, 1081, 1082, 1083, 1603, 1604, 1605, 1606, 1621, 1622, 1623, 1624, 1243, 1244, 1246, 2035, 2036, 2037]))\n",
      "(43, Set([2048, 2049, 2058, 2059, 2060, 2062, 2032, 2033, 2034, 2046, 2047]), 138, Set([1497, 1477, 1478, 1480, 1481, 973, 974, 975, 976, 977, 1461, 1463, 1464, 1465, 1498, 955, 956, 957]))\n",
      "(283, Set([44, 45, 46, 47, 61, 190, 191, 64, 65, 66, 245, 204, 205, 206, 207, 208, 209, 210, 478, 224, 225, 226, 227, 228, 1896, 1897, 494, 495, 496, 62, 890, 63]), 1669, Set([1027, 1028, 1029, 1030, 1031, 1032, 1715, 1549, 1550, 1551, 1552, 1553, 1045, 1046, 1047, 1048, 1049, 1050, 1051, 1568, 1569, 1570, 1571, 1064, 1065, 1066, 1067, 1714, 1586, 1587, 1588, 1716, 596, 597, 598, 599, 1121, 1122, 1123, 613, 614, 615, 616, 617, 618, 111, 112, 113, 114, 631, 632, 633, 634, 635, 637, 130, 131, 132, 133, 1158, 1159, 1161, 653, 1678, 1679, 1680, 1681, 1682, 165, 166, 167, 168, 169, 1194, 688, 689, 690, 691, 692, 1717, 1718, 1719, 726, 1156, 1157, 291, 292, 293, 294, 307, 308, 309, 310, 312, 326, 327, 328, 329, 330, 345, 346, 347, 348, 349, 365, 366, 382, 383, 384, 417, 418, 420, 2000, 2001, 2002, 1532, 1533, 1534]))\n",
      "(77, Set([1376, 1895, 73, 74, 236, 237, 1392, 1393, 888, 508, 1374, 1375]), 1600, Set([9, 10, 11, 12, 13, 14, 15, 16, 17, 18, 24, 26, 27, 28, 29, 30, 31, 32, 33, 34, 35, 36, 41, 43, 44, 45, 46, 47, 48, 49, 648, 52, 53, 54, 69, 70, 71, 72, 84, 88, 89, 90, 104, 105, 106, 107, 108, 628, 629, 630, 121, 122, 123, 124, 125, 126, 646, 136, 143, 145, 146, 147, 148, 149, 150, 151, 152, 153, 154, 155, 156, 157, 161, 174, 176, 178, 179, 180, 181, 182, 183, 184, 185, 186, 187, 188, 189, 191, 198, 205, 208, 215, 757, 758, 759, 250, 793, 794, 285, 286, 287, 288, 303, 304, 305, 306, 320, 321, 322, 323, 324, 338, 339, 340, 341, 342, 396, 397, 398, 399, 400, 401, 413, 431, 433, 434, 435, 437, 451, 453, 664]))\n",
      "(30, Set([65, 226, 227, 228, 103, 2050, 496, 2051, 644, 1340, 1341, 1599]), 241, Set([1366, 1671, 486, 1367, 140, 141, 159, 160, 1185, 680, 1707, 699, 717, 213, 214, 215, 1368, 485, 1384, 482, 484, 357, 358, 1383, 232, 1385, 1386, 878, 880, 881, 502, 503, 1148, 1149, 1150, 1151]))\n",
      "(258, Set([1664, 1160, 1161, 1812, 1814, 672, 673, 674, 803, 804, 1830, 1831, 1197, 1198, 1662, 1697, 802, 1103, 1104, 1105, 1106, 1107, 728, 729, 1121, 1122, 1123, 1124, 1125, 1645, 1646, 1661, 1235, 1141, 1272, 764, 765, 766, 1663]), 141, Set([1024, 1025, 1026, 1958, 1510, 1511, 1960, 1547, 1548, 1007, 1491, 1959, 1977, 1530, 1979, 1980, 1978, 1566]))\n",
      "(40, Set([417, 741, 742, 743, 1772, 1773, 1774, 1212, 1213, 1214]), 291, Set([1540, 1541, 1542, 2062, 2063, 1558, 1559, 1560, 1561, 1577, 2007, 2008, 2009, 2010, 1630, 2026, 2027, 2028, 2042, 2043, 2044, 2045, 2046]))\n",
      "(160, Set([1891, 1892, 1927, 1928, 1929, 1930, 1387, 1909, 1910, 1911, 1405, 1406]), 26, Set([1440, 1926, 1944, 1925, 1422]))\n",
      "(37, Set([260, 261, 262, 551, 552, 1456, 949, 950]), 1072, Set([1280, 1281, 1282, 1283, 1801, 1802, 1803, 1804, 1805, 1806, 1837, 1297, 1298, 1299, 1300, 793, 794, 795, 796, 1821, 1822, 1823, 1819, 1316, 1319, 1820, 812, 813, 1838, 1839, 1840, 1841, 1842, 1857, 1858, 1859, 1225, 1226, 1228, 1747, 1748, 1878, 1880, 1261, 1262, 1263, 1264, 1265, 1783, 1784, 1785, 1786, 1279]))\n",
      "(453, Set([1282, 1032, 1033, 1034, 1035, 1538, 1556, 1554, 276, 277, 1302, 1822, 1824, 1840, 456, 585, 61, 1805, 582, 583, 584, 457, 204, 205, 78, 79, 81, 1806, 600, 601, 602, 603, 604, 96, 97, 98, 995, 996, 997, 998, 999, 1000, 1518, 1520, 1521, 1523, 1013, 1014, 1015, 1016, 1017, 1018, 1019]), 13, Set([1800, 1275, 1797, 1799]))\n",
      "(8, Set([1985, 1994, 1531, 1996]), 186, Set([134, 8, 94, 273, 274, 275, 1650, 24, 25, 26, 6, 1649, 114, 560, 1459, 693, 694, 695, 955, 76, 1109, 350, 351, 352, 1126, 1127, 1128, 1129, 367, 369, 370, 1651]))\n",
      "(208, Set([1282, 1283, 1803, 1804, 1805, 1302, 797, 1823, 1824, 1840, 1841, 1842, 1843, 1859, 1860, 1861, 1227, 1749, 1750, 1751, 1264, 1265, 1266, 1785, 1786, 1787]), 100, Set([544, 545, 546, 963, 1548, 1002, 523, 1003, 983, 920, 979, 980, 981, 982, 919, 568, 921, 1023, 1546, 1547, 543]))\n",
      "(381, Set([1, 272, 274, 19, 1951, 1952, 289, 290, 291, 292, 1969, 1500, 1970, 1967, 1968, 561, 562, 563, 308, 564, 579, 580, 581, 582, 1481, 1482, 1483, 1484, 975, 976, 977, 978, 979, 598, 1499, 91, 92, 1501, 94, 994, 995, 109, 110]), 625, Set([1153, 1154, 1155, 1157, 1158, 1675, 1676, 1677, 1678, 1679, 1680, 1681, 1682, 667, 668, 669, 1189, 1194, 685, 686, 687, 688, 1713, 1714, 1715, 1716, 1717, 1718, 1719, 1720, 1721, 1099, 1100, 721, 722, 723, 343, 345, 1117, 1118, 1119, 1121, 1639, 361, 362]))\n",
      "(2529, Set([1024, 1025, 1026, 1543, 1544, 1545, 1546, 1547, 1548, 1038, 1039, 1040, 1041, 1042, 1043, 1044, 1561, 1562, 1563, 1564, 1565, 1566, 1058, 1059, 1060, 1061, 1580, 1581, 1582, 1583, 1584, 573, 589, 590, 591, 592, 593, 594, 606, 607, 608, 609, 610, 611, 612, 626, 627, 628, 629, 630, 285, 287, 301, 303, 304, 305, 322, 1957, 1958, 1959, 1960, 1961, 1976, 1977, 1978, 1997, 1998, 1490, 1491, 1492, 983, 985, 988, 2014, 2015, 1507, 1508, 1509, 1510, 1511, 1512, 1001, 1002, 1003, 1004, 1005, 1006, 1007, 1008, 1523, 1524, 1525, 1526, 1527, 1528, 1529, 1530, 1019, 1020, 1021, 1022, 1023]), 72, Set([1280, 1801, 1802, 1261, 1297, 1298, 1819, 1279]))\n",
      "(22, Set([74, 1844, 1845, 472, 473, 219, 220]), 442, Set([1216, 1217, 1708, 1549, 785, 786, 1047, 1048, 1567, 1568, 1569, 1570, 1066, 1707, 1068, 1070, 1586, 1587, 1588, 1589, 1084, 1214, 1087, 1088, 1089, 1218, 1219, 1608, 1609, 1739, 1740, 1741, 1742, 1999, 1251, 1252, 1253, 1254, 1255, 1773, 1774, 1775, 1776, 1777, 1778, 1780, 1086]))\n",
      "(74, Set([961, 962, 1937, 1450, 1484, 1938, 1518, 1519, 945, 946, 1432, 1433, 1501, 1534, 1535]), 519, Set([1792, 1793, 1794, 1286, 1287, 1288, 1289, 1807, 1808, 1809, 1810, 1811, 1684, 1685, 803, 1828, 1198, 1717, 1718, 1719, 1720, 1721, 1722, 1723, 1232, 1233, 1234, 1235, 1754, 1755, 1756, 1757, 1758, 1649, 1268, 1269, 1270, 1271, 1272, 1812, 1789, 1790, 1791]))\n",
      "(94, Set([1316, 1317, 1895, 1353, 1354, 1838, 1839, 1334, 1335, 1336, 1337, 1819, 1820, 1821]), 1552, Set([2056, 2057, 2058, 2059, 2060, 2061, 2062, 2063, 2064, 1067, 1070, 1591, 1592, 1081, 1082, 1083, 1084, 1085, 1086, 1087, 1088, 1089, 1604, 1605, 1606, 1607, 1608, 1609, 1610, 1611, 1612, 1614, 1623, 1624, 1625, 1626, 1627, 1628, 1629, 1630, 649, 650, 651, 652, 653, 656, 1171, 1172, 1173, 1207, 1208, 1209, 1210, 703, 704, 705, 1243, 1244, 1245, 1246, 1247, 1248, 1250, 1251, 740, 741, 1766, 744, 775, 776, 777, 778, 779, 780, 739, 742, 379, 380, 415, 416, 417, 418, 419, 2025, 2026, 2027, 2039, 2040, 2041, 2042, 2043, 2044, 2045, 2046]))\n",
      "(20, Set([1905, 1419, 1437, 1959]), 2881, Set([7, 2068, 2069, 22, 24, 25, 26, 27, 28, 29, 38, 39, 40, 41, 42, 43, 44, 45, 47, 61, 62, 1092, 1093, 1094, 1095, 1096, 1097, 1098, 1616, 1617, 1619, 787, 1632, 1634, 1635, 1636, 1637, 1638, 1297, 1299, 1298, 115, 116, 117, 118, 120, 1300, 1301, 131, 132, 133, 134, 135, 136, 137, 138, 659, 148, 149, 150, 151, 152, 153, 154, 1819, 169, 170, 171, 172, 173, 174, 175, 182, 183, 184, 185, 186, 187, 188, 189, 190, 202, 203, 204, 205, 207, 2070, 1256, 1257, 1258, 1259, 748, 751, 1279, 1280, 1281, 1837, 784, 785, 786, 643, 788, 789, 794, 795, 796, 1821, 1822, 1315, 1316, 1317, 1318, 811, 812, 813, 814, 815, 816, 817, 829, 830, 831, 832, 833, 333, 335, 336, 337, 339, 351, 366, 368, 660, 661, 386, 387, 388, 389, 390, 663, 399, 400, 401, 402, 403, 404, 1820, 1838, 422, 423, 424, 425, 426, 427, 428, 429, 662, 433, 435, 436, 437, 438, 439, 1839, 451, 452, 453, 454, 455, 456, 457, 459, 470, 472, 473]))\n",
      "(64, Set([1312, 1314, 1831, 1832, 1833, 1834, 1835, 1292, 1293, 1294, 1295, 1817]), 212, Set([1408, 1409, 1410, 1411, 1926, 903, 904, 905, 1922, 1423, 1923, 919, 922, 541, 1905, 1908, 1920, 1921, 1917, 1903, 1904, 1393, 1906, 1907, 1396, 1918, 1919, 1405, 1406, 1407]))\n",
      "(111, Set([256, 1035, 275, 276, 1557, 1558, 1559, 2010, 292, 293, 294, 1575, 2009, 2007, 2008, 601, 602, 865, 867, 1574, 487, 488, 237, 238, 239, 883, 884, 506, 507, 255]), 843, Set([1655, 1656, 1168, 1169, 1170, 878, 1690, 1691, 1692, 160, 880, 1203, 1205, 1206, 1908, 1728, 197, 735, 736, 737, 738, 894, 895, 1920, 771, 772, 773, 774, 1921, 1922, 879, 1364, 860, 861, 863, 1379, 1381, 1382, 1383, 1899, 1900, 1901, 1902, 1903, 1904, 1905, 1906, 1907, 1396, 1397, 1398, 1399, 1400, 1918, 1919, 896, 897, 898, 1923, 1924, 1925, 1926, 1416, 1417, 1418, 1419, 1937, 1938, 1940, 413, 414, 449, 465, 466, 467, 468, 481, 482, 483, 484, 485, 499, 500, 501, 502, 503]))\n",
      "(191, Set([1542, 1543, 1546, 1548, 1991, 1945, 1946, 1948, 1989, 1990, 1963, 1964, 1968, 1459, 1461, 956, 1987, 1988, 1477, 1478, 1479, 1992, 1495, 1496, 1498, 1499, 1500, 1501, 1521, 1522, 1523, 1524, 1525]), 870, Set([1024, 1025, 1026, 1542, 1543, 1544, 1545, 1546, 1547, 1041, 1044, 1565, 1989, 1991, 1967, 1970, 1972, 1973, 1975, 1976, 1988, 1526, 1990, 1505, 1992, 1993, 1994, 1995, 1996, 1506, 1507, 1508, 1504, 609, 610, 611, 612, 1509, 1510, 1002, 1003, 1006, 1008, 1522, 1523, 1524, 1525, 630, 1527, 1528, 1529, 1530, 1022, 1023]))\n",
      "(71, Set([937, 1483, 1486, 1487, 1488, 1977, 1463, 1465, 1466]), 18, Set([128, 704, 1733, 1734, 1173, 380, 127]))\n",
      "(28, Set([1249, 1768, 1770, 1771, 1772, 1773]), 636, Set([1888, 899, 1904, 1883, 1329, 1342, 1344, 1345, 1346, 1347, 1349, 1868, 1869, 1361, 1362, 1363, 1364, 1365, 1366, 1367, 859, 1884, 1885, 1886, 1887, 864, 1889, 1380, 1381, 1382, 1383, 1384, 1385, 877, 878, 879, 880, 881, 882, 504]))\n",
      "(509, Set([1473, 137, 266, 139, 140, 141, 14, 15, 1652, 1688, 409, 410, 411, 157, 158, 159, 32, 538, 1960, 553, 554, 555, 556, 1458, 1454, 1455, 1456, 1457, 50, 51, 951, 696, 697, 698, 699, 1162, 1653, 160, 1474, 67, 68, 69, 70, 71, 268, 1166, 1165, 952, 142, 86, 953, 267, 1129, 1687, 1650, 1651, 372, 373, 374, 375, 248, 249]), 631, Set([2048, 2049, 2050, 2051, 2063, 2064, 2065, 2066, 2067, 2068, 1598, 1599, 1614, 1615, 1616, 1617, 1618, 2011, 2012, 2013, 2014, 1631, 1632, 1633, 1634, 1635, 1636, 2027, 2028, 2029, 2030, 2031, 2032, 2033, 2045, 2046, 2047]))\n",
      "(198, Set([515, 516, 86, 909, 910, 911, 913, 532, 533, 534, 286, 1898, 302, 322, 323, 324, 85, 342, 87, 88, 105, 106, 107, 108, 1897, 125, 126, 341]), 27, Set([1514, 1551, 2001, 2002, 1496, 1945, 1533, 1982]))\n",
      "(67, Set([1632, 1633, 1221, 1255, 1256, 681, 716, 717, 750, 787, 788]), 166, Set([130, 131, 2055, 2056, 778, 653, 418, 1191, 1193, 1083, 1084, 1605, 1606, 1228, 1229, 724, 1786, 364, 1264, 1265, 759, 760, 761, 762, 382]))\n",
      "(56, Set([1312, 449, 450, 1835, 1313, 1832, 1291, 1292, 1293, 1294, 826, 827, 1310, 1311]), 40, Set([1762, 809, 810, 1332, 1240, 1241]))\n",
      "(393, Set([1792, 1794, 1795, 1289, 1290, 1291, 1811, 1902, 1307, 1308, 1309, 1904, 1326, 1344, 1888, 1903, 1358, 1359, 1360, 1361, 1362, 1363, 1364, 1365, 1366, 1367, 1880, 1881, 1883, 1884, 1885, 1887, 1376, 1377, 1378, 1379, 1380, 1381, 1382, 1383, 873, 1901, 878, 879, 880, 1905, 1396, 1271, 1272, 893]), 974, Set([1792, 1281, 1282, 1283, 1284, 1285, 1286, 1287, 1794, 1808, 1297, 1298, 1299, 1300, 1301, 1302, 1303, 1795, 1796, 1839, 1822, 1843, 1824, 1825, 1315, 1316, 1317, 1318, 1319, 1320, 811, 812, 813, 814, 815, 816, 1841, 1842, 1267, 1333, 1334, 1335, 1268, 829, 830, 831, 832, 833, 834, 453, 1351, 1352, 847, 848, 849, 850, 1369, 1370, 1371, 1793, 1840, 865, 866, 1809, 1387, 883, 884, 1269, 1270, 1271, 1272, 1858, 1791]))\n",
      "(324, Set([268, 269, 1303, 1304, 1305, 1306, 1307, 286, 287, 288, 1825, 1826, 1827, 838, 1322, 1323, 1843, 1844, 1845, 837, 68, 69, 70, 839, 209, 210, 211, 87, 479, 480, 481, 482, 227, 228, 229, 230, 231, 594, 248, 249, 250]), 445, Set([1928, 1901, 1902, 1370, 1371, 1372, 1375, 1891, 1892, 1893, 1894, 1895, 1896, 1897, 1898, 1387, 1388, 1389, 1390, 1391, 1392, 1909, 1910, 1911, 1912, 1913, 1914]))\n",
      "(302, Set([1420, 1940, 1941, 1942, 1943, 1944, 1436, 1437, 1438, 1439, 1440, 936, 558, 1455, 1456, 1457, 1458, 952, 953, 954, 1474, 1475, 1476, 971, 972]), 128, Set([848, 1284, 1299, 1301, 796, 797, 798, 1755, 1316, 815, 1333, 1718, 1719, 831, 1335, 1230, 1231, 1232, 1752, 1753, 1754, 847, 1756, 865]))\n",
      "(29, Set([1860, 1861, 1357, 1877, 1878, 1879, 1914]), 384, Set([645, 519, 648, 1347, 268, 1346, 1042, 1043, 1044, 1584, 1061, 1062, 647, 1582, 304, 305, 306, 629, 1345, 322, 323, 324, 630, 70, 71, 1868, 88, 89, 90, 860, 1885, 1886, 1887, 2016, 232, 233, 878, 879, 880, 2033, 2034, 500, 501, 502, 503, 249, 250, 125]))\n",
      "(435, Set([1664, 1665, 1666, 1796, 1238, 1798, 1162, 1163, 1164, 1165, 1166, 1685, 1686, 1687, 1688, 1797, 1699, 1700, 677, 1702, 1200, 1201, 1202, 1203, 1204, 1721, 1722, 1723, 1724, 1725, 1733, 1106, 1107, 1108, 1109, 1110, 1239, 1759, 1701, 1760, 1761, 1762, 1126, 1127, 1128, 1130, 1143, 1144, 1663]), 641, Set([899, 900, 539, 1327, 1328, 1329, 1330, 1849, 1345, 1346, 1347, 1348, 1349, 1350, 1866, 1867, 1868, 1869, 1870, 1871, 1361, 1364, 1365, 1366, 1367, 1368, 1885, 1886, 1887, 1888, 1889, 1890, 1384, 1385, 1386, 879, 880, 881, 882, 1908, 1404]))\n",
      "(49, Set([418, 1416, 778, 242, 80, 81, 114, 532, 1208]), 1065, Set([1024, 1025, 1026, 1992, 1544, 1545, 1546, 1547, 1548, 1993, 1995, 1945, 1946, 1947, 1948, 1949, 1950, 1951, 1952, 1441, 1442, 1996, 1969, 1970, 1459, 1460, 1461, 1462, 1463, 1464, 1972, 1994, 1973, 963, 1974, 1990, 1991, 1480, 1481, 1482, 1483, 1484, 1485, 1486, 1487, 1488, 1490, 1975, 981, 982, 983, 984, 1989, 1501, 1502, 1503, 1504, 1505, 1506, 1507, 1508, 1509, 1510, 1000, 1001, 1002, 1003, 1004, 1005, 1006, 1007, 1521, 1522, 1523, 1524, 1525, 1526, 1527, 1528, 1529, 1530, 1021, 1022, 1023]))\n",
      "(13, Set([2064, 625, 1614, 2063]), 741, Set([1024, 1025, 1026, 763, 11, 12, 13, 14, 15, 16, 303, 1042, 1043, 404, 405, 406, 281, 154, 155, 1565, 1566, 799, 33, 34, 1041, 764, 1062, 1787, 300, 301, 302, 47, 176, 305, 1044, 1547, 318, 319, 320, 321, 322, 323, 1788, 801, 1548, 1230, 629, 336, 83, 85, 612, 1231, 608, 609, 610, 611, 100, 101, 102, 103, 104, 105, 106, 304, 1232, 626, 627, 628, 117, 118, 119, 120, 121, 122, 123, 124, 765, 766, 1023]))\n",
      "(133, Set([288, 576, 516, 534, 264, 266, 267, 889, 536, 531, 533, 246, 535, 248, 249, 890, 1372, 1373, 1374, 287]), 313, Set([265, 267, 1293, 1294, 1815, 1816, 1817, 283, 284, 285, 286, 287, 825, 571, 572, 573, 574, 575, 1995, 68, 69, 70, 71, 843, 844, 464, 465, 466, 467, 212, 213, 88, 986, 987, 988, 1508, 1509, 231, 232, 249]))\n",
      "(114, Set([260, 261, 262, 526, 527, 528, 529, 281, 282, 283, 284, 302, 303, 304, 612, 240, 241, 883, 884, 506, 507, 508]), 35, Set([1672, 1673, 1651, 1653, 1654, 1655, 1113, 1115, 1116]))\n",
      "(40, Set([2027, 2028, 2065, 2066, 2006, 2007, 2008, 2046, 2047]), 26, Set([1603, 1585, 1586, 2036, 1621, 1622]))\n",
      "(303, Set([1281, 1282, 1283, 1803, 1804, 1298, 1299, 1300, 1301, 795, 1820, 1821, 1822, 1823, 1824, 1316, 1317, 1318, 1319, 1320, 1321, 1335, 1336, 1337, 831, 834, 850, 851, 852, 1372, 1373, 1893, 1894, 1895, 1896, 1897, 1263, 1264, 1788]), 751, Set([1408, 1920, 1410, 1411, 1412, 1413, 1414, 1415, 908, 909, 910, 911, 1936, 1937, 1429, 1430, 1431, 1432, 1433, 924, 925, 926, 927, 928, 929, 546, 1982, 1964, 941, 942, 943, 944, 1463, 1983, 957, 958, 959, 960, 1932, 1899, 1981, 973, 1933, 1934, 1495, 1496, 1497, 1935, 991, 1377, 1378, 1917, 1513, 1514, 1515, 1900, 1901, 1902, 1903, 1393, 1394, 1395, 1396, 1397, 1398, 1897, 1915, 1916, 1898, 1918, 1919]))\n",
      "(8, Set([344, 1120, 687]), 204, Set([1771, 1732, 1733, 1734, 1735, 1736, 1769, 1770, 1767, 2056, 2054, 1768, 2035, 1622, 1623, 1624, 1625, 1626, 2055, 2053]))\n",
      "(870, Set([51, 14, 15, 16, 17, 835, 857, 158, 159, 32, 33, 34, 35, 36, 1320, 1322, 477, 49, 50, 179, 52, 478, 1338, 850, 832, 833, 834, 67, 836, 837, 70, 455, 456, 457, 202, 203, 204, 205, 208, 209, 210, 211, 852, 213, 854, 855, 472, 473, 474, 475, 476, 221, 222, 223, 224, 225, 870, 871, 872, 490, 491, 492, 493, 494, 495, 496, 497, 242, 851, 856, 853]), 316, Set([1956, 1957, 1958, 1959, 1448, 1449, 1962, 1452, 1453, 1454, 1975, 1976, 1977, 1978, 1979, 1980, 1472, 1473, 1995, 1996, 1997, 1998, 1490, 1492, 1493, 1510, 1960, 1961]))\n",
      "(33, Set([1897, 1901, 1902, 1903, 1904, 1905]), 25, Set([612, 905, 906, 1388, 590, 528, 1042, 1044]))\n",
      "(119, Set([1120, 1121, 1122, 1123, 1696, 1643, 1101, 1102, 1103, 1104, 1681, 1717, 1680, 1659, 1660, 1694, 1695]), 49, Set([1312, 773, 809, 810, 1868, 1850, 1851, 1852]))\n",
      "(15, Set([1368, 1886, 1366, 1887]), 306, Set([1413, 1543, 1544, 1545, 1546, 1934, 1935, 1430, 1431, 1432, 1433, 551, 945, 946, 947, 948, 949, 1468, 1469, 1470, 965, 966, 1488, 1489, 982, 984, 985, 986, 1506, 1507, 1003, 1005, 1525, 1526, 1527, 1528, 1916, 1917, 1022, 1023]))\n",
      "(43, Set([1120, 400, 689, 42, 1643, 365, 366, 1933, 240, 529, 402, 1429, 150]), 917, Set([1024, 1025, 646, 1545, 1620, 1041, 1042, 1043, 2068, 1958, 1974, 1957, 666, 1993, 1955, 1976, 1954, 1059, 1060, 1061, 1062, 1959, 1638, 1078, 1079, 1080, 1977, 1978, 1600, 1601, 1602, 1526, 1097, 1098, 1975, 1996, 1506, 591, 1488, 1489, 1490, 1491, 1618, 1956, 986, 987, 988, 989, 1637, 608, 609, 610, 1507, 1508, 1509, 1510, 1511, 1003, 1004, 1005, 1006, 1007, 1619, 1525, 1487, 1527, 1528, 1529, 1020, 1022, 1023]))\n",
      "(19, Set([1081, 2039, 1589, 2038, 1605]), 1939, Set([9, 1688, 21, 22, 23, 24, 25, 27, 37, 38, 39, 40, 41, 42, 43, 44, 45, 57, 58, 59, 60, 61, 695, 1722, 1725, 1656, 130, 131, 132, 1160, 1161, 1162, 1163, 1164, 1165, 1166, 146, 147, 148, 149, 150, 151, 152, 1689, 1690, 1691, 1692, 166, 1198, 1199, 1200, 1201, 1202, 181, 182, 183, 184, 185, 186, 187, 188, 189, 190, 199, 200, 201, 202, 203, 204, 205, 206, 207, 724, 726, 727, 728, 729, 730, 731, 732, 733, 239, 761, 762, 764, 766, 816, 831, 361, 364, 365, 366, 367, 368, 370, 371, 1686, 1687, 398, 399, 400, 401, 402, 403, 404, 405, 406, 407, 434, 435, 436, 437, 438, 439, 440, 441, 452, 453, 454, 455, 456, 457, 458, 460, 477]))\n",
      "(34, Set([1476, 1322, 952, 498, 1843, 536, 857]), 241, Set([768, 769, 770, 1665, 1164, 1165, 1311, 1312, 1313, 1314, 805, 806, 807, 1833, 1835, 1200, 1201, 1330, 1332, 825, 826, 1852, 1853, 1854, 1293, 1872, 1106, 731, 732, 733, 734, 1126, 1127, 1128, 1666, 1871]))\n",
      "(13, Set([1656, 1691, 1812, 1813]), 13, Set([1248, 705, 1627, 742, 686]))\n",
      "(240, Set([2053, 2054, 2055, 1673, 1674, 1603, 1185, 1707, 1708, 1709, 1710, 1215, 1216, 1217, 1218, 1219, 1605, 1741, 1742, 1621, 1623, 1624, 1625, 1626, 1248, 1249, 1250, 1251, 1252, 1772, 1773, 1774, 1776]), 20, Set([1508, 172, 300, 118, 1976, 350]))\n",
      "(46, Set([1227, 1188, 694, 1225, 1194, 695, 1228, 717, 692, 726, 727, 728, 1226]), 736, Set([896, 897, 898, 518, 519, 264, 267, 268, 269, 270, 912, 913, 914, 915, 916, 917, 918, 537, 538, 539, 540, 287, 288, 933, 934, 935, 936, 553, 554, 555, 556, 557, 558, 520, 1458, 951, 952, 953, 954, 572, 573, 574, 575, 576, 1440, 969, 970, 971, 972, 1358, 1359, 1360, 1361, 594, 1493, 1494, 1880, 1881, 1882, 1883, 989, 990, 1379, 1380, 1381, 876, 1362, 499, 1401, 252, 895]))\n",
      "(323, Set([512, 513, 514, 649, 650, 112, 1063, 1585, 307, 308, 309, 310, 311, 61, 1603, 325, 326, 327, 328, 77, 78, 1364, 94, 95, 96, 1379, 1380, 1381, 874, 1902, 111, 240, 241, 242, 631, 632, 633, 890, 891, 892, 893, 894]), 63, Set([2048, 2049, 2050, 595, 596, 597, 2070, 1594, 1595, 1596, 1053, 1054, 2069]))\n",
      "(26, Set([1931, 1932, 1933, 1934, 1447]), 168, Set([1920, 1921, 1922, 1418, 1939, 1940, 1941, 1942, 1435, 1436, 1458, 1353, 1354, 1355, 1875, 1876, 1375, 1376, 1898, 1899, 1900, 1901, 1902, 1395, 1396, 1917, 1918, 1919]))\n",
      "(18, Set([464, 859, 411, 700, 1363]), 848, Set([192, 1538, 1539, 1541, 193, 8, 9, 10, 11, 12, 13, 14, 173, 1554, 1555, 1556, 1557, 1292, 24, 409, 154, 27, 28, 29, 30, 31, 32, 805, 806, 807, 297, 298, 299, 45, 46, 47, 48, 49, 50, 1016, 315, 444, 445, 446, 191, 64, 65, 66, 67, 1014, 194, 1036, 1558, 175, 1293, 209, 82, 83, 84, 85, 1017, 1034, 602, 603, 604, 605, 1274, 1537, 1275, 101, 102, 1575, 620, 621, 622, 1035, 1018, 118, 1015, 120, 121, 122, 447, 1276]))\n",
      "(192, Set([128, 129, 1643, 902, 1644, 523, 524, 271, 272, 273, 19, 20, 920, 541, 289, 1642, 559, 56, 73, 74, 75, 217, 91, 1120, 362, 235, 236, 237, 505, 506, 253, 254, 255]), 290, Set([1831, 1832, 1326, 1847, 1848, 1849, 1850, 1341, 1342, 1343, 1863, 1864, 1865, 1357, 1358, 1359, 1879, 1880, 1881, 1882, 1374, 1375, 1894, 1895, 1896, 1897, 1898, 1390, 1393, 1911, 1914]))\n",
      "(32, Set([1927, 937, 938, 974, 956, 1533]), 406, Set([256, 257, 3, 132, 5, 6, 7, 8, 10, 1645, 1680, 131, 149, 150, 23, 24, 4, 1946, 1947, 133, 544, 545, 167, 40, 41, 42, 939, 940, 690, 560, 689, 562, 563, 1460, 1461, 1462, 1463, 543, 957, 958, 959, 1480, 76, 77, 78, 1123, 725, 727, 955, 1124, 691, 365, 366, 367, 275, 25, 21]))\n",
      "(12, Set([1664, 1666, 1668, 1661]), 19, Set([279, 1250, 964, 297, 331, 657, 585, 314]))\n",
      "(101, Set([1955, 1956, 1957, 1990, 1991, 1970, 1987, 1972, 1973, 1974, 1988, 1989]), 381, Set([1548, 1954, 1956, 1957, 1958, 1959, 1960, 1961, 1962, 1973, 1974, 1975, 1976, 1977, 1978, 1979, 1980, 1471, 1472, 1474, 1991, 1994, 1995, 1996, 1997, 1998, 1490, 1491, 1493, 1494, 986, 1507, 1508, 1509, 1528, 1529, 1530]))\n",
      "(13, Set([1736, 1737, 1666, 2054, 1735]), 2350, Set([1027, 1028, 1029, 1030, 1549, 1550, 1965, 1045, 541, 1567, 1568, 559, 560, 561, 562, 563, 566, 577, 578, 579, 580, 581, 582, 583, 584, 595, 596, 597, 598, 599, 600, 601, 92, 614, 615, 618, 1981, 1984, 1999, 253, 254, 255, 256, 258, 271, 272, 273, 274, 275, 276, 277, 278, 289, 290, 291, 292, 293, 294, 1585, 1586, 2017, 2018, 1915, 1916, 1931, 1932, 1933, 1934, 1935, 1427, 1428, 1429, 1430, 922, 940, 941, 942, 943, 2035, 2036, 955, 956, 957, 958, 959, 960, 1477, 1478, 1479, 1480, 1481, 1482, 973, 974, 975, 976, 977, 978, 979, 980, 1495, 1496, 1497, 1498, 1499, 1500, 1502, 991, 992, 993, 994, 995, 996, 997, 998, 1513, 1514, 1515, 1516, 1517, 1009, 1010, 1011, 1012, 1013]))\n",
      "(69, Set([1675, 1640, 1676, 1099, 1100, 1101, 1102, 1711, 1712, 1747, 1658, 1117, 1695]), 2890, Set([1024, 1025, 1026, 6, 1543, 8, 9, 1546, 1547, 1548, 1038, 1039, 1040, 1041, 1042, 531, 1559, 1560, 1561, 1562, 1563, 1564, 1565, 1566, 1542, 590, 1544, 564, 565, 566, 55, 56, 57, 58, 59, 60, 61, 608, 582, 609, 584, 585, 586, 587, 76, 77, 78, 79, 80, 81, 82, 83, 603, 604, 605, 606, 607, 96, 97, 98, 99, 100, 101, 1297, 624, 627, 1993, 199, 200, 201, 202, 203, 217, 218, 219, 220, 221, 222, 237, 238, 239, 240, 241, 242, 981, 256, 257, 258, 259, 260, 261, 262, 263, 264, 983, 984, 275, 276, 277, 278, 279, 280, 281, 282, 285, 987, 294, 295, 296, 297, 298, 299, 300, 301, 302, 305, 316, 1545, 1505, 567, 1506, 568, 569, 1512, 572, 999, 1511, 1000, 1001, 1002, 1003, 985, 610, 1020, 611, 453, 588, 1994, 1995, 1996, 1997, 589, 1488, 469, 470, 471, 472, 473, 591, 988, 1530, 592, 1043, 1507, 1508, 1509, 1510, 593, 488, 489, 490, 491, 1004, 1005, 1006, 1007, 1008, 1522, 1523, 1524, 1525, 1526, 1527, 1528, 1529, 1018, 508, 1021, 1022, 1023]))\n",
      "(534, Set([1963, 1964, 1965, 1966, 1967, 1968, 1981, 1982, 1983, 1984, 1985, 1986, 1495, 1496, 1497, 1498, 1513, 1514, 1515, 1516, 1517, 1518, 1009, 1531, 1532]), 859, Set([1890, 1800, 1295, 1296, 1817, 1818, 1313, 1314, 808, 809, 810, 1834, 1836, 1906, 1330, 1331, 1332, 826, 827, 828, 1853, 1854, 448, 1888, 450, 1347, 1348, 1349, 1350, 844, 845, 846, 1871, 1872, 1363, 1364, 1365, 1366, 1367, 1368, 1242, 861, 863, 864, 1889, 1887, 1870, 1382, 1384, 1385, 1386, 878, 879, 881, 882, 1276, 1277, 1278]))\n",
      "(16, Set([2052, 2034, 1620]), 263, Set([768, 769, 770, 771, 1164, 1165, 1684, 1685, 1686, 408, 409, 410, 411, 1649, 1650, 446, 447, 193, 194, 195, 375, 464, 465, 466, 467, 213, 214, 732, 733, 862, 863, 864, 483, 484, 485, 1126, 1127, 1128, 1386, 1648, 881, 882, 502, 503, 504]))\n",
      "(1064, Set([768, 1792, 1794, 1795, 1796, 1797, 1793, 1813, 1814, 1791, 806, 1198, 1199, 1200, 1201, 1721, 1722, 1723, 1724, 1232, 1234, 1235, 1236, 1237, 1238, 1241, 1754, 1755, 1756, 1757, 1758, 1759, 1760, 1761, 1762, 1269, 1270, 1271, 1272, 1273, 1274, 1275, 765, 1790, 767]), 37, Set([736, 737, 771, 1815, 719, 1813, 1239, 1240, 1276]))\n",
      "(24, Set([1351, 1352, 1353, 1354, 1355, 1359, 1874, 1333, 1335, 1877]), 2442, Set([683, 1708, 1112, 1113, 1114, 1115, 1116, 1132, 1654, 1146, 1147, 1148, 1149, 1150, 1151, 1152, 1668, 1669, 1670, 1671, 1672, 1673, 1674, 663, 1181, 1182, 1183, 1184, 1185, 1186, 1187, 1188, 678, 679, 680, 681, 682, 1707, 684, 1709, 1710, 700, 701, 702, 1217, 1219, 1220, 1221, 1222, 1223, 1224, 714, 715, 716, 717, 718, 719, 720, 1745, 1746, 1742, 1743, 1744, 750, 751, 752, 753, 754, 755, 756, 1781, 787, 789, 790, 791, 792, 356, 357, 358, 359, 360, 390, 391, 392, 393, 394, 395, 396, 1775, 428, 429, 430, 431, 1780, 1704, 1705, 1706]))\n",
      "(452, Set([1451, 265, 266, 267, 268, 269, 18, 535, 536, 537, 538, 539, 540, 1434, 1433, 930, 931, 932, 933, 934, 551, 552, 553, 554, 555, 556, 557, 558, 1437, 948, 949, 950, 951, 953, 573, 574, 87, 88, 89, 90, 1452, 1435, 1436, 107, 108, 249, 250]), 73, Set([2043, 1734, 1735, 1736, 1642, 1643, 1772, 1773, 2062, 1661, 2066, 2067, 1140, 1662, 1663, 1629, 1630, 1631]))\n",
      "(299, Set([900, 522, 1330, 1331, 1332, 1887, 1888, 1347, 1348, 1349, 1350, 845, 1870, 1869, 1872, 1367, 1368, 1871, 861, 862, 863, 864, 485, 234, 880, 881, 882, 503, 504]), 543, Set([523, 524, 525, 1947, 1948, 541, 542, 543, 544, 545, 1969, 1949, 938, 939, 940, 941, 559, 560, 561, 1460, 1461, 1462, 1463, 1464, 1465, 1466, 955, 956, 957, 958, 959, 1952, 1950, 1480, 1481, 1482, 1483, 1951, 235, 253, 254, 255]))\n",
      "(76, Set([736, 737, 738, 1167, 1686, 1687, 1688, 378, 413]), 171, Set([513, 1410, 1409, 1426, 1427, 1443, 1444, 1325, 1326, 1849, 1850, 1851, 1376, 1377, 1378, 872, 873, 874, 494, 891, 892, 894]))\n",
      "(567, Set([1027, 1028, 1029, 902, 1031, 919, 1549, 1550, 271, 1045, 1046, 1047, 541, 901, 1568, 1569, 1570, 1571, 1030, 1585, 559, 561, 1586, 1587, 1567, 577, 595, 2019, 2017, 2018, 1891, 1892, 613, 614, 253, 2035, 2036, 2037, 2039, 1532, 1405]), 2040, Set([1024, 1025, 1026, 1544, 1545, 1546, 1547, 1548, 1039, 1040, 1041, 1042, 1043, 1044, 1561, 1562, 1563, 1564, 1565, 1566, 1056, 1057, 1058, 1059, 1060, 1061, 1062, 1579, 1580, 1581, 1582, 1583, 1074, 1075, 1076, 1077, 1078, 1599, 1600, 1093, 1104, 1105, 1106, 1107, 1108, 1109, 609, 1124, 1125, 1644, 1645, 1646, 1647, 1648, 625, 626, 627, 1141, 1142, 1143, 1144, 1145, 1146, 1663, 1664, 1665, 642, 643, 644, 645, 659, 660, 661, 662, 1179, 1180, 1181, 1182, 673, 674, 675, 676, 677, 175, 1218, 710, 711, 712, 713, 714, 745, 746, 748, 749, 750, 751, 752, 1666, 785, 786, 787, 788, 336, 337, 339, 349, 352, 354, 387, 388, 389, 390, 391, 392, 1667, 424, 425, 426, 427, 428, 2012, 2013, 2014, 2015, 2031, 1528, 1529, 1530, 1021, 1023]))\n",
      "(3733, Set([512, 513, 514, 515, 516, 6, 7, 8, 9, 10, 11, 12, 528, 529, 530, 531, 532, 533, 547, 548, 550, 552, 41, 42, 43, 44, 45, 46, 47, 563, 564, 565, 566, 567, 568, 569, 58, 59, 60, 61, 62, 63, 64, 65, 66, 67, 580, 581, 582, 583, 584, 585, 586, 587, 588, 77, 78, 79, 80, 81, 82, 83, 84, 85, 598, 599, 600, 601, 602, 603, 605, 96, 97, 98, 99, 100, 102, 621, 153, 187, 189, 1483, 1484, 203, 204, 205, 206, 207, 208, 209, 210, 211, 221, 222, 223, 224, 225, 226, 227, 228, 229, 239, 240, 241, 242, 243, 244, 245, 246, 247, 257, 258, 259, 260, 261, 262, 263, 264, 265, 273, 275, 276, 277, 278, 279, 280, 281, 282, 293, 294, 295, 296, 297, 298, 299, 1501, 1502, 1988, 570, 892, 907, 579, 1519, 1520, 1521, 1463, 959, 960, 961, 962, 963, 964, 965, 1480, 1481, 459, 460, 1485, 976, 977, 978, 979, 980, 981, 982, 983, 984, 474, 475, 476, 477, 478, 479, 995, 996, 997, 998, 999, 1000, 1001, 492, 494, 495, 496, 497, 1019, 509, 510, 511]), 31, Set([258, 1765, 327, 328, 1935, 276, 1243, 925]))\n",
      "(448, Set([1538, 1539, 1540, 1541, 1542, 1031, 1032, 1034, 1548, 1037, 1557, 1558, 1559, 1521, 1543, 1544, 999, 1527, 631, 1996, 1997, 1998, 1016, 600, 601, 602, 603, 604, 1530, 614, 615, 1000, 1001, 1002, 1003, 1520, 1512, 1522, 1523, 1524, 1525, 1015, 632, 1017, 1018, 1019, 1020, 1021, 1022]), 87, Set([1921, 1922, 1923, 1924, 1902, 1903, 1904, 1939, 1940, 1941, 1942, 1943]))\n",
      "(771, Set([1281, 1282, 1283, 1284, 1285, 1286, 397, 398, 1807, 145, 1299, 1300, 1301, 1302, 1303, 1304, 793, 794, 1842, 796, 1822, 1823, 1824, 1825, 1826, 1827, 38, 1841, 811, 812, 813, 814, 815, 816, 433, 434, 435, 436, 181, 182, 183, 184, 1843, 829, 451, 452, 453, 454, 199, 201, 1297, 757, 758, 759]), 72, Set([1346, 1347, 1348, 199, 856, 855, 472, 473, 474, 475]))\n",
      "(475, Set([1152, 1664, 1666, 1667, 1668, 1669, 1670, 1665, 1672, 1663, 1693, 1694, 1695, 1696, 1697, 1700, 1701, 1702, 1703, 1704, 1671, 684, 1655, 1111, 1112, 1113, 1114, 1115, 1116, 1659, 1133, 1134, 1142, 1143, 1144, 1145, 1146, 1147, 1660, 1149, 1662, 1151]), 173, Set([1837, 399, 400, 401, 1298, 1299, 1175, 1176, 671, 672, 1697, 1698, 811, 812, 813, 1838, 689, 434, 435, 1856, 708, 346, 347, 1123, 1297, 364, 1139]))\n",
      "(39, Set([738, 197, 231, 232, 233, 1170, 914, 214, 215]), 66, Set([1888, 1346, 1147, 1348, 1349, 680, 843, 1869, 1870, 1329, 1330, 1347, 410, 411, 1148, 447]))\n",
      "(45, Set([1220, 2056, 1774, 1775, 1776, 1777, 2035, 2036, 1627, 1628, 1629]), 1384, Set([1792, 1153, 1154, 1155, 1156, 1157, 1158, 1786, 1675, 1676, 1677, 1678, 1784, 1748, 1791, 1189, 1190, 1191, 1192, 1193, 1194, 1195, 1196, 685, 1711, 1712, 1713, 1714, 1715, 1716, 1717, 1227, 1225, 1226, 1099, 1228, 1229, 1230, 1231, 1232, 721, 722, 723, 724, 725, 1750, 1751, 1752, 1753, 1754, 1117, 1118, 1119, 1233, 1785, 1234, 1267, 1268, 1269, 1747, 759, 760, 761, 762, 1787, 1788, 1789, 1790, 1749]))\n",
      "(49, Set([1440, 1476, 1961, 1962, 1457, 1458, 954]), 360, Set([131, 132, 133, 649, 650, 23, 1292, 1293, 24, 1603, 149, 22, 151, 152, 153, 154, 150, 416, 417, 418, 165, 166, 167, 168, 41, 44, 1289, 1815, 821, 822, 823, 441, 442, 443, 188, 1290, 1291, 327, 328, 802, 1814, 805, 1831, 112, 1832, 25, 1833, 763, 801, 383]))\n",
      "(603, Set([640, 641, 642, 1027, 1030, 1601, 1039, 660, 1045, 1046, 1048, 1049, 1050, 1051, 1052, 1053, 1054, 1055, 1056, 1057, 1058, 1571, 1572, 1575, 1577, 1578, 1579, 1069, 1071, 1072, 1073, 1074, 1075, 1076, 1077, 1079, 1080, 1588, 1594, 1567, 1596, 1597, 1598, 1589, 1600, 1568, 1602, 1569, 1612, 1570, 1614, 1613, 1616, 1619, 1593, 1615, 1595, 2026, 2027, 2028, 2029, 1585, 1599, 2044, 2045, 2046, 2047]), 335, Set([384, 385, 130, 131, 132, 133, 134, 1802, 1803, 781, 398, 399, 400, 401, 403, 1262, 794, 795, 796, 1628, 1280, 1629, 434, 435, 436, 437, 182, 184, 707, 723, 724, 782, 346, 347, 348, 349, 350, 744, 745, 365, 366, 1263, 758, 759, 760, 761, 762]))\n",
      "(155, Set([1152, 1185, 1186, 1187, 1188, 1224, 1710, 1648, 1649, 1650, 1651, 1652, 1110, 1111, 1112, 1113, 1149, 1150]), 227, Set([1440, 1920, 1922, 1923, 1924, 1926, 1921, 1420, 1900, 1901, 1902, 1458, 1939, 1940, 1941, 1942, 1943, 1944, 1919, 1438, 1439]))\n",
      "(1089, Set([643, 644, 1004, 1039, 1036, 1037, 1038, 1005, 1040, 1042, 1043, 1044, 279, 280, 281, 282, 283, 1055, 1056, 1057, 1058, 296, 297, 298, 299, 300, 301, 302, 303, 315, 316, 317, 318, 319, 320, 321, 322, 584, 585, 586, 587, 588, 589, 590, 591, 592, 603, 604, 605, 606, 607, 608, 609, 610, 100, 101, 102, 103, 104, 105, 1003, 988, 621, 622, 623, 624, 625, 626, 627, 1001, 121, 1019, 1020, 1021]), 12, Set([26, 27, 1597, 334]))\n",
      "(50, Set([1856, 1857, 1858, 1859, 1860, 1333, 1855]), 3990, Set([1536, 1537, 1538, 1539, 1540, 1541, 520, 10, 11, 12, 13, 14, 15, 16, 17, 18, 1557, 601, 1561, 602, 30, 31, 32, 33, 34, 35, 36, 47, 48, 49, 50, 51, 52, 53, 54, 572, 573, 65, 66, 67, 68, 69, 70, 71, 72, 585, 586, 587, 588, 589, 590, 1037, 83, 84, 85, 86, 87, 88, 89, 90, 603, 604, 605, 606, 607, 608, 609, 100, 101, 102, 103, 104, 105, 106, 107, 108, 622, 623, 624, 625, 120, 121, 122, 123, 124, 125, 126, 159, 174, 175, 192, 193, 197, 198, 209, 210, 211, 212, 213, 214, 215, 216, 230, 231, 232, 246, 247, 248, 249, 250, 251, 252, 263, 264, 265, 266, 267, 268, 269, 278, 280, 281, 282, 283, 284, 285, 286, 287, 288, 296, 297, 298, 299, 300, 301, 302, 303, 304, 305, 306, 317, 318, 319, 320, 321, 322, 323, 324, 1034, 340, 1035, 390, 1036, 584, 1985, 450, 1038, 468, 982, 997, 998, 999, 1000, 1001, 1002, 1003, 1004, 1517, 1518, 1519, 1520, 1521, 1522, 1523, 1015, 1016, 1017, 1018, 1019, 1020, 1533, 1535]))\n",
      "(33, Set([96, 4, 294, 999, 1000, 1994, 1995, 1523, 111, 112, 19, 92]), 525, Set([1794, 1795, 1796, 1110, 1163, 1165, 1683, 1684, 1685, 1686, 1687, 1688, 1689, 1690, 1797, 1721, 1722, 1723, 1724, 1109, 1238, 1757, 1758, 1759, 1760, 1761, 1762, 1127, 1128, 1129, 1647, 1648, 1649, 1650, 1651, 1652]))\n",
      "(331, Set([1796, 1797, 1798, 1292, 1293, 1812, 1813, 1814, 1815, 1830, 1831, 1832, 1847, 1848, 1725, 1727, 1864, 1865, 1866, 1238, 1239, 1240, 1759, 1760, 1761, 1762, 1763, 1272, 1273, 1274, 1275, 1276]), 14, Set([1633, 1636, 1738, 1776, 1777, 1778, 1779]))\n",
      "(345, Set([1152, 516, 517, 518, 1415, 1416, 393, 394, 395, 13, 14, 15, 912, 913, 533, 534, 535, 31, 32, 33, 1186, 1187, 1188, 1709, 1710, 177, 178, 1417, 1224, 716, 717, 718, 719, 720, 84, 911, 754, 755, 246, 247, 248, 1150, 1151]), 168, Set([1441, 1442, 1443, 1477, 1478, 1513, 1514, 1963, 1947, 1549, 1948, 1459, 1460, 1495, 1496, 1945, 1946, 1531, 1532, 1981, 1982]))\n",
      "(48, Set([1, 166, 167, 746, 747, 748, 1741, 1742, 1743, 385, 20, 21, 22]), 45, Set([1801, 1802, 1297, 1819, 1820, 1279]))\n",
      "(1081, Set([517, 9, 10, 11, 12, 14, 28, 29, 30, 46, 47, 48, 49, 50, 62, 63, 1088, 1089, 66, 67, 68, 69, 79, 80, 82, 83, 84, 85, 86, 1624, 1625, 1626, 1627, 1628, 115, 116, 117, 118, 119, 120, 655, 656, 657, 157, 1250, 171, 172, 173, 207, 208, 209, 210, 211, 212, 213, 1247, 1248, 1249, 226, 227, 228, 229, 230, 243, 244, 245, 246, 247, 248, 263, 781, 782, 283, 224, 225, 331, 332, 333, 1086, 1087, 64, 65, 422, 423, 478, 479, 480, 481, 482, 496, 498, 499]), 1737, Set([515, 530, 531, 532, 533, 534, 535, 536, 537, 1456, 548, 549, 550, 551, 552, 553, 554, 555, 556, 1979, 1962, 569, 572, 1467, 1437, 1438, 885, 886, 1457, 1416, 1333, 1334, 1419, 1351, 1352, 1873, 1370, 1371, 1372, 1373, 1374, 1375, 865, 866, 867, 868, 869, 1937, 1938, 1390, 1397, 1398, 887, 888, 889, 890, 1411, 1412, 1413, 1414, 1415, 904, 1417, 1418, 907, 908, 909, 910, 911, 912, 913, 914, 1939, 1940, 1431, 1432, 1433, 1434, 1435, 1436, 925, 926, 927, 928, 929, 930, 931, 932, 933, 934, 1449, 1450, 1451, 1452, 1453, 1454, 943, 944, 945, 946, 947, 948, 949, 950, 951, 1439, 1468, 1469, 1470, 1471, 1472, 1473, 1474, 1475, 964, 965, 966, 967, 968, 1486, 491, 1961, 509]))\n",
      "(61, Set([1126, 1646, 1647, 1648, 1649, 1650, 1107, 1686, 1724, 1661]), 193, Set([2017, 2018, 2019, 2020, 2021, 2022, 2023, 1999, 2000, 2001, 2002, 2003, 2004, 2005, 2038, 2039, 2036, 2037, 2035, 1567]))\n",
      "(1860, Set([1724, 1720, 1107, 1108, 1109, 1110, 1111, 1113, 1114, 1722, 1723, 1124, 1126, 1127, 1128, 1129, 1130, 1131, 1132, 1725, 1649, 1650, 1651, 1652, 1653, 1654, 1161, 1162, 1163, 1164, 1165, 1166, 1167, 1680, 1169, 1682, 1683, 1684, 1685, 1686, 1687, 1688, 1689, 1690, 675, 676, 677, 678, 679, 680, 681, 1196, 1197, 1198, 1199, 1200, 1201, 1202, 1203, 1204, 693, 694, 695, 696, 697, 698, 699, 700, 701, 1726, 1234, 729, 730, 731, 732, 733, 734, 735, 736, 737, 767, 768, 769, 1756, 1757, 1758, 1759, 1760, 1761, 1168, 354, 355, 356, 357, 1681, 368, 369, 370, 371, 372, 373, 374, 375, 376, 378, 409, 410, 1721]), 603, Set([1449, 214, 519, 266, 143, 16, 17, 18, 534, 1433, 1432, 68, 947, 414, 197, 160, 929, 34, 35, 36, 198, 1446, 551, 552, 553, 554, 1451, 944, 945, 50, 51, 52, 53, 54, 1469, 195, 196, 69, 70, 71, 72, 162, 467, 213, 86, 215, 216, 1445, 1447, 1448, 246, 247, 248, 249, 250, 1450]))\n",
      "(36, Set([672, 1688, 1689, 1690, 671, 668, 669, 670, 703]), 1471, Set([515, 10, 11, 12, 13, 14, 15, 531, 532, 533, 534, 535, 536, 28, 29, 30, 31, 32, 33, 549, 550, 551, 552, 553, 48, 49, 50, 64, 65, 66, 67, 68, 82, 83, 84, 85, 86, 1112, 1113, 102, 103, 104, 120, 1148, 1149, 1150, 1669, 1670, 1671, 1672, 137, 138, 139, 140, 141, 142, 156, 159, 679, 680, 681, 174, 175, 176, 714, 715, 716, 717, 751, 244, 245, 246, 262, 263, 264, 265, 281, 1673, 1935, 1936, 355, 356, 1937, 1412, 1413, 1414, 1415, 1416, 393, 909, 910, 911, 912, 913, 1938, 1429, 1431, 1432, 1433, 1434, 1435, 926, 927, 928, 929, 930, 931, 932, 1448, 1450, 945, 946, 947, 948, 949, 1466]))\n",
      "(88, Set([1186, 1221, 1222, 1738, 1739, 1740, 719, 753, 754, 755, 756]), 2666, Set([1920, 1921, 1922, 899, 1924, 1925, 1926, 1417, 522, 1419, 1420, 1421, 1422, 914, 1923, 916, 917, 1942, 1943, 1944, 1940, 1435, 540, 1437, 1438, 1439, 1440, 932, 933, 934, 935, 936, 1436, 1456, 1458, 1941, 1418, 1939, 1382, 1384, 1386, 1938, 1902, 1903, 1904, 1905, 1906, 1907, 1908, 1399, 1400, 1401, 1402, 1403, 1404, 1919]))\n",
      "(167, Set([386, 262, 280, 1451, 1452, 946, 947, 948, 949, 950, 568, 569, 1468, 1469, 1470, 1471, 1472, 709, 968, 98, 99, 100, 116, 117, 1662, 1663]), 34, Set([964, 549, 550, 1360, 1522, 981, 982, 1397]))\n",
      "(124, Set([1248, 739, 740, 1212, 1738, 1771, 1772, 1773, 1774, 1775, 1780, 1781, 1782, 1177, 1209, 1210, 1211, 380, 1213, 1214, 1215]), 753, Set([650, 652, 653, 654, 2063, 2064, 2065, 2066, 2067, 1047, 417, 1064, 1065, 1066, 1067, 1068, 1069, 1070, 1071, 1072, 1608, 307, 308, 309, 1591, 1593, 1594, 1085, 1087, 1089, 325, 326, 327, 328, 1609, 1610, 1611, 1612, 1613, 1614, 1615, 1616, 2062, 1631, 1632, 613, 614, 615, 110, 631, 632, 633, 634, 635, 2045, 2046, 2061]))\n",
      "(56, Set([1132, 1130, 683, 684, 1654, 1655, 1688, 1115, 1116]), 1828, Set([2053, 2054, 2055, 2056, 2057, 2058, 2059, 2060, 2061, 1063, 1064, 1066, 1067, 1068, 1069, 1070, 1071, 1585, 1586, 1589, 1590, 1591, 1592, 1081, 1082, 1083, 1084, 1085, 1086, 1087, 1088, 1089, 1090, 1091, 1604, 1605, 1606, 1607, 1608, 1609, 1610, 1611, 1612, 1621, 1622, 1623, 1624, 1625, 1626, 1627, 1628, 1629, 1630, 649, 650, 651, 652, 653, 654, 655, 656, 657, 658, 666, 1213, 1243, 1244, 1245, 1246, 1247, 1248, 1249, 1250, 1251, 1765, 1766, 1767, 744, 745, 746, 747, 1772, 1773, 1774, 776, 778, 779, 780, 781, 782, 783, 335, 1770, 1771, 1603, 1092, 1093, 419, 421, 2035, 2036, 2037, 2040, 2041]))\n",
      "(31, Set([392, 393, 306, 716, 1148]), 351, Set([1668, 1669, 1670, 1672, 1182, 1183, 1184, 1185, 1186, 1703, 680, 681, 1706, 1707, 1708, 1709, 1221, 1222, 1223, 1224, 1742, 1743, 1744, 1108, 1110, 1636, 1637, 1638, 1258, 1259, 1260, 1704, 1779, 1780, 1781, 1782, 1705, 1146, 1147, 1148, 1149, 1150]))\n",
      "(21, Set([1890, 1353, 1354, 1355, 1357, 1362, 1363, 1366, 1367, 1880]), 164, Set([647, 269, 270, 663, 664, 665, 539, 540, 288, 935, 936, 557, 558, 576, 322, 323, 324, 1096, 1097, 341, 342, 89, 1258, 108, 252]))\n",
      "(269, Set([1664, 1665, 1681, 1682, 1683, 1685, 1718, 1719, 1720, 1105, 1106, 1107, 1108, 1109, 1110, 1111, 1124, 1125, 1126, 1645, 1646, 1647, 1648, 1649, 1145]), 34, Set([2049, 1331, 844, 845, 1617, 51, 340, 213, 214, 52, 1077]))\n",
      "(74, Set([192, 193, 451, 433, 434, 435, 182, 187, 188, 189, 191]), 13, Set([1938, 1958, 1959]))\n",
      "(55, Set([1440, 1476, 1456, 1457, 1458, 1493]), 368, Set([1883, 1331, 1332, 1887, 1340, 1853, 1854, 1344, 1888, 1346, 1347, 1348, 1349, 1350, 1889, 1356, 1355, 1868, 1357, 1358, 1359, 1360, 1361, 1362, 1870, 1878, 1879, 1880, 1881, 1882, 1871, 1884, 1885, 1886, 863, 1869, 1872, 1342]))\n",
      "(594, Set([640, 641, 642, 643, 1925, 300, 2058, 2059, 1053, 269, 1038, 557, 283, 284, 285, 1054, 1055, 1056, 1057, 1612, 934, 935, 936, 1071, 555, 556, 301, 302, 303, 1072, 1073, 1438, 1421, 953, 1594, 1439, 572, 573, 574, 319, 1440, 1420, 1610, 1611, 588, 590, 591, 1422, 1593, 1039, 1628, 1597, 1037, 1595, 2060, 621, 622, 623, 624, 625, 626, 2041, 637, 639]), 92, Set([1718, 713, 714, 791, 716, 1719, 1162, 752, 753, 1684, 788, 789, 790, 695, 696, 1620, 1161, 1098]))\n",
      "(32, Set([360, 1836, 1296, 1224, 1782, 378]), 104, Set([1823, 1824, 1283, 1284, 1285, 1825, 1875, 1805, 1806, 1807, 1808, 1841, 1267, 1268, 1822, 1857, 1859, 1755, 1790, 1791]))\n",
      "(217, Set([512, 513, 6, 7, 8, 9, 780, 781, 1377, 26, 420, 421, 167, 169, 170, 114, 61, 62, 63, 1248, 1249, 1247, 224, 225, 1378, 1768, 1769, 1770, 494, 242, 115, 890, 891, 892]), 1713, Set([1, 3, 4, 6, 19, 20, 21, 22, 23, 24, 25, 26, 1173, 1371, 38, 40, 41, 45, 94, 109, 110, 111, 112, 113, 114, 115, 635, 128, 129, 130, 131, 132, 133, 1389, 145, 146, 147, 148, 149, 150, 151, 1176, 1696, 163, 164, 165, 166, 167, 168, 169, 1208, 1209, 1210, 1211, 1212, 1213, 703, 705, 706, 707, 1732, 1733, 1734, 219, 220, 221, 222, 739, 741, 742, 743, 744, 1769, 746, 776, 777, 778, 779, 1731, 326, 327, 328, 343, 344, 345, 346, 347, 1372, 867, 868, 362, 1767, 364, 365, 366, 1768, 885, 886, 1172, 380, 381, 382, 383, 384, 385, 1174, 1175, 416, 417, 418, 419, 420, 421, 488, 489, 490, 491]))\n",
      "(52, Set([832, 833, 579, 76, 75, 236, 238, 239, 273]), 1248, Set([865, 866, 1379, 868, 869, 870, 871, 1384, 885, 890, 892, 1315, 1316, 1317, 1333, 1334, 1335, 1336, 1337, 1338, 1339, 1855, 1856, 1857, 1858, 1859, 1351, 1352, 1353, 1354, 1355, 1356, 1357, 847, 848, 1361, 1874, 1875, 1876, 1877, 1879, 1370, 1371, 1372, 1373, 1374, 1375, 1376, 1377, 1378, 867, 1380, 1381, 1382, 1383, 872, 873, 874, 875, 1396, 1397, 1398, 1399, 1400, 1401, 1402, 1403, 1404, 893, 894, 895, 896, 897, 898, 1419, 1420, 1421, 1422, 915, 916, 917, 918, 849, 1873, 496, 851]))\n",
      "(10, Set([1673, 1674, 1710]), 1171, Set([1771, 2054, 2055, 2056, 2046, 2058, 2059, 2060, 2061, 2062, 2063, 2064, 2065, 787, 1740, 1710, 2035, 1630, 2057, 1214, 1087, 1088, 1089, 1090, 1220, 1221, 1222, 1223, 1608, 1609, 1610, 1611, 1612, 1613, 1742, 1741, 1744, 1745, 1746, 1623, 1624, 1625, 1626, 1627, 1628, 1629, 1246, 1631, 1248, 1249, 1250, 1251, 1252, 1253, 1255, 1256, 1257, 1258, 1259, 1772, 1773, 1774, 1775, 1776, 1777, 1778, 1779, 1780, 1781, 1782, 2039, 1632, 2042, 2037, 1770, 1743]))\n",
      "(18, Set([219, 220, 1925]), 224, Set([662, 789, 790, 791, 792, 1223, 432, 1224, 180, 1780, 1222, 1095, 1096, 1097, 1098, 1256, 1257, 1258, 1259, 1260, 754, 1779, 756, 1781]))\n",
      "(1554, Set([1282, 1283, 1284, 1285, 1286, 1287, 1288, 1289, 1290, 1291, 1805, 1806, 1807, 1808, 1809, 1810, 1811, 1300, 1301, 1302, 1303, 1304, 1305, 1306, 1307, 1308, 1825, 1822, 799, 800, 801, 1826, 1827, 1828, 1829, 1830, 1831, 1320, 1321, 1322, 1323, 1324, 1325, 1842, 815, 816, 817, 818, 819, 820, 821, 1846, 1847, 1843, 1823, 1340, 1845, 1841, 833, 834, 835, 836, 837, 838, 455, 459, 1844, 1862, 1266, 1267, 1268, 1269, 1270, 1272, 1812, 1824, 1813]), 56, Set([1568, 2017, 1027, 1549, 1999, 2000, 1585, 1567]))\n",
      "(249, Set([2059, 2060, 2061, 2062, 2063, 1610, 1612, 2001, 2002, 2003, 2004, 1628, 1629, 1630, 1631, 1632, 2020, 2021, 2022, 2023, 2040, 2041, 2042, 2043]), 17, Set([1361, 1323, 1341, 1342]))\n",
      "(45, Set([1838, 1807, 1808, 1821, 1822, 1823]), 737, Set([1971, 1921, 1922, 1414, 1415, 1416, 1417, 1418, 1419, 1420, 1421, 1936, 1937, 1938, 1939, 1940, 1941, 1942, 1431, 1432, 1433, 1434, 1435, 1436, 1437, 1438, 1952, 1953, 1954, 931, 1956, 1969, 1449, 1450, 1451, 1452, 1453, 1454, 1949, 1968, 945, 1970, 947, 948, 1973, 1466, 1467, 1468, 1469, 1470, 1471, 1984, 963, 1484, 1485, 1486, 1955, 1943, 1917, 1919]))\n",
      "(16, Set([1346, 1348, 1349, 1360, 1361, 1887]), 441, Set([1287, 1283, 1284, 1285, 1158, 1159, 1160, 1161, 1806, 1807, 1297, 1682, 1299, 1300, 1301, 1302, 1303, 1304, 1305, 1842, 797, 798, 799, 800, 801, 1826, 1286, 1841, 1194, 1195, 1196, 1197, 815, 816, 817, 818, 1843, 1822, 1823, 1824, 1825, 1230, 1231, 1232, 727, 730, 1123, 1124, 1125, 1681, 1645, 1646, 1647, 1648, 1683]))\n",
      "(29, Set([577, 1963, 1964, 973, 559, 271]), 25, Set([1248, 391, 392, 142, 783, 784, 143]))\n",
      "(354, Set([1025, 1026, 900, 269, 270, 1042, 1044, 918, 540, 1565, 1566, 287, 288, 557, 558, 305, 306, 2014, 574, 575, 576, 593, 594, 1368, 990, 2015, 2016, 610, 611, 612, 1384, 1385, 1386, 1007, 1008, 2033, 882, 1908, 629, 1529, 1404]), 2456, Set([1024, 1541, 1542, 1543, 1544, 1545, 1546, 1036, 1037, 1038, 1039, 1040, 1041, 1042, 532, 533, 534, 535, 536, 1561, 1562, 1563, 1564, 1565, 1057, 551, 552, 553, 554, 1579, 1580, 1581, 569, 570, 571, 572, 575, 1600, 586, 587, 588, 589, 590, 591, 604, 605, 606, 607, 608, 609, 610, 625, 1557, 1558, 1559, 1560, 1577, 1578, 2009, 284, 2010, 2011, 301, 1379, 1900, 1901, 1902, 1903, 1904, 1395, 1396, 1397, 1398, 1399, 1400, 1918, 1919, 1920, 1921, 1414, 1415, 1416, 1417, 1418, 910, 911, 912, 913, 914, 1434, 928, 929, 930, 931, 932, 933, 966, 967, 983, 984, 985, 986, 987, 2012, 2013, 2014, 1505, 1506, 1507, 1508, 1509, 999, 1000, 1001, 1002, 1003, 1004, 1005, 1006, 1007, 1522, 1523, 1524, 1525, 1526, 1527, 1018, 1019, 1020, 1021, 1022, 1023]))\n",
      "(289, Set([1505, 1947, 1949, 286, 287, 288, 1953, 1955, 306, 1950, 569, 1951, 1952, 964, 966, 967, 968, 1485, 1486, 591, 592, 593, 1490, 1491, 982, 983, 984, 985, 986, 1487, 1488, 1506, 1507, 1489, 108, 126]), 58, Set([896, 897, 1359, 1360, 1361, 915, 1880, 1881, 539, 540]))\n",
      "(73, Set([1729, 1730, 1731, 1732, 1733, 1734, 1767, 1768, 1769, 1770, 1771, 1766, 1246]), 109, Set([1824, 1091, 187, 1092, 2065, 188, 1303, 172, 2064, 817, 659, 660, 1302, 425, 153, 154, 27, 28, 189, 1823]))\n",
      "(25, Set([1456, 612, 1007, 1008, 1457, 594, 1584, 2052, 989]), 1197, Set([1408, 1, 2, 1411, 901, 902, 903, 904, 905, 906, 523, 524, 525, 526, 237, 1938, 19, 21, 1390, 921, 1917, 1391, 1911, 543, 91, 37, 1410, 1916, 1898, 1901, 1919, 1395, 1894, 55, 56, 57, 58, 1388, 885, 1920, 1914, 1910, 73, 74, 75, 1900, 1409, 1912, 1389, 1913, 217, 218, 219, 1373, 1899, 1915, 1893, 1414, 1895, 1896, 1897, 490, 235, 236, 109, 238, 239, 1392, 1393, 1394, 883, 884, 510, 886, 887, 1406, 505, 506, 507, 508, 509, 254, 1407]))\n",
      "(1035, Set([1728, 770, 771, 772, 773, 774, 1799, 1800, 1367, 1346, 1294, 1167, 1168, 1169, 1170, 1889, 1797, 1312, 1313, 1888, 1798, 806, 807, 808, 809, 810, 1330, 1366, 1202, 1203, 1204, 1205, 1206, 825, 826, 827, 828, 1890, 1726, 448, 449, 450, 1347, 1348, 1349, 1761, 1296, 844, 845, 1331, 466, 1365, 1238, 1239, 1240, 1241, 1242, 1295, 735, 1760, 737, 1762, 1763, 1764, 1275, 1276, 1277, 1278]), 456, Set([640, 641, 623, 9, 10, 11, 12, 174, 1814, 407, 408, 155, 28, 29, 30, 27, 804, 805, 1574, 1575, 170, 171, 172, 173, 46, 47, 48, 1813, 1054, 822, 1053, 314, 315, 316, 317, 190, 192, 193, 1291, 1036, 334, 335, 1272, 803, 2006, 2007, 1290, 98, 444, 622, 445, 118, 119, 120, 1273, 639, 638, 405]))\n",
      "(34, Set([1187, 1188, 718, 719, 158, 157, 478, 479]), 1254, Set([10, 11, 12, 13, 14, 15, 2064, 2065, 2066, 2067, 2068, 27, 28, 29, 30, 31, 32, 33, 1883, 1884, 46, 47, 48, 49, 1074, 1075, 52, 65, 66, 1091, 1092, 1093, 1094, 1095, 1614, 1615, 1616, 1617, 2063, 1631, 1633, 1634, 1635, 100, 102, 103, 117, 119, 120, 121, 122, 123, 643, 644, 658, 660, 661, 662, 663, 155, 156, 157, 173, 174, 175, 176, 177, 193, 209, 210, 211, 212, 1325, 1072, 1073, 1324, 50, 1326, 1076, 318, 319, 1344, 1345, 838, 839, 840, 841, 1866, 1867, 334, 335, 336, 337, 338, 339, 856, 857, 858, 859, 860, 1342, 1343, 67, 1864, 1865, 478, 479, 480, 481, 2047]))\n",
      "(99, Set([1824, 1189, 1225, 1226, 1227, 1262, 1263, 1748, 1749, 1784, 793, 794, 795, 1711, 1823]), 100, Set([731, 360, 732, 1163, 1164, 1165, 1200, 1201, 1684, 1685, 696, 698, 699, 700, 733, 734]))\n",
      "(61, Set([1472, 353, 139, 967, 137, 138, 11, 12, 1648, 1649, 570, 571, 30, 1471]), 524, Set([2048, 2049, 2050, 2027, 2028, 2069, 791, 792, 1188, 1577, 1579, 2046, 1224, 1595, 1596, 1095, 1096, 1097, 1098, 1612, 1615, 1616, 1617, 1618, 1619, 2005, 2007, 2008, 2009, 2010, 1635, 1636, 1637, 1638, 2025, 1258, 1259, 1260, 2029, 2030, 2045, 1781, 2043, 2044, 2026, 1223, 2047]))\n",
      "(18, Set([1578, 2007, 2006, 1558, 1599]), 34, Set([645, 107, 108, 90, 1596, 2045, 2046]))\n",
      "(118, Set([361, 362, 685, 145, 722, 343, 344, 1117, 127]), 614, Set([1408, 1409, 1410, 901, 902, 903, 904, 905, 524, 1423, 1424, 919, 920, 922, 543, 937, 1355, 1356, 1357, 1358, 1359, 1369, 1370, 1371, 1372, 1373, 1374, 1375, 1376, 1893, 1894, 1895, 1896, 1897, 1387, 1388, 1389, 1390, 1391, 1392, 1393, 883, 884, 885, 886, 1911, 1912, 1913, 1405, 1406, 1407]))\n",
      "(145, Set([1857, 1858, 1859, 1380, 1381, 1907, 877, 1360, 1361, 1362, 1363, 1908, 1877, 1878, 1880, 1881, 1875, 1883, 1884, 1906]), 1172, Set([6, 8, 528, 1910, 22, 23, 24, 25, 26, 41, 42, 43, 44, 349, 1911, 57, 58, 59, 60, 61, 62, 79, 1143, 1144, 1145, 133, 134, 136, 1178, 1179, 1180, 1700, 1701, 1702, 1703, 168, 169, 170, 199, 1736, 1213, 1739, 708, 709, 710, 711, 712, 1737, 1738, 203, 204, 205, 1912, 218, 219, 220, 221, 222, 223, 746, 747, 748, 237, 238, 239, 240, 241, 1370, 1371, 1372, 1373, 350, 351, 1892, 1893, 1894, 1388, 1389, 1390, 1391, 1392, 884, 885, 886, 887, 888, 1406, 1407, 385, 386, 387, 388, 902, 903, 904, 905, 907, 474, 490, 491, 492, 1704, 507, 508, 509, 510, 511]))\n",
      "(244, Set([1, 2, 398, 145, 146, 289, 290, 291, 38, 39, 434, 435, 308, 183, 578, 1225, 1226, 1227, 595, 596, 597, 91, 92, 992, 1513, 1514, 1515, 1009, 1010, 1011, 758, 1783, 1784, 1532, 1533, 1534]), 128, Set([640, 641, 1058, 2016, 2015, 1057, 170, 1580, 1581, 398, 399, 400, 148, 334, 23, 25, 1582, 2014, 757]))\n",
      "(409, Set([8, 9, 10, 11, 12, 1325, 1309, 2002, 1050, 1051, 1034, 1053, 1311, 1572, 1573, 1574, 296, 297, 298, 839, 45, 1326, 47, 48, 1032, 1033, 1849, 314, 315, 317, 64, 65, 481, 840, 841, 1847, 81, 82, 227, 2004, 2005, 2020, 1850, 479, 480, 97, 98, 99, 100, 101, 209, 619, 620, 621, 1052, 116, 117, 1308, 1327]), 42, Set([1217, 487, 40, 170, 748, 23, 56, 217, 218]))\n",
      "(29, Set([1513, 1514, 1515, 595, 1531, 1532, 1533]), 64, Set([195, 196, 648, 1290, 1291, 1292, 445, 18, 52, 446, 342, 824, 125, 126, 447]))\n",
      "(879, Set([1536, 1031, 1032, 1033, 1034, 1554, 1555, 1556, 22, 23, 24, 25, 1050, 1571, 1573, 616, 618, 619, 620, 621, 112, 113, 114, 115, 116, 634, 635, 636, 637, 638, 129, 130, 131, 132, 133, 148, 149, 150, 151, 167, 168, 169, 1194, 1225, 1227, 1228, 1229, 1230, 724, 725, 1750, 1751, 1752, 1753, 1783, 760, 1785, 1786, 1787, 1749, 726, 1748, 1157, 311, 312, 313, 329, 330, 331, 364, 365, 366, 367, 399, 400, 401, 402, 437, 759, 2004, 2006, 761, 762, 763, 1191, 1192, 1193]), 45, Set([1636, 1637, 1638, 2067, 2068, 2069, 2070]))\n",
      "(262, Set([1669, 1670, 1671, 1685, 1686, 1687, 1688, 1689, 1184, 1705, 1706, 1707, 1708, 1778, 1780, 1723, 1724, 1743, 1744, 1111, 1112, 1113, 1128, 1129, 1130, 1650, 1651, 1652, 1653, 1654, 1148, 1149]), 91, Set([1446, 1447, 1448, 1449, 1450, 1451, 1933, 1935, 1937, 1431, 1465, 1434]))\n",
      "(69, Set([1027, 1028, 1009, 1010, 595, 596, 597, 1012, 1011]), 115, Set([1041, 1042, 1043, 1044, 1565, 603, 1584, 1477, 1495, 1496, 1498, 1499, 1500, 996, 997, 998, 999, 1000, 1001, 1017, 1018, 1019, 1020, 1021, 1022]))\n",
      "(409, Set([1152, 1672, 1673, 138, 139, 140, 141, 1710, 30, 1186, 1187, 1188, 1707, 1708, 1709, 46, 47, 1674, 1376, 1356, 717, 1742, 1744, 209, 1746, 1372, 1373, 1374, 1375, 224, 225, 870, 1745, 1895, 492, 494, 495, 1392, 373, 888, 889, 890, 1149, 1150, 1151]), 63, Set([1153, 1639, 1640, 1641, 1675, 1711, 721, 1117]))\n",
      "(213, Set([992, 1984, 1028, 1029, 1478, 1479, 1983, 1963, 1964, 1549, 1550, 1965, 1009, 1010, 595, 1585, 1945, 1946, 1531, 1981, 1477]), 2123, Set([2053, 1030, 1031, 1032, 9, 12, 13, 14, 15, 16, 17, 1586, 1045, 1046, 1047, 1048, 1049, 1050, 1051, 1052, 1053, 1567, 32, 1569, 1570, 1571, 1572, 2054, 1064, 1065, 1066, 1067, 1068, 1069, 1070, 1585, 50, 1587, 1588, 53, 54, 1033, 1592, 67, 68, 69, 70, 71, 72, 85, 86, 87, 88, 90, 97, 100, 101, 102, 103, 104, 105, 618, 619, 620, 621, 622, 623, 1552, 114, 116, 117, 118, 119, 120, 121, 634, 635, 636, 637, 638, 639, 640, 641, 642, 1591, 1589, 1568, 214, 215, 216, 232, 233, 234, 249, 250, 252, 283, 284, 295, 297, 298, 299, 300, 301, 312, 313, 314, 315, 316, 317, 318, 319, 320, 1590, 330, 331, 332, 333, 334, 335, 1603, 1604, 1605, 1606, 2037, 1999, 2000, 2001, 2017, 2018, 2019, 2020, 2021, 2035, 2036, 501, 2038, 2039]))\n",
      "(102, Set([1675, 1676, 1677, 1678, 1713, 1714, 1101, 1102, 1103, 1104, 1105, 1641, 1642, 1643, 1644, 1645, 1140, 1658, 1659, 1660, 1662, 1663]), 274, Set([1152, 1186, 1187, 1188, 1222, 1223, 1672, 1673, 1674, 1707, 1708, 1709, 1710, 1743, 1744, 1745, 1746, 756, 1706, 1150, 1151]))\n",
      "(291, Set([773, 774, 1799, 267, 1241, 283, 284, 413, 286, 70, 809, 810, 285, 51, 52, 53, 1974, 1975, 1242, 572, 573, 1973, 448, 449, 450, 196, 197, 198, 86, 87, 88, 985, 986, 1508]), 447, Set([132, 1174, 1175, 1730, 1880, 1731, 1172, 149, 150, 151, 1176, 1732, 1694, 1695, 1696, 1697, 1698, 475, 348, 42, 43, 184, 187, 1341, 1729, 706, 707, 708, 709, 205, 1358, 1359, 1360, 1361, 1733, 854, 855, 856, 345, 347, 476, 367, 1136, 1137, 1138, 1140, 382, 1173]))\n",
      "(271, Set([1792, 1793, 1794, 1795, 1796, 1288, 1289, 1290, 1809, 1810, 1811, 1812, 1828, 1829, 1846, 1847, 1863, 1864, 1865, 1866, 1233, 1234, 1235, 1236, 1237, 1238, 1882, 1756, 1757, 1758, 1759, 1270, 1271, 1791]), 10, Set([1767, 1765, 1766, 775]))\n",
      "(247, Set([649, 271, 272, 273, 274, 1427, 1428, 543, 544, 289, 290, 291, 292, 1445, 1446, 939, 940, 941, 560, 561, 562, 307, 308, 309, 1462, 957, 325, 326, 1444, 92, 93, 1426, 631]), 252, Set([1024, 1025, 1026, 1545, 1546, 1547, 1548, 1563, 1564, 1565, 1581, 1980, 2048, 2013, 2015, 1512, 2029, 2030, 2031, 2032, 2033, 1527, 1528, 1529, 1530, 2047, 1023]))\n",
      "(44, Set([69, 1383, 232, 1257, 1258, 429, 430, 16, 663, 664]), 168, Set([1984, 1985, 1538, 1539, 1540, 1541, 1542, 1963, 1964, 1965, 1966, 1519, 1520, 1987, 1945, 1986, 1497, 1946, 1967, 1982, 1983]))\n",
      "(38, Set([2016, 1566, 2012, 2013, 2014, 2015]), 344, Set([642, 644, 645, 1324, 12, 13, 2069, 2070, 1321, 1322, 1323, 428, 175, 177, 1076, 1077, 1078, 1079, 1339, 319, 320, 321, 322, 1862, 1863, 208, 209, 338, 339, 854, 478, 336, 337, 1618, 119, 120, 121, 122, 123]))\n",
      "(153, Set([896, 1902, 1903, 1206, 827, 449, 450, 844, 845, 466, 467, 1764, 1242, 862, 482, 483, 484, 878, 879, 1904, 500, 501, 1398, 1399, 1400, 1919, 895]), 597, Set([384, 385, 898, 899, 900, 517, 518, 519, 8, 9, 10, 11, 12, 653, 654, 655, 914, 915, 916, 917, 918, 538, 416, 417, 418, 419, 420, 421, 166, 167, 168, 169, 170, 775, 777, 520, 521, 1208, 778, 897, 65, 66, 67, 776, 328, 329, 330, 331, 332, 82, 83, 84, 741, 1765, 651, 422, 742, 743, 779, 745, 234, 1771, 1419, 936, 114, 115, 116, 117, 246, 247, 248, 249, 1402, 1404, 382, 383]))\n",
      "(304, Set([1536, 1537, 1538, 2055, 2056, 2057, 2058, 2059, 1552, 1553, 1554, 1555, 1556, 1557, 1951, 1571, 1572, 1968, 1969, 1970, 1971, 1986, 1987, 1988, 2003, 2004, 2005, 1502, 2021, 2022, 2023, 1518, 1519, 1520, 1014, 1015, 1016, 1535]), 1069, Set([1408, 1999, 1927, 1928, 1929, 1930, 523, 1549, 1550, 271, 1424, 1425, 1426, 919, 920, 921, 922, 541, 542, 543, 937, 938, 939, 559, 560, 1459, 955, 956, 957, 958, 577, 578, 580, 1477, 2001, 973, 974, 975, 2000, 977, 978, 595, 596, 1495, 1496, 1497, 1423, 991, 992, 993, 2002, 1891, 1892, 1893, 1895, 1513, 1514, 1388, 1389, 1390, 1009, 1010, 1912, 1909, 1910, 1911, 1551, 1913, 1531, 1532, 1405, 1406, 1407]))\n",
      "(21, Set([691, 1284, 1230, 798, 799]), 36, Set([71, 1258, 1259, 1260, 179, 180, 790, 791, 792]))\n",
      "(159, Set([2020, 2021, 2022, 1607, 1608, 1609, 1610, 2059, 2060, 2061, 2000, 2001, 2002, 2003, 2004, 2040, 2041, 2042, 1627, 1628, 2058]), 202, Set([1154, 1155, 1803, 1676, 1677, 667, 668, 669, 670, 1693, 1804, 1191, 685, 686, 687, 688, 1228, 1227, 1100, 1101, 1805, 1117, 1118, 1119, 1120, 1263, 1264, 1265]))\n",
      "(17, Set([1921, 835, 873, 1902, 853, 854]), 1534, Set([25, 28, 29, 1128, 1115, 96, 613, 614, 615, 616, 1129, 1130, 1131, 1132, 1133, 110, 111, 112, 113, 114, 115, 116, 1726, 1655, 632, 633, 635, 133, 134, 135, 136, 137, 138, 139, 140, 1166, 1167, 1168, 1169, 1164, 1134, 152, 1689, 154, 1691, 1692, 164, 678, 167, 168, 169, 170, 171, 172, 1202, 1203, 1204, 1205, 1206, 695, 696, 697, 698, 699, 700, 701, 702, 1727, 1728, 713, 733, 734, 735, 736, 737, 738, 289, 290, 291, 307, 308, 309, 310, 311, 312, 327, 328, 329, 330, 331, 332, 350, 351, 352, 353, 354, 355, 356, 1170, 370, 371, 372, 373, 374, 386, 387, 388, 389, 390, 1688, 402, 1690, 166, 680, 681, 682]))\n",
      "(450, Set([1029, 1549, 1552, 1948, 1949, 1950, 1951, 1952, 1965, 1461, 1462, 1463, 1464, 1465, 1982, 578, 1479, 1480, 1481, 1482, 595, 597, 1495, 1496, 1497, 1498, 1499, 991, 992, 993, 994, 1513, 1514, 1515, 1516, 1009, 1010, 1011, 1012, 1531, 1532, 1533, 1534]), 25, Set([1568, 2017, 2018, 1549, 2000, 1009]))\n",
      "(441, Set([1195, 1159, 1160, 1161, 1162, 1163, 1164, 1165, 1166, 1684, 1685, 1686, 1687, 1688, 793, 794, 1690, 1192, 1193, 1194, 811, 1196, 1197, 1198, 1716, 695, 697, 1722, 1655, 1225, 1226, 1227, 1228, 1229, 1113, 1754, 1719, 1126, 1127, 1128, 1129, 1130, 1131, 1261, 1262, 1263, 1650, 1651, 1652, 1653, 1654, 759, 1279]), 30, Set([33, 2, 3, 4, 5, 6, 7]))\n",
      "(91, Set([640, 705, 418, 419, 420, 743, 1055, 1546, 1563, 1038, 623, 1561, 1562, 383, 1022, 639]), 478, Set([1600, 2051, 1601, 1773, 785, 2067, 1182, 1221, 1635, 1699, 1700, 1701, 1702, 2033, 1582, 1076, 1598, 1599, 1216, 1217, 1218, 1219, 1092, 1093, 1094, 1095, 1096, 1737, 1738, 1739, 1740, 1615, 1616, 1617, 1618, 1619, 1620, 1636, 2016, 1633, 1634, 1251, 1252, 1253, 1254, 1255, 1256, 749, 1774, 1775, 1776, 1777, 2034, 2049]))\n",
      "(30, Set([1856, 865, 1315, 937, 847, 883, 559, 541, 542]), 2757, Set([1199, 31, 1099, 1100, 1101, 1102, 1103, 1104, 1105, 1108, 1109, 1110, 1111, 1112, 1117, 1118, 1119, 1120, 1121, 1122, 1123, 1124, 1125, 1126, 1127, 1128, 1129, 1130, 1131, 1644, 1648, 1640, 1641, 1145, 1146, 1642, 1643, 134, 135, 136, 137, 138, 139, 140, 141, 142, 1167, 1683, 1686, 154, 155, 156, 157, 158, 159, 672, 673, 674, 675, 676, 677, 678, 679, 680, 681, 1196, 1197, 1182, 175, 1200, 1202, 691, 692, 693, 694, 695, 696, 697, 698, 699, 701, 1677, 710, 711, 712, 713, 714, 715, 716, 717, 718, 728, 729, 730, 731, 732, 733, 734, 735, 752, 769, 1159, 1676, 1161, 1162, 1163, 1164, 1165, 1166, 1679, 349, 350, 351, 352, 353, 354, 355, 356, 357, 358, 359, 366, 367, 368, 369, 370, 371, 372, 373, 374, 375, 376, 1639, 389, 390, 391, 392, 393, 394, 407, 408, 409, 410, 411, 426, 670, 671, 1183]))\n",
      "(146, Set([388, 389, 1801, 784, 401, 786, 1182, 423, 1216, 1217, 1218, 708, 712, 349, 350, 351, 746, 747, 748, 749, 367, 760, 761, 762]), 39, Set([1993, 1994, 1995, 1996, 1997, 1998]))\n",
      "(1320, Set([1536, 1537, 1538, 1539, 1540, 1541, 1542, 1543, 1032, 1033, 1034, 1035, 1036, 1552, 1553, 1554, 1555, 1556, 1557, 1558, 1559, 2021, 1571, 1573, 1574, 1575, 1960, 1500, 1962, 2007, 1976, 1987, 587, 1507, 2000, 2001, 1490, 979, 2004, 2005, 2006, 1961, 600, 602, 603, 604, 605, 2019, 2002, 995, 1508, 997, 998, 999, 1000, 1001, 1517, 1518, 1519, 1520, 1521, 1522, 1523, 1013, 1014, 1015, 1016, 1017, 1018, 1019, 1020, 2003, 1535]), 28, Set([2056, 45, 654, 655, 46, 1849, 461]))\n",
      "(432, Set([128, 129, 2, 3, 133, 130, 271, 272, 273, 131, 22, 1175, 1663, 541, 416, 417, 418, 419, 165, 166, 167, 168, 937, 559, 561, 381, 1662, 705, 706, 707, 708, 1105, 92, 741, 744, 1660, 110, 111, 1139, 1140, 382, 634, 379, 380, 253, 254, 383]), 646, Set([1280, 1281, 1282, 1283, 1801, 1802, 1803, 1804, 1805, 1806, 1807, 1808, 1297, 1298, 1299, 1300, 1301, 794, 1819, 1820, 1821, 1822, 1823, 1824, 1316, 812, 1837, 1838, 1839, 1840, 1841, 1809, 1810, 1262, 1263, 1266, 1267, 1812, 1279]))\n",
      "(216, Set([1028, 1029, 1030, 1047, 1048, 1605, 1066, 1607, 1459, 1587, 1589, 577, 578, 1477, 1606, 1479, 973, 974, 595, 596, 598, 1625, 1626, 1627, 991, 992, 993, 614, 615]), 23, Set([1792, 1793, 1829, 1830, 1811, 1812]))\n",
      "(42, Set([771, 11, 12, 48, 49, 1763, 280, 1501, 1502]), 208, Set([1027, 1028, 1045, 1046, 1047, 1063, 1064, 1065, 1066, 1585, 1586, 1587, 1082, 1083, 1084, 1605, 1606, 1607, 1624, 1625, 1626, 613, 2036, 632]))\n",
      "(17, Set([327, 328, 1068, 1610, 652, 20, 1609]), 3912, Set([1964, 523, 524, 525, 526, 527, 528, 529, 1966, 541, 542, 543, 544, 545, 546, 547, 548, 549, 559, 560, 561, 562, 563, 564, 565, 566, 567, 578, 579, 580, 581, 582, 583, 584, 76, 77, 78, 1947, 1948, 1949, 237, 1945, 253, 254, 255, 256, 257, 258, 259, 260, 1946, 272, 273, 274, 275, 276, 277, 292, 1389, 1911, 1407, 1408, 1409, 902, 903, 904, 1929, 1423, 1424, 1425, 1426, 1427, 1429, 919, 920, 921, 922, 923, 924, 925, 1950, 1951, 1441, 1442, 1443, 1444, 1445, 1446, 1447, 937, 938, 939, 940, 941, 942, 943, 944, 1459, 1460, 1461, 1462, 1463, 1464, 1465, 1466, 955, 956, 957, 958, 959, 960, 961, 962, 963, 1477, 1478, 1479, 1480, 1481, 1482, 1483, 1484, 973, 974, 975, 976, 977, 978, 979, 980, 1496, 1497, 1498, 1499, 1500, 991, 993, 997]))\n",
      "(825, Set([1152, 1672, 1673, 1674, 1169, 2066, 2067, 1691, 1692, 1185, 1186, 1187, 1188, 681, 683, 684, 1709, 1710, 1779, 1708, 1780, 1727, 1221, 1222, 1223, 1224, 716, 717, 718, 719, 720, 1746, 1114, 1115, 1116, 1744, 1634, 1635, 1636, 1257, 1258, 1259, 1260, 1133, 1134, 753, 754, 755, 756, 1781, 1655, 1656, 1149, 1150, 1151]), 6532, Set([1707, 516, 517, 518, 519, 520, 521, 11, 13, 14, 15, 16, 31, 32, 33, 34, 35, 36, 48, 49, 50, 51, 52, 53, 54, 1746, 1400, 67, 68, 69, 70, 71, 72, 1378, 1379, 86, 87, 1112, 1113, 1114, 1115, 1381, 1708, 1382, 1383, 1384, 121, 1147, 1148, 1149, 1150, 1151, 1152, 1899, 1672, 1673, 1674, 139, 140, 141, 142, 143, 144, 1902, 1903, 157, 158, 159, 160, 161, 162, 1187, 1188, 1222, 680, 681, 682, 683, 684, 1709, 1710, 175, 176, 177, 178, 179, 180, 1908, 1745, 699, 700, 701, 702, 192, 194, 195, 196, 1398, 198, 1223, 1224, 1399, 716, 717, 718, 719, 720, 209, 210, 211, 212, 213, 214, 215, 216, 1743, 1402, 1744, 227, 228, 229, 230, 231, 232, 233, 234, 749, 752, 753, 754, 755, 756, 245, 246, 247, 248, 249, 250, 1919, 1920, 1918, 1901, 267, 791, 792, 1186, 1329, 842, 1361, 1362, 1363, 1364, 1365, 1366, 859, 860, 1921, 1904, 354, 355, 356, 357, 358, 359, 360, 874, 875, 876, 877, 878, 879, 880, 1905, 1906, 1395, 1396, 1397, 374, 375, 376, 377, 378, 1403, 892, 893, 894, 895, 896, 897, 898, 1923, 388, 392, 393, 394, 395, 396, 1937, 914, 915, 412, 430, 431, 1907, 1184, 1185, 461, 464, 465, 466, 467, 1401, 480, 481, 482, 483, 484, 485, 486, 1380, 497, 498, 499, 500, 501, 502, 503, 1900]))\n",
      "(222, Set([897, 898, 899, 1421, 1422, 916, 917, 918, 936, 1849, 1344, 1345, 1346, 1347, 1348, 1866, 1867, 1868, 1869, 878, 879, 880, 1403, 1404]), 6655, Set([1707, 1739, 1088, 1092, 1093, 1108, 1109, 1111, 1112, 1626, 1627, 1629, 1630, 1631, 1632, 1633, 1634, 1777, 1138, 1139, 1140, 1141, 1142, 1143, 1144, 1145, 1146, 1147, 1148, 1149, 1662, 1663, 1664, 1665, 1666, 1667, 1668, 1669, 1670, 1671, 1672, 1174, 1175, 1176, 1177, 1178, 1179, 1180, 1181, 1182, 1183, 1184, 1185, 1186, 1699, 1700, 677, 1702, 1703, 680, 1705, 1706, 711, 1708, 1709, 1736, 1737, 1210, 1211, 1212, 1213, 1214, 1215, 1216, 1217, 1218, 1219, 1220, 1221, 710, 1223, 712, 713, 714, 715, 1740, 1741, 718, 1743, 1744, 1745, 1742, 1247, 1248, 1249, 1250, 1251, 1252, 1253, 1254, 1255, 744, 745, 746, 747, 748, 749, 750, 751, 752, 753, 1778, 1779, 1780, 1781, 1782, 781, 782, 783, 784, 785, 786, 787, 788, 789, 791, 1732, 1733, 1222, 1767, 1768, 1734, 1256, 1257, 1258, 1771, 662, 1772, 1769, 1735, 1773, 1774, 1775, 1776, 423, 1770, 1695, 1696, 1697, 1698, 1661, 1701, 1738, 1704]))\n",
      "(181, Set([1440, 1888, 1890, 1926, 1889, 1385, 1386, 1943, 1458, 1456, 1457, 882, 1907, 1908, 1367, 1368, 1944, 1404, 1439]), 67, Set([1537, 1538, 1030, 615, 1032, 650, 1031, 1554, 1555, 1049, 633, 1535, 636, 415]))\n",
      "(40, Set([1600, 2064, 1059, 2063, 1582, 1583, 1616, 1043, 1615, 1599]), 184, Set([1664, 1665, 1666, 1667, 1700, 1701, 1683, 1735, 1736, 1699, 1702, 1648, 1649, 1106, 1107, 1108, 1109, 1143, 1144, 1145, 1685]))\n",
      "(42, Set([1568, 1569, 1570, 2005, 2006, 2007, 2008, 1567]), 3016, Set([16, 17, 18, 533, 534, 535, 536, 537, 538, 36, 549, 550, 551, 552, 553, 554, 555, 556, 557, 54, 568, 569, 570, 571, 572, 573, 574, 575, 576, 70, 72, 1463, 592, 1464, 594, 85, 86, 87, 88, 89, 90, 104, 105, 106, 107, 108, 124, 125, 126, 1454, 180, 249, 250, 251, 252, 264, 265, 266, 267, 268, 269, 270, 282, 283, 284, 285, 286, 287, 288, 1953, 304, 305, 306, 322, 324, 1444, 1932, 1933, 1934, 1430, 1431, 1432, 1433, 1434, 1435, 1950, 927, 928, 929, 930, 931, 932, 933, 1446, 1447, 1448, 1449, 1450, 1451, 1452, 1453, 942, 944, 945, 946, 947, 948, 949, 950, 951, 952, 1465, 1466, 1467, 1468, 1469, 1470, 1471, 1952, 962, 963, 964, 965, 966, 967, 968, 969, 970, 971, 1484, 1486, 1488, 1489, 1490, 985, 986, 1445]))\n",
      "(3220, Set([1111, 12, 13, 535, 1126, 30, 31, 32, 1723, 551, 552, 553, 554, 555, 568, 569, 570, 571, 572, 573, 574, 575, 1974, 586, 587, 588, 589, 590, 591, 592, 593, 1107, 1108, 85, 1110, 87, 1112, 1113, 1722, 1125, 1123, 1124, 101, 102, 103, 104, 105, 1130, 1127, 1646, 1647, 1648, 1128, 1650, 1651, 1652, 1146, 1129, 1144, 1145, 122, 1147, 1131, 136, 137, 138, 139, 140, 1165, 1166, 1167, 1682, 1683, 1684, 1685, 1686, 1687, 1689, 156, 157, 673, 674, 675, 676, 677, 678, 679, 680, 681, 1199, 692, 693, 694, 695, 696, 697, 698, 699, 701, 1653, 712, 713, 714, 718, 729, 730, 731, 732, 733, 734, 735, 736, 752, 1720, 263, 264, 265, 266, 267, 281, 282, 283, 284, 285, 286, 301, 303, 1161, 1162, 1163, 1164, 1649, 350, 351, 352, 353, 354, 355, 356, 357, 368, 369, 370, 372, 373, 375, 405, 1956, 1957, 1958, 1959, 948, 949, 950, 951, 952, 1470, 1471, 1472, 1474, 963, 964, 965, 966, 967, 968, 969, 970, 971, 1487, 1488, 1489, 1490, 1491, 982, 983, 984, 985, 986, 987, 988, 990, 1505, 1506, 1507, 1508, 1001, 1002, 1003, 1004, 1005, 1007, 1109]), 494, Set([320, 643, 644, 1878, 646, 321, 12, 13, 1877, 1041, 835, 664, 1859, 1059, 1060, 1061, 1318, 1319, 1320, 1321, 1322, 647, 2034, 302, 303, 304, 1842, 1601, 1079, 1600, 1337, 1338, 1339, 1340, 318, 319, 64, 65, 322, 323, 1860, 1861, 1602, 207, 872, 339, 852, 341, 854, 851, 476, 477, 225, 226, 227, 101, 102, 103, 104, 105, 106, 871, 625, 626, 627, 628, 630, 873, 122, 1858, 853]))\n",
      "(562, Set([1156, 1157, 1158, 1159, 1160, 1751, 1752, 1750, 1753, 1191, 1192, 1193, 1194, 1195, 1196, 1197, 1198, 1714, 1715, 1716, 1717, 1719, 1229, 1230, 1231, 1232, 1233, 1234, 724, 725, 726, 727, 728, 729, 1754, 1755, 760, 761, 762, 763, 1789]), 14, Set([1672, 1707, 1708, 1743]))\n",
      "(62, Set([481, 1508, 230, 266, 267, 1812, 1813, 1815, 248, 986, 987, 572]), 39, Set([1716, 1269, 1753, 1754, 1789, 1790, 1791]))\n",
      "(40, Set([1920, 1921, 1922, 934, 971, 556, 558, 952, 953]), 20, Set([544, 1408, 922, 2003, 1912]))\n",
      "(205, Set([901, 902, 903, 904, 905, 906, 523, 524, 525, 920, 921, 922, 1366, 1367, 1368, 1379, 1380, 1381, 1382, 1383, 1395, 1396, 1406]), 652, Set([1822, 1823, 1315, 1316, 1317, 1318, 1319, 1320, 1837, 1838, 1839, 1840, 1841, 1842, 1843, 1844, 1333, 1334, 1335, 1336, 1845, 1856, 1857, 1858, 1859, 1860, 1861, 1351, 1352, 1353, 847, 848, 1873, 1874, 1875, 1877, 865, 866, 867, 1855]))\n",
      "(757, Set([1537, 1538, 1027, 1028, 1029, 1552, 1553, 1567, 1521, 1960, 1961, 1962, 1991, 1522, 1968, 1979, 1523, 1972, 1502, 1974, 1975, 1976, 1977, 1978, 1503, 1971, 1973, 1984, 1504, 1986, 1988, 1989, 1990, 1505, 1992, 1506, 595, 596, 597, 598, 599, 600, 1499, 1500, 1501, 979, 991, 992, 993, 994, 995, 996, 997, 998, 999, 1959, 1516, 1517, 1518, 1519, 1520, 1009, 1010, 1011, 1012, 1013, 1014, 1015, 1016]), 789, Set([13, 30, 31, 32, 33, 47, 49, 1094, 1095, 1635, 839, 138, 139, 140, 141, 662, 663, 156, 157, 158, 174, 175, 176, 177, 192, 193, 213, 228, 1256, 1257, 787, 788, 789, 790, 1306, 1307, 1308, 1309, 1824, 1827, 1831, 1324, 1325, 1326, 820, 821, 822, 823, 824, 1844, 1340, 1341, 1845, 1860, 1846, 838, 1863, 840, 1865, 842, 843, 1848, 338, 339, 1880, 1882, 1883, 1885, 1847, 391, 392, 393, 1862, 426, 427, 428, 429, 430, 1864, 841, 443, 444, 1866, 446, 1867, 460, 461, 462, 463, 464, 465]))\n",
      "(30, Set([288, 576, 1474, 970, 971, 575]), 430, Set([642, 643, 644, 645, 786, 19, 660, 661, 662, 663, 664, 665, 666, 419, 164, 163, 166, 167, 168, 169, 427, 428, 429, 1075, 1076, 1080, 1093, 329, 330, 331, 332, 333, 334, 336, 338, 339, 787, 165, 422, 421, 423, 626, 115, 788]))\n",
      "(265, Set([1959, 1960, 1961, 1962, 1452, 1453, 1454, 1455, 1457, 951, 952, 1979, 1980, 1473, 1474, 1475, 1476, 1492, 1493, 1494, 990, 1511, 1512]), 75, Set([64, 571, 1718, 967, 11, 12, 13, 46, 47, 48, 1197, 1490, 1491, 84, 406, 282, 283, 572, 573]))\n",
      "(20, Set([1801, 1874, 1819, 1873]), 6090, Set([1032, 1033, 1034, 1035, 1036, 1037, 1038, 1039, 1624, 1558, 1625, 1048, 1050, 1051, 1052, 1053, 1054, 1055, 1056, 1057, 1571, 1573, 1574, 1575, 1576, 1065, 1066, 1067, 1068, 1069, 1070, 1071, 1072, 1073, 1074, 1630, 1590, 1591, 1592, 1593, 1594, 1083, 1084, 1085, 1086, 1087, 1088, 1089, 1090, 1091, 1607, 1608, 585, 1610, 1611, 588, 1614, 600, 601, 602, 603, 604, 605, 606, 607, 100, 618, 619, 620, 621, 622, 623, 624, 625, 1138, 115, 116, 118, 635, 636, 637, 638, 639, 640, 641, 642, 643, 644, 1729, 652, 653, 654, 655, 656, 657, 658, 659, 660, 1173, 1174, 1175, 1176, 1732, 1178, 1180, 1693, 1694, 1695, 1696, 1697, 1698, 1699, 1700, 1701, 171, 173, 1209, 1210, 1211, 1212, 1213, 1214, 1215, 1216, 1217, 1730, 1731, 1626, 1733, 1734, 1735, 1736, 1737, 1627, 1244, 1245, 1246, 1247, 1248, 1249, 1250, 1251, 1252, 1253, 742, 743, 744, 745, 746, 747, 1772, 1773, 1774, 1577, 1578, 1628, 1579, 777, 778, 779, 780, 781, 782, 783, 784, 786, 1629, 295, 296, 297, 298, 299, 300, 311, 312, 313, 314, 315, 316, 317, 318, 328, 330, 331, 332, 333, 334, 335, 336, 337, 1595, 1766, 1596, 1767, 1768, 1769, 1770, 1771, 415, 419, 420, 421, 422, 423, 424, 1609, 1000, 2026, 1015, 1017, 1018, 1019, 1020]))\n",
      "(267, Set([1549, 1550, 1567, 1568, 1569, 1063, 1585, 1586, 1587, 1207, 1081, 1082, 1603, 1604, 1999, 2000, 1621, 1622, 2017, 2018, 2019, 1765, 1766, 2036, 2037]), 518, Set([1680, 1031, 651, 652, 653, 654, 1679, 1552, 1555, 1048, 1049, 1050, 669, 670, 671, 672, 418, 419, 420, 1573, 1066, 1068, 1570, 1588, 1589, 1590, 1677, 705, 706, 707, 709, 329, 330, 1101, 1102, 1103, 1104, 1106, 1571, 2004, 1678, 1572, 347, 1676, 1119, 1120, 1121, 1122, 743, 744, 1641, 1642, 1643, 1644, 2002, 1640, 2003, 382, 383]))\n",
      "(50, Set([1819, 1820, 1837, 1838]), 970, Set([1771, 1772, 1769, 1730, 1773, 1731, 791, 1732, 1183, 1185, 1186, 1699, 1777, 1735, 1736, 1208, 1212, 1213, 1215, 1217, 1218, 1219, 1220, 1221, 1222, 1223, 1224, 1737, 1738, 1767, 1740, 1741, 1742, 1743, 1744, 1745, 1733, 1635, 1765, 1248, 1251, 1253, 1254, 1255, 1256, 1257, 1770, 1259, 1260, 1746, 1774, 1775, 1776, 1768, 1778, 1779, 1780, 1781, 1782, 1766]))\n",
      "(876, Set([768, 448, 770, 771, 772, 773, 449, 1801, 1802, 1803, 1292, 1282, 1806, 1283, 1275, 409, 411, 796, 1309, 798, 1285, 801, 802, 803, 804, 805, 806, 807, 808, 809, 1287, 769, 1263, 818, 819, 820, 821, 822, 823, 824, 825, 826, 443, 444, 445, 446, 447, 192, 193, 194, 195, 196, 197, 1284, 842, 460, 461, 462, 463, 464, 465, 466, 211, 1238, 1267, 480, 1823, 827, 828, 1805, 189, 1265, 1266, 467, 190, 1273, 1274, 191, 1310]), 77, Set([1955, 1956, 1998, 1975, 1996, 1997, 1995, 1525, 1526, 1527, 1528, 1529, 1530, 1979]))\n",
      "(243, Set([1024, 1025, 1026, 1546, 1547, 1548, 1042, 1043, 1044, 1563, 1564, 1565, 1566, 594, 2012, 2014, 2015, 611, 612, 1007, 1008, 1023]), 546, Set([1771, 648, 783, 785, 788, 661, 662, 663, 664, 665, 666, 1075, 1076, 1077, 1078, 1079, 1080, 1630, 1088, 1089, 1090, 1091, 1092, 1093, 1094, 1095, 1096, 1097, 1613, 1614, 1615, 1624, 1625, 1626, 1627, 1628, 1629, 1246, 1631, 1248, 1249, 1250, 1251, 1252, 1253, 1254, 1255, 1256, 1257, 1770, 1767, 1772, 1633, 1632]))\n",
      "(133, Set([1895, 1896, 1897, 1354, 1932, 1933, 1934, 1935, 1936, 1937, 1914, 1915, 1916, 1917]), 172, Set([773, 774, 1800, 807, 808, 809, 810, 1327, 1328, 1329, 1205, 1206, 824, 826, 827, 448, 449, 450, 1240, 1242, 1883, 1884, 738, 1764]))\n",
      "(175, Set([647, 648, 665, 1437, 1438, 287, 288, 1062, 556, 557, 432, 305, 306, 951, 1080, 953, 1439, 575, 576, 323, 324, 594, 341, 342, 108, 630]), 60, Set([98, 228, 1382, 1384, 1385, 1066, 879, 881, 82, 1366, 1367, 313, 635, 636]))\n",
      "(106, Set([1537, 1538, 1539, 1950, 1949, 1968, 1519, 1520, 1521, 1555, 1556, 1557, 1558, 2007, 2008, 1501, 1502, 1951]), 544, Set([512, 513, 260, 261, 262, 263, 264, 906, 2015, 1581, 1040, 1041, 530, 531, 532, 279, 280, 281, 282, 283, 1564, 1562, 1583, 1563, 1023, 299, 301, 1582, 1565, 1374, 569, 570, 1375, 1042, 1355, 1352, 1353, 1354, 587, 588, 1874, 82, 1875, 1371, 1372, 1373, 606, 607, 608, 1043, 868, 869, 870, 2014, 493, 242, 243, 244, 1022, 888, 889, 890, 891, 510, 511]))\n",
      "(29, Set([1858, 1316, 1861, 1862, 1837, 1838, 1839, 1860, 1819, 1820]), 417, Set([640, 775, 649, 650, 651, 652, 269, 654, 15, 284, 285, 286, 287, 288, 1065, 301, 302, 303, 304, 305, 306, 1081, 314, 315, 316, 317, 318, 329, 330, 331, 332, 333, 653, 86, 90, 1082, 1083, 104, 105, 106, 631, 635, 636, 637, 638]))\n",
      "(144, Set([848, 2, 163, 1875, 37, 199, 200, 201, 487, 847, 775, 1334, 1874, 19, 469, 470, 1335, 217, 218, 1333, 415]), 346, Set([1545, 1546, 1562, 1563, 1564, 1565, 1057, 1058, 1059, 1579, 1580, 1581, 1582, 1073, 1074, 1075, 1076, 1597, 1598, 1599, 1600, 1218, 1091, 1092, 1093, 1738, 1739, 1740, 1615, 1616, 1617, 1632, 1252, 1253, 1254, 1255, 1256, 1775, 1776]))\n",
      "(125, Set([896, 481, 770, 1397, 1201, 1921, 1165, 1166, 893, 913, 914, 499, 500, 446, 1398, 1399, 1400, 1922, 733, 734, 895]), 1549, Set([1060, 1061, 1062, 1078, 1079, 1080, 570, 571, 572, 573, 574, 575, 1097, 1098, 589, 590, 591, 592, 593, 594, 607, 608, 609, 610, 611, 612, 105, 106, 107, 626, 627, 628, 629, 630, 645, 646, 647, 648, 664, 665, 666, 1224, 1260, 1782, 792, 284, 285, 286, 287, 301, 302, 303, 304, 305, 306, 321, 322, 323, 324, 338, 340, 341, 342, 1955, 1956, 1451, 1452, 1453, 431, 432, 948, 949, 951, 1468, 1469, 1470, 1471, 1472, 1473, 1474, 966, 967, 968, 969, 1488, 1489, 1490, 1491, 984, 985, 986, 987, 988, 1507, 1508, 1509, 1004, 1005, 1006]))\n",
      "(617, Set([130, 1963, 705, 1495, 706, 20, 1945, 1946, 1947, 1948, 669, 289, 290, 163, 164, 165, 166, 1479, 1964, 1965, 1966, 1949, 1968, 1459, 308, 1461, 1462, 1460, 1981, 1982, 703, 704, 577, 578, 707, 1477, 1478, 327, 1967, 1100, 973, 974, 1101, 291, 1102, 343, 344, 345, 346, 91, 92, 991, 1641, 109, 110, 111, 1983, 380, 381, 382]), 1420, Set([1878, 7, 8, 9, 1879, 24, 25, 26, 27, 28, 42, 43, 44, 45, 46, 62, 63, 64, 116, 1897, 1899, 655, 152, 168, 169, 170, 171, 172, 1213, 1214, 1215, 205, 206, 207, 208, 223, 1248, 1249, 1250, 1251, 745, 746, 747, 1772, 1773, 1774, 781, 782, 783, 1338, 1339, 1340, 1341, 1342, 1343, 224, 225, 1355, 1356, 1357, 1358, 1359, 1360, 1361, 1362, 1363, 853, 854, 855, 1880, 1881, 1882, 1883, 1372, 1374, 1375, 1376, 1377, 1378, 1379, 870, 871, 872, 873, 874, 875, 1394, 889, 891, 892, 386, 1771, 421, 422, 423, 476, 477, 493, 494, 495, 496, 1877]))\n",
      "(82, Set([738, 1190, 1191, 1192, 1193, 1195, 1197, 1198, 1199, 1200, 1201, 1202, 1204, 1206, 1711, 732, 733]), 10114, Set([7, 8, 9, 10, 11, 12, 13, 14, 15, 16, 26, 27, 28, 29, 30, 31, 32, 33, 34, 43, 44, 45, 46, 47, 48, 49, 50, 51, 52, 53, 60, 61, 62, 63, 64, 65, 66, 67, 68, 69, 70, 71, 72, 79, 80, 81, 82, 83, 84, 85, 86, 87, 88, 89, 90, 99, 100, 101, 102, 103, 104, 105, 106, 117, 118, 119, 120, 121, 122, 136, 151, 152, 153, 155, 156, 157, 158, 159, 188, 189, 190, 191, 192, 193, 194, 195, 196, 197, 205, 206, 207, 208, 209, 210, 211, 212, 213, 214, 215, 216, 223, 224, 225, 226, 227, 228, 229, 230, 231, 232, 233, 234, 238, 241, 242, 243, 244, 245, 246, 247, 248, 249, 250, 251, 252, 259, 260, 261, 262, 263, 264, 265, 266, 267, 268, 269, 278, 279, 280, 281, 282, 283, 284, 285, 286, 299, 301, 406, 407, 408, 441, 442, 443, 444, 457, 459, 460, 461, 462, 463, 464, 465, 466, 467, 475, 476, 477, 478, 479, 480, 481, 482, 483, 484, 485, 494, 495, 496, 497, 498, 499, 500, 501, 502, 512, 513, 514, 515, 516, 517, 518, 519, 520, 521, 530, 531, 532, 533, 534, 535, 536, 537, 538, 539, 548, 549, 550, 551, 552, 553, 554, 555, 556, 557, 558, 568, 569, 570, 571, 572, 573, 574, 575, 588, 763, 764, 765, 766, 767, 768, 801, 802, 804, 837, 839, 840, 841, 842, 843, 855, 856, 858, 859, 861, 876, 878, 879, 891, 892, 893, 894, 895, 896, 897, 898, 909, 911, 912, 913, 914, 915, 926, 929, 930, 931, 932, 933, 934, 948, 949, 950, 951, 952, 953, 954, 966, 967, 968, 969, 970, 986, 1195, 1196, 1197, 1198, 1199, 1200, 1230, 1231, 1232, 1233, 1234, 1235, 1397, 1418, 1436, 1438, 1439, 1440, 1451, 1452, 1453, 1454, 1455, 1456, 1457, 1458, 1469, 1470, 1471, 1472, 1473, 1474, 1475, 1476, 1488, 1489, 1490, 1491, 1492, 1493, 1715, 1716, 1717, 1718, 1719, 1720, 1721, 1722, 1752, 1753, 1754, 1755, 1756, 1757, 1758, 1788, 1789, 1790, 1791, 1792, 1793, 1956, 1957, 1958, 1959, 1960, 1961, 1962, 1976]))\n",
      "(336, Set([1411, 1412, 1413, 906, 907, 908, 909, 529, 530, 531, 1556, 1557, 925, 926, 547, 548, 549, 566, 583, 584, 585, 979, 2006, 1017, 1376, 998, 999, 1000, 1897, 1898, 1899, 1392, 1393, 1394, 1395, 2007, 1015, 1016, 889, 890]), 981, Set([2006, 2054, 2055, 1045, 1046, 1047, 1567, 1568, 1569, 1571, 1063, 1064, 1065, 1585, 1586, 1587, 1588, 1589, 1081, 1603, 1604, 1605, 1606, 1607, 1999, 2000, 2001, 2003, 2004, 1621, 1622, 2007, 2008, 2009, 2010, 2053, 2017, 2018, 2019, 2020, 2021, 2022, 2023, 2024, 2025, 2026, 2027, 2028, 2035, 2036, 2037, 2038, 2039, 2040, 2041, 2042, 2043, 2045, 2005]))\n",
      "(51, Set([2016, 1026, 1545, 1546, 1547, 1548, 1565, 1566]), 158, Set([1280, 1281, 1856, 1801, 1802, 1803, 1261, 1838, 1837, 1297, 1298, 1299, 1876, 1875, 1819, 1820, 1821, 1822, 1279]))\n",
      "(139, Set([485, 486, 1512, 1980, 1998, 971, 972, 845, 270, 467, 468, 846, 1494, 1979, 252, 861, 1493]), 3639, Set([1711, 1712, 1713, 1099, 1100, 1101, 1102, 1103, 1104, 1105, 1106, 1107, 1108, 1109, 1111, 1117, 1118, 1119, 1120, 1121, 1122, 1123, 1124, 1125, 1126, 1639, 1640, 1641, 1642, 1643, 1644, 1645, 1646, 1647, 1648, 1649, 1650, 1651, 1652, 1657, 1658, 1659, 1660, 1661, 1662, 1663, 1664, 1153, 1154, 1155, 1156, 1157, 1158, 1671, 1675, 1676, 1677, 1678, 1679, 1680, 1681, 1682, 1683, 667, 668, 669, 670, 671, 672, 1136, 1189, 1190, 1191, 685, 686, 687, 688, 689, 1714, 1139, 704, 721, 722, 723, 724, 1747, 1665, 1667, 1669, 1135, 343, 344, 1137, 361, 1138]))\n",
      "(111, Set([2018, 2020, 2021, 1286, 1287, 636, 1067, 818, 1809, 114, 819, 1588, 1589, 1590, 439, 440, 25, 635, 188, 2037]), 4996, Set([1024, 1025, 1026, 516, 517, 518, 519, 520, 521, 522, 17, 18, 1043, 1044, 533, 534, 535, 536, 537, 538, 539, 540, 1061, 1062, 554, 555, 556, 557, 558, 1584, 1347, 572, 573, 574, 575, 576, 70, 589, 590, 591, 592, 593, 594, 86, 87, 88, 89, 90, 609, 610, 611, 612, 1041, 104, 105, 106, 107, 108, 626, 627, 628, 629, 630, 122, 125, 126, 647, 648, 1900, 1901, 1902, 1903, 1904, 1905, 1922, 226, 228, 229, 230, 231, 232, 233, 234, 247, 248, 249, 250, 251, 252, 266, 267, 268, 269, 270, 1924, 284, 285, 286, 287, 288, 1415, 301, 302, 303, 304, 305, 306, 320, 321, 322, 323, 324, 1359, 1360, 1361, 1362, 1363, 1364, 1365, 1366, 1881, 1882, 1883, 1884, 1885, 1886, 1887, 1376, 1377, 1378, 1379, 1380, 1381, 1382, 1383, 1384, 1385, 874, 875, 876, 877, 878, 879, 880, 881, 1907, 1396, 1397, 1398, 1399, 1400, 1401, 1402, 1403, 893, 894, 895, 896, 897, 898, 899, 900, 1345, 1417, 1418, 1419, 1420, 1346, 911, 912, 913, 914, 915, 916, 917, 918, 1348, 932, 933, 934, 936, 1344, 949, 972, 986, 988, 989, 990, 2016, 1005, 1007, 1008, 497, 498, 499, 500, 501, 502, 503, 504, 1023]))\n",
      "(13, Set([2, 3, 372, 373, 153, 154]), 189, Set([1692, 1132, 684, 1133, 1134, 1688, 1652, 1653, 1654, 1655, 1656, 1115, 1116]))\n",
      "(156, Set([2053, 2054, 2055, 2056, 2057, 2058, 2059, 2060, 2035, 1625, 1626, 1627]), 80, Set([1472, 962, 963, 964, 965, 1474, 1486, 271, 944, 561, 562, 564, 1485, 1467, 1468, 1469, 1470, 1471]))\n",
      "(275, Set([2053, 13, 15, 657, 29, 31, 1067, 172, 173, 174, 175, 176, 53, 54, 318, 319, 1604, 1605, 1606, 333, 334, 335, 336, 337, 117, 118, 119, 120, 121, 122]), 7316, Set([518, 519, 520, 521, 522, 14, 15, 16, 17, 537, 538, 539, 540, 1850, 1797, 554, 555, 556, 557, 558, 50, 51, 52, 53, 54, 1289, 1239, 571, 572, 573, 574, 575, 576, 66, 67, 68, 69, 70, 71, 72, 1292, 590, 591, 592, 593, 594, 84, 85, 86, 87, 88, 89, 90, 1809, 104, 105, 106, 107, 1835, 1828, 1308, 1309, 1830, 1310, 1796, 1311, 1827, 192, 193, 194, 195, 196, 197, 198, 209, 210, 211, 212, 213, 214, 215, 216, 1241, 1829, 228, 229, 230, 231, 232, 233, 234, 1831, 1832, 1235, 246, 247, 248, 249, 250, 251, 252, 1277, 1278, 1237, 769, 1794, 1795, 772, 1238, 1288, 265, 266, 267, 268, 269, 270, 1295, 1296, 1240, 1811, 1812, 1813, 1814, 1815, 1816, 1817, 1818, 1307, 284, 285, 286, 287, 288, 1313, 1314, 803, 804, 805, 806, 807, 808, 809, 810, 1834, 1836, 1326, 303, 304, 305, 821, 822, 823, 824, 825, 826, 827, 828, 1272, 1492, 1345, 1328, 1347, 839, 840, 841, 842, 843, 844, 845, 846, 1848, 1290, 859, 860, 861, 862, 863, 1851, 878, 881, 1291, 1274, 896, 1294, 1833, 914, 1275, 411, 1271, 1329, 933, 1312, 1293, 953, 443, 444, 445, 446, 447, 448, 449, 450, 1476, 1270, 968, 969, 970, 971, 972, 461, 462, 463, 464, 465, 466, 467, 468, 1493, 1273, 986, 987, 988, 989, 990, 480, 481, 482, 483, 484, 485, 486, 1276, 1005, 1006, 1007, 1008, 498, 499, 500, 501, 502, 503, 504]))\n",
      "(64, Set([832, 452, 1319, 811, 850, 849, 434, 1337, 1316, 1338, 1339, 1879, 830, 831]), 1036, Set([2048, 2049, 1026, 2057, 2059, 2060, 2050, 2062, 2063, 2064, 1041, 1042, 1043, 1044, 1562, 1563, 1564, 1565, 1566, 2061, 1061, 2012, 2013, 2066, 1580, 1581, 1582, 1583, 1584, 1073, 2014, 1594, 1595, 1596, 1597, 1598, 1599, 1610, 1611, 1612, 1613, 1614, 1615, 1616, 1617, 1618, 1627, 1628, 1629, 1630, 1631, 2016, 1634, 2015, 2065, 2027, 2028, 2029, 2030, 2031, 2032, 2041, 2042, 2043, 2044, 2045, 2046, 2047]))\n",
      "(14, Set([1993, 1994, 1980, 1997, 1998]), 370, Set([1409, 922, 923, 544, 561, 1460, 955, 956, 957, 958, 578, 1477, 1478, 1479, 1480, 973, 974, 975, 976, 1498, 993, 1513, 1392, 1393, 1897]))\n",
      "(1064, Set([769, 770, 771, 772, 773, 774, 1722, 1163, 1164, 1165, 1166, 1167, 1168, 1169, 1170, 1236, 1687, 1688, 1689, 410, 411, 412, 413, 1691, 1200, 1201, 1202, 1203, 1204, 1205, 697, 826, 699, 700, 701, 1726, 1727, 448, 449, 450, 1724, 197, 198, 845, 1686, 467, 468, 1112, 1241, 732, 733, 734, 735, 736, 737, 738, 1723, 486, 1128, 1129, 1130, 1131, 1132, 1133, 1134, 1650, 1651, 1652, 1653, 1654, 375, 376, 377, 1690, 864]), 875, Set([1664, 1665, 1666, 1667, 1735, 1774, 1176, 1177, 1178, 1179, 1180, 1181, 1182, 1183, 1698, 1699, 1700, 1701, 1702, 1703, 1704, 1705, 1066, 1607, 1736, 1585, 1586, 1587, 1083, 1084, 1085, 1215, 1216, 1217, 1218, 1219, 1605, 1606, 711, 712, 1737, 1738, 1739, 1740, 1741, 2017, 1626, 1627, 1248, 1249, 2018, 748, 749, 750, 1775, 1734, 1142, 1143, 1144, 1145, 1663]))\n",
      "(1158, Set([515, 1882, 1883, 1884, 1107, 1108, 1109, 1110, 1127, 1128, 1665, 1666, 1667, 1668, 1903, 1904, 677, 694, 695, 696, 191, 192, 193, 211, 212, 731, 732, 1324, 1341, 1342, 1343, 1344, 1345, 1346, 1347, 1348, 839, 840, 1865, 1867, 1870, 1359, 1360, 1361, 1362, 1363, 1364, 1365, 1366, 858, 859, 860, 1885, 1886, 1887, 1378, 1379, 1380, 1381, 1382, 1383, 1384, 873, 874, 875, 876, 877, 878, 879, 880, 369, 370, 371, 372, 1399, 892, 893, 894, 895, 896, 404, 407, 408, 409, 841, 444, 461, 462, 463, 478, 479, 480, 481, 498, 500]), 93, Set([1956, 1957, 1958, 1959, 971, 1490, 1491, 1492, 1493, 989, 990]))\n",
      "(33, Set([1579, 1069, 1070, 1596, 1597, 1598, 1599]), 4117, Set([1024, 1025, 1026, 1539, 1540, 1541, 1542, 1537, 1544, 1545, 1546, 1035, 1036, 1037, 1038, 1039, 1040, 1041, 1042, 1043, 1556, 1557, 1558, 1559, 1560, 1561, 1562, 1563, 1564, 1565, 1055, 1056, 1057, 1059, 1577, 1578, 1543, 1580, 1581, 1582, 1583, 1536, 1538, 1547, 585, 586, 587, 588, 589, 590, 591, 592, 603, 604, 605, 606, 607, 608, 609, 610, 611, 612, 622, 624, 625, 626, 627, 629, 1995, 2013, 1579, 2006, 300, 302, 303, 998, 1511, 1004, 1005, 1518, 1007, 1548, 1520, 1967, 1975, 1976, 1978, 1982, 1983, 1985, 1986, 1987, 1988, 1989, 1990, 1991, 1992, 1993, 1994, 1527, 1996, 1488, 1528, 982, 1529, 984, 985, 986, 2011, 2012, 1530, 1502, 1504, 1505, 1506, 1507, 1508, 1509, 1510, 999, 1000, 1001, 1002, 1003, 1516, 1517, 1006, 1519, 1008, 1521, 1522, 1523, 1524, 1525, 1526, 1015, 1016, 1017, 1018, 1019, 1020, 1021, 1022, 1023]))\n",
      "(195, Set([704, 1729, 1730, 739, 740, 741, 38, 1767, 776, 1765, 1766, 1171, 1172, 1173, 1731, 1207, 1208, 1209, 1210, 1732, 127]), 391, Set([899, 900, 1926, 521, 522, 1905, 1906, 1349, 1350, 1366, 1367, 1368, 863, 864, 484, 486, 1383, 1384, 233, 234, 879, 881, 882, 1907, 1908, 502, 503, 504, 1403, 1404, 1386, 1385]))\n",
      "(949, Set([640, 641, 642, 643, 644, 645, 646, 1218, 1037, 1038, 1039, 1040, 785, 787, 660, 661, 662, 1775, 285, 1054, 1055, 1056, 1057, 1058, 1059, 1041, 1776, 1777, 1491, 297, 298, 299, 300, 301, 302, 303, 1074, 1075, 1076, 317, 318, 319, 320, 321, 322, 323, 324, 587, 589, 590, 336, 337, 338, 339, 986, 987, 604, 605, 607, 608, 1254, 103, 104, 1003, 1490, 622, 623, 624, 625, 626, 627, 628, 629, 1255, 1489]), 9267, Set([1707, 1739, 1708, 1640, 1698, 36, 692, 1741, 1098, 1099, 1100, 1101, 1102, 1103, 1104, 1105, 1106, 1107, 1108, 1109, 1110, 1111, 1112, 1113, 1114, 1115, 1116, 1118, 1119, 1120, 1121, 1122, 1123, 1124, 1125, 1126, 1127, 1128, 1129, 1130, 1131, 1132, 1133, 1134, 1647, 1136, 1137, 1138, 1139, 1140, 1141, 1142, 1143, 1144, 1145, 1146, 1147, 124, 1149, 1150, 1151, 1152, 1665, 1666, 1643, 1668, 1669, 1670, 1641, 1672, 1644, 138, 139, 140, 141, 142, 143, 144, 1681, 1682, 1171, 661, 662, 663, 664, 1689, 666, 1180, 669, 670, 671, 672, 161, 674, 675, 676, 677, 678, 679, 680, 681, 682, 683, 684, 1709, 1710, 175, 176, 177, 178, 179, 180, 694, 696, 697, 698, 699, 700, 701, 702, 1217, 1218, 1219, 1220, 1221, 710, 711, 712, 713, 714, 715, 716, 717, 718, 719, 720, 1745, 1181, 1742, 1657, 1746, 1743, 1658, 1678, 1661, 736, 1744, 1222, 1659, 1660, 1256, 1148, 746, 747, 1260, 749, 750, 751, 752, 753, 754, 755, 756, 1662, 1782, 1663, 1645, 1664, 1185, 785, 786, 787, 788, 789, 790, 791, 792, 1697, 1646, 1649, 1671, 1673, 1642, 1674, 339, 341, 342, 1699, 1648, 1679, 1639, 352, 353, 354, 355, 356, 357, 358, 359, 360, 1700, 372, 373, 374, 375, 376, 377, 378, 1257, 1258, 1223, 1259, 388, 389, 390, 391, 392, 393, 394, 395, 396, 1667, 1775, 1224, 424, 425, 426, 427, 428, 429, 430, 431, 432, 1182, 1694, 1780, 1183, 1781, 1184, 673, 1186, 1187, 1188, 1701, 1696, 1702, 1703, 1704, 1705, 1706]))\n",
      "(67, Set([1648, 1127, 1128, 681, 682, 1646, 1647, 720, 1109, 1110, 1111]), 3903, Set([1886, 1887, 864, 1889, 1890, 1107, 1108, 1109, 1110, 1111, 1112, 1113, 1382, 1126, 1127, 1128, 1129, 1130, 1131, 1647, 1649, 1650, 1651, 1144, 1145, 1146, 1147, 1665, 1666, 1667, 1668, 1669, 1161, 138, 1163, 1164, 1165, 1166, 1167, 154, 157, 158, 159, 675, 676, 677, 678, 679, 680, 681, 682, 683, 1906, 1199, 693, 694, 695, 696, 697, 698, 699, 700, 701, 192, 193, 194, 195, 196, 197, 714, 715, 716, 717, 210, 211, 212, 213, 214, 215, 730, 731, 732, 733, 734, 735, 230, 231, 232, 233, 1307, 1310, 1311, 1312, 1326, 1327, 1328, 1329, 1330, 1331, 1332, 824, 825, 826, 827, 1346, 1347, 1348, 1349, 1350, 840, 841, 842, 843, 844, 845, 846, 1364, 1365, 1366, 1367, 1368, 858, 859, 860, 861, 862, 863, 352, 353, 354, 355, 356, 357, 358, 1383, 1384, 1385, 1386, 878, 879, 880, 881, 882, 371, 372, 373, 374, 375, 1888, 407, 408, 409, 410, 411, 443, 444, 445, 446, 447, 448, 461, 462, 463, 464, 465, 466, 467, 468, 480, 481, 482, 483, 484, 485, 486, 1703, 498, 499, 500, 501, 502, 503, 504]))\n",
      "(48, Set([1888, 1926, 1869, 1870, 1907, 1908, 1366, 1367]), 37, Set([1905, 1906, 1907, 1908]))\n",
      "(1205, Set([1736, 2054, 2055, 2056, 2057, 2058, 2059, 781, 654, 1567, 1568, 1569, 1570, 2017, 1065, 1066, 1067, 1068, 1585, 1586, 1587, 1588, 1589, 1590, 1737, 1083, 1084, 1085, 1086, 1215, 1090, 1604, 1605, 1606, 1607, 1608, 1609, 1610, 1739, 2018, 1999, 2000, 2001, 2002, 2003, 1623, 1624, 1625, 1626, 1627, 2019, 1246, 1247, 1248, 1249, 1250, 1251, 2020, 2021, 1738, 1735, 1770, 1771, 1772, 1773, 1774, 1775, 2035, 2036, 2037, 2038, 2039, 2040, 2041, 2042, 1087]), 15587, Set([1657, 1739, 1705, 1197, 1717, 1698, 24, 27, 29, 1774, 1740, 1647, 1695, 1180, 1179, 1718, 1099, 1100, 1101, 1102, 1103, 1104, 1105, 1106, 1107, 1108, 1109, 1110, 1111, 1112, 1117, 1118, 1119, 1120, 1121, 1122, 1123, 1124, 1125, 1126, 1127, 1128, 1129, 1642, 1639, 1644, 1645, 1646, 1135, 1136, 1137, 1138, 1139, 1140, 1141, 1142, 1143, 1144, 1145, 1146, 1147, 1148, 1661, 1662, 1663, 1664, 1216, 1154, 131, 132, 133, 134, 135, 136, 137, 138, 1164, 1215, 1678, 1679, 1181, 1681, 1682, 1171, 1172, 149, 1174, 1175, 1176, 1177, 1178, 667, 156, 669, 670, 671, 672, 673, 674, 675, 676, 165, 678, 167, 1704, 1193, 170, 171, 685, 686, 687, 688, 689, 690, 691, 692, 693, 694, 695, 696, 697, 698, 1211, 1212, 1213, 1214, 703, 704, 705, 706, 707, 708, 709, 710, 711, 712, 713, 714, 715, 716, 717, 718, 719, 720, 723, 724, 725, 726, 727, 728, 729, 1729, 731, 732, 1658, 1247, 1250, 739, 740, 741, 742, 743, 744, 745, 431, 747, 748, 749, 750, 751, 752, 753, 754, 755, 756, 1730, 761, 1703, 1219, 1665, 776, 779, 780, 1666, 782, 783, 784, 785, 1155, 1731, 1156, 1680, 1157, 1693, 1158, 1159, 1160, 1734, 1732, 1161, 1641, 1640, 1162, 1700, 1683, 1676, 1208, 1677, 1733, 1251, 1699, 343, 344, 345, 346, 347, 348, 349, 350, 351, 352, 353, 354, 355, 357, 358, 359, 362, 363, 364, 365, 366, 367, 368, 369, 370, 371, 372, 373, 1649, 1684, 379, 380, 381, 382, 383, 384, 385, 386, 387, 388, 389, 390, 391, 392, 393, 394, 395, 396, 1735, 1701, 1667, 1650, 1775, 1173, 418, 419, 420, 421, 422, 423, 424, 668, 1697, 1736, 429, 746, 157, 1685, 1668, 1651, 1182, 1694, 1183, 1648, 1696, 1660, 1737, 1186, 1686, 1669, 1643, 1187, 1209, 677, 1702, 1738, 679, 1670, 1217, 1659, 1210, 682]))\n",
      "(156, Set([1696, 1697, 1732, 1733, 1734, 1769, 1770, 1644, 1102, 1104, 1139, 1660, 1661, 1662]), 159, Set([1808, 1810, 1811, 1813, 1827, 1828, 1829, 1830, 1831, 1832, 1844, 1845, 1846, 1847, 1848, 1849, 1862, 1864, 1865, 1879, 1880, 1883]))\n",
      "(222, Set([17, 18, 1341, 69, 1358, 854, 855, 856, 857, 1379, 228, 229, 230, 873, 874, 875, 108, 494, 495, 496, 497, 498, 891, 892, 893, 126]), 1009, Set([1995, 1988, 1954, 1958, 1959, 1960, 1961, 1962, 1996, 1972, 1973, 1974, 1975, 1976, 1977, 1978, 1979, 1980, 1474, 1475, 1476, 1989, 1990, 1991, 1992, 1993, 1994, 971, 972, 1997, 1998, 1491, 1492, 1493, 1494, 990, 1508, 1509, 1510, 1511, 1512, 1520]))\n",
      "(264, Set([1152, 1668, 1669, 1670, 1671, 1672, 1673, 1187, 1188, 1706, 1707, 1708, 1709, 719, 720, 1111, 1114, 1743, 1146, 1147, 1148, 1149, 1150, 1151]), 163, Set([1024, 1025, 1542, 1543, 1544, 1545, 1546, 1547, 1548, 1565, 1584, 1994, 1995, 1996, 1997, 1007, 1526, 1527, 1528, 1529, 1530, 1022, 1023]))\n",
      "(246, Set([777, 778, 779, 2061, 2062, 1171, 1172, 1173, 1174, 667, 668, 2043, 1207, 1208, 1209, 1210, 1085, 1086, 1087, 1732, 1609, 1610, 1627, 1246, 739, 740, 742, 2023, 2025, 1135, 1657, 2042, 703, 2044, 2045]), 7333, Set([1536, 1, 2, 3, 4, 5, 6, 7, 8, 9, 1034, 1035, 1036, 1037, 1552, 1553, 1554, 19, 20, 21, 22, 23, 24, 25, 26, 1051, 1052, 1053, 1054, 1029, 1569, 603, 1572, 37, 38, 39, 40, 41, 42, 43, 44, 605, 1032, 562, 1590, 55, 56, 57, 58, 59, 60, 61, 580, 581, 582, 583, 584, 73, 74, 75, 76, 77, 78, 79, 80, 596, 597, 598, 599, 600, 601, 602, 91, 92, 93, 94, 95, 96, 97, 98, 99, 615, 616, 617, 618, 619, 620, 109, 110, 111, 112, 113, 114, 115, 116, 117, 118, 1556, 634, 635, 636, 637, 638, 639, 130, 131, 1558, 1047, 621, 1539, 1048, 146, 147, 148, 149, 150, 1049, 623, 1033, 1050, 164, 165, 166, 167, 168, 169, 1557, 1540, 607, 181, 182, 183, 184, 185, 186, 199, 200, 201, 202, 203, 204, 205, 1571, 1030, 219, 221, 1573, 604, 1574, 1559, 1542, 1575, 237, 238, 239, 1576, 1577, 1031, 1555, 622, 255, 257, 1560, 2007, 271, 272, 273, 274, 275, 276, 277, 278, 279, 280, 1071, 290, 291, 292, 293, 294, 295, 296, 297, 1538, 307, 308, 309, 310, 311, 312, 313, 314, 315, 328, 329, 330, 331, 1592, 1594, 2022, 1537, 1578, 1523, 1561, 453, 454, 2039, 2002, 2003, 2004, 2005, 2006, 471, 2008, 2009, 2010, 1502, 995, 997, 998, 2023, 2024, 2025, 2026, 2027, 2028, 1519, 1520, 1521, 1011, 1012, 1013, 1014, 1015, 1016, 1017, 1018, 1019, 1541, 1535]))\n",
      "(8, Set([1986, 653, 1518, 1031]), 1128, Set([2067, 1091, 645, 646, 647, 648, 1260, 663, 2062, 2063, 2064, 664, 2066, 787, 2068, 789, 790, 791, 792, 665, 666, 1220, 1061, 1062, 1638, 431, 432, 1075, 1077, 1078, 1079, 1080, 1781, 1600, 1601, 1602, 323, 324, 1094, 1095, 1096, 1097, 1098, 1614, 1617, 1618, 1619, 1620, 341, 342, 2065, 1636, 1630, 1631, 1632, 1633, 1634, 1635, 1252, 1637, 1254, 1255, 1256, 1257, 1258, 1259, 108, 1746, 1775, 1776, 1777, 1778, 1779, 1780, 629, 630, 2069]))\n",
      "(42, Set([672, 289, 164, 673, 109, 110, 1105, 381, 382]), 147, Set([1988, 1989, 1958, 1959, 1515, 1516, 1517, 1518, 1519, 1971, 1972, 1550, 1974, 1975, 1976, 1973, 1549, 1502, 1503]))\n",
      "(15, Set([65, 66, 230, 520, 1171, 382]), 220, Set([1349, 1350, 1868, 1869, 1870, 1871, 1872, 882, 1331, 1332, 1852, 1854, 863]))\n",
      "(254, Set([1432, 519, 520, 1417, 522, 1419, 1453, 913, 914, 915, 916, 917, 535, 536, 537, 538, 539, 540, 1434, 1439, 1433, 930, 931, 932, 933, 934, 1436, 557, 1416, 1418, 1435, 1938, 1940, 251, 252]), 40, Set([294, 293, 582, 583, 327, 310, 1469]))\n",
      "(1624, Set([1048, 1049, 1050, 1051, 1052, 1053, 1054, 1055, 1066, 1067, 1068, 1069, 1070, 1071, 1072, 1073, 1076, 1589, 1590, 1591, 1592, 1594, 1085, 1086, 1087, 1088, 1089, 1090, 1607, 1608, 1609, 1610, 1611, 1612, 1588, 1630, 616, 617, 618, 619, 620, 621, 117, 118, 634, 635, 636, 637, 638, 639, 640, 641, 642, 643, 651, 652, 653, 654, 655, 656, 657, 658, 659, 1186, 1187, 171, 717, 718, 1250, 749, 750, 751, 752, 753, 754, 1151, 1152, 779, 780, 781, 783, 785, 786, 787, 311, 312, 313, 314, 315, 317, 328, 329, 330, 331, 332, 333, 334, 386, 420, 421, 422, 423, 424, 425, 426, 427, 428, 2038]), 3735, Set([512, 1963, 1964, 524, 525, 526, 527, 528, 529, 541, 542, 543, 544, 545, 546, 547, 1945, 562, 563, 1843, 78, 1844, 1813, 1965, 1948, 1478, 1479, 1480, 1482, 203, 204, 205, 206, 219, 220, 221, 222, 223, 224, 225, 238, 239, 240, 1271, 1285, 1286, 1287, 1288, 1808, 1809, 1810, 1811, 1812, 1301, 1302, 1303, 1304, 1305, 1306, 1824, 1825, 1826, 1827, 1828, 1829, 1318, 1319, 1320, 1321, 1322, 1323, 1842, 815, 817, 818, 819, 820, 821, 1846, 1847, 1337, 1338, 1339, 1340, 1845, 832, 833, 834, 835, 836, 837, 838, 839, 850, 851, 852, 853, 854, 855, 856, 869, 870, 871, 872, 873, 886, 887, 888, 889, 890, 1407, 1408, 902, 903, 904, 905, 906, 907, 1423, 1424, 1425, 1426, 1427, 1428, 919, 920, 921, 922, 923, 924, 1946, 1441, 1442, 1947, 937, 938, 939, 940, 941, 942, 1949, 1459, 1460, 1461, 1462, 1463, 955, 956, 957, 958, 959, 961, 1477, 454, 455, 456, 457, 458, 459, 460, 471, 472, 473, 474, 475, 476, 477, 478, 490, 491, 492, 493, 494, 495, 496, 507, 508, 509, 510, 511]))\n",
      "(21, Set([1379, 1828, 1845, 1324, 1325, 1397, 1847, 1343]), 3637, Set([1707, 1708, 1740, 1655, 1206, 1108, 1109, 1110, 1111, 1112, 1113, 1114, 1115, 1116, 1128, 1129, 1130, 1131, 1132, 1133, 1134, 1650, 1651, 1652, 1141, 1142, 1143, 1144, 1145, 1146, 1147, 1148, 1149, 1150, 1151, 1152, 1665, 1666, 1667, 1668, 1669, 1670, 1671, 1672, 1673, 1674, 1165, 1166, 1167, 1168, 1169, 1170, 1688, 1689, 1178, 1179, 1180, 1181, 1182, 1183, 1184, 1185, 1186, 1187, 676, 677, 678, 679, 680, 681, 682, 683, 684, 1736, 1203, 694, 695, 696, 697, 698, 699, 700, 701, 702, 1653, 1216, 1217, 1218, 1739, 1654, 711, 712, 713, 714, 715, 716, 717, 718, 719, 720, 1656, 736, 737, 738, 751, 753, 1664, 354, 356, 357, 358, 359, 360, 374, 377, 378, 394, 1735, 1691, 1692, 1737, 1699, 1700, 1701, 1702, 1738, 1703, 1704, 1705, 1706]))\n",
      "(288, Set([1024, 1544, 1545, 1546, 1547, 2061, 1558, 1560, 1561, 1562, 1563, 1577, 1578, 1980, 1995, 1998, 2009, 2010, 2011, 1511, 2026, 2027, 2028, 2029, 2030, 2046, 1526, 1527, 1528, 1529, 2044, 2045, 1022, 1023]), 459, Set([1045, 1046, 1559, 1048, 1567, 1568, 1569, 1570, 1571, 1065, 1585, 1586, 1587, 1588, 1589, 1590, 1604, 2002, 2005, 2012, 2017, 2018, 2019, 2020, 2021, 2022, 2023, 2024, 2031, 2035, 2036, 2037, 2038, 2039]))\n",
      "(349, Set([1287, 1782, 1810, 1183, 1184, 802, 1187, 680, 1779, 697, 698, 443, 1781, 1219, 1220, 1221, 1222, 1223, 1224, 716, 717, 1742, 1743, 1744, 1745, 1234, 441, 731, 732, 733, 354, 1809, 1257, 1258, 1746, 752, 1777, 1778, 755, 1780, 1269, 1270, 1271, 767]), 42, Set([1993, 1994, 1421, 1491, 1490, 1907, 951, 952]))\n",
      "(51, Set([1829, 1830, 1865, 1866, 1867, 1868, 1845, 1883, 1884]), 3090, Set([1627, 1091, 1092, 1626, 1115, 1629, 1144, 1146, 1147, 1148, 1149, 1150, 1151, 1152, 1667, 1668, 1669, 1670, 1671, 1672, 1673, 1674, 1177, 1179, 1180, 1181, 1182, 1183, 1184, 1185, 1186, 1187, 1188, 1701, 1702, 1703, 1704, 1705, 1706, 1707, 1708, 1709, 1710, 1224, 1211, 1213, 1214, 1215, 1216, 1217, 1218, 1219, 1220, 1221, 1222, 1735, 1736, 1737, 1738, 1739, 1740, 1741, 1742, 1743, 1744, 1745, 1746, 1247, 1248, 1249, 1251, 1252, 1253, 1254, 1255, 1768, 1769, 1770, 1771, 1772, 1773, 750, 1775, 1776, 753, 1778, 1779, 1780, 785, 1734, 1223, 1774, 1777, 1699, 1700]))\n",
      "(50, Set([1440, 1475, 1476, 1925, 1926, 1494, 1943, 954]), 517, Set([1024, 1025, 1026, 1540, 1031, 1559, 1549, 1038, 1551, 1552, 1553, 1554, 1555, 1518, 1535, 1557, 1536, 1525, 1528, 1537, 1550, 1533, 1534, 607, 611, 612, 1003, 1005, 1006, 1007, 1008, 1012, 1013, 1014, 1016, 1017, 1018, 1019, 1020, 1021, 1022, 1023]))\n",
      "(659, Set([770, 771, 772, 773, 774, 1799, 1800, 1292, 1293, 1294, 1295, 1813, 1814, 1815, 1816, 1796, 1818, 413, 414, 1797, 1798, 806, 807, 808, 809, 810, 1817, 1205, 1206, 447, 448, 449, 450, 198, 1762, 467, 1239, 1240, 1241, 1242, 738, 1273, 1274, 1275, 1276, 1277, 1278]), 15, Set([1033, 1629, 1574, 1575]))\n",
      "(232, Set([1410, 1411, 1412, 906, 922, 923, 924, 925, 543, 544, 545, 546, 559, 560, 561, 1461, 955, 956, 957, 958, 579, 973, 974, 975, 976, 991, 1898, 1899, 1394, 1395, 1915]), 5214, Set([516, 517, 518, 519, 523, 524, 525, 526, 527, 528, 529, 530, 531, 532, 533, 534, 535, 536, 537, 538, 539, 540, 541, 542, 543, 544, 545, 546, 547, 548, 549, 550, 551, 552, 553, 554, 555, 556, 557, 558, 559, 560, 561, 562, 563, 564, 565, 566, 567, 568, 570, 1434, 577, 579, 75, 80, 1435, 1940, 1471, 1437, 1924, 1455, 1438, 1457, 1456, 1439, 241, 242, 1440, 245, 253, 254, 255, 256, 257, 258, 259, 260, 261, 262, 263, 264, 265, 266, 271, 272, 273, 274, 275, 1412, 1925, 1926, 1942, 1419, 1420, 1421, 1422, 1939, 1907, 1401, 1402, 1403, 1404, 1941, 897, 899, 900, 1430, 1414, 1415, 1417, 1418, 907, 908, 909, 910, 911, 912, 913, 914, 915, 916, 917, 918, 1943, 1432, 1433, 922, 923, 924, 925, 926, 927, 928, 929, 930, 931, 932, 933, 934, 935, 936, 1436, 943, 944, 945, 946, 947, 948, 949, 950, 951, 952, 953, 954, 955, 956, 957, 958, 959, 960, 961, 962, 963, 965, 966, 967, 968, 1944, 975, 977, 982]))\n",
      "(30, Set([1541, 1558, 598, 1556, 1013, 1014, 1015, 1016]), 88, Set([933, 934, 935, 936, 1418, 1932, 1933, 1934, 1935, 1936, 1937, 1938, 1437]))\n",
      "(629, Set([384, 130, 131, 132, 133, 2005, 1751, 652, 653, 654, 400, 402, 150, 1047, 1048, 1049, 1050, 2004, 1568, 1569, 418, 1571, 420, 1573, 166, 167, 168, 1065, 1066, 1067, 1068, 1586, 1587, 1588, 1195, 1590, 1046, 1589, 1607, 328, 329, 330, 1570, 2000, 2001, 2002, 2003, 1753, 725, 726, 727, 1752, 1572, 1754, 347, 348, 1786, 2019, 2018, 1789, 2020, 2021, 2022, 2037, 364, 365, 366, 367, 2036, 1194, 2038, 1193, 761, 634, 635, 1788, 637, 383]), 18, Set([320, 292, 293, 294, 648, 342, 645]))\n",
      "(46, Set([1899, 260, 617, 618, 619, 493, 240, 241, 311, 888, 889, 1050, 906]), 27, Set([1664, 1665, 1666, 1667, 1701, 1744, 1663]))\n",
      "(74, Set([1282, 1269, 1284, 1206, 1819, 1235, 1236, 1205, 1238, 1239, 1268, 1759, 1237]), 2143, Set([1920, 897, 898, 899, 900, 1925, 1926, 1921, 520, 1417, 1418, 1419, 1420, 1421, 1422, 913, 915, 916, 917, 918, 1943, 1944, 1924, 1940, 539, 1923, 1904, 931, 933, 1905, 1903, 1906, 1942, 1941, 1347, 1349, 1399, 1400, 1363, 1364, 1365, 1366, 1367, 1368, 1890, 1380, 1381, 1382, 1383, 1384, 233, 1386, 1900, 1939, 879, 880, 881, 882, 1907, 1908, 1398, 503, 504, 1401, 1402, 1403, 1404, 1385, 1922, 895]))\n",
      "(198, Set([864, 1313, 863, 484, 197, 486, 1331, 1314, 844, 845, 846, 467, 468, 1350, 824, 1332, 827, 828, 862, 485]), 37, Set([640, 624, 642, 1766, 779, 592, 1246, 656, 990]))\n",
      "(29, Set([584, 1131, 138, 139, 1967]), 320, Set([1891, 1892, 1893, 1894, 1351, 1352, 1353, 1354, 1387, 1388, 1389, 1873, 1909, 1369, 1370, 1371, 1372]))\n",
      "(164, Set([1651, 342, 679, 680, 681, 394, 395, 717, 718, 719, 432, 1650, 179, 1129, 630, 1111, 1112, 1113, 1110, 1130]), 42, Set([1889, 1890, 483, 485, 233, 502, 503, 504, 861]))\n",
      "(10, Set([1888, 1889, 1890, 1870]), 1450, Set([1280, 1281, 1282, 1283, 1284, 1750, 1801, 1802, 1803, 1804, 1805, 1806, 1297, 1298, 1299, 1300, 793, 794, 795, 796, 797, 1822, 799, 1315, 1316, 1317, 1820, 811, 812, 813, 814, 815, 1749, 1333, 1821, 829, 830, 831, 452, 453, 1227, 1228, 1229, 1230, 847, 848, 849, 469, 470, 1751, 1752, 865, 866, 487, 1819, 1387, 1261, 1262, 1263, 1264, 1265, 1266, 1783, 1784, 1785, 1786, 1787, 1788, 1789, 1790, 1279]))\n",
      "(62, Set([1056, 1057, 1411, 549, 586, 1597, 566, 567, 1915, 1596, 925, 926]), 37, Set([1696, 1697, 1250, 1613, 1614, 2030, 1658, 1213]))\n",
      "(707, Set([2048, 2049, 2050, 2051, 2052, 2055, 2056, 2057, 2058, 2059, 2060, 2061, 2062, 2065, 2066, 2067, 2068, 1571, 1586, 1588, 1589, 1590, 1592, 1605, 1606, 1607, 1608, 1609, 1610, 1611, 1617, 1618, 2019, 2020, 2021, 2022, 2023, 2024, 2025, 2026, 2035, 2036, 2037, 2038, 2039, 2040, 2041, 2042, 2043, 2044, 2045, 2046, 2047]), 156, Set([257, 273, 274, 275, 415, 546, 547, 1447, 941, 942, 943, 561, 562, 563, 564, 1464, 1465, 957, 959, 960, 961, 92, 93, 94, 110]))\n",
      "(28, Set([872, 495, 496, 1877, 86, 87, 1337, 1338, 1339]), 27, Set([968, 2025, 605, 1576, 950, 951, 985, 1437]))\n",
      "(10, Set([1856, 1857, 1875]), 71, Set([1417, 929, 278, 1603, 294, 550, 551, 552, 617, 930, 616, 1064, 566, 567, 1046, 1436, 1941]))\n",
      "(520, Set([512, 513, 514, 515, 132, 133, 134, 1104, 149, 150, 151, 152, 153, 495, 672, 496, 42, 477, 1395, 479, 188, 61, 62, 63, 205, 206, 207, 208, 1105, 1661, 348, 349, 223, 224, 225, 226, 227, 493, 494, 367, 368, 497, 243, 1396, 889, 890, 891, 892, 893, 1918, 511]), 287, Set([1219, 1218, 749, 784, 785, 658, 659, 1688, 1689, 1690, 1691, 1692, 1183, 1184, 2043, 786, 1217, 1090, 1091, 1092, 1611, 1612, 1613, 783, 1251, 1252, 1253, 1254, 657, 2044, 1255, 1132, 1133, 750, 752, 787, 1652, 1653, 1654, 1655, 1656, 2042, 1147, 1148, 1149]))\n",
      "(219, Set([1412, 905, 906, 907, 908, 909, 926, 927, 928, 929, 549, 550, 945, 946, 947, 948, 1334, 1335, 1336, 1337, 1469, 1470, 1856, 1857, 1373, 1957, 869, 870, 871, 888, 889, 890, 891]), 1493, Set([1154, 1155, 1156, 1157, 1675, 1676, 1677, 1678, 1679, 1680, 1682, 1711, 668, 669, 1694, 1695, 1191, 1693, 1712, 1713, 1714, 1715, 1716, 1717, 1718, 1719, 1099, 1100, 1101, 1102, 1103, 1748, 1749, 1750, 1751, 1753, 1754, 1117, 1118, 1119, 1120, 1121, 1789, 1639, 1640, 1641, 1642, 1643, 1644, 1645, 1135, 1136, 1137, 1657, 1658, 1659, 1660, 1661]))\n",
      "(188, Set([384, 292, 1965, 1966, 1967, 310, 311, 707, 580, 581, 329, 598, 599, 1497, 1498, 1499, 992, 994, 995, 744, 1139, 1140, 635, 1661, 1662]), 284, Set([1664, 1666, 1696, 1697, 1700, 1100, 1102, 1103, 1106, 1120, 1639, 1641, 1642, 1643, 1644, 1645, 1646, 1136, 1142, 1657, 1658, 1659, 1660, 1661, 1662, 1663]))\n",
      "(87, Set([864, 1348, 1349, 1350, 1420, 1871, 1872, 881, 1330, 1331, 1332, 1942, 1401, 1402, 1403, 1853, 1854]), 200, Set([775, 651, 1550, 1551, 1552, 1046, 1047, 1567, 1568, 1569, 1570, 1063, 1064, 1065, 1585, 1586, 1587, 1588, 1207, 1208, 1081, 1082, 1604, 2001, 2002, 1244, 1534]))\n",
      "(207, Set([1794, 1686, 1291, 1292, 1293, 1683, 1684, 1685, 1814, 1687, 1309, 1311, 806, 1831, 1832, 1833, 1834, 1835, 1721, 1851, 1852, 1163, 1871, 1757, 1758, 1759, 1648, 1272, 1273, 1274]), 2491, Set([1536, 1537, 1538, 1985, 1981, 1945, 1946, 1947, 1948, 1949, 1950, 1951, 1952, 1953, 1954, 1983, 1963, 1964, 1965, 1966, 1967, 1968, 1969, 1970, 1459, 1972, 1503, 1971, 1982, 959, 1984, 1504, 1986, 1987, 1988, 1477, 1478, 1479, 1480, 1481, 1482, 1483, 1484, 973, 975, 1990, 978, 980, 1989, 1495, 1496, 1497, 1498, 1499, 1500, 1501, 1502, 991, 992, 993, 995, 996, 1513, 1514, 1515, 1516, 1517, 1518, 1519, 1520, 1009, 1011, 1012, 1013, 1016, 1531, 1532, 1533, 1534, 1535]))\n",
      "(26, Set([1547, 1548]), 635, Set([768, 769, 136, 1161, 729, 727, 695, 401, 402, 403, 404, 405, 406, 407, 408, 1689, 1690, 730, 1755, 455, 1196, 1197, 1198, 1199, 1200, 1160, 1688, 693, 694, 55, 184, 57, 186, 1723, 1724, 1162, 1726, 1163, 199, 200, 201, 202, 183, 1165, 56, 1234, 1236, 185, 696, 217, 218, 731, 1756, 351, 235, 728, 697, 1725, 368, 370, 371, 1683, 1720, 763, 764, 765, 766, 767]))\n",
      "(377, Set([1027, 1028, 649, 650, 651, 1045, 1046, 1063, 1064, 1065, 1066, 1067, 1585, 1586, 1587, 1081, 1082, 1083, 1084, 577, 1603, 1604, 1605, 1606, 595, 1622, 1623, 1624, 1244, 991, 614, 1009, 632, 633, 634]), 537, Set([1323, 1157, 1158, 1159, 1325, 1680, 819, 1306, 1307, 1308, 1309, 670, 671, 672, 673, 674, 803, 804, 839, 818, 1326, 688, 689, 690, 691, 692, 821, 820, 1848, 441, 442, 443, 1867, 836, 801, 1866, 1847, 802, 1101, 1104, 1105, 1106, 725, 727, 728, 729, 1103, 1119, 1120, 1121, 1122, 1123, 1124, 1125, 1643, 1644, 1645, 366, 1141, 763, 764, 765]))\n",
      "(326, Set([384, 385, 1676, 668, 669, 670, 671, 296, 297, 687, 312, 313, 314, 315, 705, 708, 331, 1100, 1101, 346, 603, 604, 1117, 1119, 1019, 1639, 1640, 1641, 618, 619, 620, 621, 1522, 1523, 1524, 1017, 1018, 383, 637, 382, 639]), 20, Set([1248, 1731, 1732, 2025, 1610, 2008, 2026]))\n",
      "(34, Set([1931, 1930, 1387, 1932, 1934, 1406, 1407]), 1241, Set([1707, 1135, 1136, 1137, 1138, 1139, 1140, 1141, 1142, 1143, 1144, 1145, 1146, 1147, 1148, 1150, 1151, 1152, 706, 1171, 1172, 1173, 1174, 1175, 1176, 1177, 1178, 1179, 668, 669, 1182, 1183, 1184, 1185, 1186, 1187, 1188, 710, 678, 1706, 711, 1708, 1709, 1209, 703, 704, 705, 1218, 707, 708, 709, 1222, 1223, 712, 713, 714, 715, 716, 717, 718, 719, 720, 1250, 739, 740, 741, 742, 743, 744, 745, 746, 747, 748, 749, 750, 751, 753, 754, 756, 345, 379, 380, 381, 382, 383, 389, 1180, 1181, 1694, 1697, 1700]))\n",
      "(239, Set([1153, 1676, 1643, 1675, 1190, 1191, 1640, 1641, 1642, 1099, 1100, 1677, 1678, 1711, 1712, 1713, 1714, 1715, 1639, 1117]), 11432, Set([1024, 1025, 1538, 1027, 1028, 1029, 1030, 1995, 1044, 535, 536, 537, 538, 539, 540, 602, 544, 547, 551, 552, 553, 554, 555, 556, 557, 558, 560, 561, 562, 563, 564, 565, 566, 567, 568, 569, 570, 571, 572, 573, 574, 575, 576, 577, 578, 579, 580, 581, 582, 583, 584, 585, 586, 587, 588, 589, 590, 591, 592, 593, 594, 595, 596, 597, 598, 599, 600, 601, 90, 603, 1978, 607, 611, 613, 1998, 1468, 619, 108, 1469, 1521, 1470, 1471, 1518, 1472, 1988, 1473, 1474, 1475, 1977, 1958, 1476, 1477, 1478, 1480, 1482, 1498, 1483, 1960, 1484, 1485, 1486, 1487, 1996, 1488, 1985, 1489, 1490, 1491, 1492, 252, 1493, 1969, 1494, 264, 266, 267, 268, 269, 270, 272, 273, 274, 275, 276, 277, 278, 279, 283, 284, 285, 286, 287, 288, 289, 290, 291, 292, 293, 294, 295, 1500, 298, 1959, 1501, 305, 306, 1502, 311, 1982, 1503, 1976, 1971, 1504, 1528, 1505, 1506, 1507, 1499, 1508, 1509, 1510, 1495, 1511, 1512, 1513, 1980, 1514, 1515, 1496, 1516, 1517, 917, 918, 1974, 1987, 1957, 1519, 1438, 1439, 1440, 1520, 1497, 933, 934, 935, 936, 1961, 1962, 1452, 1453, 1454, 1455, 1456, 1457, 1458, 947, 948, 949, 950, 951, 952, 953, 954, 1979, 956, 957, 958, 959, 960, 961, 962, 963, 964, 965, 966, 967, 968, 969, 970, 971, 972, 973, 974, 975, 976, 977, 978, 979, 980, 981, 982, 983, 984, 985, 986, 987, 988, 989, 990, 991, 992, 993, 994, 995, 996, 997, 998, 999, 1000, 1001, 1002, 1003, 1004, 1005, 1006, 1007, 1008, 1009, 1010, 1011, 1012, 1013, 1014, 1015, 1016, 1529, 1530, 1533, 1535]))\n",
      "(224, Set([386, 1682, 1683, 1647, 297, 171, 692, 693, 694, 695, 313, 314, 315, 316, 333, 603, 351, 1124, 1125, 1126, 619, 620, 621, 622, 623, 117, 1015, 1016, 1017, 1018, 638, 639]), 421, Set([398, 793, 794, 795, 796, 797, 37, 38, 812, 813, 433, 434, 435, 436, 181, 182, 55, 56, 829, 437, 451, 452, 453, 199, 200, 201, 202, 1227, 1228, 1229, 1230, 469, 1750, 1751, 1752, 217, 757, 760, 1786, 1787, 1788, 1790]))\n",
      "(844, Set([1, 2, 4, 21, 22, 23, 24, 38, 39, 40, 42, 55, 56, 73, 74, 1720, 1111, 1112, 1122, 1124, 1125, 1126, 1127, 1128, 1129, 1131, 1132, 1647, 1648, 1649, 1650, 1651, 1652, 1653, 1654, 130, 131, 132, 134, 1160, 1161, 1162, 1163, 1164, 1167, 1680, 1682, 147, 148, 1685, 150, 151, 1688, 1689, 673, 675, 676, 1196, 1197, 690, 691, 692, 693, 694, 695, 696, 697, 1723, 727, 728, 729, 731, 350, 351, 364, 365, 366, 367, 368, 369, 370, 1683, 1684, 149, 1686, 1687, 402, 403, 404, 371]), 694, Set([775, 776, 649, 650, 653, 1245, 1171, 1172, 1046, 1047, 667, 668, 1207, 415, 416, 417, 1693, 1695, 1063, 1064, 1065, 1066, 1067, 685, 687, 1586, 1587, 1588, 777, 1208, 1081, 1082, 1083, 703, 1696, 2022, 1603, 1604, 325, 1606, 1607, 1099, 1100, 1101, 1605, 2001, 2002, 2003, 2004, 1209, 2020, 1243, 1244, 1117, 1118, 2018, 739, 740, 741, 1766, 1639, 1640, 1135, 1136, 1137, 1657, 1658, 1659, 380]))\n",
      "(211, Set([269, 285, 286, 287, 288, 1313, 1314, 1835, 1312, 72, 845, 846, 594, 88, 89, 485, 486, 233, 234, 1008, 1530, 251, 252]), 266, Set([2053, 2054, 2055, 2056, 2057, 2058, 1590, 1605, 1608, 2002, 2003, 2004, 1621, 1622, 1243, 1765, 2019, 2020, 2021, 2022, 2023, 2024, 2025, 2036, 2037, 2038, 2041, 2042, 2005]))\n",
      "(1165, Set([1409, 1410, 1411, 1412, 1413, 1414, 906, 907, 908, 1933, 1934, 1448, 530, 1430, 1431, 1432, 1433, 1434, 1435, 1436, 927, 928, 929, 930, 931, 1956, 549, 550, 551, 552, 553, 1450, 1351, 1452, 1453, 1454, 944, 945, 946, 947, 948, 949, 950, 951, 1465, 1467, 1468, 1451, 1470, 1471, 1472, 963, 964, 965, 966, 967, 968, 1353, 1354, 1355, 1486, 1487, 1488, 1873, 1352, 1469, 1370, 1371, 1372, 1373, 1374, 867, 1893, 1894, 1896, 1389, 1390, 1391, 1392, 1393, 1449, 1915]), 11514, Set([2048, 2049, 2050, 2051, 2052, 2059, 2060, 2061, 1038, 2063, 2064, 2065, 2066, 2067, 2068, 2069, 2070, 1561, 1711, 1053, 1054, 1055, 1056, 1057, 1058, 1059, 1060, 1574, 1575, 1576, 1577, 1578, 1579, 1580, 1069, 1070, 1071, 1072, 1073, 1074, 1075, 1076, 1077, 1078, 1079, 1592, 1593, 1594, 1595, 1596, 1085, 1086, 1087, 1088, 1089, 1090, 1091, 1092, 1093, 1094, 1095, 1096, 1097, 1610, 1611, 1612, 1101, 1102, 1615, 1104, 1617, 1618, 1619, 1620, 2062, 1627, 1628, 1117, 1118, 1119, 1120, 1121, 1634, 1635, 1636, 1637, 1638, 1153, 624, 1137, 626, 116, 117, 1215, 637, 638, 639, 128, 129, 130, 131, 132, 133, 1217, 1675, 1591, 653, 654, 655, 656, 657, 658, 659, 660, 661, 1174, 1176, 1177, 1178, 667, 668, 669, 670, 671, 672, 673, 1189, 1190, 167, 168, 169, 170, 171, 172, 685, 686, 687, 688, 689, 690, 691, 1140, 1211, 1213, 1214, 1141, 704, 705, 706, 707, 708, 709, 710, 711, 2033, 1225, 1226, 721, 722, 723, 724, 725, 1750, 1216, 1712, 1246, 1248, 1249, 1250, 1251, 1252, 741, 742, 743, 744, 745, 746, 747, 748, 749, 750, 1747, 1783, 1784, 1713, 1787, 1748, 640, 1253, 641, 778, 779, 780, 781, 782, 783, 784, 785, 786, 1155, 788, 1582, 1714, 1156, 1629, 1157, 1597, 1631, 1715, 1630, 317, 1255, 2027, 328, 1676, 330, 331, 332, 333, 334, 335, 336, 1678, 343, 344, 345, 346, 347, 348, 349, 350, 351, 352, 1154, 362, 363, 364, 365, 366, 367, 1581, 1598, 1632, 1599, 381, 382, 383, 384, 385, 386, 387, 388, 389, 1601, 1735, 1773, 1633, 1138, 418, 419, 420, 421, 422, 423, 424, 425, 426, 1609, 1600, 1677, 1771, 1613, 1614, 2006, 2008, 2009, 2010, 2011, 2012, 2013, 2014, 2015, 2016, 1616, 2022, 2024, 2025, 2026, 1191, 2028, 2029, 2030, 2031, 2032, 1192, 2034, 2041, 2042, 2043, 2044, 2045, 2046, 2047]))\n",
      "(25, Set([2050, 2051, 2052, 2032, 2034, 2070, 2009, 2012]), 494, Set([1316, 1318, 1319, 1322, 1840, 1841, 1842, 1333, 1334, 1335, 1336, 1337, 1338, 1339, 1856, 1857, 1858, 1859, 1860, 1861, 1863, 1352, 1353, 1354, 1355, 1356, 1358, 1873, 1874, 1875, 1876, 1877, 1878, 1879, 1880, 1881]))\n",
      "(8, Set([680, 1090, 715, 1130]), 2914, Set([1027, 1028, 1029, 1030, 2063, 2057, 2058, 2059, 2060, 1549, 1550, 1551, 1552, 2065, 2066, 1045, 1046, 1047, 1048, 1049, 1050, 1567, 1568, 1569, 1570, 1571, 1572, 2054, 2064, 1063, 1064, 1065, 1066, 1067, 1068, 1069, 1585, 1586, 1587, 1588, 1589, 1590, 1591, 1592, 1593, 1085, 1087, 1088, 1089, 1603, 1604, 1093, 1606, 1607, 1608, 1609, 1610, 1611, 1612, 1613, 2061, 596, 2062, 1626, 1627, 1628, 1629, 1630, 1631, 1632, 1633, 613, 614, 615, 631, 632, 633, 636, 1605, 2043, 2035, 2044, 1999, 2000, 2001, 2002, 2003, 2017, 2018, 2019, 2020, 2021, 2022, 2023, 2025, 1009, 1010, 1011, 2036, 2037, 2038, 2039, 2040, 2041, 2042, 1531, 1532, 2045]))\n",
      "(39, Set([454, 424, 425, 171, 25, 26, 830, 831]), 15, Set([1298, 1963, 1820, 470, 254]))\n",
      "(24, Set([1192, 433, 1715, 1716, 758]), 122, Set([1368, 1385, 1386, 1906, 881, 882, 1907, 1908, 1366, 1367, 504]))\n",
      "(182, Set([128, 129, 130, 400, 401, 402, 147, 148, 149, 150, 151, 40, 42, 820, 821, 184, 1849, 186, 187, 459, 1850, 1851, 379]), 5539, Set([1, 2, 3, 4, 5, 6, 1031, 1032, 1549, 1550, 1551, 1552, 1553, 19, 20, 21, 22, 23, 24, 25, 26, 1029, 1568, 1569, 1570, 1571, 37, 38, 39, 40, 41, 42, 43, 44, 59, 595, 596, 597, 598, 599, 91, 92, 93, 94, 95, 96, 613, 614, 615, 616, 617, 618, 109, 110, 111, 112, 113, 114, 631, 632, 633, 634, 635, 636, 127, 128, 129, 130, 131, 132, 133, 1027, 145, 146, 147, 148, 149, 150, 151, 152, 1045, 1028, 163, 164, 165, 166, 167, 168, 1193, 1194, 1195, 687, 181, 182, 183, 184, 185, 186, 187, 188, 189, 1225, 1226, 1227, 204, 1229, 1230, 1231, 1048, 722, 723, 724, 725, 726, 1751, 1047, 1753, 1030, 1232, 2001, 1261, 1262, 1263, 1264, 1265, 1266, 1267, 757, 758, 759, 760, 761, 762, 763, 764, 1066, 1749, 1282, 1283, 1284, 1750, 1286, 1804, 1805, 1806, 1752, 1049, 793, 794, 795, 796, 797, 798, 799, 800, 289, 290, 291, 292, 293, 294, 295, 813, 814, 816, 307, 308, 309, 310, 311, 312, 313, 325, 326, 327, 328, 329, 330, 344, 348, 349, 1748, 361, 362, 363, 364, 365, 366, 367, 381, 397, 398, 399, 400, 401, 402, 403, 405, 1046, 433, 434, 435, 436, 437, 438, 439, 440, 1269, 454, 1754, 457, 1999, 2000, 1784, 2002, 2003, 1785, 1567, 473, 1786, 1787, 1788, 1191, 1789, 1192, 1010, 1011, 1012, 1013, 1535, 1533, 1534, 1228]))\n",
      "(35, Set([1088, 1603, 786, 785, 754, 787, 788, 1086, 1087]), 111, Set([1440, 1926, 936, 1422, 1457, 1458, 558, 1943, 1944, 953, 1439]))\n",
      "(188, Set([1161, 1167, 1168, 1681, 1170, 1683, 1684, 1685, 1686, 1687, 696, 697, 698, 699, 700, 701, 702, 1682, 734, 735, 736, 1680, 738, 1125, 1128, 1129, 1130, 1131, 1644, 1645, 1647, 375, 377, 378, 1642]), 839, Set([388, 750, 43, 132, 133, 134, 135, 8, 9, 138, 173, 400, 152, 402, 387, 404, 149, 150, 151, 24, 25, 26, 27, 28, 29, 1182, 389, 1352, 155, 1740, 406, 1704, 41, 170, 7, 44, 45, 46, 1181, 136, 172, 137, 1353, 186, 1183, 850, 190, 191, 712, 713, 1738, 1739, 204, 1741, 1742, 1743, 156, 851, 473, 474, 475, 349, 350, 351, 352, 1180, 1705, 171, 492, 749, 366, 154, 368, 369, 370, 403, 169, 153, 405]))\n",
      "(307, Set([1670, 1671, 1672, 393, 394, 395, 681, 682, 429, 1962, 304, 305, 306, 179, 1673, 1980, 323, 324, 716, 717, 718, 719, 592, 593, 594, 340, 1493, 1494, 1112, 1114, 1115, 988, 989, 990, 178, 1961, 1147, 124, 1149, 1150, 1151]), 4341, Set([1025, 518, 519, 520, 521, 522, 538, 539, 540, 1883, 1884, 556, 557, 558, 1885, 1886, 1887, 573, 574, 575, 576, 1888, 70, 71, 72, 592, 593, 594, 88, 89, 90, 609, 610, 611, 612, 107, 108, 629, 630, 1905, 215, 231, 232, 233, 234, 249, 250, 251, 252, 267, 268, 269, 270, 285, 286, 287, 288, 1328, 1329, 1330, 1326, 1327, 304, 305, 306, 1331, 1332, 1850, 1344, 1345, 1346, 1347, 324, 1349, 1350, 1863, 1864, 1865, 842, 1867, 1868, 1869, 846, 1871, 1872, 1361, 1362, 1363, 1364, 1365, 1366, 1367, 1368, 1882, 859, 860, 861, 862, 863, 864, 1889, 1890, 1510, 1382, 1383, 1384, 1385, 1386, 876, 877, 878, 879, 880, 881, 882, 1402, 895, 896, 897, 898, 899, 900, 1422, 915, 916, 917, 918, 1348, 934, 935, 954, 1866, 1476, 971, 972, 1870, 1494, 988, 989, 990, 482, 484, 485, 486, 1512, 1005, 1006, 1007, 1008, 500, 501, 502, 503, 504, 1529, 1530]))\n",
      "(28, Set([1352, 865, 1891, 1369, 1351]), 1708, Set([1027, 1028, 1029, 775, 776, 649, 650, 651, 652, 1768, 1765, 1045, 1046, 1047, 1211, 1049, 1694, 415, 416, 289, 290, 163, 1587, 1009, 1064, 291, 1245, 1766, 1585, 307, 308, 309, 310, 777, 1208, 1081, 1082, 1083, 1084, 778, 577, 1730, 1731, 1732, 325, 326, 327, 1207, 1695, 1767, 1733, 419, 596, 1621, 1243, 1209, 1624, 1729, 91, 1244, 1210, 1246, 741, 739, 740, 613, 614, 615, 616, 1769, 1770, 1063, 109, 110, 417, 595, 1065, 631, 632, 633, 634, 635]))\n",
      "(218, Set([1672, 1688, 1689, 1690, 1691, 1692, 1182, 1183, 1184, 1185, 681, 1218, 1219, 1220, 715, 1741, 1112, 1113, 1130, 1131, 1132, 1133, 1134, 1777, 1653, 1654, 1655, 1147, 1148, 1149, 1150]), 2341, Set([1024, 1025, 1026, 2051, 2052, 2049, 1547, 1037, 1038, 1039, 1040, 1041, 1042, 1043, 1044, 1561, 1562, 1563, 1564, 1565, 1566, 1056, 1058, 1059, 1060, 1061, 1062, 2030, 1578, 1579, 1580, 1581, 1582, 1583, 1584, 1596, 1597, 1598, 1599, 1600, 1601, 1602, 2048, 590, 591, 592, 593, 1618, 607, 608, 609, 610, 611, 612, 2065, 624, 627, 2050, 2011, 2012, 2013, 2014, 1614, 1615, 2027, 2028, 2029, 1941, 1942, 1943, 1944, 2045, 2031, 1438, 1439, 1440, 2032, 1455, 1456, 1457, 1458, 1617, 952, 953, 954, 1472, 1474, 1475, 1476, 969, 970, 971, 972, 1491, 1492, 1493, 1494, 2010, 987, 988, 989, 990, 2015, 2016, 1616, 1508, 1509, 1510, 1511, 1512, 1003, 1004, 1005, 1006, 1007, 1008, 2033, 2034, 2046, 1527, 1528, 1529, 2047, 1021, 1022, 1023]))\n",
      "(42, Set([866, 488, 74, 236, 1352, 1587, 884, 1046, 2036]), 1474, Set([1216, 1707, 1217, 776, 1772, 778, 779, 780, 781, 782, 783, 784, 1603, 1045, 1604, 1179, 1709, 1702, 1063, 1064, 1065, 1066, 1067, 1708, 1069, 1585, 1586, 1587, 1736, 1737, 1081, 1082, 1083, 1084, 1085, 1086, 1087, 1088, 1089, 1218, 651, 1220, 1605, 1606, 1607, 1735, 652, 1738, 1739, 1740, 1741, 1742, 1743, 1744, 1622, 1623, 1624, 1625, 1626, 1627, 1245, 1246, 1247, 1248, 1249, 1250, 1251, 1252, 1253, 1254, 1775, 1212, 1770, 1771, 748, 1773, 1774, 1213, 1776, 2035, 2036, 1214, 1215, 1706]))\n",
      "(414, Set([386, 387, 388, 2058, 779, 780, 2061, 782, 655, 656, 657, 658, 659, 660, 420, 421, 422, 423, 424, 425, 170, 171, 172, 1070, 1086, 1087, 1088, 1089, 1090, 2059, 2060, 331, 332, 333, 334, 783, 1628, 784, 1250, 785, 745, 746, 747, 748, 638]), 1301, Set([1920, 1921, 1922, 1923, 1412, 1414, 1415, 1416, 1417, 1418, 1934, 1935, 1936, 1937, 1938, 1939, 1940, 1902, 1942, 1943, 1432, 1433, 1434, 1435, 1436, 1437, 1438, 930, 1957, 1958, 1959, 1960, 1449, 1450, 1451, 1452, 1453, 1454, 1455, 1456, 947, 1941, 1924, 1471, 1473, 1976, 1363, 1961, 1377, 1378, 1897, 1898, 1899, 1900, 1901, 1491, 1903, 1904, 1395, 1396, 1397, 1398, 1399, 1916, 1917, 1918, 1919]))\n",
      "(61, Set([960, 1536, 1933, 1517, 1932, 941, 942, 943, 978, 979, 1428, 1518, 1463, 1914, 1499, 1535]), 2153, Set([1029, 1030, 1031, 1032, 1033, 1623, 1552, 1047, 1048, 1049, 1063, 1064, 1065, 1066, 561, 562, 563, 564, 565, 566, 569, 1082, 1083, 1084, 577, 578, 579, 580, 581, 582, 583, 584, 585, 586, 1622, 1588, 595, 596, 597, 598, 599, 600, 601, 602, 603, 604, 93, 94, 96, 97, 614, 615, 616, 617, 618, 619, 620, 621, 631, 632, 633, 634, 635, 650, 651, 652, 1207, 1486, 1243, 1244, 1245, 258, 261, 775, 777, 272, 273, 274, 275, 276, 277, 278, 279, 290, 291, 292, 293, 294, 295, 296, 297, 309, 310, 311, 312, 313, 1081, 1603, 1604, 1605, 1954, 1447, 1448, 1449, 1450, 1451, 1453, 945, 946, 947, 1465, 1466, 1467, 1468, 1469, 1470, 961, 962, 963, 964, 1484, 973, 974, 975, 976, 977, 978, 979, 980, 1500, 993, 994, 995, 996, 997, 998, 999, 1515, 1518, 1011, 1012, 1013, 1014, 1015, 1016, 1621]))\n",
      "(20, Set([1698, 1699, 1662, 1663]), 127, Set([1792, 1793, 1794, 1646, 1234, 1683, 1719, 1720, 1756, 1757, 1758, 1791]))\n",
      "(54, Set([1671, 1672, 1741, 1775, 1776, 1777, 1655, 1114, 1149, 1150]), 753, Set([1165, 1166, 1167, 1168, 1169, 1170, 1688, 1689, 1690, 1691, 1692, 680, 732, 684, 1203, 1205, 698, 1724, 701, 702, 1727, 1728, 1112, 1113, 1114, 1115, 1116, 738, 1129, 1130, 1131, 1132, 1133, 1134, 1725, 1653, 1654, 1655, 1656, 1726]))\n",
      "(51, Set([1441, 1442, 1443, 1858, 1424, 1425, 1334, 1335, 1336, 1406, 1407]), 56, Set([1952, 1505, 1954, 1955, 1989, 1990, 1953, 1969, 1970, 1971, 1972, 1973, 1974]))\n",
      "(2746, Set([537, 538, 539, 990, 554, 555, 556, 557, 558, 47, 48, 572, 573, 574, 575, 576, 66, 67, 68, 69, 70, 71, 590, 591, 592, 593, 594, 85, 86, 87, 88, 89, 90, 612, 1307, 970, 190, 191, 192, 193, 194, 971, 196, 197, 972, 206, 207, 208, 209, 210, 211, 212, 213, 214, 225, 226, 227, 228, 229, 230, 231, 1805, 246, 247, 248, 249, 250, 251, 1285, 1286, 1287, 1288, 1289, 266, 267, 268, 269, 270, 1807, 1808, 1810, 1304, 1305, 1306, 283, 284, 285, 286, 287, 288, 1825, 1826, 1827, 1828, 1325, 989, 305, 818, 819, 820, 821, 822, 823, 837, 838, 839, 840, 841, 842, 843, 855, 856, 857, 858, 859, 1806, 879, 952, 442, 443, 1475, 1476, 968, 969, 458, 459, 460, 461, 462, 463, 464, 465, 466, 1492, 1493, 1494, 987, 988, 477, 478, 479, 480, 481, 482, 484, 1510, 1511, 1003, 1006, 1007, 1008, 497, 498, 499, 500]), 1813, Set([1027, 1028, 1029, 1030, 1549, 1550, 1551, 543, 544, 545, 546, 547, 548, 561, 562, 563, 564, 577, 578, 579, 580, 581, 583, 595, 596, 597, 598, 599, 600, 1983, 1567, 1999, 2000, 290, 292, 2017, 2018, 1900, 1914, 1915, 1916, 1917, 1918, 1919, 1411, 1412, 1413, 1932, 1933, 1934, 1935, 1936, 1428, 1429, 1430, 1431, 1432, 921, 924, 925, 926, 1445, 939, 940, 941, 942, 943, 1463, 1464, 1465, 955, 956, 957, 958, 959, 960, 961, 962, 973, 974, 975, 976, 977, 978, 1495, 1496, 1497, 1498, 1500, 991, 992, 993, 994, 995, 996, 1513, 1514, 1515, 1516, 1517, 1009, 1010, 1011, 1012, 1013, 1531, 1532, 1533]))\n",
      "(9, Set([1714, 1804, 1786]), 702, Set([1771, 1772, 1637, 1765, 1633, 1094, 1777, 1638, 1766, 1207, 1208, 1210, 1211, 1212, 1213, 1214, 1731, 1093, 1222, 1095, 1096, 1097, 1098, 1634, 1767, 1616, 1635, 1636, 1631, 1243, 1244, 1245, 1246, 1247, 1248, 1249, 1250, 1251, 1252, 1253, 1254, 1255, 1256, 1257, 1258, 1259, 1260, 1773, 1774, 1768, 1780, 1781, 1769, 1770]))\n",
      "(12, Set([1256, 2025, 1614, 2024, 2003, 2006]), 2301, Set([1024, 2048, 2050, 2051, 2052, 2049, 1548, 1038, 1039, 1040, 1041, 1042, 1043, 1044, 2070, 1561, 1563, 1564, 1565, 1054, 1055, 1056, 1057, 1058, 1059, 1060, 1061, 1062, 1577, 1578, 1579, 1580, 1581, 1582, 1583, 1584, 1075, 1076, 1077, 1078, 1079, 1080, 1596, 1597, 1598, 1599, 1600, 1601, 1602, 1092, 1615, 1616, 1617, 1618, 1619, 1620, 2062, 2063, 2064, 610, 611, 612, 2065, 626, 627, 628, 629, 630, 2068, 643, 644, 645, 646, 647, 648, 660, 1566, 304, 306, 322, 323, 324, 2011, 2012, 2013, 2014, 2015, 2016, 2045, 2028, 2029, 2030, 2031, 2032, 2033, 2034, 2043, 2044, 1021, 2046, 2047]))\n",
      "(132, Set([1670, 1671, 1704, 1705, 1706, 1739, 1740, 1741, 1742, 1775, 1776, 1777, 2062, 2063, 1631]), 49, Set([1089, 1090, 1091, 342, 340, 341, 662, 1626, 1627, 661]))\n",
      "(1212, Set([1177, 1695, 1210, 1139, 1140, 1141, 1142, 1143, 1145, 139, 141, 1166, 1731, 1173, 1174, 1175, 1176, 196, 1178, 1179, 1180, 157, 158, 159, 160, 1697, 674, 675, 676, 677, 1735, 1200, 693, 694, 695, 696, 698, 1211, 1730, 195, 708, 709, 710, 711, 712, 713, 714, 732, 733, 734, 735, 736, 737, 744, 745, 746, 748, 1696, 768, 769, 770, 771, 772, 773, 774, 197, 806, 808, 809, 810, 1732, 826, 827, 828, 1733, 348, 350, 351, 352, 353, 354, 355, 358, 1734, 372, 373, 374, 375, 376, 389, 406, 407, 408, 409, 410, 411, 412, 413, 414, 443, 447, 448, 449, 450, 1698, 1699, 468]), 1091, Set([1024, 1025, 523, 524, 525, 526, 527, 528, 1041, 530, 1043, 1044, 1559, 1563, 1564, 1565, 1566, 545, 547, 548, 1062, 1580, 1581, 1582, 1583, 1584, 563, 564, 565, 566, 567, 568, 569, 583, 584, 585, 586, 587, 588, 590, 605, 606, 607, 608, 1040, 610, 1042, 1909, 240, 255, 256, 257, 258, 259, 260, 275, 276, 277, 278, 279, 280, 282, 298, 300, 1369, 1893, 1387, 1388, 1390, 883, 884, 885, 886, 609, 1405, 1407, 1408, 901, 902, 903, 904, 905, 906, 919, 920, 921, 922, 962, 2016, 508, 505, 506, 507, 1020]))\n",
      "(19, Set([1384, 881, 882, 1386]), 6151, Set([512, 513, 514, 515, 516, 517, 530, 531, 532, 533, 534, 535, 536, 537, 538, 547, 548, 549, 551, 553, 1912, 1893, 1940, 1895, 1913, 1896, 1897, 1921, 1898, 1899, 1428, 1900, 1931, 1902, 1903, 1904, 1905, 1932, 1906, 1438, 1933, 1400, 1401, 1914, 226, 1915, 1916, 1917, 1918, 1919, 1408, 1409, 1922, 1923, 1924, 1427, 1925, 1936, 1926, 1939, 1418, 1937, 1920, 1419, 1420, 1356, 1359, 1360, 1361, 1874, 1363, 1876, 1934, 1878, 1935, 1372, 1938, 1375, 1376, 1377, 1378, 1379, 1380, 1381, 1382, 1383, 872, 873, 874, 875, 876, 1901, 1390, 1391, 1392, 1393, 1394, 1395, 1396, 1397, 1398, 1399, 888, 889, 890, 891, 892, 893, 894, 895, 896, 897, 1410, 1411, 1412, 1413, 1414, 1415, 1416, 1417, 906, 907, 908, 909, 910, 911, 912, 913, 914, 915, 916, 1429, 1430, 1431, 1432, 1433, 1434, 1435, 924, 925, 926, 927, 928, 929, 930, 931, 932, 933, 934, 1436, 1450, 1452, 1453, 1454, 1437, 944, 945, 946, 947, 948, 949, 1941, 1469, 1942, 1446, 1873, 494, 495, 1875, 1943, 1449, 510, 511]))\n",
      "(2334, Set([1, 3, 4, 5, 6, 1879, 1880, 19, 20, 21, 22, 23, 24, 25, 1882, 517, 1883, 38, 39, 40, 41, 42, 1885, 1896, 59, 60, 1878, 1382, 110, 111, 112, 113, 1897, 1898, 345, 127, 128, 129, 130, 131, 132, 1900, 891, 1901, 146, 147, 148, 149, 1903, 163, 164, 165, 166, 167, 168, 1881, 1395, 1207, 1208, 1899, 204, 205, 221, 222, 223, 224, 225, 739, 740, 892, 893, 894, 895, 1918, 775, 1337, 1338, 1339, 1340, 1341, 1342, 1343, 1344, 327, 1864, 1355, 1356, 1357, 1358, 1359, 1360, 1361, 1362, 1363, 1364, 1877, 854, 855, 856, 857, 858, 859, 1884, 1373, 1374, 1375, 1376, 1377, 1378, 1379, 1380, 1381, 870, 871, 872, 873, 874, 875, 876, 877, 1902, 879, 1904, 1393, 1394, 1171, 1396, 1397, 1398, 1399, 888, 889, 890, 379, 380, 381, 382, 383, 908, 416, 472, 473, 474, 475, 476, 478, 491, 492, 493, 494, 495, 496]), 4442, Set([1707, 1739, 2064, 1773, 1740, 1717, 1091, 1093, 1719, 1104, 1105, 1106, 1107, 1108, 1109, 1110, 1111, 1112, 1113, 1629, 1630, 1631, 1632, 1633, 1634, 1124, 1125, 1126, 2065, 1128, 1648, 1140, 1141, 1142, 1143, 1144, 1145, 1146, 1147, 1148, 1662, 1663, 1664, 1665, 1666, 1667, 1668, 1669, 135, 137, 139, 1683, 1684, 1174, 1175, 1176, 1177, 1178, 1179, 1180, 1181, 670, 671, 672, 673, 674, 675, 676, 677, 678, 679, 680, 681, 1706, 171, 173, 1736, 690, 692, 693, 694, 695, 1720, 1721, 1213, 1214, 1215, 1216, 1217, 1218, 1219, 708, 709, 710, 711, 712, 713, 714, 715, 716, 717, 718, 1741, 1742, 1250, 1251, 1252, 1253, 1254, 1255, 744, 745, 746, 747, 748, 749, 750, 751, 752, 1777, 1778, 1779, 782, 783, 784, 785, 786, 1220, 347, 348, 349, 350, 351, 352, 353, 354, 355, 356, 367, 1256, 370, 371, 372, 385, 386, 387, 388, 389, 390, 391, 1772, 1735, 1718, 1774, 1775, 1776, 424, 425, 426, 1182, 1183, 1184, 1185, 1737, 1698, 1699, 1700, 1701, 1702, 1738, 1703, 1704, 1705]))\n",
      "(47, Set([933, 678, 138, 139, 13, 14, 934, 86, 537, 249, 1438, 31]), 66, Set([928, 577, 578, 1412, 1413, 1414, 973, 974, 1917, 1428, 924, 925, 1918, 1919]))\n",
      "(32, Set([2064, 2065, 1586, 1587, 2041, 2042, 2043, 2046, 2047]), 338, Set([1904, 1347, 1348, 1889, 1868, 1359, 1872, 1361, 1362, 1363, 1364, 1365, 1366, 1367, 1882, 1883, 1884, 1885, 1886, 1887, 1888, 1360, 1890, 1381, 1382, 1383, 1384, 1897, 1899, 1900, 1901, 878, 1903, 880]))\n",
      "(1041, Set([1152, 1673, 1674, 1169, 1188, 679, 680, 681, 682, 683, 684, 1710, 698, 699, 700, 701, 702, 716, 717, 718, 719, 720, 1112, 1113, 1114, 1115, 1116, 355, 356, 357, 358, 359, 360, 1130, 1131, 1132, 1133, 1134, 1656, 377, 1149, 1150, 1151]), 104, Set([1635, 1636, 1221, 1777, 1257, 1776, 1745, 1778, 1779, 1780, 1781, 1782]))\n",
      "(1840, Set([528, 529, 530, 531, 532, 533, 546, 547, 548, 549, 550, 551, 568, 572, 1978, 1473, 1991, 1993, 1997, 1855, 1856, 1351, 1352, 1353, 1354, 1355, 1873, 1874, 1875, 1371, 1372, 1373, 1374, 865, 866, 867, 868, 1390, 1392, 1393, 1394, 886, 887, 888, 1409, 1410, 1411, 1412, 1413, 1415, 905, 906, 907, 908, 909, 910, 1429, 1430, 1431, 923, 924, 925, 926, 927, 928, 929, 1955, 1956, 1957, 1958, 1959, 943, 944, 945, 946, 947, 948, 1973, 1974, 1975, 1976, 1977, 1466, 1468, 1469, 1470, 1471, 1472, 961, 962, 963, 964, 965, 966, 967, 968, 969, 1994, 1995, 1996, 1485, 1486, 1487, 1488, 1489, 1490, 1491, 1492, 982, 983, 984, 985, 986, 987, 1503, 1504, 1505, 1506, 1507, 1508, 1509, 1510, 1003, 1525]), 5495, Set([1792, 1793, 1367, 1848, 1883, 1331, 1885, 1886, 1122, 1125, 1846, 1127, 1645, 1845, 1828, 1159, 1160, 1161, 1162, 1163, 1164, 1679, 1680, 1681, 1682, 1683, 1684, 1685, 1686, 1687, 1688, 1194, 1195, 1196, 1197, 1198, 1199, 1200, 1201, 1202, 1715, 1716, 1717, 1718, 1719, 1720, 1721, 1722, 1723, 1724, 1725, 1312, 1826, 1230, 1231, 1232, 1233, 1234, 1235, 1236, 1237, 1238, 1751, 1752, 1753, 730, 1755, 732, 1757, 1758, 1759, 1760, 1761, 1830, 1829, 1267, 1268, 1269, 1270, 1271, 1272, 1273, 1274, 1853, 765, 766, 767, 768, 769, 1794, 1795, 1796, 1287, 1288, 1289, 1290, 1291, 1292, 1293, 1809, 1811, 1812, 1304, 1305, 1306, 1307, 1308, 1309, 1310, 1311, 800, 801, 802, 803, 804, 805, 806, 1831, 1832, 1756, 1884, 1323, 1324, 1325, 1326, 1327, 1328, 1329, 1330, 819, 820, 821, 822, 823, 824, 1849, 1850, 1851, 1852, 1341, 1342, 1343, 1344, 1345, 1346, 835, 1348, 837, 838, 839, 840, 841, 842, 843, 844, 1869, 1870, 1871, 1361, 1362, 1363, 1364, 1365, 1366, 855, 856, 857, 858, 859, 860, 861, 862, 1887, 1888, 1889, 1381, 1382, 875, 876, 877, 878, 879, 1847, 1347, 1349, 1863, 1864, 1865, 442, 1866, 1867, 1754, 1868, 464, 1817, 482, 484, 1789, 1790, 1791]))\n",
      "(846, Set([1152, 1923, 1924, 1925, 520, 522, 395, 396, 269, 270, 1709, 144, 17, 18, 916, 917, 918, 663, 792, 537, 538, 539, 540, 1437, 1439, 288, 1186, 35, 36, 933, 934, 935, 936, 1708, 557, 1710, 431, 432, 1224, 178, 179, 180, 1942, 1941, 1440, 1419, 1943, 1223, 72, 1420, 1421, 720, 1745, 1746, 1187, 341, 342, 87, 88, 89, 90, 1944, 16, 1188, 108, 1422, 755, 756, 1782, 250, 251, 252, 125, 126, 1151]), 174, Set([1803, 1801, 1802, 1227, 1261, 1262, 1263, 1838, 1783, 1784, 1785, 1839, 1820, 1821]))\n",
      "(1425, Set([1029, 1030, 1031, 1032, 1033, 1034, 11, 12, 13, 14, 15, 1552, 1553, 1554, 1555, 31, 32, 33, 34, 1572, 1573, 49, 50, 51, 52, 53, 54, 1035, 586, 1550, 599, 600, 601, 602, 603, 99, 100, 101, 102, 103, 104, 618, 619, 620, 621, 622, 623, 624, 118, 119, 120, 121, 122, 639, 640, 159, 160, 161, 162, 194, 195, 196, 197, 198, 1570, 211, 213, 214, 215, 216, 1242, 2002, 2003, 810, 280, 295, 296, 297, 298, 299, 300, 313, 314, 315, 316, 317, 318, 319, 335, 828, 413, 414, 449, 450, 2000, 2001, 466, 467, 468, 1011, 1012, 1013, 1014, 1551, 1533, 1534]), 52, Set([198, 1163, 1164, 1165, 1683, 1684, 414, 413, 734, 735]))\n",
      "(30, Set([1762, 356, 2027, 2028, 1074, 1075, 1204, 661, 1595, 1596]), 60, Set([1537, 1538, 1987, 1540, 1989, 1990, 1991, 1992, 1993, 1986, 1519, 1520, 1971, 1988]))\n",
      "(646, Set([384, 385, 386, 131, 132, 133, 134, 1217, 1803, 1802, 1628, 780, 781, 782, 655, 656, 401, 402, 149, 795, 785, 797, 798, 1248, 796, 1216, 1629, 1771, 1212, 1213, 1214, 1087, 1088, 1089, 1090, 1091, 708, 709, 1249, 1804, 1228, 1229, 1215, 1281, 725, 1626, 347, 348, 349, 1630, 352, 783, 1250, 1251, 1252, 1253, 1254, 657, 744, 745, 746, 747, 1627, 365, 366, 1263, 1264, 1265, 759, 760, 761, 762, 763, 784, 383]), 352, Set([18, 1309, 1310, 1311, 1312, 36, 1831, 1833, 52, 53, 54, 825, 826, 827, 1852, 195, 196, 197, 198, 72, 843, 844, 845, 465, 466, 467, 468, 214, 215, 216, 1850, 1851, 484, 485, 108, 1849]))\n",
      "(752, Set([1920, 1333, 1334, 1335, 1336, 1855, 1856, 1351, 1352, 1353, 1354, 1355, 1356, 1873, 1874, 1875, 1876, 1877, 1369, 1370, 1371, 1372, 1373, 866, 868, 869, 1894, 1895, 1896, 1897, 1898, 1899, 1390, 1392, 1393, 1394, 1912, 1914, 1915, 1916, 1917, 1918]), 94, Set([1536, 1537, 1538, 1551, 1552, 1554, 1555, 1952, 1954, 1969, 1970, 1986, 1987, 1988, 2002, 2003, 2004, 2020, 1516, 1518, 1521, 1534, 1535]))\n",
      "(46, Set([1666, 1667, 717, 1145, 1146, 1147, 1148]), 7061, Set([1536, 1027, 1028, 1029, 1030, 1031, 1032, 1033, 1549, 1550, 1551, 1552, 1553, 19, 1045, 1046, 1047, 1048, 1049, 1050, 1051, 1052, 1567, 1568, 1569, 1570, 1571, 1572, 1573, 1063, 1064, 1065, 1066, 1067, 1068, 1069, 560, 1585, 1586, 1587, 1588, 1589, 1590, 1081, 1082, 1084, 577, 578, 579, 580, 1605, 582, 1607, 1622, 2053, 595, 596, 597, 598, 599, 600, 601, 91, 92, 93, 94, 95, 613, 614, 615, 616, 617, 618, 619, 109, 110, 111, 112, 113, 631, 632, 633, 634, 635, 636, 637, 1999, 649, 650, 651, 652, 653, 163, 164, 165, 1207, 1208, 1209, 1210, 1729, 1730, 1731, 1732, 1243, 1244, 1245, 2000, 740, 1765, 1766, 1767, 1768, 1769, 2037, 256, 775, 776, 777, 271, 272, 273, 275, 289, 290, 291, 292, 293, 294, 2017, 307, 308, 309, 310, 311, 312, 313, 325, 326, 327, 328, 329, 330, 331, 332, 2018, 1603, 1945, 1604, 1946, 416, 418, 419, 1963, 1964, 1965, 1966, 2035, 2036, 1981, 1982, 1983, 1477, 1478, 1479, 1480, 973, 974, 975, 976, 2001, 2002, 1495, 1496, 1497, 991, 992, 993, 994, 2019, 2020, 2021, 1513, 1514, 1515, 1516, 1517, 1009, 1010, 1011, 1012, 1013, 1014, 2039, 2040, 1531, 1532, 1533, 1534]))\n",
      "(51, Set([131, 132, 1286, 777, 778, 779, 402, 439, 1246, 383]), 56, Set([718, 33, 929, 1152, 141, 14, 719, 245, 86, 247, 1432, 1433, 1151, 1674, 85]))\n",
      "(1214, Set([1865, 1867, 1894, 1881, 1883, 1318, 1319, 1321, 1884, 1886, 1335, 1336, 1337, 1338, 1339, 1340, 1341, 1342, 1343, 1859, 1860, 1861, 1862, 1352, 1353, 1354, 1355, 1356, 1357, 1358, 1359, 1360, 1361, 1362, 1363, 1876, 1877, 1878, 1879, 1880, 1369, 1882, 1371, 1372, 1885, 1374, 1375, 1376, 1377, 1887, 868, 869, 870, 871, 872, 873, 874, 1866, 1875, 1869]), 139, Set([933, 551, 553, 556, 951, 952, 953, 59, 1471, 1473, 1474, 1475, 1476, 967, 968, 970, 76, 77, 56, 57, 237, 238, 239, 240]))\n",
      "(96, Set([896, 1889, 514, 547, 516, 991, 973, 562, 878, 877, 1872, 561, 530, 531, 974, 563, 879, 1890, 894, 895]), 637, Set([1536, 1963, 1964, 1981, 1982, 1983, 1984, 1985, 1986, 973, 974, 975, 1495, 1496, 1497, 1499, 991, 1513, 1514, 1515, 1516, 1517, 1009, 1010, 1011, 1531, 1532, 1533, 1534]))\n",
      "(30, Set([742, 1801, 758, 793, 345, 1246]), 74, Set([1955, 1512, 1998, 1974, 1975, 1976, 1977, 1978, 1979, 1980]))\n",
      "(48, Set([1368, 1890, 1366, 1367]), 141, Set([1129, 679, 521, 1110, 678, 231, 232, 233, 522, 519, 141, 520, 50, 51, 373, 374, 375, 680, 1111, 157, 1925]))\n",
      "(18, Set([1912, 1913, 1891, 1894, 1911]), 5256, Set([512, 513, 514, 515, 1964, 524, 525, 526, 527, 528, 529, 530, 531, 541, 542, 543, 544, 545, 546, 547, 559, 560, 561, 562, 565, 1834, 59, 61, 1963, 1946, 79, 1863, 1846, 1945, 204, 206, 1371, 219, 220, 221, 222, 223, 224, 225, 226, 237, 238, 239, 240, 241, 242, 243, 244, 245, 253, 254, 255, 256, 257, 258, 1835, 260, 1291, 1816, 1306, 1307, 1308, 1309, 1310, 1311, 1312, 1828, 1829, 1830, 1831, 1832, 1833, 1322, 1323, 1324, 1325, 1326, 1327, 1328, 1329, 1330, 1844, 1845, 822, 1847, 1848, 1849, 1850, 1339, 1852, 1341, 1342, 1343, 1344, 1345, 1346, 1347, 836, 837, 838, 839, 840, 1865, 1866, 843, 1868, 1869, 1870, 1871, 851, 853, 854, 855, 856, 857, 858, 859, 860, 861, 1851, 1853, 870, 871, 872, 873, 874, 875, 876, 1391, 1392, 1393, 884, 885, 886, 887, 888, 889, 890, 891, 892, 893, 1408, 1409, 1410, 902, 903, 904, 905, 906, 907, 908, 909, 919, 920, 921, 922, 923, 924, 925, 1442, 1947, 937, 938, 939, 940, 1965, 943, 1864, 1459, 1460, 1461, 1462, 955, 956, 957, 958, 959, 1885, 1867, 1477, 1478, 1479, 1480, 973, 974, 975, 1495, 473, 474, 475, 476, 477, 478, 480, 489, 490, 491, 492, 493, 494, 495, 496, 497, 498, 1363, 506, 507, 508, 509, 510, 511]))\n",
      "(17, Set([1658, 1675, 1711, 1118, 1639]), 14194, Set([1792, 1707, 1756, 1793, 1708, 1794, 1795, 1831, 1796, 1797, 1798, 1799, 1835, 1800, 1726, 1758, 1724, 1206, 1720, 1109, 1110, 1111, 1112, 1113, 1114, 1115, 1116, 1722, 1759, 1723, 1128, 1129, 1130, 1131, 1132, 1133, 1134, 1725, 1650, 1651, 1652, 1653, 1654, 1655, 1656, 1146, 1148, 1149, 1150, 1151, 1152, 1669, 1670, 1671, 1672, 1673, 1674, 1163, 1164, 1165, 1166, 1167, 1168, 1169, 1170, 1685, 1686, 1687, 1688, 1689, 1690, 1691, 1692, 1818, 679, 680, 681, 682, 683, 684, 1710, 1199, 1200, 1201, 1202, 1203, 1204, 1205, 694, 696, 697, 698, 699, 700, 701, 702, 1727, 1728, 1314, 1233, 1234, 1235, 1236, 1237, 1238, 1239, 1240, 1241, 1242, 731, 732, 733, 734, 735, 736, 737, 738, 1763, 1764, 1830, 1829, 1866, 1832, 1268, 1270, 1271, 1272, 1273, 1274, 1275, 1276, 1277, 1278, 767, 768, 769, 770, 771, 772, 773, 774, 1287, 1288, 1289, 1290, 1291, 1292, 1293, 1294, 1295, 1296, 1809, 1810, 1811, 1812, 1813, 1814, 1815, 1816, 1817, 1306, 1307, 1308, 1309, 1310, 1311, 1312, 1313, 802, 803, 804, 805, 806, 807, 808, 809, 810, 1834, 1324, 1325, 1326, 1757, 1328, 1329, 1330, 1331, 821, 822, 823, 824, 825, 826, 827, 828, 1853, 1854, 1845, 1760, 1833, 1846, 1761, 840, 841, 842, 1847, 1868, 1762, 1870, 1871, 1848, 1849, 1850, 1851, 358, 1836, 1852, 374, 375, 376, 409, 410, 411, 413, 1828, 1865, 443, 445, 446, 1827, 448, 449, 450, 1867, 1826, 1869, 1721, 1705]))\n",
      "(4237, Set([512, 513, 514, 515, 516, 517, 1031, 1032, 1033, 1034, 1035, 1036, 1554, 1550, 527, 529, 530, 531, 532, 533, 534, 535, 1049, 538, 1051, 1052, 1029, 1569, 1570, 547, 548, 549, 550, 551, 552, 553, 554, 564, 565, 566, 567, 568, 569, 570, 571, 572, 64, 66, 580, 581, 582, 583, 584, 585, 586, 587, 588, 80, 81, 82, 83, 84, 597, 599, 600, 601, 602, 603, 604, 99, 101, 1553, 616, 617, 618, 619, 620, 621, 622, 1555, 2022, 1050, 1571, 1572, 1573, 228, 1574, 241, 242, 243, 244, 245, 246, 247, 248, 2004, 1920, 258, 259, 260, 261, 262, 263, 264, 265, 266, 276, 277, 278, 279, 280, 281, 282, 283, 284, 2038, 293, 294, 295, 296, 297, 298, 299, 1588, 315, 1589, 2040, 2023, 2020, 2021, 1380, 1381, 1382, 1383, 1899, 1901, 1902, 1903, 1904, 1905, 1906, 1396, 1397, 1398, 1399, 1400, 1401, 892, 893, 894, 895, 896, 1413, 1414, 1415, 1416, 1417, 1418, 907, 908, 909, 910, 911, 912, 913, 914, 1430, 1432, 924, 925, 926, 927, 928, 929, 930, 931, 932, 943, 945, 946, 949, 1470, 962, 963, 964, 965, 966, 967, 2039, 2000, 2001, 2002, 2003, 980, 2005, 2041, 984, 2017, 2018, 2019, 996, 997, 998, 999, 495, 496, 1014, 1015, 1016, 1017, 510, 511]), 8631, Set([1732, 1698, 1177, 29, 31, 32, 33, 1740, 49, 51, 52, 862, 54, 1180, 1775, 864, 1247, 1293, 1106, 1108, 1109, 1110, 1209, 1112, 1295, 1210, 1736, 1296, 1211, 1128, 1129, 1131, 1138, 1140, 1141, 1142, 1143, 1144, 1145, 1146, 1147, 1148, 1149, 1150, 1663, 1664, 1216, 1666, 1667, 134, 135, 136, 137, 138, 139, 140, 141, 142, 143, 1731, 1174, 1175, 1176, 153, 154, 155, 156, 157, 158, 159, 160, 161, 162, 675, 676, 677, 678, 679, 680, 681, 682, 171, 173, 174, 175, 176, 177, 1203, 692, 693, 694, 695, 696, 697, 698, 699, 700, 1213, 1214, 1215, 192, 193, 194, 195, 196, 197, 198, 711, 712, 713, 714, 715, 716, 717, 718, 719, 214, 215, 729, 730, 731, 732, 733, 734, 735, 736, 737, 738, 1251, 1253, 742, 743, 744, 745, 746, 747, 748, 749, 750, 751, 752, 753, 1696, 1276, 1834, 1278, 767, 768, 1212, 770, 771, 772, 773, 774, 1665, 781, 782, 783, 784, 785, 1765, 708, 1815, 1294, 1311, 1312, 1313, 1314, 806, 807, 808, 809, 810, 1835, 1836, 1330, 1766, 709, 1332, 1246, 823, 824, 825, 826, 827, 828, 1853, 1854, 1248, 1163, 1349, 1249, 1164, 842, 843, 844, 845, 846, 1165, 710, 1178, 1733, 1699, 349, 350, 351, 352, 353, 354, 355, 356, 357, 358, 359, 1852, 1767, 1768, 368, 369, 370, 371, 372, 373, 374, 375, 376, 377, 1772, 1770, 383, 1218, 385, 386, 387, 388, 389, 390, 391, 392, 393, 394, 395, 1735, 1773, 1774, 406, 407, 408, 409, 410, 411, 412, 413, 414, 1179, 422, 423, 424, 425, 426, 428, 1739, 1181, 1250, 1182, 1769, 1183, 444, 445, 446, 447, 448, 449, 450, 1697, 1737, 674, 465, 466, 467, 468, 1700, 1701, 1702, 486, 1738, 1703, 1771, 1704, 1217, 1734]))\n",
      "(393, Set([514, 1412, 1413, 262, 1415, 1416, 1417, 907, 1420, 909, 910, 911, 528, 913, 530, 531, 532, 533, 534, 1943, 1432, 1434, 1435, 1436, 1437, 926, 927, 928, 929, 930, 931, 932, 549, 551, 1453, 1457, 1438, 55, 56, 57, 1439, 914, 1440, 1419, 199, 1944, 1942, 217, 218, 220, 221, 1938, 912, 1414, 235, 236, 237, 238, 239, 509, 510, 1941]), 929, Set([1707, 788, 789, 790, 791, 792, 665, 1093, 1776, 1094, 1223, 1778, 1224, 1078, 1079, 1080, 1219, 1220, 1221, 1222, 1095, 1096, 1097, 1098, 1739, 1740, 1741, 1742, 1743, 1616, 1617, 1618, 1619, 1620, 1633, 1634, 1635, 1636, 1637, 1638, 1255, 1256, 1257, 1258, 1259, 1260, 1775, 752, 1777, 754, 1779, 1780, 1781, 1782, 2069]))\n",
      "(272, Set([1152, 1671, 1672, 1673, 1674, 395, 144, 681, 682, 683, 684, 719, 720, 1113, 1114, 1115, 1116, 359, 360, 1133, 1653, 378, 1149, 1150, 1151]), 244, Set([1880, 1862, 1331, 1852, 1853, 1854, 1861, 1350, 1863, 1864, 1865, 1867, 1868, 1869, 1358, 1871, 1872, 1363, 1876, 1870, 1878, 1879, 1368, 1881, 1882, 1883, 1884, 1885, 1886, 1887, 1888, 1889, 1890]))\n",
      "(9, Set([1962, 1476]), 63, Set([1648, 1126, 1161, 1196, 1806, 1231, 1232, 1649, 1266, 1683, 1684, 1719, 1753, 1647, 1789, 798]))\n",
      "(451, Set([2053, 2054, 2055, 2056, 649, 19, 416, 1063, 1585, 2057, 1081, 1082, 1083, 1603, 1604, 1605, 1606, 1621, 1622, 1623, 1624, 1244, 1246, 2035, 2036, 2037]), 18467, Set([1280, 1281, 1688, 1282, 1197, 1747, 1283, 21, 1284, 1199, 1285, 1200, 1757, 37, 38, 39, 40, 43, 1297, 1202, 1203, 1204, 1792, 693, 1758, 1724, 694, 1750, 1712, 695, 696, 1123, 1806, 697, 1713, 698, 1725, 1798, 699, 1124, 1125, 1126, 1127, 1128, 1129, 1130, 1131, 1132, 1134, 1647, 1795, 1650, 1299, 1652, 702, 1654, 1655, 1656, 1794, 1727, 1726, 1711, 1153, 1154, 131, 1156, 133, 1158, 1159, 1160, 1161, 1162, 1163, 1164, 1165, 1166, 1167, 1168, 145, 146, 147, 148, 149, 150, 151, 152, 1689, 1690, 1691, 668, 1791, 1651, 674, 1225, 1189, 1190, 1191, 1192, 1193, 1194, 1195, 1196, 685, 1198, 687, 688, 689, 690, 691, 692, 181, 182, 183, 184, 185, 186, 187, 188, 1226, 190, 1653, 1728, 1227, 199, 200, 201, 202, 203, 1228, 1229, 1230, 1231, 1232, 721, 722, 723, 724, 725, 726, 727, 728, 729, 730, 731, 732, 733, 734, 735, 736, 1761, 1762, 1763, 1764, 1205, 1201, 1754, 1234, 1262, 1263, 1264, 1265, 1266, 1235, 1268, 757, 758, 759, 760, 761, 762, 763, 764, 765, 766, 767, 768, 769, 770, 771, 1236, 1238, 1286, 1270, 1239, 1804, 1788, 1720, 1240, 1298, 1155, 1300, 1796, 1241, 1304, 793, 794, 795, 796, 797, 798, 799, 800, 801, 802, 803, 804, 805, 806, 1751, 1756, 811, 812, 813, 814, 815, 816, 817, 818, 819, 820, 1715, 822, 1717, 1681, 1759, 829, 830, 832, 1760, 835, 1267, 1170, 1714, 1677, 848, 1799, 1716, 1233, 1678, 1682, 343, 1679, 350, 353, 1748, 1169, 361, 362, 363, 364, 365, 366, 367, 368, 369, 370, 371, 1683, 373, 1684, 1206, 1680, 1686, 1687, 1752, 397, 398, 399, 400, 401, 402, 403, 404, 405, 406, 407, 408, 409, 1271, 1722, 1787, 1723, 1692, 1753, 1237, 1719, 1685, 433, 434, 435, 436, 437, 438, 439, 440, 441, 442, 443, 1797, 1269, 1157, 451, 452, 453, 454, 455, 456, 457, 458, 459, 460, 1718, 1793, 463, 1784, 470, 1785, 473, 1786, 1646, 1275, 1755, 1721, 1783, 1789, 1261, 1790, 1279, 1749]))\n",
      "(146, Set([1477, 1478, 1480, 1481, 973, 974, 975, 976, 977, 1461, 1463, 1464, 1465, 1498, 955, 956, 957]), 7188, Set([1024, 1025, 1026, 2051, 2052, 1040, 1544, 1545, 1037, 526, 527, 528, 529, 530, 531, 532, 533, 2070, 1562, 1563, 1564, 1565, 1566, 1056, 545, 546, 547, 548, 549, 550, 551, 552, 553, 1579, 1580, 1581, 1582, 1583, 1584, 1076, 565, 566, 567, 568, 569, 570, 571, 572, 1597, 1598, 1599, 1600, 1601, 1602, 1097, 586, 587, 588, 589, 590, 591, 592, 593, 594, 1619, 84, 85, 1039, 605, 606, 607, 608, 609, 610, 611, 612, 1637, 102, 103, 104, 105, 106, 107, 1042, 1930, 623, 624, 625, 626, 627, 628, 629, 630, 1937, 1044, 123, 125, 126, 2069, 2067, 642, 643, 644, 645, 646, 647, 648, 1931, 2050, 663, 664, 665, 666, 2068, 1041, 1080, 1057, 1058, 1059, 2066, 1060, 1061, 1638, 1062, 1934, 259, 260, 261, 262, 263, 264, 279, 280, 281, 282, 283, 284, 285, 286, 1414, 299, 300, 301, 302, 303, 304, 305, 306, 1929, 316, 317, 318, 319, 320, 321, 322, 323, 324, 1078, 1932, 1079, 1933, 336, 337, 339, 340, 341, 342, 1423, 1891, 1892, 1893, 1894, 1895, 1896, 1897, 1388, 1389, 1390, 1393, 1909, 1910, 1911, 1912, 1913, 1914, 1915, 1916, 1405, 1406, 1407, 1408, 1409, 1410, 1411, 1412, 1413, 902, 1415, 1928, 905, 906, 907, 908, 909, 910, 911, 1424, 1425, 1426, 1427, 1428, 1429, 1430, 1431, 1432, 922, 923, 924, 925, 926, 927, 928, 929, 930, 1446, 940, 942, 943, 944, 945, 946, 947, 1098, 961, 962, 963, 964, 965, 966, 967, 1038, 1485, 1077, 1618, 985, 2012, 2014, 1616, 1043, 1511, 1002, 1003, 1004, 1005, 1006, 1007, 1008, 2033, 2034, 1620, 2032, 1927, 1021, 1022, 1023]))\n",
      "(1685, Set([1027, 1028, 1029, 1030, 1031, 1032, 1715, 1549, 1550, 1551, 1552, 1553, 1045, 1046, 1047, 1048, 1049, 1050, 1051, 1568, 1569, 1570, 1571, 1064, 1065, 1066, 1067, 1714, 1587, 1588, 596, 597, 598, 599, 1121, 1122, 1123, 613, 614, 615, 616, 617, 618, 111, 112, 113, 114, 631, 632, 633, 634, 635, 637, 130, 131, 132, 133, 1158, 1159, 1161, 653, 1678, 1679, 1680, 1681, 1682, 165, 166, 167, 168, 169, 688, 689, 690, 691, 1716, 1717, 1718, 1719, 725, 726, 728, 1156, 1157, 291, 292, 293, 294, 307, 308, 309, 310, 312, 313, 326, 327, 328, 329, 330, 345, 346, 347, 348, 365, 366, 382, 383, 384, 417, 418, 420, 2000, 2001, 2002, 1532, 1533, 1534]), 1487, Set([2048, 2049, 2050, 1539, 1540, 1541, 1542, 1543, 1544, 1039, 1040, 1042, 2051, 2068, 2069, 1559, 1560, 1561, 1562, 1563, 1057, 1058, 1059, 1060, 1061, 2047, 1578, 1579, 1580, 1581, 1582, 1075, 1076, 1077, 1078, 1079, 1596, 1597, 1598, 1599, 1600, 1601, 1602, 1095, 1096, 1098, 1614, 1615, 1616, 1617, 1618, 1619, 1620, 1634, 1635, 1636, 1637, 1638, 2066, 2067, 645, 2052, 1022, 1521, 1522, 1971, 1972, 1973, 1974, 1975, 1989, 1990, 1991, 1992, 1993, 2012, 1504, 1506, 1001, 2030, 2031, 2032, 2033, 2034, 1523, 1524, 1525, 1526, 1527, 1017, 1018, 1019, 1020, 1021, 2046, 1023]))\n",
      "(1628, Set([9, 10, 11, 12, 13, 14, 15, 16, 17, 18, 24, 26, 27, 28, 29, 30, 31, 32, 33, 34, 35, 36, 41, 43, 44, 45, 46, 47, 48, 49, 648, 52, 53, 54, 70, 71, 72, 84, 88, 89, 90, 103, 104, 105, 106, 107, 108, 628, 629, 630, 121, 122, 123, 124, 125, 126, 646, 136, 143, 145, 146, 147, 149, 150, 151, 152, 153, 154, 155, 156, 157, 161, 174, 178, 179, 180, 181, 182, 183, 184, 185, 186, 187, 188, 189, 191, 198, 205, 208, 757, 758, 759, 250, 555, 793, 285, 286, 287, 288, 303, 304, 305, 306, 320, 321, 322, 323, 324, 338, 339, 340, 341, 342, 396, 397, 398, 399, 400, 401, 413, 431, 432, 433, 434, 435, 436, 437, 451, 453, 664]), 12955, Set([1536, 1537, 1538, 1027, 1028, 1029, 1030, 1031, 1032, 1033, 1034, 1035, 1036, 1037, 1550, 1551, 1552, 1553, 1554, 1555, 1556, 1557, 1046, 1047, 1048, 1049, 1050, 1051, 1052, 1053, 1054, 1055, 1568, 1569, 1570, 1571, 1572, 1573, 1574, 1063, 1064, 1065, 1066, 1067, 1068, 1069, 1070, 1071, 1072, 1073, 1074, 1587, 1588, 1589, 1590, 1591, 1592, 1593, 1594, 1595, 1084, 1085, 1086, 1087, 1088, 1089, 1090, 1091, 1092, 1093, 1094, 1607, 1608, 1609, 1610, 1611, 1612, 1613, 1614, 1549, 595, 597, 598, 599, 600, 601, 602, 1627, 1628, 1629, 1630, 1631, 1632, 1633, 1634, 614, 615, 616, 617, 618, 619, 620, 621, 622, 633, 634, 635, 636, 637, 638, 639, 640, 641, 642, 1558, 1671, 1624, 652, 653, 654, 655, 656, 657, 658, 659, 660, 1181, 1182, 1183, 1184, 1703, 1704, 1705, 1706, 1707, 1708, 1709, 1737, 1567, 1213, 1214, 1215, 1216, 1217, 1218, 1219, 1220, 1221, 1575, 1738, 1739, 1740, 1741, 1742, 1743, 1744, 1745, 2063, 1246, 1248, 1249, 1250, 1251, 1252, 1253, 1254, 1255, 1256, 1257, 1258, 747, 748, 749, 1774, 1775, 1776, 1576, 1778, 1779, 1780, 1781, 1577, 2037, 2006, 779, 780, 781, 782, 783, 784, 785, 786, 787, 788, 1669, 291, 1585, 1586, 328, 330, 333, 2019, 2040, 2060, 1596, 1597, 2058, 2041, 2007, 2025, 2026, 1771, 1772, 1773, 2059, 2008, 2062, 1605, 1606, 422, 1777, 1964, 1965, 1966, 2043, 2036, 1981, 1982, 1983, 1984, 1985, 2038, 2064, 2018, 2039, 2061, 2044, 974, 1999, 2000, 2001, 2002, 2003, 2004, 2005, 1626, 1495, 1496, 1497, 1498, 1615, 2042, 992, 993, 994, 995, 2020, 2021, 2022, 2023, 2024, 1513, 1514, 1515, 1516, 1517, 1518, 1519, 1520, 1009, 1010, 1011, 1012, 1013, 1014, 1015, 1016, 1017, 1018, 1531, 1532, 1533, 1534, 1535]))\n",
      "(18, Set([1696, 709, 390, 175, 1177, 123, 389]), 10214, Set([515, 516, 517, 518, 519, 520, 521, 522, 1367, 1368, 536, 1883, 1884, 1885, 1886, 1887, 1888, 70, 1889, 1890, 1852, 1385, 1386, 1900, 1901, 1902, 1903, 1904, 1905, 1906, 1404, 216, 227, 228, 229, 230, 231, 232, 233, 234, 1870, 247, 1853, 1922, 1924, 1311, 1312, 1313, 1314, 1836, 1325, 1326, 1327, 1328, 1329, 1330, 1331, 1332, 1848, 1849, 1340, 1341, 1342, 1343, 1344, 1345, 1346, 1347, 1348, 1349, 1350, 839, 840, 841, 842, 843, 844, 845, 846, 1359, 1360, 1361, 1362, 1363, 1364, 1365, 1366, 855, 856, 857, 858, 859, 860, 861, 862, 863, 864, 1377, 1378, 1379, 1380, 1381, 1382, 1383, 1384, 873, 874, 875, 876, 877, 878, 879, 880, 881, 882, 1907, 1908, 1397, 1398, 1399, 1400, 1401, 1402, 1403, 892, 893, 894, 895, 896, 897, 898, 899, 900, 1925, 1416, 1419, 1420, 911, 912, 913, 914, 915, 916, 917, 918, 1872, 936, 1864, 1865, 1866, 1867, 1868, 1869, 1358, 1854, 1871, 478, 479, 480, 481, 482, 483, 484, 485, 486, 496, 497, 498, 499, 500, 501, 502, 503, 504]))\n",
      "(238, Set([1366, 1671, 486, 1367, 140, 141, 142, 159, 160, 1185, 680, 1707, 863, 844, 717, 213, 214, 215, 1368, 485, 1384, 482, 699, 484, 357, 358, 1383, 232, 1385, 1386, 880, 881, 502, 503, 1148, 1149, 1150]), 122, Set([1921, 1922, 1923, 1924, 1925, 1926, 1904, 1905, 1906, 1907, 1908, 1402]))\n",
      "(142, Set([1024, 1025, 1026, 1958, 1510, 1511, 1960, 1547, 1548, 1007, 1491, 1959, 1977, 1530, 1979, 1980, 1978, 1566]), 1880, Set([1880, 55, 1845, 1824, 1848, 1827, 1828, 1829, 1830, 1831, 1834, 811, 1288, 812, 813, 1297, 1298, 1299, 1300, 1301, 1302, 1303, 1304, 1305, 1306, 1307, 1308, 1309, 1310, 1311, 1312, 1825, 1826, 1315, 1316, 1317, 1318, 1319, 1320, 1321, 1322, 1323, 1324, 1325, 1326, 1327, 1328, 817, 1842, 1843, 1844, 1333, 1846, 1847, 1336, 1849, 1338, 1851, 1340, 829, 830, 831, 832, 833, 834, 835, 836, 837, 838, 1863, 1864, 1865, 1866, 1867, 1868, 1869, 1870, 847, 848, 849, 850, 852, 854, 855, 856, 1883, 860, 1850, 1889, 1853, 1852, 1341, 1342, 1343, 1854, 1860, 1861, 1862, 451, 452, 453, 469, 470, 471, 1871, 1840, 1872, 488, 1329, 1841]))\n",
      "(304, Set([1540, 1541, 1542, 2062, 2063, 2064, 1558, 1559, 1561, 1577, 2007, 2008, 2009, 2010, 1630, 2026, 2027, 2028, 2042, 2043, 2044, 2045, 2046]), 24028, Set([7, 8, 9, 10, 64, 65, 66, 78, 79, 80, 81, 82, 83, 84, 85, 86, 87, 89, 97, 98, 99, 100, 101, 102, 103, 104, 114, 115, 116, 117, 118, 119, 120, 121, 170, 171, 172, 240, 241, 242, 243, 244, 245, 246, 247, 248, 249, 250, 256, 257, 258, 259, 260, 261, 262, 263, 264, 265, 266, 267, 268, 269, 275, 276, 277, 278, 279, 280, 281, 282, 283, 284, 285, 286, 293, 294, 295, 296, 297, 298, 299, 300, 301, 302, 312, 313, 314, 315, 316, 317, 318, 319, 330, 331, 332, 333, 334, 335, 336, 337, 338, 386, 387, 389, 391, 419, 420, 421, 422, 423, 424, 425, 426, 428, 510, 512, 513, 514, 515, 516, 517, 518, 519, 527, 528, 529, 530, 531, 532, 533, 534, 535, 536, 537, 538, 540, 543, 544, 545, 546, 547, 548, 549, 550, 551, 552, 553, 554, 555, 556, 557, 562, 563, 564, 565, 566, 567, 568, 569, 570, 571, 572, 573, 574, 575, 580, 581, 582, 583, 584, 585, 586, 587, 588, 589, 590, 591, 592, 593, 601, 602, 603, 604, 605, 606, 609, 610, 618, 619, 620, 621, 622, 623, 624, 625, 626, 636, 637, 638, 639, 640, 641, 642, 643, 644, 652, 653, 654, 655, 656, 657, 658, 659, 660, 661, 662, 744, 745, 746, 747, 748, 749, 750, 779, 780, 781, 782, 783, 784, 785, 786, 787, 891, 892, 893, 895, 898, 906, 907, 908, 909, 910, 911, 912, 913, 914, 915, 916, 921, 923, 924, 925, 926, 927, 928, 929, 930, 931, 932, 933, 934, 935, 936, 940, 941, 942, 943, 944, 945, 946, 947, 948, 949, 950, 951, 952, 953, 958, 959, 960, 961, 962, 963, 964, 965, 966, 967, 968, 969, 970, 971, 972, 975, 977, 978, 979, 980, 981, 982, 983, 984, 985, 986, 987, 988, 997, 998, 999, 1000, 1001, 1002, 1003, 1004, 1005, 1006, 1021, 1037, 1051, 1053, 1054, 1055, 1056, 1057, 1066, 1067, 1068, 1069, 1070, 1071, 1072, 1073, 1074, 1075, 1085, 1086, 1087, 1088, 1089, 1090, 1091, 1092, 1093, 1211, 1212, 1213, 1214, 1215, 1216, 1217, 1218, 1219, 1246, 1247, 1248, 1249, 1250, 1251, 1252, 1253, 1254, 1255, 1256, 1393, 1396, 1399, 1410, 1411, 1412, 1413, 1414, 1415, 1416, 1417, 1418, 1419, 1420, 1421, 1426, 1427, 1428, 1429, 1430, 1431, 1432, 1433, 1434, 1435, 1436, 1437, 1438, 1439, 1445, 1446, 1447, 1448, 1449, 1450, 1451, 1452, 1453, 1454, 1455, 1456, 1457, 1462, 1463, 1464, 1465, 1466, 1467, 1468, 1469, 1470, 1471, 1472, 1473, 1474, 1475, 1480, 1481, 1482, 1483, 1484, 1485, 1486, 1487, 1488, 1489, 1490, 1491, 1492, 1500, 1502, 1503, 1504, 1505, 1506, 1507, 1508, 1521, 1524, 1590, 1592, 1593, 1594, 1608, 1609, 1610, 1611, 1612, 1613, 1626, 1627, 1628, 1629, 1630, 1631, 1632, 1633, 1695, 1734, 1735, 1736, 1737, 1738, 1739, 1768, 1769, 1770, 1771, 1772, 1773, 1774, 1775, 1776, 1918, 1920, 1921, 1922, 1923, 1933, 1934, 1935, 1936, 1937, 1938, 1939, 1940, 1941, 1949, 1950, 1951, 1952, 1953, 1954, 1955, 1956, 1957, 1958, 1959, 1969, 1970, 1971, 1972, 1973, 1974, 1977]))\n",
      "(31, Set([1440, 1926, 1944, 1925, 1422]), 533, Set([1408, 901, 902, 1927, 1928, 1929, 1930, 523, 1932, 1933, 1423, 1424, 1425, 1426, 1427, 1428, 919, 920, 921, 1450, 1441, 1442, 1443, 1444, 1445, 1446, 937, 938, 939, 940, 1459, 1460, 1461, 1463, 1931, 1909, 1911, 1912, 1405, 1406, 1407]))\n",
      "(1084, Set([1280, 1281, 1282, 1283, 1857, 1801, 1802, 1803, 1804, 1805, 1806, 1837, 1297, 1298, 1299, 1300, 1301, 793, 794, 795, 796, 1821, 1822, 1819, 1316, 1820, 812, 813, 1838, 1711, 1840, 1841, 1842, 1839, 1858, 1859, 1225, 1226, 1228, 1747, 1748, 1878, 1261, 1262, 1263, 1264, 1265, 1783, 1784, 1785, 1279]), 97, Set([1408, 1441, 1442, 1891, 901, 1927, 1928, 937, 1387, 1423, 1909, 1910, 1929, 920, 1405, 1406]))\n",
      "(22, Set([1796, 1797, 1798, 1799, 1800, 1812, 1814, 1274, 1275]), 3111, Set([1, 2, 3, 4, 5, 6, 7, 1032, 1033, 1034, 1035, 1036, 1037, 1038, 1039, 1554, 19, 20, 21, 22, 23, 24, 1540, 1050, 1052, 1053, 1541, 1572, 37, 38, 39, 40, 41, 42, 1031, 605, 1544, 1555, 606, 55, 56, 57, 58, 1538, 582, 583, 584, 585, 586, 1537, 599, 600, 601, 602, 603, 92, 93, 94, 95, 96, 97, 98, 617, 618, 619, 620, 621, 110, 111, 112, 113, 114, 115, 1556, 637, 1557, 128, 129, 1558, 1559, 1539, 145, 146, 147, 148, 149, 150, 1989, 164, 1190, 181, 182, 183, 184, 185, 199, 200, 201, 721, 604, 1542, 1575, 1576, 757, 758, 1577, 622, 1560, 1543, 279, 793, 794, 292, 293, 294, 295, 296, 297, 299, 812, 309, 310, 311, 312, 313, 314, 315, 364, 397, 398, 399, 400, 433, 434, 435, 1225, 451, 452, 453, 2007, 1503, 997, 998, 999, 1000, 1001, 1002, 1519, 1520, 1521, 1522, 1523, 1524, 1014, 1015, 1016, 1017, 1018, 1019, 1020, 1021]))\n",
      "(184, Set([134, 8, 94, 273, 274, 275, 1650, 24, 25, 26, 6, 1649, 114, 560, 1459, 693, 694, 695, 955, 76, 1109, 350, 351, 352, 1126, 1127, 1128, 1129, 367, 369, 370, 1651]), 24, Set([450, 774, 810, 738, 1296, 1206, 1242, 828]))\n",
      "(96, Set([544, 545, 546, 1003, 1002, 523, 1548, 983, 920, 979, 980, 565, 982, 919, 568, 921, 981, 1023, 1547, 543]), 32, Set([1153, 1154, 685, 1712, 1713, 343]))\n",
      "(612, Set([1153, 1154, 1155, 1156, 1157, 1675, 1677, 1678, 1679, 1680, 1681, 1682, 667, 668, 669, 1189, 1194, 685, 686, 687, 1713, 1714, 1715, 1716, 1717, 1718, 1719, 1720, 1721, 1099, 1100, 721, 722, 723, 343, 345, 1117, 1118, 1119, 1121, 1639, 361, 362]), 24, Set([1819, 1803, 1804, 1805]))\n",
      "(68, Set([1280, 1801, 1802, 1261, 1297, 1298, 1819, 1279]), 112, Set([1344, 1345, 1346, 1347, 1935, 1934, 1933, 877, 878, 499, 1362, 1331, 1332, 1397, 1364, 879, 1853, 1854]))\n",
      "(442, Set([1216, 1217, 1708, 1549, 785, 786, 1045, 1047, 1048, 1567, 1568, 1569, 1570, 1707, 1068, 1070, 1586, 1587, 1588, 1589, 1084, 1214, 1087, 1088, 1089, 1218, 1219, 1220, 1608, 1609, 1739, 1740, 1741, 1742, 1743, 1999, 1251, 1252, 1253, 1254, 1255, 1773, 1774, 1775, 1776, 1777, 1778, 1780, 1086]), 8602, Set([1792, 1195, 1793, 1196, 1794, 1271, 1283, 1717, 1199, 1786, 1712, 1757, 1723, 1201, 1655, 1714, 1229, 1203, 1204, 1205, 1758, 1724, 1718, 1788, 1719, 1230, 1720, 1123, 1110, 1111, 1112, 1113, 1114, 1115, 1116, 1722, 699, 1124, 1125, 1126, 1127, 1128, 700, 1130, 1131, 1132, 1133, 1231, 1652, 1129, 1147, 1148, 1149, 1150, 1151, 1152, 1155, 132, 1157, 1158, 1159, 1160, 137, 138, 139, 140, 141, 142, 143, 1168, 1169, 1170, 1683, 1232, 1685, 1686, 1687, 1688, 1689, 157, 158, 672, 1186, 675, 676, 677, 678, 679, 680, 681, 682, 683, 684, 1197, 1198, 687, 1200, 689, 1202, 691, 692, 693, 694, 695, 696, 697, 698, 187, 188, 701, 702, 194, 1227, 1268, 1228, 714, 715, 716, 717, 718, 719, 720, 1233, 1234, 723, 724, 725, 726, 727, 728, 729, 730, 731, 732, 733, 734, 735, 736, 737, 738, 1795, 1261, 1262, 1263, 1264, 1265, 1266, 1235, 756, 1269, 758, 759, 760, 761, 762, 763, 764, 765, 766, 767, 768, 769, 1282, 771, 1236, 1285, 1286, 1287, 1288, 1801, 1802, 1751, 1808, 1752, 1748, 1753, 1156, 794, 796, 797, 798, 799, 800, 801, 802, 803, 1756, 812, 815, 817, 818, 820, 1715, 1161, 1681, 1759, 1162, 1163, 1164, 1784, 1165, 1750, 1716, 1166, 1682, 1167, 351, 353, 354, 355, 356, 357, 358, 359, 360, 365, 366, 367, 368, 369, 370, 371, 372, 373, 374, 375, 376, 377, 378, 1680, 392, 393, 394, 395, 396, 399, 400, 401, 402, 403, 404, 405, 406, 407, 408, 409, 410, 411, 412, 413, 1237, 431, 1267, 436, 437, 438, 439, 440, 441, 442, 443, 1270, 1754, 459, 1713, 1272, 1187, 1785, 1226, 1188, 1684, 1676, 1823, 1787, 1190, 1755, 1721, 1191, 1783, 1789, 1192, 1790, 1193, 1791, 1749, 1194]))\n",
      "(511, Set([1792, 1793, 1794, 1286, 1287, 1288, 1807, 1808, 1809, 1810, 1811, 1684, 1813, 803, 1828, 1198, 1718, 1719, 1720, 1721, 1722, 1723, 1232, 1233, 1234, 1235, 1754, 1755, 1756, 1757, 1758, 1759, 1649, 1268, 1269, 1270, 1271, 1272, 1812, 1789, 1790, 1791]), 3276, Set([1878, 1879, 1801, 1845, 1819, 1820, 181, 184, 1225, 1226, 1227, 1747, 1261, 1262, 1263, 757, 758, 1279, 1280, 1281, 1282, 1283, 812, 1802, 1803, 1837, 1297, 1298, 1299, 1300, 1301, 1302, 1303, 793, 794, 795, 796, 1821, 1822, 1823, 1825, 1315, 1316, 1317, 1318, 1319, 1320, 1321, 1322, 811, 1324, 813, 814, 815, 1840, 1841, 1842, 1843, 1844, 1333, 1334, 1335, 1336, 1323, 1338, 1339, 1340, 829, 830, 1343, 1344, 1345, 834, 835, 1860, 1861, 1862, 1863, 1864, 1865, 1866, 1867, 1356, 1357, 1358, 847, 848, 849, 850, 851, 1364, 1365, 854, 1337, 1880, 1881, 1882, 1883, 1884, 1885, 1886, 1887, 871, 875, 1341, 1342, 831, 832, 833, 397, 1859, 1855, 1838, 433, 434, 435, 1856, 1839, 451, 452, 453, 454, 471, 1359, 1857, 1360, 1361, 491, 1362, 1363, 1858, 1877]))\n",
      "(1566, Set([2056, 2057, 2058, 2059, 2060, 2061, 2062, 2063, 2064, 1067, 1070, 1591, 1592, 1081, 1082, 1083, 1084, 1085, 1086, 1087, 1088, 1089, 1604, 1605, 1606, 1607, 1608, 1609, 1610, 1611, 1612, 1622, 1623, 1624, 1625, 1626, 1627, 1628, 1629, 649, 650, 651, 652, 653, 656, 1171, 1172, 1174, 1207, 1208, 1209, 1210, 703, 705, 1731, 1243, 1244, 1245, 1246, 1247, 1248, 1251, 740, 741, 1766, 744, 775, 776, 777, 778, 779, 780, 739, 742, 379, 380, 415, 416, 417, 418, 419, 2025, 2026, 2027, 2028, 2029, 2040, 2041, 2042, 2043, 2044, 2045, 2046, 2047]), 227, Set([1634, 1219, 1636, 1255, 1256, 1257, 1740, 1741, 1742, 1743, 1776, 1777, 1778, 1635, 1780, 1774, 1779, 1775, 1630, 1631]))\n",
      "(2877, Set([6, 7, 2068, 2069, 22, 24, 25, 26, 27, 28, 29, 30, 38, 40, 41, 42, 43, 44, 45, 46, 61, 62, 1092, 1093, 1094, 1095, 1096, 1097, 1098, 1617, 1619, 1632, 1634, 1635, 1636, 1637, 1638, 1297, 1299, 1298, 787, 116, 117, 118, 1300, 1301, 131, 132, 133, 134, 135, 136, 137, 138, 659, 148, 149, 150, 151, 152, 153, 154, 1819, 169, 170, 171, 172, 173, 174, 175, 182, 183, 184, 185, 186, 187, 188, 189, 190, 202, 203, 204, 205, 207, 2070, 1256, 1257, 1258, 1259, 748, 751, 760, 1279, 1280, 1281, 1837, 784, 785, 786, 643, 788, 789, 794, 795, 1820, 1821, 1822, 1315, 1316, 1318, 811, 812, 813, 814, 815, 816, 817, 829, 830, 831, 832, 833, 333, 335, 336, 337, 339, 351, 352, 366, 368, 371, 660, 661, 386, 387, 388, 389, 390, 663, 398, 399, 400, 401, 402, 403, 404, 1838, 423, 424, 425, 426, 427, 428, 662, 433, 435, 436, 437, 438, 439, 1839, 451, 452, 453, 454, 455, 456, 457, 459, 470, 471, 472, 473, 476, 664]), 24303, Set([4, 5, 6, 7, 8, 9, 10, 11, 12, 13, 14, 15, 16, 17, 22, 23, 24, 25, 26, 27, 28, 29, 30, 31, 32, 33, 40, 41, 42, 43, 44, 45, 46, 47, 48, 49, 50, 51, 52, 58, 59, 60, 61, 62, 63, 64, 65, 66, 67, 68, 69, 70, 71, 77, 78, 79, 80, 81, 82, 83, 84, 85, 86, 87, 88, 89, 90, 95, 96, 97, 98, 99, 100, 101, 102, 103, 104, 105, 106, 112, 114, 115, 116, 117, 118, 119, 120, 121, 122, 123, 130, 131, 132, 133, 134, 135, 136, 137, 138, 140, 145, 146, 147, 148, 149, 150, 151, 152, 153, 154, 155, 156, 157, 158, 159, 169, 170, 171, 172, 173, 174, 176, 182, 183, 184, 185, 186, 187, 188, 189, 190, 191, 192, 193, 194, 195, 197, 200, 202, 203, 204, 205, 206, 207, 208, 209, 210, 211, 212, 213, 214, 215, 221, 222, 223, 224, 225, 226, 227, 228, 229, 230, 231, 232, 238, 239, 240, 241, 242, 243, 244, 245, 246, 247, 248, 249, 250, 251, 252, 259, 260, 261, 262, 263, 264, 265, 266, 267, 268, 269, 270, 276, 277, 278, 279, 280, 281, 282, 283, 284, 285, 286, 287, 288, 296, 297, 298, 299, 300, 301, 303, 314, 315, 317, 318, 319, 320, 322, 344, 345, 346, 347, 348, 353, 356, 362, 363, 364, 365, 366, 367, 368, 369, 370, 371, 397, 398, 399, 400, 401, 402, 403, 404, 405, 406, 407, 409, 433, 434, 435, 436, 437, 438, 439, 440, 441, 442, 443, 452, 454, 455, 456, 457, 458, 459, 460, 461, 462, 463, 464, 474, 475, 476, 477, 478, 479, 480, 481, 482, 483, 484, 493, 494, 495, 496, 497, 498, 499, 500, 501, 502, 511, 512, 513, 514, 515, 516, 517, 518, 519, 520, 521, 522, 529, 530, 531, 532, 533, 534, 535, 536, 537, 538, 539, 540, 548, 549, 550, 551, 552, 553, 554, 555, 556, 557, 558, 566, 567, 568, 569, 570, 571, 572, 573, 574, 575, 576, 587, 588, 589, 590, 591, 593, 594, 685, 686, 687, 688, 689, 690, 691, 721, 722, 723, 724, 725, 726, 727, 728, 729, 732, 757, 758, 759, 760, 761, 762, 763, 764, 765, 766, 794, 795, 796, 797, 798, 799, 800, 814, 815, 816, 817, 834, 836, 838, 856, 857, 858, 877, 890, 892, 893, 894, 910, 911, 912, 913, 914, 915, 916, 917, 928, 929, 930, 931, 932, 933, 934, 935, 936, 948, 949, 950, 951, 952, 953, 954, 966, 967, 968, 969, 970, 971, 972, 986, 987, 988, 989, 990, 1117, 1118, 1119, 1120, 1121, 1123, 1153, 1154, 1155, 1156, 1157, 1158, 1159, 1189, 1190, 1191, 1192, 1193, 1194, 1195, 1196, 1197, 1225, 1226, 1227, 1228, 1229, 1230, 1231, 1232, 1235, 1263, 1264, 1419, 1420, 1434, 1436, 1437, 1438, 1439, 1440, 1455, 1456, 1457, 1458, 1470, 1471, 1472, 1473, 1474, 1475, 1476, 1490, 1491, 1492, 1493, 1494, 1512, 1642, 1675, 1676, 1677, 1678, 1679, 1680, 1711, 1712, 1713, 1714, 1715, 1716, 1717, 1747, 1748, 1749, 1750, 1751, 1752, 1783, 1784, 1785, 1787, 1959, 1960, 1961, 1962, 1980]))\n",
      "(228, Set([1408, 1409, 1410, 1411, 1412, 1926, 903, 904, 905, 1922, 1923, 919, 922, 1903, 541, 1908, 1920, 1405, 1904, 1905, 1906, 1907, 1396, 1918, 1919, 1917, 1406, 1407]), 1715, Set([1536, 1537, 1538, 1539, 1540, 2053, 2054, 2055, 2056, 2057, 2058, 2059, 2060, 1551, 1552, 1553, 1554, 1555, 1556, 1557, 1558, 2038, 1989, 1568, 1570, 1571, 1572, 1573, 1574, 1064, 1991, 1586, 1587, 1588, 1589, 1590, 1591, 1084, 2037, 1985, 1986, 1987, 1988, 1605, 1606, 1607, 1992, 1609, 2039, 2001, 2002, 2003, 2004, 2005, 2006, 2007, 2040, 602, 1500, 1504, 2017, 2018, 2019, 2020, 2021, 2022, 2023, 2024, 1517, 1518, 1519, 1520, 1521, 2035, 2036, 1013, 1014, 1015, 1990, 2041, 2042, 2043, 2044, 1535]))\n",
      "(831, Set([1656, 1168, 1169, 1170, 878, 1690, 1691, 1692, 160, 880, 1907, 1205, 1206, 1908, 214, 735, 736, 737, 738, 895, 1920, 771, 772, 773, 774, 1921, 1922, 879, 1364, 860, 861, 1377, 1379, 1381, 1382, 1383, 1899, 1900, 1901, 1902, 1903, 1904, 1905, 1906, 1395, 1396, 1397, 1398, 1399, 1400, 1917, 1918, 1919, 896, 897, 898, 1923, 1924, 1925, 1926, 1416, 1417, 1418, 1419, 1937, 1938, 915, 1940, 413, 414, 930, 449, 465, 466, 467, 468, 481, 482, 483, 484, 485, 499, 500, 501, 502, 503]), 16, Set([64, 226, 1324, 1037, 1325, 82, 83]))\n",
      "(870, Set([1024, 1025, 1026, 1542, 1543, 1544, 1545, 1546, 1547, 1041, 1044, 1565, 1989, 1967, 1970, 1972, 1973, 1975, 1976, 1988, 1526, 1990, 1991, 1992, 1993, 1994, 1995, 1996, 1506, 1507, 1508, 1504, 1505, 610, 611, 612, 1509, 1510, 1000, 1002, 1003, 1005, 1006, 1008, 1522, 1523, 1524, 1525, 630, 1527, 1528, 1529, 1020, 1022, 1023]), 3033, Set([1940, 518, 519, 520, 521, 522, 18, 535, 536, 537, 538, 539, 540, 35, 36, 553, 554, 555, 556, 557, 558, 53, 575, 576, 70, 71, 72, 88, 89, 90, 126, 1941, 231, 232, 233, 234, 247, 249, 250, 251, 252, 1921, 266, 267, 268, 269, 270, 284, 285, 286, 288, 1937, 1938, 1939, 1400, 1401, 1914, 1922, 1919, 1920, 897, 898, 899, 1942, 1414, 1415, 1416, 1417, 1418, 1419, 1420, 1421, 1422, 1936, 913, 914, 915, 916, 917, 918, 1432, 1433, 1434, 1435, 1436, 1437, 1438, 1439, 1440, 929, 930, 931, 932, 933, 934, 935, 936, 948, 950, 951, 952, 953, 954, 1472, 972, 501]))\n",
      "(26, Set([128, 704, 1732, 1733, 1734, 1173, 380, 127]), 1255, Set([16, 17, 18, 531, 532, 533, 534, 535, 35, 36, 549, 550, 551, 552, 553, 51, 52, 53, 54, 569, 68, 69, 70, 71, 72, 84, 85, 86, 87, 88, 89, 530, 162, 547, 548, 246, 247, 248, 249, 250, 262, 263, 264, 265, 266, 267, 282, 283, 1409, 1930, 1931, 1933, 1934, 1424, 1425, 1426, 1427, 1428, 1429, 1430, 1431, 922, 1947, 925, 926, 927, 928, 1441, 1442, 1443, 1444, 1445, 1446, 1447, 1448, 1449, 940, 941, 942, 943, 944, 945, 946, 947, 1461, 1462, 1463, 1464, 1466, 957, 964, 966, 929, 1482, 930]))\n",
      "(635, Set([1888, 899, 1904, 1328, 1329, 1342, 1344, 1345, 1346, 1347, 1349, 1868, 1869, 1361, 1362, 1363, 1364, 1365, 1366, 1367, 1883, 1884, 1885, 1886, 1887, 864, 1889, 1380, 1381, 1382, 1383, 1384, 1385, 877, 878, 879, 880, 881, 882, 504]), 301, Set([7, 8, 2058, 2059, 2060, 655, 656, 1068, 1069, 1070, 115, 312, 313, 314, 60, 61, 62, 63, 64, 1609, 1610, 331, 1357, 206, 79, 80, 81, 1358, 1359, 96, 98, 871, 872, 873, 493, 494, 495, 241, 243, 116, 117, 636, 637, 638]))\n",
      "(628, Set([2048, 2049, 2050, 2051, 2063, 2064, 2065, 2066, 2067, 2068, 1579, 1594, 1598, 1599, 1614, 1615, 1616, 1617, 1618, 2011, 2012, 2013, 2014, 1631, 1632, 1633, 1634, 1635, 1636, 2027, 2028, 2029, 2030, 2031, 2032, 2033, 2045, 2046, 2047]), 6575, Set([2054, 2055, 1063, 1064, 1065, 1068, 1081, 1082, 1083, 1084, 1085, 1086, 1087, 1603, 1099, 1101, 1103, 1621, 1622, 1623, 1624, 1625, 1135, 1136, 1137, 1138, 1139, 1140, 631, 1657, 634, 1659, 1660, 1661, 1662, 127, 128, 1658, 1729, 649, 650, 651, 652, 1730, 147, 1172, 1173, 1174, 1175, 1176, 1732, 667, 668, 669, 670, 1695, 1696, 1697, 1698, 163, 164, 165, 166, 686, 1207, 1208, 1209, 1210, 1211, 1212, 1213, 703, 704, 705, 706, 707, 708, 1733, 1734, 1735, 1243, 1244, 1245, 1246, 1247, 1248, 1249, 739, 740, 741, 742, 743, 744, 745, 1770, 1771, 1773, 775, 776, 777, 778, 779, 780, 1731, 325, 326, 327, 343, 344, 345, 349, 1765, 1766, 361, 1767, 1768, 1171, 1769, 379, 380, 381, 382, 415, 416, 417, 418, 419, 1693, 1694, 1699]))\n",
      "(26, Set([1514, 2001, 2002, 1496, 1945, 1533, 1982]), 2318, Set([1536, 2053, 2054, 2055, 2056, 2057, 2058, 2059, 1549, 1550, 1551, 1552, 1553, 1554, 1047, 1049, 1567, 1568, 1569, 1570, 1571, 1572, 1574, 1585, 1586, 1587, 1588, 1589, 1590, 2005, 1983, 1603, 1604, 1605, 1606, 1607, 1608, 1999, 2000, 2001, 2002, 2003, 2004, 1621, 1622, 1623, 1624, 1625, 1626, 1627, 2017, 2018, 2019, 2020, 2021, 2022, 2023, 1513, 1514, 1771, 1009, 2035, 2036, 2037, 2038, 2039, 2040, 2041, 1531, 1532, 1533, 1534, 1535]))\n",
      "(177, Set([130, 2056, 778, 653, 418, 1193, 436, 1083, 1084, 1605, 1606, 1228, 1229, 724, 1786, 364, 1264, 1265, 759, 760, 761, 762, 382]), 576, Set([2048, 2049, 2050, 2051, 2052, 2062, 2064, 2065, 2066, 2067, 2068, 2069, 2070, 1618, 1620, 2008, 1630, 1633, 1634, 1635, 1636, 1637, 1638, 1256, 2026, 2027, 2028, 2029, 2030, 2031, 2032, 2034, 2044, 2045, 2046, 2047]))\n",
      "(42, Set([1762, 809, 810, 1332, 1240, 1241]), 5338, Set([1538, 1030, 1031, 1032, 1033, 1034, 1035, 1036, 1037, 1038, 1039, 1040, 1041, 1554, 1043, 1044, 1045, 1558, 1047, 1560, 1049, 1050, 1051, 1052, 1053, 1054, 1055, 1056, 1057, 1058, 1059, 1060, 1061, 1062, 1575, 1576, 1577, 1066, 1067, 1068, 1069, 1070, 1071, 1072, 1073, 1074, 1075, 564, 1077, 1078, 1079, 1080, 1593, 1594, 1595, 1596, 1597, 1086, 1076, 1088, 1089, 1090, 1608, 1609, 1610, 1611, 1612, 1613, 1614, 1615, 598, 599, 600, 601, 602, 603, 604, 605, 606, 607, 617, 618, 619, 620, 621, 622, 623, 624, 625, 626, 627, 628, 629, 630, 1556, 634, 635, 636, 637, 638, 639, 640, 641, 642, 643, 644, 645, 646, 647, 648, 1559, 653, 654, 655, 656, 657, 658, 659, 660, 662, 664, 665, 666, 1591, 171, 1557, 1589, 1567, 1568, 1569, 1572, 1573, 1574, 1555, 1578, 1579, 1580, 781, 294, 295, 296, 297, 298, 299, 311, 312, 313, 314, 315, 316, 317, 318, 319, 320, 322, 323, 324, 1590, 328, 330, 331, 332, 333, 334, 335, 336, 337, 339, 340, 341, 342, 2022, 2058, 2041, 1598, 1087, 1601, 2044, 2040, 2004, 2005, 2006, 2007, 2008, 2009, 2042, 2043, 1592, 998, 2023, 2024, 2025, 2026, 2027, 2028, 2029, 1014, 1015, 1016, 1017, 1018, 1019, 1020, 2045, 2046]))\n",
      "(949, Set([1792, 1281, 1282, 1283, 1284, 1285, 1286, 1287, 1794, 1808, 1297, 1298, 1299, 1300, 1301, 1302, 1303, 1795, 1796, 1839, 1822, 1843, 1824, 1825, 1315, 1316, 1317, 1318, 1319, 1320, 811, 812, 813, 814, 815, 816, 1841, 883, 1333, 1334, 1335, 1268, 829, 830, 831, 832, 833, 834, 1351, 1352, 847, 848, 849, 850, 1369, 1370, 1793, 1840, 865, 866, 1809, 1387, 1266, 1267, 884, 1269, 1270, 1271, 1858, 1791]), 255, Set([1673, 2061, 2063, 2064, 2065, 2066, 1707, 1709, 1710, 1223, 1224, 1742, 1743, 1744, 1745, 1746, 1630, 1631, 1632, 1633, 1634, 1635, 1257, 1260, 1776, 1777, 1778, 1779, 1780, 1781, 1782]))\n",
      "(441, Set([1928, 1932, 1901, 1902, 1370, 1371, 1372, 1375, 1891, 1892, 1893, 1894, 1895, 1896, 1897, 1898, 1387, 1388, 1389, 1390, 1391, 1909, 1910, 1911, 1912, 1913, 1914, 1406]), 315, Set([518, 268, 408, 1476, 538, 803, 554, 556, 557, 558, 952, 441, 442, 443, 444, 190, 191, 192, 67, 68, 461, 462, 463, 1232, 1233, 210, 211, 212, 213, 1752, 1753, 1754, 1755, 954, 229, 230, 231, 248, 249, 250, 1789, 1791]))\n",
      "(119, Set([865, 1755, 1316, 1333, 1231, 1756, 1230, 847, 848, 1299, 1301, 1718, 1335, 1752, 1753, 1754, 815, 796, 797, 798, 831]), 4295, Set([1027, 1028, 1029, 1030, 1031, 2056, 2057, 1623, 1550, 1551, 1552, 1553, 1045, 1046, 1047, 1048, 1049, 1050, 1567, 1568, 1569, 1570, 2054, 1063, 1064, 1065, 1066, 1067, 1068, 1069, 1585, 1586, 1587, 1588, 1589, 1081, 1082, 1083, 1084, 1085, 1086, 1087, 577, 578, 579, 580, 1605, 1606, 1607, 1608, 1622, 2053, 595, 596, 597, 598, 599, 1624, 1625, 1626, 1627, 613, 614, 615, 616, 618, 631, 632, 633, 634, 635, 636, 637, 649, 650, 651, 652, 653, 654, 655, 1208, 1209, 1210, 1211, 1212, 1730, 1731, 1732, 1733, 1243, 1244, 1245, 1246, 1247, 1248, 739, 741, 1766, 1767, 1768, 1769, 1770, 775, 776, 777, 778, 779, 780, 289, 290, 293, 307, 310, 326, 328, 1765, 1603, 1945, 1604, 1946, 1947, 1948, 416, 417, 418, 1963, 1964, 1965, 1966, 1967, 1981, 1982, 1983, 1477, 1478, 1479, 1480, 973, 974, 975, 976, 1495, 1496, 1497, 1498, 1499, 991, 992, 993, 994, 995, 1513, 1514, 1515, 1516, 1517, 1009, 1010, 1011, 1012, 1013, 1621]))\n",
      "(389, Set([645, 519, 648, 1347, 268, 1346, 1042, 1043, 1044, 1584, 1061, 1062, 647, 1582, 304, 305, 306, 629, 322, 323, 324, 630, 70, 71, 1868, 88, 89, 90, 860, 1885, 1886, 1887, 2016, 483, 612, 2032, 232, 233, 878, 879, 880, 2033, 2034, 500, 501, 502, 503, 249, 250, 251, 125]), 18158, Set([1792, 1756, 1793, 1196, 1794, 1795, 1717, 1796, 1681, 1797, 36, 1723, 1201, 1689, 1647, 1202, 1203, 54, 1204, 1205, 1758, 1724, 1206, 1690, 1719, 1104, 1720, 1106, 1107, 1108, 1109, 1110, 1111, 1678, 1113, 1114, 1116, 1722, 1759, 1296, 1122, 1123, 1124, 1125, 1126, 1127, 1128, 700, 1130, 1131, 1132, 1133, 1134, 701, 1648, 1649, 1650, 1651, 1652, 702, 1654, 1129, 1727, 1726, 1728, 132, 1157, 134, 135, 136, 137, 138, 139, 140, 141, 142, 143, 144, 1169, 1170, 1683, 1232, 149, 1686, 1687, 1688, 153, 154, 155, 156, 157, 158, 159, 160, 161, 162, 675, 676, 677, 678, 679, 680, 681, 682, 1195, 684, 1197, 1198, 1199, 1200, 689, 690, 691, 692, 693, 694, 695, 696, 697, 698, 699, 671, 189, 190, 191, 192, 193, 194, 196, 197, 198, 711, 712, 714, 1655, 1229, 1230, 1231, 720, 1233, 1234, 723, 724, 725, 726, 727, 728, 729, 730, 731, 732, 733, 734, 735, 736, 737, 738, 1763, 1764, 1679, 1645, 1235, 1268, 1269, 1270, 1271, 1272, 761, 762, 763, 764, 765, 766, 767, 768, 769, 770, 771, 772, 773, 774, 1799, 1168, 1239, 1293, 1242, 1240, 1236, 1241, 1156, 1680, 797, 799, 800, 801, 802, 803, 804, 805, 806, 807, 808, 809, 810, 1159, 1757, 1160, 818, 1715, 1789, 1161, 824, 827, 1162, 1238, 1760, 1163, 1761, 1164, 1714, 1762, 1165, 1750, 1716, 1166, 1682, 1167, 348, 349, 350, 351, 352, 353, 354, 355, 356, 357, 358, 359, 360, 365, 366, 367, 368, 369, 370, 371, 372, 373, 374, 375, 376, 377, 378, 1685, 392, 1752, 1718, 401, 402, 403, 404, 405, 406, 407, 408, 409, 410, 411, 412, 413, 414, 1691, 1692, 1753, 1237, 1798, 1267, 437, 439, 440, 441, 442, 443, 444, 445, 446, 447, 448, 449, 450, 1788, 673, 1754, 1751, 1721, 674, 462, 463, 468, 1273, 1684, 1274, 1158, 1646, 1787, 1755, 1725, 1276, 1653, 1192, 1790, 1193, 1791, 1194]))\n",
      "(619, Set([899, 900, 539, 1327, 1328, 1329, 1330, 1849, 1345, 1346, 1347, 1348, 1349, 1350, 1865, 1866, 1867, 1868, 1869, 1870, 1871, 1364, 1366, 1367, 1368, 1885, 1886, 1887, 1888, 1889, 1890, 1384, 1385, 1386, 879, 880, 881, 882]), 474, Set([669, 1281, 1282, 1155, 1284, 1285, 1840, 399, 400, 687, 1283, 814, 1303, 795, 796, 797, 1694, 1695, 1693, 816, 667, 1191, 668, 686, 815, 688, 689, 1842, 1843, 1822, 1823, 1696, 1099, 1100, 722, 723, 724, 725, 1657, 1117, 1118, 1119, 1135, 1136, 1137, 1824, 1841, 759, 760, 761, 1658, 1659, 1660, 1661, 1301]))\n",
      "(1078, Set([1024, 1025, 1026, 1992, 1544, 1545, 1546, 1547, 1548, 1995, 1945, 1946, 1947, 1948, 1949, 1950, 1951, 1952, 1441, 1442, 1996, 1969, 1970, 1459, 1460, 1461, 1462, 1975, 1464, 1972, 1994, 1973, 963, 1974, 1990, 1991, 1480, 1481, 1482, 1483, 1484, 1485, 1486, 1487, 1488, 1993, 981, 982, 983, 1989, 1501, 1502, 1503, 1504, 1505, 1506, 1507, 1508, 1509, 1510, 1511, 1000, 1001, 1002, 1003, 1004, 1005, 1006, 1007, 1522, 1523, 1524, 1525, 1526, 1527, 1528, 1529, 1530, 1021, 1022, 1023]), 7761, Set([2048, 1, 2, 3, 4, 5, 6, 7, 2059, 2060, 2050, 1038, 2063, 2064, 2065, 2066, 19, 20, 21, 22, 23, 24, 1561, 1050, 1052, 1053, 1054, 1055, 1056, 1057, 1058, 1059, 1060, 37, 38, 39, 40, 41, 1578, 1067, 1068, 1069, 1070, 1071, 1072, 1073, 1074, 1075, 1076, 1077, 1078, 55, 56, 57, 58, 1595, 1596, 1597, 1598, 1599, 1088, 1089, 1090, 1091, 1092, 1093, 1094, 1095, 1096, 73, 74, 75, 1612, 1613, 1614, 1615, 1616, 1617, 1618, 1619, 1620, 2062, 91, 92, 93, 94, 95, 96, 1633, 1634, 1635, 1636, 1637, 617, 618, 619, 109, 110, 111, 112, 113, 114, 115, 116, 1610, 633, 634, 635, 636, 637, 638, 127, 128, 129, 642, 643, 644, 645, 1590, 652, 653, 654, 621, 656, 145, 146, 147, 148, 622, 662, 663, 664, 2068, 2051, 624, 163, 164, 165, 166, 167, 168, 169, 170, 1574, 181, 2069, 1591, 2052, 1609, 199, 1556, 201, 2067, 1572, 2070, 1249, 1627, 1251, 1252, 1253, 1254, 1255, 1256, 1257, 1575, 1576, 1577, 639, 1628, 640, 1579, 1580, 1581, 787, 788, 1582, 1629, 308, 309, 310, 311, 312, 313, 314, 315, 1630, 325, 326, 327, 328, 329, 330, 331, 332, 333, 334, 335, 1592, 1593, 1631, 655, 1594, 1632, 657, 658, 659, 660, 381, 661, 1600, 1601, 397, 418, 419, 420, 421, 422, 428, 429, 1097, 1098, 1611, 2061, 2005, 2008, 2009, 2010, 2013, 2023, 2024, 2025, 2026, 2027, 2028, 2029, 2030, 2031, 2032, 2033, 2034, 1602, 2049, 2041, 2042, 2043, 2044, 2045, 2046, 2047]))\n",
      "(778, Set([1024, 1025, 1026, 763, 1547, 12, 13, 14, 15, 16, 303, 1042, 1043, 404, 302, 281, 154, 155, 284, 1565, 1566, 799, 33, 1023, 764, 1062, 1787, 301, 176, 300, 173, 174, 47, 48, 305, 1041, 1044, 318, 319, 320, 321, 322, 323, 1788, 801, 1548, 1230, 629, 336, 83, 85, 86, 612, 1231, 608, 609, 610, 611, 100, 101, 102, 103, 104, 105, 106, 107, 304, 1232, 626, 627, 628, 117, 118, 119, 120, 121, 122, 123, 124, 765, 766, 405]), 1034, Set([1547, 1025, 1922, 1923, 1924, 1925, 1926, 1530, 1546, 1419, 1420, 1421, 1422, 916, 917, 918, 1943, 1944, 538, 539, 1437, 1438, 1439, 1440, 933, 934, 935, 936, 555, 1996, 557, 1455, 1456, 1942, 951, 952, 953, 954, 1979, 1475, 968, 1548, 970, 971, 972, 1997, 1998, 1528, 1491, 1492, 1493, 1494, 1529, 986, 988, 989, 990, 1977, 1509, 1510, 1511, 1384, 1940, 1005, 1006, 1007, 1008, 1512, 1906, 1907, 1908, 1527, 1400, 1401, 1402, 1403, 1404, 1905]))\n",
      "(312, Set([265, 267, 1293, 1294, 1815, 1816, 1817, 283, 284, 285, 286, 287, 825, 571, 572, 573, 574, 575, 1995, 68, 69, 70, 71, 843, 844, 464, 465, 466, 467, 212, 213, 88, 986, 987, 988, 1508, 1509, 231, 232, 249]), 186, Set([772, 1797, 1798, 1239, 216, 1796, 807, 808, 1203, 448, 449, 196, 197, 71, 72, 465, 466, 467, 468, 1238, 215, 1240, 1760, 1761, 1762, 1763, 252]))\n",
      "(38, Set([1673, 1651, 1653, 1654, 1655, 1113, 1114, 1115, 1116]), 397, Set([1793, 1794, 1236, 1494, 266, 267, 268, 537, 409, 538, 804, 805, 1960, 1961, 1493, 1979, 822, 1492, 1977, 443, 444, 445, 446, 447, 193, 194, 68, 69, 969, 970, 971, 463, 464, 1272, 211, 212, 213, 1238, 87, 88, 483, 572, 1491, 1235, 574, 247, 248, 249, 1962, 1237]))\n",
      "(8, Set([1440, 1458, 1439]), 75, Set([1441, 1442, 1443, 1461, 1462, 1463, 1945, 1946, 1947, 1982, 1983]))\n",
      "(28, Set([1585, 1586, 2036, 1621, 1622]), 1261, Set([532, 533, 534, 535, 536, 553, 554, 556, 557, 887, 1315, 1333, 1334, 1335, 1855, 1856, 1351, 1352, 1353, 1354, 847, 1873, 1874, 1876, 1369, 1370, 1371, 1372, 1373, 1374, 1375, 865, 866, 867, 868, 869, 870, 871, 1392, 1393, 1394, 1395, 1396, 1398, 1399, 888, 889, 890, 891, 1413, 1414, 1415, 1416, 1417, 1418, 1419, 908, 909, 910, 911, 912, 913, 914, 1942, 1432, 1433, 1434, 1435, 1436, 1437, 1438, 927, 928, 929, 930, 931, 932, 933, 934, 935, 936, 1454, 1455, 1456, 1457, 1458, 947, 948, 949, 950, 951, 952, 953, 954, 1439, 1440, 1474, 1475, 1476]))\n",
      "(756, Set([1920, 1410, 1411, 1412, 1413, 1414, 1415, 1416, 908, 909, 910, 911, 1936, 1937, 1430, 1431, 1432, 1433, 924, 925, 926, 927, 928, 929, 546, 1982, 1964, 941, 942, 943, 944, 1463, 957, 958, 959, 960, 1479, 1932, 1899, 1981, 973, 1933, 1934, 1495, 1496, 1497, 1935, 991, 1377, 1378, 1915, 1917, 1513, 1514, 1515, 1900, 1901, 1902, 1903, 1393, 1394, 1395, 1396, 1397, 1897, 1914, 891, 1916, 1898, 1918, 1919]), 10, Set([1961, 1979, 1548, 1998, 1996]))\n",
      "(201, Set([1771, 1732, 1733, 1734, 1735, 1736, 1769, 1770, 1767, 2056, 2054, 1768, 2035, 1622, 1623, 1624, 1625, 1626, 2055, 2053]), 7660, Set([1, 2, 3, 4, 523, 524, 525, 19, 20, 21, 22, 23, 24, 541, 542, 543, 1173, 37, 38, 39, 40, 41, 559, 560, 561, 55, 56, 57, 1119, 73, 74, 75, 76, 1101, 1102, 1103, 91, 92, 93, 1118, 95, 1120, 1927, 1640, 1641, 109, 110, 111, 112, 113, 1138, 1139, 631, 1657, 634, 1659, 1660, 1661, 127, 128, 129, 130, 131, 132, 1729, 649, 650, 1730, 145, 146, 147, 148, 149, 150, 1175, 667, 668, 669, 670, 671, 1696, 1136, 1698, 163, 164, 165, 166, 167, 168, 685, 686, 687, 688, 181, 182, 183, 1209, 703, 704, 705, 706, 707, 1732, 199, 203, 721, 723, 725, 217, 1695, 1658, 739, 740, 741, 742, 235, 236, 237, 1405, 1423, 1406, 253, 254, 255, 775, 776, 778, 1154, 1117, 271, 272, 273, 1731, 1697, 289, 1135, 307, 308, 309, 310, 325, 326, 327, 328, 343, 344, 345, 346, 347, 348, 349, 1424, 1137, 361, 362, 363, 364, 365, 1171, 1172, 379, 380, 381, 382, 383, 901, 902, 903, 397, 398, 399, 400, 919, 920, 921, 1207, 415, 416, 417, 418, 419, 420, 937, 938, 1693, 1459, 1694, 955, 956, 1174, 1099, 1441, 1100, 505, 506]))\n",
      "(317, Set([1956, 1957, 1958, 1959, 1448, 1961, 1962, 1452, 1453, 1454, 1455, 1975, 1976, 1977, 1978, 1979, 1980, 1473, 1995, 1996, 1997, 1998, 1490, 1492, 1510, 1960]), 314, Set([1536, 644, 645, 646, 647, 648, 1035, 1036, 1037, 1039, 1040, 1041, 1042, 1056, 1057, 1058, 1059, 1982, 301, 318, 1983, 1984, 324, 341, 342, 603, 604, 605, 607, 608, 1513, 1514, 1515, 1516, 1517, 623, 624, 625, 626, 627, 628, 1013, 1014, 1015, 1016, 1017, 1018, 1532, 1533, 1535]))\n",
      "(37, Set([612, 905, 906, 1388, 590, 528, 529, 1042, 1044]), 307, Set([1409, 1930, 1423, 1424, 1425, 1426, 1427, 1428, 1431, 1432, 921, 922, 923, 540, 1437, 926, 927, 928, 929, 930, 931, 932, 933, 934, 935, 936, 557, 558, 945, 539, 1407]))\n",
      "(55, Set([1312, 1851, 773, 809, 810, 1868, 1850, 827, 1852]), 132, Set([1516, 966, 968, 969, 970, 971, 589, 1489, 1490, 1491, 983, 985, 986, 987, 988, 1504, 1506, 1509, 1515, 1004, 1517, 1518, 1519, 1531, 1532]))\n",
      "(323, Set([1413, 1543, 1544, 1545, 1934, 1935, 1430, 1431, 1432, 1433, 551, 945, 946, 947, 948, 949, 1468, 1469, 1470, 965, 966, 1488, 1489, 982, 984, 985, 986, 1505, 1506, 1507, 1003, 1005, 1525, 1526, 1527, 1528, 1916, 1917, 1022, 1023]), 5968, Set([1024, 1025, 1026, 521, 1548, 1041, 1043, 1044, 535, 536, 537, 538, 539, 540, 552, 553, 554, 555, 556, 557, 558, 570, 571, 572, 573, 574, 575, 576, 1974, 587, 588, 589, 590, 591, 592, 593, 594, 85, 87, 88, 89, 90, 1978, 606, 607, 608, 609, 610, 611, 612, 105, 107, 108, 626, 630, 1977, 1958, 1990, 1991, 1992, 1993, 1994, 1995, 1996, 1998, 249, 250, 251, 252, 265, 266, 267, 268, 269, 270, 1581, 280, 281, 282, 283, 284, 285, 286, 287, 288, 1976, 1959, 301, 302, 303, 304, 305, 306, 319, 1956, 933, 934, 935, 936, 1961, 1962, 1454, 1457, 1458, 949, 950, 951, 952, 953, 954, 1979, 1980, 1470, 1471, 1472, 1473, 1474, 1475, 1476, 965, 966, 967, 968, 969, 970, 971, 972, 1997, 1486, 1488, 1489, 1490, 1491, 1492, 1493, 1494, 983, 984, 985, 986, 987, 988, 989, 990, 1957, 1506, 1507, 1508, 1509, 1510, 1511, 1512, 1001, 1002, 1003, 1004, 1005, 1006, 1007, 1008, 1960, 1522, 1526, 1527, 1528, 1529, 1530, 1020, 1022, 1023]))\n",
      "(917, Set([1024, 1025, 646, 1507, 1620, 1041, 1042, 1043, 2068, 1958, 1974, 1957, 666, 1993, 1955, 1976, 1059, 1060, 1061, 1062, 1959, 1638, 1582, 1973, 1078, 1079, 1080, 1977, 1978, 1600, 1601, 1602, 1526, 1097, 1098, 1975, 1996, 1506, 591, 1488, 1489, 1490, 1491, 1618, 1956, 986, 987, 988, 989, 1637, 608, 609, 610, 611, 1508, 1509, 1510, 1511, 1002, 1003, 1004, 1005, 1006, 1007, 1619, 1525, 1487, 1527, 1528, 1529, 1022, 1023]), 224, Set([1152, 1161, 1162, 1163, 1164, 1165, 1802, 1194, 1195, 1196, 1197, 1673, 1674, 1801, 1229, 1230, 1231, 1232, 1112, 1113, 1114, 1115, 1129, 1130, 1131, 1132, 1263, 1264, 1265, 1652, 1653, 1787]))\n",
      "(1941, Set([1688, 20, 21, 22, 23, 24, 25, 27, 37, 38, 39, 40, 41, 42, 43, 44, 45, 56, 57, 58, 59, 60, 61, 695, 1722, 1130, 1725, 1656, 130, 131, 132, 1160, 1161, 1162, 1163, 1164, 1165, 1166, 146, 147, 148, 149, 150, 151, 152, 1689, 1690, 1691, 1692, 166, 1198, 1199, 1200, 1201, 1202, 181, 182, 183, 184, 185, 186, 187, 188, 189, 190, 199, 200, 201, 202, 203, 204, 205, 206, 207, 724, 726, 727, 728, 729, 730, 731, 732, 733, 239, 761, 762, 764, 766, 816, 831, 361, 364, 365, 366, 367, 368, 369, 370, 371, 1686, 1687, 398, 399, 400, 401, 402, 403, 404, 405, 406, 407, 434, 435, 436, 437, 438, 439, 441, 452, 453, 454, 455, 456, 457, 458, 460, 472]), 2801, Set([2048, 1025, 1026, 2051, 2052, 646, 647, 648, 2028, 2050, 2029, 2064, 1041, 1042, 1043, 1044, 2069, 2070, 666, 1563, 1564, 1565, 1566, 1055, 2032, 1058, 1059, 1060, 1061, 1062, 1578, 1579, 1580, 1581, 1582, 1583, 1584, 305, 306, 1077, 1078, 1079, 1080, 1595, 1596, 1597, 1598, 1599, 1600, 1601, 1602, 323, 324, 1616, 593, 594, 1619, 1620, 2065, 2011, 2012, 2013, 2014, 2015, 2016, 2066, 611, 612, 1617, 108, 1618, 2030, 2031, 1008, 2033, 2034, 2067, 628, 629, 630, 2049, 2068, 2046, 2047]))\n",
      "(251, Set([768, 769, 770, 1665, 1164, 1165, 1311, 1312, 1313, 1314, 805, 806, 807, 1833, 1835, 1200, 1201, 1330, 824, 825, 826, 1852, 1853, 1854, 1293, 1872, 1106, 731, 732, 733, 734, 1126, 1127, 1128, 1666, 1871]), 92, Set([1728, 1763, 1764, 1797, 1691, 1692, 1726, 1727]))\n",
      "(13, Set([1248, 705, 1627, 742, 686]), 4832, Set([2048, 2049, 2050, 1707, 2052, 2064, 2065, 2066, 2051, 2068, 2069, 2070, 1057, 1058, 1060, 1580, 1582, 1074, 1075, 1076, 1077, 1078, 1079, 1080, 1595, 1596, 1597, 1598, 1599, 1600, 1601, 1602, 1091, 1092, 1093, 1094, 1095, 1096, 1097, 1098, 1613, 1614, 1615, 1616, 1617, 1618, 1619, 1620, 1113, 1114, 1115, 1116, 1631, 1632, 1633, 1634, 1635, 1636, 1637, 1638, 2067, 1654, 1655, 1147, 1148, 1149, 1150, 1151, 1152, 1669, 1670, 1671, 1672, 1673, 1674, 661, 662, 663, 664, 665, 666, 1183, 1184, 1185, 1186, 1187, 1188, 1704, 681, 682, 683, 1708, 1709, 1710, 1218, 1219, 1220, 1221, 1222, 1223, 1224, 1739, 716, 717, 718, 719, 720, 1745, 1746, 1742, 1743, 1744, 1253, 1254, 1255, 1256, 1257, 1258, 1259, 1260, 751, 752, 753, 754, 755, 756, 1781, 1782, 1778, 787, 788, 789, 790, 791, 792, 1741, 395, 1777, 428, 429, 430, 431, 1779, 1780, 2013, 2026, 2028, 2029, 2030, 2031, 2032, 2033, 2034, 1705, 2044, 1706, 2046, 2047]))\n",
      "(21, Set([1508, 172, 300, 118, 1976, 350]), 38, Set([888, 883, 884, 885, 1367]))\n",
      "(761, Set([896, 897, 898, 518, 519, 264, 267, 268, 269, 270, 912, 913, 914, 915, 916, 917, 918, 537, 538, 539, 540, 287, 288, 932, 933, 934, 935, 936, 553, 554, 555, 556, 557, 558, 520, 1458, 951, 952, 953, 954, 572, 573, 574, 575, 576, 1440, 1419, 969, 970, 971, 972, 1358, 1360, 1361, 594, 1493, 1880, 1881, 1882, 1883, 989, 990, 1379, 1380, 1381, 1382, 876, 1362, 498, 499, 1398, 1401, 251, 252, 895]), 1514, Set([2051, 2052, 15, 16, 17, 18, 1043, 1044, 1060, 1061, 1062, 1582, 1583, 1584, 50, 52, 1886, 1079, 1080, 1601, 1602, 67, 69, 70, 71, 72, 86, 88, 89, 90, 105, 106, 107, 108, 627, 628, 629, 630, 123, 124, 125, 126, 645, 646, 647, 648, 211, 212, 213, 214, 215, 216, 230, 231, 232, 233, 234, 249, 250, 304, 1885, 305, 306, 1326, 1327, 1328, 1329, 1330, 1848, 1849, 1850, 1851, 1344, 321, 1346, 323, 324, 841, 842, 843, 844, 1869, 1870, 340, 341, 342, 859, 860, 861, 862, 863, 1888, 320, 1345, 322, 1347, 1348, 1865, 1866, 1867, 1868, 481, 482, 483, 484, 485, 2034, 500, 502]))\n",
      "(67, Set([2048, 577, 2050, 2049, 595, 596, 597, 2070, 1594, 1595, 1596, 1053, 1054, 2069]), 6474, Set([1536, 1538, 1027, 1028, 1029, 1030, 1031, 1032, 525, 1550, 1551, 1552, 1553, 1045, 1046, 1048, 1049, 542, 543, 544, 1569, 1570, 603, 559, 560, 561, 562, 563, 564, 577, 578, 579, 580, 581, 582, 583, 584, 73, 74, 75, 77, 78, 1549, 595, 596, 597, 598, 599, 600, 601, 91, 92, 93, 94, 95, 96, 613, 614, 615, 616, 617, 618, 619, 1981, 1982, 1983, 1984, 1987, 1989, 1990, 1991, 1540, 1992, 1993, 1541, 253, 254, 255, 256, 257, 259, 271, 272, 273, 274, 275, 276, 277, 289, 290, 291, 292, 293, 294, 295, 307, 308, 309, 310, 311, 1503, 1521, 1963, 1965, 1966, 1967, 1968, 1969, 1970, 1971, 1972, 1973, 955, 956, 957, 958, 959, 960, 1985, 1986, 587, 1988, 1477, 1478, 1479, 1480, 1481, 1482, 973, 974, 975, 976, 977, 978, 979, 980, 1495, 1496, 1497, 1498, 1499, 1500, 1501, 1502, 991, 992, 993, 994, 995, 996, 997, 998, 1513, 1514, 1515, 1516, 1517, 1518, 1519, 1520, 1009, 1010, 1011, 1012, 1013, 1014, 1015, 1016, 1017, 1531, 1532, 1533, 1534, 1535]))\n",
      "(164, Set([1920, 1921, 1922, 1418, 1939, 1940, 1941, 1942, 1435, 1436, 1354, 1355, 1875, 1876, 1375, 1376, 1898, 1899, 1900, 1901, 1902, 1395, 1396, 1917, 1918, 1919]), 84, Set([1057, 644, 1543, 392, 393, 682, 428, 626, 1039, 1040, 680, 338, 1653, 1561, 681, 754, 1021]))\n",
      "(832, Set([1537, 1539, 1541, 1031, 8, 9, 10, 11, 12, 13, 14, 1554, 1555, 1556, 1557, 1558, 24, 27, 28, 29, 30, 31, 32, 1575, 45, 46, 47, 48, 49, 50, 1034, 65, 66, 67, 1036, 82, 83, 84, 85, 602, 603, 604, 101, 620, 621, 622, 116, 118, 120, 121, 122, 154, 156, 175, 191, 192, 193, 194, 209, 1273, 1274, 1275, 1276, 1277, 1292, 1293, 805, 806, 807, 297, 298, 299, 315, 1035, 409, 444, 445, 446, 447, 465, 1014, 1015, 1016, 1017, 1018, 1535]), 410, Set([258, 1594, 1576, 620, 621, 622, 1339, 1053, 1054, 1595, 1575, 296, 1877, 1592, 1593, 314, 315, 60, 62, 63, 1356, 1357, 78, 79, 80, 81, 1358, 1878, 1879, 1880, 1338, 223, 224, 98, 99, 869, 871, 872, 2025, 2026, 2027, 492, 493, 494, 495, 241, 242, 243, 2024, 2042, 2043, 2045, 639]))\n",
      "(291, Set([1831, 1832, 1325, 1326, 1847, 1848, 1849, 1850, 1341, 1342, 1343, 1864, 1865, 1357, 1358, 1359, 1879, 1880, 1881, 1882, 1374, 1375, 1894, 1895, 1896, 1897, 1898, 1390, 1391, 1393, 1911, 1914]), 43, Set([1803, 1804, 1805, 1263, 1785, 1786, 1822]))\n",
      "(401, Set([256, 257, 3, 132, 5, 6, 7, 8, 10, 1645, 1680, 1682, 131, 149, 150, 23, 24, 4, 1946, 1947, 133, 544, 545, 167, 40, 41, 939, 940, 690, 560, 689, 562, 563, 1460, 1461, 1462, 1463, 688, 957, 958, 1480, 76, 77, 78, 1123, 727, 955, 1124, 691, 365, 366, 367, 275, 25, 21]), 300, Set([2049, 2063, 2064, 1041, 2066, 2067, 1044, 1060, 1061, 1062, 1582, 1583, 1584, 1078, 1079, 1598, 1599, 1600, 1601, 1602, 1614, 1615, 1616, 1617, 1618, 1619, 1620, 1634, 2032, 2033]))\n",
      "(18, Set([1250, 964, 297, 331, 657, 279, 314]), 23, Set([709, 823, 369, 370, 407, 444, 351]))\n",
      "(380, Set([1548, 1954, 1956, 1957, 1958, 1959, 1960, 1961, 1962, 1973, 1974, 1975, 1976, 1977, 1978, 1979, 1980, 1471, 1472, 1991, 1994, 1995, 1996, 1997, 1998, 1490, 1491, 1493, 1494, 1507, 1508, 1509, 1528, 1529, 1530]), 259, Set([1792, 1288, 1807, 1808, 1809, 1810, 1881, 1882, 1825, 1826, 1827, 1844, 1845, 1862, 1863, 1864, 1865, 1879, 1880, 1753, 1754, 1883, 1756, 1267, 1268, 1269, 1789, 1790, 1791]))\n",
      "(2338, Set([1027, 1028, 1029, 1030, 1549, 1550, 1965, 541, 1567, 1568, 559, 560, 561, 562, 563, 564, 565, 566, 577, 578, 579, 580, 581, 582, 583, 595, 596, 597, 598, 599, 600, 601, 92, 614, 618, 1981, 1999, 2000, 253, 255, 256, 258, 271, 272, 273, 274, 275, 276, 277, 278, 289, 290, 291, 292, 293, 294, 1585, 1586, 2017, 2018, 1915, 1931, 1932, 1933, 1934, 1935, 1427, 1428, 1429, 1430, 922, 1947, 940, 941, 942, 943, 2035, 955, 956, 957, 958, 959, 1984, 1477, 1478, 1479, 1480, 1481, 1482, 973, 974, 975, 976, 977, 978, 979, 980, 1495, 1496, 1497, 1498, 1499, 1500, 1502, 991, 992, 993, 994, 995, 996, 997, 998, 1513, 1514, 1515, 1516, 1517, 1518, 1009, 1010, 1011, 1012, 1013]), 640, Set([1280, 1281, 1282, 1801, 1802, 1803, 1297, 1298, 1299, 793, 1819, 1820, 1821, 1822, 1823, 1315, 1316, 1318, 1837, 1838, 1839, 1841, 1333, 829, 1855, 1856, 1857, 1351, 1873, 1874, 1875, 865, 1261, 1262, 1265, 1783, 1279]))\n",
      "(2904, Set([1024, 1025, 1026, 1542, 7, 1544, 9, 1546, 1547, 1548, 1038, 1039, 1040, 1041, 1042, 531, 1559, 1561, 1562, 1563, 1564, 1565, 1543, 590, 564, 565, 566, 55, 56, 57, 58, 59, 60, 61, 608, 582, 583, 584, 585, 586, 75, 76, 77, 78, 79, 80, 81, 82, 83, 603, 604, 605, 606, 607, 96, 97, 98, 99, 100, 101, 624, 627, 1993, 199, 200, 201, 202, 203, 217, 218, 219, 220, 221, 222, 237, 238, 239, 240, 241, 242, 255, 256, 257, 258, 259, 260, 261, 262, 264, 983, 984, 274, 275, 276, 277, 278, 279, 280, 281, 282, 285, 987, 294, 295, 296, 297, 298, 299, 300, 301, 302, 305, 316, 1545, 1505, 567, 1506, 568, 569, 1512, 999, 1000, 1001, 609, 1002, 981, 985, 610, 1020, 1003, 611, 587, 453, 588, 1994, 1995, 1996, 1997, 589, 1488, 469, 470, 471, 472, 473, 591, 988, 1530, 592, 1043, 1507, 1508, 1509, 1510, 593, 488, 489, 490, 491, 1004, 1005, 1006, 1007, 1008, 1522, 1523, 1524, 1525, 1526, 1527, 1528, 1529, 1511, 1019, 508, 1021, 1022, 1023]), 357, Set([1156, 1157, 1158, 775, 776, 1161, 1680, 1681, 1160, 669, 670, 671, 672, 1194, 1159, 686, 687, 688, 689, 690, 691, 1716, 1717, 1718, 1719, 1720, 415, 703, 704, 705, 1123, 726, 727, 346, 347, 1120, 739, 740, 363, 379, 380]))\n",
      "(862, Set([1890, 771, 1800, 1294, 1295, 1296, 1817, 1818, 1313, 1314, 808, 809, 810, 1834, 1836, 1330, 1331, 1332, 826, 827, 828, 1853, 1854, 448, 1888, 450, 1347, 1348, 1349, 1350, 844, 845, 846, 1871, 1872, 1363, 1364, 1365, 1366, 1367, 1368, 1242, 863, 864, 1889, 1887, 1870, 1382, 1384, 1385, 1386, 878, 879, 881, 882, 1276, 1277, 1278]), 869, Set([1709, 1458, 1669, 1670, 1671, 1672, 393, 394, 395, 268, 269, 270, 15, 16, 17, 18, 1475, 1457, 1476, 538, 431, 286, 287, 288, 1186, 1187, 934, 935, 1707, 556, 557, 558, 303, 177, 178, 179, 180, 950, 951, 952, 953, 954, 1439, 574, 575, 576, 322, 323, 324, 71, 1673, 396, 970, 971, 972, 717, 718, 719, 720, 341, 87, 88, 89, 988, 1708, 969, 104, 105, 106, 107, 108, 1149, 1474, 753, 755, 756, 1150, 1148, 123, 124, 125, 126, 1151]))\n",
      "(267, Set([768, 769, 770, 1164, 1165, 1684, 1685, 1686, 408, 409, 410, 411, 1649, 1650, 446, 447, 193, 194, 195, 375, 464, 465, 466, 467, 213, 214, 731, 732, 733, 862, 863, 864, 483, 484, 485, 1126, 1127, 1128, 1386, 1648, 881, 882, 502, 503, 504]), 4588, Set([1842, 1825, 1843, 1826, 1100, 1101, 1102, 1103, 1104, 1105, 1106, 1210, 1118, 1119, 1120, 1121, 1122, 1123, 1124, 1136, 1137, 1138, 1139, 1140, 1141, 1811, 1660, 1661, 1662, 129, 130, 131, 132, 133, 134, 1159, 1730, 1171, 1172, 149, 150, 151, 1176, 1177, 667, 668, 669, 670, 671, 672, 673, 674, 1699, 1734, 1192, 1194, 1195, 1196, 685, 686, 687, 688, 689, 690, 691, 692, 693, 1208, 1209, 186, 1211, 188, 1694, 703, 704, 705, 706, 707, 708, 709, 710, 711, 1229, 1230, 1231, 1232, 1233, 722, 723, 724, 725, 726, 727, 728, 1729, 1829, 741, 742, 1767, 1768, 1769, 1770, 1265, 1266, 1267, 1268, 1269, 759, 760, 761, 762, 763, 764, 765, 766, 1283, 1284, 1285, 1286, 1287, 1288, 1289, 1806, 1807, 1808, 1809, 1810, 1155, 1301, 1302, 1303, 1304, 1156, 1306, 1307, 796, 797, 798, 799, 800, 801, 802, 1827, 1828, 1158, 1830, 1831, 1320, 1322, 1323, 813, 815, 816, 817, 818, 819, 1732, 1845, 1846, 1847, 1848, 1844, 1859, 1860, 1862, 1863, 1864, 1865, 1733, 343, 344, 345, 346, 347, 348, 349, 350, 351, 1765, 1766, 362, 363, 364, 365, 366, 367, 368, 369, 380, 381, 382, 383, 384, 385, 1174, 1175, 1305, 399, 400, 401, 402, 403, 404, 405, 1173, 1693, 436, 437, 438, 439, 440, 441, 1695, 1157, 1696, 1822, 1697, 1698, 1823, 1731, 1824]))\n",
      "(53, Set([736, 737, 771, 1188, 1815, 719, 720, 1813, 1239, 1240, 1275, 1276]), 463, Set([775, 776, 1171, 1172, 1693, 1694, 1695, 1696, 1697, 1207, 1208, 1209, 1729, 1730, 1731, 1733, 1243, 1245, 739, 1765, 1766, 1135, 1137, 1657, 1658, 1659, 1660, 1661, 1662]))\n",
      "(2435, Set([1707, 1708, 1112, 1113, 1114, 1115, 1116, 1132, 1654, 1146, 1147, 1148, 1149, 1150, 1151, 1152, 1668, 1669, 1670, 1671, 1672, 1673, 1674, 663, 1181, 1182, 1183, 1184, 1185, 1186, 1187, 1188, 678, 679, 680, 681, 682, 683, 684, 1709, 1710, 700, 701, 1217, 1219, 1220, 1221, 1222, 1223, 1224, 1740, 714, 715, 716, 717, 718, 719, 720, 1745, 1746, 1742, 1743, 1744, 1258, 748, 750, 751, 752, 753, 754, 755, 756, 1781, 787, 789, 790, 791, 792, 355, 356, 357, 358, 359, 360, 390, 391, 392, 393, 394, 395, 396, 427, 429, 430, 1780, 1704, 1705, 1706]), 356, Set([1280, 1030, 1551, 1552, 1553, 1048, 793, 794, 795, 1570, 164, 37, 38, 39, 40, 811, 812, 433, 434, 307, 308, 181, 310, 183, 309, 182, 2001, 2002, 2003, 93, 613, 614, 615, 616, 617, 1261, 110, 111, 112, 113, 757, 758, 759, 1279]))\n",
      "(20, Set([2020, 596, 1029]), 32, Set([1729, 1730, 1731, 1734, 1693, 1694]))\n",
      "(62, Set([2043, 1734, 1735, 1736, 1642, 1643, 1772, 1773, 2062, 1661, 2066, 1140, 1662, 1663, 1629, 1630, 1631]), 155, Set([2016, 1601, 1602, 1061, 1062, 2032, 2050, 1583, 1584, 2033, 2034, 1079, 1080, 2031, 2013, 2014, 2015]))\n",
      "(535, Set([523, 524, 525, 526, 1948, 541, 542, 543, 544, 1969, 1949, 938, 939, 940, 941, 559, 560, 561, 1460, 1461, 1462, 1463, 1464, 1465, 1466, 955, 956, 957, 958, 959, 960, 1952, 1950, 1479, 1480, 1481, 1482, 1483, 1951, 235, 253, 254, 255]), 279, Set([2016, 2032, 1602, 2051, 2052, 1062, 2049, 2050, 1582, 1583, 1584, 2033, 2034, 1043, 1044, 2069, 2070, 2031, 2014, 2015]))\n",
      "(167, Set([513, 1410, 1409, 1426, 1427, 1443, 1444, 1325, 1326, 1850, 1851, 1343, 1376, 1377, 1378, 872, 873, 874, 494, 891, 892, 894]), 336, Set([1933, 1934, 1935, 1936, 1937, 1429, 1433, 1947, 1948, 1949, 1950, 1951, 1952, 1953, 1445, 1446, 1447, 1448, 1449, 1450, 1964, 1965, 1966, 1967, 1968, 1969, 1970, 1972, 1984, 1985, 1986, 1987, 1988, 1918]))\n",
      "(2048, Set([1024, 1025, 1026, 1544, 1545, 1546, 1547, 1548, 1039, 1040, 1041, 1042, 1043, 1044, 1561, 1562, 1563, 1564, 1565, 1566, 1056, 1057, 1058, 1059, 1060, 1061, 1062, 1578, 1579, 1580, 1581, 1582, 1583, 1074, 1075, 1076, 1077, 1078, 1597, 1599, 1600, 1093, 1104, 1105, 1106, 1107, 1108, 1109, 1110, 609, 1124, 1125, 1644, 1645, 1646, 1647, 1648, 625, 626, 627, 1141, 1142, 1143, 1144, 1145, 1146, 1147, 1664, 1665, 642, 643, 644, 645, 659, 660, 661, 662, 1178, 1179, 1180, 1181, 1182, 673, 674, 675, 676, 677, 678, 175, 1218, 710, 711, 712, 713, 714, 747, 748, 749, 750, 751, 752, 1666, 785, 786, 787, 788, 336, 337, 338, 339, 352, 354, 1683, 387, 388, 389, 390, 391, 392, 424, 425, 426, 427, 428, 2012, 2013, 2014, 2015, 2016, 2031, 1528, 1529, 1530, 1023]), 23759, Set([2, 4, 2053, 2054, 2055, 2056, 2057, 23, 89, 91, 92, 93, 94, 95, 96, 97, 98, 101, 102, 103, 104, 105, 106, 107, 108, 109, 110, 111, 112, 113, 114, 115, 116, 118, 121, 122, 123, 124, 125, 126, 164, 167, 174, 177, 261, 271, 272, 273, 274, 276, 284, 285, 286, 288, 289, 290, 291, 292, 293, 294, 295, 296, 297, 298, 299, 300, 301, 302, 303, 304, 305, 306, 307, 308, 309, 310, 311, 312, 313, 314, 315, 316, 317, 318, 319, 320, 321, 322, 323, 324, 325, 326, 327, 328, 329, 330, 331, 332, 333, 334, 335, 336, 337, 338, 339, 340, 341, 342, 415, 416, 417, 418, 419, 420, 562, 573, 577, 578, 579, 580, 581, 582, 583, 584, 585, 586, 587, 588, 589, 590, 591, 592, 593, 594, 595, 596, 597, 598, 599, 600, 601, 602, 603, 604, 605, 606, 607, 608, 609, 610, 611, 612, 613, 614, 615, 616, 617, 618, 619, 620, 621, 622, 623, 624, 625, 626, 627, 628, 629, 630, 631, 632, 633, 634, 635, 636, 637, 638, 639, 640, 641, 642, 643, 644, 645, 646, 647, 648, 649, 650, 651, 652, 653, 654, 655, 656, 657, 658, 659, 660, 661, 662, 663, 665, 666, 775, 777, 778, 779, 974, 976, 991, 992, 993, 994, 995, 996, 997, 998, 1000, 1005, 1008, 1009, 1010, 1011, 1012, 1013, 1014, 1015, 1016, 1017, 1018, 1019, 1020, 1021, 1022, 1023, 1024, 1025, 1026, 1027, 1028, 1029, 1030, 1031, 1032, 1033, 1034, 1035, 1036, 1037, 1038, 1039, 1040, 1041, 1042, 1043, 1044, 1045, 1046, 1047, 1048, 1049, 1050, 1051, 1052, 1053, 1054, 1055, 1056, 1057, 1058, 1059, 1060, 1061, 1062, 1063, 1064, 1065, 1066, 1067, 1068, 1069, 1070, 1071, 1072, 1073, 1074, 1075, 1076, 1077, 1078, 1079, 1080, 1081, 1082, 1083, 1084, 1085, 1086, 1087, 1495, 1513, 1514, 1515, 1516, 1517, 1518, 1519, 1523, 1525, 1531, 1532, 1533, 1534, 1535, 1536, 1537, 1538, 1540, 1549, 1550, 1551, 1552, 1553, 1554, 1555, 1556, 1557, 1558, 1559, 1560, 1561, 1562, 1563, 1564, 1567, 1568, 1569, 1570, 1571, 1572, 1573, 1574, 1575, 1576, 1577, 1578, 1579, 1580, 1581, 1582, 1583, 1585, 1586, 1587, 1588, 1589, 1590, 1591, 1592, 1593, 1594, 1595, 1596, 1597, 1598, 1599, 1600, 1603, 1604, 1605, 1606, 1607, 1608, 1609, 1610, 1614, 1616, 1621, 1623, 1625, 1981, 1999, 2000, 2001, 2002, 2003, 2004, 2005, 2006, 2007, 2013, 2017, 2018, 2019, 2020, 2021, 2022, 2023, 2024, 2025, 2035, 2036, 2037, 2038, 2039, 2040, 2041]))\n",
      "(31, Set([258, 1765, 327, 328, 1935, 276, 1243, 925]), 328, Set([1289, 1292, 1293, 1294, 1299, 1300, 1302, 1303, 1304, 1305, 1306, 1307, 1308, 1309, 1315, 1316, 805, 1318, 807, 808, 809, 810, 1839, 1840, 1841, 1842, 1843, 820, 821, 822, 823, 824, 825, 827, 828, 1855, 1857, 1858, 1860, 1336, 851, 1827, 1317, 1319, 1320, 1321, 1322]))\n",
      "(86, Set([1921, 1923, 1902, 1903, 1904, 1939, 1940, 1941, 1942, 1943]), 322, Set([1671, 1674, 1686, 1687, 1688, 1689, 1691, 1692, 1725, 1726, 1112, 1113, 1114, 1115, 1116, 1130, 1132, 1133, 1650, 1651, 1652, 1653, 1654, 1655, 1656]))\n",
      "(19, Set([1992, 1993, 1994, 1547, 1996, 1997, 1527]), 112, Set([570, 101, 264, 277, 279, 280, 281, 282, 283, 284, 285, 286, 287]))\n",
      "(71, Set([1346, 1347, 1348, 199, 856, 855, 472, 473, 474, 475]), 2027, Set([1032, 1033, 1034, 1035, 1036, 1037, 15, 1555, 1054, 1055, 32, 33, 34, 35, 36, 581, 583, 584, 586, 587, 598, 599, 600, 601, 602, 603, 604, 605, 606, 101, 102, 104, 618, 619, 620, 621, 622, 623, 624, 625, 118, 120, 121, 122, 123, 124, 125, 126, 640, 140, 141, 142, 143, 144, 162, 175, 176, 177, 178, 179, 180, 295, 296, 297, 298, 299, 300, 301, 314, 315, 316, 317, 318, 319, 320, 321, 323, 336, 337, 339, 340, 341, 358, 359, 360, 377, 378, 392, 393, 394, 395, 396, 428, 429, 430, 431, 1981, 1982, 1983, 1984, 978, 1499, 992, 993, 994, 995, 996, 997, 998, 999, 1000, 1513, 1514, 1515, 1516, 1517, 1518, 1519, 1010, 1012, 1013, 1014, 1015, 1016, 1017, 1018, 1531, 1532, 1533, 1534, 1535]))\n",
      "(25, Set([1476, 1513, 1514, 1485, 1457, 1458]), 10925, Set([1536, 1537, 1538, 683, 1028, 1029, 1030, 1031, 1032, 684, 1034, 599, 12, 614, 14, 15, 16, 1553, 1554, 1027, 1556, 1045, 1046, 1047, 1048, 1049, 1050, 1051, 28, 29, 30, 31, 32, 33, 34, 35, 36, 1573, 1574, 1575, 1064, 1067, 1068, 1069, 1070, 1071, 1585, 1555, 51, 52, 1589, 1590, 1033, 1592, 1205, 577, 578, 579, 583, 1036, 1549, 595, 596, 597, 598, 87, 600, 601, 602, 1551, 604, 605, 613, 96, 1552, 101, 102, 103, 616, 617, 618, 615, 620, 621, 622, 623, 624, 114, 787, 116, 117, 118, 119, 120, 121, 122, 123, 124, 125, 126, 639, 640, 641, 642, 619, 644, 1982, 137, 138, 139, 140, 141, 142, 143, 144, 657, 658, 659, 660, 661, 663, 665, 156, 157, 158, 159, 160, 161, 162, 680, 681, 682, 171, 172, 173, 174, 175, 176, 177, 178, 179, 180, 1054, 1206, 698, 699, 700, 701, 702, 1169, 1568, 196, 1569, 715, 716, 717, 718, 719, 720, 1132, 1571, 1572, 634, 2019, 736, 737, 738, 635, 1692, 636, 1130, 637, 752, 753, 755, 638, 2037, 1728, 1152, 770, 774, 1168, 1134, 274, 643, 1570, 291, 293, 294, 295, 296, 297, 298, 300, 1586, 1587, 311, 312, 313, 314, 315, 316, 317, 318, 319, 320, 321, 2017, 330, 331, 332, 333, 334, 335, 336, 337, 338, 339, 340, 341, 1167, 352, 656, 1133, 355, 356, 357, 358, 359, 360, 1170, 1052, 1035, 1567, 372, 373, 374, 375, 376, 377, 378, 387, 388, 389, 390, 391, 392, 393, 394, 395, 396, 1588, 751, 412, 413, 414, 423, 424, 425, 426, 427, 428, 429, 430, 431, 1591, 2036, 1981, 1053, 1983, 1987, 2018, 1055, 1038, 2039, 1999, 2000, 2001, 2002, 2003, 2004, 1496, 1497, 1550, 991, 992, 993, 994, 995, 2020, 2022, 2023, 1000, 1513, 1514, 1515, 1516, 1517, 1009, 1010, 1011, 1012, 1013, 1014, 1015, 1016, 1017, 1531, 1532, 1533, 1534, 1535]))\n",
      "(172, Set([1837, 399, 400, 401, 1298, 1299, 1175, 1176, 671, 672, 673, 1698, 1700, 811, 812, 813, 1838, 689, 434, 435, 1856, 708, 1697, 346, 347, 1123, 1297, 364, 1140]), 1493, Set([513, 1432, 516, 523, 524, 525, 526, 527, 528, 529, 530, 531, 532, 533, 534, 535, 536, 537, 538, 539, 540, 1433, 546, 547, 548, 549, 550, 551, 552, 553, 554, 555, 556, 557, 558, 575, 1435, 247, 250, 263, 269, 270, 1413, 1414, 1415, 1416, 1423, 1387, 1388, 883, 886, 1405, 1406, 1407, 1408, 1409, 1410, 1411, 1412, 901, 902, 903, 904, 905, 906, 907, 908, 909, 910, 911, 912, 913, 1426, 1428, 1429, 1430, 919, 920, 921, 922, 923, 924, 925, 926, 927, 928, 929, 930, 931, 932, 933, 934, 935, 936, 947, 948, 1431, 492]))\n",
      "(20, Set([2016, 1546, 1547, 1548, 1998]), 606, Set([1796, 1797, 1798, 1799, 1800, 1163, 1164, 1165, 1765, 1174, 1177, 1693, 1695, 1696, 673, 674, 675, 676, 1766, 1699, 1201, 1202, 1203, 693, 694, 695, 1725, 1730, 1731, 1732, 1733, 1734, 1697, 1698, 1105, 1106, 1107, 1108, 1237, 1238, 1239, 1240, 1700, 1757, 1758, 1759, 1760, 1761, 1762, 1124, 1125, 1126, 1127, 1139, 1140, 1141, 1142, 1143, 1661, 1662, 1663]))\n",
      "(65, Set([1888, 1346, 411, 1348, 1349, 680, 1869, 1870, 1329, 1330, 1347, 410, 1147, 1148, 447]), 20134, Set([2058, 127, 128, 129, 130, 131, 132, 133, 146, 147, 148, 149, 150, 151, 153, 184, 185, 186, 187, 189, 343, 344, 345, 346, 347, 348, 349, 350, 351, 361, 362, 363, 364, 365, 366, 367, 368, 369, 379, 380, 381, 382, 383, 384, 385, 386, 397, 398, 399, 400, 401, 402, 403, 404, 405, 417, 418, 419, 420, 421, 422, 423, 433, 434, 435, 436, 437, 438, 439, 440, 441, 453, 456, 631, 650, 652, 653, 654, 655, 656, 667, 668, 669, 670, 671, 672, 673, 674, 675, 685, 686, 687, 688, 689, 690, 691, 692, 693, 703, 704, 705, 706, 707, 708, 709, 710, 711, 721, 722, 723, 724, 725, 726, 727, 728, 729, 739, 740, 741, 742, 743, 744, 745, 746, 747, 748, 749, 757, 758, 759, 760, 761, 762, 763, 764, 765, 775, 776, 777, 778, 779, 780, 781, 782, 783, 784, 785, 793, 794, 795, 796, 797, 798, 799, 800, 811, 812, 813, 814, 815, 816, 817, 1081, 1082, 1083, 1084, 1085, 1086, 1087, 1088, 1089, 1091, 1101, 1102, 1103, 1104, 1105, 1106, 1119, 1120, 1121, 1122, 1123, 1124, 1135, 1136, 1137, 1138, 1139, 1140, 1141, 1142, 1143, 1144, 1153, 1154, 1155, 1156, 1157, 1158, 1159, 1160, 1171, 1172, 1173, 1174, 1175, 1176, 1177, 1178, 1179, 1180, 1181, 1189, 1190, 1191, 1192, 1193, 1194, 1195, 1196, 1197, 1198, 1207, 1208, 1209, 1210, 1211, 1212, 1213, 1214, 1215, 1216, 1217, 1218, 1225, 1226, 1227, 1228, 1229, 1230, 1231, 1232, 1233, 1243, 1244, 1245, 1246, 1247, 1248, 1249, 1250, 1251, 1252, 1253, 1261, 1262, 1263, 1264, 1265, 1266, 1267, 1268, 1279, 1280, 1281, 1282, 1283, 1284, 1285, 1286, 1287, 1288, 1297, 1298, 1299, 1300, 1301, 1302, 1303, 1605, 1608, 1609, 1622, 1623, 1624, 1625, 1626, 1627, 1628, 1629, 1630, 1631, 1643, 1658, 1659, 1660, 1661, 1662, 1663, 1664, 1677, 1680, 1681, 1693, 1694, 1695, 1696, 1697, 1698, 1699, 1700, 1701, 1702, 1703, 1704, 1713, 1714, 1715, 1717, 1729, 1730, 1731, 1732, 1733, 1734, 1735, 1736, 1737, 1738, 1739, 1740, 1748, 1749, 1750, 1751, 1752, 1753, 1765, 1766, 1767, 1768, 1769, 1770, 1771, 1772, 1773, 1774, 1775, 1776, 1777, 1783, 1784, 1785, 1786, 1787, 1788, 1789, 1790, 1801, 1802, 1803, 1804, 1805, 1806, 1807, 1808, 1809, 1819, 1820, 1821, 1822, 1823, 1824, 1825, 1826, 1840, 1841, 1842]))\n",
      "(1353, Set([1153, 1154, 1155, 1156, 1157, 1158, 1159, 1786, 1675, 1676, 1677, 1678, 1784, 1748, 1791, 1189, 1190, 1191, 1192, 1193, 1194, 1195, 1196, 685, 1711, 1712, 1713, 1714, 1715, 1716, 1717, 1227, 1225, 1226, 1099, 1228, 1229, 1230, 1231, 1232, 721, 722, 723, 724, 725, 1750, 1751, 1752, 1753, 1754, 1117, 1118, 1119, 1233, 1785, 1267, 1268, 1269, 1747, 759, 760, 761, 762, 1787, 1788, 1789, 1790, 1749]), 150, Set([1312, 1313, 450, 1835, 807, 808, 809, 810, 1314, 1836, 1293, 1294, 1295, 1296, 826, 827, 828, 1277, 1278]))\n",
      "(360, Set([131, 132, 133, 649, 650, 23, 1292, 1293, 24, 1603, 149, 22, 151, 152, 153, 154, 150, 416, 417, 418, 165, 166, 167, 168, 41, 44, 1289, 1815, 821, 822, 823, 441, 442, 443, 188, 1291, 327, 328, 802, 1814, 805, 444, 1831, 112, 1832, 25, 1833, 801, 383]), 194, Set([1408, 1409, 902, 903, 1426, 1427, 1428, 1430, 921, 922, 923, 924, 1446, 1447, 1448, 1449, 942, 943, 944, 883, 884, 505, 506, 1407]))\n",
      "(319, Set([384, 385, 130, 131, 132, 133, 1802, 1803, 781, 398, 399, 400, 401, 403, 1262, 794, 795, 796, 421, 1628, 1280, 1629, 435, 436, 437, 182, 184, 723, 724, 782, 346, 347, 348, 349, 350, 744, 745, 365, 366, 1263, 758, 759, 760, 761, 762]), 47, Set([1729, 1765, 1766, 2017, 1621, 1207, 1243]))\n",
      "(231, Set([1440, 1920, 1922, 1923, 1924, 1921, 1900, 1419, 1420, 1901, 1902, 1458, 1939, 1940, 1941, 1942, 1943, 1944, 1919, 1438, 1439]), 186, Set([1862, 1863, 1864, 1865, 1866, 1867, 1908, 1326, 1905, 1362, 1363, 1364, 1365, 1881, 1882, 1883, 1884, 1885, 1886, 1343]))\n",
      "(12, Set([26, 27, 1597, 334]), 7685, Set([1024, 1025, 1026, 1451, 1452, 1546, 1453, 529, 530, 1043, 1044, 1454, 544, 546, 547, 548, 549, 550, 551, 552, 553, 554, 1928, 566, 568, 569, 570, 571, 572, 573, 574, 575, 576, 1462, 587, 588, 589, 590, 591, 592, 593, 594, 84, 86, 88, 1435, 606, 607, 608, 609, 610, 611, 612, 1041, 104, 105, 106, 107, 108, 1042, 625, 626, 627, 628, 629, 630, 1472, 644, 648, 1433, 1993, 1950, 1062, 1491, 1918, 1935, 266, 268, 269, 1441, 281, 282, 283, 284, 285, 286, 287, 288, 1953, 1463, 300, 301, 302, 303, 304, 305, 306, 1434, 321, 322, 323, 324, 1933, 1934, 1423, 1936, 1937, 1938, 1912, 1913, 1914, 1915, 1916, 1917, 1406, 1407, 1408, 1409, 1410, 1411, 1412, 1413, 1414, 1415, 904, 1929, 1930, 1931, 1932, 909, 910, 911, 1424, 1425, 1426, 1427, 1428, 1429, 1430, 1431, 1432, 921, 922, 923, 924, 925, 926, 927, 928, 929, 930, 931, 1444, 1445, 1446, 1447, 1448, 1449, 938, 939, 940, 941, 942, 943, 944, 945, 946, 947, 948, 949, 950, 951, 1464, 1465, 1466, 1467, 1468, 1469, 1470, 1471, 960, 961, 962, 963, 964, 965, 966, 967, 968, 969, 970, 972, 1486, 1488, 1489, 1490, 1443, 1494, 983, 984, 985, 986, 987, 988, 989, 990, 1508, 1509, 1510, 1511, 1512, 1001, 1002, 1003, 1004, 1005, 1006, 1007, 1008, 1524, 1527, 1529, 1450, 1022, 1023]))\n",
      "(4048, Set([1536, 1537, 1538, 1539, 1540, 1541, 520, 10, 11, 12, 13, 14, 15, 16, 17, 18, 1557, 601, 602, 30, 31, 32, 33, 34, 35, 36, 48, 49, 50, 51, 52, 53, 54, 572, 573, 63, 65, 66, 67, 68, 69, 70, 71, 72, 585, 586, 587, 588, 589, 590, 1037, 83, 84, 85, 86, 87, 88, 89, 90, 603, 604, 605, 606, 607, 608, 609, 610, 100, 101, 102, 103, 104, 105, 106, 107, 108, 622, 623, 624, 625, 120, 121, 122, 123, 124, 125, 126, 1985, 159, 174, 175, 177, 192, 193, 195, 197, 198, 209, 210, 211, 212, 213, 214, 215, 216, 230, 231, 232, 246, 247, 248, 249, 250, 251, 252, 264, 265, 266, 267, 268, 269, 278, 280, 281, 282, 283, 284, 285, 286, 287, 288, 296, 297, 298, 299, 300, 301, 302, 303, 304, 305, 306, 317, 318, 319, 320, 321, 322, 323, 324, 1034, 340, 1035, 390, 1036, 1517, 584, 1984, 449, 450, 1987, 1038, 468, 981, 982, 997, 998, 999, 1000, 1001, 1002, 1003, 1004, 1005, 1518, 1519, 1520, 1521, 1522, 1523, 1014, 1015, 1016, 1017, 1018, 1019, 1020, 1021, 1535]), 52, Set([1251, 1253, 1772, 1773, 1774, 1775, 1776, 2062, 2061]))\n",
      "(512, Set([1794, 1795, 1796, 1110, 1163, 1165, 1683, 1684, 1685, 1686, 1687, 1688, 1689, 1690, 1797, 1721, 1722, 1723, 1724, 1725, 1109, 1238, 1239, 1758, 1759, 1760, 1761, 1762, 1127, 1128, 1129, 1647, 1648, 1649, 1650, 1651, 1652, 1653]), 7559, Set([1451, 1110, 8, 9, 10, 11, 12, 13, 533, 534, 23, 25, 26, 27, 28, 29, 30, 31, 32, 547, 549, 550, 551, 552, 553, 554, 555, 556, 1971, 566, 567, 568, 569, 570, 571, 572, 573, 63, 65, 1974, 585, 586, 587, 588, 589, 590, 79, 80, 81, 82, 83, 84, 85, 86, 1124, 604, 1125, 96, 609, 98, 99, 100, 101, 102, 103, 104, 1127, 621, 1646, 1647, 624, 1128, 1180, 116, 117, 118, 119, 120, 121, 122, 1147, 1662, 1663, 1664, 1665, 1666, 1667, 133, 134, 135, 136, 137, 138, 139, 1474, 1645, 1126, 1958, 1959, 152, 153, 154, 155, 156, 1181, 672, 673, 674, 675, 676, 677, 678, 679, 168, 169, 170, 171, 172, 173, 174, 175, 176, 691, 692, 693, 694, 695, 696, 1140, 1141, 709, 710, 711, 712, 713, 714, 715, 1123, 1473, 1955, 1145, 1146, 745, 746, 747, 748, 749, 244, 246, 1492, 259, 262, 263, 264, 265, 266, 1450, 277, 278, 279, 280, 281, 282, 283, 284, 1144, 1976, 296, 297, 298, 299, 300, 301, 302, 303, 1954, 1698, 313, 314, 315, 316, 317, 318, 319, 320, 1505, 333, 334, 335, 336, 1034, 1648, 1972, 348, 349, 350, 351, 352, 353, 354, 355, 1143, 368, 369, 370, 371, 373, 1649, 1973, 385, 386, 387, 388, 389, 390, 391, 1650, 1177, 1433, 1435, 1178, 928, 1953, 930, 1179, 1956, 1957, 422, 423, 424, 425, 426, 427, 1452, 1453, 1454, 1455, 945, 946, 947, 948, 949, 950, 951, 1464, 1977, 1466, 1467, 1468, 1469, 1470, 1471, 1472, 961, 962, 963, 964, 965, 966, 967, 968, 969, 970, 971, 1484, 1485, 1486, 1487, 1488, 1489, 1490, 1491, 980, 981, 982, 983, 984, 985, 986, 987, 1701, 1504, 1104, 1506, 1507, 1508, 1509, 998, 1105, 1000, 1001, 1002, 1003, 1106, 1107, 1524, 1449, 1108, 1142, 1975, 1109]))\n",
      "(19, Set([1633, 1634, 1636, 1738, 1776, 1777, 1778, 1779, 2070]), 225, Set([1690, 1692, 1707, 1708, 1709, 1781, 1782, 1223, 1742, 1743, 1744, 1114, 1115, 1256, 1257, 1258, 1259, 1132, 1133, 1777, 1778, 1779, 1780, 1653, 1654, 1655, 1656]))\n",
      "(161, Set([1441, 1442, 1443, 1477, 1478, 1513, 1514, 1963, 1947, 1549, 1459, 1460, 1982, 1495, 1496, 1945, 1946, 1531, 1532, 1981, 1964]), 3553, Set([512, 513, 514, 515, 516, 517, 518, 519, 520, 521, 531, 45, 48, 52, 60, 61, 62, 63, 64, 65, 66, 67, 68, 69, 70, 71, 72, 89, 90, 189, 195, 202, 203, 204, 205, 206, 207, 208, 209, 210, 211, 212, 213, 214, 215, 216, 218, 220, 221, 222, 223, 224, 225, 226, 227, 228, 229, 230, 231, 232, 233, 234, 239, 240, 241, 242, 243, 244, 245, 246, 247, 248, 249, 250, 251, 252, 1320, 817, 819, 831, 834, 835, 836, 837, 838, 839, 842, 847, 848, 849, 850, 851, 852, 853, 854, 855, 856, 857, 858, 860, 870, 871, 873, 874, 875, 886, 888, 889, 890, 891, 893, 894, 895, 897, 456, 457, 458, 459, 460, 461, 462, 464, 469, 470, 471, 472, 473, 474, 475, 476, 477, 478, 479, 480, 481, 482, 483, 484, 485, 486, 487, 488, 490, 491, 492, 493, 494, 495, 496, 497, 498, 499, 500, 501, 502, 503, 509, 510, 511]))\n",
      "(40, Set([1297, 1802, 1819, 1801, 1279]), 392, Set([1675, 775, 776, 777, 650, 651, 780, 1677, 668, 669, 416, 417, 418, 1606, 1245, 1246, 1208, 1209, 1082, 1083, 1084, 778, 704, 705, 779, 1605, 326, 1607, 1676, 1101, 1247, 1623, 1624, 1243, 1244, 1210, 1118, 1119, 739, 740, 741, 742, 743, 1212, 1085, 2038, 2039]))\n",
      "(1683, Set([515, 1940, 530, 531, 532, 533, 534, 535, 536, 537, 1456, 548, 549, 550, 551, 552, 553, 554, 555, 556, 569, 572, 1979, 1438, 885, 886, 1457, 1333, 1334, 1419, 1352, 1353, 1370, 1371, 1372, 1373, 1374, 1375, 865, 866, 867, 868, 869, 1937, 1938, 1390, 1397, 1398, 887, 888, 889, 890, 1411, 1412, 1413, 1414, 1415, 1416, 1417, 1418, 907, 908, 909, 910, 911, 912, 913, 914, 1939, 1428, 1431, 1432, 1433, 1434, 1435, 1436, 925, 926, 927, 928, 929, 930, 931, 932, 933, 1449, 1450, 1451, 1452, 1453, 1437, 944, 945, 946, 947, 948, 949, 950, 951, 1467, 1468, 1469, 1470, 1471, 1473, 1474, 1475, 964, 965, 966, 967, 968, 491, 1961, 1962]), 56, Set([352, 353, 451, 452, 1187, 714, 715, 1710, 402, 403, 150, 151, 184, 185, 1149]))\n",
      "(188, Set([1568, 2017, 2018, 2019, 2020, 2021, 2022, 2056, 1999, 2000, 2001, 2002, 2003, 2004, 2005, 2038, 2039, 2036, 2037, 2035, 1567]), 140, Set([396, 35, 432, 178, 179, 180, 68, 69, 70, 1224, 1362, 213, 1885, 1381, 1379, 1380, 1382, 230, 231, 232, 499, 500, 1782]))\n",
      "(588, Set([1449, 214, 519, 266, 143, 16, 17, 18, 534, 1431, 1432, 947, 414, 197, 160, 929, 34, 35, 36, 198, 551, 552, 553, 554, 944, 945, 50, 51, 52, 53, 54, 1469, 195, 196, 69, 70, 71, 72, 162, 467, 213, 86, 215, 216, 378, 1447, 1448, 247, 248, 249, 250, 1450]), 478, Set([1792, 1793, 1284, 1286, 1801, 1802, 1803, 1804, 1805, 1806, 1807, 1808, 1809, 1810, 1813, 1820, 1821, 1822, 1823, 1824, 1825, 1826, 1827, 1840, 1841, 1842, 1843, 1844, 1751, 1754, 1755, 1756, 1757, 1262, 1263, 1264, 1265, 1266, 1267, 1268, 1269, 1786, 1787, 1788, 1789, 1790, 1791]))\n",
      "(12, Set([1834, 1836, 1853, 1854]), 9253, Set([519, 520, 521, 522, 16, 18, 536, 537, 538, 539, 540, 1797, 1798, 553, 555, 556, 557, 558, 53, 54, 1239, 573, 575, 576, 69, 70, 71, 72, 1292, 1293, 1294, 88, 89, 90, 1473, 1474, 1205, 1796, 1311, 1312, 196, 197, 198, 212, 213, 214, 215, 216, 1241, 1242, 1764, 229, 230, 231, 232, 233, 234, 247, 248, 249, 250, 251, 252, 1277, 1278, 1835, 772, 773, 774, 1799, 1800, 267, 268, 269, 270, 1295, 1296, 1240, 1814, 1815, 1816, 1817, 1818, 287, 288, 1313, 1314, 805, 807, 808, 809, 810, 1834, 1836, 1330, 1331, 1332, 823, 824, 825, 826, 827, 828, 1853, 1492, 1833, 1349, 1350, 1852, 842, 843, 844, 845, 846, 861, 862, 863, 864, 1383, 1384, 1385, 1386, 879, 880, 881, 882, 1854, 1274, 1402, 1403, 1404, 897, 898, 899, 900, 1420, 1421, 1422, 915, 916, 917, 918, 1275, 412, 1439, 1440, 933, 934, 935, 936, 1961, 1962, 1455, 1456, 1457, 1458, 950, 951, 952, 953, 954, 1980, 447, 448, 449, 450, 1475, 1476, 969, 970, 971, 972, 464, 465, 466, 467, 468, 1493, 1494, 989, 990, 481, 482, 483, 484, 485, 486, 1276, 1959, 1960, 500, 501, 502, 503, 504]))\n",
      "(1489, Set([515, 10, 11, 12, 13, 14, 15, 531, 532, 533, 534, 535, 536, 29, 30, 31, 32, 33, 549, 550, 551, 552, 553, 48, 49, 50, 65, 66, 67, 68, 82, 83, 84, 85, 86, 1112, 1113, 101, 102, 103, 104, 1148, 1149, 1150, 1669, 1670, 1671, 1672, 137, 138, 139, 140, 141, 142, 156, 159, 679, 680, 681, 173, 174, 175, 176, 714, 715, 716, 717, 718, 751, 244, 245, 246, 262, 263, 264, 265, 281, 1673, 1934, 1935, 1936, 355, 356, 1937, 373, 1412, 1413, 1414, 1415, 1416, 393, 909, 910, 911, 912, 913, 1938, 1429, 1431, 1432, 1433, 1434, 1435, 926, 927, 928, 929, 930, 931, 932, 1448, 1450, 945, 946, 947, 948, 949]), 49, Set([1697, 1731, 1732, 1733, 1767, 1768, 1661, 1662]))\n",
      "(2655, Set([1920, 1921, 1922, 899, 1924, 1925, 1926, 1417, 522, 1419, 1420, 1421, 1422, 1937, 914, 915, 916, 917, 918, 1943, 1944, 1940, 1435, 540, 1437, 1438, 1439, 1440, 932, 933, 934, 935, 936, 1436, 1457, 1458, 1941, 1418, 1939, 1923, 1942, 1382, 1384, 1386, 1938, 1902, 1903, 1904, 1905, 1906, 1907, 1908, 1399, 1400, 1401, 1402, 1403, 1404, 1918, 1919]), 37, Set([2017, 2053, 1999, 1585, 2035, 1621, 1622, 1567]))\n",
      "(40, Set([964, 549, 550, 1360, 1522, 981, 982, 1397]), 322, Set([1792, 1793, 1794, 1795, 5, 6, 1288, 274, 275, 801, 802, 291, 292, 293, 41, 42, 43, 44, 440, 441, 442, 187, 188, 189, 190, 577, 579, 580, 581, 1236, 1496, 804, 94, 95, 96, 993, 992, 1513, 1514, 1515, 1516, 61, 1009, 1010, 1268, 1269, 1270, 1271, 1272, 766]))\n",
      "(764, Set([650, 652, 653, 654, 2063, 2064, 2065, 2066, 2067, 1047, 417, 1064, 1065, 1066, 1067, 1068, 1069, 1070, 1071, 1072, 1608, 307, 308, 309, 1590, 1591, 1593, 1594, 1085, 1086, 1087, 1089, 325, 326, 327, 328, 1609, 1610, 1611, 1612, 1613, 1614, 1615, 1616, 2062, 1631, 1632, 613, 614, 615, 2044, 109, 110, 631, 632, 633, 634, 635, 636, 2045, 2046, 2061]), 1073, Set([2049, 2050, 2051, 2052, 517, 518, 519, 520, 521, 522, 1042, 1043, 1058, 1059, 1060, 1061, 1062, 1581, 1582, 1583, 1598, 1599, 1600, 1601, 1602, 68, 69, 70, 71, 72, 86, 87, 88, 89, 104, 105, 106, 107, 626, 627, 628, 629, 646, 214, 230, 231, 232, 233, 234, 248, 249, 250, 251, 252, 266, 268, 284, 285, 286, 301, 303, 304, 305, 320, 321, 322, 323, 1348, 1349, 1363, 1364, 1365, 1366, 1367, 1887, 1888, 1889, 1383, 1384, 878, 879, 880, 881, 896, 897, 898, 899, 482, 2030, 2031, 2032, 2033, 2034, 500, 501, 502, 503]))\n",
      "(1790, Set([2053, 2054, 2055, 2056, 2057, 2058, 2059, 2060, 2061, 1063, 1064, 1066, 1067, 1068, 1069, 1070, 1071, 1585, 1586, 1590, 1591, 1081, 1082, 1083, 1084, 1085, 1086, 1087, 1088, 1089, 1090, 1603, 1604, 1605, 1606, 1607, 1608, 1609, 1610, 1611, 1612, 1613, 1621, 1622, 1623, 1624, 1625, 1626, 1627, 1628, 1629, 1630, 649, 650, 651, 652, 653, 654, 655, 656, 657, 663, 666, 1213, 1214, 1243, 1244, 1245, 1246, 1247, 1248, 1249, 1250, 1251, 1765, 1766, 1767, 744, 1770, 1771, 1772, 1773, 1774, 775, 776, 779, 780, 781, 782, 783, 335, 1091, 1092, 1093, 419, 421, 2035, 2036, 2037, 2040, 2041]), 1977, Set([1068, 1069, 1072, 1083, 1084, 1085, 1086, 1087, 1088, 1089, 1090, 1607, 1608, 1609, 1106, 1107, 1108, 1109, 1623, 1112, 1123, 1124, 1125, 1126, 1127, 1646, 1648, 1140, 1141, 1142, 1143, 1144, 1145, 1162, 651, 652, 653, 654, 655, 656, 657, 658, 1684, 1685, 1686, 1175, 1178, 1179, 1181, 672, 673, 674, 675, 676, 677, 678, 679, 1736, 691, 692, 693, 694, 695, 1720, 1721, 1722, 1211, 1212, 1213, 1214, 1215, 1216, 707, 708, 709, 710, 711, 712, 713, 714, 1246, 1247, 1248, 1249, 1250, 1251, 1252, 743, 744, 745, 746, 747, 748, 749, 778, 779, 780, 781, 782, 783, 784, 785, 331, 347, 349, 350, 351, 352, 353, 368, 382, 383, 384, 385, 386, 387, 388, 390, 1772, 417, 418, 419, 420, 421, 422, 423, 424, 1771, 2021, 2022, 2038, 2039, 2040, 2041, 2042]))\n",
      "(354, Set([1668, 1669, 1670, 1672, 1182, 1183, 1184, 1185, 1186, 1703, 680, 1705, 1706, 1707, 1708, 1709, 1221, 1222, 1223, 1224, 1740, 1742, 1743, 1744, 1746, 1108, 1110, 1636, 1637, 1638, 1258, 1259, 1260, 1704, 1779, 1780, 1781, 1782, 1146, 1147, 1148, 1149, 1150]), 1710, Set([22, 23, 24, 25, 26, 27, 28, 29, 30, 1798, 45, 46, 47, 1205, 1206, 109, 111, 112, 113, 631, 632, 633, 131, 132, 133, 134, 135, 136, 137, 138, 139, 652, 149, 150, 151, 152, 153, 154, 155, 156, 157, 158, 165, 166, 167, 168, 169, 170, 171, 175, 692, 693, 694, 187, 188, 189, 190, 191, 192, 193, 195, 1239, 1240, 729, 730, 731, 732, 733, 734, 735, 1762, 1763, 1764, 769, 770, 771, 772, 773, 774, 1800, 1241, 1242, 307, 308, 309, 649, 325, 326, 327, 328, 329, 350, 351, 352, 353, 367, 368, 369, 370, 371, 372, 373, 374, 375, 383, 387, 402, 404, 405, 406, 407, 408, 409, 410, 411, 412, 445, 446, 448]))\n",
      "(158, Set([646, 647, 269, 270, 663, 664, 665, 539, 540, 288, 935, 557, 558, 576, 322, 323, 324, 1096, 1097, 341, 342, 89, 108, 252]), 235, Set([1670, 1671, 1672, 1673, 1674, 1685, 1686, 1688, 1706, 1708, 1709, 1710, 1745, 1746, 1110, 1112, 1113, 1114, 1115, 1116, 1648, 1649, 1650, 1651, 1652, 1653, 1654, 1656, 1148, 1150]))\n",
      "(30, Set([2049, 844, 845, 1617, 1331, 340, 213, 214, 52, 1077]), 228, Set([129, 130, 1113, 1114, 674, 163, 676, 677, 678, 679, 680, 1116, 704, 706, 708, 709, 711, 1115, 675, 1111, 1112, 345, 346, 347, 348, 349, 351, 127, 1653, 1654, 1655, 379, 380, 381, 382, 383]))\n",
      "(19, Set([1938, 1958, 1959]), 4814, Set([523, 524, 525, 526, 1927, 541, 542, 543, 1891, 1892, 1893, 1909, 1910, 199, 200, 201, 1911, 1912, 217, 218, 219, 220, 235, 236, 1261, 1423, 253, 254, 255, 271, 1297, 1298, 1315, 811, 812, 1928, 1333, 1334, 1929, 1336, 829, 831, 1856, 1931, 1351, 1352, 1353, 1354, 847, 848, 849, 1874, 1878, 1369, 1370, 1371, 1372, 1373, 865, 866, 867, 868, 869, 1894, 1895, 1387, 1388, 1389, 1390, 1391, 883, 884, 885, 886, 887, 888, 1913, 1855, 1405, 1406, 1407, 1408, 1409, 1410, 901, 902, 903, 904, 905, 1930, 907, 237, 1424, 1425, 1426, 919, 920, 921, 922, 923, 1441, 1442, 1443, 1445, 937, 938, 1460, 955, 1873, 451, 469, 470, 471, 487, 488, 489, 490, 505, 506, 507, 508, 509]))\n",
      "(367, Set([1883, 1330, 1331, 1332, 1887, 1340, 1853, 1854, 1344, 1888, 1346, 1347, 1348, 1349, 1350, 1889, 1868, 1866, 1355, 1356, 1357, 1358, 1359, 1360, 1361, 1362, 1870, 1878, 1879, 1880, 1881, 1882, 1871, 1884, 1885, 1886, 863, 1869, 1872, 1342]), 2511, Set([1024, 1025, 1026, 1544, 1545, 1546, 1547, 1548, 1040, 1041, 1042, 1044, 1562, 1563, 1564, 1565, 1566, 554, 1579, 1582, 1583, 1584, 571, 572, 573, 589, 590, 591, 592, 1976, 608, 609, 1994, 1995, 2013, 2014, 1918, 1919, 1920, 1934, 1935, 1936, 1937, 1938, 1939, 1940, 1431, 1432, 1433, 1434, 1435, 1436, 1437, 2032, 1957, 1958, 1960, 1450, 1451, 1452, 1453, 1454, 1455, 1456, 947, 948, 949, 950, 951, 952, 1977, 1979, 1469, 1470, 1471, 1472, 1473, 1474, 1475, 964, 966, 967, 968, 969, 970, 971, 1488, 1489, 1490, 1491, 1492, 1493, 983, 984, 985, 986, 987, 988, 989, 990, 2015, 2016, 1505, 1506, 1507, 1508, 1509, 1510, 1511, 1512, 1002, 1003, 1004, 1005, 1006, 1007, 1008, 2033, 2034, 1524, 1525, 1526, 1527, 1528, 1529, 1530, 1021, 1022, 1023]))\n",
      "(89, Set([1718, 713, 714, 715, 716, 1719, 1162, 752, 753, 1684, 788, 789, 790, 695, 696, 1620, 1161, 1098]), 692, Set([1922, 1924, 1925, 1926, 1942, 1943, 1944, 1438, 1439, 1440, 1959, 1960, 1961, 1962, 1455, 1456, 1457, 1458, 953, 954, 1979, 1980, 1473, 1474, 1475, 1476, 1995, 1996, 1997, 1998, 1492, 1493, 1494, 1977, 1978, 990, 1511, 1512, 1529, 1530]))\n",
      "(97, Set([1823, 1824, 1283, 1284, 1285, 1825, 1805, 1806, 1807, 1808, 1841, 1267, 1857, 1875, 1755, 1790, 1791]), 6569, Set([516, 521, 522, 1940, 537, 538, 539, 540, 553, 554, 555, 556, 557, 558, 572, 573, 574, 575, 576, 1975, 1976, 1977, 1978, 1979, 1980, 1958, 1906, 1994, 1995, 1996, 231, 266, 267, 268, 269, 1924, 1942, 1348, 1349, 1350, 1366, 1367, 1368, 1889, 1890, 1383, 1384, 1385, 1386, 879, 880, 881, 882, 1907, 1908, 1400, 1401, 1402, 1403, 1404, 1941, 897, 898, 899, 900, 1925, 1926, 1419, 1420, 1421, 1422, 915, 916, 917, 918, 1943, 1944, 1434, 1435, 1436, 1437, 1438, 1439, 1440, 930, 931, 932, 933, 934, 935, 936, 1961, 1962, 1451, 1452, 1453, 1454, 1455, 1456, 1457, 1458, 948, 949, 950, 951, 952, 953, 954, 1467, 1468, 1469, 1470, 1471, 1472, 1473, 1474, 1475, 1476, 965, 966, 967, 968, 969, 970, 971, 972, 1488, 1489, 1490, 1491, 1492, 1493, 1494, 1956, 986, 987, 988, 989, 990, 1957, 1507, 1508, 1509, 1510, 1511, 1512, 1959, 1960, 503, 504]))\n",
      "(1746, Set([1, 3, 4, 19, 20, 21, 22, 23, 24, 25, 26, 1173, 1371, 38, 40, 41, 45, 94, 109, 110, 111, 112, 113, 114, 115, 635, 128, 129, 130, 131, 132, 133, 1389, 145, 146, 147, 148, 149, 150, 151, 1176, 1177, 1696, 163, 164, 165, 166, 167, 168, 169, 1208, 1209, 1210, 1211, 1212, 1213, 703, 705, 706, 707, 1732, 1733, 1734, 203, 218, 219, 220, 221, 222, 740, 741, 742, 743, 744, 1769, 746, 776, 777, 778, 779, 1731, 326, 327, 328, 330, 343, 344, 345, 346, 347, 1372, 867, 868, 362, 1767, 364, 365, 366, 885, 886, 379, 380, 381, 382, 383, 384, 385, 1174, 1175, 401, 415, 416, 417, 418, 419, 420, 421, 472, 489, 490, 491]), 128, Set([1712, 1804, 1801, 1802, 1803, 1228, 1805, 1263, 1264, 1748, 1750, 1784, 1785, 1786, 1820, 1821, 1822]))\n",
      "(1259, Set([865, 866, 1379, 868, 869, 870, 871, 1384, 890, 892, 1315, 1316, 1317, 1333, 1334, 1335, 1336, 1337, 1338, 1339, 1855, 1856, 1857, 1858, 1859, 1351, 1352, 1353, 1354, 1355, 1356, 1357, 847, 848, 1361, 1874, 1875, 1876, 1877, 1878, 1879, 1370, 1371, 1372, 1373, 1374, 1375, 1376, 1377, 1378, 867, 1380, 1381, 1382, 1383, 872, 873, 874, 875, 1396, 1397, 1398, 1399, 1400, 1401, 1402, 1403, 1404, 893, 894, 895, 896, 897, 898, 1419, 1420, 1421, 1422, 913, 915, 916, 917, 918, 849, 1873, 496, 851]), 993, Set([2048, 2049, 2050, 2051, 2052, 2066, 2067, 1044, 2069, 2070, 1566, 1062, 1581, 1582, 1583, 1584, 1079, 1598, 1600, 1601, 1602, 1617, 1618, 1619, 1620, 2014, 2015, 2016, 1638, 2030, 2031, 2032, 2033, 2034, 2068]))\n",
      "(1170, Set([1771, 2054, 2055, 2056, 2046, 2058, 2059, 2060, 2061, 2062, 2063, 2064, 2065, 787, 1740, 1710, 2035, 1630, 2057, 1214, 1087, 1088, 1089, 1218, 1220, 1221, 1222, 1223, 1609, 1610, 1611, 1612, 1613, 1614, 1741, 1744, 1745, 1746, 1742, 1623, 1624, 1625, 1626, 1627, 1628, 1629, 1246, 1631, 1248, 1249, 1250, 1251, 1252, 1253, 1255, 1256, 1257, 1258, 1259, 1772, 1774, 1775, 1776, 1777, 1778, 1779, 1780, 1781, 1782, 2039, 1632, 2042, 2037, 1770, 1743]), 1724, Set([1539, 1540, 6, 7, 8, 9, 1034, 1035, 1036, 1037, 1555, 1556, 1557, 1558, 23, 24, 25, 26, 1051, 1052, 1053, 1054, 1542, 1574, 1575, 40, 41, 42, 43, 44, 1032, 1033, 77, 601, 602, 603, 604, 96, 97, 100, 617, 618, 619, 620, 621, 622, 113, 114, 115, 116, 117, 118, 119, 635, 636, 637, 638, 639, 640, 642, 1560, 148, 149, 150, 151, 167, 168, 169, 172, 184, 185, 186, 187, 188, 1227, 1228, 1229, 1230, 1231, 1749, 1573, 1576, 1262, 1263, 1264, 1265, 1266, 1267, 759, 760, 761, 762, 763, 1788, 1577, 1803, 1804, 1805, 796, 797, 798, 799, 294, 295, 296, 297, 298, 310, 311, 312, 313, 314, 315, 316, 317, 330, 331, 332, 333, 2007, 399, 400, 401, 402, 403, 437, 438, 439, 440, 456, 1784, 2005, 2006, 1785, 2008, 2009, 1786, 1787, 1015]))\n",
      "(225, Set([1259, 790, 1222, 1095, 1224, 1097, 1098, 1223, 1260, 432, 1256, 754, 1779, 756, 789, 662, 791, 792, 180, 1257, 1258]), 253, Set([1925, 1943, 1815, 1944, 1310, 1311, 1312, 1832, 1833, 1834, 1835, 1327, 1328, 1329, 1330, 1849, 1850, 1851, 1852, 1853, 1347, 1348, 1349, 1868, 843, 844, 1869, 1870, 860, 1384, 1385, 880, 881, 882, 1907, 1401, 1403]))\n",
      "(60, Set([1568, 2017, 1027, 1549, 1999, 2000, 1585, 631, 1567]), 60, Set([1056, 647, 648, 1073, 2035, 2036, 2040, 1590, 1591, 1592, 1595, 1054, 1055]))\n",
      "(24, Set([1361, 1323, 1341, 1342]), 4279, Set([1796, 1797, 1692, 1203, 1204, 1205, 1206, 1722, 1724, 1725, 1726, 1727, 1728, 1237, 1238, 1239, 1240, 1241, 1242, 1759, 1760, 1761, 1762, 1763, 1764, 1831, 1849, 1832, 1833, 1272, 1273, 1274, 1275, 1276, 1834, 1278, 1794, 1795, 772, 773, 1798, 1799, 1800, 1291, 1292, 1293, 1294, 1295, 1296, 1814, 1815, 1816, 1817, 1818, 1310, 1311, 1312, 1313, 1314, 806, 807, 808, 809, 810, 1835, 1836, 1329, 1330, 1331, 1332, 825, 1850, 827, 828, 1853, 1854, 1347, 1348, 1349, 1350, 1868, 1869, 1870, 1871, 1872, 1367, 1885, 1887, 1888, 1889, 1890, 1851, 1852, 1277]))\n",
      "(738, Set([1971, 1921, 1922, 1414, 1415, 1416, 1417, 1418, 1419, 1420, 1421, 1936, 1937, 1938, 1939, 1940, 1941, 1942, 1431, 1432, 1433, 1434, 1435, 1436, 1437, 1438, 1951, 1952, 1953, 1954, 931, 1956, 1969, 1949, 1449, 1450, 1451, 1452, 1453, 1454, 1455, 1968, 945, 1970, 947, 948, 1973, 1467, 1468, 1469, 1470, 1471, 1984, 963, 1484, 1485, 1486, 1955, 1943, 1400, 1983, 1917, 1919]), 32002, Set([2048, 2049, 2050, 2051, 2052, 2065, 2066, 2067, 2068, 2069, 2070, 102, 106, 123, 282, 297, 299, 300, 301, 302, 303, 304, 305, 306, 314, 317, 319, 320, 321, 322, 323, 324, 336, 337, 338, 339, 341, 342, 429, 431, 570, 581, 584, 585, 586, 587, 588, 589, 590, 591, 592, 593, 594, 599, 601, 602, 603, 604, 605, 606, 607, 608, 609, 610, 611, 612, 619, 620, 621, 622, 623, 624, 625, 626, 627, 628, 629, 630, 639, 640, 641, 642, 643, 644, 645, 646, 647, 648, 660, 662, 663, 664, 665, 666, 791, 970, 979, 980, 981, 982, 983, 984, 985, 986, 987, 988, 989, 990, 994, 995, 996, 997, 998, 999, 1000, 1001, 1002, 1003, 1004, 1005, 1006, 1007, 1008, 1011, 1013, 1014, 1015, 1016, 1017, 1018, 1019, 1020, 1021, 1022, 1023, 1024, 1025, 1026, 1033, 1034, 1035, 1036, 1037, 1038, 1039, 1040, 1041, 1042, 1043, 1044, 1051, 1052, 1053, 1054, 1055, 1056, 1057, 1058, 1059, 1060, 1061, 1062, 1072, 1073, 1074, 1075, 1076, 1077, 1078, 1079, 1080, 1092, 1095, 1096, 1097, 1098, 1480, 1481, 1482, 1483, 1484, 1485, 1486, 1487, 1488, 1489, 1490, 1491, 1492, 1493, 1496, 1497, 1498, 1499, 1500, 1501, 1502, 1503, 1504, 1505, 1506, 1507, 1508, 1509, 1510, 1511, 1512, 1515, 1516, 1517, 1518, 1519, 1520, 1521, 1522, 1523, 1524, 1525, 1526, 1527, 1528, 1529, 1530, 1533, 1534, 1535, 1536, 1537, 1538, 1539, 1540, 1541, 1542, 1543, 1544, 1545, 1546, 1547, 1548, 1552, 1553, 1554, 1555, 1556, 1557, 1558, 1559, 1560, 1561, 1562, 1563, 1564, 1565, 1566, 1572, 1573, 1574, 1575, 1576, 1577, 1578, 1579, 1580, 1581, 1582, 1583, 1584, 1591, 1592, 1593, 1594, 1595, 1596, 1597, 1598, 1599, 1600, 1601, 1602, 1612, 1613, 1614, 1615, 1616, 1617, 1618, 1619, 1620, 1636, 1637, 1948, 1949, 1950, 1951, 1952, 1953, 1954, 1955, 1956, 1957, 1963, 1964, 1965, 1966, 1967, 1968, 1969, 1970, 1971, 1972, 1973, 1974, 1975, 1976, 1977, 1978, 1981, 1982, 1983, 1984, 1985, 1986, 1987, 1988, 1989, 1990, 1991, 1992, 1993, 1994, 1995, 1996, 1997, 1998, 2004, 2005, 2006, 2007, 2008, 2009, 2010, 2011, 2012, 2013, 2014, 2015, 2016, 2024, 2025, 2026, 2027, 2028, 2029, 2030, 2031, 2032, 2033, 2034, 2043, 2044, 2045, 2046, 2047]))\n",
      "(440, Set([1282, 1283, 1284, 1285, 1158, 1159, 1160, 1161, 1806, 1807, 1681, 1682, 1299, 1300, 1301, 1302, 1303, 1304, 1305, 1842, 797, 798, 799, 800, 801, 1826, 1286, 1841, 1194, 1195, 1196, 1197, 815, 816, 817, 818, 1843, 1822, 1823, 1824, 1825, 1230, 1231, 1232, 730, 1124, 1125, 1645, 1646, 1647, 1648, 1683]), 7188, Set([1024, 1025, 1026, 1539, 1540, 1541, 1542, 1543, 1544, 1545, 1546, 1547, 1548, 1037, 1038, 1039, 1040, 1041, 1042, 1043, 1044, 1557, 1558, 1559, 1560, 1561, 1562, 1563, 1564, 1565, 1566, 1057, 1058, 1059, 1060, 1061, 1062, 1575, 1576, 1577, 1578, 1579, 1580, 1581, 1582, 1583, 1584, 1076, 1077, 1078, 1079, 1080, 1597, 1598, 1599, 1600, 1601, 1602, 1094, 2031, 1096, 1097, 1098, 1615, 1616, 1617, 1618, 1619, 1537, 1636, 609, 610, 612, 1637, 1638, 625, 1538, 627, 628, 629, 630, 1556, 2069, 2050, 644, 645, 646, 647, 648, 663, 664, 665, 666, 2068, 2051, 626, 2052, 2047, 2070, 1260, 1536, 789, 791, 792, 2013, 341, 342, 2048, 1620, 2033, 2034, 432, 1995, 2049, 2006, 2007, 2008, 2009, 2010, 2011, 2012, 1018, 2014, 2015, 2016, 2025, 2026, 2027, 2028, 2029, 2030, 1007, 2032, 1521, 1522, 1523, 1524, 1525, 1526, 1527, 1528, 1529, 1530, 1019, 1020, 1021, 1022, 1023]))\n",
      "(26, Set([1248, 1249, 391, 392, 142, 783, 784, 143]), 31, Set([1677, 1711, 1712, 1713, 1715, 1748, 1750, 1752, 1679]))\n",
      "(2458, Set([1024, 1541, 1542, 1543, 1544, 1545, 1546, 1547, 1036, 1037, 1038, 1039, 1040, 1041, 1042, 532, 533, 534, 535, 536, 1561, 1562, 1563, 1564, 1565, 1057, 551, 552, 553, 554, 1579, 1580, 1581, 568, 569, 570, 571, 572, 575, 586, 587, 588, 589, 590, 591, 593, 604, 605, 606, 607, 608, 609, 610, 625, 1558, 1559, 1560, 1578, 2008, 2009, 284, 2010, 2011, 301, 1379, 1900, 1901, 1902, 1903, 1904, 1395, 1396, 1397, 1398, 1399, 1400, 1919, 1920, 1921, 1922, 2027, 1414, 1415, 1416, 1417, 1418, 910, 911, 912, 913, 914, 1434, 1435, 928, 929, 930, 931, 932, 933, 966, 967, 983, 984, 985, 986, 987, 2012, 2013, 1505, 1506, 1507, 1508, 1509, 999, 1000, 1001, 1002, 1003, 1004, 1005, 1006, 1007, 1522, 1523, 1524, 1525, 1526, 1527, 1018, 1019, 1020, 1021, 1022, 1023]), 5445, Set([512, 513, 514, 515, 516, 517, 1537, 1538, 528, 529, 530, 531, 532, 533, 534, 535, 1501, 1882, 546, 547, 548, 549, 550, 551, 553, 1885, 563, 564, 565, 566, 567, 568, 569, 62, 581, 582, 583, 584, 585, 1535, 81, 82, 1861, 1981, 1555, 1504, 1983, 1984, 1985, 1986, 1539, 1987, 1988, 1881, 1365, 211, 224, 225, 226, 227, 229, 1883, 241, 242, 243, 244, 245, 1870, 1833, 1969, 258, 259, 260, 261, 262, 263, 264, 1867, 1536, 277, 278, 279, 280, 281, 1306, 1307, 1308, 1309, 1310, 1500, 1884, 1323, 1324, 1325, 1326, 1327, 1328, 1329, 1502, 1846, 1847, 1848, 1849, 1850, 1503, 1340, 1341, 1342, 1343, 1344, 1345, 1346, 1347, 1886, 837, 838, 839, 840, 841, 842, 843, 1868, 1869, 1358, 1359, 1360, 1361, 1362, 1363, 852, 853, 854, 855, 856, 857, 858, 859, 860, 861, 862, 1887, 1888, 1378, 1379, 1380, 1381, 872, 873, 874, 875, 876, 877, 878, 879, 890, 891, 892, 893, 894, 895, 908, 909, 910, 911, 1518, 1519, 1531, 1520, 1862, 1521, 1863, 1522, 1966, 943, 1968, 1864, 1970, 1865, 1012, 1866, 1982, 959, 960, 961, 962, 963, 964, 1989, 1990, 1484, 1485, 1851, 977, 978, 979, 980, 981, 982, 983, 1496, 1497, 1498, 1499, 476, 477, 478, 479, 480, 481, 994, 995, 996, 997, 998, 999, 1000, 1513, 1514, 1515, 1516, 493, 494, 495, 496, 497, 498, 499, 500, 1013, 1014, 1015, 1016, 1364, 1517, 1532, 1533, 1534, 511]))\n",
      "(60, Set([896, 897, 520, 1359, 1360, 1361, 915, 1880, 1881, 539, 540]), 37260, Set([2050, 7, 8, 9, 10, 11, 12, 13, 14, 15, 16, 17, 18, 27, 28, 29, 30, 31, 32, 33, 34, 35, 36, 44, 45, 46, 47, 48, 49, 50, 51, 52, 53, 54, 59, 60, 61, 62, 63, 64, 65, 66, 67, 68, 69, 70, 71, 72, 76, 78, 79, 80, 81, 82, 83, 84, 85, 86, 87, 88, 89, 90, 95, 97, 98, 99, 100, 101, 102, 103, 104, 105, 106, 107, 108, 114, 116, 117, 118, 119, 120, 121, 122, 123, 124, 125, 126, 136, 138, 139, 140, 143, 144, 153, 154, 155, 156, 157, 158, 159, 160, 161, 162, 169, 170, 172, 173, 174, 175, 176, 177, 178, 179, 180, 191, 192, 193, 194, 195, 198, 207, 208, 209, 210, 211, 212, 213, 214, 215, 216, 224, 225, 226, 227, 228, 229, 230, 231, 232, 233, 234, 240, 241, 242, 243, 244, 245, 246, 247, 248, 249, 250, 251, 252, 258, 259, 260, 261, 262, 263, 264, 265, 266, 267, 268, 269, 270, 277, 278, 279, 280, 281, 282, 283, 284, 285, 286, 287, 288, 294, 295, 296, 297, 298, 299, 300, 301, 302, 303, 304, 305, 306, 313, 314, 315, 316, 317, 318, 319, 320, 321, 322, 323, 324, 331, 333, 334, 335, 336, 337, 338, 339, 340, 341, 342, 357, 393, 413, 423, 425, 426, 427, 428, 429, 431, 432, 460, 461, 462, 463, 464, 476, 477, 478, 479, 480, 481, 482, 483, 484, 495, 496, 497, 498, 499, 500, 501, 502, 504, 512, 513, 514, 515, 516, 517, 518, 519, 520, 521, 522, 530, 531, 532, 533, 534, 535, 536, 537, 538, 539, 540, 547, 549, 550, 551, 552, 553, 554, 555, 556, 557, 558, 564, 565, 566, 567, 568, 569, 570, 571, 572, 573, 574, 575, 576, 583, 584, 585, 586, 587, 588, 589, 590, 591, 592, 593, 594, 602, 603, 604, 605, 606, 607, 608, 609, 610, 611, 612, 619, 620, 621, 622, 623, 624, 625, 626, 627, 628, 629, 630, 639, 640, 641, 642, 643, 644, 645, 646, 647, 648, 655, 659, 660, 661, 662, 663, 665, 752, 817, 819, 820, 821, 822, 823, 824, 825, 836, 837, 838, 839, 840, 841, 842, 843, 844, 845, 846, 853, 854, 855, 856, 857, 858, 859, 860, 861, 862, 863, 872, 873, 874, 875, 876, 877, 878, 879, 880, 894, 895, 897, 908, 909, 910, 911, 912, 913, 914, 915, 916, 917, 918, 928, 929, 930, 931, 932, 933, 934, 935, 945, 946, 948, 949, 950, 951, 953, 963, 964, 965, 966, 967, 968, 969, 970, 971, 972, 979, 980, 981, 982, 983, 984, 985, 986, 987, 988, 989, 990, 997, 998, 999, 1000, 1001, 1002, 1003, 1004, 1005, 1006, 1007, 1008, 1017, 1018, 1019, 1020, 1021, 1022, 1023, 1024, 1025, 1026, 1034, 1035, 1036, 1037, 1038, 1039, 1040, 1041, 1042, 1043, 1044, 1054, 1055, 1056, 1057, 1058, 1059, 1060, 1061, 1062, 1072, 1073, 1074, 1075, 1076, 1078, 1079, 1080, 1092, 1289, 1290, 1291, 1295, 1303, 1304, 1305, 1306, 1307, 1308, 1309, 1310, 1311, 1312, 1313, 1321, 1322, 1323, 1324, 1325, 1326, 1327, 1328, 1329, 1330, 1331, 1338, 1339, 1340, 1341, 1342, 1343, 1344, 1345, 1346, 1347, 1348, 1349, 1358, 1360, 1361, 1362, 1363, 1364, 1365, 1367, 1380, 1417, 1455, 1474, 1475, 1485, 1488, 1489, 1490, 1491, 1492, 1493, 1505, 1506, 1507, 1508, 1509, 1510, 1511, 1519, 1523, 1524, 1525, 1526, 1527, 1528, 1529, 1542, 1543, 1544, 1545, 1546, 1547, 1548, 1558, 1559, 1560, 1561, 1562, 1563, 1564, 1565, 1566, 1573, 1577, 1578, 1579, 1580, 1581, 1582, 1583, 1584, 1597, 1599, 1600, 1601, 1826, 1827, 1828, 1829, 1830, 1831, 1832, 1833, 1834, 1835, 1842, 1843, 1844, 1845, 1846, 1847, 1848, 1849, 1850, 1851, 1852, 1853, 1860, 1861, 1862, 1863, 1864, 1865, 1866, 1867, 1868, 1869, 1870, 1871, 1872, 1880, 1881, 1882, 1883, 1884, 1885, 1886, 1887, 1888, 1973, 1977, 2009, 2010, 2011, 2012, 2013, 2014, 2015, 2016, 2029, 2030, 2031, 2032, 2033, 2034]))\n",
      "(106, Set([1824, 1091, 187, 1092, 2065, 188, 1303, 172, 189, 2064, 817, 659, 660, 1302, 425, 153, 26, 27, 28, 154, 1823]), 72, Set([1, 2, 397, 145, 20, 289, 37, 38, 811, 307, 181, 55, 57, 577, 451, 199, 595, 991, 1513, 109, 1009, 1531]))\n",
      "(1228, Set([1408, 1, 2, 1411, 901, 902, 903, 904, 905, 906, 523, 524, 525, 526, 237, 1938, 19, 1390, 921, 1917, 1911, 543, 91, 37, 1410, 1916, 1898, 1901, 1919, 1395, 1894, 73, 56, 57, 58, 1388, 1934, 885, 1920, 1914, 201, 74, 75, 1900, 1897, 1409, 1912, 1389, 505, 217, 218, 219, 1373, 1913, 1915, 1893, 1414, 1895, 1896, 489, 490, 235, 236, 109, 238, 1391, 1392, 1393, 1394, 883, 884, 510, 886, 887, 1406, 55, 506, 507, 508, 509, 254, 1407]), 3066, Set([128, 1153, 130, 1155, 1156, 1661, 1644, 1675, 1676, 397, 398, 399, 145, 146, 147, 20, 1173, 667, 668, 669, 670, 671, 1696, 37, 39, 685, 686, 687, 688, 689, 1139, 181, 182, 1191, 1694, 703, 704, 705, 706, 1643, 199, 200, 1099, 1100, 1101, 1102, 1103, 1104, 721, 722, 723, 1678, 343, 344, 345, 1679, 1117, 1118, 1119, 1120, 1121, 1122, 1154, 1639, 1640, 361, 362, 363, 364, 365, 1135, 1136, 1137, 1138, 19, 757, 1641, 1677, 1657, 1658, 1659, 1660, 1642, 1662, 127]))\n",
      "(463, Set([640, 641, 623, 9, 10, 11, 12, 174, 407, 408, 155, 28, 29, 30, 27, 804, 805, 806, 1575, 171, 172, 173, 46, 47, 1813, 1054, 1053, 314, 315, 316, 317, 190, 192, 193, 1291, 1036, 334, 335, 1272, 803, 2006, 2007, 1290, 99, 1574, 102, 444, 621, 622, 445, 117, 118, 119, 120, 1273, 1274, 639, 638, 405]), 19, Set([1928, 601, 602, 1035, 1425]))\n",
      "(1238, Set([10, 11, 12, 13, 14, 15, 2064, 2065, 2066, 2067, 2068, 27, 28, 29, 30, 31, 32, 33, 1883, 46, 47, 48, 49, 1074, 1075, 1076, 65, 66, 1091, 1092, 1093, 1094, 1095, 1614, 1615, 1616, 1617, 2063, 1633, 1634, 1635, 100, 101, 102, 103, 117, 118, 119, 120, 121, 122, 123, 642, 643, 658, 660, 661, 662, 663, 155, 156, 157, 173, 174, 175, 176, 177, 193, 209, 210, 211, 228, 1325, 1072, 1073, 1324, 50, 1326, 318, 319, 1344, 1345, 838, 839, 840, 841, 1866, 1867, 334, 335, 336, 337, 338, 339, 856, 857, 858, 859, 1884, 1342, 1343, 67, 1864, 1865, 478, 479, 480, 481, 2047]), 60528, Set([12, 13, 17, 18, 27, 28, 29, 30, 31, 34, 41, 43, 44, 45, 46, 47, 48, 49, 50, 51, 52, 53, 54, 60, 63, 64, 65, 66, 67, 68, 69, 70, 71, 72, 85, 88, 89, 90, 131, 134, 135, 136, 137, 138, 139, 140, 142, 149, 150, 151, 152, 153, 154, 155, 156, 157, 158, 159, 160, 161, 162, 184, 185, 186, 187, 188, 189, 190, 191, 192, 193, 194, 195, 196, 197, 198, 203, 204, 205, 206, 207, 208, 209, 210, 211, 212, 213, 214, 215, 216, 222, 223, 224, 225, 226, 227, 228, 229, 230, 231, 232, 233, 234, 248, 249, 250, 251, 252, 349, 350, 351, 352, 353, 354, 355, 356, 365, 366, 367, 368, 369, 370, 371, 372, 373, 374, 375, 376, 377, 378, 388, 399, 400, 401, 402, 403, 404, 405, 406, 407, 408, 409, 410, 411, 412, 413, 414, 434, 435, 436, 437, 438, 439, 440, 441, 442, 443, 444, 445, 446, 447, 448, 449, 450, 452, 453, 454, 455, 456, 457, 458, 459, 460, 461, 462, 463, 464, 465, 466, 467, 468, 471, 472, 473, 474, 475, 476, 477, 478, 479, 480, 481, 482, 483, 484, 485, 486, 493, 495, 496, 497, 498, 499, 500, 501, 502, 503, 504, 510, 517, 518, 519, 520, 521, 522, 538, 540, 689, 690, 691, 692, 693, 694, 695, 696, 697, 698, 699, 700, 723, 724, 725, 726, 727, 728, 729, 730, 731, 732, 733, 734, 735, 736, 737, 738, 757, 759, 760, 761, 762, 763, 764, 765, 766, 767, 768, 769, 770, 771, 772, 773, 774, 794, 795, 796, 797, 798, 799, 800, 801, 802, 803, 804, 805, 806, 807, 808, 809, 810, 812, 813, 814, 815, 816, 817, 818, 819, 820, 821, 822, 823, 824, 825, 826, 827, 828, 831, 832, 833, 834, 835, 836, 837, 838, 839, 840, 841, 842, 843, 844, 845, 846, 850, 851, 852, 853, 854, 855, 856, 857, 858, 859, 860, 861, 862, 863, 864, 872, 873, 876, 877, 878, 879, 880, 881, 882, 895, 896, 897, 898, 899, 900, 918, 1124, 1125, 1126, 1127, 1132, 1155, 1157, 1158, 1159, 1160, 1161, 1162, 1163, 1164, 1165, 1166, 1167, 1168, 1169, 1191, 1192, 1193, 1194, 1195, 1196, 1197, 1198, 1199, 1200, 1201, 1202, 1203, 1204, 1205, 1206, 1227, 1228, 1229, 1230, 1231, 1232, 1233, 1234, 1235, 1236, 1237, 1238, 1239, 1240, 1241, 1242, 1262, 1263, 1264, 1265, 1266, 1267, 1268, 1269, 1270, 1271, 1272, 1273, 1274, 1275, 1276, 1277, 1278, 1279, 1280, 1281, 1282, 1283, 1284, 1285, 1286, 1287, 1288, 1289, 1290, 1291, 1292, 1293, 1294, 1295, 1296, 1299, 1300, 1301, 1302, 1303, 1304, 1305, 1306, 1307, 1308, 1309, 1310, 1311, 1312, 1313, 1314, 1318, 1319, 1320, 1321, 1322, 1323, 1324, 1325, 1326, 1327, 1328, 1329, 1330, 1331, 1332, 1339, 1340, 1341, 1342, 1343, 1344, 1345, 1346, 1347, 1348, 1349, 1350, 1380, 1381, 1382, 1385, 1386, 1678, 1680, 1681, 1682, 1683, 1684, 1685, 1686, 1687, 1689, 1713, 1714, 1715, 1716, 1717, 1718, 1719, 1720, 1721, 1722, 1723, 1724, 1725, 1726, 1727, 1747, 1748, 1749, 1750, 1751, 1752, 1753, 1754, 1755, 1756, 1757, 1758, 1759, 1760, 1761, 1762, 1763, 1764, 1783, 1784, 1785, 1786, 1787, 1788, 1789, 1790, 1791, 1792, 1793, 1794, 1795, 1796, 1797, 1798, 1799, 1800, 1804, 1805, 1806, 1807, 1808, 1809, 1810, 1811, 1812, 1813, 1814, 1815, 1816, 1817, 1818, 1820, 1822, 1823, 1824, 1825, 1826, 1827, 1828, 1829, 1830, 1831, 1832, 1833, 1834, 1835, 1836, 1840, 1841, 1842, 1843, 1844, 1845, 1846, 1847, 1848, 1849, 1850, 1851, 1852, 1853, 1854, 1861, 1862, 1863, 1864, 1865, 1866, 1867, 1868, 1869, 1870, 1871, 1872, 1883, 1887, 1889, 1890]))\n",
      "(97, Set([731, 360, 732, 1163, 1164, 1165, 1166, 1200, 1201, 1684, 1685, 696, 698, 699, 700, 733, 734]), 13, Set([688, 417, 1083, 1065, 687]))\n",
      "(536, Set([2048, 2049, 2050, 2027, 2028, 2064, 2069, 791, 792, 1188, 1577, 1579, 2046, 1224, 1595, 1596, 1781, 1095, 1096, 1097, 1098, 1612, 1615, 1616, 1617, 1618, 1619, 1620, 2005, 2007, 2008, 2009, 2010, 1635, 1636, 1637, 1638, 2025, 1258, 1259, 1260, 2029, 2030, 2045, 1150, 2043, 2044, 2026, 1223, 2047]), 7886, Set([2053, 2058, 1063, 1064, 1585, 1081, 1082, 1083, 1084, 1085, 1086, 1603, 1604, 1605, 1607, 1621, 1622, 1623, 1624, 1625, 1626, 1627, 1135, 1136, 1137, 1138, 1139, 1140, 1141, 1142, 1657, 1658, 1659, 1660, 1661, 1662, 1663, 1664, 1665, 1666, 1667, 1668, 1729, 649, 650, 651, 652, 1171, 1172, 1173, 1174, 1175, 1176, 1177, 1178, 1179, 1693, 1694, 1695, 1696, 1697, 1698, 1699, 1700, 1701, 1702, 1703, 1704, 1705, 1207, 1208, 1209, 1210, 1211, 1212, 1213, 1214, 1215, 704, 705, 1730, 1731, 1732, 1733, 1734, 1735, 1736, 1737, 1738, 1739, 1740, 1741, 1243, 1244, 1245, 1246, 1247, 1248, 1249, 1250, 1251, 740, 741, 742, 743, 744, 745, 1770, 1771, 1772, 1773, 1774, 775, 776, 777, 778, 779, 780, 781, 783, 327, 739, 1765, 1766, 1767, 1768, 1769, 415, 416]))\n",
      "(34, Set([644, 645, 107, 108, 90, 1596, 2045, 2046]), 45, Set([1513, 1514, 1963, 973, 1981, 1982, 1983]))\n",
      "(605, Set([1408, 1409, 1410, 901, 902, 903, 904, 524, 1423, 1424, 919, 920, 922, 543, 937, 1355, 1356, 1357, 1358, 1359, 1369, 1370, 1371, 1372, 1373, 1374, 1375, 1376, 1893, 1894, 1895, 1896, 1897, 1387, 1388, 1389, 1390, 1391, 1392, 1393, 883, 884, 885, 886, 1911, 1912, 1913, 1405, 1406, 1407]), 9519, Set([2048, 2049, 2050, 1027, 2052, 1029, 1030, 1031, 2056, 2057, 2058, 2059, 2060, 2061, 2062, 2063, 2064, 2065, 2066, 2051, 2068, 1045, 1046, 1047, 1048, 1049, 1050, 1051, 1055, 1568, 1569, 1058, 1571, 1572, 1573, 1574, 1063, 1064, 1065, 1066, 1067, 1580, 1069, 1582, 1583, 1585, 1586, 1075, 1588, 1077, 1590, 1591, 1080, 1081, 1082, 1083, 1084, 1085, 1086, 1087, 1600, 1601, 1602, 1603, 1604, 1093, 1094, 1607, 1096, 1097, 1610, 1611, 1612, 1613, 1614, 1615, 1616, 1617, 1618, 1619, 1620, 1621, 1622, 1623, 1624, 1625, 1626, 1627, 1628, 1629, 1630, 1631, 1632, 1633, 1634, 1635, 1636, 1637, 1638, 2067, 2069, 2070, 1567, 1570, 1244, 1255, 1575, 1577, 2054, 1578, 1579, 1068, 2055, 1071, 1587, 1589, 1078, 1592, 1593, 1594, 1595, 1596, 1597, 1598, 1599, 1088, 2053, 1090, 1605, 1606, 1608, 1609, 1999, 2000, 2001, 2002, 2003, 2004, 2005, 2006, 2009, 2010, 2013, 2014, 2015, 2017, 2018, 2019, 2020, 2021, 2022, 2023, 2024, 2025, 2026, 2027, 2028, 2029, 2030, 2031, 2032, 2033, 2034, 2035, 2036, 2037, 2038, 2039, 2040, 2041, 2042, 2043, 2044, 2045, 2046, 2047]))\n",
      "(19, Set([1819, 1820, 1821]), 39, Set([1804, 1225, 1802, 1803, 1801, 1261, 1263, 1783]))\n"
     ]
    }
   ],
   "source": [
    "for evt1, evt2 in zip(ndoms, ndoms_st):\n",
    "    print(len(evt1), sets.Set(evt1), len(evt2),sets.Set(evt2))"
   ]
  },
  {
   "cell_type": "code",
   "execution_count": 64,
   "metadata": {
    "collapsed": false
   },
   "outputs": [
    {
     "name": "stdout",
     "output_type": "stream",
     "text": [
      "Set([1401, 1907, 1397, 1398, 1399])\n",
      "Set([1603, 1604, 1605, 1606, 1607])\n"
     ]
    }
   ],
   "source": [
    "for evt1, evt2 in zip(ndoms, ndoms_st):\n",
    "    if (sets.Set(evt1)==sets.Set(evt2)):\n",
    "        print(sets.Set(evt1))\n",
    "    elif (sets.Set(evt2) in sets.Set(evt1)):\n",
    "        print sets.Set(evt1)"
   ]
  },
  {
   "cell_type": "code",
   "execution_count": 52,
   "metadata": {
    "collapsed": false
   },
   "outputs": [
    {
     "data": {
      "text/plain": [
       "Set([1804, 1225, 1802, 1803, 1801, 1261, 1263, 1783, 1784])"
      ]
     },
     "execution_count": 52,
     "metadata": {},
     "output_type": "execute_result"
    }
   ],
   "source": [
    "uniqevt"
   ]
  },
  {
   "cell_type": "code",
   "execution_count": null,
   "metadata": {
    "collapsed": true
   },
   "outputs": [],
   "source": []
  }
 ],
 "metadata": {
  "kernelspec": {
   "display_name": "Python 2",
   "language": "python",
   "name": "python2"
  },
  "language_info": {
   "codemirror_mode": {
    "name": "ipython",
    "version": 2
   },
   "file_extension": ".py",
   "mimetype": "text/x-python",
   "name": "python",
   "nbconvert_exporter": "python",
   "pygments_lexer": "ipython2",
   "version": "2.7.6"
  }
 },
 "nbformat": 4,
 "nbformat_minor": 0
}
