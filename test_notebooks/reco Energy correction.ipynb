{
 "cells": [
  {
   "cell_type": "markdown",
   "metadata": {},
   "source": [
    "/sps/km3net/users/cdesio/antares_seawiet/ARCA/trigger_optimisation(0)>cat E_correction_v2.cc \n",
    "double E_correction(double E_fit)\n",
    "{\n",
    "// **** Input ****\n",
    "// E_fit  -> Reconstructed energy    // in GeV\n",
    "\n",
    "// **** Output ****\n",
    "// E_fit_corr  -> Reconstructed energy corrected    // in GeV\n",
    "\n",
    "// R. Coniglione 9-3-2016\n",
    "// Correct the reconstructed energy estimated by JEnergy\n",
    "//\n",
    "// Correction based on the fit of the median distributions of log10(E_mu) as a function of the reconstructed energy log10(E_fit). \n",
    "// see PhD thesis of Agata Trovato\n",
    "// \n",
    "// median values at low energy estimated from the weighted spectra (nu_atm and E^-2 spectra)\n",
    "// 100 files of nu_muCC used for the fit of the MC data \n",
    "\n",
    "      double logE_fit =log10(E_fit);\n",
    "      double Fit_median=0.;\n",
    "\n",
    "    \n",
    "//      fit for E_fit from 10^4 to 10^7 GeV\n",
    "\n",
    "/*\n",
    "p0                        =     -8.72485   +/-   25.1183     \n",
    "p1                        =      5.16495   +/-   25.1006     \n",
    "p2                        =    -0.174627   +/-   9.93259     \n",
    "p3                        =    -0.198979   +/-   1.94585     \n",
    "p4                        =    0.0385912   +/-   0.188767    \n",
    "p5                        =  -0.00213019   +/-   0.00725649  \n",
    "*/\n",
    "      double A0 = -8.72485;\n",
    "      double A1 =  5.16495 ;          \n",
    "      double A2 = -0.174627;         \n",
    "      double A3 = -0.198979;           \n",
    "      double A4 =  0.0385912 ;           \n",
    "      double A5 = -0.00213019;           \n",
    "     \n",
    "\n",
    "//      fit for E_fit from 10^2.8 to 10^3.5\n",
    "\n",
    "/*\n",
    "p0                        =      1081.22   +/-   70308.3     \n",
    "p1                        =     -1336.46   +/-   83940.7     \n",
    "p2                        =      614.871   +/-   37521.8     \n",
    "p3                        =     -124.755   +/-   7442.58     \n",
    "p4                        =      9.43893   +/-   552.718     \n",
    "*/\n",
    "      double B0 =1081.22;\n",
    "      double B1 =   -1336.46;          \n",
    "      double B2 = 614.871 ;         \n",
    "      double B3 =  -124.755;           \n",
    "      double B4 =   9.43893;           \n",
    "      \n",
    "\n",
    "//      fit for E_fit from 10^3.5 to 10^4\n",
    "/*\n",
    "p0                        =     -60.3619   +/-   5169.48     \n",
    "p1                        =      45.7012   +/-   4091.37     \n",
    "p2                        =     -11.0884   +/-   1077.53     \n",
    "p3                        =     0.923034   +/-   94.4355     \n",
    "*/\n",
    "\n",
    "      double C0 =-60.3619;\n",
    "      double C1 = 45.7012;          \n",
    "      double C2 =-11.0884 ;         \n",
    "      double C3 =  0.923034;           \n",
    "\n",
    "// linear extrapolation for \n",
    "//     E_fit <10^2.8 GeV\n",
    "/*\n",
    "p0                        =     -7.20045   +/-   23.0366     \n",
    "p1                        =      3.03519   +/-   8.03504     \n",
    "*/\n",
    "\n",
    "      double D0 =-7.20045;\n",
    "//      double D1 = 3.03519 ;    original      \n",
    "      double D1 = 3.01 ;    // by hand to match the connection point\n",
    "\n",
    "    // linear extrapolation for \n",
    "//      E_fit >10^7 GeV\n",
    "\n",
    "//p0                        =     0.375618   +/-   32.7462     \n",
    "//p1                        =      1.01931   +/-   4.8909      \n",
    "\n",
    "      double E0 = 0.375618;\n",
    "      double E1 = 1.01931;          \n",
    "\n",
    "      if(logE_fit>1   && logE_fit<=2.8)Fit_median = D0+D1*pow(logE_fit,1);\n",
    "      if(logE_fit>2.8 && logE_fit<=3.5)Fit_median = B0+B1*pow(logE_fit,1)+B2*pow(logE_fit,2)+B3*pow(logE_fit,3)+B4*pow(logE_fit,4);\n",
    "      if(logE_fit>3.5 && logE_fit<=4)  Fit_median = C0+C1*pow(logE_fit,1)+C2*pow(logE_fit,2)+C3*pow(logE_fit,3);\n",
    "      if(logE_fit>4   && logE_fit<7)   Fit_median = A0+A1*pow(logE_fit,1)+A2*pow(logE_fit,2)+A3*pow(logE_fit,3)+A4*pow(logE_fit,4)+A5*pow(logE_fit,5);\n",
    "      if(logE_fit>=7)Fit_median = E0+E1*pow(logE_fit,1);\n",
    "      if(logE_fit<=1)Fit_median = logE_fit; //correction not applied\n",
    "\n",
    "      double E_fit_corr=pow(10,Fit_median);\n",
    "\n",
    "      return E_fit_corr;\n",
    "}\n"
   ]
  },
  {
   "cell_type": "code",
   "execution_count": 6,
   "metadata": {
    "collapsed": false
   },
   "outputs": [],
   "source": [
    "import ROOT\n",
    "import root_numpy as rnp\n",
    "import numpy as np\n",
    "from dependencies import root_dependencies\n",
    "root_dependencies()"
   ]
  },
  {
   "cell_type": "code",
   "execution_count": 7,
   "metadata": {
    "collapsed": true
   },
   "outputs": [],
   "source": [
    "rootfile = \"../../ROOT_files/km3_v4_numucc_1.evt.JEnergy.root\""
   ]
  },
  {
   "cell_type": "code",
   "execution_count": 15,
   "metadata": {
    "collapsed": false
   },
   "outputs": [],
   "source": [
    "reco_en = np.hstack(rnp.root2array(rootfile, treename=\"EVT\", branches=\"vector<JFIT::JFit>.__E\"))"
   ]
  },
  {
   "cell_type": "code",
   "execution_count": 26,
   "metadata": {
    "collapsed": false
   },
   "outputs": [],
   "source": [
    "def E_corr(reco_energy):\n",
    "    logE_fit = np.log10(reco_energy)\n",
    "\n",
    "    #fit for E_fit from 10^4 to 10^7 GeV\n",
    "\n",
    "    '''\n",
    "    p0                        =     -8.72485   +/-   25.1183     \n",
    "    p1                        =      5.16495   +/-   25.1006     \n",
    "    p2                        =    -0.174627   +/-   9.93259     \n",
    "    p3                        =    -0.198979   +/-   1.94585     \n",
    "    p4                        =    0.0385912   +/-   0.188767    \n",
    "    p5                        =  -0.00213019   +/-   0.00725649  \n",
    "    '''\n",
    "    A0 = -8.72485\n",
    "    A1 =  5.16495          \n",
    "    A2 = -0.174627\n",
    "    A3 = -0.198979\n",
    "    A4 =  0.0385912 \n",
    "    A5 = -0.00213019\n",
    "\n",
    "    #fit for E_fit from 10^2.8 to 10^3.5\n",
    "\n",
    "    '''\n",
    "    p0                        =      1081.22   +/-   70308.3     \n",
    "    p1                        =     -1336.46   +/-   83940.7     \n",
    "    p2                        =      614.871   +/-   37521.8     \n",
    "    p3                        =     -124.755   +/-   7442.58     \n",
    "    p4                        =      9.43893   +/-   552.718     \n",
    "    '''\n",
    "    B0 =1081.22\n",
    "    B1 =   -1336.46\n",
    "    B2 = 614.871\n",
    "    B3 =  -124.755\n",
    "    B4 =   9.43893\n",
    "    B3 =  -124.755\n",
    "    B4 =   9.43893\n",
    "    #      fit for E_fit from 10^3.5 to 10^4\n",
    "    '''\n",
    "    p0                        =     -60.3619   +/-   5169.48     \n",
    "    p1                        =      45.7012   +/-   4091.37     \n",
    "    p2                        =     -11.0884   +/-   1077.53     \n",
    "    p3                        =     0.923034   +/-   94.4355     \n",
    "    '''\n",
    "\n",
    "    C0 =-60.3619\n",
    "    C1 = 45.7012\n",
    "    C2 =-11.0884 \n",
    "    C3 =  0.923034\n",
    "\n",
    "    # linear extrapolation for E_fit <10^2.8 GeV\n",
    "    '''\n",
    "    p0                        =     -7.20045   +/-   23.0366     \n",
    "    p1                        =      3.03519   +/-   8.03504     \n",
    "    '''\n",
    "\n",
    "    D0 =-7.20045\n",
    "    #D1 = 3.03519    original      \n",
    "    D1 = 3.01  #by hand to match the connection point\n",
    "\n",
    "    #linear extrapolation for E_fit >10^7 GeV\n",
    "\n",
    "    #p0                        =     0.375618   +/-   32.7462     \n",
    "    #p1                        =      1.01931   +/-   4.8909      \n",
    "\n",
    "    E0 = 0.375618\n",
    "    E1 = 1.01931\n",
    "    \n",
    "    E_fit_corr = np.zeros(logE_fit.shape)\n",
    "    for i, en in enumerate(logE_fit):\n",
    "        if(en >1. and en <= 2.8):\n",
    "            Fit_median = D0+D1*pow(en,1)\n",
    "        elif(en >2.8 and en<=3.5):\n",
    "            Fit_median = B0+B1*pow(en,1)+B2*pow(en,2)+B3*pow(en,3)+B4*pow(en,4)\n",
    "        elif(en>3.5 and en<=4.):\n",
    "            Fit_median = C0+C1*pow(en,1)+C2*pow(en,2)+C3*pow(en,3)\n",
    "        elif(en>4. and en<7.):\n",
    "            Fit_median = A0+A1*pow(en,1)+A2*pow(en,2)+A3*pow(en,3)+A4*pow(en,4)+A5*pow(en,5)\n",
    "        elif(en>=7.):\n",
    "            Fit_median = E0+E1*pow(en,1)\n",
    "        elif(en<=1.):\n",
    "            Fit_median = en # correction not applied\n",
    "\n",
    "        E_fit_corr[i]=pow(10,Fit_median)\n",
    "\n",
    "    return E_fit_corr"
   ]
  },
  {
   "cell_type": "code",
   "execution_count": 32,
   "metadata": {
    "collapsed": false
   },
   "outputs": [],
   "source": [
    "E_fit_corr = E_corr(reco_en)"
   ]
  },
  {
   "cell_type": "code",
   "execution_count": 28,
   "metadata": {
    "collapsed": true
   },
   "outputs": [],
   "source": [
    "mc_en = rnp.root2array(rootfile, treename=\"MONTECARLO\", branches=\"MONTECARLO.neutrino_.E_\")"
   ]
  },
  {
   "cell_type": "code",
   "execution_count": 37,
   "metadata": {
    "collapsed": true
   },
   "outputs": [],
   "source": [
    "mc_trklst_E = np.hstack(rnp.root2array(rootfile, treename=\"MONTECARLO\", branches=\"MONTECARLO.TrackList().E_[0]\"))"
   ]
  },
  {
   "cell_type": "code",
   "execution_count": 30,
   "metadata": {
    "collapsed": false
   },
   "outputs": [
    {
     "data": {
      "text/plain": [
       "array([ 121.79 ,  167.372,  141.919,  112.132,  141.27 ,  172.358,\n",
       "        190.802,  188.589,  296.37 ,  197.317])"
      ]
     },
     "execution_count": 30,
     "metadata": {},
     "output_type": "execute_result"
    }
   ],
   "source": [
    "mc_en[:10]"
   ]
  },
  {
   "cell_type": "code",
   "execution_count": 38,
   "metadata": {
    "collapsed": false
   },
   "outputs": [
    {
     "name": "stdout",
     "output_type": "stream",
     "text": [
      "(24.205295225621221, 0.00092282692181570804, 121.79000000000001, 82.195599999999999)\n",
      "(131.50714764890017, 0.15051769813212942, 167.37200000000001, 124.831)\n",
      "(57.859219497161142, 0.0127142702461934, 141.91900000000001, 71.061499999999995)\n",
      "(3027.7708778014539, 2025.7018700671338, 112.13200000000001, 86.730400000000003)\n",
      "(1888.0720009000031, 693.21616644556343, 141.27000000000001, 105.536)\n",
      "(8.6680261233903817, 8.6680261233903817, 172.358, 163.08199999999999)\n",
      "(74.401212276759722, 0.027102280502718599, 190.80199999999999, 64.480000000000004)\n",
      "(51.854076163516645, 0.0091421118991249616, 188.589, 45.424700000000001)\n",
      "(291.46656899577556, 1.6518177687819215, 296.37, 236.58000000000001)\n",
      "(1742.847983418379, 542.95535390636212, 197.31700000000001, 161.82300000000001)\n"
     ]
    }
   ],
   "source": [
    "for i in range(10):\n",
    "    print(reco_en[i], E_fit_corr[i], mc_en[i], mc_trklst_E[i])"
   ]
  },
  {
   "cell_type": "code",
   "execution_count": 35,
   "metadata": {
    "collapsed": true
   },
   "outputs": [],
   "source": [
    "pow?"
   ]
  },
  {
   "cell_type": "code",
   "execution_count": null,
   "metadata": {
    "collapsed": true
   },
   "outputs": [],
   "source": []
  }
 ],
 "metadata": {
  "kernelspec": {
   "display_name": "Python 2",
   "language": "python",
   "name": "python2"
  },
  "language_info": {
   "codemirror_mode": {
    "name": "ipython",
    "version": 2
   },
   "file_extension": ".py",
   "mimetype": "text/x-python",
   "name": "python",
   "nbconvert_exporter": "python",
   "pygments_lexer": "ipython2",
   "version": "2.7.6"
  }
 },
 "nbformat": 4,
 "nbformat_minor": 1
}
