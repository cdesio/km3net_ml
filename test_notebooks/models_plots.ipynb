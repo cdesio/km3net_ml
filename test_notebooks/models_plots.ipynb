{
 "cells": [
  {
   "cell_type": "code",
   "execution_count": 1,
   "metadata": {},
   "outputs": [
    {
     "name": "stderr",
     "output_type": "stream",
     "text": [
      "Using TensorFlow backend.\n"
     ]
    }
   ],
   "source": [
    "import keras"
   ]
  },
  {
   "cell_type": "code",
   "execution_count": 2,
   "metadata": {
    "collapsed": true
   },
   "outputs": [],
   "source": [
    "import numpy as np"
   ]
  },
  {
   "cell_type": "code",
   "execution_count": 11,
   "metadata": {
    "collapsed": true
   },
   "outputs": [],
   "source": [
    "from network_models import TZnet_regression_cosz, TZXY_numu_nue_classification"
   ]
  },
  {
   "cell_type": "code",
   "execution_count": 16,
   "metadata": {},
   "outputs": [
    {
     "name": "stdout",
     "output_type": "stream",
     "text": [
      "_________________________________________________________________\n",
      "Layer (type)                 Output Shape              Param #   \n",
      "=================================================================\n",
      "tz_input (InputLayer)        (None, 75, 18, 1)         0         \n",
      "_________________________________________________________________\n",
      "tz_block1_conv1 (Conv2D)     (None, 75, 18, 32)        4640      \n",
      "_________________________________________________________________\n",
      "tz_block1_conv2 (Conv2D)     (None, 75, 18, 32)        147488    \n",
      "_________________________________________________________________\n",
      "tz_block1_pool (AveragePooli (None, 38, 9, 32)         0         \n",
      "_________________________________________________________________\n",
      "tz_block2_conv1 (Conv2D)     (None, 38, 9, 64)         294976    \n",
      "_________________________________________________________________\n",
      "tz_block2_conv2 (Conv2D)     (None, 38, 9, 64)         589888    \n",
      "_________________________________________________________________\n",
      "tz_block2_pool (AveragePooli (None, 19, 5, 64)         0         \n",
      "_________________________________________________________________\n",
      "tz_block3_conv2 (Conv2D)     (None, 19, 5, 128)        1179776   \n",
      "_________________________________________________________________\n",
      "tz_block3_pool (AveragePooli (None, 10, 3, 128)        0         \n",
      "_________________________________________________________________\n",
      "flatten_4 (Flatten)          (None, 3840)              0         \n",
      "_________________________________________________________________\n",
      "fc-1 (Dense)                 (None, 512)               1966592   \n",
      "_________________________________________________________________\n",
      "fc-2 (Dense)                 (None, 512)               262656    \n",
      "_________________________________________________________________\n",
      "prediction (Dense)           (None, 1)                 513       \n",
      "=================================================================\n",
      "Total params: 4,446,529\n",
      "Trainable params: 4,446,529\n",
      "Non-trainable params: 0\n",
      "_________________________________________________________________\n"
     ]
    }
   ],
   "source": [
    "model = TZnet_regression_cosz()\n",
    "model.summary()"
   ]
  },
  {
   "cell_type": "code",
   "execution_count": 8,
   "metadata": {},
   "outputs": [],
   "source": [
    "from IPython.display import SVG\n",
    "from keras.utils.vis_utils import model_to_dot\n",
    "\n",
    "graph = SVG(model_to_dot(model).create(prog='dot', format='svg'))"
   ]
  },
  {
   "cell_type": "code",
   "execution_count": 18,
   "metadata": {
    "collapsed": true
   },
   "outputs": [],
   "source": [
    "from keras.utils import plot_model\n",
    "plot_model(model, to_file='plots/model_cosz_shapes.png', show_shapes=True)\n",
    "plot_model(model, to_file='plots/model_cosz.png', show_shapes=False)"
   ]
  },
  {
   "cell_type": "code",
   "execution_count": 19,
   "metadata": {
    "collapsed": true
   },
   "outputs": [
    {
     "name": "stdout",
     "output_type": "stream",
     "text": [
      "____________________________________________________________________________________________________\n",
      "Layer (type)                     Output Shape          Param #     Connected to                     \n",
      "====================================================================================================\n",
      "tz_input (InputLayer)            (None, 75, 18, 1)     0                                            \n",
      "____________________________________________________________________________________________________\n",
      "xy_input (InputLayer)            (None, 16, 15, 1)     0                                            \n",
      "____________________________________________________________________________________________________\n",
      "tz_block1_conv1 (Conv2D)         (None, 75, 18, 32)    4640        tz_input[0][0]                   \n",
      "____________________________________________________________________________________________________\n",
      "xy_block1_conv1 (Conv2D)         (None, 16, 15, 32)    4640        xy_input[0][0]                   \n",
      "____________________________________________________________________________________________________\n",
      "tz_block1_conv2 (Conv2D)         (None, 75, 18, 32)    147488      tz_block1_conv1[0][0]            \n",
      "____________________________________________________________________________________________________\n",
      "xy_block1_conv2 (Conv2D)         (None, 16, 15, 32)    147488      xy_block1_conv1[0][0]            \n",
      "____________________________________________________________________________________________________\n",
      "tz_block1_pool (AveragePooling2D (None, 38, 9, 32)     0           tz_block1_conv2[0][0]            \n",
      "____________________________________________________________________________________________________\n",
      "xy_block1_pool (AveragePooling2D (None, 8, 8, 32)      0           xy_block1_conv2[0][0]            \n",
      "____________________________________________________________________________________________________\n",
      "tz_block2_conv1 (Conv2D)         (None, 38, 9, 64)     294976      tz_block1_pool[0][0]             \n",
      "____________________________________________________________________________________________________\n",
      "xy_block2_conv1 (Conv2D)         (None, 8, 8, 64)      294976      xy_block1_pool[0][0]             \n",
      "____________________________________________________________________________________________________\n",
      "tz_block2_conv2 (Conv2D)         (None, 38, 9, 64)     589888      tz_block2_conv1[0][0]            \n",
      "____________________________________________________________________________________________________\n",
      "xy_block2_conv2 (Conv2D)         (None, 8, 8, 64)      589888      xy_block2_conv1[0][0]            \n",
      "____________________________________________________________________________________________________\n",
      "tz_block2_pool (AveragePooling2D (None, 19, 5, 64)     0           tz_block2_conv2[0][0]            \n",
      "____________________________________________________________________________________________________\n",
      "xy_block2_pool (AveragePooling2D (None, 4, 4, 64)      0           xy_block2_conv2[0][0]            \n",
      "____________________________________________________________________________________________________\n",
      "tz_block3_conv2 (Conv2D)         (None, 19, 5, 128)    1179776     tz_block2_pool[0][0]             \n",
      "____________________________________________________________________________________________________\n",
      "xy_block3_conv2 (Conv2D)         (None, 4, 4, 128)     1179776     xy_block2_pool[0][0]             \n",
      "____________________________________________________________________________________________________\n",
      "tz_block3_pool (AveragePooling2D (None, 10, 3, 128)    0           tz_block3_conv2[0][0]            \n",
      "____________________________________________________________________________________________________\n",
      "xy_block3_pool (AveragePooling2D (None, 2, 2, 128)     0           xy_block3_conv2[0][0]            \n",
      "____________________________________________________________________________________________________\n",
      "flatten_5 (Flatten)              (None, 3840)          0           tz_block3_pool[0][0]             \n",
      "____________________________________________________________________________________________________\n",
      "flatten_6 (Flatten)              (None, 512)           0           xy_block3_pool[0][0]             \n",
      "____________________________________________________________________________________________________\n",
      "merge_concat (Concatenate)       (None, 4352)          0           flatten_5[0][0]                  \n",
      "                                                                   flatten_6[0][0]                  \n",
      "____________________________________________________________________________________________________\n",
      "dense_3 (Dense)                  (None, 512)           2228736     merge_concat[0][0]               \n",
      "____________________________________________________________________________________________________\n",
      "dense_4 (Dense)                  (None, 512)           262656      dense_3[0][0]                    \n",
      "____________________________________________________________________________________________________\n",
      "prediction (Dense)               (None, 2)             1026        dense_4[0][0]                    \n",
      "====================================================================================================\n",
      "Total params: 6,925,954\n",
      "Trainable params: 6,925,954\n",
      "Non-trainable params: 0\n",
      "____________________________________________________________________________________________________\n"
     ]
    }
   ],
   "source": [
    "model = TZXY_numu_nue_classification(2)\n",
    "model.summary()"
   ]
  },
  {
   "cell_type": "code",
   "execution_count": 20,
   "metadata": {
    "collapsed": true
   },
   "outputs": [],
   "source": [
    "from keras.utils import plot_model\n",
    "plot_model(model, to_file='plots/model_numu_nue_shapes.png', show_shapes=True)\n",
    "plot_model(model, to_file='plots/model_numu_nue.png', show_shapes=False)"
   ]
  },
  {
   "cell_type": "code",
   "execution_count": null,
   "metadata": {
    "collapsed": true
   },
   "outputs": [],
   "source": []
  }
 ],
 "metadata": {
  "kernelspec": {
   "display_name": "Python 2",
   "language": "python",
   "name": "python2"
  },
  "language_info": {
   "codemirror_mode": {
    "name": "ipython",
    "version": 2
   },
   "file_extension": ".py",
   "mimetype": "text/x-python",
   "name": "python",
   "nbconvert_exporter": "python",
   "pygments_lexer": "ipython2",
   "version": "2.7.6"
  }
 },
 "nbformat": 4,
 "nbformat_minor": 2
}
