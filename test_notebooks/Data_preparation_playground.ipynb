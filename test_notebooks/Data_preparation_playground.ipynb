{
 "cells": [
  {
   "cell_type": "code",
   "execution_count": 1,
   "metadata": {
    "collapsed": true
   },
   "outputs": [],
   "source": [
    "import ROOT\n",
    "import numpy as np\n",
    "import root_numpy as rnp\n",
    "from plotly.offline import init_notebook_mode, iplot\n",
    "import pandas as pd"
   ]
  },
  {
   "cell_type": "markdown",
   "metadata": {},
   "source": [
    "## Constant Definition"
   ]
  },
  {
   "cell_type": "code",
   "execution_count": 2,
   "metadata": {
    "collapsed": true
   },
   "outputs": [],
   "source": [
    "NFLOORS = 18\n",
    "NSTRING = 115\n",
    "PMTSPERDOM = 31\n",
    "pmtstot = NFLOORS * NSTRING * PMTSPERDOM\n",
    "ndoms = NFLOORS * NSTRING"
   ]
  },
  {
   "cell_type": "code",
   "execution_count": 3,
   "metadata": {
    "collapsed": true
   },
   "outputs": [],
   "source": [
    "coord_origin = np.asarray((13.887,6.713,405.932))"
   ]
  },
  {
   "cell_type": "markdown",
   "metadata": {},
   "source": [
    "### execute this cell to load files on the Vagrant machine"
   ]
  },
  {
   "cell_type": "code",
   "execution_count": 4,
   "metadata": {
    "collapsed": true
   },
   "outputs": [],
   "source": [
    "detfile = \"../trigger_optimisation_files/km3net_jul13_90m.detx\"\n",
    "nuefile = \"../../ROOT_files/km3_v4_nuecc_1.evt.JTE.aa.root\"\n",
    "numufile = \"../../ROOT_files/km3_v4_numucc_1_B.evt.aa.root\""
   ]
  },
  {
   "cell_type": "markdown",
   "metadata": {},
   "source": [
    "### execute this cell to load files on server"
   ]
  },
  {
   "cell_type": "code",
   "execution_count": 4,
   "metadata": {
    "collapsed": true
   },
   "outputs": [],
   "source": [
    "detfile = \"utilities/km3net_jul13_90m.detx\"\n",
    "nuefile = \"utilities/km3_v4_nuecc_1.evt.JTE.aa.root\"\n",
    "numufile = \"utilities/km3_v4_numucc_1_B.evt.aa.root\""
   ]
  },
  {
   "cell_type": "code",
   "execution_count": 5,
   "metadata": {
    "collapsed": true
   },
   "outputs": [],
   "source": [
    "from detector_positions import structured_positions"
   ]
  },
  {
   "cell_type": "code",
   "execution_count": 6,
   "metadata": {
    "collapsed": true
   },
   "outputs": [],
   "source": [
    "pdoms, ppmts = structured_positions(detfile)"
   ]
  },
  {
   "cell_type": "markdown",
   "metadata": {},
   "source": [
    "### `ch_id` (Channel ID)\n",
    "\n",
    "For each _hit_, `ch_id` contains the IDs of each hit PMT (i.e. PMT that receives signal).\n",
    "\n",
    "\n",
    "The total number of PMTs is `NFLOORS * NSTRING * PMTSPERDOM` (see `pmtstot`) \n",
    "\n",
    "#### Description:\n",
    "\n",
    "* Size: \n",
    "* Ndims: \n",
    "* Type: `numpy.array`\n",
    "* Dtype: `np.bool`"
   ]
  },
  {
   "cell_type": "markdown",
   "metadata": {},
   "source": [
    "### `dom_id` (Dom ID)\n",
    "\n",
    "For each _hit_, `dom_id` contains the IDs of each hit DOM (i.e. DOM that receives signal)\n",
    "\n",
    "The total number of DOMs is `NFLOORS * NSTRING` (see `ndoms`) \n",
    "\n",
    "#### Description:\n",
    "\n",
    "* Size: \n",
    "* Ndims: \n",
    "* Type: `numpy.array`\n",
    "* Dtype: `np.bool`"
   ]
  },
  {
   "cell_type": "markdown",
   "metadata": {},
   "source": [
    "### `trig` (Triggered)\n",
    "\n",
    "For each _hit_, `trig` is a mask (i.e. Boolean array) indicating whether the corresponding hit has been triggered or not.\n",
    "\n",
    "#### Description:\n",
    "\n",
    "* Size: \n",
    "* Ndims: \n",
    "* Type: `numpy.array`\n",
    "* Dtype: `np.bool`"
   ]
  },
  {
   "cell_type": "code",
   "execution_count": 7,
   "metadata": {
    "collapsed": true
   },
   "outputs": [],
   "source": [
    "def import_trees(filename):\n",
    "    ch_id = rnp.root2array(filename, treename=\"E\", branches=\"Evt.hits.channel_id\")\n",
    "    dom_id = rnp.root2array(filename, treename=\"E\", branches=\"Evt.hits.dom_id\")\n",
    "    trig = rnp.root2array(filename, treename= \"E\", branches=\"Evt.hits.trig\")\n",
    "    t = rnp.root2array(filename, treename=\"E\", branches=\"Evt.hits.t\")\n",
    "    times = np.asarray([t[evt][trig[evt]==True] for evt in range(t.size)])\n",
    "    \n",
    "    return ch_id, dom_id, trig, times"
   ]
  },
  {
   "cell_type": "markdown",
   "metadata": {},
   "source": [
    "### doms and pmts hit for numu and nue files"
   ]
  },
  {
   "cell_type": "code",
   "execution_count": 9,
   "metadata": {
    "collapsed": true
   },
   "outputs": [],
   "source": [
    "ch_id_numu, dom_id_numu, trig_numu, times_numu = import_trees(numufile)\n",
    "ch_id_nue, dom_id_nue, trig_nue, times_nue = import_trees(nuefile)"
   ]
  },
  {
   "cell_type": "code",
   "execution_count": 10,
   "metadata": {
    "collapsed": true
   },
   "outputs": [],
   "source": [
    "def hits_positions_numu(evt):\n",
    "    dom_filter_numu = dom_id_numu[evt][trig_numu[evt]==True]-1\n",
    "    pmt_filter_numu = (dom_filter_numu * PMTSPERDOM) + ch_id_numu[evt][trig_numu[evt]==True]\n",
    "    ppmts_hit = ppmts[pmt_filter_numu]\n",
    "    pdoms_hit = pdoms[dom_filter_numu]\n",
    "    return ppmts_hit, pdoms_hit\n",
    "\n",
    "pmts_hit_numu = []\n",
    "doms_hit_numu = []\n",
    "for evt in range(0, dom_id_numu.size):\n",
    "    pm,dm = hits_positions_numu(evt)\n",
    "    pmts_hit_numu.append(pm)\n",
    "    doms_hit_numu.append(dm)\n",
    "\n",
    "pmts_hit_numu = np.asarray(pmts_hit_numu)\n",
    "doms_hit_numu = np.asarray(doms_hit_numu)"
   ]
  },
  {
   "cell_type": "code",
   "execution_count": 11,
   "metadata": {
    "collapsed": true
   },
   "outputs": [],
   "source": [
    "def hits_positions_nue(evt):\n",
    "    dom_filter_nue = dom_id_nue[evt][trig_nue[evt]==True]-1\n",
    "    pmt_filter_nue = (dom_filter_nue * PMTSPERDOM) + ch_id_nue[evt][trig_nue[evt]==True]\n",
    "    ppmts_hit = ppmts[pmt_filter_nue]\n",
    "    pdoms_hit = pdoms[dom_filter_nue]\n",
    "    return ppmts_hit, pdoms_hit\n",
    "\n",
    "pmts_hit_nue = []\n",
    "doms_hit_nue = []\n",
    "for evt in range(0, dom_id_nue.size):\n",
    "    pe,de = hits_positions_nue(evt)\n",
    "    pmts_hit_nue.append(pe)\n",
    "    doms_hit_nue.append(de)\n",
    "\n",
    "pmts_hit_nue = np.asarray(pmts_hit_nue)\n",
    "doms_hit_nue = np.asarray(doms_hit_nue)"
   ]
  },
  {
   "cell_type": "markdown",
   "metadata": {
    "collapsed": true
   },
   "source": [
    "### Event selection"
   ]
  },
  {
   "cell_type": "markdown",
   "metadata": {},
   "source": [
    "###  select events with at least 8 doms hit"
   ]
  },
  {
   "cell_type": "code",
   "execution_count": 12,
   "metadata": {
    "collapsed": true
   },
   "outputs": [],
   "source": [
    "doms_hit_sel = []\n",
    "for evt in range(doms_hit_numu.size):\n",
    "    if len(np.unique(doms_hit_numu[evt]))>=8:\n",
    "        doms_hit_sel.append(np.unique(doms_hit_numu[evt]))\n",
    "doms_hit_sel = np.asarray(doms_hit_sel)"
   ]
  },
  {
   "cell_type": "markdown",
   "metadata": {},
   "source": [
    "### Clustering algorithm using scikit-learn"
   ]
  },
  {
   "cell_type": "markdown",
   "metadata": {},
   "source": [
    "### create array with `2070*n_events` locations, one per DOM, in which entries==0 if the dom is not hit, and entries==1 if the dom has been hit. "
   ]
  },
  {
   "cell_type": "code",
   "execution_count": 13,
   "metadata": {
    "collapsed": true
   },
   "outputs": [],
   "source": [
    "X = np.zeros((dom_id_nue.shape[0], ndoms))\n",
    "\n",
    "for i in range(dom_id_nue.size):\n",
    "    X[i][(dom_id_nue[i][trig_nue[i]==True]-1)]=1"
   ]
  },
  {
   "cell_type": "code",
   "execution_count": 14,
   "metadata": {
    "collapsed": true
   },
   "outputs": [],
   "source": [
    "X_sel = []\n",
    "for i in range(X.shape[0]):\n",
    "    if np.sum(X[i])>= 50:\n",
    "        #print(np.sum(X[i]))\n",
    "        X_sel.append(i)"
   ]
  },
  {
   "cell_type": "code",
   "execution_count": 110,
   "metadata": {},
   "outputs": [
    {
     "name": "stdout",
     "output_type": "stream",
     "text": [
      "(179, 2070)\n"
     ]
    }
   ],
   "source": [
    "sel_X = X[X_sel]\n",
    "print(sel_X.shape)"
   ]
  },
  {
   "cell_type": "code",
   "execution_count": 111,
   "metadata": {
    "collapsed": true
   },
   "outputs": [],
   "source": [
    "from sklearn.cluster import SpectralClustering"
   ]
  },
  {
   "cell_type": "code",
   "execution_count": 112,
   "metadata": {
    "collapsed": true
   },
   "outputs": [],
   "source": [
    "spectral = SpectralClustering(n_clusters=2, affinity=\"nearest_neighbors\")"
   ]
  },
  {
   "cell_type": "code",
   "execution_count": 113,
   "metadata": {},
   "outputs": [
    {
     "data": {
      "text/plain": [
       "SpectralClustering(affinity='nearest_neighbors', assign_labels='kmeans',\n",
       "          coef0=1, degree=3, eigen_solver=None, eigen_tol=0.0, gamma=1.0,\n",
       "          kernel_params=None, n_clusters=2, n_init=10, n_jobs=1,\n",
       "          n_neighbors=10, random_state=None)"
      ]
     },
     "execution_count": 113,
     "metadata": {},
     "output_type": "execute_result"
    }
   ],
   "source": [
    "spectral"
   ]
  },
  {
   "cell_type": "code",
   "execution_count": 114,
   "metadata": {},
   "outputs": [
    {
     "data": {
      "text/plain": [
       "SpectralClustering(affinity='nearest_neighbors', assign_labels='kmeans',\n",
       "          coef0=1, degree=3, eigen_solver=None, eigen_tol=0.0, gamma=1.0,\n",
       "          kernel_params=None, n_clusters=2, n_init=10, n_jobs=1,\n",
       "          n_neighbors=10, random_state=None)"
      ]
     },
     "execution_count": 114,
     "metadata": {},
     "output_type": "execute_result"
    }
   ],
   "source": [
    "spectral.fit(sel_X)"
   ]
  },
  {
   "cell_type": "code",
   "execution_count": 115,
   "metadata": {
    "collapsed": true
   },
   "outputs": [],
   "source": [
    "C = spectral.affinity_matrix_"
   ]
  },
  {
   "cell_type": "code",
   "execution_count": 116,
   "metadata": {},
   "outputs": [
    {
     "data": {
      "text/plain": [
       "(179, 179)"
      ]
     },
     "execution_count": 116,
     "metadata": {},
     "output_type": "execute_result"
    }
   ],
   "source": [
    "C.shape"
   ]
  },
  {
   "cell_type": "code",
   "execution_count": 117,
   "metadata": {},
   "outputs": [
    {
     "data": {
      "text/plain": [
       "True"
      ]
     },
     "execution_count": 117,
     "metadata": {},
     "output_type": "execute_result"
    }
   ],
   "source": [
    "C[0,1]==C[1,0]"
   ]
  },
  {
   "cell_type": "code",
   "execution_count": 118,
   "metadata": {
    "collapsed": true
   },
   "outputs": [],
   "source": [
    "c_ids = spectral.labels_.astype(np.int)"
   ]
  },
  {
   "cell_type": "code",
   "execution_count": 119,
   "metadata": {},
   "outputs": [
    {
     "data": {
      "text/plain": [
       "(179,)"
      ]
     },
     "execution_count": 119,
     "metadata": {},
     "output_type": "execute_result"
    }
   ],
   "source": [
    "c_ids.shape"
   ]
  },
  {
   "cell_type": "code",
   "execution_count": 120,
   "metadata": {},
   "outputs": [
    {
     "data": {
      "text/plain": [
       "1.0"
      ]
     },
     "execution_count": 120,
     "metadata": {},
     "output_type": "execute_result"
    }
   ],
   "source": [
    "C[0,0]"
   ]
  },
  {
   "cell_type": "code",
   "execution_count": 121,
   "metadata": {
    "collapsed": true
   },
   "outputs": [],
   "source": [
    "C_dis = 1 - C.todense()"
   ]
  },
  {
   "cell_type": "code",
   "execution_count": 122,
   "metadata": {
    "collapsed": true
   },
   "outputs": [],
   "source": [
    "from sklearn.manifold import MDS"
   ]
  },
  {
   "cell_type": "code",
   "execution_count": 123,
   "metadata": {
    "collapsed": true
   },
   "outputs": [],
   "source": [
    "mds = MDS(n_components=2, dissimilarity='precomputed')"
   ]
  },
  {
   "cell_type": "code",
   "execution_count": 124,
   "metadata": {
    "collapsed": true
   },
   "outputs": [],
   "source": [
    "C_dis_mds = mds.fit_transform(C_dis)"
   ]
  },
  {
   "cell_type": "code",
   "execution_count": 125,
   "metadata": {},
   "outputs": [
    {
     "data": {
      "text/plain": [
       "(179, 2)"
      ]
     },
     "execution_count": 125,
     "metadata": {},
     "output_type": "execute_result"
    }
   ],
   "source": [
    "C_dis_mds.shape"
   ]
  },
  {
   "cell_type": "code",
   "execution_count": 126,
   "metadata": {
    "collapsed": true
   },
   "outputs": [],
   "source": [
    "colors = np.array([x for x in 'bgrcmykbgrcmykbgrcmykbgrcmyk'])"
   ]
  },
  {
   "cell_type": "code",
   "execution_count": 127,
   "metadata": {
    "collapsed": true
   },
   "outputs": [],
   "source": [
    "%matplotlib inline"
   ]
  },
  {
   "cell_type": "code",
   "execution_count": 128,
   "metadata": {
    "collapsed": true
   },
   "outputs": [],
   "source": [
    "from matplotlib import pyplot as plt"
   ]
  },
  {
   "cell_type": "code",
   "execution_count": 129,
   "metadata": {},
   "outputs": [
    {
     "data": {
      "image/png": "[encoded data removed]",
      "text/plain": [
       "<matplotlib.figure.Figure at 0x7eff50155a90>"
      ]
     },
     "metadata": {},
     "output_type": "display_data"
    }
   ],
   "source": [
    "plt.scatter(C_dis_mds[:,0], C_dis_mds[:, 1], color=colors[c_ids].tolist(), s=20)\n",
    "plt.show()"
   ]
  },
  {
   "cell_type": "code",
   "execution_count": 130,
   "metadata": {},
   "outputs": [
    {
     "data": {
      "image/png": "[encoded data removed]",
      "text/plain": [
       "<matplotlib.figure.Figure at 0x7eff50123750>"
      ]
     },
     "metadata": {},
     "output_type": "display_data"
    }
   ],
   "source": [
    "mds = MDS(n_components=2)\n",
    "X_mds = mds.fit_transform(sel_X)\n",
    "plt.scatter(X_mds[:,0], X_mds[:, 1], color=colors[c_ids].tolist(), s=20)\n",
    "plt.show()"
   ]
  },
  {
   "cell_type": "markdown",
   "metadata": {},
   "source": [
    "---"
   ]
  },
  {
   "cell_type": "code",
   "execution_count": 107,
   "metadata": {},
   "outputs": [
    {
     "data": {
      "text/plain": [
       "(array([ 1,  3,  5,  6, 15, 17, 18, 23, 24, 25, 26, 27, 31, 34, 35, 36, 40,\n",
       "        41, 43, 45, 47, 48, 51, 53, 54, 57, 58, 59, 60, 61, 63, 64, 68, 70]),)"
      ]
     },
     "execution_count": 107,
     "metadata": {},
     "output_type": "execute_result"
    }
   ],
   "source": [
    "np.where(c_ids==1)"
   ]
  },
  {
   "cell_type": "code",
   "execution_count": 108,
   "metadata": {},
   "outputs": [
    {
     "data": {
      "text/plain": [
       "(array([ 0,  2,  4,  7,  8,  9, 10, 11, 12, 13, 14, 16, 19, 20, 21, 22, 28,\n",
       "        29, 30, 32, 33, 37, 38, 39, 42, 44, 46, 49, 50, 52, 55, 56, 62, 65,\n",
       "        66, 67, 69, 71, 72]),)"
      ]
     },
     "execution_count": 108,
     "metadata": {},
     "output_type": "execute_result"
    }
   ],
   "source": [
    "np.where(c_ids==0)"
   ]
  },
  {
   "cell_type": "code",
   "execution_count": 198,
   "metadata": {},
   "outputs": [
    {
     "data": {
      "text/plain": [
       "(126, 2070)"
      ]
     },
     "execution_count": 198,
     "metadata": {},
     "output_type": "execute_result"
    }
   ],
   "source": [
    "sel_X.shape"
   ]
  },
  {
   "cell_type": "code",
   "execution_count": 199,
   "metadata": {},
   "outputs": [
    {
     "data": {
      "text/plain": [
       "(126,)"
      ]
     },
     "execution_count": 199,
     "metadata": {},
     "output_type": "execute_result"
    }
   ],
   "source": [
    "c_ids.shape"
   ]
  },
  {
   "cell_type": "markdown",
   "metadata": {
    "collapsed": true
   },
   "source": [
    "### create Data structure with the id of the hit DOMs and the discretized times"
   ]
  },
  {
   "cell_type": "code",
   "execution_count": 12,
   "metadata": {},
   "outputs": [
    {
     "name": "stdout",
     "output_type": "stream",
     "text": [
      "[ 49992098.  49992298.  49992498.  49992698.  49992898.  49993098.\n",
      "  49993298.  49993498.  49993698.  49993898.  49994098.  49994298.\n",
      "  49994498.  49994698.  49994898.  49995098.  49995298.  49995498.\n",
      "  49995698.  49995898.  49996098.  49996298.  49996498.  49996698.\n",
      "  49996898.  49997098.  49997298.  49997498.  49997698.  49997898.\n",
      "  49998098.  49998298.  49998498.  49998698.  49998898.  49999098.\n",
      "  49999298.  49999498.  49999698.  49999898.  50000098.  50000298.\n",
      "  50000498.  50000698.  50000898.  50001098.  50001298.  50001498.\n",
      "  50001698.  50001898.  50002098.  50002298.  50002498.  50002698.\n",
      "  50002898.  50003098.  50003298.  50003498.  50003698.  50003898.\n",
      "  50004098.  50004298.  50004498.  50004698.  50004898.  50005098.]\n"
     ]
    }
   ],
   "source": [
    "timeslices_numu = np.arange(np.min(np.hstack(times_numu))-1000, np.max(np.hstack(times_numu))+1000, 200)\n",
    "print(timeslices_numu)"
   ]
  },
  {
   "cell_type": "code",
   "execution_count": 13,
   "metadata": {},
   "outputs": [
    {
     "name": "stdout",
     "output_type": "stream",
     "text": [
      "[ 49996887.  49997087.  49997287.  49997487.  49997687.  49997887.\n",
      "  49998087.  49998287.  49998487.  49998687.  49998887.  49999087.\n",
      "  49999287.  49999487.  49999687.  49999887.  50000087.  50000287.\n",
      "  50000487.  50000687.  50000887.  50001087.  50001287.  50001487.\n",
      "  50001687.]\n"
     ]
    }
   ],
   "source": [
    "timeslices_nue = np.arange(np.min(np.hstack(times_nue))-1000, np.max(np.hstack(times_nue))+1000, 200)\n",
    "print(timeslices_nue)"
   ]
  },
  {
   "cell_type": "code",
   "execution_count": 12,
   "metadata": {
    "collapsed": true
   },
   "outputs": [],
   "source": [
    "min_t_nue = np.min(np.hstack(times_nue))\n",
    "max_t_nue = np.max(np.hstack(times_nue))\n",
    "min_t_numu = np.min(np.hstack(times_numu))\n",
    "max_t_numu= np.max(np.hstack(times_numu))"
   ]
  },
  {
   "cell_type": "code",
   "execution_count": 13,
   "metadata": {
    "collapsed": true
   },
   "outputs": [],
   "source": [
    "timeslices = np.arange(np.min((min_t_nue, min_t_numu)), np.max((max_t_nue, max_t_numu)), 200)"
   ]
  },
  {
   "cell_type": "code",
   "execution_count": 14,
   "metadata": {},
   "outputs": [
    {
     "data": {
      "text/plain": [
       "array([ 49993098.,  49993298.,  49993498.,  49993698.,  49993898.,\n",
       "        49994098.,  49994298.,  49994498.,  49994698.,  49994898.,\n",
       "        49995098.,  49995298.,  49995498.,  49995698.,  49995898.,\n",
       "        49996098.,  49996298.,  49996498.,  49996698.,  49996898.,\n",
       "        49997098.,  49997298.,  49997498.,  49997698.,  49997898.,\n",
       "        49998098.,  49998298.,  49998498.,  49998698.,  49998898.,\n",
       "        49999098.,  49999298.,  49999498.,  49999698.,  49999898.,\n",
       "        50000098.,  50000298.,  50000498.,  50000698.,  50000898.,\n",
       "        50001098.,  50001298.,  50001498.,  50001698.,  50001898.,\n",
       "        50002098.,  50002298.,  50002498.,  50002698.,  50002898.,\n",
       "        50003098.,  50003298.,  50003498.,  50003698.,  50003898.,\n",
       "        50004098.])"
      ]
     },
     "execution_count": 14,
     "metadata": {},
     "output_type": "execute_result"
    }
   ],
   "source": [
    "timeslices"
   ]
  },
  {
   "cell_type": "code",
   "execution_count": 15,
   "metadata": {
    "collapsed": true
   },
   "outputs": [],
   "source": [
    "def X_creation(timeslices, dom_id, trig, times):\n",
    "    numu_events = dom_id.shape[0]\n",
    "    n_timeslices = timeslices.shape[0] - 1\n",
    "\n",
    "    X_nu = np.zeros((numu_events, n_timeslices, ndoms))\n",
    "\n",
    "    # timeslices = np.arange.....\n",
    "\n",
    "    # Get Hit count for each timeslice\n",
    "    for evt in range(numu_events):\n",
    "        # Get all DOM ids for all triggered hits in current event\n",
    "        triggered_dom_ids = (dom_id[evt][trig[evt] == True]) - 1\n",
    "        #print(\"triggered_dom_ids\", triggered_dom_ids)\n",
    "        times_event_hits = times[evt] # select only hits for current event \n",
    "        #print(\"times_event_hits\", times_event_hits)\n",
    "        for ts, tslice in enumerate(zip(timeslices[:-1], timeslices[1:])):\n",
    "            low, high = tslice\n",
    "            #print(\"low\", low, \"high\", high)\n",
    "            # hits will hold indices of hits matching the condition of being in the selected timeslice\n",
    "            hits = np.where((times_event_hits >= low) & (times_event_hits < high))[0]\n",
    "            if not len(hits):\n",
    "                continue\n",
    "            # Get all DOM ids associated to all hits in current time slice.\n",
    "            dom_hit_in_slice = triggered_dom_ids[hits]\n",
    "            #print(\"dom_hits_in_slice\", dom_hit_in_slice)\n",
    "            #print(\"hits\", hits)\n",
    "            #print(hits.shape)\n",
    "            # Activate all DOMs for current event, timeslice.\n",
    "            X_nu[evt, ts, dom_hit_in_slice] = 1\n",
    "            return X_nu\n",
    "        #break\n"
   ]
  },
  {
   "cell_type": "code",
   "execution_count": 16,
   "metadata": {
    "collapsed": true
   },
   "outputs": [],
   "source": [
    "X_numu = X_creation(timeslices, dom_id_numu, trig_numu, times_numu)"
   ]
  },
  {
   "cell_type": "code",
   "execution_count": 17,
   "metadata": {
    "collapsed": true
   },
   "outputs": [],
   "source": [
    "X_nue = X_creation(timeslices, dom_id_nue, trig_nue, times_nue)"
   ]
  },
  {
   "cell_type": "code",
   "execution_count": 18,
   "metadata": {},
   "outputs": [
    {
     "data": {
      "text/plain": [
       "(1541, 55, 2070)"
      ]
     },
     "execution_count": 18,
     "metadata": {},
     "output_type": "execute_result"
    }
   ],
   "source": [
    "X_numu.shape"
   ]
  },
  {
   "cell_type": "code",
   "execution_count": 19,
   "metadata": {},
   "outputs": [
    {
     "data": {
      "text/plain": [
       "(1183, 55, 2070)"
      ]
     },
     "execution_count": 19,
     "metadata": {},
     "output_type": "execute_result"
    }
   ],
   "source": [
    "X_nue.shape"
   ]
  },
  {
   "cell_type": "code",
   "execution_count": 20,
   "metadata": {
    "collapsed": true
   },
   "outputs": [],
   "source": [
    "Y_numu = np.ones(dom_id_numu.shape[0])\n",
    "Y_nue = np.zeros(dom_id_nue.shape[0])"
   ]
  },
  {
   "cell_type": "code",
   "execution_count": 21,
   "metadata": {},
   "outputs": [
    {
     "data": {
      "text/plain": [
       "(1541,)"
      ]
     },
     "execution_count": 21,
     "metadata": {},
     "output_type": "execute_result"
    }
   ],
   "source": [
    "Y_numu.shape"
   ]
  },
  {
   "cell_type": "code",
   "execution_count": 22,
   "metadata": {},
   "outputs": [
    {
     "data": {
      "text/plain": [
       "(1183,)"
      ]
     },
     "execution_count": 22,
     "metadata": {},
     "output_type": "execute_result"
    }
   ],
   "source": [
    "Y_nue.shape"
   ]
  },
  {
   "cell_type": "markdown",
   "metadata": {},
   "source": [
    "### select random indices to extract a portion of the data to use as test"
   ]
  },
  {
   "cell_type": "code",
   "execution_count": 25,
   "metadata": {
    "collapsed": true
   },
   "outputs": [],
   "source": [
    "indices_numu = np.random.randint(0, X_numu.shape[0]-1, 150)"
   ]
  },
  {
   "cell_type": "code",
   "execution_count": 26,
   "metadata": {
    "collapsed": true
   },
   "outputs": [],
   "source": [
    "indices_nue = np.random.randint(0, X_nue.shape[0]-1, 150)"
   ]
  },
  {
   "cell_type": "code",
   "execution_count": 27,
   "metadata": {
    "collapsed": true
   },
   "outputs": [
    {
     "data": {
      "text/plain": [
       "array([ 819,  267,  529, 1407,   82,  981,  129,  185, 1095, 1295, 1250,\n",
       "       1479,  705,  818,  679, 1226,  619,  495, 1287,   74,  571,  247,\n",
       "       1384, 1354, 1429, 1535,  438,  180,  150, 1115,  997,  234,  638,\n",
       "       1183, 1011, 1196,  442,  929,  657,  783, 1384,  957, 1138, 1482,\n",
       "        414,  892,    5,  166, 1415,  291, 1218, 1018, 1367,  286, 1104,\n",
       "        892,  703,  741, 1523,  646,   53, 1501,  620,  472,  585,  431,\n",
       "       1382,  418,  313, 1022,  547, 1346,  622,  530,  890,   42, 1383,\n",
       "        573,  751,  160,  270,  746,   82,  243, 1499,  400,  999,  424,\n",
       "       1465,  503,  941,  269,  902,   69,   14, 1384, 1478,  140,  693,\n",
       "       1028, 1165, 1117, 1115, 1253,  820,  613,  179, 1065, 1083,  721,\n",
       "       1471,  815, 1145,  845,  934, 1177, 1330,  950,  813,   48, 1080,\n",
       "        754,  347, 1119,  374, 1103, 1264, 1512,  425,  291, 1000, 1331,\n",
       "        890, 1286,  964,  909,   66,  433,  947,  219,  323, 1126, 1066,\n",
       "       1206,  881, 1346,  973,  924,   19,  201])"
      ]
     },
     "execution_count": 27,
     "metadata": {},
     "output_type": "execute_result"
    }
   ],
   "source": [
    "indices_numu"
   ]
  },
  {
   "cell_type": "code",
   "execution_count": 28,
   "metadata": {
    "collapsed": true
   },
   "outputs": [
    {
     "data": {
      "text/plain": [
       "array([ 163,  968,  709,  591,  298,  583,   71,  909,  266, 1029,  906,\n",
       "       1119,  582,  171,    3,  155,  970,  748,  455,  605,  926,  501,\n",
       "        462,  376,   81,  395, 1052,  542, 1151,   65,   66, 1107,  781,\n",
       "       1020,  440, 1108, 1118, 1111,  493,  642,  998,  663,  465,  804,\n",
       "        430,  715, 1017, 1055,  823,    5,   66,  501,  242,  669,  919,\n",
       "        682,  470,  519,  582,  885,   56,  889,  841, 1156,  589,  667,\n",
       "       1061,  770,  118,  986, 1119, 1003,  969, 1006,  430,  728,   90,\n",
       "       1161,  872,  770,  610,  553,  535,   93,   41,  950,   62,  657,\n",
       "        895,  389,  305,  343, 1041,  843, 1095, 1092,  540,  392,  904,\n",
       "        176,  841, 1099,  241,  481,  201,  496, 1163,  614,   50,  410,\n",
       "        950,  508,  866, 1058,  963,  554,  223,  559,  915,  695, 1100,\n",
       "        423,  950,  434,  715,  771,  702, 1170,  147,  489,   18, 1055,\n",
       "        834,  374,  775,  993,  886,  259,  855, 1042, 1024,  742,  407,\n",
       "        678,  683, 1093,  316,  153,  317,  243])"
      ]
     },
     "execution_count": 28,
     "metadata": {},
     "output_type": "execute_result"
    }
   ],
   "source": [
    "indices_nue"
   ]
  },
  {
   "cell_type": "markdown",
   "metadata": {},
   "source": [
    "### Select a fraction of the events to use as test data"
   ]
  },
  {
   "cell_type": "code",
   "execution_count": 31,
   "metadata": {
    "collapsed": true
   },
   "outputs": [],
   "source": [
    "X_numu_test = X_numu[indices_numu]\n",
    "Y_numu_test = Y_numu[indices_numu]"
   ]
  },
  {
   "cell_type": "code",
   "execution_count": 32,
   "metadata": {},
   "outputs": [
    {
     "data": {
      "text/plain": [
       "(150, 55, 2070)"
      ]
     },
     "execution_count": 32,
     "metadata": {},
     "output_type": "execute_result"
    }
   ],
   "source": [
    "X_numu_test.shape"
   ]
  },
  {
   "cell_type": "code",
   "execution_count": 33,
   "metadata": {},
   "outputs": [
    {
     "data": {
      "text/plain": [
       "(150,)"
      ]
     },
     "execution_count": 33,
     "metadata": {},
     "output_type": "execute_result"
    }
   ],
   "source": [
    "Y_numu_test.shape"
   ]
  },
  {
   "cell_type": "code",
   "execution_count": 34,
   "metadata": {
    "collapsed": true
   },
   "outputs": [],
   "source": [
    "X_nue_test = X_nue[indices_nue]\n",
    "Y_nue_test = Y_nue[indices_nue]"
   ]
  },
  {
   "cell_type": "code",
   "execution_count": 35,
   "metadata": {},
   "outputs": [
    {
     "data": {
      "text/plain": [
       "(150, 55, 2070)"
      ]
     },
     "execution_count": 35,
     "metadata": {},
     "output_type": "execute_result"
    }
   ],
   "source": [
    "X_nue_test.shape"
   ]
  },
  {
   "cell_type": "code",
   "execution_count": 36,
   "metadata": {},
   "outputs": [
    {
     "data": {
      "text/plain": [
       "(150,)"
      ]
     },
     "execution_count": 36,
     "metadata": {},
     "output_type": "execute_result"
    }
   ],
   "source": [
    "Y_nue_test.shape"
   ]
  },
  {
   "cell_type": "markdown",
   "metadata": {},
   "source": [
    "### Delete the test data from the whole dataset to obtain the data for training"
   ]
  },
  {
   "cell_type": "code",
   "execution_count": 37,
   "metadata": {
    "collapsed": true
   },
   "outputs": [],
   "source": [
    "X_numu_train = np.delete(X_numu, indices_numu, axis=0)\n",
    "X_nue_train = np.delete(X_nue, indices_nue, axis=0)"
   ]
  },
  {
   "cell_type": "code",
   "execution_count": 38,
   "metadata": {
    "collapsed": true
   },
   "outputs": [],
   "source": [
    "Y_numu_train = np.delete(Y_numu, indices_numu, axis=0)\n",
    "Y_nue_train = np.delete(Y_nue, indices_nue, axis=0)"
   ]
  },
  {
   "cell_type": "code",
   "execution_count": 40,
   "metadata": {},
   "outputs": [
    {
     "data": {
      "text/plain": [
       "(1541, 55, 2070)"
      ]
     },
     "execution_count": 40,
     "metadata": {},
     "output_type": "execute_result"
    }
   ],
   "source": [
    "X_numu.shape"
   ]
  },
  {
   "cell_type": "code",
   "execution_count": 39,
   "metadata": {},
   "outputs": [
    {
     "data": {
      "text/plain": [
       "(1399, 55, 2070)"
      ]
     },
     "execution_count": 39,
     "metadata": {},
     "output_type": "execute_result"
    }
   ],
   "source": [
    "X_numu_train.shape"
   ]
  },
  {
   "cell_type": "code",
   "execution_count": 40,
   "metadata": {},
   "outputs": [
    {
     "data": {
      "text/plain": [
       "(150, 55, 2070)"
      ]
     },
     "execution_count": 40,
     "metadata": {},
     "output_type": "execute_result"
    }
   ],
   "source": [
    "X_numu_test.shape"
   ]
  },
  {
   "cell_type": "code",
   "execution_count": 41,
   "metadata": {
    "collapsed": true
   },
   "outputs": [],
   "source": [
    "np.delete?"
   ]
  },
  {
   "cell_type": "markdown",
   "metadata": {},
   "source": [
    "### create dataset with both numu and nue data"
   ]
  },
  {
   "cell_type": "code",
   "execution_count": 44,
   "metadata": {
    "collapsed": true
   },
   "outputs": [],
   "source": [
    "X_train = np.vstack((X_numu_train, X_nue_train))"
   ]
  },
  {
   "cell_type": "code",
   "execution_count": 45,
   "metadata": {
    "collapsed": true
   },
   "outputs": [],
   "source": [
    "X_test = np.vstack((X_numu_test, X_nue_test))"
   ]
  },
  {
   "cell_type": "markdown",
   "metadata": {},
   "source": [
    "### reshape dataset down to 2 dimensions"
   ]
  },
  {
   "cell_type": "code",
   "execution_count": 46,
   "metadata": {
    "collapsed": true
   },
   "outputs": [],
   "source": [
    "X_train = X_train.reshape(X_train.shape[0], X_train.shape[1]*X_train.shape[2])"
   ]
  },
  {
   "cell_type": "code",
   "execution_count": 47,
   "metadata": {
    "collapsed": true
   },
   "outputs": [],
   "source": [
    "X_test = X_test.reshape(X_test.shape[0], X_test.shape[1]*X_test.shape[2])"
   ]
  },
  {
   "cell_type": "code",
   "execution_count": 68,
   "metadata": {},
   "outputs": [
    {
     "data": {
      "text/plain": [
       "(2440, 113850)"
      ]
     },
     "execution_count": 68,
     "metadata": {},
     "output_type": "execute_result"
    }
   ],
   "source": [
    "X_train.shape"
   ]
  },
  {
   "cell_type": "code",
   "execution_count": 69,
   "metadata": {},
   "outputs": [
    {
     "data": {
      "text/plain": [
       "(300, 113850)"
      ]
     },
     "execution_count": 69,
     "metadata": {},
     "output_type": "execute_result"
    }
   ],
   "source": [
    "X_test.shape"
   ]
  },
  {
   "cell_type": "markdown",
   "metadata": {},
   "source": [
    "### Use `sklearn` to split train and test data"
   ]
  },
  {
   "cell_type": "code",
   "execution_count": 23,
   "metadata": {
    "collapsed": true
   },
   "outputs": [],
   "source": [
    "from sklearn.model_selection import train_test_split"
   ]
  },
  {
   "cell_type": "code",
   "execution_count": 24,
   "metadata": {
    "collapsed": true
   },
   "outputs": [],
   "source": [
    "X = np.vstack((X_numu, X_nue))"
   ]
  },
  {
   "cell_type": "code",
   "execution_count": 26,
   "metadata": {
    "collapsed": true
   },
   "outputs": [],
   "source": [
    "from keras.utils import np_utils"
   ]
  },
  {
   "cell_type": "code",
   "execution_count": 27,
   "metadata": {},
   "outputs": [],
   "source": [
    "y_numu_categ = np_utils.to_categorical(Y_numu, 2)\n",
    "y_nue_categ = np_utils.to_categorical(Y_nue, 2)"
   ]
  },
  {
   "cell_type": "code",
   "execution_count": 28,
   "metadata": {
    "collapsed": true
   },
   "outputs": [],
   "source": [
    "y = np.concatenate((y_numu_categ, y_nue_categ))"
   ]
  },
  {
   "cell_type": "code",
   "execution_count": 29,
   "metadata": {
    "collapsed": true
   },
   "outputs": [],
   "source": [
    "X_train, X_test, y_train, y_test = train_test_split(X, y, \n",
    "                                                    test_size=0.20, random_state=42)"
   ]
  },
  {
   "cell_type": "code",
   "execution_count": 30,
   "metadata": {},
   "outputs": [
    {
     "data": {
      "text/plain": [
       "(2179, 55, 2070)"
      ]
     },
     "execution_count": 30,
     "metadata": {},
     "output_type": "execute_result"
    }
   ],
   "source": [
    "X_train.shape"
   ]
  },
  {
   "cell_type": "code",
   "execution_count": 31,
   "metadata": {},
   "outputs": [
    {
     "data": {
      "text/plain": [
       "(545, 55, 2070)"
      ]
     },
     "execution_count": 31,
     "metadata": {},
     "output_type": "execute_result"
    }
   ],
   "source": [
    "X_test.shape"
   ]
  },
  {
   "cell_type": "code",
   "execution_count": 32,
   "metadata": {},
   "outputs": [
    {
     "data": {
      "text/plain": [
       "(2179, 2)"
      ]
     },
     "execution_count": 32,
     "metadata": {},
     "output_type": "execute_result"
    }
   ],
   "source": [
    "y_train.shape"
   ]
  },
  {
   "cell_type": "code",
   "execution_count": 33,
   "metadata": {},
   "outputs": [
    {
     "data": {
      "text/plain": [
       "(545, 2)"
      ]
     },
     "execution_count": 33,
     "metadata": {},
     "output_type": "execute_result"
    }
   ],
   "source": [
    "y_test.shape"
   ]
  },
  {
   "cell_type": "code",
   "execution_count": 34,
   "metadata": {
    "collapsed": true
   },
   "outputs": [],
   "source": [
    "from keras.models import Sequential\n",
    "from keras.layers.core import Dense, Dropout, Activation, Flatten\n",
    "from keras.optimizers import SGD\n",
    "from keras.callbacks import EarlyStopping"
   ]
  },
  {
   "cell_type": "markdown",
   "metadata": {},
   "source": [
    "### convert Y to binary class matrix.\n"
   ]
  },
  {
   "cell_type": "code",
   "execution_count": 79,
   "metadata": {
    "collapsed": true
   },
   "outputs": [],
   "source": [
    "Y_numu_train = np_utils.to_categorical(Y_numu_train, 2)\n",
    "Y_nue_train = np_utils.to_categorical(Y_nue_train, 2)"
   ]
  },
  {
   "cell_type": "code",
   "execution_count": 80,
   "metadata": {
    "collapsed": true
   },
   "outputs": [],
   "source": [
    "Y_numu_test = np_utils.to_categorical(Y_numu_test, 2)\n",
    "Y_nue_test = np_utils.to_categorical(Y_nue_test, 2)"
   ]
  },
  {
   "cell_type": "code",
   "execution_count": 81,
   "metadata": {
    "collapsed": true
   },
   "outputs": [],
   "source": [
    "y_train = np.concatenate((Y_numu_train, Y_nue_train))"
   ]
  },
  {
   "cell_type": "code",
   "execution_count": 83,
   "metadata": {
    "collapsed": true
   },
   "outputs": [],
   "source": [
    "y_test = np.concatenate((Y_numu_test, Y_nue_test))"
   ]
  },
  {
   "cell_type": "code",
   "execution_count": 56,
   "metadata": {},
   "outputs": [
    {
     "data": {
      "text/plain": [
       "(2440, 113850)"
      ]
     },
     "execution_count": 56,
     "metadata": {},
     "output_type": "execute_result"
    }
   ],
   "source": [
    "X_train.shape"
   ]
  },
  {
   "cell_type": "code",
   "execution_count": 82,
   "metadata": {},
   "outputs": [
    {
     "data": {
      "text/plain": [
       "(2440, 2)"
      ]
     },
     "execution_count": 82,
     "metadata": {},
     "output_type": "execute_result"
    }
   ],
   "source": [
    "y_train.shape"
   ]
  },
  {
   "cell_type": "markdown",
   "metadata": {},
   "source": [
    "### shuffle the X and y arrays using the same indices"
   ]
  },
  {
   "cell_type": "code",
   "execution_count": 58,
   "metadata": {
    "collapsed": true
   },
   "outputs": [],
   "source": [
    "permutation = np.random.permutation(y_train.shape[0])"
   ]
  },
  {
   "cell_type": "code",
   "execution_count": 59,
   "metadata": {},
   "outputs": [
    {
     "data": {
      "text/plain": [
       "(2440,)"
      ]
     },
     "execution_count": 59,
     "metadata": {},
     "output_type": "execute_result"
    }
   ],
   "source": [
    "permutation.shape"
   ]
  },
  {
   "cell_type": "code",
   "execution_count": 60,
   "metadata": {
    "collapsed": true
   },
   "outputs": [],
   "source": [
    "perm_X_train = X_train[permutation]\n",
    "perm_y_train = y_train[permutation]"
   ]
  },
  {
   "cell_type": "code",
   "execution_count": 61,
   "metadata": {
    "collapsed": true
   },
   "outputs": [],
   "source": [
    "perm_test = np.random.permutation(y_test.shape[0])\n",
    "perm_X_test = X_test[perm_test]\n",
    "perm_y_test = y_test[perm_test]"
   ]
  },
  {
   "cell_type": "code",
   "execution_count": 77,
   "metadata": {},
   "outputs": [
    {
     "data": {
      "text/plain": [
       "(2440, 113850)"
      ]
     },
     "execution_count": 77,
     "metadata": {},
     "output_type": "execute_result"
    }
   ],
   "source": [
    "X_train.shape"
   ]
  },
  {
   "cell_type": "code",
   "execution_count": 86,
   "metadata": {},
   "outputs": [
    {
     "data": {
      "text/plain": [
       "(2440, 2)"
      ]
     },
     "execution_count": 86,
     "metadata": {},
     "output_type": "execute_result"
    }
   ],
   "source": [
    "y_train.shape"
   ]
  },
  {
   "cell_type": "code",
   "execution_count": 87,
   "metadata": {},
   "outputs": [
    {
     "data": {
      "text/plain": [
       "(300, 113850)"
      ]
     },
     "execution_count": 87,
     "metadata": {},
     "output_type": "execute_result"
    }
   ],
   "source": [
    "perm_X_test.shape"
   ]
  },
  {
   "cell_type": "code",
   "execution_count": 91,
   "metadata": {},
   "outputs": [
    {
     "data": {
      "text/plain": [
       "(2440,)"
      ]
     },
     "execution_count": 91,
     "metadata": {},
     "output_type": "execute_result"
    }
   ],
   "source": [
    "perm_y_train.shape"
   ]
  },
  {
   "cell_type": "code",
   "execution_count": 55,
   "metadata": {
    "collapsed": true
   },
   "outputs": [
    {
     "data": {
      "image/png": "[encoded data removed]",
      "text/plain": [
       "<matplotlib.figure.Figure at 0x7f8daf5a3090>"
      ]
     },
     "metadata": {},
     "output_type": "display_data"
    }
   ],
   "source": [
    "from matplotlib import pyplot\n",
    "import matplotlib as mpl\n",
    "%matplotlib inline\n",
    "\n",
    "# Displaying the first training data\n",
    "fig = pyplot.figure()\n",
    "ax = fig.add_subplot(1,1,1)\n",
    "imgplot = ax.imshow(X_train[1000], cmap=mpl.cm.Greys)\n",
    "imgplot.set_interpolation('nearest')\n",
    "ax.xaxis.set_ticks_position('top')\n",
    "ax.yaxis.set_ticks_position('left')\n",
    "pyplot.show()"
   ]
  },
  {
   "cell_type": "markdown",
   "metadata": {},
   "source": [
    "### definition of the network "
   ]
  },
  {
   "cell_type": "code",
   "execution_count": 76,
   "metadata": {},
   "outputs": [
    {
     "name": "stdout",
     "output_type": "stream",
     "text": [
      "_________________________________________________________________\n",
      "Layer (type)                 Output Shape              Param #   \n",
      "=================================================================\n",
      "dense_27 (Dense)             (None, 55, 2070)          4286970   \n",
      "_________________________________________________________________\n",
      "dropout_1 (Dropout)          (None, 55, 2070)          0         \n",
      "_________________________________________________________________\n",
      "dense_28 (Dense)             (None, 55, 2070)          4286970   \n",
      "_________________________________________________________________\n",
      "flatten_3 (Flatten)          (None, 113850)            0         \n",
      "_________________________________________________________________\n",
      "dense_29 (Dense)             (None, 2)                 227702    \n",
      "=================================================================\n",
      "Total params: 8,801,642\n",
      "Trainable params: 8,801,642\n",
      "Non-trainable params: 0\n",
      "_________________________________________________________________\n"
     ]
    }
   ],
   "source": [
    "#### early_stop = EarlyStopping(monitor='val_loss', patience=4, verbose=1)\n",
    "model = Sequential()\n",
    "model.add(Dense(2070, input_shape=((X_train.shape[1], X_train.shape[2])), activation='relu'))\n",
    "model.add(Dropout(0.2))\n",
    "model.add(Dense(2070, activation = 'relu'))\n",
    "model.add(Flatten())\n",
    "model.add(Dense(2, activation='softmax'))\n",
    "model.compile(optimizer='sgd', loss='categorical_crossentropy', metrics=['accuracy'])\n",
    "model.summary()"
   ]
  },
  {
   "cell_type": "code",
   "execution_count": 77,
   "metadata": {},
   "outputs": [
    {
     "name": "stdout",
     "output_type": "stream",
     "text": [
      "Train on 2179 samples, validate on 545 samples\n",
      "Epoch 1/20\n",
      "2179/2179 [==============================] - 52s - loss: 0.6920 - acc: 0.5530 - val_loss: 0.6905 - val_acc: 0.5688\n",
      "Epoch 2/20\n",
      "2179/2179 [==============================] - 53s - loss: 0.6897 - acc: 0.5649 - val_loss: 0.6884 - val_acc: 0.5688\n",
      "Epoch 3/20\n",
      "2179/2179 [==============================] - 53s - loss: 0.6880 - acc: 0.5649 - val_loss: 0.6869 - val_acc: 0.5688\n",
      "Epoch 4/20\n",
      "2179/2179 [==============================] - 53s - loss: 0.6869 - acc: 0.5649 - val_loss: 0.6858 - val_acc: 0.5688\n",
      "Epoch 5/20\n",
      "2179/2179 [==============================] - 54s - loss: 0.6861 - acc: 0.5649 - val_loss: 0.6851 - val_acc: 0.5688\n",
      "Epoch 6/20\n",
      "2179/2179 [==============================] - 54s - loss: 0.6856 - acc: 0.5649 - val_loss: 0.6846 - val_acc: 0.5688\n",
      "Epoch 7/20\n",
      "2179/2179 [==============================] - 54s - loss: 0.6853 - acc: 0.5649 - val_loss: 0.6843 - val_acc: 0.5688\n",
      "Epoch 8/20\n",
      "2179/2179 [==============================] - 54s - loss: 0.6851 - acc: 0.5649 - val_loss: 0.6841 - val_acc: 0.5688\n",
      "Epoch 9/20\n",
      "2179/2179 [==============================] - 54s - loss: 0.6849 - acc: 0.5649 - val_loss: 0.6840 - val_acc: 0.5688\n",
      "Epoch 10/20\n",
      "2179/2179 [==============================] - 54s - loss: 0.6848 - acc: 0.5649 - val_loss: 0.6839 - val_acc: 0.5688\n",
      "Epoch 11/20\n",
      "2179/2179 [==============================] - 54s - loss: 0.6848 - acc: 0.5649 - val_loss: 0.6838 - val_acc: 0.5688\n",
      "Epoch 12/20\n",
      "2179/2179 [==============================] - 54s - loss: 0.6848 - acc: 0.5649 - val_loss: 0.6838 - val_acc: 0.5688\n",
      "Epoch 13/20\n",
      "2179/2179 [==============================] - 54s - loss: 0.6848 - acc: 0.5649 - val_loss: 0.6837 - val_acc: 0.5688\n",
      "Epoch 14/20\n",
      "2179/2179 [==============================] - 54s - loss: 0.6848 - acc: 0.5649 - val_loss: 0.6837 - val_acc: 0.5688\n",
      "Epoch 15/20\n",
      "2179/2179 [==============================] - 54s - loss: 0.6847 - acc: 0.5649 - val_loss: 0.6837 - val_acc: 0.5688\n",
      "Epoch 16/20\n",
      "2179/2179 [==============================] - 54s - loss: 0.6847 - acc: 0.5649 - val_loss: 0.6837 - val_acc: 0.5688\n",
      "Epoch 17/20\n",
      "2179/2179 [==============================] - 54s - loss: 0.6847 - acc: 0.5649 - val_loss: 0.6837 - val_acc: 0.5688\n",
      "Epoch 18/20\n",
      "2179/2179 [==============================] - 54s - loss: 0.6847 - acc: 0.5649 - val_loss: 0.6837 - val_acc: 0.5688\n",
      "Epoch 19/20\n",
      "2179/2179 [==============================] - 54s - loss: 0.6848 - acc: 0.5649 - val_loss: 0.6837 - val_acc: 0.5688\n",
      "Epoch 20/20\n",
      "2179/2179 [==============================] - 54s - loss: 0.6847 - acc: 0.5649 - val_loss: 0.6837 - val_acc: 0.5688\n"
     ]
    }
   ],
   "source": [
    "network_history = model.fit(X_train, y_train, batch_size=115, \n",
    "                            epochs=20, verbose=1, validation_data=(X_test, y_test), \n",
    "                            callbacks=[early_stop])"
   ]
  },
  {
   "cell_type": "code",
   "execution_count": 79,
   "metadata": {},
   "outputs": [
    {
     "data": {
      "text/plain": [
       "<matplotlib.legend.Legend at 0x7f8daead7890>"
      ]
     },
     "execution_count": 79,
     "metadata": {},
     "output_type": "execute_result"
    },
    {
     "data": {
      "image/png": "[encoded data removed]",
      "text/plain": [
       "<matplotlib.figure.Figure at 0x7f8daeaf7590>"
      ]
     },
     "metadata": {},
     "output_type": "display_data"
    },
    {
     "data": {
      "image/png": "[encoded data removed]",
      "text/plain": [
       "<matplotlib.figure.Figure at 0x7f8daeaa3110>"
      ]
     },
     "metadata": {},
     "output_type": "display_data"
    }
   ],
   "source": [
    "import matplotlib.pyplot as plt\n",
    "%matplotlib inline\n",
    "\n",
    "plt.figure()\n",
    "plt.xlabel('Epochs')\n",
    "plt.ylabel('Loss')\n",
    "plt.plot(network_history.history['loss'])\n",
    "plt.plot(network_history.history['val_loss'])\n",
    "plt.legend(['Training', 'Validation'])\n",
    "\n",
    "plt.figure()\n",
    "plt.xlabel('Epochs')\n",
    "plt.ylabel('Accuracy')\n",
    "plt.plot(network_history.history['acc'])\n",
    "plt.plot(network_history.history['val_acc'])\n",
    "plt.legend(['Training', 'Validation'], loc='upper right')"
   ]
  },
  {
   "cell_type": "markdown",
   "metadata": {
    "collapsed": true
   },
   "source": [
    "### Try with a different kind of network"
   ]
  },
  {
   "cell_type": "code",
   "execution_count": null,
   "metadata": {
    "collapsed": true
   },
   "outputs": [],
   "source": [
    "#### early_stop = EarlyStopping(monitor='val_loss', patience=4, verbose=1)\n",
    "model = Sequential()\n",
    "model.add(Dense(2070, input_shape=((X_train.shape[1], X_train.shape[2])), activation='relu'))\n",
    "model.add(Dropout(0.2))\n",
    "model.add(Dense(2070, activation = 'relu'))\n",
    "model.add(Flatten())\n",
    "model.add(Dense(2, activation='softmax'))\n",
    "model.compile(optimizer='sgd', loss='categorical_crossentropy', metrics=['accuracy'])\n",
    "model.summary()"
   ]
  },
  {
   "cell_type": "code",
   "execution_count": 81,
   "metadata": {
    "collapsed": true
   },
   "outputs": [],
   "source": [
    "from keras.layers import Conv2D"
   ]
  },
  {
   "cell_type": "code",
   "execution_count": null,
   "metadata": {
    "collapsed": true
   },
   "outputs": [],
   "source": [
    "VGG16"
   ]
  },
  {
   "cell_type": "code",
   "execution_count": 82,
   "metadata": {
    "collapsed": true
   },
   "outputs": [
    {
     "name": "stdout",
     "output_type": "stream",
     "text": [
      "_________________________________________________________________\n",
      "Layer (type)                 Output Shape              Param #   \n",
      "=================================================================\n",
      "conv2d_1 (Conv2D)            (None, 2179, 55, 2070)    38566170  \n",
      "_________________________________________________________________\n",
      "conv2d_2 (Conv2D)            (None, 2179, 55, 2)       37262     \n",
      "_________________________________________________________________\n",
      "flatten_4 (Flatten)          (None, 239690)            0         \n",
      "_________________________________________________________________\n",
      "dense_30 (Dense)             (None, 2)                 479382    \n",
      "=================================================================\n",
      "Total params: 39,082,814\n",
      "Trainable params: 39,082,814\n",
      "Non-trainable params: 0\n",
      "_________________________________________________________________\n"
     ]
    }
   ],
   "source": [
    "# apply a 3x3 convolution with 64 output filters on a 256x256 image:\n",
    "model = Sequential()\n",
    "model.add(Conv2D(64, (3, 3), padding='same', \n",
    "          input_shape=((X_train.shape[1], X_train.shape[2]))))\n",
    "#pooling\n",
    "#batch normalization\n",
    "#relu\n",
    "# add a 3x3 convolution on top, with 32 output filters:\n",
    "model.add(Conv2D(32, (3, 3), padding='same'))\n",
    "# now model.output_shape == (None, 256, 256, 32)\n",
    "model.add(Flatten())\n",
    "model.add(Dense(2))\n",
    "model.compile(optimizer='sgd', loss='categorical_crossentropy', metrics=['accuracy'])\n",
    "model.summary()"
   ]
  },
  {
   "cell_type": "code",
   "execution_count": 83,
   "metadata": {},
   "outputs": [
    {
     "ename": "ValueError",
     "evalue": "Error when checking input: expected conv2d_1_input to have 4 dimensions, but got array with shape (2179, 55, 2070)",
     "output_type": "error",
     "traceback": [
      "\u001b[0;31m---------------------------------------------------------------------------\u001b[0m",
      "\u001b[0;31mValueError\u001b[0m                                Traceback (most recent call last)",
      "\u001b[0;32m<ipython-input-83-8cc90dbd8506>\u001b[0m in \u001b[0;36m<module>\u001b[0;34m()\u001b[0m\n\u001b[1;32m      1\u001b[0m network_history2 = model.fit(X_train, y_train, batch_size=115, \n\u001b[1;32m      2\u001b[0m                             \u001b[0mepochs\u001b[0m\u001b[0;34m=\u001b[0m\u001b[0;36m20\u001b[0m\u001b[0;34m,\u001b[0m \u001b[0mverbose\u001b[0m\u001b[0;34m=\u001b[0m\u001b[0;36m1\u001b[0m\u001b[0;34m,\u001b[0m \u001b[0mvalidation_data\u001b[0m\u001b[0;34m=\u001b[0m\u001b[0;34m(\u001b[0m\u001b[0mX_test\u001b[0m\u001b[0;34m,\u001b[0m \u001b[0my_test\u001b[0m\u001b[0;34m)\u001b[0m\u001b[0;34m,\u001b[0m\u001b[0;34m\u001b[0m\u001b[0m\n\u001b[0;32m----> 3\u001b[0;31m                             callbacks=[early_stop])\n\u001b[0m",
      "\u001b[0;32m/usr/local/lib/python2.7/dist-packages/keras/models.pyc\u001b[0m in \u001b[0;36mfit\u001b[0;34m(self, x, y, batch_size, epochs, verbose, callbacks, validation_split, validation_data, shuffle, class_weight, sample_weight, initial_epoch, **kwargs)\u001b[0m\n\u001b[1;32m    854\u001b[0m                               \u001b[0mclass_weight\u001b[0m\u001b[0;34m=\u001b[0m\u001b[0mclass_weight\u001b[0m\u001b[0;34m,\u001b[0m\u001b[0;34m\u001b[0m\u001b[0m\n\u001b[1;32m    855\u001b[0m                               \u001b[0msample_weight\u001b[0m\u001b[0;34m=\u001b[0m\u001b[0msample_weight\u001b[0m\u001b[0;34m,\u001b[0m\u001b[0;34m\u001b[0m\u001b[0m\n\u001b[0;32m--> 856\u001b[0;31m                               initial_epoch=initial_epoch)\n\u001b[0m\u001b[1;32m    857\u001b[0m \u001b[0;34m\u001b[0m\u001b[0m\n\u001b[1;32m    858\u001b[0m     def evaluate(self, x, y, batch_size=32, verbose=1,\n",
      "\u001b[0;32m/usr/local/lib/python2.7/dist-packages/keras/engine/training.pyc\u001b[0m in \u001b[0;36mfit\u001b[0;34m(self, x, y, batch_size, epochs, verbose, callbacks, validation_split, validation_data, shuffle, class_weight, sample_weight, initial_epoch, **kwargs)\u001b[0m\n\u001b[1;32m   1427\u001b[0m             \u001b[0mclass_weight\u001b[0m\u001b[0;34m=\u001b[0m\u001b[0mclass_weight\u001b[0m\u001b[0;34m,\u001b[0m\u001b[0;34m\u001b[0m\u001b[0m\n\u001b[1;32m   1428\u001b[0m             \u001b[0mcheck_batch_axis\u001b[0m\u001b[0;34m=\u001b[0m\u001b[0mFalse\u001b[0m\u001b[0;34m,\u001b[0m\u001b[0;34m\u001b[0m\u001b[0m\n\u001b[0;32m-> 1429\u001b[0;31m             batch_size=batch_size)\n\u001b[0m\u001b[1;32m   1430\u001b[0m         \u001b[0;31m# Prepare validation data.\u001b[0m\u001b[0;34m\u001b[0m\u001b[0;34m\u001b[0m\u001b[0m\n\u001b[1;32m   1431\u001b[0m         \u001b[0;32mif\u001b[0m \u001b[0mvalidation_data\u001b[0m\u001b[0;34m:\u001b[0m\u001b[0;34m\u001b[0m\u001b[0m\n",
      "\u001b[0;32m/usr/local/lib/python2.7/dist-packages/keras/engine/training.pyc\u001b[0m in \u001b[0;36m_standardize_user_data\u001b[0;34m(self, x, y, sample_weight, class_weight, check_batch_axis, batch_size)\u001b[0m\n\u001b[1;32m   1303\u001b[0m                                     \u001b[0mself\u001b[0m\u001b[0;34m.\u001b[0m\u001b[0m_feed_input_shapes\u001b[0m\u001b[0;34m,\u001b[0m\u001b[0;34m\u001b[0m\u001b[0m\n\u001b[1;32m   1304\u001b[0m                                     \u001b[0mcheck_batch_axis\u001b[0m\u001b[0;34m=\u001b[0m\u001b[0mFalse\u001b[0m\u001b[0;34m,\u001b[0m\u001b[0;34m\u001b[0m\u001b[0m\n\u001b[0;32m-> 1305\u001b[0;31m                                     exception_prefix='input')\n\u001b[0m\u001b[1;32m   1306\u001b[0m         y = _standardize_input_data(y, self._feed_output_names,\n\u001b[1;32m   1307\u001b[0m                                     \u001b[0moutput_shapes\u001b[0m\u001b[0;34m,\u001b[0m\u001b[0;34m\u001b[0m\u001b[0m\n",
      "\u001b[0;32m/usr/local/lib/python2.7/dist-packages/keras/engine/training.pyc\u001b[0m in \u001b[0;36m_standardize_input_data\u001b[0;34m(data, names, shapes, check_batch_axis, exception_prefix)\u001b[0m\n\u001b[1;32m    125\u001b[0m                                  \u001b[0;34m' to have '\u001b[0m \u001b[0;34m+\u001b[0m \u001b[0mstr\u001b[0m\u001b[0;34m(\u001b[0m\u001b[0mlen\u001b[0m\u001b[0;34m(\u001b[0m\u001b[0mshapes\u001b[0m\u001b[0;34m[\u001b[0m\u001b[0mi\u001b[0m\u001b[0;34m]\u001b[0m\u001b[0;34m)\u001b[0m\u001b[0;34m)\u001b[0m \u001b[0;34m+\u001b[0m\u001b[0;34m\u001b[0m\u001b[0m\n\u001b[1;32m    126\u001b[0m                                  \u001b[0;34m' dimensions, but got array with shape '\u001b[0m \u001b[0;34m+\u001b[0m\u001b[0;34m\u001b[0m\u001b[0m\n\u001b[0;32m--> 127\u001b[0;31m                                  str(array.shape))\n\u001b[0m\u001b[1;32m    128\u001b[0m             \u001b[0;32mfor\u001b[0m \u001b[0mj\u001b[0m\u001b[0;34m,\u001b[0m \u001b[0;34m(\u001b[0m\u001b[0mdim\u001b[0m\u001b[0;34m,\u001b[0m \u001b[0mref_dim\u001b[0m\u001b[0;34m)\u001b[0m \u001b[0;32min\u001b[0m \u001b[0menumerate\u001b[0m\u001b[0;34m(\u001b[0m\u001b[0mzip\u001b[0m\u001b[0;34m(\u001b[0m\u001b[0marray\u001b[0m\u001b[0;34m.\u001b[0m\u001b[0mshape\u001b[0m\u001b[0;34m,\u001b[0m \u001b[0mshapes\u001b[0m\u001b[0;34m[\u001b[0m\u001b[0mi\u001b[0m\u001b[0;34m]\u001b[0m\u001b[0;34m)\u001b[0m\u001b[0;34m)\u001b[0m\u001b[0;34m:\u001b[0m\u001b[0;34m\u001b[0m\u001b[0m\n\u001b[1;32m    129\u001b[0m                 \u001b[0;32mif\u001b[0m \u001b[0;32mnot\u001b[0m \u001b[0mj\u001b[0m \u001b[0;32mand\u001b[0m \u001b[0;32mnot\u001b[0m \u001b[0mcheck_batch_axis\u001b[0m\u001b[0;34m:\u001b[0m\u001b[0;34m\u001b[0m\u001b[0m\n",
      "\u001b[0;31mValueError\u001b[0m: Error when checking input: expected conv2d_1_input to have 4 dimensions, but got array with shape (2179, 55, 2070)"
     ]
    }
   ],
   "source": [
    "network_history2 = model.fit(X_train, y_train, batch_size=115, \n",
    "                            epochs=20, verbose=1, validation_data=(X_test, y_test), \n",
    "                            callbacks=[early_stop])"
   ]
  },
  {
   "cell_type": "code",
   "execution_count": null,
   "metadata": {
    "collapsed": true
   },
   "outputs": [],
   "source": []
  }
 ],
 "metadata": {
  "kernelspec": {
   "display_name": "Python 2",
   "language": "python",
   "name": "python2"
  },
  "language_info": {
   "codemirror_mode": {
    "name": "ipython",
    "version": 2
   },
   "file_extension": ".py",
   "mimetype": "text/x-python",
   "name": "python",
   "nbconvert_exporter": "python",
   "pygments_lexer": "ipython2",
   "version": "2.7.6"
  }
 },
 "nbformat": 4,
 "nbformat_minor": 1
}
