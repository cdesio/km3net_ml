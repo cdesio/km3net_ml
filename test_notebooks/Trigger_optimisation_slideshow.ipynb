{
 "cells": [
  {
   "cell_type": "markdown",
   "metadata": {
    "slideshow": {
     "slide_type": "slide"
    }
   },
   "source": [
    "# Trigger optimisation for galactic sources\n",
    "\n",
    "## C. De Sio - University of Salerno*\n",
    "\n",
    "\n",
    "**Currently at ECAP*\n",
    "\n"
   ]
  },
  {
   "cell_type": "markdown",
   "metadata": {
    "slideshow": {
     "slide_type": "slide"
    }
   },
   "source": [
    "#### What I did\n",
    "- Run JTE on neutrino files\n",
    "- Evaluate efficiency as a function of neutrino energy\n",
    "    - Use different trigger configurations\n",
    "    - Compare efficiencies\n",
    "- Evaluate effective area for triggered events and compare different trigger conditions\n",
    "- Run JTP on data files\n",
    "    - Compare trigger rates as a function of time windows"
   ]
  },
  {
   "cell_type": "markdown",
   "metadata": {
    "slideshow": {
     "slide_type": "slide"
    }
   },
   "source": [
    "### Run JTE on multiple neutrino files\n",
    "* files from HPSS: */in2p3/km3net/mc/prod/v4/km3/*\n",
    "    * numuCC (100 files);\n",
    "    * numuNC (100 files);\n",
    "    * nueCC (100 files);\n",
    "    * nueNC (100 files)\n",
    "\n",
    "* detector:  */afs/in2p3.fr/throng/km3net/detectors/km3net_jul13_90m_r1494.detx* \n",
    "\n",
    "* \"**standard trigger**\" (`st`) configuration\n",
    "\n",
    "* \"**optimised trigger**\" (`opt`) configuration \n",
    "    * trigger parameters by Sebastian Eichie\n",
    "\n",
    "* `combineL1` = 0 vs `combineL1 = 1`"
   ]
  },
  {
   "cell_type": "markdown",
   "metadata": {
    "slideshow": {
     "slide_type": "slide"
    }
   },
   "source": [
    "### **JTE** parameters comparison\n",
    "|Parameters                    | Standard trigger| Optimised params|\n",
    "|------------------------------|-----------------|-----------------|\n",
    "| `trigger3DShower.numberOfHits` | 5               | 4               |\n",
    "| `trigger3DShower.DMax_m`       | 250             | 130             |\n",
    "| `trigger3DShower.TMaxExtra_ns` | 20              | 370             |\n",
    "| `trigger3DMuon.numberOfHits`   | 5               | 4               |\n",
    "| `trigger3DMuon.roadWidth_m`   | 120             | 50              | \n",
    "| `trigger3DMuon.TMaxExtra_ns`   | 20              | 150             |\n",
    "-------------------------------------------------------------------"
   ]
  },
  {
   "cell_type": "markdown",
   "metadata": {
    "slideshow": {
     "slide_type": "skip"
    }
   },
   "source": [
    "## Standard trigger parameters\n",
    "\n",
    "\n",
    "* trigger3DShower.numberOfHits = 5\n",
    "* trigger3DShower.DMax_m = 250\n",
    "* trigger3DShower.TMaxExtra_ns = 20\n",
    "* trigger3DMuon.numberOfHits = 5\n",
    "* trigger3DMuon.roadWidth_m =120\n",
    "* trigger3DMuon.TMaxExtra_ns = 20\n"
   ]
  },
  {
   "cell_type": "markdown",
   "metadata": {
    "slideshow": {
     "slide_type": "skip"
    }
   },
   "source": [
    "## Optimised parameters\n",
    "\n",
    "* trigger3DShower.numberOfHits = 4\n",
    "* trigger3DShower.DMax_m = 130\n",
    "* trigger3DShower.TMaxExtra_ns = 370\n",
    "* trigger3DMuon.numberOfHits = 4\n",
    "* trigger3DMuon.roadWidth_m = 50\n",
    "* trigger3DMuon.TMaxExtra_ns = 150\n"
   ]
  },
  {
   "cell_type": "code",
   "execution_count": 2,
   "metadata": {
    "collapsed": false,
    "slideshow": {
     "slide_type": "skip"
    }
   },
   "outputs": [
    {
     "name": "stdout",
     "output_type": "stream",
     "text": [
      "doms_vs_hits_vs_opt.png\t\t\tPossible_vs_trigger_efficiency_st.png\r\n",
      "DOMS_vs_hits_vs_standard_trigger.png\tselection_doms_vs_hits.png\r\n",
      "effective_area_trigg_events.png\t\tTrigger_efficiency_opt_vs_nocomb.png\r\n",
      "hits_vs_standard_trigger.png\t\tTrigger_efficiency_st_vs_nocomb.png\r\n",
      "Possible_vs_trigger_efficiency_opt.png\tTrigger_efficiency_st_vs_opt.png\r\n"
     ]
    }
   ],
   "source": [
    "!ls efficiency_plots/plots_12bins/"
   ]
  },
  {
   "cell_type": "code",
   "execution_count": 2,
   "metadata": {
    "collapsed": false,
    "slideshow": {
     "slide_type": "skip"
    }
   },
   "outputs": [
    {
     "name": "stdout",
     "output_type": "stream",
     "text": [
      "efficiency_plots/effective_area_preliminary.png\r\n",
      "efficiency_plots/effective_area_tr_evt.png\r\n",
      "efficiency_plots/effective_area_tr_evt_st_vs_opt.png\r\n"
     ]
    }
   ],
   "source": [
    "!ls efficiency_plots/effect*"
   ]
  },
  {
   "cell_type": "markdown",
   "metadata": {
    "slideshow": {
     "slide_type": "slide"
    }
   },
   "source": [
    "### <p style=\"text-align: center;\"> Efficiency calculation </p>\n",
    "\n",
    "<p style=\"text-align: center;\">For each energy bin: </p> \n",
    "\n",
    "$$\\frac{\\# \\text{ Triggered}}{\\# \\text{ Simulated}}\\text{events}$$ "
   ]
  },
  {
   "cell_type": "markdown",
   "metadata": {
    "slideshow": {
     "slide_type": "slide"
    }
   },
   "source": [
    "## Standard trigger vs optimised trigger parameters\n",
    "<img src=\"plots/Trigger_efficiency_st_vs_opt.png\" />"
   ]
  },
  {
   "cell_type": "markdown",
   "metadata": {
    "slideshow": {
     "slide_type": "slide"
    }
   },
   "source": [
    "### `CombineL1`=0 vs `CombineL1=1`\n",
    "![](https://photos-3.dropbox.com/t/2/AABLGBOJcyKpzmclbtVDsaKFQae84yTwk2HOyyWpp6PXeg/12/82295915/png/32x32/1/_/1/2/Trigger_efficiency_st_vs_nocomb.png/ELv-hkAYywsgBygH/JbUpNYkczuez2OYvFMU_p3p7CX1RcIxqHVpHhmKThbw?size=1280x960&size_mode=3)"
   ]
  },
  {
   "cell_type": "markdown",
   "metadata": {
    "slideshow": {
     "slide_type": "slide"
    }
   },
   "source": [
    "### Optimised parameters vs `CombineL1`=0\n",
    "![](https://photos-1.dropbox.com/t/2/AABOoOqn6JsMct5LCORsquDbxamtzU5PIJHj-nsQyfdWqw/12/82295915/png/32x32/1/_/1/2/Trigger_efficiency_opt_vs_nocomb.png/ELv-hkAYzAsgBygH/FVPl0OogAGd_d7LiJ8PbmQ_Jm1VPLmi13ran0FtCJNc?size=1280x960&size_mode=3)"
   ]
  },
  {
   "cell_type": "markdown",
   "metadata": {
    "slideshow": {
     "slide_type": "slide"
    }
   },
   "source": [
    "### Maximum efficiency: 'number of events with at least 5 hits'/ total simulated events\n",
    "#### comparison with standard trigger conditions\n",
    "![](https://photos-3.dropbox.com/t/2/AAC57b6Uqhl5_Je637YtujSyOfQn-uU6IMhuuStxFWTf8w/12/82295915/png/32x32/1/_/1/2/Possible_vs_trigger_efficiency_st.png/ELv-hkAYzgsgBygH/TtZXERw0GB8zeb12ashzU-2TAQYGb-xC-uyAEtMIEKM?size=1280x960&size_mode=3)"
   ]
  },
  {
   "cell_type": "markdown",
   "metadata": {
    "slideshow": {
     "slide_type": "slide"
    }
   },
   "source": [
    "### Maximum efficiency: number of events with at least 5 hits/ total events\n",
    "#### comparison with optimised trigger conditions\n",
    "![](https://photos-5.dropbox.com/t/2/AAB7UCWXxxAlXkmfQN4ptAdG9OM5t5KhZ-ApYFTlDbU06g/12/82295915/png/32x32/1/_/1/2/Possible_vs_trigger_efficiency_opt.png/ELv-hkAYzwsgBygH/y6kolrUxEtYPMwjioU5lGlC8aJexy7dysx1WT4kKjFk?size=1280x960&size_mode=3)"
   ]
  },
  {
   "cell_type": "markdown",
   "metadata": {
    "slideshow": {
     "slide_type": "skip"
    }
   },
   "source": [
    "### Different event selection: number of hit DOMs per event\n",
    "#### comparison with standard trigger and selection on the number of hits\n",
    "![](efficiency_plots/plots_12bins/DOMS_vs_hits_vs_standard_trigger.png)"
   ]
  },
  {
   "cell_type": "markdown",
   "metadata": {
    "slideshow": {
     "slide_type": "skip"
    }
   },
   "source": [
    "### Different event selection: number of hit DOMs per event\n",
    "#### comparison with optimised parameters and selection on the number of hits\n",
    "![](efficiency_plots/plots_12bins/doms_vs_hits_vs_opt.png)"
   ]
  },
  {
   "cell_type": "markdown",
   "metadata": {
    "slideshow": {
     "slide_type": "slide"
    }
   },
   "source": [
    "### Selection on the number of hits vs selection on the number of hit DOMs\n",
    "![](https://photos-6.dropbox.com/t/2/AAA40q4O7U4MY16MNO9S7Ww6D-BaeAedQyCUpADeV1LC8Q/12/82295915/png/32x32/1/_/1/2/selection_doms_vs_hits.png/ELv-hkAYzQsgBygH/Vh-ZI5yS-_TAM7AnvxElOF0PAoGJgkHyQMQwk1YyMXY?size=1280x960&size_mode=3)"
   ]
  },
  {
   "cell_type": "markdown",
   "metadata": {
    "slideshow": {
     "slide_type": "slide"
    }
   },
   "source": [
    "### Effective area with triggered events: standard trigger vs optimised parameters\n",
    "![](https://photos-6.dropbox.com/t/2/AAAhsEk1IM1e7gNGjMlE5QtBIggW80auUZmwWqpEYsLC6w/12/82295915/png/32x32/1/_/1/2/effective_area_tr_evt_st_vs_opt.png/ELv-hkAY1gsgBygH/PD0A1CgdaE3x9gxsoujTOw9l-W_3dIPYi8er5o5GUQ8?size=1280x960&size_mode=3)"
   ]
  },
  {
   "cell_type": "markdown",
   "metadata": {
    "slideshow": {
     "slide_type": "slide"
    }
   },
   "source": [
    "### Effective area with triggered events: standard trigger vs optimised parameters vs `combineL1=0`\n",
    "![](https://photos-1.dropbox.com/t/2/AADHgiAir_4pFchJU9f8tPfYoAa8ZmYtFvvoZm_4pgG2Ew/12/82295915/png/32x32/1/_/1/2/effective_area_tr_evt.png/ELv-hkAY1wsgBygH/_at5Gsnsx7wRWb3tUML8WGF-nnAOHT9pr1c06JJbkD8?size=1280x960&size_mode=3)"
   ]
  },
  {
   "cell_type": "markdown",
   "metadata": {
    "slideshow": {
     "slide_type": "slide"
    }
   },
   "source": [
    "### Time windows comparison\n",
    "\n",
    "- 'st': standard trigger parameters; \n",
    "    * TMaxExtra_ns = 20 for Muon and Shower trigger\n",
    "- 'opt': 'optimised' parameters; \n",
    "    * Trigger3DShower.MaxExtra_ns = 370; \n",
    "    * Trigger3DMuon.TMaxExtra_ns = 150\n",
    "    \n",
    "#### **`opt` has very large time windows!**"
   ]
  },
  {
   "cell_type": "markdown",
   "metadata": {
    "slideshow": {
     "slide_type": "slide"
    }
   },
   "source": [
    "### Time windows comparison\n",
    "### Files processed with `TMaxExtra_ns` = 50, 100, 150 \n",
    "### in addition to 'st', 'opt', 'optnew' = 'opt' parameters with 'st' time windows\n",
    "![](https://photos-3.dropbox.com/t/2/AAAk6esDxC59M1iICvJBuibVjn4Qyqb9hS7YjvZ0PdkV8Q/12/82295915/png/32x32/1/_/1/2/comparing_time-windows.png/ELv-hkAY1AsgBygH/UKyXuJ8ipzwUwt39QtTtqQWKf6D6OnJM4qsJFAsJmMo?size=1280x960&size_mode=3)"
   ]
  },
  {
   "cell_type": "markdown",
   "metadata": {
    "slideshow": {
     "slide_type": "slide"
    }
   },
   "source": [
    "### Time windows comparison - zoom\n",
    "![](https://photos-5.dropbox.com/t/2/AAAqXumxQGJGV3zyNfUuvDUbOg7W3yBJfw8rbTZAAvHLvA/12/82295915/png/32x32/1/_/1/2/comparing_time-windows_zoom.png/ELv-hkAY1QsgBygH/mOhTKjVWFDFRURYG8NJvuX3-mrt_dJQ9dgVqGG4uGgA?size=1280x960&size_mode=3)"
   ]
  },
  {
   "cell_type": "markdown",
   "metadata": {
    "slideshow": {
     "slide_type": "slide"
    }
   },
   "source": [
    "<p style=\"text-align: center;\"> L1 runs Trigger rate (Hz) (JTriggerProcessor) </p>\n",
    "--------------------------------------------------------------\n",
    "|          filename             | 'st' | 50ns | 100ns | 'opt'|\n",
    "|-------------------------------|:--------------------------:|\n",
    "| KM3NeT_00000014_00004030.root | 0.03 | 0.12 | 0.20  | 0.33 |\n",
    "| KM3NeT_00000014_00004031.root | 0.02 | 0.14 | 0.21  | 0.33 |\n",
    "| KM3NeT_00000014_00004032.root | 0.10 | 0.27 | 0.32  | 0.35 |\n",
    "| KM3NeT_00000014_00004033.root | 0.02 | 0.11 | 0.17  | 0.27 |\n",
    "| KM3NeT_00000014_00004034.root | 0.03 | 0.23 | 0.50  | 1.13 |\n",
    "| KM3NeT_00000014_00004035.root | 0.01 | 0.21 | 0.53  | 1.26 |\n",
    "| KM3NeT_00000014_00004036.root | 0.01 | 0.25 | 0.53  | 1.22 |\n",
    "| KM3NeT_00000014_00004037.root | 0.02 | 0.18 | 0.33  | 0.58 |\n",
    "| KM3NeT_00000014_00004038.root | 0.01 | 0.04 | 0.06  | 0.07 |\n",
    "| KM3NeT_00000014_00004039.root | 0.03 | 0.12 | 0.17  | 0.22 |\n",
    "| KM3NeT_00000014_00004040.root | 0.02 | 0.16 | 0.25  | 0.37 |\n",
    "--------------------------------------------------------------\n",
    "- 'st': standard trigger parameters; \n",
    "    e.g.:\n",
    "        TMaxExtra_ns = 20 \n",
    "- 'opt': 'optimised' parameters; \n",
    "    e.g.:\n",
    "        Trigger3DShower.MaxExtra_ns = 370; \n",
    "        Trigger3DMuon.TMaxExtra_ns = 150\n",
    "#### Detector file: KM3NeT_00000014_20160802.detx"
   ]
  },
  {
   "cell_type": "markdown",
   "metadata": {
    "slideshow": {
     "slide_type": "slide"
    }
   },
   "source": [
    "<p style=\"text-align: center;\"> K40 background trigger rate (Hz) (JTriggerProcessor) </p>\n",
    "\n",
    "|          filename        | 'st' | 50ns | 100ns | 150ns| 'opt'|\n",
    "|--------------------------|:---------------------------------:|\n",
    "| JRTSW_5khz_n1000.root    | 0.00 | 0.00 | 0.00  | 0.00 | 0.01 |\n",
    "| JRTSW_10khz_n1000.root   | 0.00 | 0.01 | 0.01  | 0.06 | 0.09 |\n",
    "| JRTSW_15khz_n1000.root   | 0.00 | 0.03 | 0.04  | 0.14 | 0.36 |\n",
    "| JRTSW_20khz_n1000.root   | 0.01 | 0.15 | 0.45  | 1.01 | 1.65 |\n",
    "| JRTSW_25khz_n1000.root   | 0.14 | 0.49 | 1.76  | 4.64 | 8.17 |\n",
    "| JRTSW_100khz_n1000.root  |26072.9 | 15974.4 | 38462.59\n",
    "---------------------------------------------------------\n",
    "\n",
    "- 'st': standard trigger parameters; \n",
    "    e.g.:\n",
    "        TMaxExtra_ns = 20 \n",
    "- 'opt': 'optimised' parameters; \n",
    "    e.g.:\n",
    "        Trigger3DShower.MaxExtra_ns = 370; \n",
    "        Trigger3DMuon.TMaxExtra_ns = 150\n",
    "        \n",
    "#### Detector file: KM3NeT_00000014_20160802.detx"
   ]
  },
  {
   "cell_type": "markdown",
   "metadata": {
    "slideshow": {
     "slide_type": "slide"
    }
   },
   "source": [
    "### To do next\n",
    "\n",
    "* process neutrino files varying `Trigger3DMuon.TMaxExtra_ns` and `Trigger3DShower.TMaxExtra_ns` **separately**\n",
    "* include `muatm` background\n",
    "* ...\n",
    "* ..."
   ]
  },
  {
   "cell_type": "markdown",
   "metadata": {
    "slideshow": {
     "slide_type": "skip"
    }
   },
   "source": [
    "# !!!!! to convert the nb\n",
    "`jupyter nbconvert --to slides Trigger_optimisation_slideshow.ipynb --reveal-prefix \"http://cdnjs.cloudflare.com/ajax/libs/reveal.js/3.3.0/\"`"
   ]
  }
 ],
 "metadata": {
  "celltoolbar": "Slideshow",
  "kernelspec": {
   "display_name": "Python 2",
   "language": "python",
   "name": "python2"
  },
  "language_info": {
   "codemirror_mode": {
    "name": "ipython",
    "version": 2
   },
   "file_extension": ".py",
   "mimetype": "text/x-python",
   "name": "python",
   "nbconvert_exporter": "python",
   "pygments_lexer": "ipython2",
   "version": "2.7.6"
  }
 },
 "nbformat": 4,
 "nbformat_minor": 0
}
