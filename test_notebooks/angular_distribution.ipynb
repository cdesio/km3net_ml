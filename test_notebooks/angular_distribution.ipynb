{
 "cells": [
  {
   "cell_type": "code",
   "execution_count": 1,
   "metadata": {},
   "outputs": [
    {
     "name": "stderr",
     "output_type": "stream",
     "text": [
      "Using TensorFlow backend.\n"
     ]
    }
   ],
   "source": [
    "import numpy as np\n",
    "import os\n",
    "from keras import backend as K\n",
    "import pandas as pd"
   ]
  },
  {
   "cell_type": "code",
   "execution_count": 2,
   "metadata": {
    "collapsed": true
   },
   "outputs": [],
   "source": [
    "directory_reco = \"/data/km3net/extracted_trees_reco_files\"\n",
    "reco_files_numu = [os.path.join(directory_reco, \"km3_v4_numuCC_{}.evt.JEnergy.rootreco_trees.npz\".format(i+1)) \n",
    "                   for i in range(100)]\n",
    "reco_files_nue = [os.path.join(directory_reco, \"km3_v4_nueCC_{}.evt.JEnergy.rootreco_trees.npz\".format(i+1))\n",
    "                  for i in range(100)]"
   ]
  },
  {
   "cell_type": "code",
   "execution_count": 3,
   "metadata": {
    "collapsed": true
   },
   "outputs": [],
   "source": [
    "doms_map_files_numu = [\"/data/km3net/Xy_multi_data_files/numu_{}_sel5_doms_map.npz\".format(i+1) for i in range(100)] \n",
    "doms_map_files_nue = [\"/data/km3net/Xy_multi_data_files/nue_{}_sel_5_doms_map.npz\".format(i+1) for i in range(100)]    "
   ]
  },
  {
   "cell_type": "code",
   "execution_count": 4,
   "metadata": {
    "collapsed": true
   },
   "outputs": [],
   "source": [
    "index_files = [\"train_test_files/Xy_indx{}_sel5_doms.npz\".format(i+1) for i in range(100)]\n",
    "test_indices = [np.load(index_files[i])[\"test\"] for i in range(100)]"
   ]
  },
  {
   "cell_type": "code",
   "execution_count": 5,
   "metadata": {
    "collapsed": true
   },
   "outputs": [],
   "source": [
    "def sel_doms_arr(data_filepath, map_filepath, target_key):\n",
    "    \"\"\"Selects all events with more than 5 doms hits - according to the input doms_map\"\"\"\n",
    "    with np.load(data_filepath) as data_file, np.load(map_filepath) as map_file:\n",
    "        return data_file[target_key][map_file[\"id\"]]"
   ]
  },
  {
   "cell_type": "code",
   "execution_count": 6,
   "metadata": {
    "collapsed": true
   },
   "outputs": [],
   "source": [
    "from generators import get_n_iterations, metadata_generator, data_generator\n",
    "from tqdm import tqdm\n",
    "n_files=100\n",
    "batch_size=64\n"
   ]
  },
  {
   "cell_type": "code",
   "execution_count": 7,
   "metadata": {
    "collapsed": true
   },
   "outputs": [],
   "source": [
    "nu_stack_dirx = [np.hstack((sel_doms_arr(reco_files_numu[i], doms_map_files_numu[i], \"dirx\"),\n",
    "                            sel_doms_arr(reco_files_nue[i], doms_map_files_nue[i], \"dirx\"))) for i in range(100)]\n",
    "nu_stack_diry = [np.hstack((sel_doms_arr(reco_files_numu[i], doms_map_files_numu[i], \"diry\"),\n",
    "                            sel_doms_arr(reco_files_nue[i], doms_map_files_nue[i], \"diry\"))) for i in range(100)]\n",
    "nu_stack_dirz = [np.hstack((sel_doms_arr(reco_files_numu[i], doms_map_files_numu[i], \"dirz\"),\n",
    "                            sel_doms_arr(reco_files_nue[i], doms_map_files_nue[i], \"dirz\"))) for i in range(100)]"
   ]
  },
  {
   "cell_type": "code",
   "execution_count": 8,
   "metadata": {},
   "outputs": [
    {
     "name": "stdout",
     "output_type": "stream",
     "text": [
      "((51818,), (51818,), (51818,))\n"
     ]
    }
   ],
   "source": [
    "y_reco_dx = np.hstack(nu_stack_dirx[i][test_indices[i]] for i in range(100))\n",
    "y_reco_dy = np.hstack(nu_stack_diry[i][test_indices[i]] for i in range(100))\n",
    "y_reco_dz = np.hstack(nu_stack_dirz[i][test_indices[i]] for i in range(100))\n",
    "print(y_reco_dx.shape, y_reco_dx.shape, y_reco_dz.shape)"
   ]
  },
  {
   "cell_type": "code",
   "execution_count": 9,
   "metadata": {
    "collapsed": true
   },
   "outputs": [],
   "source": [
    "train_test_dir = os.path.abspath(\"./cosz\")\n",
    "fnames_test =[os.path.join(train_test_dir, \"Xy_test{}_sel5_doms.npz\".format(i+1)) for i in range(100)]\n",
    "index_filelist = [os.path.join(train_test_dir, \"Xy_indx{}_sel5_doms.npz\".format(i+1)) for i in range(100)]\n",
    "\n",
    "dir_xy = os.path.join(\"/\", \"data\", \"km3net\", \"Xy_multi_data_files\")\n",
    "xy_filelist = [(os.path.join(dir_xy, \"Xy_numu_{}_multi_data.npz\".format(i+1)), \n",
    "                os.path.join(dir_xy, \"Xy_nue_{}_multi_data.npz\".format(i+1))) for i in range(100)]\n",
    "metadata_keylist = [\"E\", \"dirx\", \"diry\", \"dirz\", \"posx\",\"posy\",\"posz\", \"dist\"]"
   ]
  },
  {
   "cell_type": "code",
   "execution_count": 11,
   "metadata": {},
   "outputs": [
    {
     "name": "stdout",
     "output_type": "stream",
     "text": [
      "(810, 51818)\n"
     ]
    }
   ],
   "source": [
    "predict_steps, n_test_events = get_n_iterations(fnames_test[:n_files], batch_size=64)\n",
    "print(predict_steps, n_test_events)"
   ]
  },
  {
   "cell_type": "code",
   "execution_count": 12,
   "metadata": {},
   "outputs": [
    {
     "name": "stderr",
     "output_type": "stream",
     "text": [
      "100%|██████████| 810/810 [00:38<00:00, 21.16it/s]\n"
     ]
    }
   ],
   "source": [
    "y_true = list()\n",
    "metadata = None\n",
    "metadata_gen  = metadata_generator(index_filelist, xy_filelist, metadata_keylist)\n",
    "data_gen = data_generator(fnames_test[:n_files], batch_size=batch_size, \n",
    "                          ftarget=lambda y: y)\n",
    "\n",
    "for i in tqdm(range(predict_steps)):\n",
    "    _, y_batch_true = next(data_gen)\n",
    "    metadata_batch = next(metadata_gen)\n",
    "    if metadata is None:\n",
    "        metadata = metadata_batch\n",
    "    else:\n",
    "        metadata = pd.concat((metadata, metadata_batch))\n",
    "    y_true.append(y_batch_true)\n",
    "    \n",
    "y_true = np.hstack(np.asarray(y_true))"
   ]
  },
  {
   "cell_type": "code",
   "execution_count": 17,
   "metadata": {
    "collapsed": true
   },
   "outputs": [],
   "source": [
    "true_dx = np.asarray(metadata[\"dirx\"])\n",
    "true_dy = np.asarray(metadata[\"diry\"])\n",
    "true_dz = np.asarray(metadata[\"dirz\"])"
   ]
  },
  {
   "cell_type": "code",
   "execution_count": 106,
   "metadata": {},
   "outputs": [
    {
     "data": {
      "text/plain": [
       "(51818,)"
      ]
     },
     "execution_count": 106,
     "metadata": {},
     "output_type": "execute_result"
    }
   ],
   "source": [
    "true_dx.shape"
   ]
  },
  {
   "cell_type": "code",
   "execution_count": 107,
   "metadata": {},
   "outputs": [
    {
     "data": {
      "text/plain": [
       "(3, 51818)"
      ]
     },
     "execution_count": 107,
     "metadata": {},
     "output_type": "execute_result"
    }
   ],
   "source": [
    "true_dir = np.vstack((true_dx, true_dy, true_dz))\n",
    "true_dir.shape"
   ]
  },
  {
   "cell_type": "code",
   "execution_count": 113,
   "metadata": {},
   "outputs": [
    {
     "data": {
      "text/plain": [
       "(3, 51818)"
      ]
     },
     "execution_count": 113,
     "metadata": {},
     "output_type": "execute_result"
    }
   ],
   "source": [
    "y_reco_dir = np.vstack((y_reco_dx, y_reco_dy, y_reco_dz))\n",
    "y_reco_dir.shape"
   ]
  },
  {
   "cell_type": "code",
   "execution_count": 126,
   "metadata": {
    "collapsed": true
   },
   "outputs": [],
   "source": [
    "angle = []\n",
    "for i in range(true_dx.shape[0]):\n",
    "    angle_i = np.degrees(np.arccos(np.round(y_reco_dx[i]*true_dx[i] + \n",
    "                                            y_reco_dy[i]*true_dy[i] + \n",
    "                                            y_reco_dz[i]*true_dz[i], decimals=5)))\n",
    "    angle.append(angle_i)"
   ]
  },
  {
   "cell_type": "code",
   "execution_count": 127,
   "metadata": {},
   "outputs": [
    {
     "data": {
      "text/plain": [
       "(0.0, 176.90352975245423)"
      ]
     },
     "execution_count": 127,
     "metadata": {},
     "output_type": "execute_result"
    }
   ],
   "source": [
    "np.min(angle), np.max(angle)"
   ]
  },
  {
   "cell_type": "code",
   "execution_count": 138,
   "metadata": {},
   "outputs": [
    {
     "name": "stderr",
     "output_type": "stream",
     "text": [
      "/usr/local/lib/python2.7/dist-packages/ipykernel_launcher.py:1: RuntimeWarning: divide by zero encountered in log10\n",
      "  \"\"\"Entry point for launching an IPython kernel.\n"
     ]
    }
   ],
   "source": [
    "log_angle=np.log10(angle)[np.isfinite(np.log10(angle))]"
   ]
  },
  {
   "cell_type": "code",
   "execution_count": 150,
   "metadata": {},
   "outputs": [
    {
     "data": {
      "image/png": "[encoded data removed]",
      "text/plain": [
       "<matplotlib.figure.Figure at 0x7f4cd20f4f50>"
      ]
     },
     "metadata": {},
     "output_type": "display_data"
    }
   ],
   "source": [
    "import matplotlib.pyplot as plt\n",
    "%matplotlib inline\n",
    "plt.hist(log_angle, label=\"reco_evts\", \n",
    "         bins=40, histtype=\"step\", color=\"red\",lw=2)\n",
    "plt.grid()\n",
    "plt.xlabel(\" Angle(deg)\")\n",
    "plt.ylabel(\"events\")\n",
    "plt.xscale(\"Log\")\n",
    "#plt.xlim(1e-2, 1e1)\n",
    "#plt.legend(loc=\"upper right\")"
   ]
  },
  {
   "cell_type": "code",
   "execution_count": 129,
   "metadata": {},
   "outputs": [
    {
     "data": {
      "text/plain": [
       "(0.001, 100.0)"
      ]
     },
     "execution_count": 129,
     "metadata": {},
     "output_type": "execute_result"
    },
    {
     "data": {
      "image/png": "[encoded data removed]",
      "text/plain": [
       "<matplotlib.figure.Figure at 0x7f4cd18c5490>"
      ]
     },
     "metadata": {},
     "output_type": "display_data"
    }
   ],
   "source": [
    "import matplotlib.pyplot as plt\n",
    "%matplotlib inline\n",
    "plt.hist(angle, label=\"reco_evts\", \n",
    "         bins=50, histtype=\"step\", color=\"red\",lw=2)\n",
    "plt.grid()\n",
    "plt.xlabel(\" Angle(deg)\")\n",
    "plt.ylabel(\"events\")\n",
    "plt.xlim(1e-3, 1e2)"
   ]
  },
  {
   "cell_type": "code",
   "execution_count": null,
   "metadata": {
    "collapsed": true
   },
   "outputs": [],
   "source": []
  }
 ],
 "metadata": {
  "kernelspec": {
   "display_name": "Python 2",
   "language": "python",
   "name": "python2"
  },
  "language_info": {
   "codemirror_mode": {
    "name": "ipython",
    "version": 2
   },
   "file_extension": ".py",
   "mimetype": "text/x-python",
   "name": "python",
   "nbconvert_exporter": "python",
   "pygments_lexer": "ipython2",
   "version": "2.7.6"
  }
 },
 "nbformat": 4,
 "nbformat_minor": 2
}
