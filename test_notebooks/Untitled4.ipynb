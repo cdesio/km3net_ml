{
 "cells": [
  {
   "cell_type": "code",
   "execution_count": 3,
   "metadata": {
    "collapsed": true
   },
   "outputs": [],
   "source": [
    "import numpy as np"
   ]
  },
  {
   "cell_type": "code",
   "execution_count": 4,
   "metadata": {},
   "outputs": [],
   "source": [
    "fnames_train = np.asarray([\"train_test_files/Xy_train\"+str(i+1)+\"_sel5_updown.npz\"for i in range(100)])"
   ]
  },
  {
   "cell_type": "code",
   "execution_count": 1,
   "metadata": {
    "collapsed": true
   },
   "outputs": [],
   "source": [
    "import get_iterations"
   ]
  },
  {
   "cell_type": "code",
   "execution_count": 5,
   "metadata": {},
   "outputs": [
    {
     "data": {
      "text/plain": [
       "(2455, 153934)"
      ]
     },
     "execution_count": 5,
     "metadata": {},
     "output_type": "execute_result"
    }
   ],
   "source": [
    "get_iterations.get_n_iterations(fnames_train, 64)"
   ]
  },
  {
   "cell_type": "code",
   "execution_count": 6,
   "metadata": {
    "collapsed": true
   },
   "outputs": [],
   "source": [
    "from multi_files_generator import Xy_gen_TZ"
   ]
  },
  {
   "cell_type": "code",
   "execution_count": 15,
   "metadata": {},
   "outputs": [
    {
     "name": "stdout",
     "output_type": "stream",
     "text": [
      "file 1 : train_test_files/Xy_train1_sel5_updown.npz\n",
      "24\n",
      "file 2 : train_test_files/Xy_train2_sel5_updown.npz\n",
      "49\n",
      "file 3 : train_test_files/Xy_train3_sel5_updown.npz\n",
      "74\n",
      "file 4 : train_test_files/Xy_train4_sel5_updown.npz\n",
      "98\n",
      "file 5 : train_test_files/Xy_train5_sel5_updown.npz\n",
      "123\n",
      "file 6 : train_test_files/Xy_train6_sel5_updown.npz\n",
      "148\n",
      "file 7 : train_test_files/Xy_train7_sel5_updown.npz\n",
      "172\n",
      "file 8 : train_test_files/Xy_train8_sel5_updown.npz\n",
      "196\n",
      "file 9 : train_test_files/Xy_train9_sel5_updown.npz\n",
      "221\n",
      "file 10 : train_test_files/Xy_train10_sel5_updown.npz\n",
      "245\n",
      "file 11 : train_test_files/Xy_train11_sel5_updown.npz\n",
      "270\n",
      "file 12 : train_test_files/Xy_train12_sel5_updown.npz\n",
      "295\n",
      "file 13 : train_test_files/Xy_train13_sel5_updown.npz\n",
      "317\n",
      "file 14 : train_test_files/Xy_train14_sel5_updown.npz\n",
      "341\n",
      "file 15 : train_test_files/Xy_train15_sel5_updown.npz\n",
      "366\n",
      "file 16 : train_test_files/Xy_train16_sel5_updown.npz\n",
      "391\n",
      "file 17 : train_test_files/Xy_train17_sel5_updown.npz\n",
      "416\n",
      "file 18 : train_test_files/Xy_train18_sel5_updown.npz\n",
      "440\n",
      "file 19 : train_test_files/Xy_train19_sel5_updown.npz\n",
      "464\n",
      "file 20 : train_test_files/Xy_train20_sel5_updown.npz\n",
      "488\n",
      "file 21 : train_test_files/Xy_train21_sel5_updown.npz\n",
      "513\n",
      "file 22 : train_test_files/Xy_train22_sel5_updown.npz\n",
      "538\n",
      "file 23 : train_test_files/Xy_train23_sel5_updown.npz\n",
      "562\n",
      "file 24 : train_test_files/Xy_train24_sel5_updown.npz\n",
      "586\n",
      "file 25 : train_test_files/Xy_train25_sel5_updown.npz\n",
      "610\n",
      "file 26 : train_test_files/Xy_train26_sel5_updown.npz\n",
      "634\n",
      "file 27 : train_test_files/Xy_train27_sel5_updown.npz\n",
      "659\n",
      "file 28 : train_test_files/Xy_train28_sel5_updown.npz\n",
      "683\n",
      "file 29 : train_test_files/Xy_train29_sel5_updown.npz\n",
      "707\n",
      "file 30 : train_test_files/Xy_train30_sel5_updown.npz\n",
      "732\n",
      "file 31 : train_test_files/Xy_train31_sel5_updown.npz\n",
      "757\n",
      "file 32 : train_test_files/Xy_train32_sel5_updown.npz\n",
      "782\n",
      "file 33 : train_test_files/Xy_train33_sel5_updown.npz\n",
      "808\n",
      "file 34 : train_test_files/Xy_train34_sel5_updown.npz\n",
      "832\n",
      "file 35 : train_test_files/Xy_train35_sel5_updown.npz\n",
      "857\n",
      "file 36 : train_test_files/Xy_train36_sel5_updown.npz\n",
      "880\n",
      "file 37 : train_test_files/Xy_train37_sel5_updown.npz\n",
      "905\n",
      "file 38 : train_test_files/Xy_train38_sel5_updown.npz\n",
      "929\n",
      "file 39 : train_test_files/Xy_train39_sel5_updown.npz\n",
      "954\n",
      "file 40 : train_test_files/Xy_train40_sel5_updown.npz\n",
      "978\n",
      "file 41 : train_test_files/Xy_train41_sel5_updown.npz\n",
      "1003\n",
      "file 42 : train_test_files/Xy_train42_sel5_updown.npz\n",
      "1028\n",
      "file 43 : train_test_files/Xy_train43_sel5_updown.npz\n",
      "1053\n",
      "file 44 : train_test_files/Xy_train44_sel5_updown.npz\n",
      "1077\n",
      "file 45 : train_test_files/Xy_train45_sel5_updown.npz\n",
      "1102\n",
      "file 46 : train_test_files/Xy_train46_sel5_updown.npz\n",
      "1127\n",
      "file 47 : train_test_files/Xy_train47_sel5_updown.npz\n",
      "1152\n",
      "file 48 : train_test_files/Xy_train48_sel5_updown.npz\n",
      "1178\n",
      "file 49 : train_test_files/Xy_train49_sel5_updown.npz\n",
      "1203\n",
      "file 50 : train_test_files/Xy_train50_sel5_updown.npz\n",
      "1227\n",
      "file 51 : train_test_files/Xy_train51_sel5_updown.npz\n",
      "1252\n",
      "file 52 : train_test_files/Xy_train52_sel5_updown.npz\n",
      "1276\n",
      "file 53 : train_test_files/Xy_train53_sel5_updown.npz\n",
      "1301\n",
      "file 54 : train_test_files/Xy_train54_sel5_updown.npz\n",
      "1325\n",
      "file 55 : train_test_files/Xy_train55_sel5_updown.npz\n",
      "1350\n",
      "file 56 : train_test_files/Xy_train56_sel5_updown.npz\n",
      "1374\n",
      "file 57 : train_test_files/Xy_train57_sel5_updown.npz\n",
      "1398\n",
      "file 58 : train_test_files/Xy_train58_sel5_updown.npz\n",
      "1423\n",
      "file 59 : train_test_files/Xy_train59_sel5_updown.npz\n",
      "1448\n",
      "file 60 : train_test_files/Xy_train60_sel5_updown.npz\n",
      "1472\n",
      "file 61 : train_test_files/Xy_train61_sel5_updown.npz\n",
      "1496\n",
      "file 62 : train_test_files/Xy_train62_sel5_updown.npz\n",
      "1522\n",
      "file 63 : train_test_files/Xy_train63_sel5_updown.npz\n",
      "1547\n",
      "file 64 : train_test_files/Xy_train64_sel5_updown.npz\n",
      "1570\n",
      "file 65 : train_test_files/Xy_train65_sel5_updown.npz\n",
      "1594\n",
      "file 66 : train_test_files/Xy_train66_sel5_updown.npz\n",
      "1618\n",
      "file 67 : train_test_files/Xy_train67_sel5_updown.npz\n",
      "1643\n",
      "file 68 : train_test_files/Xy_train68_sel5_updown.npz\n",
      "1668\n",
      "file 69 : train_test_files/Xy_train69_sel5_updown.npz\n",
      "1693\n",
      "file 70 : train_test_files/Xy_train70_sel5_updown.npz\n",
      "1716\n",
      "file 71 : train_test_files/Xy_train71_sel5_updown.npz\n",
      "1741\n",
      "file 72 : train_test_files/Xy_train72_sel5_updown.npz\n",
      "1766\n",
      "file 73 : train_test_files/Xy_train73_sel5_updown.npz\n",
      "1791\n",
      "file 74 : train_test_files/Xy_train74_sel5_updown.npz\n",
      "1815\n",
      "file 75 : train_test_files/Xy_train75_sel5_updown.npz\n",
      "1840\n",
      "file 76 : train_test_files/Xy_train76_sel5_updown.npz\n",
      "1863\n",
      "file 77 : train_test_files/Xy_train77_sel5_updown.npz\n",
      "1888\n",
      "file 78 : train_test_files/Xy_train78_sel5_updown.npz\n",
      "1912\n",
      "file 79 : train_test_files/Xy_train79_sel5_updown.npz\n",
      "1938\n",
      "file 80 : train_test_files/Xy_train80_sel5_updown.npz\n",
      "1963\n",
      "file 81 : train_test_files/Xy_train81_sel5_updown.npz\n",
      "1988\n",
      "file 82 : train_test_files/Xy_train82_sel5_updown.npz\n",
      "2013\n",
      "file 83 : train_test_files/Xy_train83_sel5_updown.npz\n",
      "2037\n",
      "file 84 : train_test_files/Xy_train84_sel5_updown.npz\n",
      "2062\n",
      "file 85 : train_test_files/Xy_train85_sel5_updown.npz\n",
      "2086\n",
      "file 86 : train_test_files/Xy_train86_sel5_updown.npz\n",
      "2111\n",
      "file 87 : train_test_files/Xy_train87_sel5_updown.npz\n",
      "2135\n",
      "file 88 : train_test_files/Xy_train88_sel5_updown.npz\n",
      "2159\n",
      "file 89 : train_test_files/Xy_train89_sel5_updown.npz\n",
      "2184\n",
      "file 90 : train_test_files/Xy_train90_sel5_updown.npz\n",
      "2208\n",
      "file 91 : train_test_files/Xy_train91_sel5_updown.npz\n",
      "2233\n",
      "file 92 : train_test_files/Xy_train92_sel5_updown.npz\n",
      "2258\n",
      "file 93 : train_test_files/Xy_train93_sel5_updown.npz\n",
      "2283\n",
      "file 94 : train_test_files/Xy_train94_sel5_updown.npz\n",
      "2308\n",
      "file 95 : train_test_files/Xy_train95_sel5_updown.npz\n",
      "2332\n",
      "file 96 : train_test_files/Xy_train96_sel5_updown.npz\n",
      "2356\n",
      "file 97 : train_test_files/Xy_train97_sel5_updown.npz\n",
      "2380\n",
      "file 98 : train_test_files/Xy_train98_sel5_updown.npz\n",
      "2405\n",
      "file 99 : train_test_files/Xy_train99_sel5_updown.npz\n",
      "2429\n",
      "file 100 : train_test_files/Xy_train100_sel5_updown.npz\n"
     ]
    },
    {
     "data": {
      "text/plain": [
       "(153934, 2)"
      ]
     },
     "execution_count": 15,
     "metadata": {},
     "output_type": "execute_result"
    }
   ],
   "source": [
    "ytest = []\n",
    "for i, (X_test, y_test) in enumerate(Xy_gen_TZ(fnames_train)):\n",
    "    ytest.append(y_test)\n",
    "    if i==2455-1:\n",
    "        break\n",
    "y_real = np.vstack(np.asarray(ytest))\n",
    "y_real.shape"
   ]
  },
  {
   "cell_type": "code",
   "execution_count": 11,
   "metadata": {},
   "outputs": [
    {
     "data": {
      "text/plain": [
       "(153934, 2)"
      ]
     },
     "execution_count": 11,
     "metadata": {},
     "output_type": "execute_result"
    }
   ],
   "source": [
    "y_real.shape"
   ]
  },
  {
   "cell_type": "code",
   "execution_count": null,
   "metadata": {
    "collapsed": true
   },
   "outputs": [],
   "source": []
  }
 ],
 "metadata": {
  "kernelspec": {
   "display_name": "Python 2",
   "language": "python",
   "name": "python2"
  },
  "language_info": {
   "codemirror_mode": {
    "name": "ipython",
    "version": 2
   },
   "file_extension": ".py",
   "mimetype": "text/x-python",
   "name": "python",
   "nbconvert_exporter": "python",
   "pygments_lexer": "ipython2",
   "version": "2.7.6"
  }
 },
 "nbformat": 4,
 "nbformat_minor": 2
}
