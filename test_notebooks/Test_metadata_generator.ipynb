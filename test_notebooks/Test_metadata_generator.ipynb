{
 "cells": [
  {
   "cell_type": "code",
   "execution_count": 1,
   "metadata": {
    "collapsed": true
   },
   "outputs": [],
   "source": [
    "import numpy as np\n",
    "import os\n",
    "import pandas as pd"
   ]
  },
  {
   "cell_type": "code",
   "execution_count": 2,
   "metadata": {},
   "outputs": [
    {
     "name": "stderr",
     "output_type": "stream",
     "text": [
      "Using TensorFlow backend.\n"
     ]
    }
   ],
   "source": [
    "from multi_files_generator import generate_metadata"
   ]
  },
  {
   "cell_type": "code",
   "execution_count": 3,
   "metadata": {
    "collapsed": true
   },
   "outputs": [],
   "source": [
    "dir_xy = \"aafiles/Jpp_v6_aa_files/Xy_multi_data_files/\"\n",
    "dir_train_test = \"train_test_files/cosz/\""
   ]
  },
  {
   "cell_type": "code",
   "execution_count": 4,
   "metadata": {
    "collapsed": true
   },
   "outputs": [],
   "source": [
    "index_filelist = [os.path.join(dir_train_test, \"Xy_indx{}_sel5_doms.npz\".format(i+1)) for i in range(100)]\n",
    "xy_filelist = [(os.path.join(dir_xy, \"Xy_numu_{}_multi_data.npz\".format(i+1)), \n",
    "                os.path.join(dir_xy, \"Xy_nue_{}_multi_data.npz\".format(i+1))) for i in range(100)]"
   ]
  },
  {
   "cell_type": "code",
   "execution_count": 5,
   "metadata": {
    "collapsed": true
   },
   "outputs": [],
   "source": [
    "metadata_keylist = [\"E\", \"dirx\", \"diry\", \"dirz\", \"posx\", \"posy\", \"posz\", \"dist\"]"
   ]
  },
  {
   "cell_type": "code",
   "execution_count": 6,
   "metadata": {
    "collapsed": true
   },
   "outputs": [],
   "source": [
    "generator  = generate_metadata(index_filelist, xy_filelist, metadata_keylist)"
   ]
  },
  {
   "cell_type": "code",
   "execution_count": 7,
   "metadata": {},
   "outputs": [],
   "source": [
    "df_md = next(generator)"
   ]
  },
  {
   "cell_type": "code",
   "execution_count": 8,
   "metadata": {},
   "outputs": [
    {
     "data": {
      "text/html": [
       "<div>\n",
       "<style>\n",
       "    .dataframe thead tr:only-child th {\n",
       "        text-align: right;\n",
       "    }\n",
       "\n",
       "    .dataframe thead th {\n",
       "        text-align: left;\n",
       "    }\n",
       "\n",
       "    .dataframe tbody tr th {\n",
       "        vertical-align: top;\n",
       "    }\n",
       "</style>\n",
       "<table border=\"1\" class=\"dataframe\">\n",
       "  <thead>\n",
       "    <tr style=\"text-align: right;\">\n",
       "      <th></th>\n",
       "      <th>E</th>\n",
       "      <th>dirx</th>\n",
       "      <th>diry</th>\n",
       "      <th>dirz</th>\n",
       "      <th>posx</th>\n",
       "      <th>posy</th>\n",
       "      <th>posz</th>\n",
       "      <th>dist</th>\n",
       "      <th>file_evt_index</th>\n",
       "      <th>evt_index</th>\n",
       "    </tr>\n",
       "  </thead>\n",
       "  <tbody>\n",
       "    <tr>\n",
       "      <th>0</th>\n",
       "      <td>736.304</td>\n",
       "      <td>-0.827540</td>\n",
       "      <td>0.396100</td>\n",
       "      <td>0.397850</td>\n",
       "      <td>-272.307</td>\n",
       "      <td>-4.084</td>\n",
       "      <td>-158.369</td>\n",
       "      <td>270.957155</td>\n",
       "      <td>0</td>\n",
       "      <td>1608</td>\n",
       "    </tr>\n",
       "    <tr>\n",
       "      <th>1</th>\n",
       "      <td>2120.990</td>\n",
       "      <td>0.197537</td>\n",
       "      <td>-0.333124</td>\n",
       "      <td>-0.921959</td>\n",
       "      <td>-156.908</td>\n",
       "      <td>46.530</td>\n",
       "      <td>209.152</td>\n",
       "      <td>115.123164</td>\n",
       "      <td>0</td>\n",
       "      <td>173</td>\n",
       "    </tr>\n",
       "    <tr>\n",
       "      <th>2</th>\n",
       "      <td>12032.700</td>\n",
       "      <td>-0.504102</td>\n",
       "      <td>-0.812768</td>\n",
       "      <td>0.292043</td>\n",
       "      <td>667.434</td>\n",
       "      <td>230.793</td>\n",
       "      <td>114.812</td>\n",
       "      <td>520.883049</td>\n",
       "      <td>0</td>\n",
       "      <td>463</td>\n",
       "    </tr>\n",
       "    <tr>\n",
       "      <th>3</th>\n",
       "      <td>49339.000</td>\n",
       "      <td>-0.174727</td>\n",
       "      <td>0.916099</td>\n",
       "      <td>0.360880</td>\n",
       "      <td>-2.678</td>\n",
       "      <td>55.944</td>\n",
       "      <td>37.402</td>\n",
       "      <td>16.814229</td>\n",
       "      <td>0</td>\n",
       "      <td>2353</td>\n",
       "    </tr>\n",
       "    <tr>\n",
       "      <th>4</th>\n",
       "      <td>6110.150</td>\n",
       "      <td>0.851402</td>\n",
       "      <td>-0.317798</td>\n",
       "      <td>0.417277</td>\n",
       "      <td>-330.826</td>\n",
       "      <td>276.509</td>\n",
       "      <td>-343.280</td>\n",
       "      <td>201.986057</td>\n",
       "      <td>0</td>\n",
       "      <td>2129</td>\n",
       "    </tr>\n",
       "  </tbody>\n",
       "</table>\n",
       "</div>"
      ],
      "text/plain": [
       "           E      dirx      diry      dirz     posx     posy     posz  \\\n",
       "0    736.304 -0.827540  0.396100  0.397850 -272.307   -4.084 -158.369   \n",
       "1   2120.990  0.197537 -0.333124 -0.921959 -156.908   46.530  209.152   \n",
       "2  12032.700 -0.504102 -0.812768  0.292043  667.434  230.793  114.812   \n",
       "3  49339.000 -0.174727  0.916099  0.360880   -2.678   55.944   37.402   \n",
       "4   6110.150  0.851402 -0.317798  0.417277 -330.826  276.509 -343.280   \n",
       "\n",
       "         dist  file_evt_index  evt_index  \n",
       "0  270.957155               0       1608  \n",
       "1  115.123164               0        173  \n",
       "2  520.883049               0        463  \n",
       "3   16.814229               0       2353  \n",
       "4  201.986057               0       2129  "
      ]
     },
     "execution_count": 8,
     "metadata": {},
     "output_type": "execute_result"
    }
   ],
   "source": [
    "df_md.head()"
   ]
  },
  {
   "cell_type": "code",
   "execution_count": 13,
   "metadata": {},
   "outputs": [
    {
     "name": "stdout",
     "output_type": "stream",
     "text": [
      "file 1 : train_test_files/cosz/Xy_indx1_sel5_doms.npz\n",
      "file 2 : train_test_files/cosz/Xy_indx2_sel5_doms.npz\n",
      "There are some leftovers\n",
      "('Concat with leftovers: ', (60, 8))\n",
      "file 3 : train_test_files/cosz/Xy_indx3_sel5_doms.npz\n",
      "There are some leftovers\n",
      "('Concat with leftovers: ', (4, 8))\n"
     ]
    }
   ],
   "source": [
    "for i in range(17):\n",
    "    next(generator)"
   ]
  },
  {
   "cell_type": "code",
   "execution_count": 15,
   "metadata": {},
   "outputs": [],
   "source": [
    "test = np.load(xy_filelist[0][0])"
   ]
  },
  {
   "cell_type": "code",
   "execution_count": 18,
   "metadata": {},
   "outputs": [
    {
     "data": {
      "text/plain": [
       "['dist', 'dirz', 'diry', 'dirx', 'posz', 'posx', 'posy', 'y', 'x']"
      ]
     },
     "execution_count": 18,
     "metadata": {},
     "output_type": "execute_result"
    }
   ],
   "source": [
    "test.keys()"
   ]
  },
  {
   "cell_type": "code",
   "execution_count": 23,
   "metadata": {},
   "outputs": [
    {
     "data": {
      "text/plain": [
       "<module 'get_iterations' from 'get_iterations.py'>"
      ]
     },
     "execution_count": 23,
     "metadata": {},
     "output_type": "execute_result"
    }
   ],
   "source": [
    "import get_iterations\n",
    "reload(get_iterations)"
   ]
  },
  {
   "cell_type": "code",
   "execution_count": 24,
   "metadata": {
    "collapsed": true
   },
   "outputs": [],
   "source": [
    "from get_iterations import get_n_iterations"
   ]
  },
  {
   "cell_type": "code",
   "execution_count": 28,
   "metadata": {},
   "outputs": [
    {
     "data": {
      "text/plain": [
       "(810, 51818)"
      ]
     },
     "execution_count": 28,
     "metadata": {},
     "output_type": "execute_result"
    }
   ],
   "source": [
    "get_n_iterations(index_filelist, target_key=\"test\")"
   ]
  },
  {
   "cell_type": "code",
   "execution_count": null,
   "metadata": {
    "collapsed": true
   },
   "outputs": [],
   "source": []
  }
 ],
 "metadata": {
  "kernelspec": {
   "display_name": "Python 2",
   "language": "python",
   "name": "python2"
  },
  "language_info": {
   "codemirror_mode": {
    "name": "ipython",
    "version": 2
   },
   "file_extension": ".py",
   "mimetype": "text/x-python",
   "name": "python",
   "nbconvert_exporter": "python",
   "pygments_lexer": "ipython2",
   "version": "2.7.9"
  }
 },
 "nbformat": 4,
 "nbformat_minor": 2
}
