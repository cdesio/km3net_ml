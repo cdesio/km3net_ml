{
 "cells": [
  {
   "cell_type": "code",
   "execution_count": 15,
   "metadata": {
    "collapsed": true
   },
   "outputs": [],
   "source": [
    "import numpy as np\n",
    "import os\n",
    "from keras import backend as K\n",
    "import pandas as pd"
   ]
  },
  {
   "cell_type": "markdown",
   "metadata": {},
   "source": [
    "#### import reco files"
   ]
  },
  {
   "cell_type": "code",
   "execution_count": 2,
   "metadata": {
    "collapsed": true
   },
   "outputs": [],
   "source": [
    "directory_reco = \"/data/km3net/extracted_trees_reco_files\"\n",
    "reco_files_numu = [os.path.join(directory_reco, \"km3_v4_numuCC_{}.evt.JEnergy.rootreco_trees.npz\".format(i+1)) \n",
    "                   for i in range(100)]\n",
    "reco_files_nue = [os.path.join(directory_reco, \"km3_v4_nueCC_{}.evt.JEnergy.rootreco_trees.npz\".format(i+1))\n",
    "                  for i in range(100)]"
   ]
  },
  {
   "cell_type": "markdown",
   "metadata": {},
   "source": [
    "#### import doms_map files"
   ]
  },
  {
   "cell_type": "code",
   "execution_count": 3,
   "metadata": {
    "collapsed": true
   },
   "outputs": [],
   "source": [
    "doms_map_files_numu = [\"/data/km3net/Xy_multi_data_files/numu_{}_sel5_doms_map.npz\".format(i+1) for i in range(100)] \n",
    "doms_map_files_nue = [\"/data/km3net/Xy_multi_data_files/nue_{}_sel_5_doms_map.npz\".format(i+1) for i in range(100)]    "
   ]
  },
  {
   "cell_type": "code",
   "execution_count": 4,
   "metadata": {},
   "outputs": [
    {
     "name": "stdout",
     "output_type": "stream",
     "text": [
      "Cross-check completed!!\n"
     ]
    }
   ],
   "source": [
    "## Cross Check \n",
    "for i in range(100):\n",
    "    numu_file, numu_map = np.load(reco_files_numu[i])['dirz'], np.load(doms_map_files_numu[i])['id']\n",
    "    nue_file, nue_map = np.load(reco_files_nue[i])['dirz'], np.load(doms_map_files_nue[i])['id']\n",
    "    if numu_file.shape != numu_map.shape or nue_file.shape != nue_map.shape: \n",
    "        print('WRONG ', i+1)\n",
    "        print('NUMU: ', numu_file.shape, numu_map.shape)\n",
    "        print('NUE: ', nue_file.shape, nue_map.shape)\n",
    "print(\"Cross-check completed!!\")"
   ]
  },
  {
   "cell_type": "markdown",
   "metadata": {},
   "source": [
    "#### import indices files and indices of test events"
   ]
  },
  {
   "cell_type": "code",
   "execution_count": 5,
   "metadata": {
    "collapsed": true
   },
   "outputs": [],
   "source": [
    "index_files = [\"train_test_files/Xy_indx{}_sel5_doms.npz\".format(i+1) for i in range(100)]\n",
    "test_indices = [np.load(index_files[i])[\"test\"] for i in range(100)]"
   ]
  },
  {
   "cell_type": "code",
   "execution_count": 6,
   "metadata": {},
   "outputs": [
    {
     "name": "stdout",
     "output_type": "stream",
     "text": [
      "Cross-check completed!!\n"
     ]
    }
   ],
   "source": [
    "## Cross Check\n",
    "for i in range(100):\n",
    "    numu = np.load(doms_map_files_numu[i])['id']\n",
    "    numu = numu[numu==True]\n",
    "    nue = np.load(doms_map_files_nue[i])['id']\n",
    "    nue = nue[nue==True]\n",
    "    tot_evts = numu.shape[0] + nue.shape[0]\n",
    "    assert np.all(np.isin(test_indices[i], np.arange(tot_evts)) == True)\n",
    "print('Cross-check completed!!')"
   ]
  },
  {
   "cell_type": "markdown",
   "metadata": {},
   "source": [
    "#### function to select reco events with more than 5 doms"
   ]
  },
  {
   "cell_type": "code",
   "execution_count": 7,
   "metadata": {
    "collapsed": true
   },
   "outputs": [],
   "source": [
    "def sel_doms_arr(data_filepath, map_filepath, target_key):\n",
    "    \"\"\"Selects all events with more than 5 doms hits - according to the input doms_map\"\"\"\n",
    "    with np.load(data_filepath) as data_file, np.load(map_filepath) as map_file:\n",
    "        return data_file[target_key][map_file[\"id\"]]"
   ]
  },
  {
   "cell_type": "markdown",
   "metadata": {},
   "source": [
    "### import y_test and compare to reco cos_z"
   ]
  },
  {
   "cell_type": "code",
   "execution_count": 8,
   "metadata": {
    "collapsed": true
   },
   "outputs": [],
   "source": [
    "from generators import get_n_iterations, metadata_generator, data_generator"
   ]
  },
  {
   "cell_type": "code",
   "execution_count": 9,
   "metadata": {
    "collapsed": true
   },
   "outputs": [],
   "source": [
    "from tqdm import tqdm"
   ]
  },
  {
   "cell_type": "code",
   "execution_count": 10,
   "metadata": {
    "collapsed": true
   },
   "outputs": [],
   "source": [
    "n_files=100\n",
    "batch_size=64"
   ]
  },
  {
   "cell_type": "markdown",
   "metadata": {},
   "source": [
    "## CosZ"
   ]
  },
  {
   "cell_type": "code",
   "execution_count": 11,
   "metadata": {
    "collapsed": true
   },
   "outputs": [],
   "source": [
    "nu_stack_dirz = [np.hstack((sel_doms_arr(reco_files_numu[i], doms_map_files_numu[i], \"dirz\"),\n",
    "                            sel_doms_arr(reco_files_nue[i], doms_map_files_nue[i], \"dirz\"))) for i in range(100)]"
   ]
  },
  {
   "cell_type": "code",
   "execution_count": 12,
   "metadata": {
    "collapsed": true
   },
   "outputs": [],
   "source": [
    "## Double cross check\n",
    "for i in range(100):\n",
    "    assert np.all(test_indices[i] < nu_stack_dirz[i].shape[0])"
   ]
  },
  {
   "cell_type": "markdown",
   "metadata": {},
   "source": [
    "#### selecting cosz of reco files corresponding to y_test dir_z"
   ]
  },
  {
   "cell_type": "code",
   "execution_count": 297,
   "metadata": {
    "scrolled": true
   },
   "outputs": [
    {
     "name": "stdout",
     "output_type": "stream",
     "text": [
      "(51818,)\n"
     ]
    }
   ],
   "source": [
    "y_reco = np.hstack(nu_stack_dirz[i][test_indices[i]] for i in range(100))\n",
    "print(y_reco.shape)"
   ]
  },
  {
   "cell_type": "code",
   "execution_count": 14,
   "metadata": {
    "collapsed": true
   },
   "outputs": [],
   "source": [
    "train_test_dir = os.path.abspath(\"./cosz\")\n",
    "fnames_test =[os.path.join(train_test_dir, \"Xy_test{}_sel5_doms.npz\".format(i+1)) for i in range(100)]\n",
    "index_filelist = [os.path.join(train_test_dir, \"Xy_indx{}_sel5_doms.npz\".format(i+1)) for i in range(100)]\n",
    "\n",
    "dir_xy = os.path.join(\"/\", \"data\", \"km3net\", \"Xy_multi_data_files\")\n",
    "xy_filelist = [(os.path.join(dir_xy, \"Xy_numu_{}_multi_data.npz\".format(i+1)), \n",
    "                os.path.join(dir_xy, \"Xy_nue_{}_multi_data.npz\".format(i+1))) for i in range(100)]\n",
    "metadata_keylist = [\"E\", \"dirx\", \"diry\", \"dirz\", \"posx\",\"posy\",\"posz\", \"dist\"]"
   ]
  },
  {
   "cell_type": "code",
   "execution_count": 15,
   "metadata": {},
   "outputs": [
    {
     "name": "stdout",
     "output_type": "stream",
     "text": [
      "(810, 51818)\n"
     ]
    }
   ],
   "source": [
    "predict_steps, n_test_events = get_n_iterations(fnames_test[:n_files], batch_size=64)\n",
    "print(predict_steps, n_test_events)"
   ]
  },
  {
   "cell_type": "code",
   "execution_count": 16,
   "metadata": {},
   "outputs": [
    {
     "name": "stderr",
     "output_type": "stream",
     "text": [
      "100%|██████████| 810/810 [00:39<00:00, 20.45it/s]\n"
     ]
    }
   ],
   "source": [
    "y_true = list()\n",
    "metadata = None\n",
    "metadata_gen  = metadata_generator(index_filelist, xy_filelist, metadata_keylist)\n",
    "data_gen = data_generator(fnames_test[:n_files], batch_size=batch_size, \n",
    "                          ftarget=lambda y: y)\n",
    "\n",
    "for i in tqdm(range(predict_steps)):\n",
    "    _, y_batch_true = next(data_gen)\n",
    "    metadata_batch = next(metadata_gen)\n",
    "    if metadata is None:\n",
    "        metadata = metadata_batch\n",
    "    else:\n",
    "        metadata = pd.concat((metadata, metadata_batch))\n",
    "    y_true.append(y_batch_true)\n",
    "    \n",
    "y_true = np.hstack(np.asarray(y_true))"
   ]
  },
  {
   "cell_type": "code",
   "execution_count": 17,
   "metadata": {},
   "outputs": [
    {
     "data": {
      "text/plain": [
       "True"
      ]
     },
     "execution_count": 17,
     "metadata": {},
     "output_type": "execute_result"
    }
   ],
   "source": [
    "## Cross Check on true labels\n",
    "y_true_md = metadata[\"dirz\"]\n",
    "np.all(y_true==y_true_md)"
   ]
  },
  {
   "cell_type": "markdown",
   "metadata": {},
   "source": [
    "## Reconstruction Error for CosZ"
   ]
  },
  {
   "cell_type": "code",
   "execution_count": 18,
   "metadata": {
    "collapsed": true
   },
   "outputs": [],
   "source": [
    "from sklearn.metrics import mean_squared_error, r2_score"
   ]
  },
  {
   "cell_type": "code",
   "execution_count": 19,
   "metadata": {},
   "outputs": [
    {
     "data": {
      "text/plain": [
       "0.105795228522975"
      ]
     },
     "execution_count": 19,
     "metadata": {},
     "output_type": "execute_result"
    }
   ],
   "source": [
    "mean_squared_error(y_true, y_reco)"
   ]
  },
  {
   "cell_type": "code",
   "execution_count": 20,
   "metadata": {},
   "outputs": [
    {
     "data": {
      "text/plain": [
       "0.66967778192396121"
      ]
     },
     "execution_count": 20,
     "metadata": {},
     "output_type": "execute_result"
    }
   ],
   "source": [
    "r2_score(y_true, y_reco)"
   ]
  },
  {
   "cell_type": "code",
   "execution_count": 21,
   "metadata": {
    "collapsed": true
   },
   "outputs": [],
   "source": [
    "indx_pos = np.where(y_true>0)[0]\n",
    "indx_zero = np.where(y_true==0)[0]\n",
    "indx_neg = np.where(y_true<0)[0]"
   ]
  },
  {
   "cell_type": "code",
   "execution_count": 22,
   "metadata": {},
   "outputs": [
    {
     "data": {
      "text/plain": [
       "((28122,), (0,), (23696,))"
      ]
     },
     "execution_count": 22,
     "metadata": {},
     "output_type": "execute_result"
    }
   ],
   "source": [
    "indx_pos.shape, indx_zero.shape, indx_neg.shape"
   ]
  },
  {
   "cell_type": "code",
   "execution_count": 23,
   "metadata": {},
   "outputs": [
    {
     "data": {
      "text/plain": [
       "((29032,), (705,), (22081,))"
      ]
     },
     "execution_count": 23,
     "metadata": {},
     "output_type": "execute_result"
    }
   ],
   "source": [
    "indx_reco_pos = np.where(y_reco>0)[0]\n",
    "indx_reco_zero = np.where(y_reco==0)[0]\n",
    "indx_reco_neg = np.where(y_reco<0)[0]\n",
    "\n",
    "indx_reco_pos.shape, indx_reco_zero.shape, indx_reco_neg.shape"
   ]
  },
  {
   "cell_type": "code",
   "execution_count": 24,
   "metadata": {
    "collapsed": true
   },
   "outputs": [],
   "source": [
    "mse_up = mean_squared_error(y_true[indx_pos], y_reco[indx_pos])\n",
    "mse_dwn = mean_squared_error(y_true[indx_neg], y_reco[indx_neg])"
   ]
  },
  {
   "cell_type": "code",
   "execution_count": 25,
   "metadata": {},
   "outputs": [
    {
     "data": {
      "text/plain": [
       "(0.087028283101569084, 0.12806751241649192)"
      ]
     },
     "execution_count": 25,
     "metadata": {},
     "output_type": "execute_result"
    }
   ],
   "source": [
    "mse_up, mse_dwn"
   ]
  },
  {
   "cell_type": "code",
   "execution_count": 234,
   "metadata": {},
   "outputs": [
    {
     "data": {
      "text/plain": [
       "<matplotlib.text.Text at 0x7feb43f7ebd0>"
      ]
     },
     "execution_count": 234,
     "metadata": {},
     "output_type": "execute_result"
    },
    {
     "data": {
      "image/png": "[encoded data removed]",
      "text/plain": [
       "<matplotlib.figure.Figure at 0x7feb44279090>"
      ]
     },
     "metadata": {},
     "output_type": "display_data"
    }
   ],
   "source": [
    "import matplotlib.pyplot as plt\n",
    "%matplotlib inline\n",
    "plt.hist(np.degrees(np.arccos(y_reco))-np.degrees(np.arccos(y_true)), label=\"reco_evts\", \n",
    "         bins=30, histtype=\"step\", color=\"red\",lw=2)\n",
    "#plt.hist(np.degrees(np.arccos(y_true)), alpha=0.5, label=\"mc_evts\")\n",
    "plt.grid()\n",
    "plt.xlabel(\"Theta reconstructed - Theta mc(deg)\")\n",
    "plt.ylabel(\"events\")\n",
    "#plt.legend(loc=\"upper right\")"
   ]
  },
  {
   "cell_type": "markdown",
   "metadata": {},
   "source": [
    "### check prediction using labels on cosz (cosz>0 : 1 , cosz<=0: 0) "
   ]
  },
  {
   "cell_type": "code",
   "execution_count": 26,
   "metadata": {
    "collapsed": true
   },
   "outputs": [],
   "source": [
    "def process_cosz(y):\n",
    "    y_p = np.copy(y)\n",
    "    y_p[y_p>0] = 1\n",
    "    y_p[y_p<=0] = 0\n",
    "    return y_p "
   ]
  },
  {
   "cell_type": "code",
   "execution_count": 27,
   "metadata": {},
   "outputs": [
    {
     "name": "stderr",
     "output_type": "stream",
     "text": [
      "100%|██████████| 810/810 [00:39<00:00, 20.32it/s]\n"
     ]
    }
   ],
   "source": [
    "y_true_label = list()\n",
    "metadata_label = None\n",
    "metadata_gen  = metadata_generator(index_filelist, xy_filelist, metadata_keylist)\n",
    "data_gen = data_generator(fnames_test[:n_files], batch_size=batch_size, \n",
    "                          ftarget = process_cosz) #ftarget=lambda y: y)\n",
    "\n",
    "for i in tqdm(range(predict_steps)):\n",
    "    _, y_batch_true = next(data_gen)\n",
    "    metadata_batch = next(metadata_gen)\n",
    "    if metadata_label is None:\n",
    "        metadata_label = metadata_batch\n",
    "    else:\n",
    "        metadata_label = pd.concat((metadata_label, metadata_batch))\n",
    "    y_true_label.append(y_batch_true)\n",
    "    \n",
    "y_true_label = np.hstack(np.asarray(y_true_label))"
   ]
  },
  {
   "cell_type": "code",
   "execution_count": 28,
   "metadata": {
    "collapsed": true
   },
   "outputs": [],
   "source": [
    "# Apply transformation to predicted cosz by reconstruction algo\n",
    "y_reco_label = process_cosz(y_reco)"
   ]
  },
  {
   "cell_type": "code",
   "execution_count": 29,
   "metadata": {},
   "outputs": [
    {
     "data": {
      "text/plain": [
       "array([ 1.,  0.,  1., ...,  1.,  0.,  1.])"
      ]
     },
     "execution_count": 29,
     "metadata": {},
     "output_type": "execute_result"
    }
   ],
   "source": [
    "y_true_label"
   ]
  },
  {
   "cell_type": "code",
   "execution_count": 30,
   "metadata": {},
   "outputs": [
    {
     "data": {
      "text/plain": [
       "array([ 1.,  0.,  1., ...,  1.,  0.,  1.])"
      ]
     },
     "execution_count": 30,
     "metadata": {},
     "output_type": "execute_result"
    }
   ],
   "source": [
    "y_reco_label"
   ]
  },
  {
   "cell_type": "code",
   "execution_count": 31,
   "metadata": {},
   "outputs": [
    {
     "data": {
      "text/plain": [
       "array([ 0.37781371, -0.92092376,  0.29512669, ...,  0.52920841,\n",
       "       -0.20345487,  0.75998886])"
      ]
     },
     "execution_count": 31,
     "metadata": {},
     "output_type": "execute_result"
    }
   ],
   "source": [
    "y_reco"
   ]
  },
  {
   "cell_type": "code",
   "execution_count": 32,
   "metadata": {
    "collapsed": true
   },
   "outputs": [],
   "source": [
    "from sklearn.metrics import accuracy_score"
   ]
  },
  {
   "cell_type": "code",
   "execution_count": 33,
   "metadata": {},
   "outputs": [
    {
     "data": {
      "text/plain": [
       "0.89698560345825773"
      ]
     },
     "execution_count": 33,
     "metadata": {},
     "output_type": "execute_result"
    }
   ],
   "source": [
    "accuracy_score(y_true_label, y_reco_label)"
   ]
  },
  {
   "cell_type": "code",
   "execution_count": 34,
   "metadata": {
    "collapsed": true
   },
   "outputs": [],
   "source": [
    "from sklearn.metrics import confusion_matrix"
   ]
  },
  {
   "cell_type": "code",
   "execution_count": 35,
   "metadata": {},
   "outputs": [
    {
     "data": {
      "text/plain": [
       "array([[20572,  3124],\n",
       "       [ 2214, 25908]])"
      ]
     },
     "execution_count": 35,
     "metadata": {},
     "output_type": "execute_result"
    }
   ],
   "source": [
    "confusion_matrix(y_true_label, y_reco_label)"
   ]
  },
  {
   "cell_type": "markdown",
   "metadata": {},
   "source": [
    "#### calculate mse as a function of Energy"
   ]
  },
  {
   "cell_type": "code",
   "execution_count": 36,
   "metadata": {
    "collapsed": true
   },
   "outputs": [],
   "source": [
    "y_true_md_E = metadata[\"E\"]"
   ]
  },
  {
   "cell_type": "code",
   "execution_count": 37,
   "metadata": {},
   "outputs": [
    {
     "name": "stdout",
     "output_type": "stream",
     "text": [
      "(51818,)\n"
     ]
    }
   ],
   "source": [
    "nu_stack_E = [np.hstack((sel_doms_arr(reco_files_numu[i], doms_map_files_numu[i], \"E\"),\n",
    "                            sel_doms_arr(reco_files_nue[i], doms_map_files_nue[i], \"E\"))) for i in range(100)]\n",
    "for i in range(100):\n",
    "    assert np.all(test_indices[i] < nu_stack_E[i].shape[0])\n",
    "\n",
    "y_reco_E = np.hstack(nu_stack_E[i][test_indices[i]] for i in range(100))\n",
    "print(y_reco_E.shape)"
   ]
  },
  {
   "cell_type": "code",
   "execution_count": 38,
   "metadata": {},
   "outputs": [
    {
     "data": {
      "text/plain": [
       "array([  3885.96330439,   1584.14626589,   9711.8879869 , ...,\n",
       "        50497.28018932,    133.13961295,  12900.60646196])"
      ]
     },
     "execution_count": 38,
     "metadata": {},
     "output_type": "execute_result"
    }
   ],
   "source": [
    "y_reco_E"
   ]
  },
  {
   "cell_type": "code",
   "execution_count": 39,
   "metadata": {},
   "outputs": [
    {
     "data": {
      "text/plain": [
       "array([   736.304,   2120.99 ,  12032.7  , ...,  32068.7  ,    417.957,\n",
       "        18014.5  ])"
      ]
     },
     "execution_count": 39,
     "metadata": {},
     "output_type": "execute_result"
    }
   ],
   "source": [
    "np.asarray(y_true_md_E)"
   ]
  },
  {
   "cell_type": "code",
   "execution_count": 40,
   "metadata": {},
   "outputs": [
    {
     "data": {
      "text/plain": [
       "9.7385828650566746e+19"
      ]
     },
     "execution_count": 40,
     "metadata": {},
     "output_type": "execute_result"
    }
   ],
   "source": [
    "mean_squared_error(y_true_md_E, y_reco_E)"
   ]
  },
  {
   "cell_type": "markdown",
   "metadata": {},
   "source": [
    "### WTF????"
   ]
  },
  {
   "cell_type": "code",
   "execution_count": 41,
   "metadata": {
    "collapsed": true
   },
   "outputs": [],
   "source": [
    "%matplotlib inline"
   ]
  },
  {
   "cell_type": "code",
   "execution_count": 42,
   "metadata": {},
   "outputs": [
    {
     "data": {
      "text/plain": [
       "count    5.181800e+04\n",
       "mean     7.457190e+05\n",
       "std      4.701909e+06\n",
       "min      5.411270e-02\n",
       "25%      1.416680e+03\n",
       "50%      6.431605e+03\n",
       "75%      5.173847e+04\n",
       "max      9.298330e+07\n",
       "Name: E, dtype: float64"
      ]
     },
     "execution_count": 42,
     "metadata": {},
     "output_type": "execute_result"
    }
   ],
   "source": [
    "metadata[\"E\"].describe()"
   ]
  },
  {
   "cell_type": "code",
   "execution_count": 69,
   "metadata": {
    "collapsed": true
   },
   "outputs": [],
   "source": [
    "min_E = np.min(y_true_E)\n",
    "max_E = np.max(y_true_E)"
   ]
  },
  {
   "cell_type": "code",
   "execution_count": 68,
   "metadata": {},
   "outputs": [
    {
     "name": "stdout",
     "output_type": "stream",
     "text": [
      "min mc E: 5.411270e-02, max mc E: 9.298330e+07\n"
     ]
    }
   ],
   "source": [
    "print(\"min mc E: {:e}, max mc E: {:e}\".format(np.min(y_true_E), np.max(y_true_E)))"
   ]
  },
  {
   "cell_type": "code",
   "execution_count": 51,
   "metadata": {
    "collapsed": true
   },
   "outputs": [],
   "source": [
    "y_true_E = np.asarray(y_true_md_E)"
   ]
  },
  {
   "cell_type": "code",
   "execution_count": 58,
   "metadata": {},
   "outputs": [
    {
     "data": {
      "text/plain": [
       "(29335,)"
      ]
     },
     "execution_count": 58,
     "metadata": {},
     "output_type": "execute_result"
    }
   ],
   "source": [
    "y_true_E[y_true_E<1e4].shape"
   ]
  },
  {
   "cell_type": "code",
   "execution_count": 59,
   "metadata": {},
   "outputs": [
    {
     "data": {
      "text/plain": [
       "(22483,)"
      ]
     },
     "execution_count": 59,
     "metadata": {},
     "output_type": "execute_result"
    }
   ],
   "source": [
    "y_true_E[y_true_E>1e4].shape"
   ]
  },
  {
   "cell_type": "code",
   "execution_count": 60,
   "metadata": {
    "collapsed": true
   },
   "outputs": [],
   "source": [
    "low_E_indx = np.where(y_true_E<1e4)[0]\n",
    "high_E_indx = np.where(y_true_E>1e4)[0]"
   ]
  },
  {
   "cell_type": "code",
   "execution_count": 61,
   "metadata": {},
   "outputs": [
    {
     "data": {
      "text/plain": [
       "array([    0,     1,     4, ..., 51813, 51814, 51816])"
      ]
     },
     "execution_count": 61,
     "metadata": {},
     "output_type": "execute_result"
    }
   ],
   "source": [
    "low_E_indx"
   ]
  },
  {
   "cell_type": "code",
   "execution_count": 62,
   "metadata": {},
   "outputs": [
    {
     "data": {
      "text/plain": [
       "array([    2,     3,     5, ..., 51812, 51815, 51817])"
      ]
     },
     "execution_count": 62,
     "metadata": {},
     "output_type": "execute_result"
    }
   ],
   "source": [
    "high_E_indx"
   ]
  },
  {
   "cell_type": "code",
   "execution_count": 63,
   "metadata": {},
   "outputs": [
    {
     "data": {
      "text/plain": [
       "array([  736.304,  2120.99 ,  6110.15 , ...,   362.679,  2954.27 ,\n",
       "         417.957])"
      ]
     },
     "execution_count": 63,
     "metadata": {},
     "output_type": "execute_result"
    }
   ],
   "source": [
    "y_true_E[low_E_indx]"
   ]
  },
  {
   "cell_type": "code",
   "execution_count": null,
   "metadata": {
    "collapsed": true
   },
   "outputs": [],
   "source": [
    "print(\"min reco E: {:3}, max reco E: {:e}\".format(np.min(y_reco_E),np.max(y_reco_E)))"
   ]
  },
  {
   "cell_type": "code",
   "execution_count": null,
   "metadata": {
    "collapsed": true
   },
   "outputs": [],
   "source": [
    "import matplotlib.pyplot as plt"
   ]
  },
  {
   "cell_type": "code",
   "execution_count": null,
   "metadata": {
    "collapsed": true
   },
   "outputs": [],
   "source": [
    "y_reco_E[y_reco_E<1e4].shape"
   ]
  },
  {
   "cell_type": "code",
   "execution_count": null,
   "metadata": {
    "collapsed": true
   },
   "outputs": [],
   "source": [
    "y_reco_E[y_reco_E>1e4].shape"
   ]
  },
  {
   "cell_type": "code",
   "execution_count": 66,
   "metadata": {
    "collapsed": true
   },
   "outputs": [],
   "source": [
    "mse_lowE = mean_squared_error(y_true[low_E_indx], y_reco[low_E_indx])\n",
    "mse_highE = mean_squared_error(y_true[high_E_indx], y_reco[high_E_indx])"
   ]
  },
  {
   "cell_type": "code",
   "execution_count": 67,
   "metadata": {},
   "outputs": [
    {
     "name": "stdout",
     "output_type": "stream",
     "text": [
      "(0.069854939165106752, 0.15268880982053606)\n"
     ]
    }
   ],
   "source": [
    "print(mse_lowE,mse_highE )"
   ]
  },
  {
   "cell_type": "markdown",
   "metadata": {},
   "source": [
    "### energy binning"
   ]
  },
  {
   "cell_type": "code",
   "execution_count": 106,
   "metadata": {
    "collapsed": true
   },
   "outputs": [],
   "source": [
    "def energy_maps(energies, nbins = 2):\n",
    "    \n",
    "    log_energies = np.log10(energies)\n",
    "    \n",
    "    E_maps = []\n",
    "    binned, energy_bins = np.histogram(log_energies,bins=nbins)#, \n",
    "                                  #range=(log_energies.min(), log_energies.max()))\n",
    "\n",
    "    for i, E in enumerate(zip(energy_bins[:-1], energy_bins[1:])):\n",
    "        lowE, highE = E\n",
    "        E_maps.append((i, np.where(np.logical_and(log_energies>=lowE, log_energies<highE))[0]))\n",
    "    return E_maps"
   ]
  },
  {
   "cell_type": "code",
   "execution_count": 107,
   "metadata": {
    "collapsed": true
   },
   "outputs": [],
   "source": [
    "E_maps = energy_maps(y_true_E)"
   ]
  },
  {
   "cell_type": "code",
   "execution_count": 255,
   "metadata": {
    "collapsed": true
   },
   "outputs": [],
   "source": [
    "log_E = np.log10(y_true_md_E.as_matrix())"
   ]
  },
  {
   "cell_type": "code",
   "execution_count": 257,
   "metadata": {
    "collapsed": true
   },
   "outputs": [],
   "source": [
    "min_E = np.min(log_E)\n",
    "max_E = np.max(log_E)\n",
    "bin_edges = np.array([min_E, 1.0, 2.8, 3.5, 4.0, 7.0, max_E])"
   ]
  },
  {
   "cell_type": "code",
   "execution_count": 258,
   "metadata": {
    "collapsed": true
   },
   "outputs": [],
   "source": [
    "dg_maps = np.digitize(log_E, bin_edges)"
   ]
  },
  {
   "cell_type": "code",
   "execution_count": 259,
   "metadata": {},
   "outputs": [
    {
     "data": {
      "text/plain": [
       "array([1, 2, 3, 4, 5, 6, 7])"
      ]
     },
     "execution_count": 259,
     "metadata": {},
     "output_type": "execute_result"
    }
   ],
   "source": [
    "np.unique(dg_maps)"
   ]
  },
  {
   "cell_type": "code",
   "execution_count": 260,
   "metadata": {},
   "outputs": [
    {
     "data": {
      "text/plain": [
       "array([ 7.96840496])"
      ]
     },
     "execution_count": 260,
     "metadata": {},
     "output_type": "execute_result"
    }
   ],
   "source": [
    "log_E[np.where(dg_maps==7)[0]]"
   ]
  },
  {
   "cell_type": "code",
   "execution_count": 108,
   "metadata": {},
   "outputs": [
    {
     "name": "stdout",
     "output_type": "stream",
     "text": [
      "mse: 0.0703385625816, n_evts: (17041,)\n",
      "mse: 0.123172811897, n_evts: (34776,)\n"
     ]
    }
   ],
   "source": [
    "for i in range(len(E_maps)):\n",
    "    print(\"mse: {}, n_evts: {}\".format(mean_squared_error(y_true[E_maps[i][1]], y_reco[E_maps[i][1]]), \n",
    "                                       E_maps[i][1].shape))"
   ]
  },
  {
   "cell_type": "markdown",
   "metadata": {},
   "source": [
    "### apply energy correction"
   ]
  },
  {
   "cell_type": "code",
   "execution_count": 150,
   "metadata": {},
   "outputs": [
    {
     "data": {
      "text/plain": [
       "array([  3885.96330439,   1584.14626589,   9711.8879869 , ...,\n",
       "        50497.28018932,    133.13961295,  12900.60646196])"
      ]
     },
     "execution_count": 150,
     "metadata": {},
     "output_type": "execute_result"
    }
   ],
   "source": [
    "y_reco_E"
   ]
  },
  {
   "cell_type": "code",
   "execution_count": 145,
   "metadata": {
    "collapsed": true
   },
   "outputs": [],
   "source": [
    "def correct_energy(x):\n",
    "     return ((((((x<=1.0)*x)+(((x>1.0)and(x<=2.8))*(-(7.20045)+(x*3.01))))+(((x>2.8)and(x<=3.5))*(1081.22+(x*(-(1336.46)+(x*(614.871+(x*(-(124.755)+(x*9.43893))))))))))+(((x>3.5)and(x<=4.0))*(-(60.3619)+(x*(45.7012+(x*(-(11.0884)+(x*0.923034))))))))+(((x>4.0)and(x<7.0))*(-(8.72485)+(x*(5.16495+(x*(-(0.174627)+(x*(-(0.198979)+(x*(0.0385912+(x*-(0.00213019)))))))))))))+((x>7.0)*(0.375618+(x*1.01931)))"
   ]
  },
  {
   "cell_type": "code",
   "execution_count": 187,
   "metadata": {
    "collapsed": true
   },
   "outputs": [],
   "source": [
    "v_correct_energy = np.vectorize(correct_energy)"
   ]
  },
  {
   "cell_type": "code",
   "execution_count": 189,
   "metadata": {},
   "outputs": [
    {
     "data": {
      "text/plain": [
       "array([ 3.50330452,  2.59804605,  4.08617161, ...,  4.98390898,\n",
       "       -0.80628506,  4.25319267])"
      ]
     },
     "execution_count": 189,
     "metadata": {},
     "output_type": "execute_result"
    }
   ],
   "source": [
    "v_correct_energy(np.log10(y_reco_E[nonz]))"
   ]
  },
  {
   "cell_type": "code",
   "execution_count": 186,
   "metadata": {},
   "outputs": [
    {
     "data": {
      "text/plain": [
       "3885.9633043897002"
      ]
     },
     "execution_count": 186,
     "metadata": {},
     "output_type": "execute_result"
    }
   ],
   "source": [
    "y_reco_E[0]"
   ]
  },
  {
   "cell_type": "code",
   "execution_count": 147,
   "metadata": {},
   "outputs": [
    {
     "data": {
      "text/plain": [
       "3.5033045183205473"
      ]
     },
     "execution_count": 147,
     "metadata": {},
     "output_type": "execute_result"
    }
   ],
   "source": [
    "correct_energy(np.log10(y_reco_E[0]))"
   ]
  },
  {
   "cell_type": "code",
   "execution_count": 148,
   "metadata": {},
   "outputs": [
    {
     "data": {
      "text/plain": [
       "2.867057159804705"
      ]
     },
     "execution_count": 148,
     "metadata": {},
     "output_type": "execute_result"
    }
   ],
   "source": [
    "np.log10(metadata['E'].as_matrix()[0])"
   ]
  },
  {
   "cell_type": "code",
   "execution_count": 191,
   "metadata": {},
   "outputs": [
    {
     "data": {
      "text/plain": [
       "1.3257663051118915"
      ]
     },
     "execution_count": 191,
     "metadata": {},
     "output_type": "execute_result"
    }
   ],
   "source": [
    "mean_squared_error(np.log10(metadata[\"E\"].as_matrix()[nonz]), np.log10(y_reco_E[nonz]))"
   ]
  },
  {
   "cell_type": "code",
   "execution_count": 270,
   "metadata": {
    "collapsed": true
   },
   "outputs": [],
   "source": [
    "true_e =np.log10(metadata[\"E\"].as_matrix()[nonz])"
   ]
  },
  {
   "cell_type": "code",
   "execution_count": 176,
   "metadata": {
    "collapsed": true
   },
   "outputs": [],
   "source": [
    "nonz = np.nonzero(y_reco_E)[0]"
   ]
  },
  {
   "cell_type": "code",
   "execution_count": 271,
   "metadata": {
    "collapsed": true
   },
   "outputs": [],
   "source": [
    "reco_corrected_e = v_correct_energy(np.log10(y_reco_E[nonz]))"
   ]
  },
  {
   "cell_type": "code",
   "execution_count": 272,
   "metadata": {},
   "outputs": [
    {
     "data": {
      "text/plain": [
       "array([ 2.86705716,  3.32653862,  4.08036309,  4.69319034,  3.78605187,\n",
       "        4.01650686,  2.28024137,  3.28830513,  3.32635225,  3.77277044])"
      ]
     },
     "execution_count": 272,
     "metadata": {},
     "output_type": "execute_result"
    }
   ],
   "source": [
    "true_e[:10]"
   ]
  },
  {
   "cell_type": "code",
   "execution_count": 273,
   "metadata": {},
   "outputs": [
    {
     "data": {
      "text/plain": [
       "array([ 3.50330452,  2.59804605,  4.08617161,  4.94347958,  2.81572848,\n",
       "        0.76144695,  4.20064701,  1.74238386,  2.6536576 ,  3.83245249])"
      ]
     },
     "execution_count": 273,
     "metadata": {},
     "output_type": "execute_result"
    }
   ],
   "source": [
    "reco_corrected_e[:10]"
   ]
  },
  {
   "cell_type": "code",
   "execution_count": 296,
   "metadata": {},
   "outputs": [
    {
     "data": {
      "text/plain": [
       "<matplotlib.legend.Legend at 0x7feb42ce9310>"
      ]
     },
     "execution_count": 296,
     "metadata": {},
     "output_type": "execute_result"
    },
    {
     "data": {
      "image/png": "[encoded data removed]",
      "text/plain": [
       "<matplotlib.figure.Figure at 0x7feb43810350>"
      ]
     },
     "metadata": {},
     "output_type": "display_data"
    }
   ],
   "source": [
    "plt.hist(reco_corrected_e, label=\"reco_corrected\", histtype=\"step\", lw=2)\n",
    "plt.hist(true_e, label = \"mc\", histtype=\"step\", lw=2)\n",
    "plt.xlabel(\"log10(E) (GeV)\")\n",
    "plt.legend(loc=\"upper right\")\n",
    "#plt.hist(y_reco_E[nonz], alpha=0.5)"
   ]
  },
  {
   "cell_type": "markdown",
   "metadata": {},
   "source": [
    "# Reconstruction Performances"
   ]
  },
  {
   "cell_type": "markdown",
   "metadata": {},
   "source": [
    "## CosZ Estimation"
   ]
  },
  {
   "cell_type": "code",
   "execution_count": 1,
   "metadata": {
    "collapsed": true
   },
   "outputs": [],
   "source": [
    "# PATH UNISA: \"aafiles/Jpp_v6_aa_files/Xy_multi_data_files/extracted_trees_reco_files/\"\n",
    "directory_reco = '/data/km3net/extracted_trees_reco_files/'"
   ]
  },
  {
   "cell_type": "code",
   "execution_count": 2,
   "metadata": {
    "collapsed": true
   },
   "outputs": [],
   "source": [
    "from data_files import get_multi_data_files, get_reco_files, get_train_validation_test_files, get_doms_maps"
   ]
  },
  {
   "cell_type": "code",
   "execution_count": 3,
   "metadata": {
    "collapsed": true
   },
   "outputs": [],
   "source": [
    "# PATH UNISA: \"aafiles/Jpp_v6_aa_files/Xy_multi_data_files/\"\n",
    "doms_map_dir = '/data/km3net/Xy_multi_data_files/'\n",
    "doms_map_files = get_doms_maps(doms_map_dir)"
   ]
  },
  {
   "cell_type": "code",
   "execution_count": 4,
   "metadata": {
    "collapsed": true
   },
   "outputs": [],
   "source": [
    "# PATH UNISA: \"train_test_files/cosz\"\n",
    "train_test_dir = './cosz/'\n",
    "_, _, test_filelist, index_filelist = get_train_validation_test_files(train_test_dir)"
   ]
  },
  {
   "cell_type": "code",
   "execution_count": 5,
   "metadata": {
    "collapsed": true
   },
   "outputs": [],
   "source": [
    "reco_files_numu = get_reco_files(directory_reco)"
   ]
  },
  {
   "cell_type": "code",
   "execution_count": 6,
   "metadata": {
    "collapsed": true
   },
   "outputs": [],
   "source": [
    "# PATH UNISA: \"aafiles/Jpp_v6_aa_files/Xy_multi_data_files/\"\n",
    "multi_data_dir = '/data/km3net/Xy_multi_data_files/'\n",
    "multi_data = get_multi_data_files(multi_data_dir)"
   ]
  },
  {
   "cell_type": "code",
   "execution_count": 7,
   "metadata": {
    "collapsed": true
   },
   "outputs": [],
   "source": [
    "n_files=100\n",
    "batch_size=64"
   ]
  },
  {
   "cell_type": "code",
   "execution_count": 8,
   "metadata": {},
   "outputs": [
    {
     "name": "stderr",
     "output_type": "stream",
     "text": [
      "Using TensorFlow backend.\n"
     ]
    }
   ],
   "source": [
    "from data_loaders import metadata_generator, data_generator"
   ]
  },
  {
   "cell_type": "code",
   "execution_count": 9,
   "metadata": {
    "collapsed": true
   },
   "outputs": [],
   "source": [
    "from tqdm import tqdm"
   ]
  },
  {
   "cell_type": "code",
   "execution_count": 10,
   "metadata": {
    "collapsed": true
   },
   "outputs": [],
   "source": [
    "metadata_keylist = [\"E\", \"dirx\", \"diry\", \"dirz\", \"posx\",\"posy\",\"posz\", \"dist\"]"
   ]
  },
  {
   "cell_type": "code",
   "execution_count": 11,
   "metadata": {
    "collapsed": true
   },
   "outputs": [],
   "source": [
    "xy_filelist = multi_data\n",
    "fnames_test = test_filelist"
   ]
  },
  {
   "cell_type": "code",
   "execution_count": 12,
   "metadata": {
    "collapsed": true
   },
   "outputs": [],
   "source": [
    "from data_loaders import get_n_iterations"
   ]
  },
  {
   "cell_type": "code",
   "execution_count": 13,
   "metadata": {},
   "outputs": [
    {
     "name": "stdout",
     "output_type": "stream",
     "text": [
      "(810, 51818)\n"
     ]
    }
   ],
   "source": [
    "predict_steps, n_test_events = get_n_iterations(fnames_test[:n_files], batch_size=64)\n",
    "print(predict_steps, n_test_events)"
   ]
  },
  {
   "cell_type": "markdown",
   "metadata": {},
   "source": [
    "### get test files metadata"
   ]
  },
  {
   "cell_type": "code",
   "execution_count": 16,
   "metadata": {},
   "outputs": [
    {
     "name": "stderr",
     "output_type": "stream",
     "text": [
      "100%|██████████| 810/810 [01:03<00:00, 12.82it/s]\n"
     ]
    }
   ],
   "source": [
    "y_true = list()\n",
    "metadata = None\n",
    "metadata_gen  = metadata_generator(index_filelist, xy_filelist, metadata_keylist)\n",
    "data_gen = data_generator(fnames_test[:n_files], batch_size=batch_size, \n",
    "                          ftarget=lambda y: y)\n",
    "\n",
    "for i in tqdm(range(predict_steps)):\n",
    "    _, y_batch_true = next(data_gen)\n",
    "    metadata_batch = next(metadata_gen)\n",
    "    if metadata is None:\n",
    "        metadata = metadata_batch\n",
    "    else:\n",
    "        metadata = pd.concat((metadata, metadata_batch))\n",
    "    y_true.append(y_batch_true)\n",
    "    \n",
    "y_true = np.hstack(np.asarray(y_true))"
   ]
  },
  {
   "cell_type": "code",
   "execution_count": 17,
   "metadata": {
    "collapsed": true
   },
   "outputs": [],
   "source": [
    "multi_data_numu, _ = get_multi_data_files(\"aafiles/Jpp_v6_aa_files/Xy_multi_data_files/\", merge=False)"
   ]
  },
  {
   "cell_type": "code",
   "execution_count": 18,
   "metadata": {},
   "outputs": [
    {
     "data": {
      "text/plain": [
       "Index([u'E', u'dirx', u'diry', u'dirz', u'posx', u'posy', u'posz', u'dist',\n",
       "       u'file_evt_index', u'evt_index'],\n",
       "      dtype='object')"
      ]
     },
     "execution_count": 18,
     "metadata": {},
     "output_type": "execute_result"
    }
   ],
   "source": [
    "metadata.columns"
   ]
  },
  {
   "cell_type": "markdown",
   "metadata": {},
   "source": [
    "### load dir_z from test files selecting only numu events"
   ]
  },
  {
   "cell_type": "code",
   "execution_count": 19,
   "metadata": {
    "collapsed": true
   },
   "outputs": [],
   "source": [
    "y_true_dirz_numu = []\n",
    "test_indices_numu=[]\n",
    "\n",
    "for i in range(100):\n",
    "    length = len(np.load(multi_data_numu[i])[\"y\"])\n",
    "    test_indx = np.load(index_filelist[i])[\"test\"]\n",
    "\n",
    "    y_true_dirz_numu.append(np.asarray(metadata[(metadata[\"file_evt_index\"]==i) &(metadata[\"evt_index\"]<length)][\"dirz\"]))\n",
    "\n",
    "    test_indices_numu.append(test_indx[test_indx<length])"
   ]
  },
  {
   "cell_type": "code",
   "execution_count": 20,
   "metadata": {
    "collapsed": true
   },
   "outputs": [],
   "source": [
    "y_true_dirz_numu = np.hstack(y_true_dirz_numu)"
   ]
  },
  {
   "cell_type": "code",
   "execution_count": 21,
   "metadata": {},
   "outputs": [
    {
     "data": {
      "text/plain": [
       "(30469,)"
      ]
     },
     "execution_count": 21,
     "metadata": {},
     "output_type": "execute_result"
    }
   ],
   "source": [
    "y_true_dirz_numu.shape"
   ]
  },
  {
   "cell_type": "markdown",
   "metadata": {},
   "source": [
    "### import reco dir_z"
   ]
  },
  {
   "cell_type": "code",
   "execution_count": 22,
   "metadata": {
    "collapsed": true
   },
   "outputs": [],
   "source": [
    "def sel_doms_arr(data_filepath, map_filepath, target_key):\n",
    "    \"\"\"Selects all events with more than 5 doms hits - according to the input doms_map\"\"\"\n",
    "    with np.load(data_filepath) as data_file, np.load(map_filepath) as map_file:\n",
    "        return data_file[target_key][map_file[\"id\"]]"
   ]
  },
  {
   "cell_type": "code",
   "execution_count": 23,
   "metadata": {
    "collapsed": true
   },
   "outputs": [],
   "source": [
    "reco_nu_stack_dirz = [np.hstack(sel_doms_arr(reco_files_numu[0][i], doms_map_files[0][i], \"dirz\")) for i in range(100)]\n"
   ]
  },
  {
   "cell_type": "code",
   "execution_count": 24,
   "metadata": {},
   "outputs": [
    {
     "name": "stdout",
     "output_type": "stream",
     "text": [
      "(30469,)\n"
     ]
    }
   ],
   "source": [
    "y_reco_dirz = np.hstack(reco_nu_stack_dirz[i][test_indices_numu[i]] for i in range(100))\n",
    "print(y_reco_dirz.shape)"
   ]
  },
  {
   "cell_type": "code",
   "execution_count": 26,
   "metadata": {
    "collapsed": true
   },
   "outputs": [],
   "source": [
    "from sklearn.metrics import mean_squared_error, r2_score"
   ]
  },
  {
   "cell_type": "code",
   "execution_count": 27,
   "metadata": {},
   "outputs": [
    {
     "data": {
      "text/plain": [
       "0.034132191771554889"
      ]
     },
     "execution_count": 27,
     "metadata": {},
     "output_type": "execute_result"
    }
   ],
   "source": [
    "mean_squared_error(y_true_dirz_numu, y_reco_dirz)"
   ]
  },
  {
   "cell_type": "code",
   "execution_count": 28,
   "metadata": {},
   "outputs": [
    {
     "data": {
      "text/plain": [
       "0.88793227612926673"
      ]
     },
     "execution_count": 28,
     "metadata": {},
     "output_type": "execute_result"
    }
   ],
   "source": [
    "r2_score(y_true_dirz_numu, y_reco_dirz)"
   ]
  },
  {
   "cell_type": "markdown",
   "metadata": {},
   "source": [
    "##  Energy Estimation"
   ]
  },
  {
   "cell_type": "code",
   "execution_count": 38,
   "metadata": {},
   "outputs": [
    {
     "data": {
      "text/plain": [
       "(51818, 10)"
      ]
     },
     "execution_count": 38,
     "metadata": {},
     "output_type": "execute_result"
    }
   ],
   "source": [
    "metadata.shape"
   ]
  },
  {
   "cell_type": "code",
   "execution_count": 29,
   "metadata": {
    "collapsed": true
   },
   "outputs": [],
   "source": [
    "y_true_E_numu = []\n",
    "test_indices_numu=[]\n",
    "\n",
    "for i in range(100):\n",
    "    length = len(np.load(multi_data_numu[i])[\"y\"])\n",
    "    test_indx = np.load(index_filelist[i])[\"test\"]\n",
    "\n",
    "    y_true_E_numu.append(np.asarray(metadata[(metadata[\"file_evt_index\"]==i) & (metadata[\"evt_index\"]<length)][\"E\"]))\n",
    "\n",
    "    test_indices_numu.append(test_indx[test_indx<length])\n",
    "\n",
    "y_true_E_numu = np.hstack(y_true_E_numu)"
   ]
  },
  {
   "cell_type": "code",
   "execution_count": 30,
   "metadata": {},
   "outputs": [
    {
     "data": {
      "text/plain": [
       "(30469,)"
      ]
     },
     "execution_count": 30,
     "metadata": {},
     "output_type": "execute_result"
    }
   ],
   "source": [
    "y_true_E_numu.shape"
   ]
  },
  {
   "cell_type": "code",
   "execution_count": 31,
   "metadata": {
    "collapsed": true
   },
   "outputs": [],
   "source": [
    "y_reco_nu_stack_E = [np.hstack(sel_doms_arr(reco_files_numu[0][i], doms_map_files[0][i], \"E\")) for i in range(100)]\n"
   ]
  },
  {
   "cell_type": "code",
   "execution_count": 32,
   "metadata": {},
   "outputs": [
    {
     "name": "stdout",
     "output_type": "stream",
     "text": [
      "(30469,)\n"
     ]
    }
   ],
   "source": [
    "y_reco_numu_E = np.hstack(y_reco_nu_stack_E[i][test_indices_numu[i]] for i in range(100))\n",
    "print(y_reco_numu_E.shape)"
   ]
  },
  {
   "cell_type": "code",
   "execution_count": 33,
   "metadata": {
    "collapsed": true
   },
   "outputs": [],
   "source": [
    "def correct_energy(x):\n",
    "     return ((((((x<=1.0)*x)+(((x>1.0)and(x<=2.8))*(-(7.20045)+(x*3.01))))+(((x>2.8)and(x<=3.5))*(1081.22+(x*(-(1336.46)+(x*(614.871+(x*(-(124.755)+(x*9.43893))))))))))+(((x>3.5)and(x<=4.0))*(-(60.3619)+(x*(45.7012+(x*(-(11.0884)+(x*0.923034))))))))+(((x>4.0)and(x<7.0))*(-(8.72485)+(x*(5.16495+(x*(-(0.174627)+(x*(-(0.198979)+(x*(0.0385912+(x*-(0.00213019)))))))))))))+((x>7.0)*(0.375618+(x*1.01931)))\n",
    "v_correct_energy = np.vectorize(correct_energy)"
   ]
  },
  {
   "cell_type": "code",
   "execution_count": 34,
   "metadata": {
    "collapsed": true
   },
   "outputs": [],
   "source": [
    "#true_e =np.log10(metadata[\"E\"].as_matrix()[nonz])\n",
    "nonz = np.nonzero(y_reco_numu_E)[0]\n",
    "reco_corrected_e = v_correct_energy(np.log10(y_reco_numu_E[nonz]))\n",
    "\n"
   ]
  },
  {
   "cell_type": "code",
   "execution_count": 40,
   "metadata": {},
   "outputs": [
    {
     "name": "stdout",
     "output_type": "stream",
     "text": [
      "E_reco mse: 2.66986171234\n"
     ]
    }
   ],
   "source": [
    "print(\"E_reco mse: {:3}\".format(mean_squared_error(np.log10(y_true_E_numu[nonz]), reco_corrected_e)))"
   ]
  },
  {
   "cell_type": "code",
   "execution_count": 42,
   "metadata": {},
   "outputs": [
    {
     "data": {
      "text/plain": [
       "-1.170259171772102"
      ]
     },
     "execution_count": 42,
     "metadata": {},
     "output_type": "execute_result"
    }
   ],
   "source": [
    "r2_score(np.log10(y_true_E_numu[nonz]), reco_corrected_e)"
   ]
  },
  {
   "cell_type": "code",
   "execution_count": 46,
   "metadata": {},
   "outputs": [
    {
     "name": "stdout",
     "output_type": "stream",
     "text": [
      "(3.3265386209187038, 3.1997952779718162)\n",
      "(4.0803630889801479, 3.9873036647779898)\n",
      "(3.3263522490905579, 3.2162803886135407)\n",
      "(3.772770441408321, 3.7982818685376216)\n",
      "(2.8283240583718352, 2.5444938483599344)\n",
      "(3.2866787249332035, 2.8894338090653946)\n",
      "(2.390297320694474, 2.0306528446094489)\n",
      "(2.5383600525964511, 1.7596802359721551)\n",
      "(3.8588667032523851, 4.0937588208486275)\n",
      "(3.2463385221589021, 2.5185372051528248)\n"
     ]
    }
   ],
   "source": [
    "for i in range(10):\n",
    "    print(np.log10(y_true_E_numu)[i], np.log10(y_reco_numu_E[i]))"
   ]
  },
  {
   "cell_type": "code",
   "execution_count": 48,
   "metadata": {},
   "outputs": [
    {
     "data": {
      "text/plain": [
       "0.70240128572606153"
      ]
     },
     "execution_count": 48,
     "metadata": {},
     "output_type": "execute_result"
    }
   ],
   "source": [
    "mean_squared_error(np.log10(y_true_E_numu[nonz]), np.log10(y_reco_numu_E[nonz]))"
   ]
  },
  {
   "cell_type": "code",
   "execution_count": 49,
   "metadata": {},
   "outputs": [
    {
     "data": {
      "text/plain": [
       "0.42903678285415248"
      ]
     },
     "execution_count": 49,
     "metadata": {},
     "output_type": "execute_result"
    }
   ],
   "source": [
    "r2_score(np.log10(y_true_E_numu[nonz]), np.log10(y_reco_numu_E[nonz]))"
   ]
  },
  {
   "cell_type": "code",
   "execution_count": null,
   "metadata": {
    "collapsed": true
   },
   "outputs": [],
   "source": []
  }
 ],
 "metadata": {
  "kernelspec": {
   "display_name": "Python 2",
   "language": "python",
   "name": "python2"
  },
  "language_info": {
   "codemirror_mode": {
    "name": "ipython",
    "version": 2
   },
   "file_extension": ".py",
   "mimetype": "text/x-python",
   "name": "python",
   "nbconvert_exporter": "python",
   "pygments_lexer": "ipython2",
   "version": "2.7.6"
  }
 },
 "nbformat": 4,
 "nbformat_minor": 2
}
