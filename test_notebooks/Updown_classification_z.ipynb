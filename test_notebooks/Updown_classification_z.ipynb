{
 "cells": [
  {
   "cell_type": "code",
   "execution_count": 1,
   "metadata": {
    "collapsed": true
   },
   "outputs": [],
   "source": [
    "import numpy as np"
   ]
  },
  {
   "cell_type": "code",
   "execution_count": 2,
   "metadata": {
    "collapsed": true
   },
   "outputs": [],
   "source": [
    "import os"
   ]
  },
  {
   "cell_type": "code",
   "execution_count": 3,
   "metadata": {
    "collapsed": true
   },
   "outputs": [],
   "source": [
    "from updown_data import updown_z"
   ]
  },
  {
   "cell_type": "code",
   "execution_count": 4,
   "metadata": {
    "collapsed": true
   },
   "outputs": [],
   "source": [
    "from export_train_test import export_train_validation_test"
   ]
  },
  {
   "cell_type": "markdown",
   "metadata": {
    "collapsed": true
   },
   "source": [
    "for i in range(100):\n",
    "    updown_z(i, \"aafiles/Jpp_v6_aa_files/Xy_files/Xy_numu_\"+str(i+1)+\"_sel5_doms.npz\", \n",
    "             \"aafiles/Jpp_v6_aa_files/Xy_files/numu_\"+str(i+1)+\"_sel5_dir_z.npz\",\n",
    "            \"Xy_files/updown/\", \"Xy_numu\")"
   ]
  },
  {
   "cell_type": "markdown",
   "metadata": {
    "collapsed": true
   },
   "source": [
    "for i in range(100):\n",
    "    updown_z(i, \"aafiles/Jpp_v6_aa_files/Xy_files/Xy_nue_\"+str(i+1)+\"_sel5_doms.npz\", \n",
    "             \"aafiles/Jpp_v6_aa_files/Xy_files/nue_\"+str(i+1)+\"_sel5_dir_z.npz\",\n",
    "            \"Xy_files/updown/\", \"Xy_nue\")"
   ]
  },
  {
   "cell_type": "markdown",
   "metadata": {
    "collapsed": true
   },
   "source": [
    "folder = os.path.join(\"Xy_files\", \"updown\")\n",
    "for i in range(100):\n",
    "    export_train_validation_test(i, os.path.join(folder,\"Xy_numu{}_sel5_doms_updown_z.npz\".format(i+1)),\n",
    "                            os.path.join(folder,\"Xy_nue{}_sel5_doms_updown_z.npz\".format(i+1)),\n",
    "                            out_dir = os.path.join(\"train_test_files\",\"updown_z\"))\n",
    "    print(\"file {} completed\".format(i+1))"
   ]
  },
  {
   "cell_type": "code",
   "execution_count": 4,
   "metadata": {
    "collapsed": true
   },
   "outputs": [],
   "source": [
    "import matplotlib.pyplot as plt\n",
    "\n",
    "% matplotlib inline"
   ]
  },
  {
   "cell_type": "code",
   "execution_count": 5,
   "metadata": {},
   "outputs": [
    {
     "name": "stderr",
     "output_type": "stream",
     "text": [
      "Using TensorFlow backend.\n"
     ]
    }
   ],
   "source": [
    "from keras.layers import Input\n",
    "from keras.layers import concatenate, add\n",
    "from keras.layers.convolutional import Conv2D, MaxPooling2D, AveragePooling2D\n",
    "from keras.layers.core import Flatten, Dense\n",
    "\n",
    "from keras.models import Model\n",
    "from keras.losses import categorical_crossentropy\n",
    "from keras.optimizers import Adadelta\n"
   ]
  },
  {
   "cell_type": "code",
   "execution_count": 6,
   "metadata": {
    "collapsed": true
   },
   "outputs": [],
   "source": [
    "from get_iterations import get_n_iterations, get_class_weights"
   ]
  },
  {
   "cell_type": "code",
   "execution_count": 7,
   "metadata": {
    "collapsed": true
   },
   "outputs": [],
   "source": [
    "from multi_files_generator import Xy_gen_TZ as generator_tz"
   ]
  },
  {
   "cell_type": "code",
   "execution_count": 8,
   "metadata": {
    "collapsed": true
   },
   "outputs": [],
   "source": [
    "from keras.callbacks import EarlyStopping, TensorBoard, ModelCheckpoint"
   ]
  },
  {
   "cell_type": "code",
   "execution_count": 9,
   "metadata": {
    "collapsed": true
   },
   "outputs": [],
   "source": [
    "train_test_dir = os.path.join(\"train_test_files\", \"cosz\")\n",
    "\n",
    "fnames_train = np.asarray([os.path.join(train_test_dir, \"Xy_train{}_sel5_doms.npz\".format(i+1)) for i in range(100)])\n",
    "fnames_test = np.asarray([os.path.join(train_test_dir, \"Xy_test{}_sel5_doms.npz\".format(i+1)) for i in range(100)])\n",
    "fnames_validation = np.asarray([os.path.join(train_test_dir, \"Xy_val{}_sel5_doms.npz\".format(i+1)) for i in range(100)])\n",
    "\n",
    "#fnames_indx = np.asarray([\"train_test_files/Xy_indx\"+str(i+1)+\"_sel5_updown.npz\"for i in range(100)])"
   ]
  },
  {
   "cell_type": "code",
   "execution_count": 12,
   "metadata": {},
   "outputs": [
    {
     "name": "stdout",
     "output_type": "stream",
     "text": [
      "(2588, 165610)\n",
      "(648, 41451)\n",
      "(810, 51818)\n"
     ]
    }
   ],
   "source": [
    "n_files = 100\n",
    "steps_per_epoch, n_events = get_n_iterations(fnames_train[:n_files])\n",
    "print(steps_per_epoch, n_events)\n",
    "validation_steps, n_evts_val = get_n_iterations(fnames_validation[:n_files])\n",
    "print(validation_steps, n_evts_val)\n",
    "\n",
    "prediction_steps, n_evts_test = get_n_iterations(fnames_test[:n_files])\n",
    "print(prediction_steps, n_evts_test)\n",
    "\n",
    "get_class_weights(fnames_train[:n_files])\n",
    "cls_weights = {i:v for i, v in enumerate(get_class_weights(fnames_train[:n_files]))}\n"
   ]
  },
  {
   "cell_type": "code",
   "execution_count": 13,
   "metadata": {
    "collapsed": true
   },
   "outputs": [],
   "source": [
    "def vgg_tz(num_classes, optimizer, include_dense=False):\n",
    "    \"\"\"VGG inspired Convolutional Networks with multiple inputs\n",
    "    \n",
    "    Parameters\n",
    "    ----------\n",
    "    num_classes : int\n",
    "        Number of classes to predict\n",
    "            \n",
    "    optimizer : keras.optimizers.Optimizer\n",
    "        Instance of Keras optimizer to attach to the resulting network\n",
    "        \n",
    "    include_dense : bool (default False)\n",
    "        Flag indicating wether to include a Dense Layer at the top \n",
    "        of each separate vgg-like sub-network.\n",
    "    \"\"\"\n",
    "    \n",
    "    def _conv_block(input_layer, include_dense=False, pooling_size=(2, 2)):\n",
    "        \"\"\"VGG-inspired Convolutional Blocks\"\"\"\n",
    "        \n",
    "        prefix = input_layer.name.split('_')[0]\n",
    "\n",
    "        # Block 1\n",
    "        x = Conv2D(32, kernel_size=(12, 12), activation='relu', \n",
    "                   padding='same', name='{}_block1_conv1'.format(prefix))(input_layer)\n",
    "        \n",
    "        x = Conv2D(32, kernel_size=(12, 12), activation='relu', \n",
    "                   padding='same', name='{}_block1_conv2'.format(prefix))(x)\n",
    "        \n",
    "        x = AveragePooling2D(pool_size=pooling_size, strides=(2, 2), \n",
    "                         padding='same', name='{}_block1_pool'.format(prefix))(x)\n",
    "\n",
    "        # Block 2\n",
    "        x = Conv2D(64, kernel_size=(12, 12), activation='relu', \n",
    "                   padding='same', name='{}_block2_conv1'.format(prefix))(x)\n",
    "        \n",
    "        x = Conv2D(64, kernel_size=(12, 12), activation='relu', \n",
    "                   padding='same', name='{}_block2_conv2'.format(prefix))(x)\n",
    "        \n",
    "        x = AveragePooling2D(pool_size=pooling_size, strides=(2, 2), \n",
    "                         padding='same', name='{}_block2_pool'.format(prefix))(x)\n",
    "\n",
    "        # Block 3\n",
    "        x = Conv2D(128, kernel_size=(12, 12), activation='relu', \n",
    "                   padding='same', name='{}_block3_conv2'.format(prefix))(x)\n",
    "        \n",
    "        x = AveragePooling2D(pool_size=pooling_size, strides=(2, 2), \n",
    "                             padding='same', name='{}_block3_pool'.format(prefix))(x)\n",
    "        x = Flatten()(x)\n",
    "        if include_dense:\n",
    "            x = Dense(512)(x)\n",
    "        return x\n",
    "\n",
    "\n",
    "    ZT_SHAPE = (1, 75, 18)\n",
    "    zt_layer = Input(shape=ZT_SHAPE, name='zt_input')\n",
    "    \n",
    "    zt_branch = _conv_block(zt_layer, pooling_size=(6, 6))#, include_dense)\n",
    "        \n",
    "    x = Dense(512, activation='relu', name='fc-1')(zt_branch)\n",
    "    x = Dense(512, activation='relu', name='fc-2')(x)\n",
    "    predictions = Dense(num_classes, activation='softmax')(x)\n",
    "\n",
    "    model = Model(inputs=zt_layer, outputs=predictions, name='vgglike_tz')\n",
    "    model.compile(loss=categorical_crossentropy, optimizer=optimizer, metrics=['accuracy'])\n",
    "    return model"
   ]
  },
  {
   "cell_type": "code",
   "execution_count": 20,
   "metadata": {},
   "outputs": [
    {
     "name": "stdout",
     "output_type": "stream",
     "text": [
      "Epoch 1/100\n",
      "2356/2356 [==============================] - 404s - loss: 0.0876 - acc: 0.9600 - val_loss: 0.0119 - val_acc: 0.9966\n",
      "Epoch 2/100\n",
      "2356/2356 [==============================] - 404s - loss: 0.0080 - acc: 0.9976 - val_loss: 0.0044 - val_acc: 0.9988\n",
      "Epoch 3/100\n",
      "2356/2356 [==============================] - 407s - loss: 0.0043 - acc: 0.9988 - val_loss: 0.0028 - val_acc: 0.9993\n",
      "Epoch 4/100\n",
      "2356/2356 [==============================] - 401s - loss: 0.0026 - acc: 0.9992 - val_loss: 0.0016 - val_acc: 0.9995\n",
      "Epoch 5/100\n",
      "2356/2356 [==============================] - 394s - loss: 0.0019 - acc: 0.9994 - val_loss: 0.0035 - val_acc: 0.9993\n",
      "Epoch 6/100\n",
      "2356/2356 [==============================] - 389s - loss: 0.0016 - acc: 0.9996 - val_loss: 0.0023 - val_acc: 0.9994\n",
      "Epoch 7/100\n",
      "2356/2356 [==============================] - 388s - loss: 0.0013 - acc: 0.9996 - val_loss: 0.0039 - val_acc: 0.9991\n",
      "Epoch 8/100\n",
      "2356/2356 [==============================] - 400s - loss: 0.0011 - acc: 0.9997 - val_loss: 0.0021 - val_acc: 0.9994\n",
      "Epoch 9/100\n",
      "2356/2356 [==============================] - 394s - loss: 8.9159e-04 - acc: 0.9997 - val_loss: 0.0016 - val_acc: 0.9996\n",
      "Epoch 10/100\n",
      "2356/2356 [==============================] - 386s - loss: 9.8626e-04 - acc: 0.9997 - val_loss: 0.0015 - val_acc: 0.9997\n",
      "Epoch 11/100\n",
      "2356/2356 [==============================] - 393s - loss: 5.5736e-04 - acc: 0.9998 - val_loss: 0.0022 - val_acc: 0.9997\n",
      "Epoch 12/100\n",
      "2356/2356 [==============================] - 391s - loss: 4.2098e-04 - acc: 0.9999 - val_loss: 0.0033 - val_acc: 0.9994\n",
      "Epoch 13/100\n",
      "2356/2356 [==============================] - 392s - loss: 6.4798e-04 - acc: 0.9998 - val_loss: 0.0023 - val_acc: 0.9997\n",
      "Epoch 14/100\n",
      "2356/2356 [==============================] - 395s - loss: 6.0092e-04 - acc: 0.9998 - val_loss: 0.0016 - val_acc: 0.9997\n",
      "Epoch 15/100\n",
      "2356/2356 [==============================] - 391s - loss: 1.6349e-04 - acc: 1.0000 - val_loss: 0.0021 - val_acc: 0.9997\n",
      "Epoch 16/100\n",
      "2356/2356 [==============================] - 401s - loss: 5.3984e-04 - acc: 0.9999 - val_loss: 0.0022 - val_acc: 0.9997\n"
     ]
    }
   ],
   "source": [
    "b_size = 64\n",
    "epochs = 100\n",
    "fargs = {'num_classes': 2, 'optimizer': Adadelta()}\n",
    "vgg_tz_net = vgg_tz(**fargs)\n",
    "\n",
    "fitargs = {'steps_per_epoch': steps_per_epoch, 'epochs': epochs, 'verbose': 1, 'shuffle': True,\n",
    "           'class_weight' : {i:v for i, v in enumerate(get_class_weights(fnames_train[:n_files]))},\n",
    "           \"callbacks\": [#TensorBoard(batch_size=b_size, histogram_freq=5, embeddings_freq=5,\n",
    "                         #           embeddings_layer_names=[\"zt_block1_conv1\", \"zt_block1_conv2\"]), \n",
    "                         ModelCheckpoint(\"models/vgg_tz_updown_z_cls_weighted_\"+str(n_files)+\"files_\"+str(b_size)+\"_12x12_\"+str(epochs)+\"epochs.hdf5\",\n",
    "                                                        save_best_only=True),\n",
    "                         EarlyStopping(monitor=\"val_loss\", patience=5)]}\n",
    "history_vgg_tz = vgg_tz_net.fit_generator(generator_tz(fnames_train[:n_files], batch_size=b_size), \n",
    "                                          validation_data=generator_tz(fnames_validation[:n_files]),\n",
    "                                          validation_steps=validation_steps, **fitargs)\n",
    "\n",
    "\n"
   ]
  },
  {
   "cell_type": "code",
   "execution_count": 21,
   "metadata": {},
   "outputs": [
    {
     "name": "stdout",
     "output_type": "stream",
     "text": [
      "(738, 47181)\n"
     ]
    }
   ],
   "source": [
    "y_true = list()\n",
    "y_pred = list()\n",
    "\n",
    "predict_steps, n_test_events = get_n_iterations(fnames_test[:n_files], 64)\n",
    "print(predict_steps, n_test_events)\n",
    "\n",
    "data_gen = generator_tz(fnames_test[:n_files], batch_size=64)\n",
    "for i in range(predict_steps):\n",
    "    ZT_batch, Y_batch_true = next(data_gen)\n",
    "    Y_batch_pred = vgg_tz_net.predict_on_batch(ZT_batch)\n",
    "    y_batch_pred = np.argmax(Y_batch_pred, axis=1)\n",
    "    y_batch_true = np.argmax(Y_batch_true, axis=1)\n",
    "    y_true.append(y_batch_true)\n",
    "    y_pred.append(y_batch_pred)\n",
    "    \n",
    "y_true = np.hstack(np.asarray(y_true))\n",
    "y_pred = np.hstack(np.asarray(y_pred))\n",
    "\n",
    "from sklearn.metrics import accuracy_score\n",
    "score = accuracy_score(y_true, y_pred)\n",
    "print(score)\n"
   ]
  },
  {
   "cell_type": "markdown",
   "metadata": {
    "collapsed": true
   },
   "source": [
    "## Testing Logistic Regression"
   ]
  },
  {
   "cell_type": "markdown",
   "metadata": {},
   "source": [
    "## Model MLP / Logistic Regression-like"
   ]
  },
  {
   "cell_type": "code",
   "execution_count": 27,
   "metadata": {
    "collapsed": true
   },
   "outputs": [],
   "source": [
    "from keras.layers.core import Reshape"
   ]
  },
  {
   "cell_type": "code",
   "execution_count": 29,
   "metadata": {
    "collapsed": true
   },
   "outputs": [],
   "source": [
    "ZT_SHAPE = (1, 75, 18)\n",
    "zt_layer = Input(shape=ZT_SHAPE, name='zt_input')\n",
    "reshape = Reshape(target_shape=(75*18,))(zt_layer)\n",
    "x = Dense(512, activation='sigmoid', name='logistic')(reshape)\n",
    "predictions = Dense(2, activation='softmax')(x)\n",
    "\n",
    "mlp_logistic = Model(inputs=zt_layer, outputs=predictions, name='mlp_logistic')\n",
    "mlp_logistic.compile(loss=categorical_crossentropy, optimizer=Adadelta(), metrics=['accuracy'])\n",
    "    "
   ]
  },
  {
   "cell_type": "code",
   "execution_count": 30,
   "metadata": {},
   "outputs": [
    {
     "name": "stdout",
     "output_type": "stream",
     "text": [
      "_________________________________________________________________\n",
      "Layer (type)                 Output Shape              Param #   \n",
      "=================================================================\n",
      "zt_input (InputLayer)        (None, 1, 75, 18)         0         \n",
      "_________________________________________________________________\n",
      "reshape_2 (Reshape)          (None, 1350)              0         \n",
      "_________________________________________________________________\n",
      "logistic (Dense)             (None, 512)               691712    \n",
      "_________________________________________________________________\n",
      "dense_7 (Dense)              (None, 2)                 1026      \n",
      "=================================================================\n",
      "Total params: 692,738\n",
      "Trainable params: 692,738\n",
      "Non-trainable params: 0\n",
      "_________________________________________________________________\n"
     ]
    }
   ],
   "source": [
    "mlp_logistic.summary()"
   ]
  },
  {
   "cell_type": "code",
   "execution_count": null,
   "metadata": {},
   "outputs": [
    {
     "name": "stdout",
     "output_type": "stream",
     "text": [
      "Epoch 1/100\n",
      "2356/2356 [==============================] - 343s - loss: 0.5479 - acc: 0.7300 - val_loss: 0.5127 - val_acc: 0.7621\n",
      "Epoch 2/100\n",
      "2356/2356 [==============================] - 339s - loss: 0.4896 - acc: 0.7759 - val_loss: 0.4737 - val_acc: 0.7874\n",
      "Epoch 3/100\n",
      "2356/2356 [==============================] - 341s - loss: 0.4536 - acc: 0.7977 - val_loss: 0.4445 - val_acc: 0.8052\n",
      "Epoch 4/100\n",
      "2356/2356 [==============================] - 343s - loss: 0.4256 - acc: 0.8123 - val_loss: 0.4201 - val_acc: 0.8181\n",
      "Epoch 5/100\n",
      "2356/2356 [==============================] - 344s - loss: 0.4017 - acc: 0.8240 - val_loss: 0.3981 - val_acc: 0.8285\n",
      "Epoch 6/100\n",
      "2356/2356 [==============================] - 343s - loss: 0.3800 - acc: 0.8347 - val_loss: 0.3777 - val_acc: 0.8399\n",
      "Epoch 7/100\n",
      "2356/2356 [==============================] - 343s - loss: 0.3597 - acc: 0.8446 - val_loss: 0.3584 - val_acc: 0.8503\n",
      "Epoch 8/100\n",
      "2356/2356 [==============================] - 344s - loss: 0.3406 - acc: 0.8548 - val_loss: 0.3404 - val_acc: 0.8588\n",
      "Epoch 9/100\n",
      "2356/2356 [==============================] - 346s - loss: 0.3227 - acc: 0.8641 - val_loss: 0.3236 - val_acc: 0.8676\n",
      "Epoch 10/100\n",
      "2356/2356 [==============================] - 344s - loss: 0.3061 - acc: 0.8734 - val_loss: 0.3082 - val_acc: 0.8758\n",
      "Epoch 11/100\n",
      "2356/2356 [==============================] - 344s - loss: 0.2907 - acc: 0.8816 - val_loss: 0.2943 - val_acc: 0.8846\n",
      "Epoch 12/100\n",
      "2356/2356 [==============================] - 341s - loss: 0.2766 - acc: 0.8894 - val_loss: 0.2817 - val_acc: 0.8913\n",
      "Epoch 13/100\n",
      "2356/2356 [==============================] - 340s - loss: 0.2639 - acc: 0.8963 - val_loss: 0.2705 - val_acc: 0.8972\n",
      "Epoch 14/100\n",
      "2356/2356 [==============================] - 338s - loss: 0.2523 - acc: 0.9028 - val_loss: 0.2606 - val_acc: 0.9017\n",
      "Epoch 15/100\n",
      "2356/2356 [==============================] - 340s - loss: 0.2420 - acc: 0.9082 - val_loss: 0.2519 - val_acc: 0.9068\n",
      "Epoch 16/100\n",
      "2356/2356 [==============================] - 336s - loss: 0.2327 - acc: 0.9129 - val_loss: 0.2442 - val_acc: 0.9106\n",
      "Epoch 17/100\n",
      "2356/2356 [==============================] - 328s - loss: 0.2243 - acc: 0.9170 - val_loss: 0.2374 - val_acc: 0.9139\n",
      "Epoch 18/100\n",
      "2356/2356 [==============================] - 327s - loss: 0.2168 - acc: 0.9203 - val_loss: 0.2314 - val_acc: 0.9164\n",
      "Epoch 19/100\n",
      "2356/2356 [==============================] - 329s - loss: 0.2099 - acc: 0.9233 - val_loss: 0.2261 - val_acc: 0.9184\n",
      "Epoch 20/100\n",
      "2356/2356 [==============================] - 331s - loss: 0.2037 - acc: 0.9260 - val_loss: 0.2214 - val_acc: 0.9201\n",
      "Epoch 21/100\n",
      "1694/2356 [====================>.........] - ETA: 75s - loss: 0.1993 - acc: 0.9276"
     ]
    }
   ],
   "source": [
    "fitargs = {'steps_per_epoch': steps_per_epoch, 'epochs': epochs, 'verbose': 1, 'shuffle': True,\n",
    "           \"callbacks\": [#TensorBoard(batch_size=b_size, histogram_freq=5, embeddings_freq=5,\n",
    "                         #           embeddings_layer_names=[\"zt_block1_conv1\", \"zt_block1_conv2\"]), \n",
    "                         ModelCheckpoint(\"models/mlp_logistic\"+str(n_files)+\"files_\"+str(b_size)+\"_12x12_\"+str(epochs)+\"epochs.hdf5\",\n",
    "                                                        save_best_only=True),\n",
    "                         EarlyStopping(monitor=\"val_loss\", patience=5)]}\n",
    "history_mlp_logistic = mlp_logistic.fit_generator(generator_tz(fnames_train[:n_files], batch_size=b_size), \n",
    "                                          validation_data=generator_tz(fnames_validation[:n_files]),\n",
    "                                          validation_steps=validation_steps, **fitargs)\n"
   ]
  },
  {
   "cell_type": "code",
   "execution_count": 32,
   "metadata": {},
   "outputs": [
    {
     "data": {
      "text/plain": [
       "100"
      ]
     },
     "execution_count": 32,
     "metadata": {},
     "output_type": "execute_result"
    }
   ],
   "source": [
    "n_files"
   ]
  },
  {
   "cell_type": "code",
   "execution_count": 33,
   "metadata": {},
   "outputs": [
    {
     "data": {
      "text/plain": [
       "<keras.engine.training.Model at 0x7f8a7e151450>"
      ]
     },
     "execution_count": 33,
     "metadata": {},
     "output_type": "execute_result"
    }
   ],
   "source": [
    "mlp_logistic"
   ]
  },
  {
   "cell_type": "code",
   "execution_count": 34,
   "metadata": {},
   "outputs": [
    {
     "name": "stdout",
     "output_type": "stream",
     "text": [
      "(738, 47181)\n"
     ]
    }
   ],
   "source": [
    "y_true = list()\n",
    "y_pred = list()\n",
    "\n",
    "predict_steps, n_test_events = get_n_iterations(fnames_test[:n_files], 64)\n",
    "print(predict_steps, n_test_events)\n",
    "\n",
    "data_gen = generator_tz(fnames_test[:n_files], batch_size=64)\n",
    "for i in range(predict_steps):\n",
    "    ZT_batch, Y_batch_true = next(data_gen)\n",
    "    Y_batch_pred = mlp_logistic.predict_on_batch(ZT_batch)\n",
    "    y_batch_pred = np.argmax(Y_batch_pred, axis=1)\n",
    "    y_batch_true = np.argmax(Y_batch_true, axis=1)\n",
    "    y_true.append(y_batch_true)\n",
    "    y_pred.append(y_batch_pred)\n",
    "    \n",
    "y_true = np.hstack(np.asarray(y_true))\n",
    "y_pred = np.hstack(np.asarray(y_pred))"
   ]
  },
  {
   "cell_type": "code",
   "execution_count": 35,
   "metadata": {},
   "outputs": [
    {
     "name": "stdout",
     "output_type": "stream",
     "text": [
      "0.91439350586\n"
     ]
    }
   ],
   "source": [
    "score = accuracy_score(y_true, y_pred)\n",
    "print(score)"
   ]
  },
  {
   "cell_type": "markdown",
   "metadata": {
    "collapsed": true
   },
   "source": [
    "### testing updown with cosz (cosz<=0: down, cosz>0: up)"
   ]
  },
  {
   "cell_type": "code",
   "execution_count": 14,
   "metadata": {},
   "outputs": [
    {
     "name": "stdout",
     "output_type": "stream",
     "text": [
      "Epoch 1/100\n",
      "2588/2588 [==============================] - 448s - loss: 0.2360 - acc: 0.8951 - val_loss: 0.1637 - val_acc: 0.9279\n",
      "Epoch 2/100\n",
      "2588/2588 [==============================] - 431s - loss: 0.1699 - acc: 0.9284 - val_loss: 0.1577 - val_acc: 0.9297\n",
      "Epoch 3/100\n",
      "2588/2588 [==============================] - 434s - loss: 0.1611 - acc: 0.9324 - val_loss: 0.1543 - val_acc: 0.9308\n",
      "Epoch 4/100\n",
      "2588/2588 [==============================] - 428s - loss: 0.1558 - acc: 0.9345 - val_loss: 0.1526 - val_acc: 0.9317\n",
      "Epoch 5/100\n",
      "2588/2588 [==============================] - 431s - loss: 0.1519 - acc: 0.9364 - val_loss: 0.1529 - val_acc: 0.9318\n",
      "Epoch 6/100\n",
      "2588/2588 [==============================] - 432s - loss: 0.1486 - acc: 0.9377 - val_loss: 0.1526 - val_acc: 0.9323\n",
      "Epoch 7/100\n",
      "2588/2588 [==============================] - 432s - loss: 0.1458 - acc: 0.9391 - val_loss: 0.1521 - val_acc: 0.9327\n",
      "Epoch 8/100\n",
      "2588/2588 [==============================] - 431s - loss: 0.1430 - acc: 0.9406 - val_loss: 0.1534 - val_acc: 0.9321\n",
      "Epoch 9/100\n",
      "2588/2588 [==============================] - 431s - loss: 0.1402 - acc: 0.9421 - val_loss: 0.1549 - val_acc: 0.9327\n",
      "Epoch 10/100\n",
      "2588/2588 [==============================] - 429s - loss: 0.1374 - acc: 0.9431 - val_loss: 0.1566 - val_acc: 0.9320\n",
      "Epoch 11/100\n",
      "2588/2588 [==============================] - 431s - loss: 0.1343 - acc: 0.9447 - val_loss: 0.1603 - val_acc: 0.9310\n",
      "Epoch 12/100\n",
      "2588/2588 [==============================] - 433s - loss: 0.1307 - acc: 0.9462 - val_loss: 0.1614 - val_acc: 0.9308\n",
      "Epoch 13/100\n",
      "2588/2588 [==============================] - 432s - loss: 0.1273 - acc: 0.9477 - val_loss: 0.1743 - val_acc: 0.9325\n"
     ]
    }
   ],
   "source": [
    "b_size = 64\n",
    "epochs = 100\n",
    "fargs = {'num_classes': 2, 'optimizer': Adadelta()}\n",
    "vgg_tz_net = vgg_tz(**fargs)\n",
    "\n",
    "fitargs = {'steps_per_epoch': steps_per_epoch, 'epochs': epochs, 'verbose': 1, 'shuffle': True,\n",
    "           'class_weight' : {i:v for i, v in enumerate(get_class_weights(fnames_train[:n_files]))},\n",
    "           \"callbacks\": [#TensorBoard(batch_size=b_size, histogram_freq=5, embeddings_freq=5,\n",
    "                         #           embeddings_layer_names=[\"zt_block1_conv1\", \"zt_block1_conv2\"]), \n",
    "                         ModelCheckpoint(\"models/vgg_tz_updown_cosz_cls_weighted_\"+str(n_files)+\"files_\"+str(b_size)+\"_12x12_\"+str(epochs)+\"epochs.hdf5\",\n",
    "                                                        save_best_only=True),\n",
    "                         EarlyStopping(monitor=\"val_loss\", patience=5)]}\n",
    "history_vgg_tz = vgg_tz_net.fit_generator(generator_tz(fnames_train[:n_files], batch_size=b_size), \n",
    "                                          validation_data=generator_tz(fnames_validation[:n_files]),\n",
    "                                          validation_steps=validation_steps, **fitargs)\n",
    "\n",
    "\n"
   ]
  },
  {
   "cell_type": "code",
   "execution_count": 15,
   "metadata": {},
   "outputs": [
    {
     "name": "stdout",
     "output_type": "stream",
     "text": [
      "(810, 51818)\n",
      "0.933864680227\n"
     ]
    }
   ],
   "source": [
    "y_true = list()\n",
    "y_pred = list()\n",
    "\n",
    "predict_steps, n_test_events = get_n_iterations(fnames_test[:n_files], 64)\n",
    "print(predict_steps, n_test_events)\n",
    "\n",
    "data_gen = generator_tz(fnames_test[:n_files], batch_size=64)\n",
    "for i in range(predict_steps):\n",
    "    ZT_batch, Y_batch_true = next(data_gen)\n",
    "    Y_batch_pred = vgg_tz_net.predict_on_batch(ZT_batch)\n",
    "    y_batch_pred = np.argmax(Y_batch_pred, axis=1)\n",
    "    y_batch_true = np.argmax(Y_batch_true, axis=1)\n",
    "    y_true.append(y_batch_true)\n",
    "    y_pred.append(y_batch_pred)\n",
    "    \n",
    "y_true = np.hstack(np.asarray(y_true))\n",
    "y_pred = np.hstack(np.asarray(y_pred))\n",
    "\n",
    "from sklearn.metrics import accuracy_score\n",
    "score = accuracy_score(y_true, y_pred)\n",
    "print(score)\n"
   ]
  },
  {
   "cell_type": "code",
   "execution_count": 16,
   "metadata": {
    "collapsed": true
   },
   "outputs": [],
   "source": [
    "from sklearn.metrics import confusion_matrix"
   ]
  },
  {
   "cell_type": "code",
   "execution_count": 17,
   "metadata": {},
   "outputs": [
    {
     "data": {
      "text/plain": [
       "array([[21963,  1733],\n",
       "       [ 1694, 26428]])"
      ]
     },
     "execution_count": 17,
     "metadata": {},
     "output_type": "execute_result"
    }
   ],
   "source": [
    "confusion_matrix(y_true, y_pred)"
   ]
  },
  {
   "cell_type": "code",
   "execution_count": 47,
   "metadata": {},
   "outputs": [
    {
     "data": {
      "text/plain": [
       "<module 'multi_files_generator' from 'multi_files_generator.pyc'>"
      ]
     },
     "execution_count": 47,
     "metadata": {},
     "output_type": "execute_result"
    }
   ],
   "source": [
    "import multi_files_generator\n",
    "reload(multi_files_generator)"
   ]
  },
  {
   "cell_type": "code",
   "execution_count": 48,
   "metadata": {
    "collapsed": true
   },
   "outputs": [],
   "source": [
    "from multi_files_generator import generate_metadata"
   ]
  },
  {
   "cell_type": "code",
   "execution_count": 49,
   "metadata": {
    "collapsed": true
   },
   "outputs": [],
   "source": [
    "dir_xy = \"aafiles/Jpp_v6_aa_files/Xy_multi_data_files/\"\n",
    "dir_train_test = \"train_test_files/cosz/\"\n",
    "index_filelist = [os.path.join(dir_train_test, \"Xy_indx{}_sel5_doms.npz\".format(i+1)) for i in range(100)]\n",
    "xy_filelist = [(os.path.join(dir_xy, \"Xy_numu_{}_multi_data.npz\".format(i+1)), \n",
    "                os.path.join(dir_xy, \"Xy_nue_{}_multi_data.npz\".format(i+1))) for i in range(100)]\n",
    "metadata_keylist = [\"E\", \"dirx\", \"diry\", \"dirz\", \"posx\", \"posy\", \"posz\", \"dist\"]\n"
   ]
  },
  {
   "cell_type": "code",
   "execution_count": 50,
   "metadata": {
    "collapsed": true
   },
   "outputs": [],
   "source": [
    "import get_iterations\n",
    "reload(get_iterations)\n",
    "from get_iterations import get_n_iterations"
   ]
  },
  {
   "cell_type": "code",
   "execution_count": 51,
   "metadata": {
    "collapsed": true
   },
   "outputs": [],
   "source": [
    "import pandas as pd"
   ]
  },
  {
   "cell_type": "code",
   "execution_count": 270,
   "metadata": {
    "collapsed": true
   },
   "outputs": [],
   "source": [
    "from keras import backend as K\n",
    "\n",
    "def get_activations(model, layer, X_batch):\n",
    "    activations_f = K.function([model.layers[0].input, K.learning_phase()], [layer.output,])\n",
    "    activations = activations_f((X_batch, False))\n",
    "    return activations"
   ]
  },
  {
   "cell_type": "code",
   "execution_count": 271,
   "metadata": {},
   "outputs": [
    {
     "name": "stdout",
     "output_type": "stream",
     "text": [
      "_________________________________________________________________\n",
      "Layer (type)                 Output Shape              Param #   \n",
      "=================================================================\n",
      "zt_input (InputLayer)        (None, 1, 75, 18)         0         \n",
      "_________________________________________________________________\n",
      "zt_block1_conv1 (Conv2D)     (None, 32, 75, 18)        4640      \n",
      "_________________________________________________________________\n",
      "zt_block1_conv2 (Conv2D)     (None, 32, 75, 18)        147488    \n",
      "_________________________________________________________________\n",
      "zt_block1_pool (AveragePooli (None, 32, 38, 9)         0         \n",
      "_________________________________________________________________\n",
      "zt_block2_conv1 (Conv2D)     (None, 64, 38, 9)         294976    \n",
      "_________________________________________________________________\n",
      "zt_block2_conv2 (Conv2D)     (None, 64, 38, 9)         589888    \n",
      "_________________________________________________________________\n",
      "zt_block2_pool (AveragePooli (None, 64, 19, 5)         0         \n",
      "_________________________________________________________________\n",
      "zt_block3_conv2 (Conv2D)     (None, 128, 19, 5)        1179776   \n",
      "_________________________________________________________________\n",
      "zt_block3_pool (AveragePooli (None, 128, 10, 3)        0         \n",
      "_________________________________________________________________\n",
      "flatten_1 (Flatten)          (None, 3840)              0         \n",
      "_________________________________________________________________\n",
      "fc-1 (Dense)                 (None, 512)               1966592   \n",
      "_________________________________________________________________\n",
      "fc-2 (Dense)                 (None, 512)               262656    \n",
      "_________________________________________________________________\n",
      "dense_1 (Dense)              (None, 2)                 1026      \n",
      "=================================================================\n",
      "Total params: 4,447,042\n",
      "Trainable params: 4,447,042\n",
      "Non-trainable params: 0\n",
      "_________________________________________________________________\n"
     ]
    }
   ],
   "source": [
    "vgg_tz_net.summary()"
   ]
  },
  {
   "cell_type": "code",
   "execution_count": 272,
   "metadata": {
    "collapsed": true
   },
   "outputs": [],
   "source": [
    "softmax_layer = vgg_tz_net.get_layer('dense_1')"
   ]
  },
  {
   "cell_type": "code",
   "execution_count": 273,
   "metadata": {},
   "outputs": [
    {
     "data": {
      "text/plain": [
       "<keras.layers.core.Dense at 0x7feae7069e90>"
      ]
     },
     "execution_count": 273,
     "metadata": {},
     "output_type": "execute_result"
    }
   ],
   "source": [
    "softmax_layer"
   ]
  },
  {
   "cell_type": "code",
   "execution_count": 286,
   "metadata": {},
   "outputs": [
    {
     "name": "stdout",
     "output_type": "stream",
     "text": [
      "(810, 51818)\n"
     ]
    }
   ],
   "source": [
    "y_true = list()\n",
    "y_pred = list()\n",
    "Y_probs = None\n",
    "metadata = None\n",
    "predict_steps, n_test_events = get_n_iterations(fnames_test[:n_files], batch_size=64)\n",
    "print(predict_steps, n_test_events)\n",
    "\n",
    "metadata_gen  = generate_metadata(index_filelist, xy_filelist, metadata_keylist)\n",
    "data_gen = generator_tz(fnames_test[:n_files], batch_size=64)\n",
    "\n",
    "for i in range(predict_steps):\n",
    "    ZT_batch, Y_batch_true = next(data_gen)\n",
    "    metadata_batch = next(metadata_gen)\n",
    "    if metadata is None:\n",
    "        metadata = metadata_batch\n",
    "    else:\n",
    "        metadata = pd.concat((metadata, metadata_batch))\n",
    "    Y_batch_pred = vgg_tz_net.predict_on_batch(ZT_batch)\n",
    "    if Y_probs is None:\n",
    "        Y_probs = Y_batch_pred\n",
    "    else:\n",
    "        Y_probs = np.vstack((Y_probs, Y_batch_pred))\n",
    "    y_batch_pred = np.argmax(Y_batch_pred, axis=1)\n",
    "    y_batch_true = np.argmax(Y_batch_true, axis=1)  # required because Y_batch is categorical\n",
    "    np.argwhere(y_batch_pred!=y_batch_true)\n",
    "    y_true.append(y_batch_true)\n",
    "    y_pred.append(y_batch_pred)\n",
    "    \n",
    "y_true = np.hstack(np.asarray(y_true))\n",
    "y_pred = np.hstack(np.asarray(y_pred))\n"
   ]
  },
  {
   "cell_type": "code",
   "execution_count": 287,
   "metadata": {},
   "outputs": [
    {
     "data": {
      "text/plain": [
       "(51818, 2)"
      ]
     },
     "execution_count": 287,
     "metadata": {},
     "output_type": "execute_result"
    }
   ],
   "source": [
    "Y_probs.shape"
   ]
  },
  {
   "cell_type": "code",
   "execution_count": 53,
   "metadata": {
    "scrolled": true
   },
   "outputs": [
    {
     "data": {
      "text/html": [
       "<div>\n",
       "<style>\n",
       "    .dataframe thead tr:only-child th {\n",
       "        text-align: right;\n",
       "    }\n",
       "\n",
       "    .dataframe thead th {\n",
       "        text-align: left;\n",
       "    }\n",
       "\n",
       "    .dataframe tbody tr th {\n",
       "        vertical-align: top;\n",
       "    }\n",
       "</style>\n",
       "<table border=\"1\" class=\"dataframe\">\n",
       "  <thead>\n",
       "    <tr style=\"text-align: right;\">\n",
       "      <th></th>\n",
       "      <th>E</th>\n",
       "      <th>dirx</th>\n",
       "      <th>diry</th>\n",
       "      <th>dirz</th>\n",
       "      <th>posx</th>\n",
       "      <th>posy</th>\n",
       "      <th>posz</th>\n",
       "      <th>dist</th>\n",
       "      <th>file_evt_index</th>\n",
       "      <th>evt_index</th>\n",
       "    </tr>\n",
       "  </thead>\n",
       "  <tbody>\n",
       "    <tr>\n",
       "      <th>0</th>\n",
       "      <td>7.363040e+02</td>\n",
       "      <td>-0.827540</td>\n",
       "      <td>0.396100</td>\n",
       "      <td>0.397850</td>\n",
       "      <td>-272.307</td>\n",
       "      <td>-4.084</td>\n",
       "      <td>-158.369</td>\n",
       "      <td>270.957155</td>\n",
       "      <td>0</td>\n",
       "      <td>1608</td>\n",
       "    </tr>\n",
       "    <tr>\n",
       "      <th>1</th>\n",
       "      <td>2.120990e+03</td>\n",
       "      <td>0.197537</td>\n",
       "      <td>-0.333124</td>\n",
       "      <td>-0.921959</td>\n",
       "      <td>-156.908</td>\n",
       "      <td>46.530</td>\n",
       "      <td>209.152</td>\n",
       "      <td>115.123164</td>\n",
       "      <td>0</td>\n",
       "      <td>173</td>\n",
       "    </tr>\n",
       "    <tr>\n",
       "      <th>2</th>\n",
       "      <td>1.203270e+04</td>\n",
       "      <td>-0.504102</td>\n",
       "      <td>-0.812768</td>\n",
       "      <td>0.292043</td>\n",
       "      <td>667.434</td>\n",
       "      <td>230.793</td>\n",
       "      <td>114.812</td>\n",
       "      <td>520.883049</td>\n",
       "      <td>0</td>\n",
       "      <td>463</td>\n",
       "    </tr>\n",
       "    <tr>\n",
       "      <th>3</th>\n",
       "      <td>4.933900e+04</td>\n",
       "      <td>-0.174727</td>\n",
       "      <td>0.916099</td>\n",
       "      <td>0.360880</td>\n",
       "      <td>-2.678</td>\n",
       "      <td>55.944</td>\n",
       "      <td>37.402</td>\n",
       "      <td>16.814229</td>\n",
       "      <td>0</td>\n",
       "      <td>2353</td>\n",
       "    </tr>\n",
       "    <tr>\n",
       "      <th>4</th>\n",
       "      <td>6.110150e+03</td>\n",
       "      <td>0.851402</td>\n",
       "      <td>-0.317798</td>\n",
       "      <td>0.417277</td>\n",
       "      <td>-330.826</td>\n",
       "      <td>276.509</td>\n",
       "      <td>-343.280</td>\n",
       "      <td>201.986057</td>\n",
       "      <td>0</td>\n",
       "      <td>2129</td>\n",
       "    </tr>\n",
       "    <tr>\n",
       "      <th>5</th>\n",
       "      <td>1.038740e+04</td>\n",
       "      <td>0.772722</td>\n",
       "      <td>0.486062</td>\n",
       "      <td>-0.408222</td>\n",
       "      <td>-6.944</td>\n",
       "      <td>205.169</td>\n",
       "      <td>331.969</td>\n",
       "      <td>388.139268</td>\n",
       "      <td>0</td>\n",
       "      <td>1966</td>\n",
       "    </tr>\n",
       "    <tr>\n",
       "      <th>6</th>\n",
       "      <td>1.906520e+02</td>\n",
       "      <td>-0.333934</td>\n",
       "      <td>-0.742683</td>\n",
       "      <td>0.580439</td>\n",
       "      <td>-372.718</td>\n",
       "      <td>-140.365</td>\n",
       "      <td>23.792</td>\n",
       "      <td>316.814125</td>\n",
       "      <td>0</td>\n",
       "      <td>1583</td>\n",
       "    </tr>\n",
       "    <tr>\n",
       "      <th>7</th>\n",
       "      <td>1.942250e+03</td>\n",
       "      <td>-0.268279</td>\n",
       "      <td>-0.205900</td>\n",
       "      <td>0.941080</td>\n",
       "      <td>259.641</td>\n",
       "      <td>477.066</td>\n",
       "      <td>-167.664</td>\n",
       "      <td>465.892804</td>\n",
       "      <td>0</td>\n",
       "      <td>1963</td>\n",
       "    </tr>\n",
       "    <tr>\n",
       "      <th>8</th>\n",
       "      <td>2.120080e+03</td>\n",
       "      <td>-0.852656</td>\n",
       "      <td>-0.522089</td>\n",
       "      <td>-0.020023</td>\n",
       "      <td>380.565</td>\n",
       "      <td>-103.219</td>\n",
       "      <td>-201.567</td>\n",
       "      <td>353.632526</td>\n",
       "      <td>0</td>\n",
       "      <td>259</td>\n",
       "    </tr>\n",
       "    <tr>\n",
       "      <th>9</th>\n",
       "      <td>5.926120e+03</td>\n",
       "      <td>0.771974</td>\n",
       "      <td>-0.539742</td>\n",
       "      <td>-0.335760</td>\n",
       "      <td>-610.447</td>\n",
       "      <td>2.364</td>\n",
       "      <td>508.467</td>\n",
       "      <td>466.285120</td>\n",
       "      <td>0</td>\n",
       "      <td>445</td>\n",
       "    </tr>\n",
       "    <tr>\n",
       "      <th>10</th>\n",
       "      <td>6.734790e+02</td>\n",
       "      <td>-0.732152</td>\n",
       "      <td>-0.517985</td>\n",
       "      <td>0.442318</td>\n",
       "      <td>487.259</td>\n",
       "      <td>511.187</td>\n",
       "      <td>-364.016</td>\n",
       "      <td>137.344577</td>\n",
       "      <td>0</td>\n",
       "      <td>246</td>\n",
       "    </tr>\n",
       "    <tr>\n",
       "      <th>11</th>\n",
       "      <td>1.934990e+03</td>\n",
       "      <td>0.989156</td>\n",
       "      <td>0.098134</td>\n",
       "      <td>-0.109273</td>\n",
       "      <td>-705.448</td>\n",
       "      <td>-32.805</td>\n",
       "      <td>-69.313</td>\n",
       "      <td>150.578447</td>\n",
       "      <td>0</td>\n",
       "      <td>175</td>\n",
       "    </tr>\n",
       "    <tr>\n",
       "      <th>12</th>\n",
       "      <td>2.456390e+02</td>\n",
       "      <td>-0.937331</td>\n",
       "      <td>0.345366</td>\n",
       "      <td>0.046179</td>\n",
       "      <td>683.065</td>\n",
       "      <td>179.321</td>\n",
       "      <td>-131.127</td>\n",
       "      <td>417.642957</td>\n",
       "      <td>0</td>\n",
       "      <td>480</td>\n",
       "    </tr>\n",
       "    <tr>\n",
       "      <th>13</th>\n",
       "      <td>3.454300e+02</td>\n",
       "      <td>0.511697</td>\n",
       "      <td>0.361616</td>\n",
       "      <td>0.779359</td>\n",
       "      <td>28.363</td>\n",
       "      <td>-284.120</td>\n",
       "      <td>-405.629</td>\n",
       "      <td>287.327099</td>\n",
       "      <td>0</td>\n",
       "      <td>647</td>\n",
       "    </tr>\n",
       "    <tr>\n",
       "      <th>14</th>\n",
       "      <td>1.301270e+04</td>\n",
       "      <td>-0.537594</td>\n",
       "      <td>-0.838616</td>\n",
       "      <td>0.087840</td>\n",
       "      <td>-227.526</td>\n",
       "      <td>-132.630</td>\n",
       "      <td>-376.779</td>\n",
       "      <td>413.693864</td>\n",
       "      <td>0</td>\n",
       "      <td>2145</td>\n",
       "    </tr>\n",
       "    <tr>\n",
       "      <th>15</th>\n",
       "      <td>2.530900e+03</td>\n",
       "      <td>-0.966419</td>\n",
       "      <td>-0.247645</td>\n",
       "      <td>0.068597</td>\n",
       "      <td>125.809</td>\n",
       "      <td>-480.442</td>\n",
       "      <td>140.963</td>\n",
       "      <td>516.210120</td>\n",
       "      <td>0</td>\n",
       "      <td>1833</td>\n",
       "    </tr>\n",
       "    <tr>\n",
       "      <th>16</th>\n",
       "      <td>7.225480e+03</td>\n",
       "      <td>0.552347</td>\n",
       "      <td>0.646637</td>\n",
       "      <td>0.526093</td>\n",
       "      <td>-417.838</td>\n",
       "      <td>-569.337</td>\n",
       "      <td>24.761</td>\n",
       "      <td>395.025406</td>\n",
       "      <td>0</td>\n",
       "      <td>944</td>\n",
       "    </tr>\n",
       "    <tr>\n",
       "      <th>17</th>\n",
       "      <td>1.763350e+03</td>\n",
       "      <td>-0.069822</td>\n",
       "      <td>-0.953333</td>\n",
       "      <td>0.293735</td>\n",
       "      <td>-105.351</td>\n",
       "      <td>698.309</td>\n",
       "      <td>-376.134</td>\n",
       "      <td>221.544331</td>\n",
       "      <td>0</td>\n",
       "      <td>211</td>\n",
       "    </tr>\n",
       "    <tr>\n",
       "      <th>18</th>\n",
       "      <td>5.794110e+03</td>\n",
       "      <td>-0.091679</td>\n",
       "      <td>0.995595</td>\n",
       "      <td>0.019631</td>\n",
       "      <td>-319.448</td>\n",
       "      <td>-629.831</td>\n",
       "      <td>51.962</td>\n",
       "      <td>381.213434</td>\n",
       "      <td>0</td>\n",
       "      <td>693</td>\n",
       "    </tr>\n",
       "    <tr>\n",
       "      <th>19</th>\n",
       "      <td>1.300590e+03</td>\n",
       "      <td>-0.540776</td>\n",
       "      <td>0.517256</td>\n",
       "      <td>0.663331</td>\n",
       "      <td>260.004</td>\n",
       "      <td>-380.367</td>\n",
       "      <td>-116.214</td>\n",
       "      <td>232.436938</td>\n",
       "      <td>0</td>\n",
       "      <td>1761</td>\n",
       "    </tr>\n",
       "    <tr>\n",
       "      <th>20</th>\n",
       "      <td>1.929690e+04</td>\n",
       "      <td>-0.801409</td>\n",
       "      <td>-0.468944</td>\n",
       "      <td>0.371260</td>\n",
       "      <td>396.936</td>\n",
       "      <td>584.083</td>\n",
       "      <td>238.873</td>\n",
       "      <td>549.939482</td>\n",
       "      <td>0</td>\n",
       "      <td>1097</td>\n",
       "    </tr>\n",
       "    <tr>\n",
       "      <th>21</th>\n",
       "      <td>1.785070e+04</td>\n",
       "      <td>-0.948088</td>\n",
       "      <td>0.196583</td>\n",
       "      <td>0.249970</td>\n",
       "      <td>73.196</td>\n",
       "      <td>-358.351</td>\n",
       "      <td>-114.550</td>\n",
       "      <td>344.253877</td>\n",
       "      <td>0</td>\n",
       "      <td>486</td>\n",
       "    </tr>\n",
       "    <tr>\n",
       "      <th>22</th>\n",
       "      <td>1.151930e+04</td>\n",
       "      <td>-0.074011</td>\n",
       "      <td>-0.444540</td>\n",
       "      <td>0.892697</td>\n",
       "      <td>124.041</td>\n",
       "      <td>178.239</td>\n",
       "      <td>263.416</td>\n",
       "      <td>308.240219</td>\n",
       "      <td>0</td>\n",
       "      <td>2087</td>\n",
       "    </tr>\n",
       "    <tr>\n",
       "      <th>23</th>\n",
       "      <td>3.703830e+04</td>\n",
       "      <td>-0.280043</td>\n",
       "      <td>-0.942312</td>\n",
       "      <td>0.183370</td>\n",
       "      <td>262.715</td>\n",
       "      <td>655.526</td>\n",
       "      <td>-180.328</td>\n",
       "      <td>81.065315</td>\n",
       "      <td>0</td>\n",
       "      <td>1190</td>\n",
       "    </tr>\n",
       "    <tr>\n",
       "      <th>24</th>\n",
       "      <td>3.858540e+03</td>\n",
       "      <td>0.311166</td>\n",
       "      <td>-0.950326</td>\n",
       "      <td>0.007453</td>\n",
       "      <td>-416.093</td>\n",
       "      <td>570.614</td>\n",
       "      <td>-292.908</td>\n",
       "      <td>361.042508</td>\n",
       "      <td>0</td>\n",
       "      <td>479</td>\n",
       "    </tr>\n",
       "    <tr>\n",
       "      <th>25</th>\n",
       "      <td>3.966260e+04</td>\n",
       "      <td>-0.791079</td>\n",
       "      <td>0.387536</td>\n",
       "      <td>-0.473297</td>\n",
       "      <td>193.790</td>\n",
       "      <td>-178.388</td>\n",
       "      <td>-271.005</td>\n",
       "      <td>365.995569</td>\n",
       "      <td>0</td>\n",
       "      <td>582</td>\n",
       "    </tr>\n",
       "    <tr>\n",
       "      <th>26</th>\n",
       "      <td>3.153880e+03</td>\n",
       "      <td>0.986513</td>\n",
       "      <td>0.152499</td>\n",
       "      <td>0.059472</td>\n",
       "      <td>-219.461</td>\n",
       "      <td>-468.834</td>\n",
       "      <td>-33.880</td>\n",
       "      <td>430.126854</td>\n",
       "      <td>0</td>\n",
       "      <td>1735</td>\n",
       "    </tr>\n",
       "    <tr>\n",
       "      <th>27</th>\n",
       "      <td>7.228320e+04</td>\n",
       "      <td>-0.258925</td>\n",
       "      <td>-0.779530</td>\n",
       "      <td>-0.570343</td>\n",
       "      <td>-371.572</td>\n",
       "      <td>121.129</td>\n",
       "      <td>154.982</td>\n",
       "      <td>411.408114</td>\n",
       "      <td>0</td>\n",
       "      <td>781</td>\n",
       "    </tr>\n",
       "    <tr>\n",
       "      <th>28</th>\n",
       "      <td>5.515090e+01</td>\n",
       "      <td>0.374230</td>\n",
       "      <td>0.352587</td>\n",
       "      <td>0.857691</td>\n",
       "      <td>246.576</td>\n",
       "      <td>189.791</td>\n",
       "      <td>-361.570</td>\n",
       "      <td>452.521657</td>\n",
       "      <td>0</td>\n",
       "      <td>44</td>\n",
       "    </tr>\n",
       "    <tr>\n",
       "      <th>29</th>\n",
       "      <td>1.752290e+03</td>\n",
       "      <td>0.928014</td>\n",
       "      <td>0.276873</td>\n",
       "      <td>-0.249261</td>\n",
       "      <td>-704.453</td>\n",
       "      <td>-43.418</td>\n",
       "      <td>471.551</td>\n",
       "      <td>327.010717</td>\n",
       "      <td>0</td>\n",
       "      <td>188</td>\n",
       "    </tr>\n",
       "    <tr>\n",
       "      <th>...</th>\n",
       "      <td>...</td>\n",
       "      <td>...</td>\n",
       "      <td>...</td>\n",
       "      <td>...</td>\n",
       "      <td>...</td>\n",
       "      <td>...</td>\n",
       "      <td>...</td>\n",
       "      <td>...</td>\n",
       "      <td>...</td>\n",
       "      <td>...</td>\n",
       "    </tr>\n",
       "    <tr>\n",
       "      <th>12</th>\n",
       "      <td>6.099710e+03</td>\n",
       "      <td>-0.111094</td>\n",
       "      <td>-0.594540</td>\n",
       "      <td>-0.796355</td>\n",
       "      <td>22.215</td>\n",
       "      <td>82.940</td>\n",
       "      <td>508.645</td>\n",
       "      <td>239.559520</td>\n",
       "      <td>99</td>\n",
       "      <td>438</td>\n",
       "    </tr>\n",
       "    <tr>\n",
       "      <th>13</th>\n",
       "      <td>6.457500e+03</td>\n",
       "      <td>-0.621071</td>\n",
       "      <td>-0.208082</td>\n",
       "      <td>-0.755628</td>\n",
       "      <td>499.720</td>\n",
       "      <td>-105.502</td>\n",
       "      <td>508.679</td>\n",
       "      <td>258.789124</td>\n",
       "      <td>99</td>\n",
       "      <td>480</td>\n",
       "    </tr>\n",
       "    <tr>\n",
       "      <th>14</th>\n",
       "      <td>1.187940e+03</td>\n",
       "      <td>-0.314170</td>\n",
       "      <td>-0.540110</td>\n",
       "      <td>0.780755</td>\n",
       "      <td>528.690</td>\n",
       "      <td>18.933</td>\n",
       "      <td>-405.716</td>\n",
       "      <td>448.709305</td>\n",
       "      <td>99</td>\n",
       "      <td>457</td>\n",
       "    </tr>\n",
       "    <tr>\n",
       "      <th>15</th>\n",
       "      <td>1.891240e+03</td>\n",
       "      <td>0.644727</td>\n",
       "      <td>0.750689</td>\n",
       "      <td>-0.144202</td>\n",
       "      <td>-459.007</td>\n",
       "      <td>-536.680</td>\n",
       "      <td>263.242</td>\n",
       "      <td>158.662826</td>\n",
       "      <td>99</td>\n",
       "      <td>163</td>\n",
       "    </tr>\n",
       "    <tr>\n",
       "      <th>16</th>\n",
       "      <td>2.057900e+03</td>\n",
       "      <td>-0.324958</td>\n",
       "      <td>-0.674084</td>\n",
       "      <td>0.663334</td>\n",
       "      <td>340.269</td>\n",
       "      <td>322.974</td>\n",
       "      <td>-405.932</td>\n",
       "      <td>166.750429</td>\n",
       "      <td>99</td>\n",
       "      <td>402</td>\n",
       "    </tr>\n",
       "    <tr>\n",
       "      <th>17</th>\n",
       "      <td>1.732560e+06</td>\n",
       "      <td>0.071035</td>\n",
       "      <td>-0.366096</td>\n",
       "      <td>-0.927862</td>\n",
       "      <td>-220.872</td>\n",
       "      <td>-136.252</td>\n",
       "      <td>376.830</td>\n",
       "      <td>331.418682</td>\n",
       "      <td>99</td>\n",
       "      <td>1313</td>\n",
       "    </tr>\n",
       "    <tr>\n",
       "      <th>18</th>\n",
       "      <td>5.478850e+04</td>\n",
       "      <td>-0.891315</td>\n",
       "      <td>-0.451386</td>\n",
       "      <td>-0.042527</td>\n",
       "      <td>173.206</td>\n",
       "      <td>-364.078</td>\n",
       "      <td>403.307</td>\n",
       "      <td>570.226275</td>\n",
       "      <td>99</td>\n",
       "      <td>798</td>\n",
       "    </tr>\n",
       "    <tr>\n",
       "      <th>19</th>\n",
       "      <td>4.822230e+02</td>\n",
       "      <td>-0.506306</td>\n",
       "      <td>-0.547703</td>\n",
       "      <td>0.666089</td>\n",
       "      <td>148.287</td>\n",
       "      <td>133.807</td>\n",
       "      <td>-327.800</td>\n",
       "      <td>113.448161</td>\n",
       "      <td>99</td>\n",
       "      <td>1556</td>\n",
       "    </tr>\n",
       "    <tr>\n",
       "      <th>20</th>\n",
       "      <td>1.391260e+03</td>\n",
       "      <td>-0.516284</td>\n",
       "      <td>-0.776965</td>\n",
       "      <td>-0.360244</td>\n",
       "      <td>427.388</td>\n",
       "      <td>562.204</td>\n",
       "      <td>139.581</td>\n",
       "      <td>131.555696</td>\n",
       "      <td>99</td>\n",
       "      <td>166</td>\n",
       "    </tr>\n",
       "    <tr>\n",
       "      <th>21</th>\n",
       "      <td>1.453950e+05</td>\n",
       "      <td>-0.260077</td>\n",
       "      <td>0.132819</td>\n",
       "      <td>-0.956409</td>\n",
       "      <td>466.046</td>\n",
       "      <td>-60.656</td>\n",
       "      <td>508.679</td>\n",
       "      <td>316.954421</td>\n",
       "      <td>99</td>\n",
       "      <td>926</td>\n",
       "    </tr>\n",
       "    <tr>\n",
       "      <th>22</th>\n",
       "      <td>2.604390e+04</td>\n",
       "      <td>0.277311</td>\n",
       "      <td>-0.960780</td>\n",
       "      <td>0.000390</td>\n",
       "      <td>-53.398</td>\n",
       "      <td>704.168</td>\n",
       "      <td>348.185</td>\n",
       "      <td>377.025049</td>\n",
       "      <td>99</td>\n",
       "      <td>1011</td>\n",
       "    </tr>\n",
       "    <tr>\n",
       "      <th>23</th>\n",
       "      <td>3.681360e+03</td>\n",
       "      <td>0.275992</td>\n",
       "      <td>-0.930415</td>\n",
       "      <td>-0.241160</td>\n",
       "      <td>-27.820</td>\n",
       "      <td>517.402</td>\n",
       "      <td>-58.060</td>\n",
       "      <td>214.834929</td>\n",
       "      <td>99</td>\n",
       "      <td>1717</td>\n",
       "    </tr>\n",
       "    <tr>\n",
       "      <th>24</th>\n",
       "      <td>2.561510e+05</td>\n",
       "      <td>-0.345491</td>\n",
       "      <td>0.891931</td>\n",
       "      <td>-0.291710</td>\n",
       "      <td>609.884</td>\n",
       "      <td>-356.055</td>\n",
       "      <td>-210.462</td>\n",
       "      <td>570.122387</td>\n",
       "      <td>99</td>\n",
       "      <td>1113</td>\n",
       "    </tr>\n",
       "    <tr>\n",
       "      <th>25</th>\n",
       "      <td>3.191680e+02</td>\n",
       "      <td>0.920785</td>\n",
       "      <td>0.018904</td>\n",
       "      <td>0.389613</td>\n",
       "      <td>261.696</td>\n",
       "      <td>275.626</td>\n",
       "      <td>60.588</td>\n",
       "      <td>274.487038</td>\n",
       "      <td>99</td>\n",
       "      <td>49</td>\n",
       "    </tr>\n",
       "    <tr>\n",
       "      <th>26</th>\n",
       "      <td>4.969410e+02</td>\n",
       "      <td>-0.215391</td>\n",
       "      <td>0.654250</td>\n",
       "      <td>0.724958</td>\n",
       "      <td>-177.345</td>\n",
       "      <td>0.619</td>\n",
       "      <td>-335.814</td>\n",
       "      <td>319.781521</td>\n",
       "      <td>99</td>\n",
       "      <td>67</td>\n",
       "    </tr>\n",
       "    <tr>\n",
       "      <th>27</th>\n",
       "      <td>1.847020e+03</td>\n",
       "      <td>-0.245868</td>\n",
       "      <td>0.241946</td>\n",
       "      <td>-0.938622</td>\n",
       "      <td>451.764</td>\n",
       "      <td>-433.038</td>\n",
       "      <td>508.679</td>\n",
       "      <td>411.943490</td>\n",
       "      <td>99</td>\n",
       "      <td>565</td>\n",
       "    </tr>\n",
       "    <tr>\n",
       "      <th>28</th>\n",
       "      <td>5.262780e+03</td>\n",
       "      <td>-0.511239</td>\n",
       "      <td>-0.817181</td>\n",
       "      <td>0.266176</td>\n",
       "      <td>359.511</td>\n",
       "      <td>198.829</td>\n",
       "      <td>-405.932</td>\n",
       "      <td>356.582283</td>\n",
       "      <td>99</td>\n",
       "      <td>1451</td>\n",
       "    </tr>\n",
       "    <tr>\n",
       "      <th>29</th>\n",
       "      <td>8.002480e+03</td>\n",
       "      <td>-0.655874</td>\n",
       "      <td>0.465155</td>\n",
       "      <td>0.594525</td>\n",
       "      <td>331.632</td>\n",
       "      <td>-622.856</td>\n",
       "      <td>-405.932</td>\n",
       "      <td>319.926335</td>\n",
       "      <td>99</td>\n",
       "      <td>942</td>\n",
       "    </tr>\n",
       "    <tr>\n",
       "      <th>30</th>\n",
       "      <td>1.554830e+02</td>\n",
       "      <td>-0.200206</td>\n",
       "      <td>0.427330</td>\n",
       "      <td>-0.881650</td>\n",
       "      <td>-340.671</td>\n",
       "      <td>-280.256</td>\n",
       "      <td>199.609</td>\n",
       "      <td>427.397068</td>\n",
       "      <td>99</td>\n",
       "      <td>48</td>\n",
       "    </tr>\n",
       "    <tr>\n",
       "      <th>31</th>\n",
       "      <td>1.823180e+04</td>\n",
       "      <td>-0.596033</td>\n",
       "      <td>-0.763452</td>\n",
       "      <td>0.248768</td>\n",
       "      <td>538.384</td>\n",
       "      <td>457.026</td>\n",
       "      <td>-270.966</td>\n",
       "      <td>169.291624</td>\n",
       "      <td>99</td>\n",
       "      <td>810</td>\n",
       "    </tr>\n",
       "    <tr>\n",
       "      <th>32</th>\n",
       "      <td>2.728210e+05</td>\n",
       "      <td>0.958433</td>\n",
       "      <td>-0.195352</td>\n",
       "      <td>-0.207951</td>\n",
       "      <td>-532.370</td>\n",
       "      <td>464.022</td>\n",
       "      <td>-335.901</td>\n",
       "      <td>574.075454</td>\n",
       "      <td>99</td>\n",
       "      <td>1159</td>\n",
       "    </tr>\n",
       "    <tr>\n",
       "      <th>33</th>\n",
       "      <td>2.713180e+04</td>\n",
       "      <td>-0.428067</td>\n",
       "      <td>0.140547</td>\n",
       "      <td>-0.892752</td>\n",
       "      <td>173.896</td>\n",
       "      <td>-130.394</td>\n",
       "      <td>143.988</td>\n",
       "      <td>137.827340</td>\n",
       "      <td>99</td>\n",
       "      <td>2292</td>\n",
       "    </tr>\n",
       "    <tr>\n",
       "      <th>34</th>\n",
       "      <td>2.273340e+05</td>\n",
       "      <td>-0.207398</td>\n",
       "      <td>-0.812450</td>\n",
       "      <td>-0.544896</td>\n",
       "      <td>313.055</td>\n",
       "      <td>633.030</td>\n",
       "      <td>-71.863</td>\n",
       "      <td>460.667671</td>\n",
       "      <td>99</td>\n",
       "      <td>1090</td>\n",
       "    </tr>\n",
       "    <tr>\n",
       "      <th>35</th>\n",
       "      <td>1.061680e+03</td>\n",
       "      <td>-0.868050</td>\n",
       "      <td>-0.431051</td>\n",
       "      <td>0.246343</td>\n",
       "      <td>422.266</td>\n",
       "      <td>10.783</td>\n",
       "      <td>-405.834</td>\n",
       "      <td>348.029837</td>\n",
       "      <td>99</td>\n",
       "      <td>124</td>\n",
       "    </tr>\n",
       "    <tr>\n",
       "      <th>36</th>\n",
       "      <td>9.239880e+07</td>\n",
       "      <td>-0.970801</td>\n",
       "      <td>0.228306</td>\n",
       "      <td>0.073626</td>\n",
       "      <td>-680.148</td>\n",
       "      <td>52.736</td>\n",
       "      <td>76.813</td>\n",
       "      <td>107.797051</td>\n",
       "      <td>99</td>\n",
       "      <td>2571</td>\n",
       "    </tr>\n",
       "    <tr>\n",
       "      <th>37</th>\n",
       "      <td>3.626790e+02</td>\n",
       "      <td>0.625993</td>\n",
       "      <td>0.653584</td>\n",
       "      <td>0.425394</td>\n",
       "      <td>284.535</td>\n",
       "      <td>119.193</td>\n",
       "      <td>-107.681</td>\n",
       "      <td>250.145724</td>\n",
       "      <td>99</td>\n",
       "      <td>1626</td>\n",
       "    </tr>\n",
       "    <tr>\n",
       "      <th>38</th>\n",
       "      <td>2.954270e+03</td>\n",
       "      <td>-0.080080</td>\n",
       "      <td>0.809266</td>\n",
       "      <td>0.581959</td>\n",
       "      <td>53.284</td>\n",
       "      <td>-704.198</td>\n",
       "      <td>-120.925</td>\n",
       "      <td>312.963446</td>\n",
       "      <td>99</td>\n",
       "      <td>471</td>\n",
       "    </tr>\n",
       "    <tr>\n",
       "      <th>39</th>\n",
       "      <td>3.206870e+04</td>\n",
       "      <td>-0.375008</td>\n",
       "      <td>-0.430441</td>\n",
       "      <td>0.821029</td>\n",
       "      <td>51.889</td>\n",
       "      <td>-300.573</td>\n",
       "      <td>219.623</td>\n",
       "      <td>238.816266</td>\n",
       "      <td>99</td>\n",
       "      <td>700</td>\n",
       "    </tr>\n",
       "    <tr>\n",
       "      <th>40</th>\n",
       "      <td>4.179570e+02</td>\n",
       "      <td>-0.937135</td>\n",
       "      <td>0.283059</td>\n",
       "      <td>-0.204098</td>\n",
       "      <td>703.326</td>\n",
       "      <td>-63.765</td>\n",
       "      <td>361.180</td>\n",
       "      <td>255.673105</td>\n",
       "      <td>99</td>\n",
       "      <td>25</td>\n",
       "    </tr>\n",
       "    <tr>\n",
       "      <th>41</th>\n",
       "      <td>1.801450e+04</td>\n",
       "      <td>0.092803</td>\n",
       "      <td>-0.642246</td>\n",
       "      <td>0.760860</td>\n",
       "      <td>-111.957</td>\n",
       "      <td>584.027</td>\n",
       "      <td>-405.889</td>\n",
       "      <td>190.552768</td>\n",
       "      <td>99</td>\n",
       "      <td>755</td>\n",
       "    </tr>\n",
       "  </tbody>\n",
       "</table>\n",
       "<p>51818 rows × 10 columns</p>\n",
       "</div>"
      ],
      "text/plain": [
       "               E      dirx      diry      dirz     posx     posy     posz  \\\n",
       "0   7.363040e+02 -0.827540  0.396100  0.397850 -272.307   -4.084 -158.369   \n",
       "1   2.120990e+03  0.197537 -0.333124 -0.921959 -156.908   46.530  209.152   \n",
       "2   1.203270e+04 -0.504102 -0.812768  0.292043  667.434  230.793  114.812   \n",
       "3   4.933900e+04 -0.174727  0.916099  0.360880   -2.678   55.944   37.402   \n",
       "4   6.110150e+03  0.851402 -0.317798  0.417277 -330.826  276.509 -343.280   \n",
       "5   1.038740e+04  0.772722  0.486062 -0.408222   -6.944  205.169  331.969   \n",
       "6   1.906520e+02 -0.333934 -0.742683  0.580439 -372.718 -140.365   23.792   \n",
       "7   1.942250e+03 -0.268279 -0.205900  0.941080  259.641  477.066 -167.664   \n",
       "8   2.120080e+03 -0.852656 -0.522089 -0.020023  380.565 -103.219 -201.567   \n",
       "9   5.926120e+03  0.771974 -0.539742 -0.335760 -610.447    2.364  508.467   \n",
       "10  6.734790e+02 -0.732152 -0.517985  0.442318  487.259  511.187 -364.016   \n",
       "11  1.934990e+03  0.989156  0.098134 -0.109273 -705.448  -32.805  -69.313   \n",
       "12  2.456390e+02 -0.937331  0.345366  0.046179  683.065  179.321 -131.127   \n",
       "13  3.454300e+02  0.511697  0.361616  0.779359   28.363 -284.120 -405.629   \n",
       "14  1.301270e+04 -0.537594 -0.838616  0.087840 -227.526 -132.630 -376.779   \n",
       "15  2.530900e+03 -0.966419 -0.247645  0.068597  125.809 -480.442  140.963   \n",
       "16  7.225480e+03  0.552347  0.646637  0.526093 -417.838 -569.337   24.761   \n",
       "17  1.763350e+03 -0.069822 -0.953333  0.293735 -105.351  698.309 -376.134   \n",
       "18  5.794110e+03 -0.091679  0.995595  0.019631 -319.448 -629.831   51.962   \n",
       "19  1.300590e+03 -0.540776  0.517256  0.663331  260.004 -380.367 -116.214   \n",
       "20  1.929690e+04 -0.801409 -0.468944  0.371260  396.936  584.083  238.873   \n",
       "21  1.785070e+04 -0.948088  0.196583  0.249970   73.196 -358.351 -114.550   \n",
       "22  1.151930e+04 -0.074011 -0.444540  0.892697  124.041  178.239  263.416   \n",
       "23  3.703830e+04 -0.280043 -0.942312  0.183370  262.715  655.526 -180.328   \n",
       "24  3.858540e+03  0.311166 -0.950326  0.007453 -416.093  570.614 -292.908   \n",
       "25  3.966260e+04 -0.791079  0.387536 -0.473297  193.790 -178.388 -271.005   \n",
       "26  3.153880e+03  0.986513  0.152499  0.059472 -219.461 -468.834  -33.880   \n",
       "27  7.228320e+04 -0.258925 -0.779530 -0.570343 -371.572  121.129  154.982   \n",
       "28  5.515090e+01  0.374230  0.352587  0.857691  246.576  189.791 -361.570   \n",
       "29  1.752290e+03  0.928014  0.276873 -0.249261 -704.453  -43.418  471.551   \n",
       "..           ...       ...       ...       ...      ...      ...      ...   \n",
       "12  6.099710e+03 -0.111094 -0.594540 -0.796355   22.215   82.940  508.645   \n",
       "13  6.457500e+03 -0.621071 -0.208082 -0.755628  499.720 -105.502  508.679   \n",
       "14  1.187940e+03 -0.314170 -0.540110  0.780755  528.690   18.933 -405.716   \n",
       "15  1.891240e+03  0.644727  0.750689 -0.144202 -459.007 -536.680  263.242   \n",
       "16  2.057900e+03 -0.324958 -0.674084  0.663334  340.269  322.974 -405.932   \n",
       "17  1.732560e+06  0.071035 -0.366096 -0.927862 -220.872 -136.252  376.830   \n",
       "18  5.478850e+04 -0.891315 -0.451386 -0.042527  173.206 -364.078  403.307   \n",
       "19  4.822230e+02 -0.506306 -0.547703  0.666089  148.287  133.807 -327.800   \n",
       "20  1.391260e+03 -0.516284 -0.776965 -0.360244  427.388  562.204  139.581   \n",
       "21  1.453950e+05 -0.260077  0.132819 -0.956409  466.046  -60.656  508.679   \n",
       "22  2.604390e+04  0.277311 -0.960780  0.000390  -53.398  704.168  348.185   \n",
       "23  3.681360e+03  0.275992 -0.930415 -0.241160  -27.820  517.402  -58.060   \n",
       "24  2.561510e+05 -0.345491  0.891931 -0.291710  609.884 -356.055 -210.462   \n",
       "25  3.191680e+02  0.920785  0.018904  0.389613  261.696  275.626   60.588   \n",
       "26  4.969410e+02 -0.215391  0.654250  0.724958 -177.345    0.619 -335.814   \n",
       "27  1.847020e+03 -0.245868  0.241946 -0.938622  451.764 -433.038  508.679   \n",
       "28  5.262780e+03 -0.511239 -0.817181  0.266176  359.511  198.829 -405.932   \n",
       "29  8.002480e+03 -0.655874  0.465155  0.594525  331.632 -622.856 -405.932   \n",
       "30  1.554830e+02 -0.200206  0.427330 -0.881650 -340.671 -280.256  199.609   \n",
       "31  1.823180e+04 -0.596033 -0.763452  0.248768  538.384  457.026 -270.966   \n",
       "32  2.728210e+05  0.958433 -0.195352 -0.207951 -532.370  464.022 -335.901   \n",
       "33  2.713180e+04 -0.428067  0.140547 -0.892752  173.896 -130.394  143.988   \n",
       "34  2.273340e+05 -0.207398 -0.812450 -0.544896  313.055  633.030  -71.863   \n",
       "35  1.061680e+03 -0.868050 -0.431051  0.246343  422.266   10.783 -405.834   \n",
       "36  9.239880e+07 -0.970801  0.228306  0.073626 -680.148   52.736   76.813   \n",
       "37  3.626790e+02  0.625993  0.653584  0.425394  284.535  119.193 -107.681   \n",
       "38  2.954270e+03 -0.080080  0.809266  0.581959   53.284 -704.198 -120.925   \n",
       "39  3.206870e+04 -0.375008 -0.430441  0.821029   51.889 -300.573  219.623   \n",
       "40  4.179570e+02 -0.937135  0.283059 -0.204098  703.326  -63.765  361.180   \n",
       "41  1.801450e+04  0.092803 -0.642246  0.760860 -111.957  584.027 -405.889   \n",
       "\n",
       "          dist  file_evt_index  evt_index  \n",
       "0   270.957155               0       1608  \n",
       "1   115.123164               0        173  \n",
       "2   520.883049               0        463  \n",
       "3    16.814229               0       2353  \n",
       "4   201.986057               0       2129  \n",
       "5   388.139268               0       1966  \n",
       "6   316.814125               0       1583  \n",
       "7   465.892804               0       1963  \n",
       "8   353.632526               0        259  \n",
       "9   466.285120               0        445  \n",
       "10  137.344577               0        246  \n",
       "11  150.578447               0        175  \n",
       "12  417.642957               0        480  \n",
       "13  287.327099               0        647  \n",
       "14  413.693864               0       2145  \n",
       "15  516.210120               0       1833  \n",
       "16  395.025406               0        944  \n",
       "17  221.544331               0        211  \n",
       "18  381.213434               0        693  \n",
       "19  232.436938               0       1761  \n",
       "20  549.939482               0       1097  \n",
       "21  344.253877               0        486  \n",
       "22  308.240219               0       2087  \n",
       "23   81.065315               0       1190  \n",
       "24  361.042508               0        479  \n",
       "25  365.995569               0        582  \n",
       "26  430.126854               0       1735  \n",
       "27  411.408114               0        781  \n",
       "28  452.521657               0         44  \n",
       "29  327.010717               0        188  \n",
       "..         ...             ...        ...  \n",
       "12  239.559520              99        438  \n",
       "13  258.789124              99        480  \n",
       "14  448.709305              99        457  \n",
       "15  158.662826              99        163  \n",
       "16  166.750429              99        402  \n",
       "17  331.418682              99       1313  \n",
       "18  570.226275              99        798  \n",
       "19  113.448161              99       1556  \n",
       "20  131.555696              99        166  \n",
       "21  316.954421              99        926  \n",
       "22  377.025049              99       1011  \n",
       "23  214.834929              99       1717  \n",
       "24  570.122387              99       1113  \n",
       "25  274.487038              99         49  \n",
       "26  319.781521              99         67  \n",
       "27  411.943490              99        565  \n",
       "28  356.582283              99       1451  \n",
       "29  319.926335              99        942  \n",
       "30  427.397068              99         48  \n",
       "31  169.291624              99        810  \n",
       "32  574.075454              99       1159  \n",
       "33  137.827340              99       2292  \n",
       "34  460.667671              99       1090  \n",
       "35  348.029837              99        124  \n",
       "36  107.797051              99       2571  \n",
       "37  250.145724              99       1626  \n",
       "38  312.963446              99        471  \n",
       "39  238.816266              99        700  \n",
       "40  255.673105              99         25  \n",
       "41  190.552768              99        755  \n",
       "\n",
       "[51818 rows x 10 columns]"
      ]
     },
     "execution_count": 53,
     "metadata": {},
     "output_type": "execute_result"
    }
   ],
   "source": [
    "metadata"
   ]
  },
  {
   "cell_type": "code",
   "execution_count": 62,
   "metadata": {},
   "outputs": [
    {
     "data": {
      "text/plain": [
       "E                  736.304000\n",
       "dirx                -0.827540\n",
       "diry                 0.396100\n",
       "dirz                 0.397850\n",
       "posx              -272.307000\n",
       "posy                -4.084000\n",
       "posz              -158.369000\n",
       "dist               270.957155\n",
       "file_evt_index       0.000000\n",
       "evt_index         1608.000000\n",
       "Name: 0, dtype: float64"
      ]
     },
     "execution_count": 62,
     "metadata": {},
     "output_type": "execute_result"
    }
   ],
   "source": [
    "metadata.iloc[0]"
   ]
  },
  {
   "cell_type": "code",
   "execution_count": 64,
   "metadata": {
    "collapsed": true
   },
   "outputs": [],
   "source": [
    "import matplotlib.pyplot as plt"
   ]
  },
  {
   "cell_type": "code",
   "execution_count": 95,
   "metadata": {
    "collapsed": true
   },
   "outputs": [],
   "source": [
    "mismatches = np.argwhere(y_pred!=y_true).ravel()"
   ]
  },
  {
   "cell_type": "code",
   "execution_count": 96,
   "metadata": {},
   "outputs": [
    {
     "data": {
      "text/plain": [
       "<matplotlib.axes._subplots.AxesSubplot at 0x7fead712f090>"
      ]
     },
     "execution_count": 96,
     "metadata": {},
     "output_type": "execute_result"
    },
    {
     "data": {
      "image/png": "[encoded data removed]",
      "text/plain": [
       "<matplotlib.figure.Figure at 0x7fead70ca250>"
      ]
     },
     "metadata": {},
     "output_type": "display_data"
    }
   ],
   "source": [
    "metadata.iloc[mismatches][\"dist\"].hist()"
   ]
  },
  {
   "cell_type": "code",
   "execution_count": 97,
   "metadata": {},
   "outputs": [
    {
     "data": {
      "text/plain": [
       "<matplotlib.axes._subplots.AxesSubplot at 0x7fead7579d90>"
      ]
     },
     "execution_count": 97,
     "metadata": {},
     "output_type": "execute_result"
    },
    {
     "data": {
      "image/png": "[encoded data removed]",
      "text/plain": [
       "<matplotlib.figure.Figure at 0x7fead74e8850>"
      ]
     },
     "metadata": {},
     "output_type": "display_data"
    }
   ],
   "source": [
    "metadata.iloc[mismatches][\"E\"].hist()"
   ]
  },
  {
   "cell_type": "code",
   "execution_count": 288,
   "metadata": {
    "collapsed": true
   },
   "outputs": [],
   "source": [
    "from sklearn.metrics import roc_curve, auc, roc_auc_score\n",
    "from keras.utils import to_categorical"
   ]
  },
  {
   "cell_type": "code",
   "execution_count": 291,
   "metadata": {
    "collapsed": true
   },
   "outputs": [],
   "source": [
    "n_classes = 2\n",
    "fpr = dict()\n",
    "tpr=dict()\n",
    "roc_auc=dict()\n",
    "Y_true = to_categorical(y_true)\n",
    "for i in range(n_classes):\n",
    "    fpr[i], tpr[i], _ = roc_curve(Y_true[:,i], Y_probs[:,i])\n",
    "    roc_auc[i] = auc(fpr[i], tpr[i])\n",
    "    \n",
    "fpr[\"micro\"], tpr[\"micro\"], _ = roc_curve(y_true, y_pred)\n",
    "roc_auc[\"micro\"] = auc(fpr[\"micro\"], tpr[\"micro\"])"
   ]
  },
  {
   "cell_type": "code",
   "execution_count": 295,
   "metadata": {},
   "outputs": [
    {
     "data": {
      "image/png": "[encoded data removed]",
      "text/plain": [
       "<matplotlib.figure.Figure at 0x7fead630cdd0>"
      ]
     },
     "metadata": {},
     "output_type": "display_data"
    }
   ],
   "source": [
    "plt.figure(figsize=(8, 8))\n",
    "lw = 2\n",
    "plt.plot(fpr[0], tpr[0], color=\"darkorange\",\n",
    "         lw=lw, label=\"ROC curve downgoing (Area=%0.3f)\" % roc_auc[0])\n",
    "plt.plot(fpr[1], tpr[1], color=\"darkgreen\",\n",
    "         lw=lw, label=\"ROC curve upgoing (Area=%0.3f)\" % roc_auc[1])\n",
    "\n",
    "plt.plot([0,1],[0,1], color=\"navy\", lw=lw, linestyle='--')\n",
    "plt.xlim([0.0, 1.0])\n",
    "plt.ylim([0.0, 1.05])\n",
    "plt.xlabel(\"False positive rate\")\n",
    "plt.ylabel(\"True positive rate\")\n",
    "plt.title(\"Receiver operating characteristic curve\")\n",
    "plt.legend(loc=\"lower right\")\n",
    "plt.show()\n"
   ]
  },
  {
   "cell_type": "code",
   "execution_count": 131,
   "metadata": {
    "collapsed": true
   },
   "outputs": [],
   "source": [
    "from sklearn.metrics import recall_score, precision_score, precision_recall_curve"
   ]
  },
  {
   "cell_type": "code",
   "execution_count": 136,
   "metadata": {
    "collapsed": true
   },
   "outputs": [],
   "source": [
    "from sklearn.metrics import average_precision_score"
   ]
  },
  {
   "cell_type": "code",
   "execution_count": 132,
   "metadata": {},
   "outputs": [
    {
     "data": {
      "text/plain": [
       "0.9384609921522673"
      ]
     },
     "execution_count": 132,
     "metadata": {},
     "output_type": "execute_result"
    }
   ],
   "source": [
    "precision_score(y_true, y_pred)"
   ]
  },
  {
   "cell_type": "code",
   "execution_count": 133,
   "metadata": {},
   "outputs": [
    {
     "data": {
      "text/plain": [
       "0.9397624635516677"
      ]
     },
     "execution_count": 133,
     "metadata": {},
     "output_type": "execute_result"
    }
   ],
   "source": [
    "recall_score(y_true, y_pred)"
   ]
  },
  {
   "cell_type": "code",
   "execution_count": 138,
   "metadata": {
    "collapsed": true
   },
   "outputs": [],
   "source": [
    "average_precision = average_precision_score(y_true, y_pred)"
   ]
  },
  {
   "cell_type": "code",
   "execution_count": 141,
   "metadata": {},
   "outputs": [
    {
     "data": {
      "image/png": "[encoded data removed]",
      "text/plain": [
       "<matplotlib.figure.Figure at 0x7fead7273710>"
      ]
     },
     "metadata": {},
     "output_type": "display_data"
    }
   ],
   "source": [
    "precision, recall, _ = precision_recall_curve(y_true, y_pred)\n",
    "plt.step(recall, precision, color=\"b\", alpha=0.2, where='post')\n",
    "plt.fill_between(recall, precision, step='post', alpha=0.2, color='b')\n",
    "plt.xlabel(\"Recall\")\n",
    "plt.ylabel(\"Precision\")\n",
    "plt.xlim([0.0,1.0])\n",
    "plt.ylim([0.0,1.05])\n",
    "plt.title(\"2-class Precision-Recall curve: AP={0:0.2f}\".format(average_precision))\n",
    "\n",
    "plt.show()"
   ]
  },
  {
   "cell_type": "code",
   "execution_count": 222,
   "metadata": {},
   "outputs": [
    {
     "data": {
      "text/plain": [
       "(-1.266700796027743, 7.9684049553376921)"
      ]
     },
     "execution_count": 222,
     "metadata": {},
     "output_type": "execute_result"
    }
   ],
   "source": [
    "E_min = np.min(metadata[\"E\"]) \n",
    "E_max = np.max(metadata[\"E\"])\n",
    "np.log10(E_min), np.log10(E_max)"
   ]
  },
  {
   "cell_type": "code",
   "execution_count": 265,
   "metadata": {},
   "outputs": [
    {
     "data": {
      "text/plain": [
       "<matplotlib.text.Text at 0x7fead30e1390>"
      ]
     },
     "execution_count": 265,
     "metadata": {},
     "output_type": "execute_result"
    },
    {
     "data": {
      "image/png": "[encoded data removed]",
      "text/plain": [
       "<matplotlib.figure.Figure at 0x7fead393a6d0>"
      ]
     },
     "metadata": {},
     "output_type": "display_data"
    }
   ],
   "source": [
    "Energies = metadata[\"E\"]\n",
    "\n",
    "well_energies=metadata.iloc[y_true==y_pred][\"E\"]\n",
    "\n",
    "binned_energies, energy_bins = np.histogram(np.log10(Energies), bins=12, range=(np.log10(E_min), np.log10(E_max)))\n",
    "\n",
    "binned_well_cls, _ = np.histogram(np.log10(well_energies),  bins=12, range=(np.log10(E_min), np.log10(E_max)))\n",
    "\n",
    "eff = np.true_divide(binned_well_cls, binned_energies)\n",
    "\n",
    "plt.plot(energy_bins[:-1],eff)\n",
    "plt.grid()\n",
    "plt.xlabel(\"Energy(log10)\")\n",
    "plt.xlim([-1.4,7.5])\n",
    "plt.ylim([0.0, 1.0])\n",
    "plt.title(\"Classification efficiency\")\n",
    "plt.ylabel(\"well_classified / total test events\", size=12)"
   ]
  },
  {
   "cell_type": "code",
   "execution_count": 232,
   "metadata": {},
   "outputs": [
    {
     "data": {
      "text/plain": [
       "1.8131004306389762"
      ]
     },
     "execution_count": 232,
     "metadata": {},
     "output_type": "execute_result"
    }
   ],
   "source": [
    "metadata[\"dist\"].min()"
   ]
  },
  {
   "cell_type": "code",
   "execution_count": 237,
   "metadata": {},
   "outputs": [
    {
     "data": {
      "text/plain": [
       "array([   1.81310043,   71.04312532,  140.2731502 ,  209.50317508,\n",
       "        278.73319997,  347.96322485,  417.19324974,  486.42327462,\n",
       "        555.65329951,  624.88332439,  694.11334928,  763.34337416,\n",
       "        832.57339905])"
      ]
     },
     "execution_count": 237,
     "metadata": {},
     "output_type": "execute_result"
    }
   ],
   "source": [
    "dist_bins"
   ]
  },
  {
   "cell_type": "code",
   "execution_count": 246,
   "metadata": {},
   "outputs": [
    {
     "data": {
      "text/plain": [
       "((12,), (12,))"
      ]
     },
     "execution_count": 246,
     "metadata": {},
     "output_type": "execute_result"
    }
   ],
   "source": [
    "dist_bins[:-1].shape, eff.shape"
   ]
  },
  {
   "cell_type": "code",
   "execution_count": 248,
   "metadata": {},
   "outputs": [
    {
     "data": {
      "text/plain": [
       "array([   1.81310043,   71.04312532,  140.2731502 ,  209.50317508,\n",
       "        278.73319997,  347.96322485,  417.19324974,  486.42327462,\n",
       "        555.65329951,  624.88332439,  694.11334928,  763.34337416,\n",
       "        832.57339905])"
      ]
     },
     "execution_count": 248,
     "metadata": {},
     "output_type": "execute_result"
    }
   ],
   "source": [
    "dist_bins"
   ]
  },
  {
   "cell_type": "code",
   "execution_count": 252,
   "metadata": {},
   "outputs": [
    {
     "data": {
      "text/plain": [
       "<matplotlib.text.Text at 0x7fead38cef10>"
      ]
     },
     "execution_count": 252,
     "metadata": {},
     "output_type": "execute_result"
    },
    {
     "data": {
      "image/png": "[encoded data removed]",
      "text/plain": [
       "<matplotlib.figure.Figure at 0x7fead67e6e50>"
      ]
     },
     "metadata": {},
     "output_type": "display_data"
    }
   ],
   "source": [
    "distances = metadata[\"dist\"]\n",
    "well_dist =metadata.iloc[y_true==y_pred][\"dist\"]\n",
    "\n",
    "binned_distances, dist_bins = np.histogram(distances, bins=12, range=(distances.min(), distances.max()))\n",
    "binned_well_cls, _ = np.histogram(well_dist,  bins=12, range=(distances.min(), distances.max()))\n",
    "\n",
    "eff = np.true_divide(binned_well_cls, binned_distances)\n",
    "\n",
    "plt.plot(dist_bins[:-1], eff)\n",
    "plt.grid()\n",
    "plt.xlabel(\"Distance (m) from the detector centre\")\n",
    "plt.xlim([-0.2,800])\n",
    "plt.ylim([0.0, 1.0])\n",
    "plt.title(\"Classification efficiency\")\n",
    "plt.ylabel(\"well_classified / total test events\", size=12)"
   ]
  },
  {
   "cell_type": "code",
   "execution_count": null,
   "metadata": {
    "collapsed": true
   },
   "outputs": [],
   "source": []
  }
 ],
 "metadata": {
  "kernelspec": {
   "display_name": "Python 2",
   "language": "python",
   "name": "python2"
  },
  "language_info": {
   "codemirror_mode": {
    "name": "ipython",
    "version": 2
   },
   "file_extension": ".py",
   "mimetype": "text/x-python",
   "name": "python",
   "nbconvert_exporter": "python",
   "pygments_lexer": "ipython2",
   "version": "2.7.9"
  }
 },
 "nbformat": 4,
 "nbformat_minor": 2
}
