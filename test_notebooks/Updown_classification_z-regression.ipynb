{
 "cells": [
  {
   "cell_type": "code",
   "execution_count": 1,
   "metadata": {
    "collapsed": true
   },
   "outputs": [],
   "source": [
    "import numpy as np"
   ]
  },
  {
   "cell_type": "code",
   "execution_count": 2,
   "metadata": {
    "collapsed": true
   },
   "outputs": [],
   "source": [
    "import os"
   ]
  },
  {
   "cell_type": "code",
   "execution_count": 3,
   "metadata": {
    "collapsed": true
   },
   "outputs": [],
   "source": [
    "from updown_data import updown_z"
   ]
  },
  {
   "cell_type": "code",
   "execution_count": 4,
   "metadata": {
    "collapsed": true
   },
   "outputs": [],
   "source": [
    "from export_train_test import export_train_validation_test"
   ]
  },
  {
   "cell_type": "markdown",
   "metadata": {
    "collapsed": true
   },
   "source": [
    "for i in range(100):\n",
    "    updown_z(i, \"aafiles/Jpp_v6_aa_files/Xy_files/Xy_numu_\"+str(i+1)+\"_sel5_doms.npz\", \n",
    "             \"aafiles/Jpp_v6_aa_files/Xy_files/numu_\"+str(i+1)+\"_sel5_dir_z.npz\",\n",
    "            \"Xy_files/updown/\", \"Xy_numu\")"
   ]
  },
  {
   "cell_type": "markdown",
   "metadata": {
    "collapsed": true
   },
   "source": [
    "for i in range(100):\n",
    "    updown_z(i, \"aafiles/Jpp_v6_aa_files/Xy_files/Xy_nue_\"+str(i+1)+\"_sel5_doms.npz\", \n",
    "             \"aafiles/Jpp_v6_aa_files/Xy_files/nue_\"+str(i+1)+\"_sel5_dir_z.npz\",\n",
    "            \"Xy_files/updown/\", \"Xy_nue\")"
   ]
  },
  {
   "cell_type": "markdown",
   "metadata": {
    "collapsed": true
   },
   "source": [
    "folder = os.path.join(\"Xy_files\", \"updown\")\n",
    "for i in range(100):\n",
    "    export_train_validation_test(i, os.path.join(folder,\"Xy_numu{}_sel5_doms_updown_z.npz\".format(i+1)),\n",
    "                            os.path.join(folder,\"Xy_nue{}_sel5_doms_updown_z.npz\".format(i+1)),\n",
    "                            out_dir = os.path.join(\"train_test_files\",\"updown_z\"))\n",
    "    print(\"file {} completed\".format(i+1))"
   ]
  },
  {
   "cell_type": "code",
   "execution_count": 4,
   "metadata": {
    "collapsed": true
   },
   "outputs": [],
   "source": [
    "import matplotlib.pyplot as plt\n",
    "\n",
    "% matplotlib inline"
   ]
  },
  {
   "cell_type": "code",
   "execution_count": 5,
   "metadata": {},
   "outputs": [
    {
     "name": "stderr",
     "output_type": "stream",
     "text": [
      "Using TensorFlow backend.\n"
     ]
    }
   ],
   "source": [
    "from keras.layers import Input\n",
    "from keras.layers import concatenate, add\n",
    "from keras.layers.convolutional import Conv2D, MaxPooling2D, AveragePooling2D\n",
    "from keras.layers.core import Flatten, Dense\n",
    "\n",
    "from keras.models import Model\n",
    "from keras.losses import categorical_crossentropy\n",
    "from keras.optimizers import Adadelta\n"
   ]
  },
  {
   "cell_type": "code",
   "execution_count": 6,
   "metadata": {
    "collapsed": true
   },
   "outputs": [],
   "source": [
    "from get_iterations import get_n_iterations, get_class_weights"
   ]
  },
  {
   "cell_type": "code",
   "execution_count": 7,
   "metadata": {
    "collapsed": true
   },
   "outputs": [],
   "source": [
    "from multi_files_generator import Xy_gen_TZ as generator_tz"
   ]
  },
  {
   "cell_type": "code",
   "execution_count": 18,
   "metadata": {
    "collapsed": true
   },
   "outputs": [],
   "source": [
    "from keras.callbacks import EarlyStopping, TensorBoard, ModelCheckpoint"
   ]
  },
  {
   "cell_type": "code",
   "execution_count": 8,
   "metadata": {
    "collapsed": true
   },
   "outputs": [],
   "source": [
    "train_test_dir = os.path.join(\"train_test_files\", \"updown_z\")\n",
    "\n",
    "fnames_train = np.asarray([os.path.join(train_test_dir, \"Xy_train{}_sel5_doms.npz\".format(i+1)) for i in range(100)])\n",
    "fnames_test = np.asarray([os.path.join(train_test_dir, \"Xy_test{}_sel5_doms.npz\".format(i+1)) for i in range(100)])\n",
    "fnames_validation = np.asarray([os.path.join(train_test_dir, \"Xy_val{}_sel5_doms.npz\".format(i+1)) for i in range(100)])\n",
    "\n",
    "#fnames_indx = np.asarray([\"train_test_files/Xy_indx\"+str(i+1)+\"_sel5_updown.npz\"for i in range(100)])"
   ]
  },
  {
   "cell_type": "code",
   "execution_count": 15,
   "metadata": {},
   "outputs": [
    {
     "name": "stdout",
     "output_type": "stream",
     "text": [
      "(2356, 150781)\n",
      "(590, 37749)\n",
      "(738, 47181)\n"
     ]
    }
   ],
   "source": [
    "n_files = 100\n",
    "steps_per_epoch, n_events = get_n_iterations(fnames_train[:n_files])\n",
    "print(steps_per_epoch, n_events)\n",
    "validation_steps, n_evts_val = get_n_iterations(fnames_validation[:n_files])\n",
    "print(validation_steps, n_evts_val)\n",
    "\n",
    "prediction_steps, n_evts_test = get_n_iterations(fnames_test[:n_files])\n",
    "print(prediction_steps, n_evts_test)\n",
    "\n",
    "get_class_weights(fnames_train[:n_files])\n",
    "cls_weights = {i:v for i, v in enumerate(get_class_weights(fnames_train[:n_files]))}\n"
   ]
  },
  {
   "cell_type": "code",
   "execution_count": 16,
   "metadata": {
    "collapsed": true
   },
   "outputs": [],
   "source": [
    "def vgg_tz(num_classes, optimizer, include_dense=False):\n",
    "    \"\"\"VGG inspired Convolutional Networks with multiple inputs\n",
    "    \n",
    "    Parameters\n",
    "    ----------\n",
    "    num_classes : int\n",
    "        Number of classes to predict\n",
    "            \n",
    "    optimizer : keras.optimizers.Optimizer\n",
    "        Instance of Keras optimizer to attach to the resulting network\n",
    "        \n",
    "    include_dense : bool (default False)\n",
    "        Flag indicating wether to include a Dense Layer at the top \n",
    "        of each separate vgg-like sub-network.\n",
    "    \"\"\"\n",
    "    \n",
    "    def _conv_block(input_layer, include_dense=False, pooling_size=(2, 2)):\n",
    "        \"\"\"VGG-inspired Convolutional Blocks\"\"\"\n",
    "        \n",
    "        prefix = input_layer.name.split('_')[0]\n",
    "\n",
    "        # Block 1\n",
    "        x = Conv2D(32, kernel_size=(12, 12), activation='relu', \n",
    "                   padding='same', name='{}_block1_conv1'.format(prefix))(input_layer)\n",
    "        \n",
    "        x = Conv2D(32, kernel_size=(12, 12), activation='relu', \n",
    "                   padding='same', name='{}_block1_conv2'.format(prefix))(x)\n",
    "        \n",
    "        x = AveragePooling2D(pool_size=pooling_size, strides=(2, 2), \n",
    "                         padding='same', name='{}_block1_pool'.format(prefix))(x)\n",
    "\n",
    "        # Block 2\n",
    "        x = Conv2D(64, kernel_size=(12, 12), activation='relu', \n",
    "                   padding='same', name='{}_block2_conv1'.format(prefix))(x)\n",
    "        \n",
    "        x = Conv2D(64, kernel_size=(12, 12), activation='relu', \n",
    "                   padding='same', name='{}_block2_conv2'.format(prefix))(x)\n",
    "        \n",
    "        x = AveragePooling2D(pool_size=pooling_size, strides=(2, 2), \n",
    "                         padding='same', name='{}_block2_pool'.format(prefix))(x)\n",
    "\n",
    "        # Block 3\n",
    "        x = Conv2D(128, kernel_size=(12, 12), activation='relu', \n",
    "                   padding='same', name='{}_block3_conv2'.format(prefix))(x)\n",
    "        \n",
    "        x = AveragePooling2D(pool_size=pooling_size, strides=(2, 2), \n",
    "                             padding='same', name='{}_block3_pool'.format(prefix))(x)\n",
    "        x = Flatten()(x)\n",
    "        if include_dense:\n",
    "            x = Dense(512)(x)\n",
    "        return x\n",
    "\n",
    "\n",
    "    ZT_SHAPE = (1, 75, 18)\n",
    "    zt_layer = Input(shape=ZT_SHAPE, name='zt_input')\n",
    "    \n",
    "    zt_branch = _conv_block(zt_layer, pooling_size=(6, 6))#, include_dense)\n",
    "        \n",
    "    x = Dense(512, activation='relu', name='fc-1')(zt_branch)\n",
    "    x = Dense(512, activation='relu', name='fc-2')(x)\n",
    "    predictions = Dense(num_classes, activation='softmax')(x)\n",
    "\n",
    "    model = Model(inputs=zt_layer, outputs=predictions, name='vgglike_tz')\n",
    "    model.compile(loss=categorical_crossentropy, optimizer=optimizer, metrics=['accuracy'])\n",
    "    return model"
   ]
  },
  {
   "cell_type": "code",
   "execution_count": 20,
   "metadata": {},
   "outputs": [
    {
     "name": "stdout",
     "output_type": "stream",
     "text": [
      "Epoch 1/100\n",
      "2356/2356 [==============================] - 404s - loss: 0.0876 - acc: 0.9600 - val_loss: 0.0119 - val_acc: 0.9966\n",
      "Epoch 2/100\n",
      "2356/2356 [==============================] - 404s - loss: 0.0080 - acc: 0.9976 - val_loss: 0.0044 - val_acc: 0.9988\n",
      "Epoch 3/100\n",
      "2356/2356 [==============================] - 407s - loss: 0.0043 - acc: 0.9988 - val_loss: 0.0028 - val_acc: 0.9993\n",
      "Epoch 4/100\n",
      "2356/2356 [==============================] - 401s - loss: 0.0026 - acc: 0.9992 - val_loss: 0.0016 - val_acc: 0.9995\n",
      "Epoch 5/100\n",
      "2356/2356 [==============================] - 394s - loss: 0.0019 - acc: 0.9994 - val_loss: 0.0035 - val_acc: 0.9993\n",
      "Epoch 6/100\n",
      "2356/2356 [==============================] - 389s - loss: 0.0016 - acc: 0.9996 - val_loss: 0.0023 - val_acc: 0.9994\n",
      "Epoch 7/100\n",
      "2356/2356 [==============================] - 388s - loss: 0.0013 - acc: 0.9996 - val_loss: 0.0039 - val_acc: 0.9991\n",
      "Epoch 8/100\n",
      "2356/2356 [==============================] - 400s - loss: 0.0011 - acc: 0.9997 - val_loss: 0.0021 - val_acc: 0.9994\n",
      "Epoch 9/100\n",
      "2356/2356 [==============================] - 394s - loss: 8.9159e-04 - acc: 0.9997 - val_loss: 0.0016 - val_acc: 0.9996\n",
      "Epoch 10/100\n",
      "2356/2356 [==============================] - 386s - loss: 9.8626e-04 - acc: 0.9997 - val_loss: 0.0015 - val_acc: 0.9997\n",
      "Epoch 11/100\n",
      "2356/2356 [==============================] - 393s - loss: 5.5736e-04 - acc: 0.9998 - val_loss: 0.0022 - val_acc: 0.9997\n",
      "Epoch 12/100\n",
      "2356/2356 [==============================] - 391s - loss: 4.2098e-04 - acc: 0.9999 - val_loss: 0.0033 - val_acc: 0.9994\n",
      "Epoch 13/100\n",
      "2356/2356 [==============================] - 392s - loss: 6.4798e-04 - acc: 0.9998 - val_loss: 0.0023 - val_acc: 0.9997\n",
      "Epoch 14/100\n",
      "2356/2356 [==============================] - 395s - loss: 6.0092e-04 - acc: 0.9998 - val_loss: 0.0016 - val_acc: 0.9997\n",
      "Epoch 15/100\n",
      "2356/2356 [==============================] - 391s - loss: 1.6349e-04 - acc: 1.0000 - val_loss: 0.0021 - val_acc: 0.9997\n",
      "Epoch 16/100\n",
      "2356/2356 [==============================] - 401s - loss: 5.3984e-04 - acc: 0.9999 - val_loss: 0.0022 - val_acc: 0.9997\n"
     ]
    }
   ],
   "source": [
    "b_size = 64\n",
    "epochs = 100\n",
    "fargs = {'num_classes': 2, 'optimizer': Adadelta()}\n",
    "vgg_tz_net = vgg_tz(**fargs)\n",
    "\n",
    "fitargs = {'steps_per_epoch': steps_per_epoch, 'epochs': epochs, 'verbose': 1, 'shuffle': True,\n",
    "           'class_weight' : {i:v for i, v in enumerate(get_class_weights(fnames_train[:n_files]))},\n",
    "           \"callbacks\": [#TensorBoard(batch_size=b_size, histogram_freq=5, embeddings_freq=5,\n",
    "                         #           embeddings_layer_names=[\"zt_block1_conv1\", \"zt_block1_conv2\"]), \n",
    "                         ModelCheckpoint(\"models/vgg_tz_updown_z_cls_weighted_\"+str(n_files)+\"files_\"+str(b_size)+\"_12x12_\"+str(epochs)+\"epochs.hdf5\",\n",
    "                                                        save_best_only=True),\n",
    "                         EarlyStopping(monitor=\"val_loss\", patience=5)]}\n",
    "history_vgg_tz = vgg_tz_net.fit_generator(generator_tz(fnames_train[:n_files], batch_size=b_size), \n",
    "                                          validation_data=generator_tz(fnames_validation[:n_files]),\n",
    "                                          validation_steps=validation_steps, **fitargs)\n",
    "\n",
    "\n"
   ]
  },
  {
   "cell_type": "code",
   "execution_count": 21,
   "metadata": {},
   "outputs": [
    {
     "name": "stdout",
     "output_type": "stream",
     "text": [
      "(738, 47181)\n"
     ]
    }
   ],
   "source": [
    "y_true = list()\n",
    "y_pred = list()\n",
    "\n",
    "predict_steps, n_test_events = get_n_iterations(fnames_test[:n_files], 64)\n",
    "print(predict_steps, n_test_events)\n",
    "\n",
    "data_gen = generator_tz(fnames_test[:n_files], batch_size=64)\n",
    "for i in range(predict_steps):\n",
    "    ZT_batch, Y_batch_true = next(data_gen)\n",
    "    Y_batch_pred = vgg_tz_net.predict_on_batch(ZT_batch)\n",
    "    y_batch_pred = np.argmax(Y_batch_pred, axis=1)\n",
    "    y_batch_true = np.argmax(Y_batch_true, axis=1)\n",
    "    y_true.append(y_batch_true)\n",
    "    y_pred.append(y_batch_pred)\n",
    "    \n",
    "y_true = np.hstack(np.asarray(y_true))\n",
    "y_pred = np.hstack(np.asarray(y_pred))"
   ]
  },
  {
   "cell_type": "code",
   "execution_count": 22,
   "metadata": {},
   "outputs": [
    {
     "name": "stdout",
     "output_type": "stream",
     "text": [
      "0.999597295522\n"
     ]
    }
   ],
   "source": [
    "from sklearn.metrics import accuracy_score\n",
    "score = accuracy_score(y_true, y_pred)\n",
    "print(score)\n"
   ]
  },
  {
   "cell_type": "markdown",
   "metadata": {
    "collapsed": true
   },
   "source": [
    "## Testing Logistic Regression"
   ]
  },
  {
   "cell_type": "markdown",
   "metadata": {},
   "source": [
    "## Model MLP / Logistic Regression-like"
   ]
  },
  {
   "cell_type": "code",
   "execution_count": 27,
   "metadata": {
    "collapsed": true
   },
   "outputs": [],
   "source": [
    "from keras.layers.core import Reshape"
   ]
  },
  {
   "cell_type": "code",
   "execution_count": 29,
   "metadata": {
    "collapsed": true
   },
   "outputs": [],
   "source": [
    "ZT_SHAPE = (1, 75, 18)\n",
    "zt_layer = Input(shape=ZT_SHAPE, name='zt_input')\n",
    "reshape = Reshape(target_shape=(75*18,))(zt_layer)\n",
    "x = Dense(512, activation='sigmoid', name='logistic')(reshape)\n",
    "predictions = Dense(2, activation='softmax')(x)\n",
    "\n",
    "mlp_logistic = Model(inputs=zt_layer, outputs=predictions, name='mlp_logistic')\n",
    "mlp_logistic.compile(loss=categorical_crossentropy, optimizer=Adadelta(), metrics=['accuracy'])\n",
    "    "
   ]
  },
  {
   "cell_type": "code",
   "execution_count": 30,
   "metadata": {},
   "outputs": [
    {
     "name": "stdout",
     "output_type": "stream",
     "text": [
      "_________________________________________________________________\n",
      "Layer (type)                 Output Shape              Param #   \n",
      "=================================================================\n",
      "zt_input (InputLayer)        (None, 1, 75, 18)         0         \n",
      "_________________________________________________________________\n",
      "reshape_2 (Reshape)          (None, 1350)              0         \n",
      "_________________________________________________________________\n",
      "logistic (Dense)             (None, 512)               691712    \n",
      "_________________________________________________________________\n",
      "dense_7 (Dense)              (None, 2)                 1026      \n",
      "=================================================================\n",
      "Total params: 692,738\n",
      "Trainable params: 692,738\n",
      "Non-trainable params: 0\n",
      "_________________________________________________________________\n"
     ]
    }
   ],
   "source": [
    "mlp_logistic.summary()"
   ]
  },
  {
   "cell_type": "code",
   "execution_count": null,
   "metadata": {},
   "outputs": [
    {
     "name": "stdout",
     "output_type": "stream",
     "text": [
      "Epoch 1/100\n",
      "2356/2356 [==============================] - 343s - loss: 0.5479 - acc: 0.7300 - val_loss: 0.5127 - val_acc: 0.7621\n",
      "Epoch 2/100\n",
      "2356/2356 [==============================] - 339s - loss: 0.4896 - acc: 0.7759 - val_loss: 0.4737 - val_acc: 0.7874\n",
      "Epoch 3/100\n",
      "2356/2356 [==============================] - 341s - loss: 0.4536 - acc: 0.7977 - val_loss: 0.4445 - val_acc: 0.8052\n",
      "Epoch 4/100\n",
      "2356/2356 [==============================] - 343s - loss: 0.4256 - acc: 0.8123 - val_loss: 0.4201 - val_acc: 0.8181\n",
      "Epoch 5/100\n",
      "2356/2356 [==============================] - 344s - loss: 0.4017 - acc: 0.8240 - val_loss: 0.3981 - val_acc: 0.8285\n",
      "Epoch 6/100\n",
      "2356/2356 [==============================] - 343s - loss: 0.3800 - acc: 0.8347 - val_loss: 0.3777 - val_acc: 0.8399\n",
      "Epoch 7/100\n",
      "2356/2356 [==============================] - 343s - loss: 0.3597 - acc: 0.8446 - val_loss: 0.3584 - val_acc: 0.8503\n",
      "Epoch 8/100\n",
      "2356/2356 [==============================] - 344s - loss: 0.3406 - acc: 0.8548 - val_loss: 0.3404 - val_acc: 0.8588\n",
      "Epoch 9/100\n",
      "2356/2356 [==============================] - 346s - loss: 0.3227 - acc: 0.8641 - val_loss: 0.3236 - val_acc: 0.8676\n",
      "Epoch 10/100\n",
      "2356/2356 [==============================] - 344s - loss: 0.3061 - acc: 0.8734 - val_loss: 0.3082 - val_acc: 0.8758\n",
      "Epoch 11/100\n",
      "2356/2356 [==============================] - 344s - loss: 0.2907 - acc: 0.8816 - val_loss: 0.2943 - val_acc: 0.8846\n",
      "Epoch 12/100\n",
      "2356/2356 [==============================] - 341s - loss: 0.2766 - acc: 0.8894 - val_loss: 0.2817 - val_acc: 0.8913\n",
      "Epoch 13/100\n",
      "2356/2356 [==============================] - 340s - loss: 0.2639 - acc: 0.8963 - val_loss: 0.2705 - val_acc: 0.8972\n",
      "Epoch 14/100\n",
      "2356/2356 [==============================] - 338s - loss: 0.2523 - acc: 0.9028 - val_loss: 0.2606 - val_acc: 0.9017\n",
      "Epoch 15/100\n",
      "2356/2356 [==============================] - 340s - loss: 0.2420 - acc: 0.9082 - val_loss: 0.2519 - val_acc: 0.9068\n",
      "Epoch 16/100\n",
      "2356/2356 [==============================] - 336s - loss: 0.2327 - acc: 0.9129 - val_loss: 0.2442 - val_acc: 0.9106\n",
      "Epoch 17/100\n",
      "2356/2356 [==============================] - 328s - loss: 0.2243 - acc: 0.9170 - val_loss: 0.2374 - val_acc: 0.9139\n",
      "Epoch 18/100\n",
      "2356/2356 [==============================] - 327s - loss: 0.2168 - acc: 0.9203 - val_loss: 0.2314 - val_acc: 0.9164\n",
      "Epoch 19/100\n",
      "2356/2356 [==============================] - 329s - loss: 0.2099 - acc: 0.9233 - val_loss: 0.2261 - val_acc: 0.9184\n",
      "Epoch 20/100\n",
      "2356/2356 [==============================] - 331s - loss: 0.2037 - acc: 0.9260 - val_loss: 0.2214 - val_acc: 0.9201\n",
      "Epoch 21/100\n",
      "1694/2356 [====================>.........] - ETA: 75s - loss: 0.1993 - acc: 0.9276"
     ]
    }
   ],
   "source": [
    "fitargs = {'steps_per_epoch': steps_per_epoch, 'epochs': epochs, 'verbose': 1, 'shuffle': True,\n",
    "           \"callbacks\": [#TensorBoard(batch_size=b_size, histogram_freq=5, embeddings_freq=5,\n",
    "                         #           embeddings_layer_names=[\"zt_block1_conv1\", \"zt_block1_conv2\"]), \n",
    "                         ModelCheckpoint(\"models/mlp_logistic\"+str(n_files)+\"files_\"+str(b_size)+\"_12x12_\"+str(epochs)+\"epochs.hdf5\",\n",
    "                                                        save_best_only=True),\n",
    "                         EarlyStopping(monitor=\"val_loss\", patience=5)]}\n",
    "history_mlp_logistic = mlp_logistic.fit_generator(generator_tz(fnames_train[:n_files], batch_size=b_size), \n",
    "                                          validation_data=generator_tz(fnames_validation[:n_files]),\n",
    "                                          validation_steps=validation_steps, **fitargs)\n"
   ]
  },
  {
   "cell_type": "code",
   "execution_count": 32,
   "metadata": {},
   "outputs": [
    {
     "data": {
      "text/plain": [
       "100"
      ]
     },
     "execution_count": 32,
     "metadata": {},
     "output_type": "execute_result"
    }
   ],
   "source": [
    "n_files"
   ]
  },
  {
   "cell_type": "code",
   "execution_count": 33,
   "metadata": {},
   "outputs": [
    {
     "data": {
      "text/plain": [
       "<keras.engine.training.Model at 0x7f8a7e151450>"
      ]
     },
     "execution_count": 33,
     "metadata": {},
     "output_type": "execute_result"
    }
   ],
   "source": [
    "mlp_logistic"
   ]
  },
  {
   "cell_type": "code",
   "execution_count": 34,
   "metadata": {},
   "outputs": [
    {
     "name": "stdout",
     "output_type": "stream",
     "text": [
      "(738, 47181)\n"
     ]
    }
   ],
   "source": [
    "y_true = list()\n",
    "y_pred = list()\n",
    "\n",
    "predict_steps, n_test_events = get_n_iterations(fnames_test[:n_files], 64)\n",
    "print(predict_steps, n_test_events)\n",
    "\n",
    "data_gen = generator_tz(fnames_test[:n_files], batch_size=64)\n",
    "for i in range(predict_steps):\n",
    "    ZT_batch, Y_batch_true = next(data_gen)\n",
    "    Y_batch_pred = mlp_logistic.predict_on_batch(ZT_batch)\n",
    "    y_batch_pred = np.argmax(Y_batch_pred, axis=1)\n",
    "    y_batch_true = np.argmax(Y_batch_true, axis=1)\n",
    "    y_true.append(y_batch_true)\n",
    "    y_pred.append(y_batch_pred)\n",
    "    \n",
    "y_true = np.hstack(np.asarray(y_true))\n",
    "y_pred = np.hstack(np.asarray(y_pred))"
   ]
  },
  {
   "cell_type": "code",
   "execution_count": 35,
   "metadata": {},
   "outputs": [
    {
     "name": "stdout",
     "output_type": "stream",
     "text": [
      "0.91439350586\n"
     ]
    }
   ],
   "source": [
    "score = accuracy_score(y_true, y_pred)\n",
    "print(score)"
   ]
  },
  {
   "cell_type": "code",
   "execution_count": null,
   "metadata": {
    "collapsed": true
   },
   "outputs": [],
   "source": []
  }
 ],
 "metadata": {
  "kernelspec": {
   "display_name": "Python 2",
   "language": "python",
   "name": "python2"
  },
  "language_info": {
   "codemirror_mode": {
    "name": "ipython",
    "version": 2
   },
   "file_extension": ".py",
   "mimetype": "text/x-python",
   "name": "python",
   "nbconvert_exporter": "python",
   "pygments_lexer": "ipython2",
   "version": "2.7.9"
  }
 },
 "nbformat": 4,
 "nbformat_minor": 2
}
