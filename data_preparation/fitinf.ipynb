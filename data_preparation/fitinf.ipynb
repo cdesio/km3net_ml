{
 "cells": [
  {
   "cell_type": "code",
   "execution_count": 1,
   "metadata": {
    "collapsed": true
   },
   "outputs": [],
   "source": [
    "import numpy as np\n",
    "import root_numpy as rnp\n",
    "import os"
   ]
  },
  {
   "cell_type": "code",
   "execution_count": 2,
   "metadata": {
    "collapsed": true
   },
   "outputs": [],
   "source": [
    "from data_files import get_reco_files"
   ]
  },
  {
   "cell_type": "code",
   "execution_count": 41,
   "metadata": {
    "collapsed": true
   },
   "outputs": [],
   "source": [
    "data_dir = os.path.abspath(\"/data/km3net\")"
   ]
  },
  {
   "cell_type": "code",
   "execution_count": 4,
   "metadata": {
    "collapsed": true
   },
   "outputs": [],
   "source": [
    "reco_dir = os.path.join(data_dir,\"extracted_trees_reco_files\")"
   ]
  },
  {
   "cell_type": "code",
   "execution_count": 5,
   "metadata": {
    "collapsed": true
   },
   "outputs": [],
   "source": [
    "reco_files_numu = get_reco_files(reco_dir, merge=False)[0]"
   ]
  },
  {
   "cell_type": "code",
   "execution_count": 6,
   "metadata": {
    "collapsed": true
   },
   "outputs": [
    {
     "data": {
      "text/plain": [
       "['/data/km3net/extracted_trees_reco_files/km3_v4_numuCC_1.evt.JEnergy.rootreco_trees.npz',\n",
       " '/data/km3net/extracted_trees_reco_files/km3_v4_numuCC_2.evt.JEnergy.rootreco_trees.npz',\n",
       " '/data/km3net/extracted_trees_reco_files/km3_v4_numuCC_3.evt.JEnergy.rootreco_trees.npz',\n",
       " '/data/km3net/extracted_trees_reco_files/km3_v4_numuCC_4.evt.JEnergy.rootreco_trees.npz',\n",
       " '/data/km3net/extracted_trees_reco_files/km3_v4_numuCC_5.evt.JEnergy.rootreco_trees.npz',\n",
       " '/data/km3net/extracted_trees_reco_files/km3_v4_numuCC_6.evt.JEnergy.rootreco_trees.npz',\n",
       " '/data/km3net/extracted_trees_reco_files/km3_v4_numuCC_7.evt.JEnergy.rootreco_trees.npz',\n",
       " '/data/km3net/extracted_trees_reco_files/km3_v4_numuCC_8.evt.JEnergy.rootreco_trees.npz',\n",
       " '/data/km3net/extracted_trees_reco_files/km3_v4_numuCC_9.evt.JEnergy.rootreco_trees.npz',\n",
       " '/data/km3net/extracted_trees_reco_files/km3_v4_numuCC_10.evt.JEnergy.rootreco_trees.npz',\n",
       " '/data/km3net/extracted_trees_reco_files/km3_v4_numuCC_11.evt.JEnergy.rootreco_trees.npz',\n",
       " '/data/km3net/extracted_trees_reco_files/km3_v4_numuCC_12.evt.JEnergy.rootreco_trees.npz',\n",
       " '/data/km3net/extracted_trees_reco_files/km3_v4_numuCC_13.evt.JEnergy.rootreco_trees.npz',\n",
       " '/data/km3net/extracted_trees_reco_files/km3_v4_numuCC_14.evt.JEnergy.rootreco_trees.npz',\n",
       " '/data/km3net/extracted_trees_reco_files/km3_v4_numuCC_15.evt.JEnergy.rootreco_trees.npz',\n",
       " '/data/km3net/extracted_trees_reco_files/km3_v4_numuCC_16.evt.JEnergy.rootreco_trees.npz',\n",
       " '/data/km3net/extracted_trees_reco_files/km3_v4_numuCC_17.evt.JEnergy.rootreco_trees.npz',\n",
       " '/data/km3net/extracted_trees_reco_files/km3_v4_numuCC_18.evt.JEnergy.rootreco_trees.npz',\n",
       " '/data/km3net/extracted_trees_reco_files/km3_v4_numuCC_19.evt.JEnergy.rootreco_trees.npz',\n",
       " '/data/km3net/extracted_trees_reco_files/km3_v4_numuCC_20.evt.JEnergy.rootreco_trees.npz',\n",
       " '/data/km3net/extracted_trees_reco_files/km3_v4_numuCC_21.evt.JEnergy.rootreco_trees.npz',\n",
       " '/data/km3net/extracted_trees_reco_files/km3_v4_numuCC_22.evt.JEnergy.rootreco_trees.npz',\n",
       " '/data/km3net/extracted_trees_reco_files/km3_v4_numuCC_23.evt.JEnergy.rootreco_trees.npz',\n",
       " '/data/km3net/extracted_trees_reco_files/km3_v4_numuCC_24.evt.JEnergy.rootreco_trees.npz',\n",
       " '/data/km3net/extracted_trees_reco_files/km3_v4_numuCC_25.evt.JEnergy.rootreco_trees.npz',\n",
       " '/data/km3net/extracted_trees_reco_files/km3_v4_numuCC_26.evt.JEnergy.rootreco_trees.npz',\n",
       " '/data/km3net/extracted_trees_reco_files/km3_v4_numuCC_27.evt.JEnergy.rootreco_trees.npz',\n",
       " '/data/km3net/extracted_trees_reco_files/km3_v4_numuCC_28.evt.JEnergy.rootreco_trees.npz',\n",
       " '/data/km3net/extracted_trees_reco_files/km3_v4_numuCC_29.evt.JEnergy.rootreco_trees.npz',\n",
       " '/data/km3net/extracted_trees_reco_files/km3_v4_numuCC_30.evt.JEnergy.rootreco_trees.npz',\n",
       " '/data/km3net/extracted_trees_reco_files/km3_v4_numuCC_31.evt.JEnergy.rootreco_trees.npz',\n",
       " '/data/km3net/extracted_trees_reco_files/km3_v4_numuCC_32.evt.JEnergy.rootreco_trees.npz',\n",
       " '/data/km3net/extracted_trees_reco_files/km3_v4_numuCC_33.evt.JEnergy.rootreco_trees.npz',\n",
       " '/data/km3net/extracted_trees_reco_files/km3_v4_numuCC_34.evt.JEnergy.rootreco_trees.npz',\n",
       " '/data/km3net/extracted_trees_reco_files/km3_v4_numuCC_35.evt.JEnergy.rootreco_trees.npz',\n",
       " '/data/km3net/extracted_trees_reco_files/km3_v4_numuCC_36.evt.JEnergy.rootreco_trees.npz',\n",
       " '/data/km3net/extracted_trees_reco_files/km3_v4_numuCC_37.evt.JEnergy.rootreco_trees.npz',\n",
       " '/data/km3net/extracted_trees_reco_files/km3_v4_numuCC_38.evt.JEnergy.rootreco_trees.npz',\n",
       " '/data/km3net/extracted_trees_reco_files/km3_v4_numuCC_39.evt.JEnergy.rootreco_trees.npz',\n",
       " '/data/km3net/extracted_trees_reco_files/km3_v4_numuCC_40.evt.JEnergy.rootreco_trees.npz',\n",
       " '/data/km3net/extracted_trees_reco_files/km3_v4_numuCC_41.evt.JEnergy.rootreco_trees.npz',\n",
       " '/data/km3net/extracted_trees_reco_files/km3_v4_numuCC_42.evt.JEnergy.rootreco_trees.npz',\n",
       " '/data/km3net/extracted_trees_reco_files/km3_v4_numuCC_43.evt.JEnergy.rootreco_trees.npz',\n",
       " '/data/km3net/extracted_trees_reco_files/km3_v4_numuCC_44.evt.JEnergy.rootreco_trees.npz',\n",
       " '/data/km3net/extracted_trees_reco_files/km3_v4_numuCC_45.evt.JEnergy.rootreco_trees.npz',\n",
       " '/data/km3net/extracted_trees_reco_files/km3_v4_numuCC_46.evt.JEnergy.rootreco_trees.npz',\n",
       " '/data/km3net/extracted_trees_reco_files/km3_v4_numuCC_47.evt.JEnergy.rootreco_trees.npz',\n",
       " '/data/km3net/extracted_trees_reco_files/km3_v4_numuCC_48.evt.JEnergy.rootreco_trees.npz',\n",
       " '/data/km3net/extracted_trees_reco_files/km3_v4_numuCC_49.evt.JEnergy.rootreco_trees.npz',\n",
       " '/data/km3net/extracted_trees_reco_files/km3_v4_numuCC_50.evt.JEnergy.rootreco_trees.npz',\n",
       " '/data/km3net/extracted_trees_reco_files/km3_v4_numuCC_51.evt.JEnergy.rootreco_trees.npz',\n",
       " '/data/km3net/extracted_trees_reco_files/km3_v4_numuCC_52.evt.JEnergy.rootreco_trees.npz',\n",
       " '/data/km3net/extracted_trees_reco_files/km3_v4_numuCC_53.evt.JEnergy.rootreco_trees.npz',\n",
       " '/data/km3net/extracted_trees_reco_files/km3_v4_numuCC_54.evt.JEnergy.rootreco_trees.npz',\n",
       " '/data/km3net/extracted_trees_reco_files/km3_v4_numuCC_55.evt.JEnergy.rootreco_trees.npz',\n",
       " '/data/km3net/extracted_trees_reco_files/km3_v4_numuCC_56.evt.JEnergy.rootreco_trees.npz',\n",
       " '/data/km3net/extracted_trees_reco_files/km3_v4_numuCC_57.evt.JEnergy.rootreco_trees.npz',\n",
       " '/data/km3net/extracted_trees_reco_files/km3_v4_numuCC_58.evt.JEnergy.rootreco_trees.npz',\n",
       " '/data/km3net/extracted_trees_reco_files/km3_v4_numuCC_59.evt.JEnergy.rootreco_trees.npz',\n",
       " '/data/km3net/extracted_trees_reco_files/km3_v4_numuCC_60.evt.JEnergy.rootreco_trees.npz',\n",
       " '/data/km3net/extracted_trees_reco_files/km3_v4_numuCC_61.evt.JEnergy.rootreco_trees.npz',\n",
       " '/data/km3net/extracted_trees_reco_files/km3_v4_numuCC_62.evt.JEnergy.rootreco_trees.npz',\n",
       " '/data/km3net/extracted_trees_reco_files/km3_v4_numuCC_63.evt.JEnergy.rootreco_trees.npz',\n",
       " '/data/km3net/extracted_trees_reco_files/km3_v4_numuCC_64.evt.JEnergy.rootreco_trees.npz',\n",
       " '/data/km3net/extracted_trees_reco_files/km3_v4_numuCC_65.evt.JEnergy.rootreco_trees.npz',\n",
       " '/data/km3net/extracted_trees_reco_files/km3_v4_numuCC_66.evt.JEnergy.rootreco_trees.npz',\n",
       " '/data/km3net/extracted_trees_reco_files/km3_v4_numuCC_67.evt.JEnergy.rootreco_trees.npz',\n",
       " '/data/km3net/extracted_trees_reco_files/km3_v4_numuCC_68.evt.JEnergy.rootreco_trees.npz',\n",
       " '/data/km3net/extracted_trees_reco_files/km3_v4_numuCC_69.evt.JEnergy.rootreco_trees.npz',\n",
       " '/data/km3net/extracted_trees_reco_files/km3_v4_numuCC_70.evt.JEnergy.rootreco_trees.npz',\n",
       " '/data/km3net/extracted_trees_reco_files/km3_v4_numuCC_71.evt.JEnergy.rootreco_trees.npz',\n",
       " '/data/km3net/extracted_trees_reco_files/km3_v4_numuCC_72.evt.JEnergy.rootreco_trees.npz',\n",
       " '/data/km3net/extracted_trees_reco_files/km3_v4_numuCC_73.evt.JEnergy.rootreco_trees.npz',\n",
       " '/data/km3net/extracted_trees_reco_files/km3_v4_numuCC_74.evt.JEnergy.rootreco_trees.npz',\n",
       " '/data/km3net/extracted_trees_reco_files/km3_v4_numuCC_75.evt.JEnergy.rootreco_trees.npz',\n",
       " '/data/km3net/extracted_trees_reco_files/km3_v4_numuCC_76.evt.JEnergy.rootreco_trees.npz',\n",
       " '/data/km3net/extracted_trees_reco_files/km3_v4_numuCC_77.evt.JEnergy.rootreco_trees.npz',\n",
       " '/data/km3net/extracted_trees_reco_files/km3_v4_numuCC_78.evt.JEnergy.rootreco_trees.npz',\n",
       " '/data/km3net/extracted_trees_reco_files/km3_v4_numuCC_79.evt.JEnergy.rootreco_trees.npz',\n",
       " '/data/km3net/extracted_trees_reco_files/km3_v4_numuCC_80.evt.JEnergy.rootreco_trees.npz',\n",
       " '/data/km3net/extracted_trees_reco_files/km3_v4_numuCC_81.evt.JEnergy.rootreco_trees.npz',\n",
       " '/data/km3net/extracted_trees_reco_files/km3_v4_numuCC_82.evt.JEnergy.rootreco_trees.npz',\n",
       " '/data/km3net/extracted_trees_reco_files/km3_v4_numuCC_83.evt.JEnergy.rootreco_trees.npz',\n",
       " '/data/km3net/extracted_trees_reco_files/km3_v4_numuCC_84.evt.JEnergy.rootreco_trees.npz',\n",
       " '/data/km3net/extracted_trees_reco_files/km3_v4_numuCC_85.evt.JEnergy.rootreco_trees.npz',\n",
       " '/data/km3net/extracted_trees_reco_files/km3_v4_numuCC_86.evt.JEnergy.rootreco_trees.npz',\n",
       " '/data/km3net/extracted_trees_reco_files/km3_v4_numuCC_87.evt.JEnergy.rootreco_trees.npz',\n",
       " '/data/km3net/extracted_trees_reco_files/km3_v4_numuCC_88.evt.JEnergy.rootreco_trees.npz',\n",
       " '/data/km3net/extracted_trees_reco_files/km3_v4_numuCC_89.evt.JEnergy.rootreco_trees.npz',\n",
       " '/data/km3net/extracted_trees_reco_files/km3_v4_numuCC_90.evt.JEnergy.rootreco_trees.npz',\n",
       " '/data/km3net/extracted_trees_reco_files/km3_v4_numuCC_91.evt.JEnergy.rootreco_trees.npz',\n",
       " '/data/km3net/extracted_trees_reco_files/km3_v4_numuCC_92.evt.JEnergy.rootreco_trees.npz',\n",
       " '/data/km3net/extracted_trees_reco_files/km3_v4_numuCC_93.evt.JEnergy.rootreco_trees.npz',\n",
       " '/data/km3net/extracted_trees_reco_files/km3_v4_numuCC_94.evt.JEnergy.rootreco_trees.npz',\n",
       " '/data/km3net/extracted_trees_reco_files/km3_v4_numuCC_95.evt.JEnergy.rootreco_trees.npz',\n",
       " '/data/km3net/extracted_trees_reco_files/km3_v4_numuCC_96.evt.JEnergy.rootreco_trees.npz',\n",
       " '/data/km3net/extracted_trees_reco_files/km3_v4_numuCC_97.evt.JEnergy.rootreco_trees.npz',\n",
       " '/data/km3net/extracted_trees_reco_files/km3_v4_numuCC_98.evt.JEnergy.rootreco_trees.npz',\n",
       " '/data/km3net/extracted_trees_reco_files/km3_v4_numuCC_99.evt.JEnergy.rootreco_trees.npz',\n",
       " '/data/km3net/extracted_trees_reco_files/km3_v4_numuCC_100.evt.JEnergy.rootreco_trees.npz']"
      ]
     },
     "execution_count": 6,
     "metadata": {},
     "output_type": "execute_result"
    }
   ],
   "source": [
    "reco_files_numu"
   ]
  },
  {
   "cell_type": "code",
   "execution_count": 11,
   "metadata": {
    "collapsed": true
   },
   "outputs": [],
   "source": [
    "JEVT_files_numu = [os.path.join(data_dir, \"JEVT_numuCC\", \"km3_v4_numuCC_{}.evt.JEvt.root\".format(i+1)) for i in range(100)] "
   ]
  },
  {
   "cell_type": "code",
   "execution_count": 12,
   "metadata": {
    "collapsed": true
   },
   "outputs": [],
   "source": [
    "def load_fitinf(filename):\n",
    "    return(rnp.root2array(filename, treename=\"E\", branches=\"Evt.trks.fitinf\"))"
   ]
  },
  {
   "cell_type": "code",
   "execution_count": 13,
   "metadata": {
    "collapsed": true
   },
   "outputs": [
    {
     "name": "stderr",
     "output_type": "stream",
     "text": [
      "TClass::TClass:0: RuntimeWarning: no dictionary for class Evt is available\n",
      "TClass::TClass:0: RuntimeWarning: no dictionary for class AAObject is available\n",
      "TClass::TClass:0: RuntimeWarning: no dictionary for class Head is available\n",
      "TClass::TClass:0: RuntimeWarning: no dictionary for class pair<string,string> is available\n",
      "TClass::TClass:0: RuntimeWarning: no dictionary for class Hit is available\n",
      "TClass::TClass:0: RuntimeWarning: no dictionary for class Vec is available\n",
      "TClass::TClass:0: RuntimeWarning: no dictionary for class Trk is available\n"
     ]
    }
   ],
   "source": [
    "fitinfs = []\n",
    "for i in range(100):\n",
    "    fitinf = load_fitinf(JEVT_files_numu[i])\n",
    "    fitinfs.append(fitinf)"
   ]
  },
  {
   "cell_type": "code",
   "execution_count": 21,
   "metadata": {},
   "outputs": [],
   "source": [
    "zeros_out = []\n",
    "for i in range(100):\n",
    "    zeros = np.zeros((fitinfs[i].shape[0],8))\n",
    "    for evt in range(len(fitinfs[i])):\n",
    "        if len(fitinfs[i][evt])>0:\n",
    "            beta0, beta1, lik, lik_E, reco_E, chi2_alt, lamb, n_iter = fitinfs[i][evt]\n",
    "            zeros[evt]=beta0, beta1, lik, lik_E, reco_E, chi2_alt, lamb, n_iter\n",
    "    zeros_out.append(zeros)"
   ]
  },
  {
   "cell_type": "code",
   "execution_count": 33,
   "metadata": {},
   "outputs": [],
   "source": [
    "for i in range(2):\n",
    "    reco = np.load(reco_files_numu[i])\n",
    "    fitinf = zeros_out[i]\n",
    "    np.savez(os.path.join(data_dir, \"reco_files_fitinf\", \"km3_v4_numuCC_{}.evt.reco_fitinf_test.npz\".format(i+1)),\n",
    "             E = reco[\"E\"], dirx = reco[\"dirx\"], diry = reco[\"diry\"], dirz = reco[\"dirz\"],\n",
    "             posx = reco[\"posx\"], posy = reco[\"posy\"], posz = reco[\"posz\"], \n",
    "             beta0 = fitinf[:,0], lik = fitinf[:,2], ren=fitinf[:,4])\n"
   ]
  },
  {
   "cell_type": "code",
   "execution_count": 35,
   "metadata": {},
   "outputs": [],
   "source": [
    "file1= np.load(\"/data/km3net/reco_files_fitinf/km3_v4_numuCC_1.evt.reco_fitinf.npz\")[\"lik\"]"
   ]
  },
  {
   "cell_type": "code",
   "execution_count": null,
   "metadata": {
    "collapsed": true
   },
   "outputs": [],
   "source": []
  },
  {
   "cell_type": "code",
   "execution_count": 38,
   "metadata": {
    "collapsed": true
   },
   "outputs": [],
   "source": [
    "reco_files_nue = get_reco_files(reco_dir, merge=False)[1]"
   ]
  },
  {
   "cell_type": "code",
   "execution_count": 43,
   "metadata": {},
   "outputs": [],
   "source": [
    "JEVT_files_nue = [os.path.join(data_dir, \"JEVT_nueCC\", \n",
    "                               \"km3_v4_nueCC_{}.evt.JEvt.root\".format(i+1)) for i in range(100)] "
   ]
  },
  {
   "cell_type": "code",
   "execution_count": 44,
   "metadata": {},
   "outputs": [],
   "source": [
    "fitinfs = []\n",
    "for i in range(100):\n",
    "    fitinf = load_fitinf(JEVT_files_nue[i])\n",
    "    fitinfs.append(fitinf)"
   ]
  },
  {
   "cell_type": "code",
   "execution_count": 45,
   "metadata": {
    "collapsed": true
   },
   "outputs": [],
   "source": [
    "zeros_out = []\n",
    "for i in range(100):\n",
    "    zeros = np.zeros((fitinfs[i].shape[0],8))\n",
    "    for evt in range(len(fitinfs[i])):\n",
    "        if len(fitinfs[i][evt])>0:\n",
    "            beta0, beta1, lik, lik_E, reco_E, chi2_alt, lamb, n_iter = fitinfs[i][evt]\n",
    "            zeros[evt]=beta0, beta1, lik, lik_E, reco_E, chi2_alt, lamb, n_iter\n",
    "    zeros_out.append(zeros)"
   ]
  },
  {
   "cell_type": "code",
   "execution_count": 47,
   "metadata": {
    "collapsed": true
   },
   "outputs": [],
   "source": [
    "for i in range(100):\n",
    "    reco = np.load(reco_files_numu[i])\n",
    "    fitinf = zeros_out[i]\n",
    "    np.savez(os.path.join(data_dir, \"reco_files_fitinf\", \"km3_v4_nueCC_{}.evt.reco_fitinf.npz\".format(i+1)),\n",
    "             E = reco[\"E\"], dirx = reco[\"dirx\"], diry = reco[\"diry\"], dirz = reco[\"dirz\"],\n",
    "             posx = reco[\"posx\"], posy = reco[\"posy\"], posz = reco[\"posz\"], \n",
    "             beta0 = fitinf[:,0], lik = fitinf[:,2], ren=fitinf[:,4])"
   ]
  },
  {
   "cell_type": "code",
   "execution_count": null,
   "metadata": {
    "collapsed": true
   },
   "outputs": [],
   "source": []
  }
 ],
 "metadata": {
  "kernelspec": {
   "display_name": "Python 2",
   "language": "python",
   "name": "python2"
  },
  "language_info": {
   "codemirror_mode": {
    "name": "ipython",
    "version": 2
   },
   "file_extension": ".py",
   "mimetype": "text/x-python",
   "name": "python",
   "nbconvert_exporter": "python",
   "pygments_lexer": "ipython2",
   "version": "2.7.6"
  }
 },
 "nbformat": 4,
 "nbformat_minor": 2
}
